{
 "cells": [
  {
   "cell_type": "code",
   "execution_count": 9,
   "id": "24572643-7043-490c-aed5-fd59f9a2f5df",
   "metadata": {},
   "outputs": [],
   "source": [
    "import matplotlib.pyplot as plt\n",
    "import numpy as np\n",
    "from tqdm import tqdm\n",
    "import pandas as pd\n",
    "import os\n",
    "from nltools.data import Brain_Data\n",
    "from nltools.mask import expand_mask, roi_to_brain\n",
    "from nilearn.plotting import view_img_on_surf, view_img\n",
    "from nltools.stats import isc, threshold, fdr\n",
    "\n",
    "\n",
    "def extract_event_segments(event_vector, event_duration=4, min_non_event_duration=4):\n",
    "    \"\"\"\n",
    "    Extract event segments and non-event segments from a binary vector.\n",
    "    \n",
    "    Parameters:\n",
    "    -----------\n",
    "    event_vector : array-like\n",
    "        Binary vector of 0s and 1s where 1s indicate events.\n",
    "    event_duration : int, optional\n",
    "        How many time points to include after each event onset (default: 5).\n",
    "    min_non_event_duration : int, optional\n",
    "        Minimum duration for non-event segments to be included (default: 5).\n",
    "    \n",
    "    Returns:\n",
    "    --------\n",
    "    tuple\n",
    "        (event_segments, non_event_segments)\n",
    "        Each is a list of tuples (start, end) indicating segment boundaries (inclusive).\n",
    "    \"\"\"\n",
    "    event_vector = np.array(event_vector)\n",
    "    n = len(event_vector)\n",
    "    \n",
    "    # Find event onsets (1s that follow 0s or are at the beginning)\n",
    "    onsets = np.where(np.diff(np.hstack(([0], event_vector))) == 1)[0]\n",
    "    \n",
    "    # Initialize event segments list\n",
    "    event_segments = []\n",
    "    \n",
    "    # Process each onset\n",
    "    for onset in onsets:\n",
    "        # Calculate the end of this segment (onset + duration - 1)\n",
    "        # Ensuring it doesn't exceed the vector length\n",
    "        end = min(onset + event_duration - 1, n - 1)\n",
    "        \n",
    "        # Check if we need to merge with the previous segment\n",
    "        if event_segments and onset <= event_segments[-1][1]:\n",
    "            # Merge by extending the end of the previous segment if needed\n",
    "            event_segments[-1] = (event_segments[-1][0], max(event_segments[-1][1], end))\n",
    "        else:\n",
    "            # Create a new segment\n",
    "            event_segments.append((onset, end))\n",
    "    \n",
    "    # Create non-event segments by negating event segments\n",
    "    non_event_segments = []\n",
    "    \n",
    "    # If no events, the whole vector is a non-event\n",
    "    if not event_segments:\n",
    "        non_event_segments = [(0, n - 1)]\n",
    "    else:\n",
    "        # Handle potential non-event segment before first event\n",
    "        if event_segments[0][0] > 0:\n",
    "            start = 0\n",
    "            end = event_segments[0][0] - 1\n",
    "            if end - start + 1 >= min_non_event_duration:\n",
    "                non_event_segments.append((start, end))\n",
    "        \n",
    "        # Handle non-event segments between events\n",
    "        for i in range(len(event_segments) - 1):\n",
    "            start = event_segments[i][1] + 1\n",
    "            end = event_segments[i + 1][0] - 1\n",
    "            if end >= start and end - start + 1 >= min_non_event_duration:\n",
    "                non_event_segments.append((start, end))\n",
    "        \n",
    "        # Handle potential non-event segment after last event\n",
    "        if event_segments[-1][1] < n - 1:\n",
    "            start = event_segments[-1][1] + 1\n",
    "            end = n - 1\n",
    "            if end - start + 1 >= min_non_event_duration:\n",
    "                non_event_segments.append((start, end))\n",
    "    \n",
    "    return event_segments, non_event_segments"
   ]
  },
  {
   "cell_type": "code",
   "execution_count": 10,
   "id": "f4875d5f-f8cc-45c1-a18c-690b8089bc0e",
   "metadata": {},
   "outputs": [
    {
     "data": {
      "text/plain": [
       "['s01e01a', 's01e01b', 's01e02a']"
      ]
     },
     "execution_count": 10,
     "metadata": {},
     "output_type": "execute_result"
    }
   ],
   "source": [
    "folder_path = '/Users/schmaelz/Documents/01_GITHUB/nomcomm/GITHUB_PAPERS_WORKING/friends/data/00_raw_fmri/'  # <-- change to your folder\n",
    "raw_files = []\n",
    "for root, dirs, files in os.walk(folder_path):\n",
    "    for file in files:\n",
    "        if file.lower().endswith('.npy') and \"._\" not in file:\n",
    "            raw_files.append(file[5:12])\n",
    "\n",
    "raw_files.sort()\n",
    "raw_files[:3]"
   ]
  },
  {
   "cell_type": "code",
   "execution_count": 27,
   "id": "2d2f38df-65ad-42bc-80ab-f188dfaa7237",
   "metadata": {},
   "outputs": [],
   "source": [
    "def run_concat_isc(curr_show_name, hrf_shift = 3):\n",
    "\n",
    "    #curr_show_name = raw_files[0]\n",
    "    \n",
    "    laughter_file = '../data/02_laughter/laughter_annotations/friends_' + curr_show_name + '.csv'\n",
    "    print(laughter_file)\n",
    "    raw_data_path = '../data/00_raw_fmri/task-' + curr_show_name + '.npy'\n",
    "    \n",
    "    df = pd.read_csv(laughter_file)\n",
    "    laughter_segments, non_laughter_segments = extract_event_segments(df.ls.values)\n",
    "            \n",
    "    data = np.load(raw_data_path)\n",
    "    [x, y, z] = data.shape\n",
    "                      \n",
    "    #for the laughter events ISC    \n",
    "    # concatenate segments\n",
    "    result_laughter = None  # start with nothing\n",
    "    print('n laughter segments:')\n",
    "    print(len(laughter_segments))\n",
    "    for current_event_index in range(len(laughter_segments)):\n",
    "        curr_onset   = laughter_segments[current_event_index][0] + hrf_shift\n",
    "        curr_offset  = laughter_segments[current_event_index][1] + hrf_shift\n",
    "        if curr_offset > y: #catch if we overflow\n",
    "            curr_offset = y\n",
    "        if result_laughter is None:\n",
    "            result_laughter = data[:, curr_onset:curr_offset, :]\n",
    "        else:\n",
    "            # Subsequent arrays: concatenate along axis=1\n",
    "            result_laughter = np.concatenate((result_laughter, data[:, curr_onset:curr_offset, :]), axis=1)\n",
    "    \n",
    "    # loop over rois and computer ISC\n",
    "    isc_results = []\n",
    "    for curr_roi in (range(1000)):\n",
    "        #isc_results = []\n",
    "        data_roi_df = pd.DataFrame( result_laughter[:, :, curr_roi].T)\n",
    "        stats_boot = isc(data_roi_df, metric = 'mean', method='phase_randomize', n_samples=1, return_null=False);\n",
    "        isc_results.append(stats_boot['isc']);\n",
    "    \n",
    "    isc_results_laughter = np.asarray(isc_results)\n",
    "    out_name1 = '../data/02_laughter/laughter_iscs/' + curr_show_name + '_laughter_segment_isc.npy'\n",
    "    np.save(out_name1, isc_results_laughter)\n",
    "    \n",
    "    #for the non laughter events ISC\n",
    "    # concatenate segments\n",
    "    result_no_laughter = None  # start with nothing\n",
    "    print('n nonlaughter segments:')\n",
    "    print(len(non_laughter_segments))\n",
    "    for current_event_index in range(len(non_laughter_segments)):\n",
    "        curr_onset   = non_laughter_segments[current_event_index][0] + hrf_shift\n",
    "        curr_offset  = non_laughter_segments[current_event_index][1] + hrf_shift\n",
    "        if curr_offset > y: #catch if we overflow\n",
    "            curr_offset = y\n",
    "        if result_no_laughter is None:\n",
    "            result_no_laughter = data[:, curr_onset:curr_offset, :]\n",
    "        else:\n",
    "            # Subsequent arrays: concatenate along axis=1\n",
    "            result_no_laughter = np.concatenate((result_no_laughter, data[:, curr_onset:curr_offset, :]), axis=1)\n",
    "    \n",
    "    # loop over rois and computer ISC\n",
    "    isc_results = []\n",
    "    for curr_roi in (range(1000)):\n",
    "        #isc_results = []\n",
    "        data_roi_df = pd.DataFrame( result_no_laughter[:, :, curr_roi].T)\n",
    "        stats_boot = isc(data_roi_df, metric = 'mean', method='phase_randomize', n_samples=1, return_null=False);\n",
    "        isc_results.append(stats_boot['isc']);\n",
    "    \n",
    "    isc_results_no_laughter = np.asarray(isc_results)\n",
    "    out_name2 = '../data/02_laughter/laughter_iscs/' + curr_show_name + '_no_laughter_segment_isc.npy'\n",
    "    np.save(out_name2, isc_results_no_laughter)\n",
    "    \n",
    "    return isc_results_laughter, isc_results_no_laughter"
   ]
  },
  {
   "cell_type": "code",
   "execution_count": 29,
   "id": "eaa56bab-e7ae-40f6-b15f-c269662804e1",
   "metadata": {},
   "outputs": [
    {
     "name": "stderr",
     "output_type": "stream",
     "text": [
      "  0%|                                                   | 0/280 [00:00<?, ?it/s]"
     ]
    },
    {
     "name": "stdout",
     "output_type": "stream",
     "text": [
      "../data/02_laughter/laughter_annotations/friends_s01e01a.csv\n",
      "n laughter segments:\n",
      "72\n",
      "n nonlaughter segments:\n",
      "30\n"
     ]
    },
    {
     "name": "stderr",
     "output_type": "stream",
     "text": [
      "  0%|▏                                        | 1/280 [00:32<2:29:35, 32.17s/it]"
     ]
    },
    {
     "name": "stdout",
     "output_type": "stream",
     "text": [
      "../data/02_laughter/laughter_annotations/friends_s01e01b.csv\n",
      "n laughter segments:\n",
      "65\n",
      "n nonlaughter segments:\n",
      "27\n"
     ]
    },
    {
     "name": "stderr",
     "output_type": "stream",
     "text": [
      "  1%|▎                                        | 2/280 [01:04<2:29:13, 32.21s/it]"
     ]
    },
    {
     "name": "stdout",
     "output_type": "stream",
     "text": [
      "../data/02_laughter/laughter_annotations/friends_s01e02a.csv\n",
      "n laughter segments:\n",
      "65\n",
      "n nonlaughter segments:\n",
      "22\n"
     ]
    },
    {
     "name": "stderr",
     "output_type": "stream",
     "text": [
      "  1%|▍                                        | 3/280 [01:36<2:29:03, 32.29s/it]"
     ]
    },
    {
     "name": "stdout",
     "output_type": "stream",
     "text": [
      "../data/02_laughter/laughter_annotations/friends_s01e02b.csv\n",
      "n laughter segments:\n",
      "50\n",
      "n nonlaughter segments:\n",
      "26\n"
     ]
    },
    {
     "name": "stderr",
     "output_type": "stream",
     "text": [
      "  1%|▌                                        | 4/280 [02:09<2:28:27, 32.27s/it]"
     ]
    },
    {
     "name": "stdout",
     "output_type": "stream",
     "text": [
      "../data/02_laughter/laughter_annotations/friends_s01e03a.csv\n",
      "n laughter segments:\n",
      "56\n",
      "n nonlaughter segments:\n",
      "26\n"
     ]
    },
    {
     "name": "stderr",
     "output_type": "stream",
     "text": [
      "  2%|▋                                        | 5/280 [02:41<2:27:52, 32.26s/it]"
     ]
    },
    {
     "name": "stdout",
     "output_type": "stream",
     "text": [
      "../data/02_laughter/laughter_annotations/friends_s01e03b.csv\n",
      "n laughter segments:\n",
      "55\n",
      "n nonlaughter segments:\n",
      "24\n"
     ]
    },
    {
     "name": "stderr",
     "output_type": "stream",
     "text": [
      "  2%|▉                                        | 6/280 [03:13<2:27:38, 32.33s/it]"
     ]
    },
    {
     "name": "stdout",
     "output_type": "stream",
     "text": [
      "../data/02_laughter/laughter_annotations/friends_s01e04a.csv\n",
      "n laughter segments:\n",
      "64\n",
      "n nonlaughter segments:\n",
      "23\n"
     ]
    },
    {
     "name": "stderr",
     "output_type": "stream",
     "text": [
      "  2%|█                                        | 7/280 [03:45<2:26:51, 32.28s/it]"
     ]
    },
    {
     "name": "stdout",
     "output_type": "stream",
     "text": [
      "../data/02_laughter/laughter_annotations/friends_s01e04b.csv\n",
      "n laughter segments:\n",
      "52\n",
      "n nonlaughter segments:\n",
      "29\n"
     ]
    },
    {
     "name": "stderr",
     "output_type": "stream",
     "text": [
      "  3%|█▏                                       | 8/280 [04:18<2:26:28, 32.31s/it]"
     ]
    },
    {
     "name": "stdout",
     "output_type": "stream",
     "text": [
      "../data/02_laughter/laughter_annotations/friends_s01e05a.csv\n",
      "n laughter segments:\n",
      "56\n",
      "n nonlaughter segments:\n",
      "26\n"
     ]
    },
    {
     "name": "stderr",
     "output_type": "stream",
     "text": [
      "  3%|█▎                                       | 9/280 [04:50<2:25:59, 32.32s/it]"
     ]
    },
    {
     "name": "stdout",
     "output_type": "stream",
     "text": [
      "../data/02_laughter/laughter_annotations/friends_s01e05b.csv\n",
      "n laughter segments:\n",
      "49\n",
      "n nonlaughter segments:\n",
      "23\n"
     ]
    },
    {
     "name": "stderr",
     "output_type": "stream",
     "text": [
      "  4%|█▍                                      | 10/280 [05:22<2:25:23, 32.31s/it]"
     ]
    },
    {
     "name": "stdout",
     "output_type": "stream",
     "text": [
      "../data/02_laughter/laughter_annotations/friends_s01e06a.csv\n",
      "n laughter segments:\n",
      "61\n",
      "n nonlaughter segments:\n",
      "23\n"
     ]
    },
    {
     "name": "stderr",
     "output_type": "stream",
     "text": [
      "  4%|█▌                                      | 11/280 [05:55<2:24:34, 32.25s/it]"
     ]
    },
    {
     "name": "stdout",
     "output_type": "stream",
     "text": [
      "../data/02_laughter/laughter_annotations/friends_s01e06b.csv\n",
      "n laughter segments:\n",
      "54\n",
      "n nonlaughter segments:\n",
      "29\n"
     ]
    },
    {
     "name": "stderr",
     "output_type": "stream",
     "text": [
      "  4%|█▋                                      | 12/280 [06:27<2:24:01, 32.24s/it]"
     ]
    },
    {
     "name": "stdout",
     "output_type": "stream",
     "text": [
      "../data/02_laughter/laughter_annotations/friends_s01e07a.csv\n",
      "n laughter segments:\n",
      "54\n",
      "n nonlaughter segments:\n",
      "25\n"
     ]
    },
    {
     "name": "stderr",
     "output_type": "stream",
     "text": [
      "  5%|█▊                                      | 13/280 [06:58<2:22:26, 32.01s/it]"
     ]
    },
    {
     "name": "stdout",
     "output_type": "stream",
     "text": [
      "../data/02_laughter/laughter_annotations/friends_s01e07b.csv\n",
      "n laughter segments:\n",
      "54\n",
      "n nonlaughter segments:\n",
      "24\n"
     ]
    },
    {
     "name": "stderr",
     "output_type": "stream",
     "text": [
      "  5%|██                                      | 14/280 [07:31<2:22:17, 32.10s/it]"
     ]
    },
    {
     "name": "stdout",
     "output_type": "stream",
     "text": [
      "../data/02_laughter/laughter_annotations/friends_s01e08a.csv\n",
      "n laughter segments:\n",
      "51\n",
      "n nonlaughter segments:\n",
      "26\n"
     ]
    },
    {
     "name": "stderr",
     "output_type": "stream",
     "text": [
      "  5%|██▏                                     | 15/280 [08:03<2:21:36, 32.06s/it]"
     ]
    },
    {
     "name": "stdout",
     "output_type": "stream",
     "text": [
      "../data/02_laughter/laughter_annotations/friends_s01e08b.csv\n",
      "n laughter segments:\n",
      "53\n",
      "n nonlaughter segments:\n",
      "21\n"
     ]
    },
    {
     "name": "stderr",
     "output_type": "stream",
     "text": [
      "  6%|██▎                                     | 16/280 [08:33<2:18:27, 31.47s/it]"
     ]
    },
    {
     "name": "stdout",
     "output_type": "stream",
     "text": [
      "../data/02_laughter/laughter_annotations/friends_s01e09a.csv\n",
      "n laughter segments:\n",
      "48\n",
      "n nonlaughter segments:\n",
      "23\n"
     ]
    },
    {
     "name": "stderr",
     "output_type": "stream",
     "text": [
      "  6%|██▍                                     | 17/280 [09:02<2:14:45, 30.74s/it]"
     ]
    },
    {
     "name": "stdout",
     "output_type": "stream",
     "text": [
      "../data/02_laughter/laughter_annotations/friends_s01e09b.csv\n",
      "n laughter segments:\n",
      "58\n",
      "n nonlaughter segments:\n",
      "20\n"
     ]
    },
    {
     "name": "stderr",
     "output_type": "stream",
     "text": [
      "  6%|██▌                                     | 18/280 [09:30<2:11:40, 30.16s/it]"
     ]
    },
    {
     "name": "stdout",
     "output_type": "stream",
     "text": [
      "../data/02_laughter/laughter_annotations/friends_s01e10a.csv\n",
      "n laughter segments:\n",
      "54\n",
      "n nonlaughter segments:\n",
      "27\n"
     ]
    },
    {
     "name": "stderr",
     "output_type": "stream",
     "text": [
      "  7%|██▋                                     | 19/280 [09:59<2:09:12, 29.70s/it]"
     ]
    },
    {
     "name": "stdout",
     "output_type": "stream",
     "text": [
      "../data/02_laughter/laughter_annotations/friends_s01e10b.csv\n",
      "n laughter segments:\n",
      "50\n",
      "n nonlaughter segments:\n",
      "23\n"
     ]
    },
    {
     "name": "stderr",
     "output_type": "stream",
     "text": [
      "  7%|██▊                                     | 20/280 [10:28<2:07:14, 29.37s/it]"
     ]
    },
    {
     "name": "stdout",
     "output_type": "stream",
     "text": [
      "../data/02_laughter/laughter_annotations/friends_s01e11a.csv\n",
      "n laughter segments:\n",
      "54\n",
      "n nonlaughter segments:\n",
      "21\n"
     ]
    },
    {
     "name": "stderr",
     "output_type": "stream",
     "text": [
      "  8%|███                                     | 21/280 [10:56<2:05:37, 29.10s/it]"
     ]
    },
    {
     "name": "stdout",
     "output_type": "stream",
     "text": [
      "../data/02_laughter/laughter_annotations/friends_s01e11b.csv\n",
      "n laughter segments:\n",
      "49\n",
      "n nonlaughter segments:\n",
      "26\n"
     ]
    },
    {
     "name": "stderr",
     "output_type": "stream",
     "text": [
      "  8%|███▏                                    | 22/280 [11:25<2:04:30, 28.95s/it]"
     ]
    },
    {
     "name": "stdout",
     "output_type": "stream",
     "text": [
      "../data/02_laughter/laughter_annotations/friends_s01e12a.csv\n",
      "n laughter segments:\n",
      "51\n",
      "n nonlaughter segments:\n",
      "19\n"
     ]
    },
    {
     "name": "stderr",
     "output_type": "stream",
     "text": [
      "  8%|███▎                                    | 23/280 [11:53<2:03:18, 28.79s/it]"
     ]
    },
    {
     "name": "stdout",
     "output_type": "stream",
     "text": [
      "../data/02_laughter/laughter_annotations/friends_s01e12b.csv\n",
      "n laughter segments:\n",
      "42\n",
      "n nonlaughter segments:\n",
      "22\n"
     ]
    },
    {
     "name": "stderr",
     "output_type": "stream",
     "text": [
      "  9%|███▍                                    | 24/280 [12:22<2:02:51, 28.79s/it]"
     ]
    },
    {
     "name": "stdout",
     "output_type": "stream",
     "text": [
      "../data/02_laughter/laughter_annotations/friends_s01e13a.csv\n",
      "n laughter segments:\n",
      "50\n",
      "n nonlaughter segments:\n",
      "24\n"
     ]
    },
    {
     "name": "stderr",
     "output_type": "stream",
     "text": [
      "  9%|███▌                                    | 25/280 [12:51<2:02:22, 28.79s/it]"
     ]
    },
    {
     "name": "stdout",
     "output_type": "stream",
     "text": [
      "../data/02_laughter/laughter_annotations/friends_s01e13b.csv\n",
      "n laughter segments:\n",
      "48\n",
      "n nonlaughter segments:\n",
      "30\n"
     ]
    },
    {
     "name": "stderr",
     "output_type": "stream",
     "text": [
      "  9%|███▋                                    | 26/280 [13:20<2:02:30, 28.94s/it]"
     ]
    },
    {
     "name": "stdout",
     "output_type": "stream",
     "text": [
      "../data/02_laughter/laughter_annotations/friends_s01e14a.csv\n",
      "n laughter segments:\n",
      "61\n",
      "n nonlaughter segments:\n",
      "23\n"
     ]
    },
    {
     "name": "stderr",
     "output_type": "stream",
     "text": [
      " 10%|███▊                                    | 27/280 [13:49<2:01:57, 28.92s/it]"
     ]
    },
    {
     "name": "stdout",
     "output_type": "stream",
     "text": [
      "../data/02_laughter/laughter_annotations/friends_s01e14b.csv\n",
      "n laughter segments:\n",
      "56\n",
      "n nonlaughter segments:\n",
      "20\n"
     ]
    },
    {
     "name": "stderr",
     "output_type": "stream",
     "text": [
      " 10%|████                                    | 28/280 [14:18<2:01:46, 28.99s/it]"
     ]
    },
    {
     "name": "stdout",
     "output_type": "stream",
     "text": [
      "../data/02_laughter/laughter_annotations/friends_s01e15a.csv\n",
      "n laughter segments:\n",
      "50\n",
      "n nonlaughter segments:\n",
      "28\n"
     ]
    },
    {
     "name": "stderr",
     "output_type": "stream",
     "text": [
      " 10%|████▏                                   | 29/280 [14:48<2:02:19, 29.24s/it]"
     ]
    },
    {
     "name": "stdout",
     "output_type": "stream",
     "text": [
      "../data/02_laughter/laughter_annotations/friends_s01e15b.csv\n",
      "n laughter segments:\n",
      "58\n",
      "n nonlaughter segments:\n",
      "31\n"
     ]
    },
    {
     "name": "stderr",
     "output_type": "stream",
     "text": [
      " 11%|████▎                                   | 30/280 [15:17<2:01:54, 29.26s/it]"
     ]
    },
    {
     "name": "stdout",
     "output_type": "stream",
     "text": [
      "../data/02_laughter/laughter_annotations/friends_s01e16a.csv\n",
      "n laughter segments:\n",
      "54\n",
      "n nonlaughter segments:\n",
      "22\n"
     ]
    },
    {
     "name": "stderr",
     "output_type": "stream",
     "text": [
      " 11%|████▍                                   | 31/280 [15:46<2:01:23, 29.25s/it]"
     ]
    },
    {
     "name": "stdout",
     "output_type": "stream",
     "text": [
      "../data/02_laughter/laughter_annotations/friends_s01e16b.csv\n",
      "n laughter segments:\n",
      "53\n",
      "n nonlaughter segments:\n",
      "25\n"
     ]
    },
    {
     "name": "stderr",
     "output_type": "stream",
     "text": [
      " 11%|████▌                                   | 32/280 [16:15<1:59:33, 28.92s/it]"
     ]
    },
    {
     "name": "stdout",
     "output_type": "stream",
     "text": [
      "../data/02_laughter/laughter_annotations/friends_s01e17a.csv\n",
      "n laughter segments:\n",
      "53\n",
      "n nonlaughter segments:\n",
      "22\n"
     ]
    },
    {
     "name": "stderr",
     "output_type": "stream",
     "text": [
      " 12%|████▋                                   | 33/280 [16:43<1:58:50, 28.87s/it]"
     ]
    },
    {
     "name": "stdout",
     "output_type": "stream",
     "text": [
      "../data/02_laughter/laughter_annotations/friends_s01e17b.csv\n",
      "n laughter segments:\n",
      "42\n",
      "n nonlaughter segments:\n",
      "20\n"
     ]
    },
    {
     "name": "stderr",
     "output_type": "stream",
     "text": [
      " 12%|████▊                                   | 34/280 [17:12<1:57:59, 28.78s/it]"
     ]
    },
    {
     "name": "stdout",
     "output_type": "stream",
     "text": [
      "../data/02_laughter/laughter_annotations/friends_s01e18a.csv\n",
      "n laughter segments:\n",
      "62\n",
      "n nonlaughter segments:\n",
      "28\n"
     ]
    },
    {
     "name": "stderr",
     "output_type": "stream",
     "text": [
      " 12%|█████                                   | 35/280 [17:40<1:57:03, 28.67s/it]"
     ]
    },
    {
     "name": "stdout",
     "output_type": "stream",
     "text": [
      "../data/02_laughter/laughter_annotations/friends_s01e18b.csv\n",
      "n laughter segments:\n",
      "45\n",
      "n nonlaughter segments:\n",
      "28\n"
     ]
    },
    {
     "name": "stderr",
     "output_type": "stream",
     "text": [
      " 13%|█████▏                                  | 36/280 [18:08<1:55:39, 28.44s/it]"
     ]
    },
    {
     "name": "stdout",
     "output_type": "stream",
     "text": [
      "../data/02_laughter/laughter_annotations/friends_s01e19a.csv\n",
      "n laughter segments:\n",
      "49\n",
      "n nonlaughter segments:\n",
      "25\n"
     ]
    },
    {
     "name": "stderr",
     "output_type": "stream",
     "text": [
      " 13%|█████▎                                  | 37/280 [18:36<1:54:08, 28.18s/it]"
     ]
    },
    {
     "name": "stdout",
     "output_type": "stream",
     "text": [
      "../data/02_laughter/laughter_annotations/friends_s01e19b.csv\n",
      "n laughter segments:\n",
      "50\n",
      "n nonlaughter segments:\n",
      "27\n"
     ]
    },
    {
     "name": "stderr",
     "output_type": "stream",
     "text": [
      " 14%|█████▍                                  | 38/280 [19:04<1:53:28, 28.14s/it]"
     ]
    },
    {
     "name": "stdout",
     "output_type": "stream",
     "text": [
      "../data/02_laughter/laughter_annotations/friends_s01e20a.csv\n",
      "n laughter segments:\n",
      "56\n",
      "n nonlaughter segments:\n",
      "21\n"
     ]
    },
    {
     "name": "stderr",
     "output_type": "stream",
     "text": [
      " 14%|█████▌                                  | 39/280 [19:33<1:53:58, 28.38s/it]"
     ]
    },
    {
     "name": "stdout",
     "output_type": "stream",
     "text": [
      "../data/02_laughter/laughter_annotations/friends_s01e20b.csv\n",
      "n laughter segments:\n",
      "50\n",
      "n nonlaughter segments:\n",
      "23\n"
     ]
    },
    {
     "name": "stderr",
     "output_type": "stream",
     "text": [
      " 14%|█████▋                                  | 40/280 [20:02<1:54:25, 28.61s/it]"
     ]
    },
    {
     "name": "stdout",
     "output_type": "stream",
     "text": [
      "../data/02_laughter/laughter_annotations/friends_s01e21a.csv\n",
      "n laughter segments:\n",
      "49\n",
      "n nonlaughter segments:\n",
      "27\n"
     ]
    },
    {
     "name": "stderr",
     "output_type": "stream",
     "text": [
      " 15%|█████▊                                  | 41/280 [20:31<1:54:13, 28.68s/it]"
     ]
    },
    {
     "name": "stdout",
     "output_type": "stream",
     "text": [
      "../data/02_laughter/laughter_annotations/friends_s01e21b.csv\n",
      "n laughter segments:\n",
      "47\n",
      "n nonlaughter segments:\n",
      "27\n"
     ]
    },
    {
     "name": "stderr",
     "output_type": "stream",
     "text": [
      " 15%|██████                                  | 42/280 [20:59<1:53:47, 28.69s/it]"
     ]
    },
    {
     "name": "stdout",
     "output_type": "stream",
     "text": [
      "../data/02_laughter/laughter_annotations/friends_s01e22a.csv\n",
      "n laughter segments:\n",
      "58\n",
      "n nonlaughter segments:\n",
      "21\n"
     ]
    },
    {
     "name": "stderr",
     "output_type": "stream",
     "text": [
      " 15%|██████▏                                 | 43/280 [21:28<1:53:12, 28.66s/it]"
     ]
    },
    {
     "name": "stdout",
     "output_type": "stream",
     "text": [
      "../data/02_laughter/laughter_annotations/friends_s01e22b.csv\n",
      "n laughter segments:\n",
      "57\n",
      "n nonlaughter segments:\n",
      "25\n"
     ]
    },
    {
     "name": "stderr",
     "output_type": "stream",
     "text": [
      " 16%|██████▎                                 | 44/280 [21:56<1:52:18, 28.55s/it]"
     ]
    },
    {
     "name": "stdout",
     "output_type": "stream",
     "text": [
      "../data/02_laughter/laughter_annotations/friends_s01e23a.csv\n",
      "n laughter segments:\n",
      "56\n",
      "n nonlaughter segments:\n",
      "23\n"
     ]
    },
    {
     "name": "stderr",
     "output_type": "stream",
     "text": [
      " 16%|██████▍                                 | 45/280 [22:24<1:51:18, 28.42s/it]"
     ]
    },
    {
     "name": "stdout",
     "output_type": "stream",
     "text": [
      "../data/02_laughter/laughter_annotations/friends_s01e23b.csv\n",
      "n laughter segments:\n",
      "47\n",
      "n nonlaughter segments:\n",
      "23\n"
     ]
    },
    {
     "name": "stderr",
     "output_type": "stream",
     "text": [
      " 16%|██████▌                                 | 46/280 [22:53<1:50:53, 28.43s/it]"
     ]
    },
    {
     "name": "stdout",
     "output_type": "stream",
     "text": [
      "../data/02_laughter/laughter_annotations/friends_s01e24a.csv\n",
      "n laughter segments:\n",
      "60\n",
      "n nonlaughter segments:\n",
      "30\n"
     ]
    },
    {
     "name": "stderr",
     "output_type": "stream",
     "text": [
      " 17%|██████▋                                 | 47/280 [23:21<1:50:07, 28.36s/it]"
     ]
    },
    {
     "name": "stdout",
     "output_type": "stream",
     "text": [
      "../data/02_laughter/laughter_annotations/friends_s01e24b.csv\n",
      "n laughter segments:\n",
      "47\n",
      "n nonlaughter segments:\n",
      "27\n"
     ]
    },
    {
     "name": "stderr",
     "output_type": "stream",
     "text": [
      " 17%|██████▊                                 | 48/280 [23:50<1:50:32, 28.59s/it]"
     ]
    },
    {
     "name": "stdout",
     "output_type": "stream",
     "text": [
      "../data/02_laughter/laughter_annotations/friends_s02e01a.csv\n",
      "n laughter segments:\n",
      "55\n",
      "n nonlaughter segments:\n",
      "20\n"
     ]
    },
    {
     "name": "stderr",
     "output_type": "stream",
     "text": [
      " 18%|███████                                 | 49/280 [24:19<1:50:09, 28.61s/it]"
     ]
    },
    {
     "name": "stdout",
     "output_type": "stream",
     "text": [
      "../data/02_laughter/laughter_annotations/friends_s02e01b.csv\n",
      "n laughter segments:\n",
      "48\n",
      "n nonlaughter segments:\n",
      "23\n"
     ]
    },
    {
     "name": "stderr",
     "output_type": "stream",
     "text": [
      " 18%|███████▏                                | 50/280 [24:48<1:50:01, 28.70s/it]"
     ]
    },
    {
     "name": "stdout",
     "output_type": "stream",
     "text": [
      "../data/02_laughter/laughter_annotations/friends_s02e02a.csv\n",
      "n laughter segments:\n",
      "51\n",
      "n nonlaughter segments:\n",
      "23\n"
     ]
    },
    {
     "name": "stderr",
     "output_type": "stream",
     "text": [
      " 18%|███████▎                                | 51/280 [25:17<1:49:56, 28.80s/it]"
     ]
    },
    {
     "name": "stdout",
     "output_type": "stream",
     "text": [
      "../data/02_laughter/laughter_annotations/friends_s02e02b.csv\n",
      "n laughter segments:\n",
      "44\n",
      "n nonlaughter segments:\n",
      "22\n"
     ]
    },
    {
     "name": "stderr",
     "output_type": "stream",
     "text": [
      " 19%|███████▍                                | 52/280 [25:45<1:49:01, 28.69s/it]"
     ]
    },
    {
     "name": "stdout",
     "output_type": "stream",
     "text": [
      "../data/02_laughter/laughter_annotations/friends_s02e03a.csv\n",
      "n laughter segments:\n",
      "48\n",
      "n nonlaughter segments:\n",
      "24\n"
     ]
    },
    {
     "name": "stderr",
     "output_type": "stream",
     "text": [
      " 19%|███████▌                                | 53/280 [26:14<1:48:24, 28.65s/it]"
     ]
    },
    {
     "name": "stdout",
     "output_type": "stream",
     "text": [
      "../data/02_laughter/laughter_annotations/friends_s02e03b.csv\n",
      "n laughter segments:\n",
      "51\n",
      "n nonlaughter segments:\n",
      "23\n"
     ]
    },
    {
     "name": "stderr",
     "output_type": "stream",
     "text": [
      " 19%|███████▋                                | 54/280 [26:42<1:47:40, 28.59s/it]"
     ]
    },
    {
     "name": "stdout",
     "output_type": "stream",
     "text": [
      "../data/02_laughter/laughter_annotations/friends_s02e04a.csv\n",
      "n laughter segments:\n",
      "51\n",
      "n nonlaughter segments:\n",
      "22\n"
     ]
    },
    {
     "name": "stderr",
     "output_type": "stream",
     "text": [
      " 20%|███████▊                                | 55/280 [27:11<1:46:54, 28.51s/it]"
     ]
    },
    {
     "name": "stdout",
     "output_type": "stream",
     "text": [
      "../data/02_laughter/laughter_annotations/friends_s02e04b.csv\n",
      "n laughter segments:\n",
      "43\n",
      "n nonlaughter segments:\n",
      "17\n"
     ]
    },
    {
     "name": "stderr",
     "output_type": "stream",
     "text": [
      " 20%|████████                                | 56/280 [27:39<1:46:08, 28.43s/it]"
     ]
    },
    {
     "name": "stdout",
     "output_type": "stream",
     "text": [
      "../data/02_laughter/laughter_annotations/friends_s02e05a.csv\n",
      "n laughter segments:\n",
      "50\n",
      "n nonlaughter segments:\n",
      "22\n"
     ]
    },
    {
     "name": "stderr",
     "output_type": "stream",
     "text": [
      " 20%|████████▏                               | 57/280 [28:08<1:45:58, 28.51s/it]"
     ]
    },
    {
     "name": "stdout",
     "output_type": "stream",
     "text": [
      "../data/02_laughter/laughter_annotations/friends_s02e05b.csv\n",
      "n laughter segments:\n",
      "43\n",
      "n nonlaughter segments:\n",
      "21\n"
     ]
    },
    {
     "name": "stderr",
     "output_type": "stream",
     "text": [
      " 21%|████████▎                               | 58/280 [28:36<1:45:27, 28.50s/it]"
     ]
    },
    {
     "name": "stdout",
     "output_type": "stream",
     "text": [
      "../data/02_laughter/laughter_annotations/friends_s02e06a.csv\n",
      "n laughter segments:\n",
      "53\n",
      "n nonlaughter segments:\n",
      "25\n"
     ]
    },
    {
     "name": "stderr",
     "output_type": "stream",
     "text": [
      " 21%|████████▍                               | 59/280 [29:05<1:44:55, 28.49s/it]"
     ]
    },
    {
     "name": "stdout",
     "output_type": "stream",
     "text": [
      "../data/02_laughter/laughter_annotations/friends_s02e06b.csv\n",
      "n laughter segments:\n",
      "47\n",
      "n nonlaughter segments:\n",
      "16\n"
     ]
    },
    {
     "name": "stderr",
     "output_type": "stream",
     "text": [
      " 21%|████████▌                               | 60/280 [29:33<1:44:31, 28.51s/it]"
     ]
    },
    {
     "name": "stdout",
     "output_type": "stream",
     "text": [
      "../data/02_laughter/laughter_annotations/friends_s02e07a.csv\n",
      "n laughter segments:\n",
      "55\n",
      "n nonlaughter segments:\n",
      "26\n"
     ]
    },
    {
     "name": "stderr",
     "output_type": "stream",
     "text": [
      " 22%|████████▋                               | 61/280 [30:02<1:44:24, 28.61s/it]"
     ]
    },
    {
     "name": "stdout",
     "output_type": "stream",
     "text": [
      "../data/02_laughter/laughter_annotations/friends_s02e07b.csv\n",
      "n laughter segments:\n",
      "35\n",
      "n nonlaughter segments:\n",
      "23\n"
     ]
    },
    {
     "name": "stderr",
     "output_type": "stream",
     "text": [
      " 22%|████████▊                               | 62/280 [30:31<1:44:25, 28.74s/it]"
     ]
    },
    {
     "name": "stdout",
     "output_type": "stream",
     "text": [
      "../data/02_laughter/laughter_annotations/friends_s02e08a.csv\n",
      "n laughter segments:\n",
      "51\n",
      "n nonlaughter segments:\n",
      "21\n"
     ]
    },
    {
     "name": "stderr",
     "output_type": "stream",
     "text": [
      " 22%|█████████                               | 63/280 [31:02<1:46:39, 29.49s/it]"
     ]
    },
    {
     "name": "stdout",
     "output_type": "stream",
     "text": [
      "../data/02_laughter/laughter_annotations/friends_s02e08b.csv\n",
      "n laughter segments:\n",
      "41\n",
      "n nonlaughter segments:\n",
      "20\n"
     ]
    },
    {
     "name": "stderr",
     "output_type": "stream",
     "text": [
      " 23%|█████████▏                              | 64/280 [31:33<1:48:03, 30.02s/it]"
     ]
    },
    {
     "name": "stdout",
     "output_type": "stream",
     "text": [
      "../data/02_laughter/laughter_annotations/friends_s02e09a.csv\n",
      "n laughter segments:\n",
      "47\n",
      "n nonlaughter segments:\n",
      "23\n"
     ]
    },
    {
     "name": "stderr",
     "output_type": "stream",
     "text": [
      " 23%|█████████▎                              | 65/280 [32:05<1:49:26, 30.54s/it]"
     ]
    },
    {
     "name": "stdout",
     "output_type": "stream",
     "text": [
      "../data/02_laughter/laughter_annotations/friends_s02e09b.csv\n",
      "n laughter segments:\n",
      "44\n",
      "n nonlaughter segments:\n",
      "18\n"
     ]
    },
    {
     "name": "stderr",
     "output_type": "stream",
     "text": [
      " 24%|█████████▍                              | 66/280 [32:37<1:50:09, 30.89s/it]"
     ]
    },
    {
     "name": "stdout",
     "output_type": "stream",
     "text": [
      "../data/02_laughter/laughter_annotations/friends_s02e10a.csv\n",
      "n laughter segments:\n",
      "55\n",
      "n nonlaughter segments:\n",
      "25\n"
     ]
    },
    {
     "name": "stderr",
     "output_type": "stream",
     "text": [
      " 24%|█████████▌                              | 67/280 [33:09<1:51:15, 31.34s/it]"
     ]
    },
    {
     "name": "stdout",
     "output_type": "stream",
     "text": [
      "../data/02_laughter/laughter_annotations/friends_s02e10b.csv\n",
      "n laughter segments:\n",
      "46\n",
      "n nonlaughter segments:\n",
      "25\n"
     ]
    },
    {
     "name": "stderr",
     "output_type": "stream",
     "text": [
      " 24%|█████████▋                              | 68/280 [33:42<1:51:56, 31.68s/it]"
     ]
    },
    {
     "name": "stdout",
     "output_type": "stream",
     "text": [
      "../data/02_laughter/laughter_annotations/friends_s02e11a.csv\n",
      "n laughter segments:\n",
      "57\n",
      "n nonlaughter segments:\n",
      "24\n"
     ]
    },
    {
     "name": "stderr",
     "output_type": "stream",
     "text": [
      " 25%|█████████▊                              | 69/280 [34:14<1:51:42, 31.77s/it]"
     ]
    },
    {
     "name": "stdout",
     "output_type": "stream",
     "text": [
      "../data/02_laughter/laughter_annotations/friends_s02e11b.csv\n",
      "n laughter segments:\n",
      "47\n",
      "n nonlaughter segments:\n",
      "23\n"
     ]
    },
    {
     "name": "stderr",
     "output_type": "stream",
     "text": [
      " 25%|██████████                              | 70/280 [34:46<1:51:52, 31.96s/it]"
     ]
    },
    {
     "name": "stdout",
     "output_type": "stream",
     "text": [
      "../data/02_laughter/laughter_annotations/friends_s02e12a.csv\n",
      "n laughter segments:\n",
      "51\n",
      "n nonlaughter segments:\n",
      "26\n"
     ]
    },
    {
     "name": "stderr",
     "output_type": "stream",
     "text": [
      " 25%|██████████▏                             | 71/280 [35:19<1:51:46, 32.09s/it]"
     ]
    },
    {
     "name": "stdout",
     "output_type": "stream",
     "text": [
      "../data/02_laughter/laughter_annotations/friends_s02e12b.csv\n",
      "n laughter segments:\n",
      "56\n",
      "n nonlaughter segments:\n",
      "28\n"
     ]
    },
    {
     "name": "stderr",
     "output_type": "stream",
     "text": [
      " 26%|██████████▎                             | 72/280 [35:51<1:51:24, 32.14s/it]"
     ]
    },
    {
     "name": "stdout",
     "output_type": "stream",
     "text": [
      "../data/02_laughter/laughter_annotations/friends_s02e13a.csv\n",
      "n laughter segments:\n",
      "53\n",
      "n nonlaughter segments:\n",
      "25\n"
     ]
    },
    {
     "name": "stderr",
     "output_type": "stream",
     "text": [
      " 26%|██████████▍                             | 73/280 [36:23<1:50:53, 32.14s/it]"
     ]
    },
    {
     "name": "stdout",
     "output_type": "stream",
     "text": [
      "../data/02_laughter/laughter_annotations/friends_s02e13b.csv\n",
      "n laughter segments:\n",
      "57\n",
      "n nonlaughter segments:\n",
      "23\n"
     ]
    },
    {
     "name": "stderr",
     "output_type": "stream",
     "text": [
      " 26%|██████████▌                             | 74/280 [36:56<1:51:31, 32.48s/it]"
     ]
    },
    {
     "name": "stdout",
     "output_type": "stream",
     "text": [
      "../data/02_laughter/laughter_annotations/friends_s02e14a.csv\n",
      "n laughter segments:\n",
      "45\n",
      "n nonlaughter segments:\n",
      "25\n"
     ]
    },
    {
     "name": "stderr",
     "output_type": "stream",
     "text": [
      " 27%|██████████▋                             | 75/280 [37:29<1:51:02, 32.50s/it]"
     ]
    },
    {
     "name": "stdout",
     "output_type": "stream",
     "text": [
      "../data/02_laughter/laughter_annotations/friends_s02e14b.csv\n",
      "n laughter segments:\n",
      "40\n",
      "n nonlaughter segments:\n",
      "21\n"
     ]
    },
    {
     "name": "stderr",
     "output_type": "stream",
     "text": [
      " 27%|██████████▊                             | 76/280 [38:02<1:50:53, 32.61s/it]"
     ]
    },
    {
     "name": "stdout",
     "output_type": "stream",
     "text": [
      "../data/02_laughter/laughter_annotations/friends_s02e15a.csv\n",
      "n laughter segments:\n",
      "52\n",
      "n nonlaughter segments:\n",
      "27\n"
     ]
    },
    {
     "name": "stderr",
     "output_type": "stream",
     "text": [
      " 28%|███████████                             | 77/280 [38:35<1:50:43, 32.73s/it]"
     ]
    },
    {
     "name": "stdout",
     "output_type": "stream",
     "text": [
      "../data/02_laughter/laughter_annotations/friends_s02e15b.csv\n",
      "n laughter segments:\n",
      "32\n",
      "n nonlaughter segments:\n",
      "15\n"
     ]
    },
    {
     "name": "stderr",
     "output_type": "stream",
     "text": [
      " 28%|███████████▏                            | 78/280 [39:09<1:51:24, 33.09s/it]"
     ]
    },
    {
     "name": "stdout",
     "output_type": "stream",
     "text": [
      "../data/02_laughter/laughter_annotations/friends_s02e16a.csv\n",
      "n laughter segments:\n",
      "45\n",
      "n nonlaughter segments:\n",
      "27\n"
     ]
    },
    {
     "name": "stderr",
     "output_type": "stream",
     "text": [
      " 28%|███████████▎                            | 79/280 [39:42<1:51:07, 33.17s/it]"
     ]
    },
    {
     "name": "stdout",
     "output_type": "stream",
     "text": [
      "../data/02_laughter/laughter_annotations/friends_s02e16b.csv\n",
      "n laughter segments:\n",
      "42\n",
      "n nonlaughter segments:\n",
      "21\n"
     ]
    },
    {
     "name": "stderr",
     "output_type": "stream",
     "text": [
      " 29%|███████████▍                            | 80/280 [40:14<1:49:33, 32.87s/it]"
     ]
    },
    {
     "name": "stdout",
     "output_type": "stream",
     "text": [
      "../data/02_laughter/laughter_annotations/friends_s02e17a.csv\n",
      "n laughter segments:\n",
      "54\n",
      "n nonlaughter segments:\n",
      "21\n"
     ]
    },
    {
     "name": "stderr",
     "output_type": "stream",
     "text": [
      " 29%|███████████▌                            | 81/280 [40:47<1:48:50, 32.82s/it]"
     ]
    },
    {
     "name": "stdout",
     "output_type": "stream",
     "text": [
      "../data/02_laughter/laughter_annotations/friends_s02e17b.csv\n",
      "n laughter segments:\n",
      "55\n",
      "n nonlaughter segments:\n",
      "23\n"
     ]
    },
    {
     "name": "stderr",
     "output_type": "stream",
     "text": [
      " 29%|███████████▋                            | 82/280 [41:19<1:47:38, 32.62s/it]"
     ]
    },
    {
     "name": "stdout",
     "output_type": "stream",
     "text": [
      "../data/02_laughter/laughter_annotations/friends_s02e18a.csv\n",
      "n laughter segments:\n",
      "54\n",
      "n nonlaughter segments:\n",
      "22\n"
     ]
    },
    {
     "name": "stderr",
     "output_type": "stream",
     "text": [
      " 30%|███████████▊                            | 83/280 [41:50<1:45:28, 32.13s/it]"
     ]
    },
    {
     "name": "stdout",
     "output_type": "stream",
     "text": [
      "../data/02_laughter/laughter_annotations/friends_s02e18b.csv\n",
      "n laughter segments:\n",
      "54\n",
      "n nonlaughter segments:\n",
      "24\n"
     ]
    },
    {
     "name": "stderr",
     "output_type": "stream",
     "text": [
      " 30%|████████████                            | 84/280 [42:20<1:42:45, 31.46s/it]"
     ]
    },
    {
     "name": "stdout",
     "output_type": "stream",
     "text": [
      "../data/02_laughter/laughter_annotations/friends_s02e19a.csv\n",
      "n laughter segments:\n",
      "59\n",
      "n nonlaughter segments:\n",
      "20\n"
     ]
    },
    {
     "name": "stderr",
     "output_type": "stream",
     "text": [
      " 30%|████████████▏                           | 85/280 [42:50<1:41:24, 31.20s/it]"
     ]
    },
    {
     "name": "stdout",
     "output_type": "stream",
     "text": [
      "../data/02_laughter/laughter_annotations/friends_s02e19b.csv\n",
      "n laughter segments:\n",
      "61\n",
      "n nonlaughter segments:\n",
      "20\n"
     ]
    },
    {
     "name": "stderr",
     "output_type": "stream",
     "text": [
      " 31%|████████████▎                           | 86/280 [43:21<1:40:23, 31.05s/it]"
     ]
    },
    {
     "name": "stdout",
     "output_type": "stream",
     "text": [
      "../data/02_laughter/laughter_annotations/friends_s02e20a.csv\n",
      "n laughter segments:\n",
      "59\n",
      "n nonlaughter segments:\n",
      "18\n"
     ]
    },
    {
     "name": "stderr",
     "output_type": "stream",
     "text": [
      " 31%|████████████▍                           | 87/280 [43:52<1:39:45, 31.01s/it]"
     ]
    },
    {
     "name": "stdout",
     "output_type": "stream",
     "text": [
      "../data/02_laughter/laughter_annotations/friends_s02e20b.csv\n",
      "n laughter segments:\n",
      "49\n",
      "n nonlaughter segments:\n",
      "26\n"
     ]
    },
    {
     "name": "stderr",
     "output_type": "stream",
     "text": [
      " 31%|████████████▌                           | 88/280 [44:23<1:39:39, 31.14s/it]"
     ]
    },
    {
     "name": "stdout",
     "output_type": "stream",
     "text": [
      "../data/02_laughter/laughter_annotations/friends_s02e21a.csv\n",
      "n laughter segments:\n",
      "57\n",
      "n nonlaughter segments:\n",
      "26\n"
     ]
    },
    {
     "name": "stderr",
     "output_type": "stream",
     "text": [
      " 32%|████████████▋                           | 89/280 [44:56<1:40:10, 31.47s/it]"
     ]
    },
    {
     "name": "stdout",
     "output_type": "stream",
     "text": [
      "../data/02_laughter/laughter_annotations/friends_s02e21b.csv\n",
      "n laughter segments:\n",
      "51\n",
      "n nonlaughter segments:\n",
      "20\n"
     ]
    },
    {
     "name": "stderr",
     "output_type": "stream",
     "text": [
      " 32%|████████████▊                           | 90/280 [45:28<1:40:06, 31.62s/it]"
     ]
    },
    {
     "name": "stdout",
     "output_type": "stream",
     "text": [
      "../data/02_laughter/laughter_annotations/friends_s02e22a.csv\n",
      "n laughter segments:\n",
      "58\n",
      "n nonlaughter segments:\n",
      "20\n"
     ]
    },
    {
     "name": "stderr",
     "output_type": "stream",
     "text": [
      " 32%|█████████████                           | 91/280 [46:00<1:40:17, 31.84s/it]"
     ]
    },
    {
     "name": "stdout",
     "output_type": "stream",
     "text": [
      "../data/02_laughter/laughter_annotations/friends_s02e22b.csv\n",
      "n laughter segments:\n",
      "46\n",
      "n nonlaughter segments:\n",
      "23\n"
     ]
    },
    {
     "name": "stderr",
     "output_type": "stream",
     "text": [
      " 33%|█████████████▏                          | 92/280 [46:32<1:40:14, 31.99s/it]"
     ]
    },
    {
     "name": "stdout",
     "output_type": "stream",
     "text": [
      "../data/02_laughter/laughter_annotations/friends_s02e23a.csv\n",
      "n laughter segments:\n",
      "54\n",
      "n nonlaughter segments:\n",
      "22\n"
     ]
    },
    {
     "name": "stderr",
     "output_type": "stream",
     "text": [
      " 33%|█████████████▎                          | 93/280 [47:05<1:40:10, 32.14s/it]"
     ]
    },
    {
     "name": "stdout",
     "output_type": "stream",
     "text": [
      "../data/02_laughter/laughter_annotations/friends_s02e23b.csv\n",
      "n laughter segments:\n",
      "50\n",
      "n nonlaughter segments:\n",
      "23\n"
     ]
    },
    {
     "name": "stderr",
     "output_type": "stream",
     "text": [
      " 34%|█████████████▍                          | 94/280 [47:37<1:39:42, 32.17s/it]"
     ]
    },
    {
     "name": "stdout",
     "output_type": "stream",
     "text": [
      "../data/02_laughter/laughter_annotations/friends_s02e24a.csv\n",
      "n laughter segments:\n",
      "50\n",
      "n nonlaughter segments:\n",
      "24\n"
     ]
    },
    {
     "name": "stderr",
     "output_type": "stream",
     "text": [
      " 34%|█████████████▌                          | 95/280 [48:09<1:39:16, 32.20s/it]"
     ]
    },
    {
     "name": "stdout",
     "output_type": "stream",
     "text": [
      "../data/02_laughter/laughter_annotations/friends_s02e24b.csv\n",
      "n laughter segments:\n",
      "41\n",
      "n nonlaughter segments:\n",
      "22\n"
     ]
    },
    {
     "name": "stderr",
     "output_type": "stream",
     "text": [
      " 34%|█████████████▋                          | 96/280 [48:41<1:38:36, 32.16s/it]"
     ]
    },
    {
     "name": "stdout",
     "output_type": "stream",
     "text": [
      "../data/02_laughter/laughter_annotations/friends_s03e01a.csv\n",
      "n laughter segments:\n",
      "61\n",
      "n nonlaughter segments:\n",
      "20\n"
     ]
    },
    {
     "name": "stderr",
     "output_type": "stream",
     "text": [
      " 35%|█████████████▊                          | 97/280 [49:14<1:38:13, 32.21s/it]"
     ]
    },
    {
     "name": "stdout",
     "output_type": "stream",
     "text": [
      "../data/02_laughter/laughter_annotations/friends_s03e01b.csv\n",
      "n laughter segments:\n",
      "50\n",
      "n nonlaughter segments:\n",
      "27\n"
     ]
    },
    {
     "name": "stderr",
     "output_type": "stream",
     "text": [
      " 35%|██████████████                          | 98/280 [49:46<1:37:45, 32.23s/it]"
     ]
    },
    {
     "name": "stdout",
     "output_type": "stream",
     "text": [
      "../data/02_laughter/laughter_annotations/friends_s03e02a.csv\n",
      "n laughter segments:\n",
      "57\n",
      "n nonlaughter segments:\n",
      "23\n"
     ]
    },
    {
     "name": "stderr",
     "output_type": "stream",
     "text": [
      " 35%|██████████████▏                         | 99/280 [50:18<1:37:18, 32.26s/it]"
     ]
    },
    {
     "name": "stdout",
     "output_type": "stream",
     "text": [
      "../data/02_laughter/laughter_annotations/friends_s03e02b.csv\n",
      "n laughter segments:\n",
      "49\n",
      "n nonlaughter segments:\n",
      "24\n"
     ]
    },
    {
     "name": "stderr",
     "output_type": "stream",
     "text": [
      " 36%|█████████████▉                         | 100/280 [50:51<1:36:44, 32.25s/it]"
     ]
    },
    {
     "name": "stdout",
     "output_type": "stream",
     "text": [
      "../data/02_laughter/laughter_annotations/friends_s03e03a.csv\n",
      "n laughter segments:\n",
      "54\n",
      "n nonlaughter segments:\n",
      "20\n"
     ]
    },
    {
     "name": "stderr",
     "output_type": "stream",
     "text": [
      " 36%|██████████████                         | 101/280 [51:23<1:36:12, 32.25s/it]"
     ]
    },
    {
     "name": "stdout",
     "output_type": "stream",
     "text": [
      "../data/02_laughter/laughter_annotations/friends_s03e03b.csv\n",
      "n laughter segments:\n",
      "55\n",
      "n nonlaughter segments:\n",
      "21\n"
     ]
    },
    {
     "name": "stderr",
     "output_type": "stream",
     "text": [
      " 36%|██████████████▏                        | 102/280 [51:55<1:35:10, 32.08s/it]"
     ]
    },
    {
     "name": "stdout",
     "output_type": "stream",
     "text": [
      "../data/02_laughter/laughter_annotations/friends_s03e04a.csv\n",
      "n laughter segments:\n",
      "57\n",
      "n nonlaughter segments:\n",
      "24\n"
     ]
    },
    {
     "name": "stderr",
     "output_type": "stream",
     "text": [
      " 37%|██████████████▎                        | 103/280 [52:26<1:34:04, 31.89s/it]"
     ]
    },
    {
     "name": "stdout",
     "output_type": "stream",
     "text": [
      "../data/02_laughter/laughter_annotations/friends_s03e04b.csv\n",
      "n laughter segments:\n",
      "57\n",
      "n nonlaughter segments:\n",
      "21\n"
     ]
    },
    {
     "name": "stderr",
     "output_type": "stream",
     "text": [
      " 37%|██████████████▍                        | 104/280 [52:56<1:31:45, 31.28s/it]"
     ]
    },
    {
     "name": "stdout",
     "output_type": "stream",
     "text": [
      "../data/02_laughter/laughter_annotations/friends_s03e05a.csv\n",
      "n laughter segments:\n",
      "62\n",
      "n nonlaughter segments:\n",
      "17\n"
     ]
    },
    {
     "name": "stderr",
     "output_type": "stream",
     "text": [
      " 38%|██████████████▋                        | 105/280 [53:26<1:30:32, 31.05s/it]"
     ]
    },
    {
     "name": "stdout",
     "output_type": "stream",
     "text": [
      "../data/02_laughter/laughter_annotations/friends_s03e05b.csv\n",
      "n laughter segments:\n",
      "59\n",
      "n nonlaughter segments:\n",
      "17\n"
     ]
    },
    {
     "name": "stderr",
     "output_type": "stream",
     "text": [
      " 38%|██████████████▊                        | 106/280 [53:57<1:29:54, 31.00s/it]"
     ]
    },
    {
     "name": "stdout",
     "output_type": "stream",
     "text": [
      "../data/02_laughter/laughter_annotations/friends_s03e06a.csv\n",
      "n laughter segments:\n",
      "57\n",
      "n nonlaughter segments:\n",
      "26\n"
     ]
    },
    {
     "name": "stderr",
     "output_type": "stream",
     "text": [
      " 38%|██████████████▉                        | 107/280 [54:29<1:30:14, 31.30s/it]"
     ]
    },
    {
     "name": "stdout",
     "output_type": "stream",
     "text": [
      "../data/02_laughter/laughter_annotations/friends_s03e06b.csv\n",
      "n laughter segments:\n",
      "46\n",
      "n nonlaughter segments:\n",
      "28\n"
     ]
    },
    {
     "name": "stderr",
     "output_type": "stream",
     "text": [
      " 39%|███████████████                        | 108/280 [55:02<1:31:15, 31.83s/it]"
     ]
    },
    {
     "name": "stdout",
     "output_type": "stream",
     "text": [
      "../data/02_laughter/laughter_annotations/friends_s03e07a.csv\n",
      "n laughter segments:\n",
      "52\n",
      "n nonlaughter segments:\n",
      "30\n"
     ]
    },
    {
     "name": "stderr",
     "output_type": "stream",
     "text": [
      " 39%|███████████████▏                       | 109/280 [55:34<1:31:01, 31.94s/it]"
     ]
    },
    {
     "name": "stdout",
     "output_type": "stream",
     "text": [
      "../data/02_laughter/laughter_annotations/friends_s03e07b.csv\n",
      "n laughter segments:\n",
      "53\n",
      "n nonlaughter segments:\n",
      "23\n"
     ]
    },
    {
     "name": "stderr",
     "output_type": "stream",
     "text": [
      " 39%|███████████████▎                       | 110/280 [56:07<1:30:53, 32.08s/it]"
     ]
    },
    {
     "name": "stdout",
     "output_type": "stream",
     "text": [
      "../data/02_laughter/laughter_annotations/friends_s03e08a.csv\n",
      "n laughter segments:\n",
      "56\n",
      "n nonlaughter segments:\n",
      "22\n"
     ]
    },
    {
     "name": "stderr",
     "output_type": "stream",
     "text": [
      " 40%|███████████████▍                       | 111/280 [56:40<1:30:55, 32.28s/it]"
     ]
    },
    {
     "name": "stdout",
     "output_type": "stream",
     "text": [
      "../data/02_laughter/laughter_annotations/friends_s03e08b.csv\n",
      "n laughter segments:\n",
      "51\n",
      "n nonlaughter segments:\n",
      "18\n"
     ]
    },
    {
     "name": "stderr",
     "output_type": "stream",
     "text": [
      " 40%|███████████████▌                       | 112/280 [57:12<1:30:26, 32.30s/it]"
     ]
    },
    {
     "name": "stdout",
     "output_type": "stream",
     "text": [
      "../data/02_laughter/laughter_annotations/friends_s03e09a.csv\n",
      "n laughter segments:\n",
      "57\n",
      "n nonlaughter segments:\n",
      "22\n"
     ]
    },
    {
     "name": "stderr",
     "output_type": "stream",
     "text": [
      " 40%|███████████████▋                       | 113/280 [57:44<1:30:02, 32.35s/it]"
     ]
    },
    {
     "name": "stdout",
     "output_type": "stream",
     "text": [
      "../data/02_laughter/laughter_annotations/friends_s03e09b.csv\n",
      "n laughter segments:\n",
      "54\n",
      "n nonlaughter segments:\n",
      "23\n"
     ]
    },
    {
     "name": "stderr",
     "output_type": "stream",
     "text": [
      " 41%|███████████████▉                       | 114/280 [58:18<1:30:18, 32.64s/it]"
     ]
    },
    {
     "name": "stdout",
     "output_type": "stream",
     "text": [
      "../data/02_laughter/laughter_annotations/friends_s03e10a.csv\n",
      "n laughter segments:\n",
      "51\n",
      "n nonlaughter segments:\n",
      "24\n"
     ]
    },
    {
     "name": "stderr",
     "output_type": "stream",
     "text": [
      " 41%|████████████████                       | 115/280 [58:50<1:29:28, 32.54s/it]"
     ]
    },
    {
     "name": "stdout",
     "output_type": "stream",
     "text": [
      "../data/02_laughter/laughter_annotations/friends_s03e10b.csv\n",
      "n laughter segments:\n",
      "47\n",
      "n nonlaughter segments:\n",
      "21\n"
     ]
    },
    {
     "name": "stderr",
     "output_type": "stream",
     "text": [
      " 41%|████████████████▏                      | 116/280 [59:23<1:29:04, 32.59s/it]"
     ]
    },
    {
     "name": "stdout",
     "output_type": "stream",
     "text": [
      "../data/02_laughter/laughter_annotations/friends_s03e11a.csv\n",
      "n laughter segments:\n",
      "47\n",
      "n nonlaughter segments:\n",
      "27\n"
     ]
    },
    {
     "name": "stderr",
     "output_type": "stream",
     "text": [
      " 42%|████████████████▎                      | 117/280 [59:55<1:28:22, 32.53s/it]"
     ]
    },
    {
     "name": "stdout",
     "output_type": "stream",
     "text": [
      "../data/02_laughter/laughter_annotations/friends_s03e11b.csv\n",
      "n laughter segments:\n",
      "52\n",
      "n nonlaughter segments:\n",
      "22\n"
     ]
    },
    {
     "name": "stderr",
     "output_type": "stream",
     "text": [
      " 42%|███████████████▌                     | 118/280 [1:00:28<1:27:56, 32.57s/it]"
     ]
    },
    {
     "name": "stdout",
     "output_type": "stream",
     "text": [
      "../data/02_laughter/laughter_annotations/friends_s03e12a.csv\n",
      "n laughter segments:\n",
      "48\n",
      "n nonlaughter segments:\n",
      "25\n"
     ]
    },
    {
     "name": "stderr",
     "output_type": "stream",
     "text": [
      " 42%|███████████████▋                     | 119/280 [1:01:01<1:27:30, 32.61s/it]"
     ]
    },
    {
     "name": "stdout",
     "output_type": "stream",
     "text": [
      "../data/02_laughter/laughter_annotations/friends_s03e12b.csv\n",
      "n laughter segments:\n",
      "51\n",
      "n nonlaughter segments:\n",
      "24\n"
     ]
    },
    {
     "name": "stderr",
     "output_type": "stream",
     "text": [
      " 43%|███████████████▊                     | 120/280 [1:01:33<1:26:51, 32.57s/it]"
     ]
    },
    {
     "name": "stdout",
     "output_type": "stream",
     "text": [
      "../data/02_laughter/laughter_annotations/friends_s03e13a.csv\n",
      "n laughter segments:\n",
      "52\n",
      "n nonlaughter segments:\n",
      "26\n"
     ]
    },
    {
     "name": "stderr",
     "output_type": "stream",
     "text": [
      " 43%|███████████████▉                     | 121/280 [1:02:06<1:26:16, 32.56s/it]"
     ]
    },
    {
     "name": "stdout",
     "output_type": "stream",
     "text": [
      "../data/02_laughter/laughter_annotations/friends_s03e13b.csv\n",
      "n laughter segments:\n",
      "53\n",
      "n nonlaughter segments:\n",
      "24\n"
     ]
    },
    {
     "name": "stderr",
     "output_type": "stream",
     "text": [
      " 44%|████████████████                     | 122/280 [1:02:38<1:25:37, 32.52s/it]"
     ]
    },
    {
     "name": "stdout",
     "output_type": "stream",
     "text": [
      "../data/02_laughter/laughter_annotations/friends_s03e14a.csv\n",
      "n laughter segments:\n",
      "58\n",
      "n nonlaughter segments:\n",
      "19\n"
     ]
    },
    {
     "name": "stderr",
     "output_type": "stream",
     "text": [
      " 44%|████████████████▎                    | 123/280 [1:03:11<1:25:08, 32.54s/it]"
     ]
    },
    {
     "name": "stdout",
     "output_type": "stream",
     "text": [
      "../data/02_laughter/laughter_annotations/friends_s03e14b.csv\n",
      "n laughter segments:\n",
      "50\n",
      "n nonlaughter segments:\n",
      "23\n"
     ]
    },
    {
     "name": "stderr",
     "output_type": "stream",
     "text": [
      " 44%|████████████████▍                    | 124/280 [1:03:43<1:24:14, 32.40s/it]"
     ]
    },
    {
     "name": "stdout",
     "output_type": "stream",
     "text": [
      "../data/02_laughter/laughter_annotations/friends_s03e15a.csv\n",
      "n laughter segments:\n",
      "49\n",
      "n nonlaughter segments:\n",
      "20\n"
     ]
    },
    {
     "name": "stderr",
     "output_type": "stream",
     "text": [
      " 45%|████████████████▌                    | 125/280 [1:04:14<1:23:11, 32.20s/it]"
     ]
    },
    {
     "name": "stdout",
     "output_type": "stream",
     "text": [
      "../data/02_laughter/laughter_annotations/friends_s03e15b.csv\n",
      "n laughter segments:\n",
      "45\n",
      "n nonlaughter segments:\n",
      "19\n"
     ]
    },
    {
     "name": "stderr",
     "output_type": "stream",
     "text": [
      " 45%|████████████████▋                    | 126/280 [1:04:46<1:22:18, 32.07s/it]"
     ]
    },
    {
     "name": "stdout",
     "output_type": "stream",
     "text": [
      "../data/02_laughter/laughter_annotations/friends_s03e16a.csv\n",
      "n laughter segments:\n",
      "45\n",
      "n nonlaughter segments:\n",
      "27\n"
     ]
    },
    {
     "name": "stderr",
     "output_type": "stream",
     "text": [
      " 45%|████████████████▊                    | 127/280 [1:05:18<1:21:42, 32.04s/it]"
     ]
    },
    {
     "name": "stdout",
     "output_type": "stream",
     "text": [
      "../data/02_laughter/laughter_annotations/friends_s03e16b.csv\n",
      "n laughter segments:\n",
      "41\n",
      "n nonlaughter segments:\n",
      "18\n"
     ]
    },
    {
     "name": "stderr",
     "output_type": "stream",
     "text": [
      " 46%|████████████████▉                    | 128/280 [1:05:50<1:21:03, 32.00s/it]"
     ]
    },
    {
     "name": "stdout",
     "output_type": "stream",
     "text": [
      "../data/02_laughter/laughter_annotations/friends_s03e17a.csv\n",
      "n laughter segments:\n",
      "53\n",
      "n nonlaughter segments:\n",
      "29\n"
     ]
    },
    {
     "name": "stderr",
     "output_type": "stream",
     "text": [
      " 46%|█████████████████                    | 129/280 [1:06:22<1:20:24, 31.95s/it]"
     ]
    },
    {
     "name": "stdout",
     "output_type": "stream",
     "text": [
      "../data/02_laughter/laughter_annotations/friends_s03e17b.csv\n",
      "n laughter segments:\n",
      "35\n",
      "n nonlaughter segments:\n",
      "28\n"
     ]
    },
    {
     "name": "stderr",
     "output_type": "stream",
     "text": [
      " 46%|█████████████████▏                   | 130/280 [1:06:54<1:20:11, 32.08s/it]"
     ]
    },
    {
     "name": "stdout",
     "output_type": "stream",
     "text": [
      "../data/02_laughter/laughter_annotations/friends_s03e18a.csv\n",
      "n laughter segments:\n",
      "52\n",
      "n nonlaughter segments:\n",
      "24\n"
     ]
    },
    {
     "name": "stderr",
     "output_type": "stream",
     "text": [
      " 47%|█████████████████▎                   | 131/280 [1:07:27<1:19:55, 32.18s/it]"
     ]
    },
    {
     "name": "stdout",
     "output_type": "stream",
     "text": [
      "../data/02_laughter/laughter_annotations/friends_s03e18b.csv\n",
      "n laughter segments:\n",
      "45\n",
      "n nonlaughter segments:\n",
      "27\n"
     ]
    },
    {
     "name": "stderr",
     "output_type": "stream",
     "text": [
      " 47%|█████████████████▍                   | 132/280 [1:07:59<1:19:23, 32.19s/it]"
     ]
    },
    {
     "name": "stdout",
     "output_type": "stream",
     "text": [
      "../data/02_laughter/laughter_annotations/friends_s03e19a.csv\n",
      "n laughter segments:\n",
      "50\n",
      "n nonlaughter segments:\n",
      "22\n"
     ]
    },
    {
     "name": "stderr",
     "output_type": "stream",
     "text": [
      " 48%|█████████████████▌                   | 133/280 [1:08:31<1:19:04, 32.28s/it]"
     ]
    },
    {
     "name": "stdout",
     "output_type": "stream",
     "text": [
      "../data/02_laughter/laughter_annotations/friends_s03e19b.csv\n",
      "n laughter segments:\n",
      "48\n",
      "n nonlaughter segments:\n",
      "20\n"
     ]
    },
    {
     "name": "stderr",
     "output_type": "stream",
     "text": [
      " 48%|█████████████████▋                   | 134/280 [1:09:04<1:18:38, 32.32s/it]"
     ]
    },
    {
     "name": "stdout",
     "output_type": "stream",
     "text": [
      "../data/02_laughter/laughter_annotations/friends_s03e20a.csv\n",
      "n laughter segments:\n",
      "54\n",
      "n nonlaughter segments:\n",
      "22\n"
     ]
    },
    {
     "name": "stderr",
     "output_type": "stream",
     "text": [
      " 48%|█████████████████▊                   | 135/280 [1:09:36<1:17:52, 32.22s/it]"
     ]
    },
    {
     "name": "stdout",
     "output_type": "stream",
     "text": [
      "../data/02_laughter/laughter_annotations/friends_s03e20b.csv\n",
      "n laughter segments:\n",
      "47\n",
      "n nonlaughter segments:\n",
      "21\n"
     ]
    },
    {
     "name": "stderr",
     "output_type": "stream",
     "text": [
      " 49%|█████████████████▉                   | 136/280 [1:10:08<1:17:00, 32.08s/it]"
     ]
    },
    {
     "name": "stdout",
     "output_type": "stream",
     "text": [
      "../data/02_laughter/laughter_annotations/friends_s03e21a.csv\n",
      "n laughter segments:\n",
      "57\n",
      "n nonlaughter segments:\n",
      "23\n"
     ]
    },
    {
     "name": "stderr",
     "output_type": "stream",
     "text": [
      " 49%|██████████████████                   | 137/280 [1:10:40<1:16:27, 32.08s/it]"
     ]
    },
    {
     "name": "stdout",
     "output_type": "stream",
     "text": [
      "../data/02_laughter/laughter_annotations/friends_s03e21b.csv\n",
      "n laughter segments:\n",
      "48\n",
      "n nonlaughter segments:\n",
      "21\n"
     ]
    },
    {
     "name": "stderr",
     "output_type": "stream",
     "text": [
      " 49%|██████████████████▏                  | 138/280 [1:11:12<1:15:54, 32.07s/it]"
     ]
    },
    {
     "name": "stdout",
     "output_type": "stream",
     "text": [
      "../data/02_laughter/laughter_annotations/friends_s03e22a.csv\n",
      "n laughter segments:\n",
      "48\n",
      "n nonlaughter segments:\n",
      "25\n"
     ]
    },
    {
     "name": "stderr",
     "output_type": "stream",
     "text": [
      " 50%|██████████████████▎                  | 139/280 [1:11:44<1:15:25, 32.09s/it]"
     ]
    },
    {
     "name": "stdout",
     "output_type": "stream",
     "text": [
      "../data/02_laughter/laughter_annotations/friends_s03e22b.csv\n",
      "n laughter segments:\n",
      "47\n",
      "n nonlaughter segments:\n",
      "26\n"
     ]
    },
    {
     "name": "stderr",
     "output_type": "stream",
     "text": [
      " 50%|██████████████████▌                  | 140/280 [1:12:15<1:14:37, 31.98s/it]"
     ]
    },
    {
     "name": "stdout",
     "output_type": "stream",
     "text": [
      "../data/02_laughter/laughter_annotations/friends_s03e23a.csv\n",
      "n laughter segments:\n",
      "52\n",
      "n nonlaughter segments:\n",
      "28\n"
     ]
    },
    {
     "name": "stderr",
     "output_type": "stream",
     "text": [
      " 50%|██████████████████▋                  | 141/280 [1:12:46<1:13:17, 31.64s/it]"
     ]
    },
    {
     "name": "stdout",
     "output_type": "stream",
     "text": [
      "../data/02_laughter/laughter_annotations/friends_s03e23b.csv\n",
      "n laughter segments:\n",
      "47\n",
      "n nonlaughter segments:\n",
      "24\n"
     ]
    },
    {
     "name": "stderr",
     "output_type": "stream",
     "text": [
      " 51%|██████████████████▊                  | 142/280 [1:13:18<1:12:49, 31.66s/it]"
     ]
    },
    {
     "name": "stdout",
     "output_type": "stream",
     "text": [
      "../data/02_laughter/laughter_annotations/friends_s03e24a.csv\n",
      "n laughter segments:\n",
      "53\n",
      "n nonlaughter segments:\n",
      "19\n"
     ]
    },
    {
     "name": "stderr",
     "output_type": "stream",
     "text": [
      " 51%|██████████████████▉                  | 143/280 [1:13:50<1:12:34, 31.79s/it]"
     ]
    },
    {
     "name": "stdout",
     "output_type": "stream",
     "text": [
      "../data/02_laughter/laughter_annotations/friends_s03e24b.csv\n",
      "n laughter segments:\n",
      "47\n",
      "n nonlaughter segments:\n",
      "24\n"
     ]
    },
    {
     "name": "stderr",
     "output_type": "stream",
     "text": [
      " 51%|███████████████████                  | 144/280 [1:14:23<1:12:40, 32.07s/it]"
     ]
    },
    {
     "name": "stdout",
     "output_type": "stream",
     "text": [
      "../data/02_laughter/laughter_annotations/friends_s03e25a.csv\n",
      "n laughter segments:\n",
      "64\n",
      "n nonlaughter segments:\n",
      "18\n"
     ]
    },
    {
     "name": "stderr",
     "output_type": "stream",
     "text": [
      " 52%|███████████████████▏                 | 145/280 [1:14:55<1:12:19, 32.15s/it]"
     ]
    },
    {
     "name": "stdout",
     "output_type": "stream",
     "text": [
      "../data/02_laughter/laughter_annotations/friends_s03e25b.csv\n",
      "n laughter segments:\n",
      "45\n",
      "n nonlaughter segments:\n",
      "23\n"
     ]
    },
    {
     "name": "stderr",
     "output_type": "stream",
     "text": [
      " 52%|███████████████████▎                 | 146/280 [1:15:28<1:12:02, 32.26s/it]"
     ]
    },
    {
     "name": "stdout",
     "output_type": "stream",
     "text": [
      "../data/02_laughter/laughter_annotations/friends_s04e02a.csv\n",
      "n laughter segments:\n",
      "53\n",
      "n nonlaughter segments:\n",
      "23\n"
     ]
    },
    {
     "name": "stderr",
     "output_type": "stream",
     "text": [
      " 52%|███████████████████▍                 | 147/280 [1:16:00<1:11:32, 32.27s/it]"
     ]
    },
    {
     "name": "stdout",
     "output_type": "stream",
     "text": [
      "../data/02_laughter/laughter_annotations/friends_s04e02b.csv\n",
      "n laughter segments:\n",
      "53\n",
      "n nonlaughter segments:\n",
      "26\n"
     ]
    },
    {
     "name": "stderr",
     "output_type": "stream",
     "text": [
      " 53%|███████████████████▌                 | 148/280 [1:16:32<1:10:47, 32.18s/it]"
     ]
    },
    {
     "name": "stdout",
     "output_type": "stream",
     "text": [
      "../data/02_laughter/laughter_annotations/friends_s04e03a.csv\n",
      "n laughter segments:\n",
      "48\n",
      "n nonlaughter segments:\n",
      "29\n"
     ]
    },
    {
     "name": "stderr",
     "output_type": "stream",
     "text": [
      " 53%|███████████████████▋                 | 149/280 [1:17:04<1:09:58, 32.05s/it]"
     ]
    },
    {
     "name": "stdout",
     "output_type": "stream",
     "text": [
      "../data/02_laughter/laughter_annotations/friends_s04e03b.csv\n",
      "n laughter segments:\n",
      "49\n",
      "n nonlaughter segments:\n",
      "22\n"
     ]
    },
    {
     "name": "stderr",
     "output_type": "stream",
     "text": [
      " 54%|███████████████████▊                 | 150/280 [1:17:35<1:08:38, 31.68s/it]"
     ]
    },
    {
     "name": "stdout",
     "output_type": "stream",
     "text": [
      "../data/02_laughter/laughter_annotations/friends_s04e04a.csv\n",
      "n laughter segments:\n",
      "49\n",
      "n nonlaughter segments:\n",
      "20\n"
     ]
    },
    {
     "name": "stderr",
     "output_type": "stream",
     "text": [
      " 54%|███████████████████▉                 | 151/280 [1:18:08<1:08:58, 32.08s/it]"
     ]
    },
    {
     "name": "stdout",
     "output_type": "stream",
     "text": [
      "../data/02_laughter/laughter_annotations/friends_s04e04b.csv\n",
      "n laughter segments:\n",
      "52\n",
      "n nonlaughter segments:\n",
      "25\n"
     ]
    },
    {
     "name": "stderr",
     "output_type": "stream",
     "text": [
      " 54%|████████████████████                 | 152/280 [1:18:40<1:08:49, 32.26s/it]"
     ]
    },
    {
     "name": "stdout",
     "output_type": "stream",
     "text": [
      "../data/02_laughter/laughter_annotations/friends_s04e05a.csv\n",
      "n laughter segments:\n",
      "57\n",
      "n nonlaughter segments:\n",
      "19\n"
     ]
    },
    {
     "name": "stderr",
     "output_type": "stream",
     "text": [
      " 55%|████████████████████▏                | 153/280 [1:19:13<1:08:33, 32.39s/it]"
     ]
    },
    {
     "name": "stdout",
     "output_type": "stream",
     "text": [
      "../data/02_laughter/laughter_annotations/friends_s04e05b.csv\n",
      "n laughter segments:\n",
      "52\n",
      "n nonlaughter segments:\n",
      "24\n"
     ]
    },
    {
     "name": "stderr",
     "output_type": "stream",
     "text": [
      " 55%|████████████████████▎                | 154/280 [1:19:45<1:07:58, 32.37s/it]"
     ]
    },
    {
     "name": "stdout",
     "output_type": "stream",
     "text": [
      "../data/02_laughter/laughter_annotations/friends_s04e06a.csv\n",
      "n laughter segments:\n",
      "56\n",
      "n nonlaughter segments:\n",
      "22\n"
     ]
    },
    {
     "name": "stderr",
     "output_type": "stream",
     "text": [
      " 55%|████████████████████▍                | 155/280 [1:20:18<1:07:27, 32.38s/it]"
     ]
    },
    {
     "name": "stdout",
     "output_type": "stream",
     "text": [
      "../data/02_laughter/laughter_annotations/friends_s04e06b.csv\n",
      "n laughter segments:\n",
      "50\n",
      "n nonlaughter segments:\n",
      "23\n"
     ]
    },
    {
     "name": "stderr",
     "output_type": "stream",
     "text": [
      " 56%|████████████████████▌                | 156/280 [1:20:50<1:06:55, 32.39s/it]"
     ]
    },
    {
     "name": "stdout",
     "output_type": "stream",
     "text": [
      "../data/02_laughter/laughter_annotations/friends_s04e07a.csv\n",
      "n laughter segments:\n",
      "56\n",
      "n nonlaughter segments:\n",
      "28\n"
     ]
    },
    {
     "name": "stderr",
     "output_type": "stream",
     "text": [
      " 56%|████████████████████▋                | 157/280 [1:21:22<1:06:16, 32.33s/it]"
     ]
    },
    {
     "name": "stdout",
     "output_type": "stream",
     "text": [
      "../data/02_laughter/laughter_annotations/friends_s04e07b.csv\n",
      "n laughter segments:\n",
      "46\n",
      "n nonlaughter segments:\n",
      "25\n"
     ]
    },
    {
     "name": "stderr",
     "output_type": "stream",
     "text": [
      " 56%|████████████████████▉                | 158/280 [1:21:54<1:05:37, 32.28s/it]"
     ]
    },
    {
     "name": "stdout",
     "output_type": "stream",
     "text": [
      "../data/02_laughter/laughter_annotations/friends_s04e08a.csv\n",
      "n laughter segments:\n",
      "52\n",
      "n nonlaughter segments:\n",
      "22\n"
     ]
    },
    {
     "name": "stderr",
     "output_type": "stream",
     "text": [
      " 57%|█████████████████████                | 159/280 [1:22:27<1:05:03, 32.26s/it]"
     ]
    },
    {
     "name": "stdout",
     "output_type": "stream",
     "text": [
      "../data/02_laughter/laughter_annotations/friends_s04e08b.csv\n",
      "n laughter segments:\n",
      "49\n",
      "n nonlaughter segments:\n",
      "25\n"
     ]
    },
    {
     "name": "stderr",
     "output_type": "stream",
     "text": [
      " 57%|█████████████████████▏               | 160/280 [1:22:58<1:03:47, 31.90s/it]"
     ]
    },
    {
     "name": "stdout",
     "output_type": "stream",
     "text": [
      "../data/02_laughter/laughter_annotations/friends_s04e09a.csv\n",
      "n laughter segments:\n",
      "57\n",
      "n nonlaughter segments:\n",
      "22\n"
     ]
    },
    {
     "name": "stderr",
     "output_type": "stream",
     "text": [
      " 57%|█████████████████████▎               | 161/280 [1:23:28<1:02:12, 31.37s/it]"
     ]
    },
    {
     "name": "stdout",
     "output_type": "stream",
     "text": [
      "../data/02_laughter/laughter_annotations/friends_s04e09b.csv\n",
      "n laughter segments:\n",
      "47\n",
      "n nonlaughter segments:\n",
      "21\n"
     ]
    },
    {
     "name": "stderr",
     "output_type": "stream",
     "text": [
      " 58%|█████████████████████▍               | 162/280 [1:23:59<1:01:24, 31.22s/it]"
     ]
    },
    {
     "name": "stdout",
     "output_type": "stream",
     "text": [
      "../data/02_laughter/laughter_annotations/friends_s04e10a.csv\n",
      "n laughter segments:\n",
      "49\n",
      "n nonlaughter segments:\n",
      "23\n"
     ]
    },
    {
     "name": "stderr",
     "output_type": "stream",
     "text": [
      " 58%|█████████████████████▌               | 163/280 [1:24:30<1:00:42, 31.13s/it]"
     ]
    },
    {
     "name": "stdout",
     "output_type": "stream",
     "text": [
      "../data/02_laughter/laughter_annotations/friends_s04e10b.csv\n",
      "n laughter segments:\n",
      "48\n",
      "n nonlaughter segments:\n",
      "25\n"
     ]
    },
    {
     "name": "stderr",
     "output_type": "stream",
     "text": [
      " 59%|█████████████████████▋               | 164/280 [1:25:01<1:00:35, 31.34s/it]"
     ]
    },
    {
     "name": "stdout",
     "output_type": "stream",
     "text": [
      "../data/02_laughter/laughter_annotations/friends_s04e11a.csv\n",
      "n laughter segments:\n",
      "51\n",
      "n nonlaughter segments:\n",
      "29\n"
     ]
    },
    {
     "name": "stderr",
     "output_type": "stream",
     "text": [
      " 59%|█████████████████████▊               | 165/280 [1:25:33<1:00:14, 31.43s/it]"
     ]
    },
    {
     "name": "stdout",
     "output_type": "stream",
     "text": [
      "../data/02_laughter/laughter_annotations/friends_s04e11b.csv\n",
      "n laughter segments:\n",
      "45\n",
      "n nonlaughter segments:\n",
      "23\n"
     ]
    },
    {
     "name": "stderr",
     "output_type": "stream",
     "text": [
      " 59%|███████████████████████                | 166/280 [1:26:05<59:58, 31.57s/it]"
     ]
    },
    {
     "name": "stdout",
     "output_type": "stream",
     "text": [
      "../data/02_laughter/laughter_annotations/friends_s04e12a.csv\n",
      "n laughter segments:\n",
      "53\n",
      "n nonlaughter segments:\n",
      "25\n"
     ]
    },
    {
     "name": "stderr",
     "output_type": "stream",
     "text": [
      " 60%|███████████████████████▎               | 167/280 [1:26:37<59:39, 31.68s/it]"
     ]
    },
    {
     "name": "stdout",
     "output_type": "stream",
     "text": [
      "../data/02_laughter/laughter_annotations/friends_s04e12b.csv\n",
      "n laughter segments:\n",
      "55\n",
      "n nonlaughter segments:\n",
      "23\n"
     ]
    },
    {
     "name": "stderr",
     "output_type": "stream",
     "text": [
      " 60%|███████████████████████▍               | 168/280 [1:27:09<59:21, 31.80s/it]"
     ]
    },
    {
     "name": "stdout",
     "output_type": "stream",
     "text": [
      "../data/02_laughter/laughter_annotations/friends_s04e14a.csv\n",
      "n laughter segments:\n",
      "50\n",
      "n nonlaughter segments:\n",
      "21\n"
     ]
    },
    {
     "name": "stderr",
     "output_type": "stream",
     "text": [
      " 60%|███████████████████████▌               | 169/280 [1:27:41<58:56, 31.86s/it]"
     ]
    },
    {
     "name": "stdout",
     "output_type": "stream",
     "text": [
      "../data/02_laughter/laughter_annotations/friends_s04e14b.csv\n",
      "n laughter segments:\n",
      "52\n",
      "n nonlaughter segments:\n",
      "23\n"
     ]
    },
    {
     "name": "stderr",
     "output_type": "stream",
     "text": [
      " 61%|███████████████████████▋               | 170/280 [1:28:13<58:33, 31.94s/it]"
     ]
    },
    {
     "name": "stdout",
     "output_type": "stream",
     "text": [
      "../data/02_laughter/laughter_annotations/friends_s04e15a.csv\n",
      "n laughter segments:\n",
      "49\n",
      "n nonlaughter segments:\n",
      "23\n"
     ]
    },
    {
     "name": "stderr",
     "output_type": "stream",
     "text": [
      " 61%|███████████████████████▊               | 171/280 [1:28:45<58:10, 32.02s/it]"
     ]
    },
    {
     "name": "stdout",
     "output_type": "stream",
     "text": [
      "../data/02_laughter/laughter_annotations/friends_s04e15b.csv\n",
      "n laughter segments:\n",
      "50\n",
      "n nonlaughter segments:\n",
      "22\n"
     ]
    },
    {
     "name": "stderr",
     "output_type": "stream",
     "text": [
      " 61%|███████████████████████▉               | 172/280 [1:29:18<57:51, 32.15s/it]"
     ]
    },
    {
     "name": "stdout",
     "output_type": "stream",
     "text": [
      "../data/02_laughter/laughter_annotations/friends_s04e16a.csv\n",
      "n laughter segments:\n",
      "56\n",
      "n nonlaughter segments:\n",
      "23\n"
     ]
    },
    {
     "name": "stderr",
     "output_type": "stream",
     "text": [
      " 62%|████████████████████████               | 173/280 [1:29:50<57:37, 32.31s/it]"
     ]
    },
    {
     "name": "stdout",
     "output_type": "stream",
     "text": [
      "../data/02_laughter/laughter_annotations/friends_s04e16b.csv\n",
      "n laughter segments:\n",
      "46\n",
      "n nonlaughter segments:\n",
      "18\n"
     ]
    },
    {
     "name": "stderr",
     "output_type": "stream",
     "text": [
      " 62%|████████████████████████▏              | 174/280 [1:30:23<57:06, 32.32s/it]"
     ]
    },
    {
     "name": "stdout",
     "output_type": "stream",
     "text": [
      "../data/02_laughter/laughter_annotations/friends_s04e17a.csv\n",
      "n laughter segments:\n",
      "56\n",
      "n nonlaughter segments:\n",
      "21\n"
     ]
    },
    {
     "name": "stderr",
     "output_type": "stream",
     "text": [
      " 62%|████████████████████████▍              | 175/280 [1:30:55<56:26, 32.25s/it]"
     ]
    },
    {
     "name": "stdout",
     "output_type": "stream",
     "text": [
      "../data/02_laughter/laughter_annotations/friends_s04e17b.csv\n",
      "n laughter segments:\n",
      "47\n",
      "n nonlaughter segments:\n",
      "24\n"
     ]
    },
    {
     "name": "stderr",
     "output_type": "stream",
     "text": [
      " 63%|████████████████████████▌              | 176/280 [1:31:27<56:03, 32.34s/it]"
     ]
    },
    {
     "name": "stdout",
     "output_type": "stream",
     "text": [
      "../data/02_laughter/laughter_annotations/friends_s04e18a.csv\n",
      "n laughter segments:\n",
      "55\n",
      "n nonlaughter segments:\n",
      "25\n"
     ]
    },
    {
     "name": "stderr",
     "output_type": "stream",
     "text": [
      " 63%|████████████████████████▋              | 177/280 [1:32:00<55:34, 32.37s/it]"
     ]
    },
    {
     "name": "stdout",
     "output_type": "stream",
     "text": [
      "../data/02_laughter/laughter_annotations/friends_s04e18b.csv\n",
      "n laughter segments:\n",
      "42\n",
      "n nonlaughter segments:\n",
      "23\n"
     ]
    },
    {
     "name": "stderr",
     "output_type": "stream",
     "text": [
      " 64%|████████████████████████▊              | 178/280 [1:32:32<55:00, 32.36s/it]"
     ]
    },
    {
     "name": "stdout",
     "output_type": "stream",
     "text": [
      "../data/02_laughter/laughter_annotations/friends_s04e19a.csv\n",
      "n laughter segments:\n",
      "42\n",
      "n nonlaughter segments:\n",
      "26\n"
     ]
    },
    {
     "name": "stderr",
     "output_type": "stream",
     "text": [
      " 64%|████████████████████████▉              | 179/280 [1:33:05<54:32, 32.40s/it]"
     ]
    },
    {
     "name": "stdout",
     "output_type": "stream",
     "text": [
      "../data/02_laughter/laughter_annotations/friends_s04e19b.csv\n",
      "n laughter segments:\n",
      "44\n",
      "n nonlaughter segments:\n",
      "20\n"
     ]
    },
    {
     "name": "stderr",
     "output_type": "stream",
     "text": [
      " 64%|█████████████████████████              | 180/280 [1:33:37<53:57, 32.38s/it]"
     ]
    },
    {
     "name": "stdout",
     "output_type": "stream",
     "text": [
      "../data/02_laughter/laughter_annotations/friends_s04e20a.csv\n",
      "n laughter segments:\n",
      "46\n",
      "n nonlaughter segments:\n",
      "20\n"
     ]
    },
    {
     "name": "stderr",
     "output_type": "stream",
     "text": [
      " 65%|█████████████████████████▏             | 181/280 [1:34:09<53:06, 32.19s/it]"
     ]
    },
    {
     "name": "stdout",
     "output_type": "stream",
     "text": [
      "../data/02_laughter/laughter_annotations/friends_s04e20b.csv\n",
      "n laughter segments:\n",
      "46\n",
      "n nonlaughter segments:\n",
      "25\n"
     ]
    },
    {
     "name": "stderr",
     "output_type": "stream",
     "text": [
      " 65%|█████████████████████████▎             | 182/280 [1:34:41<52:22, 32.07s/it]"
     ]
    },
    {
     "name": "stdout",
     "output_type": "stream",
     "text": [
      "../data/02_laughter/laughter_annotations/friends_s04e21a.csv\n",
      "n laughter segments:\n",
      "38\n",
      "n nonlaughter segments:\n",
      "22\n"
     ]
    },
    {
     "name": "stderr",
     "output_type": "stream",
     "text": [
      " 65%|█████████████████████████▍             | 183/280 [1:35:13<51:57, 32.14s/it]"
     ]
    },
    {
     "name": "stdout",
     "output_type": "stream",
     "text": [
      "../data/02_laughter/laughter_annotations/friends_s04e21b.csv\n",
      "n laughter segments:\n",
      "39\n",
      "n nonlaughter segments:\n",
      "23\n"
     ]
    },
    {
     "name": "stderr",
     "output_type": "stream",
     "text": [
      " 66%|█████████████████████████▋             | 184/280 [1:35:45<51:27, 32.16s/it]"
     ]
    },
    {
     "name": "stdout",
     "output_type": "stream",
     "text": [
      "../data/02_laughter/laughter_annotations/friends_s04e22a.csv\n",
      "n laughter segments:\n",
      "53\n",
      "n nonlaughter segments:\n",
      "21\n"
     ]
    },
    {
     "name": "stderr",
     "output_type": "stream",
     "text": [
      " 66%|█████████████████████████▊             | 185/280 [1:36:17<50:53, 32.14s/it]"
     ]
    },
    {
     "name": "stdout",
     "output_type": "stream",
     "text": [
      "../data/02_laughter/laughter_annotations/friends_s04e22b.csv\n",
      "n laughter segments:\n",
      "45\n",
      "n nonlaughter segments:\n",
      "27\n"
     ]
    },
    {
     "name": "stderr",
     "output_type": "stream",
     "text": [
      " 66%|█████████████████████████▉             | 186/280 [1:36:50<50:27, 32.21s/it]"
     ]
    },
    {
     "name": "stdout",
     "output_type": "stream",
     "text": [
      "../data/02_laughter/laughter_annotations/friends_s04e23a.csv\n",
      "n laughter segments:\n",
      "49\n",
      "n nonlaughter segments:\n",
      "21\n"
     ]
    },
    {
     "name": "stderr",
     "output_type": "stream",
     "text": [
      " 67%|██████████████████████████             | 187/280 [1:37:22<50:03, 32.29s/it]"
     ]
    },
    {
     "name": "stdout",
     "output_type": "stream",
     "text": [
      "../data/02_laughter/laughter_annotations/friends_s04e23b.csv\n",
      "n laughter segments:\n",
      "53\n",
      "n nonlaughter segments:\n",
      "27\n"
     ]
    },
    {
     "name": "stderr",
     "output_type": "stream",
     "text": [
      " 67%|██████████████████████████▏            | 188/280 [1:37:55<49:42, 32.42s/it]"
     ]
    },
    {
     "name": "stdout",
     "output_type": "stream",
     "text": [
      "../data/02_laughter/laughter_annotations/friends_s04e23c.csv\n",
      "n laughter segments:\n",
      "57\n",
      "n nonlaughter segments:\n",
      "25\n"
     ]
    },
    {
     "name": "stderr",
     "output_type": "stream",
     "text": [
      " 68%|██████████████████████████▎            | 189/280 [1:38:27<49:07, 32.39s/it]"
     ]
    },
    {
     "name": "stdout",
     "output_type": "stream",
     "text": [
      "../data/02_laughter/laughter_annotations/friends_s04e23d.csv\n",
      "n laughter segments:\n",
      "40\n",
      "n nonlaughter segments:\n",
      "23\n"
     ]
    },
    {
     "name": "stderr",
     "output_type": "stream",
     "text": [
      " 68%|██████████████████████████▍            | 190/280 [1:38:59<48:23, 32.26s/it]"
     ]
    },
    {
     "name": "stdout",
     "output_type": "stream",
     "text": [
      "../data/02_laughter/laughter_annotations/friends_s05e01a.csv\n",
      "n laughter segments:\n",
      "49\n",
      "n nonlaughter segments:\n",
      "19\n"
     ]
    },
    {
     "name": "stderr",
     "output_type": "stream",
     "text": [
      " 68%|██████████████████████████▌            | 191/280 [1:39:32<47:57, 32.33s/it]"
     ]
    },
    {
     "name": "stdout",
     "output_type": "stream",
     "text": [
      "../data/02_laughter/laughter_annotations/friends_s05e01b.csv\n",
      "n laughter segments:\n",
      "46\n",
      "n nonlaughter segments:\n",
      "21\n"
     ]
    },
    {
     "name": "stderr",
     "output_type": "stream",
     "text": [
      " 69%|██████████████████████████▋            | 192/280 [1:40:04<47:39, 32.49s/it]"
     ]
    },
    {
     "name": "stdout",
     "output_type": "stream",
     "text": [
      "../data/02_laughter/laughter_annotations/friends_s05e02a.csv\n",
      "n laughter segments:\n",
      "49\n",
      "n nonlaughter segments:\n",
      "24\n"
     ]
    },
    {
     "name": "stderr",
     "output_type": "stream",
     "text": [
      " 69%|██████████████████████████▉            | 193/280 [1:40:37<47:06, 32.49s/it]"
     ]
    },
    {
     "name": "stdout",
     "output_type": "stream",
     "text": [
      "../data/02_laughter/laughter_annotations/friends_s05e02b.csv\n",
      "n laughter segments:\n",
      "50\n",
      "n nonlaughter segments:\n",
      "21\n"
     ]
    },
    {
     "name": "stderr",
     "output_type": "stream",
     "text": [
      " 69%|███████████████████████████            | 194/280 [1:41:09<46:34, 32.50s/it]"
     ]
    },
    {
     "name": "stdout",
     "output_type": "stream",
     "text": [
      "../data/02_laughter/laughter_annotations/friends_s05e03a.csv\n",
      "n laughter segments:\n",
      "50\n",
      "n nonlaughter segments:\n",
      "22\n"
     ]
    },
    {
     "name": "stderr",
     "output_type": "stream",
     "text": [
      " 70%|███████████████████████████▏           | 195/280 [1:41:42<45:57, 32.44s/it]"
     ]
    },
    {
     "name": "stdout",
     "output_type": "stream",
     "text": [
      "../data/02_laughter/laughter_annotations/friends_s05e03b.csv\n",
      "n laughter segments:\n",
      "49\n",
      "n nonlaughter segments:\n",
      "22\n"
     ]
    },
    {
     "name": "stderr",
     "output_type": "stream",
     "text": [
      " 70%|███████████████████████████▎           | 196/280 [1:42:14<45:25, 32.45s/it]"
     ]
    },
    {
     "name": "stdout",
     "output_type": "stream",
     "text": [
      "../data/02_laughter/laughter_annotations/friends_s05e04a.csv\n",
      "n laughter segments:\n",
      "48\n",
      "n nonlaughter segments:\n",
      "22\n"
     ]
    },
    {
     "name": "stderr",
     "output_type": "stream",
     "text": [
      " 70%|███████████████████████████▍           | 197/280 [1:42:47<45:05, 32.60s/it]"
     ]
    },
    {
     "name": "stdout",
     "output_type": "stream",
     "text": [
      "../data/02_laughter/laughter_annotations/friends_s05e04b.csv\n",
      "n laughter segments:\n",
      "56\n",
      "n nonlaughter segments:\n",
      "23\n"
     ]
    },
    {
     "name": "stderr",
     "output_type": "stream",
     "text": [
      " 71%|███████████████████████████▌           | 198/280 [1:43:19<44:14, 32.37s/it]"
     ]
    },
    {
     "name": "stdout",
     "output_type": "stream",
     "text": [
      "../data/02_laughter/laughter_annotations/friends_s05e05a.csv\n",
      "n laughter segments:\n",
      "56\n",
      "n nonlaughter segments:\n",
      "20\n"
     ]
    },
    {
     "name": "stderr",
     "output_type": "stream",
     "text": [
      " 71%|███████████████████████████▋           | 199/280 [1:43:51<43:37, 32.32s/it]"
     ]
    },
    {
     "name": "stdout",
     "output_type": "stream",
     "text": [
      "../data/02_laughter/laughter_annotations/friends_s05e05b.csv\n",
      "n laughter segments:\n",
      "52\n",
      "n nonlaughter segments:\n",
      "27\n"
     ]
    },
    {
     "name": "stderr",
     "output_type": "stream",
     "text": [
      " 71%|███████████████████████████▊           | 200/280 [1:44:23<42:58, 32.23s/it]"
     ]
    },
    {
     "name": "stdout",
     "output_type": "stream",
     "text": [
      "../data/02_laughter/laughter_annotations/friends_s05e06a.csv\n",
      "n laughter segments:\n",
      "49\n",
      "n nonlaughter segments:\n",
      "25\n"
     ]
    },
    {
     "name": "stderr",
     "output_type": "stream",
     "text": [
      " 72%|███████████████████████████▉           | 201/280 [1:44:55<42:26, 32.24s/it]"
     ]
    },
    {
     "name": "stdout",
     "output_type": "stream",
     "text": [
      "../data/02_laughter/laughter_annotations/friends_s05e06b.csv\n",
      "n laughter segments:\n",
      "44\n",
      "n nonlaughter segments:\n",
      "23\n"
     ]
    },
    {
     "name": "stderr",
     "output_type": "stream",
     "text": [
      " 72%|████████████████████████████▏          | 202/280 [1:45:28<41:57, 32.28s/it]"
     ]
    },
    {
     "name": "stdout",
     "output_type": "stream",
     "text": [
      "../data/02_laughter/laughter_annotations/friends_s05e07a.csv\n",
      "n laughter segments:\n",
      "42\n",
      "n nonlaughter segments:\n",
      "22\n"
     ]
    },
    {
     "name": "stderr",
     "output_type": "stream",
     "text": [
      " 72%|████████████████████████████▎          | 203/280 [1:46:00<41:26, 32.29s/it]"
     ]
    },
    {
     "name": "stdout",
     "output_type": "stream",
     "text": [
      "../data/02_laughter/laughter_annotations/friends_s05e07b.csv\n",
      "n laughter segments:\n",
      "54\n",
      "n nonlaughter segments:\n",
      "22\n"
     ]
    },
    {
     "name": "stderr",
     "output_type": "stream",
     "text": [
      " 73%|████████████████████████████▍          | 204/280 [1:46:33<40:57, 32.33s/it]"
     ]
    },
    {
     "name": "stdout",
     "output_type": "stream",
     "text": [
      "../data/02_laughter/laughter_annotations/friends_s05e08a.csv\n",
      "n laughter segments:\n",
      "48\n",
      "n nonlaughter segments:\n",
      "21\n"
     ]
    },
    {
     "name": "stderr",
     "output_type": "stream",
     "text": [
      " 73%|████████████████████████████▌          | 205/280 [1:47:05<40:25, 32.34s/it]"
     ]
    },
    {
     "name": "stdout",
     "output_type": "stream",
     "text": [
      "../data/02_laughter/laughter_annotations/friends_s05e08b.csv\n",
      "n laughter segments:\n",
      "63\n",
      "n nonlaughter segments:\n",
      "21\n"
     ]
    },
    {
     "name": "stderr",
     "output_type": "stream",
     "text": [
      " 74%|████████████████████████████▋          | 206/280 [1:47:37<39:57, 32.40s/it]"
     ]
    },
    {
     "name": "stdout",
     "output_type": "stream",
     "text": [
      "../data/02_laughter/laughter_annotations/friends_s05e09a.csv\n",
      "n laughter segments:\n",
      "50\n",
      "n nonlaughter segments:\n",
      "20\n"
     ]
    },
    {
     "name": "stderr",
     "output_type": "stream",
     "text": [
      " 74%|████████████████████████████▊          | 207/280 [1:48:10<39:28, 32.44s/it]"
     ]
    },
    {
     "name": "stdout",
     "output_type": "stream",
     "text": [
      "../data/02_laughter/laughter_annotations/friends_s05e09b.csv\n",
      "n laughter segments:\n",
      "58\n",
      "n nonlaughter segments:\n",
      "19\n"
     ]
    },
    {
     "name": "stderr",
     "output_type": "stream",
     "text": [
      " 74%|████████████████████████████▉          | 208/280 [1:48:42<38:52, 32.39s/it]"
     ]
    },
    {
     "name": "stdout",
     "output_type": "stream",
     "text": [
      "../data/02_laughter/laughter_annotations/friends_s05e10a.csv\n",
      "n laughter segments:\n",
      "44\n",
      "n nonlaughter segments:\n",
      "23\n"
     ]
    },
    {
     "name": "stderr",
     "output_type": "stream",
     "text": [
      " 75%|█████████████████████████████          | 209/280 [1:49:15<38:19, 32.39s/it]"
     ]
    },
    {
     "name": "stdout",
     "output_type": "stream",
     "text": [
      "../data/02_laughter/laughter_annotations/friends_s05e10b.csv\n",
      "n laughter segments:\n",
      "52\n",
      "n nonlaughter segments:\n",
      "27\n"
     ]
    },
    {
     "name": "stderr",
     "output_type": "stream",
     "text": [
      " 75%|█████████████████████████████▎         | 210/280 [1:49:47<37:50, 32.44s/it]"
     ]
    },
    {
     "name": "stdout",
     "output_type": "stream",
     "text": [
      "../data/02_laughter/laughter_annotations/friends_s05e11a.csv\n",
      "n laughter segments:\n",
      "54\n",
      "n nonlaughter segments:\n",
      "19\n"
     ]
    },
    {
     "name": "stderr",
     "output_type": "stream",
     "text": [
      " 75%|█████████████████████████████▍         | 211/280 [1:50:19<37:03, 32.22s/it]"
     ]
    },
    {
     "name": "stdout",
     "output_type": "stream",
     "text": [
      "../data/02_laughter/laughter_annotations/friends_s05e11b.csv\n",
      "n laughter segments:\n",
      "59\n",
      "n nonlaughter segments:\n",
      "24\n"
     ]
    },
    {
     "name": "stderr",
     "output_type": "stream",
     "text": [
      " 76%|█████████████████████████████▌         | 212/280 [1:50:51<36:32, 32.25s/it]"
     ]
    },
    {
     "name": "stdout",
     "output_type": "stream",
     "text": [
      "../data/02_laughter/laughter_annotations/friends_s05e12a.csv\n",
      "n laughter segments:\n",
      "55\n",
      "n nonlaughter segments:\n",
      "17\n"
     ]
    },
    {
     "name": "stderr",
     "output_type": "stream",
     "text": [
      " 76%|█████████████████████████████▋         | 213/280 [1:51:24<36:03, 32.29s/it]"
     ]
    },
    {
     "name": "stdout",
     "output_type": "stream",
     "text": [
      "../data/02_laughter/laughter_annotations/friends_s05e12b.csv\n",
      "n laughter segments:\n",
      "54\n",
      "n nonlaughter segments:\n",
      "28\n"
     ]
    },
    {
     "name": "stderr",
     "output_type": "stream",
     "text": [
      " 76%|█████████████████████████████▊         | 214/280 [1:51:56<35:28, 32.25s/it]"
     ]
    },
    {
     "name": "stdout",
     "output_type": "stream",
     "text": [
      "../data/02_laughter/laughter_annotations/friends_s05e13a.csv\n",
      "n laughter segments:\n",
      "54\n",
      "n nonlaughter segments:\n",
      "20\n"
     ]
    },
    {
     "name": "stderr",
     "output_type": "stream",
     "text": [
      " 77%|█████████████████████████████▉         | 215/280 [1:52:28<34:55, 32.24s/it]"
     ]
    },
    {
     "name": "stdout",
     "output_type": "stream",
     "text": [
      "../data/02_laughter/laughter_annotations/friends_s05e13b.csv\n",
      "n laughter segments:\n",
      "48\n",
      "n nonlaughter segments:\n",
      "19\n"
     ]
    },
    {
     "name": "stderr",
     "output_type": "stream",
     "text": [
      " 77%|██████████████████████████████         | 216/280 [1:52:59<33:57, 31.83s/it]"
     ]
    },
    {
     "name": "stdout",
     "output_type": "stream",
     "text": [
      "../data/02_laughter/laughter_annotations/friends_s05e14a.csv\n",
      "n laughter segments:\n",
      "47\n",
      "n nonlaughter segments:\n",
      "26\n"
     ]
    },
    {
     "name": "stderr",
     "output_type": "stream",
     "text": [
      " 78%|██████████████████████████████▏        | 217/280 [1:53:30<33:08, 31.57s/it]"
     ]
    },
    {
     "name": "stdout",
     "output_type": "stream",
     "text": [
      "../data/02_laughter/laughter_annotations/friends_s05e14b.csv\n",
      "n laughter segments:\n",
      "62\n",
      "n nonlaughter segments:\n",
      "23\n"
     ]
    },
    {
     "name": "stderr",
     "output_type": "stream",
     "text": [
      " 78%|██████████████████████████████▎        | 218/280 [1:54:02<32:44, 31.69s/it]"
     ]
    },
    {
     "name": "stdout",
     "output_type": "stream",
     "text": [
      "../data/02_laughter/laughter_annotations/friends_s05e15a.csv\n",
      "n laughter segments:\n",
      "47\n",
      "n nonlaughter segments:\n",
      "21\n"
     ]
    },
    {
     "name": "stderr",
     "output_type": "stream",
     "text": [
      " 78%|██████████████████████████████▌        | 219/280 [1:54:34<32:20, 31.81s/it]"
     ]
    },
    {
     "name": "stdout",
     "output_type": "stream",
     "text": [
      "../data/02_laughter/laughter_annotations/friends_s05e15b.csv\n",
      "n laughter segments:\n",
      "58\n",
      "n nonlaughter segments:\n",
      "23\n"
     ]
    },
    {
     "name": "stderr",
     "output_type": "stream",
     "text": [
      " 79%|██████████████████████████████▋        | 220/280 [1:55:06<31:56, 31.95s/it]"
     ]
    },
    {
     "name": "stdout",
     "output_type": "stream",
     "text": [
      "../data/02_laughter/laughter_annotations/friends_s05e16a.csv\n",
      "n laughter segments:\n",
      "51\n",
      "n nonlaughter segments:\n",
      "22\n"
     ]
    },
    {
     "name": "stderr",
     "output_type": "stream",
     "text": [
      " 79%|██████████████████████████████▊        | 221/280 [1:55:39<31:37, 32.16s/it]"
     ]
    },
    {
     "name": "stdout",
     "output_type": "stream",
     "text": [
      "../data/02_laughter/laughter_annotations/friends_s05e16b.csv\n",
      "n laughter segments:\n",
      "57\n",
      "n nonlaughter segments:\n",
      "26\n"
     ]
    },
    {
     "name": "stderr",
     "output_type": "stream",
     "text": [
      " 79%|██████████████████████████████▉        | 222/280 [1:56:11<31:08, 32.22s/it]"
     ]
    },
    {
     "name": "stdout",
     "output_type": "stream",
     "text": [
      "../data/02_laughter/laughter_annotations/friends_s05e17a.csv\n",
      "n laughter segments:\n",
      "47\n",
      "n nonlaughter segments:\n",
      "22\n"
     ]
    },
    {
     "name": "stderr",
     "output_type": "stream",
     "text": [
      " 80%|███████████████████████████████        | 223/280 [1:56:44<30:50, 32.47s/it]"
     ]
    },
    {
     "name": "stdout",
     "output_type": "stream",
     "text": [
      "../data/02_laughter/laughter_annotations/friends_s05e17b.csv\n",
      "n laughter segments:\n",
      "45\n",
      "n nonlaughter segments:\n",
      "22\n"
     ]
    },
    {
     "name": "stderr",
     "output_type": "stream",
     "text": [
      " 80%|████████████████████████████▊       | 224/280 [2:02:12<1:53:02, 121.11s/it]"
     ]
    },
    {
     "name": "stdout",
     "output_type": "stream",
     "text": [
      "../data/02_laughter/laughter_annotations/friends_s05e18a.csv\n",
      "n laughter segments:\n",
      "52\n",
      "n nonlaughter segments:\n",
      "26\n"
     ]
    },
    {
     "name": "stderr",
     "output_type": "stream",
     "text": [
      " 80%|████████████████████████████▏      | 225/280 [2:35:33<10:28:05, 685.19s/it]"
     ]
    },
    {
     "name": "stdout",
     "output_type": "stream",
     "text": [
      "../data/02_laughter/laughter_annotations/friends_s05e18b.csv\n",
      "n laughter segments:\n",
      "57\n",
      "n nonlaughter segments:\n",
      "29\n"
     ]
    },
    {
     "name": "stderr",
     "output_type": "stream",
     "text": [
      " 81%|████████████████████████████▎      | 226/280 [2:54:26<12:17:27, 819.39s/it]"
     ]
    },
    {
     "name": "stdout",
     "output_type": "stream",
     "text": [
      "../data/02_laughter/laughter_annotations/friends_s05e19a.csv\n",
      "n laughter segments:\n",
      "49\n",
      "n nonlaughter segments:\n",
      "23\n"
     ]
    },
    {
     "name": "stderr",
     "output_type": "stream",
     "text": [
      " 81%|████████████████████████████▍      | 227/280 [3:17:20<14:30:39, 985.65s/it]"
     ]
    },
    {
     "name": "stdout",
     "output_type": "stream",
     "text": [
      "../data/02_laughter/laughter_annotations/friends_s05e19b.csv\n",
      "n laughter segments:\n",
      "52\n",
      "n nonlaughter segments:\n",
      "20\n"
     ]
    },
    {
     "name": "stderr",
     "output_type": "stream",
     "text": [
      " 81%|████████████████████████████▌      | 228/280 [3:17:52<10:06:18, 699.58s/it]"
     ]
    },
    {
     "name": "stdout",
     "output_type": "stream",
     "text": [
      "../data/02_laughter/laughter_annotations/friends_s05e21a.csv\n",
      "n laughter segments:\n",
      "47\n",
      "n nonlaughter segments:\n",
      "18\n"
     ]
    },
    {
     "name": "stderr",
     "output_type": "stream",
     "text": [
      " 82%|█████████████████████████████▍      | 229/280 [3:18:24<7:04:29, 499.41s/it]"
     ]
    },
    {
     "name": "stdout",
     "output_type": "stream",
     "text": [
      "../data/02_laughter/laughter_annotations/friends_s05e21b.csv\n",
      "n laughter segments:\n",
      "56\n",
      "n nonlaughter segments:\n",
      "18\n"
     ]
    },
    {
     "name": "stderr",
     "output_type": "stream",
     "text": [
      " 82%|█████████████████████████████▌      | 230/280 [3:18:56<4:59:22, 359.25s/it]"
     ]
    },
    {
     "name": "stdout",
     "output_type": "stream",
     "text": [
      "../data/02_laughter/laughter_annotations/friends_s05e22a.csv\n",
      "n laughter segments:\n",
      "48\n",
      "n nonlaughter segments:\n",
      "18\n"
     ]
    },
    {
     "name": "stderr",
     "output_type": "stream",
     "text": [
      " 82%|█████████████████████████████▋      | 231/280 [3:19:29<3:33:17, 261.18s/it]"
     ]
    },
    {
     "name": "stdout",
     "output_type": "stream",
     "text": [
      "../data/02_laughter/laughter_annotations/friends_s05e22b.csv\n",
      "n laughter segments:\n",
      "57\n",
      "n nonlaughter segments:\n",
      "30\n"
     ]
    },
    {
     "name": "stderr",
     "output_type": "stream",
     "text": [
      " 83%|█████████████████████████████▊      | 232/280 [3:20:01<2:33:58, 192.48s/it]"
     ]
    },
    {
     "name": "stdout",
     "output_type": "stream",
     "text": [
      "../data/02_laughter/laughter_annotations/friends_s05e23a.csv\n",
      "n laughter segments:\n",
      "50\n",
      "n nonlaughter segments:\n",
      "19\n"
     ]
    },
    {
     "name": "stderr",
     "output_type": "stream",
     "text": [
      " 83%|█████████████████████████████▉      | 233/280 [3:20:33<1:53:12, 144.51s/it]"
     ]
    },
    {
     "name": "stdout",
     "output_type": "stream",
     "text": [
      "../data/02_laughter/laughter_annotations/friends_s05e23b.csv\n",
      "n laughter segments:\n",
      "50\n",
      "n nonlaughter segments:\n",
      "17\n"
     ]
    },
    {
     "name": "stderr",
     "output_type": "stream",
     "text": [
      " 84%|██████████████████████████████      | 234/280 [3:21:06<1:24:56, 110.80s/it]"
     ]
    },
    {
     "name": "stdout",
     "output_type": "stream",
     "text": [
      "../data/02_laughter/laughter_annotations/friends_s05e23c.csv\n",
      "n laughter segments:\n",
      "52\n",
      "n nonlaughter segments:\n",
      "21\n"
     ]
    },
    {
     "name": "stderr",
     "output_type": "stream",
     "text": [
      " 84%|███████████████████████████████      | 235/280 [3:21:38<1:05:25, 87.24s/it]"
     ]
    },
    {
     "name": "stdout",
     "output_type": "stream",
     "text": [
      "../data/02_laughter/laughter_annotations/friends_s05e23d.csv\n",
      "n laughter segments:\n",
      "57\n",
      "n nonlaughter segments:\n",
      "19\n"
     ]
    },
    {
     "name": "stderr",
     "output_type": "stream",
     "text": [
      " 84%|████████████████████████████████▊      | 236/280 [3:22:10<51:55, 70.80s/it]"
     ]
    },
    {
     "name": "stdout",
     "output_type": "stream",
     "text": [
      "../data/02_laughter/laughter_annotations/friends_s06e01a.csv\n",
      "n laughter segments:\n",
      "54\n",
      "n nonlaughter segments:\n",
      "22\n"
     ]
    },
    {
     "name": "stderr",
     "output_type": "stream",
     "text": [
      " 85%|█████████████████████████████████      | 237/280 [3:22:43<42:29, 59.28s/it]"
     ]
    },
    {
     "name": "stdout",
     "output_type": "stream",
     "text": [
      "../data/02_laughter/laughter_annotations/friends_s06e01b.csv\n",
      "n laughter segments:\n",
      "58\n",
      "n nonlaughter segments:\n",
      "21\n"
     ]
    },
    {
     "name": "stderr",
     "output_type": "stream",
     "text": [
      " 85%|█████████████████████████████████▏     | 238/280 [3:23:17<36:21, 51.93s/it]"
     ]
    },
    {
     "name": "stdout",
     "output_type": "stream",
     "text": [
      "../data/02_laughter/laughter_annotations/friends_s06e02a.csv\n",
      "n laughter segments:\n",
      "49\n",
      "n nonlaughter segments:\n",
      "21\n"
     ]
    },
    {
     "name": "stderr",
     "output_type": "stream",
     "text": [
      " 85%|█████████████████████████████████▎     | 239/280 [3:23:53<32:12, 47.15s/it]"
     ]
    },
    {
     "name": "stdout",
     "output_type": "stream",
     "text": [
      "../data/02_laughter/laughter_annotations/friends_s06e02b.csv\n",
      "n laughter segments:\n",
      "49\n",
      "n nonlaughter segments:\n",
      "27\n"
     ]
    },
    {
     "name": "stderr",
     "output_type": "stream",
     "text": [
      " 86%|█████████████████████████████████▍     | 240/280 [3:24:30<29:18, 43.96s/it]"
     ]
    },
    {
     "name": "stdout",
     "output_type": "stream",
     "text": [
      "../data/02_laughter/laughter_annotations/friends_s06e04a.csv\n",
      "n laughter segments:\n",
      "52\n",
      "n nonlaughter segments:\n",
      "21\n"
     ]
    },
    {
     "name": "stderr",
     "output_type": "stream",
     "text": [
      " 86%|█████████████████████████████████▌     | 241/280 [3:25:06<27:04, 41.65s/it]"
     ]
    },
    {
     "name": "stdout",
     "output_type": "stream",
     "text": [
      "../data/02_laughter/laughter_annotations/friends_s06e04b.csv\n",
      "n laughter segments:\n",
      "54\n",
      "n nonlaughter segments:\n",
      "20\n"
     ]
    },
    {
     "name": "stderr",
     "output_type": "stream",
     "text": [
      " 86%|█████████████████████████████████▋     | 242/280 [3:25:43<25:24, 40.13s/it]"
     ]
    },
    {
     "name": "stdout",
     "output_type": "stream",
     "text": [
      "../data/02_laughter/laughter_annotations/friends_s06e05a.csv\n",
      "n laughter segments:\n",
      "58\n",
      "n nonlaughter segments:\n",
      "21\n"
     ]
    },
    {
     "name": "stderr",
     "output_type": "stream",
     "text": [
      " 87%|█████████████████████████████████▊     | 243/280 [3:26:19<24:03, 39.00s/it]"
     ]
    },
    {
     "name": "stdout",
     "output_type": "stream",
     "text": [
      "../data/02_laughter/laughter_annotations/friends_s06e05b.csv\n",
      "n laughter segments:\n",
      "53\n",
      "n nonlaughter segments:\n",
      "21\n"
     ]
    },
    {
     "name": "stderr",
     "output_type": "stream",
     "text": [
      " 87%|█████████████████████████████████▉     | 244/280 [3:26:55<22:53, 38.15s/it]"
     ]
    },
    {
     "name": "stdout",
     "output_type": "stream",
     "text": [
      "../data/02_laughter/laughter_annotations/friends_s06e06a.csv\n",
      "n laughter segments:\n",
      "53\n",
      "n nonlaughter segments:\n",
      "16\n"
     ]
    },
    {
     "name": "stderr",
     "output_type": "stream",
     "text": [
      " 88%|██████████████████████████████████▏    | 245/280 [3:27:32<21:59, 37.69s/it]"
     ]
    },
    {
     "name": "stdout",
     "output_type": "stream",
     "text": [
      "../data/02_laughter/laughter_annotations/friends_s06e06b.csv\n",
      "n laughter segments:\n",
      "50\n",
      "n nonlaughter segments:\n",
      "21\n"
     ]
    },
    {
     "name": "stderr",
     "output_type": "stream",
     "text": [
      " 88%|██████████████████████████████████▎    | 246/280 [3:28:08<21:09, 37.33s/it]"
     ]
    },
    {
     "name": "stdout",
     "output_type": "stream",
     "text": [
      "../data/02_laughter/laughter_annotations/friends_s06e07a.csv\n",
      "n laughter segments:\n",
      "51\n",
      "n nonlaughter segments:\n",
      "23\n"
     ]
    },
    {
     "name": "stderr",
     "output_type": "stream",
     "text": [
      " 88%|██████████████████████████████████▍    | 247/280 [3:28:45<20:22, 37.04s/it]"
     ]
    },
    {
     "name": "stdout",
     "output_type": "stream",
     "text": [
      "../data/02_laughter/laughter_annotations/friends_s06e07b.csv\n",
      "n laughter segments:\n",
      "56\n",
      "n nonlaughter segments:\n",
      "21\n"
     ]
    },
    {
     "name": "stderr",
     "output_type": "stream",
     "text": [
      " 89%|██████████████████████████████████▌    | 248/280 [3:29:21<19:38, 36.84s/it]"
     ]
    },
    {
     "name": "stdout",
     "output_type": "stream",
     "text": [
      "../data/02_laughter/laughter_annotations/friends_s06e08a.csv\n",
      "n laughter segments:\n",
      "50\n",
      "n nonlaughter segments:\n",
      "18\n"
     ]
    },
    {
     "name": "stderr",
     "output_type": "stream",
     "text": [
      " 89%|██████████████████████████████████▋    | 249/280 [3:29:57<18:54, 36.60s/it]"
     ]
    },
    {
     "name": "stdout",
     "output_type": "stream",
     "text": [
      "../data/02_laughter/laughter_annotations/friends_s06e08b.csv\n",
      "n laughter segments:\n",
      "56\n",
      "n nonlaughter segments:\n",
      "19\n"
     ]
    },
    {
     "name": "stderr",
     "output_type": "stream",
     "text": [
      " 89%|██████████████████████████████████▊    | 250/280 [3:30:34<18:16, 36.55s/it]"
     ]
    },
    {
     "name": "stdout",
     "output_type": "stream",
     "text": [
      "../data/02_laughter/laughter_annotations/friends_s06e09a.csv\n",
      "n laughter segments:\n",
      "60\n",
      "n nonlaughter segments:\n",
      "23\n"
     ]
    },
    {
     "name": "stderr",
     "output_type": "stream",
     "text": [
      " 90%|██████████████████████████████████▉    | 251/280 [3:31:10<17:40, 36.56s/it]"
     ]
    },
    {
     "name": "stdout",
     "output_type": "stream",
     "text": [
      "../data/02_laughter/laughter_annotations/friends_s06e09b.csv\n",
      "n laughter segments:\n",
      "71\n",
      "n nonlaughter segments:\n",
      "25\n"
     ]
    },
    {
     "name": "stderr",
     "output_type": "stream",
     "text": [
      " 90%|███████████████████████████████████    | 252/280 [3:31:47<17:01, 36.48s/it]"
     ]
    },
    {
     "name": "stdout",
     "output_type": "stream",
     "text": [
      "../data/02_laughter/laughter_annotations/friends_s06e10a.csv\n",
      "n laughter segments:\n",
      "53\n",
      "n nonlaughter segments:\n",
      "24\n"
     ]
    },
    {
     "name": "stderr",
     "output_type": "stream",
     "text": [
      " 90%|███████████████████████████████████▏   | 253/280 [3:32:23<16:24, 36.47s/it]"
     ]
    },
    {
     "name": "stdout",
     "output_type": "stream",
     "text": [
      "../data/02_laughter/laughter_annotations/friends_s06e10b.csv\n",
      "n laughter segments:\n",
      "54\n",
      "n nonlaughter segments:\n",
      "21\n"
     ]
    },
    {
     "name": "stderr",
     "output_type": "stream",
     "text": [
      " 91%|███████████████████████████████████▍   | 254/280 [3:33:00<15:48, 36.49s/it]"
     ]
    },
    {
     "name": "stdout",
     "output_type": "stream",
     "text": [
      "../data/02_laughter/laughter_annotations/friends_s06e11a.csv\n",
      "n laughter segments:\n",
      "52\n",
      "n nonlaughter segments:\n",
      "21\n"
     ]
    },
    {
     "name": "stderr",
     "output_type": "stream",
     "text": [
      " 91%|███████████████████████████████████▌   | 255/280 [3:33:36<15:14, 36.60s/it]"
     ]
    },
    {
     "name": "stdout",
     "output_type": "stream",
     "text": [
      "../data/02_laughter/laughter_annotations/friends_s06e11b.csv\n",
      "n laughter segments:\n",
      "55\n",
      "n nonlaughter segments:\n",
      "22\n"
     ]
    },
    {
     "name": "stderr",
     "output_type": "stream",
     "text": [
      " 91%|███████████████████████████████████▋   | 256/280 [3:34:13<14:36, 36.51s/it]"
     ]
    },
    {
     "name": "stdout",
     "output_type": "stream",
     "text": [
      "../data/02_laughter/laughter_annotations/friends_s06e12a.csv\n",
      "n laughter segments:\n",
      "54\n",
      "n nonlaughter segments:\n",
      "16\n"
     ]
    },
    {
     "name": "stderr",
     "output_type": "stream",
     "text": [
      " 92%|███████████████████████████████████▊   | 257/280 [3:34:49<13:59, 36.52s/it]"
     ]
    },
    {
     "name": "stdout",
     "output_type": "stream",
     "text": [
      "../data/02_laughter/laughter_annotations/friends_s06e12b.csv\n",
      "n laughter segments:\n",
      "54\n",
      "n nonlaughter segments:\n",
      "22\n"
     ]
    },
    {
     "name": "stderr",
     "output_type": "stream",
     "text": [
      " 92%|███████████████████████████████████▉   | 258/280 [3:35:26<13:23, 36.52s/it]"
     ]
    },
    {
     "name": "stdout",
     "output_type": "stream",
     "text": [
      "../data/02_laughter/laughter_annotations/friends_s06e13a.csv\n",
      "n laughter segments:\n",
      "58\n",
      "n nonlaughter segments:\n",
      "21\n"
     ]
    },
    {
     "name": "stderr",
     "output_type": "stream",
     "text": [
      " 92%|████████████████████████████████████   | 259/280 [3:36:02<12:46, 36.49s/it]"
     ]
    },
    {
     "name": "stdout",
     "output_type": "stream",
     "text": [
      "../data/02_laughter/laughter_annotations/friends_s06e13b.csv\n",
      "n laughter segments:\n",
      "61\n",
      "n nonlaughter segments:\n",
      "23\n"
     ]
    },
    {
     "name": "stderr",
     "output_type": "stream",
     "text": [
      " 93%|████████████████████████████████████▏  | 260/280 [3:36:39<12:10, 36.51s/it]"
     ]
    },
    {
     "name": "stdout",
     "output_type": "stream",
     "text": [
      "../data/02_laughter/laughter_annotations/friends_s06e14a.csv\n",
      "n laughter segments:\n",
      "60\n",
      "n nonlaughter segments:\n",
      "19\n"
     ]
    },
    {
     "name": "stderr",
     "output_type": "stream",
     "text": [
      " 93%|████████████████████████████████████▎  | 261/280 [3:37:15<11:33, 36.48s/it]"
     ]
    },
    {
     "name": "stdout",
     "output_type": "stream",
     "text": [
      "../data/02_laughter/laughter_annotations/friends_s06e14b.csv\n",
      "n laughter segments:\n",
      "58\n",
      "n nonlaughter segments:\n",
      "24\n"
     ]
    },
    {
     "name": "stderr",
     "output_type": "stream",
     "text": [
      " 94%|████████████████████████████████████▍  | 262/280 [3:37:52<10:57, 36.53s/it]"
     ]
    },
    {
     "name": "stdout",
     "output_type": "stream",
     "text": [
      "../data/02_laughter/laughter_annotations/friends_s06e15a.csv\n",
      "n laughter segments:\n",
      "54\n",
      "n nonlaughter segments:\n",
      "23\n"
     ]
    },
    {
     "name": "stderr",
     "output_type": "stream",
     "text": [
      " 94%|████████████████████████████████████▋  | 263/280 [3:38:29<10:25, 36.78s/it]"
     ]
    },
    {
     "name": "stdout",
     "output_type": "stream",
     "text": [
      "../data/02_laughter/laughter_annotations/friends_s06e15b.csv\n",
      "n laughter segments:\n",
      "56\n",
      "n nonlaughter segments:\n",
      "20\n"
     ]
    },
    {
     "name": "stderr",
     "output_type": "stream",
     "text": [
      " 94%|████████████████████████████████████▊  | 264/280 [3:39:07<09:52, 37.01s/it]"
     ]
    },
    {
     "name": "stdout",
     "output_type": "stream",
     "text": [
      "../data/02_laughter/laughter_annotations/friends_s06e15c.csv\n",
      "n laughter segments:\n",
      "54\n",
      "n nonlaughter segments:\n",
      "23\n"
     ]
    },
    {
     "name": "stderr",
     "output_type": "stream",
     "text": [
      " 95%|████████████████████████████████████▉  | 265/280 [3:39:44<09:16, 37.08s/it]"
     ]
    },
    {
     "name": "stdout",
     "output_type": "stream",
     "text": [
      "../data/02_laughter/laughter_annotations/friends_s06e15d.csv\n",
      "n laughter segments:\n",
      "62\n",
      "n nonlaughter segments:\n",
      "17\n"
     ]
    },
    {
     "name": "stderr",
     "output_type": "stream",
     "text": [
      " 95%|█████████████████████████████████████  | 266/280 [3:40:21<08:41, 37.22s/it]"
     ]
    },
    {
     "name": "stdout",
     "output_type": "stream",
     "text": [
      "../data/02_laughter/laughter_annotations/friends_s06e17a.csv\n",
      "n laughter segments:\n",
      "50\n",
      "n nonlaughter segments:\n",
      "19\n"
     ]
    },
    {
     "name": "stderr",
     "output_type": "stream",
     "text": [
      " 95%|█████████████████████████████████████▏ | 267/280 [3:40:59<08:03, 37.23s/it]"
     ]
    },
    {
     "name": "stdout",
     "output_type": "stream",
     "text": [
      "../data/02_laughter/laughter_annotations/friends_s06e17b.csv\n",
      "n laughter segments:\n",
      "50\n",
      "n nonlaughter segments:\n",
      "24\n"
     ]
    },
    {
     "name": "stderr",
     "output_type": "stream",
     "text": [
      " 96%|█████████████████████████████████████▎ | 268/280 [3:41:36<07:26, 37.24s/it]"
     ]
    },
    {
     "name": "stdout",
     "output_type": "stream",
     "text": [
      "../data/02_laughter/laughter_annotations/friends_s06e18a.csv\n",
      "n laughter segments:\n",
      "44\n",
      "n nonlaughter segments:\n",
      "21\n"
     ]
    },
    {
     "name": "stderr",
     "output_type": "stream",
     "text": [
      " 96%|█████████████████████████████████████▍ | 269/280 [3:42:13<06:49, 37.19s/it]"
     ]
    },
    {
     "name": "stdout",
     "output_type": "stream",
     "text": [
      "../data/02_laughter/laughter_annotations/friends_s06e18b.csv\n",
      "n laughter segments:\n",
      "50\n",
      "n nonlaughter segments:\n",
      "25\n"
     ]
    },
    {
     "name": "stderr",
     "output_type": "stream",
     "text": [
      " 96%|█████████████████████████████████████▌ | 270/280 [3:42:50<06:12, 37.23s/it]"
     ]
    },
    {
     "name": "stdout",
     "output_type": "stream",
     "text": [
      "../data/02_laughter/laughter_annotations/friends_s06e19a.csv\n",
      "n laughter segments:\n",
      "53\n",
      "n nonlaughter segments:\n",
      "19\n"
     ]
    },
    {
     "name": "stderr",
     "output_type": "stream",
     "text": [
      " 97%|█████████████████████████████████████▋ | 271/280 [3:43:28<05:35, 37.29s/it]"
     ]
    },
    {
     "name": "stdout",
     "output_type": "stream",
     "text": [
      "../data/02_laughter/laughter_annotations/friends_s06e19b.csv\n",
      "n laughter segments:\n",
      "55\n",
      "n nonlaughter segments:\n",
      "23\n"
     ]
    },
    {
     "name": "stderr",
     "output_type": "stream",
     "text": [
      " 97%|█████████████████████████████████████▉ | 272/280 [3:44:05<04:58, 37.35s/it]"
     ]
    },
    {
     "name": "stdout",
     "output_type": "stream",
     "text": [
      "../data/02_laughter/laughter_annotations/friends_s06e20a.csv\n",
      "n laughter segments:\n",
      "52\n",
      "n nonlaughter segments:\n",
      "22\n"
     ]
    },
    {
     "name": "stderr",
     "output_type": "stream",
     "text": [
      " 98%|██████████████████████████████████████ | 273/280 [3:44:43<04:21, 37.37s/it]"
     ]
    },
    {
     "name": "stdout",
     "output_type": "stream",
     "text": [
      "../data/02_laughter/laughter_annotations/friends_s06e20b.csv\n",
      "n laughter segments:\n",
      "55\n",
      "n nonlaughter segments:\n",
      "23\n"
     ]
    },
    {
     "name": "stderr",
     "output_type": "stream",
     "text": [
      " 98%|██████████████████████████████████████▏| 274/280 [3:45:20<03:43, 37.32s/it]"
     ]
    },
    {
     "name": "stdout",
     "output_type": "stream",
     "text": [
      "../data/02_laughter/laughter_annotations/friends_s06e21a.csv\n",
      "n laughter segments:\n",
      "55\n",
      "n nonlaughter segments:\n",
      "21\n"
     ]
    },
    {
     "name": "stderr",
     "output_type": "stream",
     "text": [
      " 98%|██████████████████████████████████████▎| 275/280 [3:45:57<03:06, 37.27s/it]"
     ]
    },
    {
     "name": "stdout",
     "output_type": "stream",
     "text": [
      "../data/02_laughter/laughter_annotations/friends_s06e21b.csv\n",
      "n laughter segments:\n",
      "60\n",
      "n nonlaughter segments:\n",
      "27\n"
     ]
    },
    {
     "name": "stderr",
     "output_type": "stream",
     "text": [
      " 99%|██████████████████████████████████████▍| 276/280 [3:46:35<02:29, 37.36s/it]"
     ]
    },
    {
     "name": "stdout",
     "output_type": "stream",
     "text": [
      "../data/02_laughter/laughter_annotations/friends_s06e22a.csv\n",
      "n laughter segments:\n",
      "47\n",
      "n nonlaughter segments:\n",
      "23\n"
     ]
    },
    {
     "name": "stderr",
     "output_type": "stream",
     "text": [
      " 99%|██████████████████████████████████████▌| 277/280 [3:47:12<01:52, 37.36s/it]"
     ]
    },
    {
     "name": "stdout",
     "output_type": "stream",
     "text": [
      "../data/02_laughter/laughter_annotations/friends_s06e22b.csv\n",
      "n laughter segments:\n",
      "57\n",
      "n nonlaughter segments:\n",
      "21\n"
     ]
    },
    {
     "name": "stderr",
     "output_type": "stream",
     "text": [
      " 99%|██████████████████████████████████████▋| 278/280 [3:47:49<01:14, 37.38s/it]"
     ]
    },
    {
     "name": "stdout",
     "output_type": "stream",
     "text": [
      "../data/02_laughter/laughter_annotations/friends_s06e23a.csv\n",
      "n laughter segments:\n",
      "55\n",
      "n nonlaughter segments:\n",
      "18\n"
     ]
    },
    {
     "name": "stderr",
     "output_type": "stream",
     "text": [
      "100%|██████████████████████████████████████▊| 279/280 [3:48:27<00:37, 37.43s/it]"
     ]
    },
    {
     "name": "stdout",
     "output_type": "stream",
     "text": [
      "../data/02_laughter/laughter_annotations/friends_s06e23b.csv\n",
      "n laughter segments:\n",
      "62\n",
      "n nonlaughter segments:\n",
      "26\n"
     ]
    },
    {
     "name": "stderr",
     "output_type": "stream",
     "text": [
      "100%|███████████████████████████████████████| 280/280 [3:49:04<00:00, 49.09s/it]\n"
     ]
    }
   ],
   "source": [
    "for curr_show_index in tqdm(range(len(raw_files))):\n",
    "    curr_show_name = raw_files[curr_show_index]\n",
    "    run_concat_isc(curr_show_name)\n",
    "   "
   ]
  },
  {
   "cell_type": "code",
   "execution_count": null,
   "id": "5c52307f-678d-4b07-b697-66ca956e2d4c",
   "metadata": {},
   "outputs": [],
   "source": []
  }
 ],
 "metadata": {
  "kernelspec": {
   "display_name": "Python 3 (ipykernel)",
   "language": "python",
   "name": "python3"
  },
  "language_info": {
   "codemirror_mode": {
    "name": "ipython",
    "version": 3
   },
   "file_extension": ".py",
   "mimetype": "text/x-python",
   "name": "python",
   "nbconvert_exporter": "python",
   "pygments_lexer": "ipython3",
   "version": "3.10.13"
  }
 },
 "nbformat": 4,
 "nbformat_minor": 5
}
