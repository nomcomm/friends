{
 "cells": [
  {
   "cell_type": "code",
   "execution_count": 17,
   "id": "c48e4e17-1639-49d9-affd-185e9e78e710",
   "metadata": {},
   "outputs": [],
   "source": [
    "import joblib, os, librosa\n",
    "from pydub import AudioSegment\n",
    "import pandas as pd\n",
    "from tqdm import tqdm\n",
    "import numpy as np"
   ]
  },
  {
   "cell_type": "code",
   "execution_count": 18,
   "id": "b4d97e90-04b2-4940-a4e0-536bbfaa37aa",
   "metadata": {},
   "outputs": [
    {
     "data": {
      "text/html": [
       "<style>#sk-container-id-2 {color: black;}#sk-container-id-2 pre{padding: 0;}#sk-container-id-2 div.sk-toggleable {background-color: white;}#sk-container-id-2 label.sk-toggleable__label {cursor: pointer;display: block;width: 100%;margin-bottom: 0;padding: 0.3em;box-sizing: border-box;text-align: center;}#sk-container-id-2 label.sk-toggleable__label-arrow:before {content: \"▸\";float: left;margin-right: 0.25em;color: #696969;}#sk-container-id-2 label.sk-toggleable__label-arrow:hover:before {color: black;}#sk-container-id-2 div.sk-estimator:hover label.sk-toggleable__label-arrow:before {color: black;}#sk-container-id-2 div.sk-toggleable__content {max-height: 0;max-width: 0;overflow: hidden;text-align: left;background-color: #f0f8ff;}#sk-container-id-2 div.sk-toggleable__content pre {margin: 0.2em;color: black;border-radius: 0.25em;background-color: #f0f8ff;}#sk-container-id-2 input.sk-toggleable__control:checked~div.sk-toggleable__content {max-height: 200px;max-width: 100%;overflow: auto;}#sk-container-id-2 input.sk-toggleable__control:checked~label.sk-toggleable__label-arrow:before {content: \"▾\";}#sk-container-id-2 div.sk-estimator input.sk-toggleable__control:checked~label.sk-toggleable__label {background-color: #d4ebff;}#sk-container-id-2 div.sk-label input.sk-toggleable__control:checked~label.sk-toggleable__label {background-color: #d4ebff;}#sk-container-id-2 input.sk-hidden--visually {border: 0;clip: rect(1px 1px 1px 1px);clip: rect(1px, 1px, 1px, 1px);height: 1px;margin: -1px;overflow: hidden;padding: 0;position: absolute;width: 1px;}#sk-container-id-2 div.sk-estimator {font-family: monospace;background-color: #f0f8ff;border: 1px dotted black;border-radius: 0.25em;box-sizing: border-box;margin-bottom: 0.5em;}#sk-container-id-2 div.sk-estimator:hover {background-color: #d4ebff;}#sk-container-id-2 div.sk-parallel-item::after {content: \"\";width: 100%;border-bottom: 1px solid gray;flex-grow: 1;}#sk-container-id-2 div.sk-label:hover label.sk-toggleable__label {background-color: #d4ebff;}#sk-container-id-2 div.sk-serial::before {content: \"\";position: absolute;border-left: 1px solid gray;box-sizing: border-box;top: 0;bottom: 0;left: 50%;z-index: 0;}#sk-container-id-2 div.sk-serial {display: flex;flex-direction: column;align-items: center;background-color: white;padding-right: 0.2em;padding-left: 0.2em;position: relative;}#sk-container-id-2 div.sk-item {position: relative;z-index: 1;}#sk-container-id-2 div.sk-parallel {display: flex;align-items: stretch;justify-content: center;background-color: white;position: relative;}#sk-container-id-2 div.sk-item::before, #sk-container-id-2 div.sk-parallel-item::before {content: \"\";position: absolute;border-left: 1px solid gray;box-sizing: border-box;top: 0;bottom: 0;left: 50%;z-index: -1;}#sk-container-id-2 div.sk-parallel-item {display: flex;flex-direction: column;z-index: 1;position: relative;background-color: white;}#sk-container-id-2 div.sk-parallel-item:first-child::after {align-self: flex-end;width: 50%;}#sk-container-id-2 div.sk-parallel-item:last-child::after {align-self: flex-start;width: 50%;}#sk-container-id-2 div.sk-parallel-item:only-child::after {width: 0;}#sk-container-id-2 div.sk-dashed-wrapped {border: 1px dashed gray;margin: 0 0.4em 0.5em 0.4em;box-sizing: border-box;padding-bottom: 0.4em;background-color: white;}#sk-container-id-2 div.sk-label label {font-family: monospace;font-weight: bold;display: inline-block;line-height: 1.2em;}#sk-container-id-2 div.sk-label-container {text-align: center;}#sk-container-id-2 div.sk-container {/* jupyter's `normalize.less` sets `[hidden] { display: none; }` but bootstrap.min.css set `[hidden] { display: none !important; }` so we also need the `!important` here to be able to override the default hidden behavior on the sphinx rendered scikit-learn.org. See: https://github.com/scikit-learn/scikit-learn/issues/21755 */display: inline-block !important;position: relative;}#sk-container-id-2 div.sk-text-repr-fallback {display: none;}</style><div id=\"sk-container-id-2\" class=\"sk-top-container\"><div class=\"sk-text-repr-fallback\"><pre>RandomForestClassifier()</pre><b>In a Jupyter environment, please rerun this cell to show the HTML representation or trust the notebook. <br />On GitHub, the HTML representation is unable to render, please try loading this page with nbviewer.org.</b></div><div class=\"sk-container\" hidden><div class=\"sk-item\"><div class=\"sk-estimator sk-toggleable\"><input class=\"sk-toggleable__control sk-hidden--visually\" id=\"sk-estimator-id-2\" type=\"checkbox\" checked><label for=\"sk-estimator-id-2\" class=\"sk-toggleable__label sk-toggleable__label-arrow\">RandomForestClassifier</label><div class=\"sk-toggleable__content\"><pre>RandomForestClassifier()</pre></div></div></div></div></div>"
      ],
      "text/plain": [
       "RandomForestClassifier()"
      ]
     },
     "execution_count": 18,
     "metadata": {},
     "output_type": "execute_result"
    }
   ],
   "source": [
    "laughter_classifier = joblib.load('../data/02_laughter/laughter_classifier_ model.pkl')\n",
    "laughter_classifier"
   ]
  },
  {
   "cell_type": "code",
   "execution_count": 19,
   "id": "12cd9699-18b6-4ab4-8bc2-f9a72fca9d92",
   "metadata": {},
   "outputs": [],
   "source": [
    "def chop_and_execute(mp3_file, segment_duration=1.49, my_classification_model = 'insert_mode', command=\"echo 'Processing temp.mp3'\"):\n",
    "    \"\"\"\n",
    "    Chops an MP3 file into segments and executes a command on each segment.\n",
    "\n",
    "    Args:\n",
    "        mp3_file (str): Path to the input MP3 file.\n",
    "        segment_duration (int): Duration of each segment in seconds.\n",
    "        command (str): Command to execute on each segment (e.g., \"python my_script.py\").\n",
    "    \"\"\"\n",
    "\n",
    "    try:\n",
    "        audio = AudioSegment.from_mp3(mp3_file)\n",
    "        total_duration_ms = len(audio)\n",
    "        segment_duration_ms = segment_duration * 1000\n",
    "\n",
    "        onsets           = []\n",
    "        offsets          = []\n",
    "        laughter_dummies = []\n",
    "\n",
    "        for start_ms in tqdm(range(0, int(total_duration_ms), int(segment_duration_ms))):\n",
    "            \n",
    "            end_ms = min(start_ms + segment_duration_ms, total_duration_ms)\n",
    "            segment = audio[start_ms:end_ms]\n",
    "\n",
    "            temp_file = \"../data/02_laughter/temp/\" + str(start_ms) + \".mp3\"\n",
    "            segment.export(temp_file, format=\"mp3\")\n",
    "\n",
    "            #print(f\"Processing segment {start_ms/1000}-{end_ms/1000}s\")\n",
    "            onsets.append(start_ms)\n",
    "            offsets.append(end_ms)\n",
    "            \n",
    "            yes_no_laughter = detect_laughter(my_classification_model, temp_file)\n",
    "            laughter_dummies.append(yes_no_laughter)\n",
    "            os.remove(temp_file)\n",
    "            \n",
    "\n",
    "        df            = pd.DataFrame()\n",
    "        df['onsets']  = onsets\n",
    "        df['minutes_seconds'] = seconds_to_minutes_seconds(df['onsets'])\n",
    "        df['offsets'] = offsets\n",
    "        df['ls']      = np.asarray(laughter_dummies)\n",
    "        \n",
    "        \n",
    "    except FileNotFoundError:\n",
    "        print(f\"Error: MP3 file not found: {mp3_file}\")\n",
    "\n",
    "    return df\n",
    "\n",
    "def detect_laughter(model, audio_file, threshold=0.4):\n",
    "    # Extract features\n",
    "    features = extract_features(audio_file)\n",
    "    \n",
    "    # Reshape features to 2D array with shape [1, n_features]\n",
    "    features = features.reshape(1, -1)  # Add this line\n",
    "    \n",
    "    # Predict probability\n",
    "    laughter_prob = model.predict_proba(features)[:, 1]\n",
    "    \n",
    "    # Apply threshold\n",
    "    laughter_segments = (laughter_prob > threshold).astype(int)\n",
    "\n",
    "    \n",
    "    \n",
    "    return laughter_segments\n",
    "\n",
    "def extract_features(audio_file, frame_length=0.1, hop_length=0.05):\n",
    "    \"\"\"Extract features from audio file\"\"\"\n",
    "    # Load audio\n",
    "    y, sr = librosa.load(audio_file, sr=None)\n",
    "    \n",
    "    # Set frame and hop length in samples\n",
    "    frame_len_samples = int(frame_length * sr)\n",
    "    hop_len_samples = int(hop_length * sr)\n",
    "    \n",
    "    # Extract MFCCs\n",
    "    mfccs = librosa.feature.mfcc(y=y, sr=sr, n_mfcc=13, \n",
    "                                hop_length=hop_len_samples, \n",
    "                                n_fft=frame_len_samples)\n",
    "    \n",
    "    # Extract spectral features\n",
    "    spectral_centroid = librosa.feature.spectral_centroid(y=y, sr=sr, \n",
    "                                                        hop_length=hop_len_samples,\n",
    "                                                        n_fft=frame_len_samples)\n",
    "    spectral_bandwidth = librosa.feature.spectral_bandwidth(y=y, sr=sr,\n",
    "                                                          hop_length=hop_len_samples,\n",
    "                                                          n_fft=frame_len_samples)\n",
    "    \n",
    "    # Extract temporal features\n",
    "    zero_crossing_rate = librosa.feature.zero_crossing_rate(y, \n",
    "                                                         frame_length=frame_len_samples, \n",
    "                                                         hop_length=hop_len_samples)\n",
    "    \n",
    "    # Extract energy\n",
    "    energy = np.array([sum(abs(y[i:i+frame_len_samples]**2)) \n",
    "                      for i in range(0, len(y), hop_len_samples)])\n",
    "    \n",
    "    # Calculate frame-level features\n",
    "    mfcc_means = np.mean(mfccs, axis=1)\n",
    "    mfcc_stds = np.std(mfccs, axis=1)\n",
    "    \n",
    "    # Reshape single-value features to make them consistent\n",
    "    # The issue is that spectral_centroid, spectral_bandwidth, etc. are 1D arrays\n",
    "    # but we need them to be the same shape as the MFCC features for stacking\n",
    "    \n",
    "    # Get statistics as individual values instead of arrays\n",
    "    spectral_centroid_mean = np.mean(spectral_centroid)\n",
    "    spectral_bandwidth_mean = np.mean(spectral_bandwidth)\n",
    "    zcr_mean = np.mean(zero_crossing_rate)\n",
    "    zcr_std = np.std(zero_crossing_rate)\n",
    "    energy_mean = np.mean(energy)\n",
    "    energy_std = np.std(energy)\n",
    "    \n",
    "    # Combine all features into a single vector\n",
    "    feature_vector = np.hstack([\n",
    "        mfcc_means,\n",
    "        mfcc_stds,\n",
    "        spectral_centroid_mean,\n",
    "        spectral_bandwidth_mean,\n",
    "        zcr_mean,\n",
    "        zcr_std,\n",
    "        energy_mean,\n",
    "        energy_std\n",
    "    ])\n",
    "    \n",
    "    return feature_vector\n",
    "\n",
    "def seconds_to_minutes_seconds(seconds_series):\n",
    "    \"\"\"\n",
    "    Converts a pandas Series of seconds into a Series of [minutes:seconds] strings.\n",
    "    Args: seconds_series (pd.Series): A pandas Series containing seconds (numeric).\n",
    "    Returns:  pd.Series: A pandas Series of strings in the format [minutes:seconds].\n",
    "    \"\"\"\n",
    "    seconds_series = seconds_series//1000\n",
    "    minutes = seconds_series // 60\n",
    "    remaining_seconds = seconds_series % 60\n",
    "    return minutes.astype(str) + ':' + remaining_seconds.astype(str).str.zfill(2)\n",
    "\n",
    "import os\n",
    "\n",
    "def check_file_exists(filepath):\n",
    "    \"\"\"\n",
    "    Check if a file exists at the specified path.\n",
    "    \n",
    "    Parameters:\n",
    "    -----------\n",
    "    filepath : str\n",
    "        Path to the file to check\n",
    "        \n",
    "    Returns:\n",
    "    --------\n",
    "    bool\n",
    "        True if the file exists, False otherwise\n",
    "    \"\"\"\n",
    "    return os.path.isfile(filepath)\n",
    "\n",
    "\n",
    "\n"
   ]
  },
  {
   "cell_type": "code",
   "execution_count": 20,
   "id": "d60d5d01-3800-4d92-b2ec-157ffebe705b",
   "metadata": {},
   "outputs": [],
   "source": [
    "#audio_file_to_process = '/Volumes/T7 Shield/friends/stimuli/s1/friends_s01e01a.mp3'\n",
    "#df = chop_and_execute(audio_file_to_process, segment_duration=1.49, my_classification_model = laughter_classifier)"
   ]
  },
  {
   "cell_type": "markdown",
   "id": "447bbc95-0201-4240-9bef-85d6835a927d",
   "metadata": {},
   "source": [
    "### Run over all files"
   ]
  },
  {
   "cell_type": "code",
   "execution_count": 21,
   "id": "98e70f3b-acef-4fb4-bde8-95ac48d0924e",
   "metadata": {},
   "outputs": [
    {
     "data": {
      "text/plain": [
       "['/Volumes/T7 Shield/friends/stimuli/s1/friends_s01e13a.mp3',\n",
       " '/Volumes/T7 Shield/friends/stimuli/s1/friends_s01e09b.mp3',\n",
       " '/Volumes/T7 Shield/friends/stimuli/s1/friends_s01e05a.mp3',\n",
       " '/Volumes/T7 Shield/friends/stimuli/s1/friends_s01e13b.mp3',\n",
       " '/Volumes/T7 Shield/friends/stimuli/s1/friends_s01e09a.mp3',\n",
       " '/Volumes/T7 Shield/friends/stimuli/s1/friends_s01e05b.mp3',\n",
       " '/Volumes/T7 Shield/friends/stimuli/s1/friends_s01e24a.mp3',\n",
       " '/Volumes/T7 Shield/friends/stimuli/s1/friends_s01e04b.mp3',\n",
       " '/Volumes/T7 Shield/friends/stimuli/s1/friends_s01e08a.mp3',\n",
       " '/Volumes/T7 Shield/friends/stimuli/s1/friends_s01e12b.mp3',\n",
       " '/Volumes/T7 Shield/friends/stimuli/s1/friends_s01e24b.mp3',\n",
       " '/Volumes/T7 Shield/friends/stimuli/s1/friends_s01e04a.mp3',\n",
       " '/Volumes/T7 Shield/friends/stimuli/s1/friends_s01e08b.mp3',\n",
       " '/Volumes/T7 Shield/friends/stimuli/s1/friends_s01e12a.mp3',\n",
       " '/Volumes/T7 Shield/friends/stimuli/s1/friends_s01e19a.mp3',\n",
       " '/Volumes/T7 Shield/friends/stimuli/s1/friends_s01e15b.mp3',\n",
       " '/Volumes/T7 Shield/friends/stimuli/s1/friends_s01e03b.mp3',\n",
       " '/Volumes/T7 Shield/friends/stimuli/s1/friends_s01e23a.mp3',\n",
       " '/Volumes/T7 Shield/friends/stimuli/s1/friends_s01e19b.mp3',\n",
       " '/Volumes/T7 Shield/friends/stimuli/s1/friends_s01e15a.mp3',\n",
       " '/Volumes/T7 Shield/friends/stimuli/s1/friends_s01e03a.mp3',\n",
       " '/Volumes/T7 Shield/friends/stimuli/s1/friends_s01e23b.mp3',\n",
       " '/Volumes/T7 Shield/friends/stimuli/s1/friends_s01e22b.mp3',\n",
       " '/Volumes/T7 Shield/friends/stimuli/s1/friends_s01e02a.mp3',\n",
       " '/Volumes/T7 Shield/friends/stimuli/s1/friends_s01e14a.mp3',\n",
       " '/Volumes/T7 Shield/friends/stimuli/s1/friends_s01e18b.mp3',\n",
       " '/Volumes/T7 Shield/friends/stimuli/s1/friends_s01e22a.mp3',\n",
       " '/Volumes/T7 Shield/friends/stimuli/s1/friends_s01e02b.mp3',\n",
       " '/Volumes/T7 Shield/friends/stimuli/s1/friends_s01e14b.mp3',\n",
       " '/Volumes/T7 Shield/friends/stimuli/s1/friends_s01e18a.mp3',\n",
       " '/Volumes/T7 Shield/friends/stimuli/s1/friends_s01e21a.mp3',\n",
       " '/Volumes/T7 Shield/friends/stimuli/s1/friends_s01e01b.mp3',\n",
       " '/Volumes/T7 Shield/friends/stimuli/s1/friends_s01e17b.mp3',\n",
       " '/Volumes/T7 Shield/friends/stimuli/s1/friends_s01e21b.mp3',\n",
       " '/Volumes/T7 Shield/friends/stimuli/s1/friends_s01e01a.mp3',\n",
       " '/Volumes/T7 Shield/friends/stimuli/s1/friends_s01e17a.mp3',\n",
       " '/Volumes/T7 Shield/friends/stimuli/s1/friends_s01e16a.mp3',\n",
       " '/Volumes/T7 Shield/friends/stimuli/s1/friends_s01e20b.mp3',\n",
       " '/Volumes/T7 Shield/friends/stimuli/s1/friends_s01e16b.mp3',\n",
       " '/Volumes/T7 Shield/friends/stimuli/s1/friends_s01e20a.mp3',\n",
       " '/Volumes/T7 Shield/friends/stimuli/s1/friends_s01e07a.mp3',\n",
       " '/Volumes/T7 Shield/friends/stimuli/s1/friends_s01e11a.mp3',\n",
       " '/Volumes/T7 Shield/friends/stimuli/s1/friends_s01e07b.mp3',\n",
       " '/Volumes/T7 Shield/friends/stimuli/s1/friends_s01e11b.mp3',\n",
       " '/Volumes/T7 Shield/friends/stimuli/s1/friends_s01e10b.mp3',\n",
       " '/Volumes/T7 Shield/friends/stimuli/s1/friends_s01e06b.mp3',\n",
       " '/Volumes/T7 Shield/friends/stimuli/s1/friends_s01e10a.mp3',\n",
       " '/Volumes/T7 Shield/friends/stimuli/s1/friends_s01e06a.mp3',\n",
       " '/Volumes/T7 Shield/friends/stimuli/s2/friends_s02e03a.mp3',\n",
       " '/Volumes/T7 Shield/friends/stimuli/s2/friends_s02e15a.mp3',\n",
       " '/Volumes/T7 Shield/friends/stimuli/s2/friends_s02e19b.mp3',\n",
       " '/Volumes/T7 Shield/friends/stimuli/s2/friends_s02e23b.mp3',\n",
       " '/Volumes/T7 Shield/friends/stimuli/s2/friends_s02e03b.mp3',\n",
       " '/Volumes/T7 Shield/friends/stimuli/s2/friends_s02e15b.mp3',\n",
       " '/Volumes/T7 Shield/friends/stimuli/s2/friends_s02e19a.mp3',\n",
       " '/Volumes/T7 Shield/friends/stimuli/s2/friends_s02e23a.mp3',\n",
       " '/Volumes/T7 Shield/friends/stimuli/s2/friends_s02e22a.mp3',\n",
       " '/Volumes/T7 Shield/friends/stimuli/s2/friends_s02e18a.mp3',\n",
       " '/Volumes/T7 Shield/friends/stimuli/s2/friends_s02e14b.mp3',\n",
       " '/Volumes/T7 Shield/friends/stimuli/s2/friends_s02e02b.mp3',\n",
       " '/Volumes/T7 Shield/friends/stimuli/s2/friends_s02e22b.mp3',\n",
       " '/Volumes/T7 Shield/friends/stimuli/s2/friends_s02e18b.mp3',\n",
       " '/Volumes/T7 Shield/friends/stimuli/s2/friends_s02e14a.mp3',\n",
       " '/Volumes/T7 Shield/friends/stimuli/s2/friends_s02e02a.mp3',\n",
       " '/Volumes/T7 Shield/friends/stimuli/s2/friends_s02e05b.mp3',\n",
       " '/Volumes/T7 Shield/friends/stimuli/s2/friends_s02e09a.mp3',\n",
       " '/Volumes/T7 Shield/friends/stimuli/s2/friends_s02e13b.mp3',\n",
       " '/Volumes/T7 Shield/friends/stimuli/s2/friends_s02e05a.mp3',\n",
       " '/Volumes/T7 Shield/friends/stimuli/s2/friends_s02e09b.mp3',\n",
       " '/Volumes/T7 Shield/friends/stimuli/s2/friends_s02e13a.mp3',\n",
       " '/Volumes/T7 Shield/friends/stimuli/s2/friends_s02e24b.mp3',\n",
       " '/Volumes/T7 Shield/friends/stimuli/s2/friends_s02e12a.mp3',\n",
       " '/Volumes/T7 Shield/friends/stimuli/s2/friends_s02e08b.mp3',\n",
       " '/Volumes/T7 Shield/friends/stimuli/s2/friends_s02e04a.mp3',\n",
       " '/Volumes/T7 Shield/friends/stimuli/s2/friends_s02e24a.mp3',\n",
       " '/Volumes/T7 Shield/friends/stimuli/s2/friends_s02e12b.mp3',\n",
       " '/Volumes/T7 Shield/friends/stimuli/s2/friends_s02e08a.mp3',\n",
       " '/Volumes/T7 Shield/friends/stimuli/s2/friends_s02e04b.mp3',\n",
       " '/Volumes/T7 Shield/friends/stimuli/s2/friends_s02e11b.mp3',\n",
       " '/Volumes/T7 Shield/friends/stimuli/s2/friends_s02e07b.mp3',\n",
       " '/Volumes/T7 Shield/friends/stimuli/s2/friends_s02e11a.mp3',\n",
       " '/Volumes/T7 Shield/friends/stimuli/s2/friends_s02e07a.mp3',\n",
       " '/Volumes/T7 Shield/friends/stimuli/s2/friends_s02e06a.mp3',\n",
       " '/Volumes/T7 Shield/friends/stimuli/s2/friends_s02e10a.mp3',\n",
       " '/Volumes/T7 Shield/friends/stimuli/s2/friends_s02e06b.mp3',\n",
       " '/Volumes/T7 Shield/friends/stimuli/s2/friends_s02e10b.mp3',\n",
       " '/Volumes/T7 Shield/friends/stimuli/s2/friends_s02e21b.mp3',\n",
       " '/Volumes/T7 Shield/friends/stimuli/s2/friends_s02e17a.mp3',\n",
       " '/Volumes/T7 Shield/friends/stimuli/s2/friends_s02e01a.mp3',\n",
       " '/Volumes/T7 Shield/friends/stimuli/s2/friends_s02e21a.mp3',\n",
       " '/Volumes/T7 Shield/friends/stimuli/s2/friends_s02e17b.mp3',\n",
       " '/Volumes/T7 Shield/friends/stimuli/s2/friends_s02e01b.mp3',\n",
       " '/Volumes/T7 Shield/friends/stimuli/s2/friends_s02e16b.mp3',\n",
       " '/Volumes/T7 Shield/friends/stimuli/s2/friends_s02e20a.mp3',\n",
       " '/Volumes/T7 Shield/friends/stimuli/s2/friends_s02e16a.mp3',\n",
       " '/Volumes/T7 Shield/friends/stimuli/s2/friends_s02e20b.mp3',\n",
       " '/Volumes/T7 Shield/friends/stimuli/s3/friends_s03e22b.mp3',\n",
       " '/Volumes/T7 Shield/friends/stimuli/s3/friends_s03e18b.mp3',\n",
       " '/Volumes/T7 Shield/friends/stimuli/s3/friends_s03e14a.mp3',\n",
       " '/Volumes/T7 Shield/friends/stimuli/s3/friends_s03e02a.mp3',\n",
       " '/Volumes/T7 Shield/friends/stimuli/s3/friends_s03e22a.mp3',\n",
       " '/Volumes/T7 Shield/friends/stimuli/s3/friends_s03e18a.mp3',\n",
       " '/Volumes/T7 Shield/friends/stimuli/s3/friends_s03e14b.mp3',\n",
       " '/Volumes/T7 Shield/friends/stimuli/s3/friends_s03e02b.mp3',\n",
       " '/Volumes/T7 Shield/friends/stimuli/s3/friends_s03e03b.mp3',\n",
       " '/Volumes/T7 Shield/friends/stimuli/s3/friends_s03e15b.mp3',\n",
       " '/Volumes/T7 Shield/friends/stimuli/s3/friends_s03e19a.mp3',\n",
       " '/Volumes/T7 Shield/friends/stimuli/s3/friends_s03e23a.mp3',\n",
       " '/Volumes/T7 Shield/friends/stimuli/s3/friends_s03e03a.mp3',\n",
       " '/Volumes/T7 Shield/friends/stimuli/s3/friends_s03e15a.mp3',\n",
       " '/Volumes/T7 Shield/friends/stimuli/s3/friends_s03e19b.mp3',\n",
       " '/Volumes/T7 Shield/friends/stimuli/s3/friends_s03e23b.mp3',\n",
       " '/Volumes/T7 Shield/friends/stimuli/s3/friends_s03e24a.mp3',\n",
       " '/Volumes/T7 Shield/friends/stimuli/s3/friends_s03e12b.mp3',\n",
       " '/Volumes/T7 Shield/friends/stimuli/s3/friends_s03e08a.mp3',\n",
       " '/Volumes/T7 Shield/friends/stimuli/s3/friends_s03e04b.mp3',\n",
       " '/Volumes/T7 Shield/friends/stimuli/s3/friends_s03e24b.mp3',\n",
       " '/Volumes/T7 Shield/friends/stimuli/s3/friends_s03e12a.mp3',\n",
       " '/Volumes/T7 Shield/friends/stimuli/s3/friends_s03e08b.mp3',\n",
       " '/Volumes/T7 Shield/friends/stimuli/s3/friends_s03e04a.mp3',\n",
       " '/Volumes/T7 Shield/friends/stimuli/s3/friends_s03e05a.mp3',\n",
       " '/Volumes/T7 Shield/friends/stimuli/s3/friends_s03e09b.mp3',\n",
       " '/Volumes/T7 Shield/friends/stimuli/s3/friends_s03e13a.mp3',\n",
       " '/Volumes/T7 Shield/friends/stimuli/s3/friends_s03e25b.mp3',\n",
       " '/Volumes/T7 Shield/friends/stimuli/s3/friends_s03e05b.mp3',\n",
       " '/Volumes/T7 Shield/friends/stimuli/s3/friends_s03e09a.mp3',\n",
       " '/Volumes/T7 Shield/friends/stimuli/s3/friends_s03e13b.mp3',\n",
       " '/Volumes/T7 Shield/friends/stimuli/s3/friends_s03e25a.mp3',\n",
       " '/Volumes/T7 Shield/friends/stimuli/s3/friends_s03e06b.mp3',\n",
       " '/Volumes/T7 Shield/friends/stimuli/s3/friends_s03e10b.mp3',\n",
       " '/Volumes/T7 Shield/friends/stimuli/s3/friends_s03e06a.mp3',\n",
       " '/Volumes/T7 Shield/friends/stimuli/s3/friends_s03e10a.mp3',\n",
       " '/Volumes/T7 Shield/friends/stimuli/s3/friends_s03e11a.mp3',\n",
       " '/Volumes/T7 Shield/friends/stimuli/s3/friends_s03e07a.mp3',\n",
       " '/Volumes/T7 Shield/friends/stimuli/s3/friends_s03e11b.mp3',\n",
       " '/Volumes/T7 Shield/friends/stimuli/s3/friends_s03e07b.mp3',\n",
       " '/Volumes/T7 Shield/friends/stimuli/s3/friends_s03e16a.mp3',\n",
       " '/Volumes/T7 Shield/friends/stimuli/s3/friends_s03e20b.mp3',\n",
       " '/Volumes/T7 Shield/friends/stimuli/s3/friends_s03e16b.mp3',\n",
       " '/Volumes/T7 Shield/friends/stimuli/s3/friends_s03e20a.mp3',\n",
       " '/Volumes/T7 Shield/friends/stimuli/s3/friends_s03e21a.mp3',\n",
       " '/Volumes/T7 Shield/friends/stimuli/s3/friends_s03e17b.mp3',\n",
       " '/Volumes/T7 Shield/friends/stimuli/s3/friends_s03e01b.mp3',\n",
       " '/Volumes/T7 Shield/friends/stimuli/s3/friends_s03e21b.mp3',\n",
       " '/Volumes/T7 Shield/friends/stimuli/s3/friends_s03e17a.mp3',\n",
       " '/Volumes/T7 Shield/friends/stimuli/s3/friends_s03e01a.mp3',\n",
       " '/Volumes/T7 Shield/friends/stimuli/s4/friends_s04e10a.mp3',\n",
       " '/Volumes/T7 Shield/friends/stimuli/s4/friends_s04e06a.mp3',\n",
       " '/Volumes/T7 Shield/friends/stimuli/s4/friends_s04e10b.mp3',\n",
       " '/Volumes/T7 Shield/friends/stimuli/s4/friends_s04e06b.mp3',\n",
       " '/Volumes/T7 Shield/friends/stimuli/s4/friends_s04e07b.mp3',\n",
       " '/Volumes/T7 Shield/friends/stimuli/s4/friends_s04e11b.mp3',\n",
       " '/Volumes/T7 Shield/friends/stimuli/s4/friends_s04e07a.mp3',\n",
       " '/Volumes/T7 Shield/friends/stimuli/s4/friends_s04e11a.mp3',\n",
       " '/Volumes/T7 Shield/friends/stimuli/s4/friends_s04e20a.mp3',\n",
       " '/Volumes/T7 Shield/friends/stimuli/s4/friends_s04e16b.mp3',\n",
       " '/Volumes/T7 Shield/friends/stimuli/s4/friends_s04e20b.mp3',\n",
       " '/Volumes/T7 Shield/friends/stimuli/s4/friends_s04e16a.mp3',\n",
       " '/Volumes/T7 Shield/friends/stimuli/s4/friends_s04e01a.mp3',\n",
       " '/Volumes/T7 Shield/friends/stimuli/s4/friends_s04e17a.mp3',\n",
       " '/Volumes/T7 Shield/friends/stimuli/s4/friends_s04e21b.mp3',\n",
       " '/Volumes/T7 Shield/friends/stimuli/s4/friends_s04e01b.mp3',\n",
       " '/Volumes/T7 Shield/friends/stimuli/s4/friends_s04e17b.mp3',\n",
       " '/Volumes/T7 Shield/friends/stimuli/s4/friends_s04e21a.mp3',\n",
       " '/Volumes/T7 Shield/friends/stimuli/s4/friends_s04e02b.mp3',\n",
       " '/Volumes/T7 Shield/friends/stimuli/s4/friends_s04e23d.mp3',\n",
       " '/Volumes/T7 Shield/friends/stimuli/s4/friends_s04e18a.mp3',\n",
       " '/Volumes/T7 Shield/friends/stimuli/s4/friends_s04e14b.mp3',\n",
       " '/Volumes/T7 Shield/friends/stimuli/s4/friends_s04e22a.mp3',\n",
       " '/Volumes/T7 Shield/friends/stimuli/s4/friends_s04e02a.mp3',\n",
       " '/Volumes/T7 Shield/friends/stimuli/s4/friends_s04e18b.mp3',\n",
       " '/Volumes/T7 Shield/friends/stimuli/s4/friends_s04e14a.mp3',\n",
       " '/Volumes/T7 Shield/friends/stimuli/s4/friends_s04e22b.mp3',\n",
       " '/Volumes/T7 Shield/friends/stimuli/s4/friends_s04e23b.mp3',\n",
       " '/Volumes/T7 Shield/friends/stimuli/s4/friends_s04e15a.mp3',\n",
       " '/Volumes/T7 Shield/friends/stimuli/s4/friends_s04e19b.mp3',\n",
       " '/Volumes/T7 Shield/friends/stimuli/s4/friends_s04e23c.mp3',\n",
       " '/Volumes/T7 Shield/friends/stimuli/s4/friends_s04e03a.mp3',\n",
       " '/Volumes/T7 Shield/friends/stimuli/s4/friends_s04e23a.mp3',\n",
       " '/Volumes/T7 Shield/friends/stimuli/s4/friends_s04e15b.mp3',\n",
       " '/Volumes/T7 Shield/friends/stimuli/s4/friends_s04e19a.mp3',\n",
       " '/Volumes/T7 Shield/friends/stimuli/s4/friends_s04e03b.mp3',\n",
       " '/Volumes/T7 Shield/friends/stimuli/s4/friends_s04e08b.mp3',\n",
       " '/Volumes/T7 Shield/friends/stimuli/s4/friends_s04e04a.mp3',\n",
       " '/Volumes/T7 Shield/friends/stimuli/s4/friends_s04e12a.mp3',\n",
       " '/Volumes/T7 Shield/friends/stimuli/s4/friends_s04e08a.mp3',\n",
       " '/Volumes/T7 Shield/friends/stimuli/s4/friends_s04e04b.mp3',\n",
       " '/Volumes/T7 Shield/friends/stimuli/s4/friends_s04e12b.mp3',\n",
       " '/Volumes/T7 Shield/friends/stimuli/s4/friends_s04e13b.mp3',\n",
       " '/Volumes/T7 Shield/friends/stimuli/s4/friends_s04e05b.mp3',\n",
       " '/Volumes/T7 Shield/friends/stimuli/s4/friends_s04e09a.mp3',\n",
       " '/Volumes/T7 Shield/friends/stimuli/s4/friends_s04e13a.mp3',\n",
       " '/Volumes/T7 Shield/friends/stimuli/s4/friends_s04e05a.mp3',\n",
       " '/Volumes/T7 Shield/friends/stimuli/s4/friends_s04e09b.mp3',\n",
       " '/Volumes/T7 Shield/friends/stimuli/s5/friends_s05e07a.mp3',\n",
       " '/Volumes/T7 Shield/friends/stimuli/s5/friends_s05e11a.mp3',\n",
       " '/Volumes/T7 Shield/friends/stimuli/s5/friends_s05e07b.mp3',\n",
       " '/Volumes/T7 Shield/friends/stimuli/s5/friends_s05e11b.mp3',\n",
       " '/Volumes/T7 Shield/friends/stimuli/s5/friends_s05e10b.mp3',\n",
       " '/Volumes/T7 Shield/friends/stimuli/s5/friends_s05e06b.mp3',\n",
       " '/Volumes/T7 Shield/friends/stimuli/s5/friends_s05e10a.mp3',\n",
       " '/Volumes/T7 Shield/friends/stimuli/s5/friends_s05e06a.mp3',\n",
       " '/Volumes/T7 Shield/friends/stimuli/s5/friends_s05e01b.mp3',\n",
       " '/Volumes/T7 Shield/friends/stimuli/s5/friends_s05e17b.mp3',\n",
       " '/Volumes/T7 Shield/friends/stimuli/s5/friends_s05e21a.mp3',\n",
       " '/Volumes/T7 Shield/friends/stimuli/s5/friends_s05e01a.mp3',\n",
       " '/Volumes/T7 Shield/friends/stimuli/s5/friends_s05e17a.mp3',\n",
       " '/Volumes/T7 Shield/friends/stimuli/s5/friends_s05e21b.mp3',\n",
       " '/Volumes/T7 Shield/friends/stimuli/s5/friends_s05e20b.mp3',\n",
       " '/Volumes/T7 Shield/friends/stimuli/s5/friends_s05e16a.mp3',\n",
       " '/Volumes/T7 Shield/friends/stimuli/s5/friends_s05e20a.mp3',\n",
       " '/Volumes/T7 Shield/friends/stimuli/s5/friends_s05e16b.mp3',\n",
       " '/Volumes/T7 Shield/friends/stimuli/s5/friends_s05e23a.mp3',\n",
       " '/Volumes/T7 Shield/friends/stimuli/s5/friends_s05e15b.mp3',\n",
       " '/Volumes/T7 Shield/friends/stimuli/s5/friends_s05e19a.mp3',\n",
       " '/Volumes/T7 Shield/friends/stimuli/s5/friends_s05e03b.mp3',\n",
       " '/Volumes/T7 Shield/friends/stimuli/s5/friends_s05e23b.mp3',\n",
       " '/Volumes/T7 Shield/friends/stimuli/s5/friends_s05e15a.mp3',\n",
       " '/Volumes/T7 Shield/friends/stimuli/s5/friends_s05e19b.mp3',\n",
       " '/Volumes/T7 Shield/friends/stimuli/s5/friends_s05e03a.mp3',\n",
       " '/Volumes/T7 Shield/friends/stimuli/s5/friends_s05e23c.mp3',\n",
       " '/Volumes/T7 Shield/friends/stimuli/s5/friends_s05e02a.mp3',\n",
       " '/Volumes/T7 Shield/friends/stimuli/s5/friends_s05e18b.mp3',\n",
       " '/Volumes/T7 Shield/friends/stimuli/s5/friends_s05e14a.mp3',\n",
       " '/Volumes/T7 Shield/friends/stimuli/s5/friends_s05e22b.mp3',\n",
       " '/Volumes/T7 Shield/friends/stimuli/s5/friends_s05e23d.mp3',\n",
       " '/Volumes/T7 Shield/friends/stimuli/s5/friends_s05e02b.mp3',\n",
       " '/Volumes/T7 Shield/friends/stimuli/s5/friends_s05e18a.mp3',\n",
       " '/Volumes/T7 Shield/friends/stimuli/s5/friends_s05e14b.mp3',\n",
       " '/Volumes/T7 Shield/friends/stimuli/s5/friends_s05e22a.mp3',\n",
       " '/Volumes/T7 Shield/friends/stimuli/s5/friends_s05e13a.mp3',\n",
       " '/Volumes/T7 Shield/friends/stimuli/s5/friends_s05e05a.mp3',\n",
       " '/Volumes/T7 Shield/friends/stimuli/s5/friends_s05e09b.mp3',\n",
       " '/Volumes/T7 Shield/friends/stimuli/s5/friends_s05e13b.mp3',\n",
       " '/Volumes/T7 Shield/friends/stimuli/s5/friends_s05e05b.mp3',\n",
       " '/Volumes/T7 Shield/friends/stimuli/s5/friends_s05e09a.mp3',\n",
       " '/Volumes/T7 Shield/friends/stimuli/s5/friends_s05e08a.mp3',\n",
       " '/Volumes/T7 Shield/friends/stimuli/s5/friends_s05e04b.mp3',\n",
       " '/Volumes/T7 Shield/friends/stimuli/s5/friends_s05e12b.mp3',\n",
       " '/Volumes/T7 Shield/friends/stimuli/s5/friends_s05e08b.mp3',\n",
       " '/Volumes/T7 Shield/friends/stimuli/s5/friends_s05e04a.mp3',\n",
       " '/Volumes/T7 Shield/friends/stimuli/s5/friends_s05e12a.mp3',\n",
       " '/Volumes/T7 Shield/friends/stimuli/s6/friends_s06e17a.mp3',\n",
       " '/Volumes/T7 Shield/friends/stimuli/s6/friends_s06e01a.mp3',\n",
       " '/Volumes/T7 Shield/friends/stimuli/s6/friends_s06e21b.mp3',\n",
       " '/Volumes/T7 Shield/friends/stimuli/s6/friends_s06e17b.mp3',\n",
       " '/Volumes/T7 Shield/friends/stimuli/s6/friends_s06e01b.mp3',\n",
       " '/Volumes/T7 Shield/friends/stimuli/s6/friends_s06e21a.mp3',\n",
       " '/Volumes/T7 Shield/friends/stimuli/s6/friends_s06e20a.mp3',\n",
       " '/Volumes/T7 Shield/friends/stimuli/s6/friends_s06e20b.mp3',\n",
       " '/Volumes/T7 Shield/friends/stimuli/s6/friends_s06e11b.mp3',\n",
       " '/Volumes/T7 Shield/friends/stimuli/s6/friends_s06e07b.mp3',\n",
       " '/Volumes/T7 Shield/friends/stimuli/s6/friends_s06e11a.mp3',\n",
       " '/Volumes/T7 Shield/friends/stimuli/s6/friends_s06e07a.mp3',\n",
       " '/Volumes/T7 Shield/friends/stimuli/s6/friends_s06e06a.mp3',\n",
       " '/Volumes/T7 Shield/friends/stimuli/s6/friends_s06e10a.mp3',\n",
       " '/Volumes/T7 Shield/friends/stimuli/s6/friends_s06e06b.mp3',\n",
       " '/Volumes/T7 Shield/friends/stimuli/s6/friends_s06e10b.mp3',\n",
       " '/Volumes/T7 Shield/friends/stimuli/s6/friends_s06e24d.mp3',\n",
       " '/Volumes/T7 Shield/friends/stimuli/s6/friends_s06e09a.mp3',\n",
       " '/Volumes/T7 Shield/friends/stimuli/s6/friends_s06e05b.mp3',\n",
       " '/Volumes/T7 Shield/friends/stimuli/s6/friends_s06e13b.mp3',\n",
       " '/Volumes/T7 Shield/friends/stimuli/s6/friends_s06e09b.mp3',\n",
       " '/Volumes/T7 Shield/friends/stimuli/s6/friends_s06e05a.mp3',\n",
       " '/Volumes/T7 Shield/friends/stimuli/s6/friends_s06e13a.mp3',\n",
       " '/Volumes/T7 Shield/friends/stimuli/s6/friends_s06e12a.mp3',\n",
       " '/Volumes/T7 Shield/friends/stimuli/s6/friends_s06e04a.mp3',\n",
       " '/Volumes/T7 Shield/friends/stimuli/s6/friends_s06e08b.mp3',\n",
       " '/Volumes/T7 Shield/friends/stimuli/s6/friends_s06e24c.mp3',\n",
       " '/Volumes/T7 Shield/friends/stimuli/s6/friends_s06e24b.mp3',\n",
       " '/Volumes/T7 Shield/friends/stimuli/s6/friends_s06e12b.mp3',\n",
       " '/Volumes/T7 Shield/friends/stimuli/s6/friends_s06e04b.mp3',\n",
       " '/Volumes/T7 Shield/friends/stimuli/s6/friends_s06e08a.mp3',\n",
       " '/Volumes/T7 Shield/friends/stimuli/s6/friends_s06e24a.mp3',\n",
       " '/Volumes/T7 Shield/friends/stimuli/s6/friends_s06e23b.mp3',\n",
       " '/Volumes/T7 Shield/friends/stimuli/s6/friends_s06e03a.mp3',\n",
       " '/Volumes/T7 Shield/friends/stimuli/s6/friends_s06e19b.mp3',\n",
       " '/Volumes/T7 Shield/friends/stimuli/s6/friends_s06e15a.mp3',\n",
       " '/Volumes/T7 Shield/friends/stimuli/s6/friends_s06e15c.mp3',\n",
       " '/Volumes/T7 Shield/friends/stimuli/s6/friends_s06e23a.mp3',\n",
       " '/Volumes/T7 Shield/friends/stimuli/s6/friends_s06e03b.mp3',\n",
       " '/Volumes/T7 Shield/friends/stimuli/s6/friends_s06e19a.mp3',\n",
       " '/Volumes/T7 Shield/friends/stimuli/s6/friends_s06e15b.mp3',\n",
       " '/Volumes/T7 Shield/friends/stimuli/s6/friends_s06e14b.mp3',\n",
       " '/Volumes/T7 Shield/friends/stimuli/s6/friends_s06e18a.mp3',\n",
       " '/Volumes/T7 Shield/friends/stimuli/s6/friends_s06e02b.mp3',\n",
       " '/Volumes/T7 Shield/friends/stimuli/s6/friends_s06e22a.mp3',\n",
       " '/Volumes/T7 Shield/friends/stimuli/s6/friends_s06e14a.mp3',\n",
       " '/Volumes/T7 Shield/friends/stimuli/s6/friends_s06e18b.mp3',\n",
       " '/Volumes/T7 Shield/friends/stimuli/s6/friends_s06e02a.mp3',\n",
       " '/Volumes/T7 Shield/friends/stimuli/s6/friends_s06e22b.mp3',\n",
       " '/Volumes/T7 Shield/friends/stimuli/s6/friends_s06e15d.mp3']"
      ]
     },
     "execution_count": 21,
     "metadata": {},
     "output_type": "execute_result"
    }
   ],
   "source": [
    "\n",
    "folder_path = '/Volumes/T7 Shield/friends/stimuli/'  # <-- change to your folder\n",
    "mp3_files = []\n",
    "for root, dirs, files in os.walk(folder_path):\n",
    "    for file in files:\n",
    "        if file.lower().endswith('.mp3') and \"._\" not in file:\n",
    "            mp3_files.append(os.path.join(root, file))\n",
    "\n",
    "\n",
    "mp3_files = remove_dot_underscore_files(mp3_files)\n",
    "mp3_files"
   ]
  },
  {
   "cell_type": "code",
   "execution_count": 22,
   "id": "b7098444-2d1e-4b4c-88e4-3564ce2a7b58",
   "metadata": {},
   "outputs": [
    {
     "name": "stdout",
     "output_type": "stream",
     "text": [
      "friends_s01e13a\n",
      "The file '../data/02_laughter/laughter_annotations/friends_s01e13a.csv' exists. Skipping. \n",
      "friends_s01e09b\n",
      "The file '../data/02_laughter/laughter_annotations/friends_s01e09b.csv' exists. Skipping. \n",
      "friends_s01e05a\n",
      "The file '../data/02_laughter/laughter_annotations/friends_s01e05a.csv' exists. Skipping. \n",
      "friends_s01e13b\n",
      "The file '../data/02_laughter/laughter_annotations/friends_s01e13b.csv' exists. Skipping. \n",
      "friends_s01e09a\n",
      "The file '../data/02_laughter/laughter_annotations/friends_s01e09a.csv' exists. Skipping. \n",
      "friends_s01e05b\n",
      "The file '../data/02_laughter/laughter_annotations/friends_s01e05b.csv' exists. Skipping. \n",
      "friends_s01e24a\n",
      "The file '../data/02_laughter/laughter_annotations/friends_s01e24a.csv' exists. Skipping. \n",
      "friends_s01e04b\n",
      "The file '../data/02_laughter/laughter_annotations/friends_s01e04b.csv' exists. Skipping. \n",
      "friends_s01e08a\n",
      "The file '../data/02_laughter/laughter_annotations/friends_s01e08a.csv' exists. Skipping. \n",
      "friends_s01e12b\n",
      "The file '../data/02_laughter/laughter_annotations/friends_s01e12b.csv' exists. Skipping. \n",
      "friends_s01e24b\n",
      "The file '../data/02_laughter/laughter_annotations/friends_s01e24b.csv' exists. Skipping. \n",
      "friends_s01e04a\n",
      "The file '../data/02_laughter/laughter_annotations/friends_s01e04a.csv' exists. Skipping. \n",
      "friends_s01e08b\n",
      "The file '../data/02_laughter/laughter_annotations/friends_s01e08b.csv' exists. Skipping. \n",
      "friends_s01e12a\n",
      "The file '../data/02_laughter/laughter_annotations/friends_s01e12a.csv' exists. Skipping. \n",
      "friends_s01e19a\n",
      "The file '../data/02_laughter/laughter_annotations/friends_s01e19a.csv' exists. Skipping. \n",
      "friends_s01e15b\n",
      "The file '../data/02_laughter/laughter_annotations/friends_s01e15b.csv' exists. Skipping. \n",
      "friends_s01e03b\n",
      "The file '../data/02_laughter/laughter_annotations/friends_s01e03b.csv' exists. Skipping. \n",
      "friends_s01e23a\n",
      "The file '../data/02_laughter/laughter_annotations/friends_s01e23a.csv' exists. Skipping. \n",
      "friends_s01e19b\n",
      "The file '../data/02_laughter/laughter_annotations/friends_s01e19b.csv' exists. Skipping. \n",
      "friends_s01e15a\n",
      "The file '../data/02_laughter/laughter_annotations/friends_s01e15a.csv' exists. Skipping. \n",
      "friends_s01e03a\n",
      "The file '../data/02_laughter/laughter_annotations/friends_s01e03a.csv' exists. Skipping. \n",
      "friends_s01e23b\n",
      "The file '../data/02_laughter/laughter_annotations/friends_s01e23b.csv' exists. Skipping. \n",
      "friends_s01e22b\n",
      "The file '../data/02_laughter/laughter_annotations/friends_s01e22b.csv' exists. Skipping. \n",
      "friends_s01e02a\n",
      "The file '../data/02_laughter/laughter_annotations/friends_s01e02a.csv' exists. Skipping. \n",
      "friends_s01e14a\n",
      "The file '../data/02_laughter/laughter_annotations/friends_s01e14a.csv' exists. Skipping. \n",
      "friends_s01e18b\n",
      "The file '../data/02_laughter/laughter_annotations/friends_s01e18b.csv' exists. Skipping. \n",
      "friends_s01e22a\n",
      "The file '../data/02_laughter/laughter_annotations/friends_s01e22a.csv' exists. Skipping. \n",
      "friends_s01e02b\n",
      "The file '../data/02_laughter/laughter_annotations/friends_s01e02b.csv' exists. Skipping. \n",
      "friends_s01e14b\n",
      "The file '../data/02_laughter/laughter_annotations/friends_s01e14b.csv' exists. Skipping. \n",
      "friends_s01e18a\n",
      "The file '../data/02_laughter/laughter_annotations/friends_s01e18a.csv' exists. Skipping. \n",
      "friends_s01e21a\n",
      "The file '../data/02_laughter/laughter_annotations/friends_s01e21a.csv' exists. Skipping. \n",
      "friends_s01e01b\n",
      "The file '../data/02_laughter/laughter_annotations/friends_s01e01b.csv' exists. Skipping. \n",
      "friends_s01e17b\n",
      "The file '../data/02_laughter/laughter_annotations/friends_s01e17b.csv' exists. Skipping. \n",
      "friends_s01e21b\n",
      "The file '../data/02_laughter/laughter_annotations/friends_s01e21b.csv' exists. Skipping. \n",
      "friends_s01e01a\n",
      "The file '../data/02_laughter/laughter_annotations/friends_s01e01a.csv' exists. Skipping. \n",
      "friends_s01e17a\n",
      "The file '../data/02_laughter/laughter_annotations/friends_s01e17a.csv' exists. Skipping. \n",
      "friends_s01e16a\n",
      "The file '../data/02_laughter/laughter_annotations/friends_s01e16a.csv' exists. Skipping. \n",
      "friends_s01e20b\n",
      "The file '../data/02_laughter/laughter_annotations/friends_s01e20b.csv' exists. Skipping. \n",
      "friends_s01e16b\n",
      "The file '../data/02_laughter/laughter_annotations/friends_s01e16b.csv' exists. Skipping. \n",
      "friends_s01e20a\n",
      "The file '../data/02_laughter/laughter_annotations/friends_s01e20a.csv' exists. Skipping. \n",
      "friends_s01e07a\n",
      "The file '../data/02_laughter/laughter_annotations/friends_s01e07a.csv' exists. Skipping. \n",
      "friends_s01e11a\n",
      "The file '../data/02_laughter/laughter_annotations/friends_s01e11a.csv' exists. Skipping. \n",
      "friends_s01e07b\n",
      "The file '../data/02_laughter/laughter_annotations/friends_s01e07b.csv' exists. Skipping. \n",
      "friends_s01e11b\n",
      "The file '../data/02_laughter/laughter_annotations/friends_s01e11b.csv' exists. Skipping. \n",
      "friends_s01e10b\n",
      "The file '../data/02_laughter/laughter_annotations/friends_s01e10b.csv' exists. Skipping. \n",
      "friends_s01e06b\n",
      "The file '../data/02_laughter/laughter_annotations/friends_s01e06b.csv' exists. Skipping. \n",
      "friends_s01e10a\n",
      "The file '../data/02_laughter/laughter_annotations/friends_s01e10a.csv' exists. Skipping. \n",
      "friends_s01e06a\n",
      "The file '../data/02_laughter/laughter_annotations/friends_s01e06a.csv' exists. Skipping. \n",
      "friends_s02e03a\n",
      "The file '../data/02_laughter/laughter_annotations/friends_s02e03a.csv' exists. Skipping. \n",
      "friends_s02e15a\n",
      "The file '../data/02_laughter/laughter_annotations/friends_s02e15a.csv' exists. Skipping. \n",
      "friends_s02e19b\n",
      "The file '../data/02_laughter/laughter_annotations/friends_s02e19b.csv' exists. Skipping. \n",
      "friends_s02e23b\n",
      "The file '../data/02_laughter/laughter_annotations/friends_s02e23b.csv' exists. Skipping. \n",
      "friends_s02e03b\n",
      "The file '../data/02_laughter/laughter_annotations/friends_s02e03b.csv' exists. Skipping. \n",
      "friends_s02e15b\n",
      "The file '../data/02_laughter/laughter_annotations/friends_s02e15b.csv' exists. Skipping. \n",
      "friends_s02e19a\n",
      "The file '../data/02_laughter/laughter_annotations/friends_s02e19a.csv' exists. Skipping. \n",
      "friends_s02e23a\n",
      "The file '../data/02_laughter/laughter_annotations/friends_s02e23a.csv' exists. Skipping. \n",
      "friends_s02e22a\n",
      "The file '../data/02_laughter/laughter_annotations/friends_s02e22a.csv' exists. Skipping. \n",
      "friends_s02e18a\n",
      "The file '../data/02_laughter/laughter_annotations/friends_s02e18a.csv' exists. Skipping. \n",
      "friends_s02e14b\n",
      "The file '../data/02_laughter/laughter_annotations/friends_s02e14b.csv' exists. Skipping. \n",
      "friends_s02e02b\n",
      "The file '../data/02_laughter/laughter_annotations/friends_s02e02b.csv' exists. Skipping. \n",
      "friends_s02e22b\n",
      "The file '../data/02_laughter/laughter_annotations/friends_s02e22b.csv' exists. Skipping. \n",
      "friends_s02e18b\n",
      "The file '../data/02_laughter/laughter_annotations/friends_s02e18b.csv' exists. Skipping. \n",
      "friends_s02e14a\n",
      "The file '../data/02_laughter/laughter_annotations/friends_s02e14a.csv' exists. Skipping. \n",
      "friends_s02e02a\n",
      "The file '../data/02_laughter/laughter_annotations/friends_s02e02a.csv' exists. Skipping. \n",
      "friends_s02e05b\n",
      "The file '../data/02_laughter/laughter_annotations/friends_s02e05b.csv' exists. Skipping. \n",
      "friends_s02e09a\n",
      "The file '../data/02_laughter/laughter_annotations/friends_s02e09a.csv' exists. Skipping. \n",
      "friends_s02e13b\n",
      "The file '../data/02_laughter/laughter_annotations/friends_s02e13b.csv' exists. Skipping. \n",
      "friends_s02e05a\n",
      "The file '../data/02_laughter/laughter_annotations/friends_s02e05a.csv' exists. Skipping. \n",
      "friends_s02e09b\n",
      "The file '../data/02_laughter/laughter_annotations/friends_s02e09b.csv' exists. Skipping. \n",
      "friends_s02e13a\n",
      "The file '../data/02_laughter/laughter_annotations/friends_s02e13a.csv' exists. Skipping. \n",
      "friends_s02e24b\n",
      "The file '../data/02_laughter/laughter_annotations/friends_s02e24b.csv' exists. Skipping. \n",
      "friends_s02e12a\n",
      "The file '../data/02_laughter/laughter_annotations/friends_s02e12a.csv' exists. Skipping. \n",
      "friends_s02e08b\n",
      "The file '../data/02_laughter/laughter_annotations/friends_s02e08b.csv' exists. Skipping. \n",
      "friends_s02e04a\n",
      "The file '../data/02_laughter/laughter_annotations/friends_s02e04a.csv' exists. Skipping. \n",
      "friends_s02e24a\n",
      "The file '../data/02_laughter/laughter_annotations/friends_s02e24a.csv' exists. Skipping. \n",
      "friends_s02e12b\n",
      "The file '../data/02_laughter/laughter_annotations/friends_s02e12b.csv' exists. Skipping. \n",
      "friends_s02e08a\n",
      "The file '../data/02_laughter/laughter_annotations/friends_s02e08a.csv' exists. Skipping. \n",
      "friends_s02e04b\n",
      "The file '../data/02_laughter/laughter_annotations/friends_s02e04b.csv' exists. Skipping. \n",
      "friends_s02e11b\n"
     ]
    },
    {
     "name": "stderr",
     "output_type": "stream",
     "text": [
      "100%|█████████████████████████████████████████| 488/488 [02:14<00:00,  3.64it/s]\n"
     ]
    },
    {
     "name": "stdout",
     "output_type": "stream",
     "text": [
      "friends_s02e07b\n"
     ]
    },
    {
     "name": "stderr",
     "output_type": "stream",
     "text": [
      "100%|█████████████████████████████████████████| 496/496 [01:44<00:00,  4.73it/s]\n"
     ]
    },
    {
     "name": "stdout",
     "output_type": "stream",
     "text": [
      "friends_s02e11a\n"
     ]
    },
    {
     "name": "stderr",
     "output_type": "stream",
     "text": [
      "100%|█████████████████████████████████████████| 488/488 [01:42<00:00,  4.74it/s]\n"
     ]
    },
    {
     "name": "stdout",
     "output_type": "stream",
     "text": [
      "friends_s02e07a\n"
     ]
    },
    {
     "name": "stderr",
     "output_type": "stream",
     "text": [
      "100%|█████████████████████████████████████████| 496/496 [01:47<00:00,  4.62it/s]\n"
     ]
    },
    {
     "name": "stdout",
     "output_type": "stream",
     "text": [
      "friends_s02e06a\n"
     ]
    },
    {
     "name": "stderr",
     "output_type": "stream",
     "text": [
      "100%|█████████████████████████████████████████| 500/500 [01:46<00:00,  4.68it/s]\n"
     ]
    },
    {
     "name": "stdout",
     "output_type": "stream",
     "text": [
      "friends_s02e10a\n"
     ]
    },
    {
     "name": "stderr",
     "output_type": "stream",
     "text": [
      "100%|█████████████████████████████████████████| 479/479 [01:43<00:00,  4.65it/s]\n"
     ]
    },
    {
     "name": "stdout",
     "output_type": "stream",
     "text": [
      "friends_s02e06b\n"
     ]
    },
    {
     "name": "stderr",
     "output_type": "stream",
     "text": [
      "100%|█████████████████████████████████████████| 500/500 [01:44<00:00,  4.80it/s]\n"
     ]
    },
    {
     "name": "stdout",
     "output_type": "stream",
     "text": [
      "friends_s02e10b\n"
     ]
    },
    {
     "name": "stderr",
     "output_type": "stream",
     "text": [
      "100%|█████████████████████████████████████████| 479/479 [01:39<00:00,  4.82it/s]\n"
     ]
    },
    {
     "name": "stdout",
     "output_type": "stream",
     "text": [
      "friends_s02e21b\n"
     ]
    },
    {
     "name": "stderr",
     "output_type": "stream",
     "text": [
      "100%|█████████████████████████████████████████| 470/470 [01:37<00:00,  4.84it/s]\n"
     ]
    },
    {
     "name": "stdout",
     "output_type": "stream",
     "text": [
      "friends_s02e17a\n"
     ]
    },
    {
     "name": "stderr",
     "output_type": "stream",
     "text": [
      "100%|█████████████████████████████████████████| 489/489 [01:41<00:00,  4.81it/s]\n"
     ]
    },
    {
     "name": "stdout",
     "output_type": "stream",
     "text": [
      "friends_s02e01a\n"
     ]
    },
    {
     "name": "stderr",
     "output_type": "stream",
     "text": [
      "100%|█████████████████████████████████████████| 477/477 [01:39<00:00,  4.78it/s]\n"
     ]
    },
    {
     "name": "stdout",
     "output_type": "stream",
     "text": [
      "friends_s02e21a\n"
     ]
    },
    {
     "name": "stderr",
     "output_type": "stream",
     "text": [
      "100%|█████████████████████████████████████████| 470/470 [01:37<00:00,  4.83it/s]\n"
     ]
    },
    {
     "name": "stdout",
     "output_type": "stream",
     "text": [
      "friends_s02e17b\n"
     ]
    },
    {
     "name": "stderr",
     "output_type": "stream",
     "text": [
      "100%|█████████████████████████████████████████| 489/489 [01:40<00:00,  4.84it/s]\n"
     ]
    },
    {
     "name": "stdout",
     "output_type": "stream",
     "text": [
      "friends_s02e01b\n"
     ]
    },
    {
     "name": "stderr",
     "output_type": "stream",
     "text": [
      "100%|█████████████████████████████████████████| 477/477 [01:40<00:00,  4.73it/s]\n"
     ]
    },
    {
     "name": "stdout",
     "output_type": "stream",
     "text": [
      "friends_s02e16b\n"
     ]
    },
    {
     "name": "stderr",
     "output_type": "stream",
     "text": [
      "100%|█████████████████████████████████████████| 478/478 [01:39<00:00,  4.79it/s]\n"
     ]
    },
    {
     "name": "stdout",
     "output_type": "stream",
     "text": [
      "friends_s02e20a\n"
     ]
    },
    {
     "name": "stderr",
     "output_type": "stream",
     "text": [
      "100%|████████████████████████████████████████▉| 449/450 [01:36<00:00,  5.16it/s]/Users/schmaelz/miniconda3/lib/python3.10/site-packages/librosa/core/spectrum.py:266: UserWarning: n_fft=4800 is too large for input signal of length=1776\n",
      "  warnings.warn(\n",
      "100%|█████████████████████████████████████████| 450/450 [01:36<00:00,  4.67it/s]\n"
     ]
    },
    {
     "name": "stdout",
     "output_type": "stream",
     "text": [
      "friends_s02e16a\n"
     ]
    },
    {
     "name": "stderr",
     "output_type": "stream",
     "text": [
      "100%|█████████████████████████████████████████| 478/478 [01:39<00:00,  4.80it/s]\n"
     ]
    },
    {
     "name": "stdout",
     "output_type": "stream",
     "text": [
      "friends_s02e20b\n"
     ]
    },
    {
     "name": "stderr",
     "output_type": "stream",
     "text": [
      "100%|█████████████████████████████████████████| 449/449 [01:30<00:00,  4.94it/s]\n"
     ]
    },
    {
     "name": "stdout",
     "output_type": "stream",
     "text": [
      "friends_s03e22b\n"
     ]
    },
    {
     "name": "stderr",
     "output_type": "stream",
     "text": [
      "100%|█████████████████████████████████████████| 463/463 [01:32<00:00,  5.03it/s]\n"
     ]
    },
    {
     "name": "stdout",
     "output_type": "stream",
     "text": [
      "friends_s03e18b\n"
     ]
    },
    {
     "name": "stderr",
     "output_type": "stream",
     "text": [
      "100%|█████████████████████████████████████████| 469/469 [01:33<00:00,  4.99it/s]\n"
     ]
    },
    {
     "name": "stdout",
     "output_type": "stream",
     "text": [
      "friends_s03e14a\n"
     ]
    },
    {
     "name": "stderr",
     "output_type": "stream",
     "text": [
      "100%|█████████████████████████████████████████| 459/459 [01:33<00:00,  4.93it/s]\n"
     ]
    },
    {
     "name": "stdout",
     "output_type": "stream",
     "text": [
      "friends_s03e02a\n"
     ]
    },
    {
     "name": "stderr",
     "output_type": "stream",
     "text": [
      "100%|█████████████████████████████████████████| 475/475 [01:39<00:00,  4.79it/s]\n"
     ]
    },
    {
     "name": "stdout",
     "output_type": "stream",
     "text": [
      "friends_s03e22a\n"
     ]
    },
    {
     "name": "stderr",
     "output_type": "stream",
     "text": [
      "100%|█████████████████████████████████████████| 463/463 [01:41<00:00,  4.56it/s]\n"
     ]
    },
    {
     "name": "stdout",
     "output_type": "stream",
     "text": [
      "friends_s03e18a\n"
     ]
    },
    {
     "name": "stderr",
     "output_type": "stream",
     "text": [
      "100%|█████████████████████████████████████████| 469/469 [01:40<00:00,  4.65it/s]\n"
     ]
    },
    {
     "name": "stdout",
     "output_type": "stream",
     "text": [
      "friends_s03e14b\n"
     ]
    },
    {
     "name": "stderr",
     "output_type": "stream",
     "text": [
      "100%|████████████████████████████████████████▉| 458/459 [01:48<00:00,  4.92it/s]/Users/schmaelz/miniconda3/lib/python3.10/site-packages/librosa/core/spectrum.py:266: UserWarning: n_fft=4800 is too large for input signal of length=4368\n",
      "  warnings.warn(\n",
      "100%|█████████████████████████████████████████| 459/459 [01:48<00:00,  4.23it/s]\n"
     ]
    },
    {
     "name": "stdout",
     "output_type": "stream",
     "text": [
      "friends_s03e02b\n"
     ]
    },
    {
     "name": "stderr",
     "output_type": "stream",
     "text": [
      "100%|█████████████████████████████████████████| 475/475 [01:38<00:00,  4.83it/s]\n"
     ]
    },
    {
     "name": "stdout",
     "output_type": "stream",
     "text": [
      "friends_s03e03b\n"
     ]
    },
    {
     "name": "stderr",
     "output_type": "stream",
     "text": [
      "100%|█████████████████████████████████████████| 454/454 [01:31<00:00,  4.94it/s]\n"
     ]
    },
    {
     "name": "stdout",
     "output_type": "stream",
     "text": [
      "friends_s03e15b\n"
     ]
    },
    {
     "name": "stderr",
     "output_type": "stream",
     "text": [
      "100%|█████████████████████████████████████████| 458/458 [01:32<00:00,  4.94it/s]\n"
     ]
    },
    {
     "name": "stdout",
     "output_type": "stream",
     "text": [
      "friends_s03e19a\n"
     ]
    },
    {
     "name": "stderr",
     "output_type": "stream",
     "text": [
      "100%|█████████████████████████████████████████| 469/469 [01:34<00:00,  4.96it/s]\n"
     ]
    },
    {
     "name": "stdout",
     "output_type": "stream",
     "text": [
      "friends_s03e23a\n"
     ]
    },
    {
     "name": "stderr",
     "output_type": "stream",
     "text": [
      "100%|█████████████████████████████████████████| 470/470 [01:34<00:00,  4.97it/s]\n"
     ]
    },
    {
     "name": "stdout",
     "output_type": "stream",
     "text": [
      "friends_s03e03a\n"
     ]
    },
    {
     "name": "stderr",
     "output_type": "stream",
     "text": [
      "100%|█████████████████████████████████████████| 454/454 [01:31<00:00,  4.97it/s]\n"
     ]
    },
    {
     "name": "stdout",
     "output_type": "stream",
     "text": [
      "friends_s03e15a\n"
     ]
    },
    {
     "name": "stderr",
     "output_type": "stream",
     "text": [
      "100%|█████████████████████████████████████████| 458/458 [01:31<00:00,  4.99it/s]\n"
     ]
    },
    {
     "name": "stdout",
     "output_type": "stream",
     "text": [
      "friends_s03e19b\n"
     ]
    },
    {
     "name": "stderr",
     "output_type": "stream",
     "text": [
      "100%|█████████████████████████████████████████| 469/469 [01:34<00:00,  4.97it/s]\n"
     ]
    },
    {
     "name": "stdout",
     "output_type": "stream",
     "text": [
      "friends_s03e23b\n"
     ]
    },
    {
     "name": "stderr",
     "output_type": "stream",
     "text": [
      "100%|█████████████████████████████████████████| 470/470 [01:33<00:00,  5.01it/s]\n"
     ]
    },
    {
     "name": "stdout",
     "output_type": "stream",
     "text": [
      "friends_s03e24a\n"
     ]
    },
    {
     "name": "stderr",
     "output_type": "stream",
     "text": [
      "100%|█████████████████████████████████████████| 454/454 [01:30<00:00,  5.00it/s]\n"
     ]
    },
    {
     "name": "stdout",
     "output_type": "stream",
     "text": [
      "friends_s03e12b\n"
     ]
    },
    {
     "name": "stderr",
     "output_type": "stream",
     "text": [
      "100%|█████████████████████████████████████████| 464/464 [01:33<00:00,  4.96it/s]\n"
     ]
    },
    {
     "name": "stdout",
     "output_type": "stream",
     "text": [
      "friends_s03e08a\n"
     ]
    },
    {
     "name": "stderr",
     "output_type": "stream",
     "text": [
      "100%|█████████████████████████████████████████| 460/460 [01:32<00:00,  4.98it/s]\n"
     ]
    },
    {
     "name": "stdout",
     "output_type": "stream",
     "text": [
      "friends_s03e04b\n"
     ]
    },
    {
     "name": "stderr",
     "output_type": "stream",
     "text": [
      "100%|████████████████████████████████████████▉| 473/474 [01:35<00:00,  5.11it/s]/Users/schmaelz/miniconda3/lib/python3.10/site-packages/librosa/core/spectrum.py:266: UserWarning: n_fft=4800 is too large for input signal of length=624\n",
      "  warnings.warn(\n",
      "100%|█████████████████████████████████████████| 474/474 [01:35<00:00,  4.96it/s]\n"
     ]
    },
    {
     "name": "stdout",
     "output_type": "stream",
     "text": [
      "friends_s03e24b\n"
     ]
    },
    {
     "name": "stderr",
     "output_type": "stream",
     "text": [
      "100%|█████████████████████████████████████████| 454/454 [01:31<00:00,  4.95it/s]\n"
     ]
    },
    {
     "name": "stdout",
     "output_type": "stream",
     "text": [
      "friends_s03e12a\n"
     ]
    },
    {
     "name": "stderr",
     "output_type": "stream",
     "text": [
      "100%|█████████████████████████████████████████| 464/464 [01:34<00:00,  4.91it/s]\n"
     ]
    },
    {
     "name": "stdout",
     "output_type": "stream",
     "text": [
      "friends_s03e08b\n"
     ]
    },
    {
     "name": "stderr",
     "output_type": "stream",
     "text": [
      "100%|█████████████████████████████████████████| 460/460 [01:33<00:00,  4.94it/s]\n"
     ]
    },
    {
     "name": "stdout",
     "output_type": "stream",
     "text": [
      "friends_s03e04a\n"
     ]
    },
    {
     "name": "stderr",
     "output_type": "stream",
     "text": [
      "100%|█████████████████████████████████████████| 474/474 [01:36<00:00,  4.94it/s]\n"
     ]
    },
    {
     "name": "stdout",
     "output_type": "stream",
     "text": [
      "friends_s03e05a\n"
     ]
    },
    {
     "name": "stderr",
     "output_type": "stream",
     "text": [
      "100%|█████████████████████████████████████████| 484/484 [01:38<00:00,  4.89it/s]\n"
     ]
    },
    {
     "name": "stdout",
     "output_type": "stream",
     "text": [
      "friends_s03e09b\n"
     ]
    },
    {
     "name": "stderr",
     "output_type": "stream",
     "text": [
      "100%|█████████████████████████████████████████| 493/493 [01:41<00:00,  4.84it/s]\n"
     ]
    },
    {
     "name": "stdout",
     "output_type": "stream",
     "text": [
      "friends_s03e13a\n"
     ]
    },
    {
     "name": "stderr",
     "output_type": "stream",
     "text": [
      "100%|█████████████████████████████████████████| 474/474 [01:36<00:00,  4.90it/s]\n"
     ]
    },
    {
     "name": "stdout",
     "output_type": "stream",
     "text": [
      "friends_s03e25b\n"
     ]
    },
    {
     "name": "stderr",
     "output_type": "stream",
     "text": [
      "100%|█████████████████████████████████████████| 479/479 [01:37<00:00,  4.89it/s]\n"
     ]
    },
    {
     "name": "stdout",
     "output_type": "stream",
     "text": [
      "friends_s03e05b\n"
     ]
    },
    {
     "name": "stderr",
     "output_type": "stream",
     "text": [
      "100%|█████████████████████████████████████████| 484/484 [01:38<00:00,  4.89it/s]\n"
     ]
    },
    {
     "name": "stdout",
     "output_type": "stream",
     "text": [
      "friends_s03e09a\n"
     ]
    },
    {
     "name": "stderr",
     "output_type": "stream",
     "text": [
      "100%|█████████████████████████████████████████| 493/493 [01:41<00:00,  4.84it/s]\n"
     ]
    },
    {
     "name": "stdout",
     "output_type": "stream",
     "text": [
      "friends_s03e13b\n"
     ]
    },
    {
     "name": "stderr",
     "output_type": "stream",
     "text": [
      "100%|█████████████████████████████████████████| 474/474 [01:36<00:00,  4.89it/s]\n"
     ]
    },
    {
     "name": "stdout",
     "output_type": "stream",
     "text": [
      "friends_s03e25a\n"
     ]
    },
    {
     "name": "stderr",
     "output_type": "stream",
     "text": [
      "100%|█████████████████████████████████████████| 479/479 [01:36<00:00,  4.94it/s]\n"
     ]
    },
    {
     "name": "stdout",
     "output_type": "stream",
     "text": [
      "friends_s03e06b\n"
     ]
    },
    {
     "name": "stderr",
     "output_type": "stream",
     "text": [
      "100%|█████████████████████████████████████████| 470/470 [01:33<00:00,  5.02it/s]\n"
     ]
    },
    {
     "name": "stdout",
     "output_type": "stream",
     "text": [
      "friends_s03e10b\n"
     ]
    },
    {
     "name": "stderr",
     "output_type": "stream",
     "text": [
      "100%|█████████████████████████████████████████| 451/451 [01:30<00:00,  4.98it/s]\n"
     ]
    },
    {
     "name": "stdout",
     "output_type": "stream",
     "text": [
      "friends_s03e06a\n"
     ]
    },
    {
     "name": "stderr",
     "output_type": "stream",
     "text": [
      "100%|█████████████████████████████████████████| 470/470 [01:34<00:00,  4.98it/s]\n"
     ]
    },
    {
     "name": "stdout",
     "output_type": "stream",
     "text": [
      "friends_s03e10a\n"
     ]
    },
    {
     "name": "stderr",
     "output_type": "stream",
     "text": [
      "100%|█████████████████████████████████████████| 451/451 [01:30<00:00,  4.96it/s]\n"
     ]
    },
    {
     "name": "stdout",
     "output_type": "stream",
     "text": [
      "friends_s03e11a\n"
     ]
    },
    {
     "name": "stderr",
     "output_type": "stream",
     "text": [
      "100%|█████████████████████████████████████████| 457/457 [01:31<00:00,  4.99it/s]\n"
     ]
    },
    {
     "name": "stdout",
     "output_type": "stream",
     "text": [
      "friends_s03e07a\n"
     ]
    },
    {
     "name": "stderr",
     "output_type": "stream",
     "text": [
      "100%|█████████████████████████████████████████| 467/467 [01:33<00:00,  5.00it/s]\n"
     ]
    },
    {
     "name": "stdout",
     "output_type": "stream",
     "text": [
      "friends_s03e11b\n"
     ]
    },
    {
     "name": "stderr",
     "output_type": "stream",
     "text": [
      "100%|█████████████████████████████████████████| 457/457 [01:31<00:00,  5.01it/s]\n"
     ]
    },
    {
     "name": "stdout",
     "output_type": "stream",
     "text": [
      "friends_s03e07b\n"
     ]
    },
    {
     "name": "stderr",
     "output_type": "stream",
     "text": [
      "100%|█████████████████████████████████████████| 467/467 [01:33<00:00,  5.02it/s]\n"
     ]
    },
    {
     "name": "stdout",
     "output_type": "stream",
     "text": [
      "friends_s03e16a\n"
     ]
    },
    {
     "name": "stderr",
     "output_type": "stream",
     "text": [
      "100%|█████████████████████████████████████████| 468/468 [01:33<00:00,  5.00it/s]\n"
     ]
    },
    {
     "name": "stdout",
     "output_type": "stream",
     "text": [
      "friends_s03e20b\n"
     ]
    },
    {
     "name": "stderr",
     "output_type": "stream",
     "text": [
      "100%|█████████████████████████████████████████| 464/464 [01:32<00:00,  5.00it/s]\n"
     ]
    },
    {
     "name": "stdout",
     "output_type": "stream",
     "text": [
      "friends_s03e16b\n"
     ]
    },
    {
     "name": "stderr",
     "output_type": "stream",
     "text": [
      "100%|█████████████████████████████████████████| 468/468 [01:33<00:00,  5.00it/s]\n"
     ]
    },
    {
     "name": "stdout",
     "output_type": "stream",
     "text": [
      "friends_s03e20a\n"
     ]
    },
    {
     "name": "stderr",
     "output_type": "stream",
     "text": [
      "100%|█████████████████████████████████████████| 464/464 [01:34<00:00,  4.92it/s]\n"
     ]
    },
    {
     "name": "stdout",
     "output_type": "stream",
     "text": [
      "friends_s03e21a\n"
     ]
    },
    {
     "name": "stderr",
     "output_type": "stream",
     "text": [
      "100%|█████████████████████████████████████████| 460/460 [01:33<00:00,  4.90it/s]\n"
     ]
    },
    {
     "name": "stdout",
     "output_type": "stream",
     "text": [
      "friends_s03e17b\n"
     ]
    },
    {
     "name": "stderr",
     "output_type": "stream",
     "text": [
      "100%|████████████████████████████████████████▉| 453/454 [01:36<00:00,  5.03it/s]/Users/schmaelz/miniconda3/lib/python3.10/site-packages/librosa/core/spectrum.py:266: UserWarning: n_fft=4800 is too large for input signal of length=240\n",
      "  warnings.warn(\n",
      "100%|█████████████████████████████████████████| 454/454 [01:36<00:00,  4.69it/s]\n"
     ]
    },
    {
     "name": "stdout",
     "output_type": "stream",
     "text": [
      "friends_s03e01b\n"
     ]
    },
    {
     "name": "stderr",
     "output_type": "stream",
     "text": [
      "100%|█████████████████████████████████████████| 491/491 [01:43<00:00,  4.73it/s]\n"
     ]
    },
    {
     "name": "stdout",
     "output_type": "stream",
     "text": [
      "friends_s03e21b\n"
     ]
    },
    {
     "name": "stderr",
     "output_type": "stream",
     "text": [
      "100%|█████████████████████████████████████████| 460/460 [01:34<00:00,  4.88it/s]\n"
     ]
    },
    {
     "name": "stdout",
     "output_type": "stream",
     "text": [
      "friends_s03e17a\n"
     ]
    },
    {
     "name": "stderr",
     "output_type": "stream",
     "text": [
      "100%|█████████████████████████████████████████| 454/454 [01:32<00:00,  4.90it/s]\n"
     ]
    },
    {
     "name": "stdout",
     "output_type": "stream",
     "text": [
      "friends_s03e01a\n"
     ]
    },
    {
     "name": "stderr",
     "output_type": "stream",
     "text": [
      "100%|█████████████████████████████████████████| 491/491 [01:40<00:00,  4.89it/s]\n"
     ]
    },
    {
     "name": "stdout",
     "output_type": "stream",
     "text": [
      "friends_s04e10a\n"
     ]
    },
    {
     "name": "stderr",
     "output_type": "stream",
     "text": [
      "100%|█████████████████████████████████████████| 449/449 [01:32<00:00,  4.88it/s]\n"
     ]
    },
    {
     "name": "stdout",
     "output_type": "stream",
     "text": [
      "friends_s04e06a\n"
     ]
    },
    {
     "name": "stderr",
     "output_type": "stream",
     "text": [
      "100%|█████████████████████████████████████████| 465/465 [01:35<00:00,  4.89it/s]\n"
     ]
    },
    {
     "name": "stdout",
     "output_type": "stream",
     "text": [
      "friends_s04e10b\n"
     ]
    },
    {
     "name": "stderr",
     "output_type": "stream",
     "text": [
      "100%|█████████████████████████████████████████| 449/449 [01:31<00:00,  4.91it/s]\n"
     ]
    },
    {
     "name": "stdout",
     "output_type": "stream",
     "text": [
      "friends_s04e06b\n"
     ]
    },
    {
     "name": "stderr",
     "output_type": "stream",
     "text": [
      "100%|█████████████████████████████████████████| 465/465 [01:35<00:00,  4.89it/s]\n"
     ]
    },
    {
     "name": "stdout",
     "output_type": "stream",
     "text": [
      "friends_s04e07b\n"
     ]
    },
    {
     "name": "stderr",
     "output_type": "stream",
     "text": [
      "100%|█████████████████████████████████████████| 497/497 [01:41<00:00,  4.89it/s]\n"
     ]
    },
    {
     "name": "stdout",
     "output_type": "stream",
     "text": [
      "friends_s04e11b\n"
     ]
    },
    {
     "name": "stderr",
     "output_type": "stream",
     "text": [
      "100%|█████████████████████████████████████████| 483/483 [01:38<00:00,  4.88it/s]\n"
     ]
    },
    {
     "name": "stdout",
     "output_type": "stream",
     "text": [
      "friends_s04e07a\n"
     ]
    },
    {
     "name": "stderr",
     "output_type": "stream",
     "text": [
      "100%|████████████████████████████████████████▉| 497/498 [01:41<00:00,  5.11it/s]/Users/schmaelz/miniconda3/lib/python3.10/site-packages/librosa/core/spectrum.py:266: UserWarning: n_fft=4800 is too large for input signal of length=4080\n",
      "  warnings.warn(\n",
      "100%|█████████████████████████████████████████| 498/498 [01:41<00:00,  4.90it/s]\n"
     ]
    },
    {
     "name": "stdout",
     "output_type": "stream",
     "text": [
      "friends_s04e11a\n"
     ]
    },
    {
     "name": "stderr",
     "output_type": "stream",
     "text": [
      "100%|█████████████████████████████████████████| 483/483 [01:38<00:00,  4.88it/s]\n"
     ]
    },
    {
     "name": "stdout",
     "output_type": "stream",
     "text": [
      "friends_s04e20a\n"
     ]
    },
    {
     "name": "stderr",
     "output_type": "stream",
     "text": [
      "100%|█████████████████████████████████████████| 448/448 [01:31<00:00,  4.92it/s]\n"
     ]
    },
    {
     "name": "stdout",
     "output_type": "stream",
     "text": [
      "friends_s04e16b\n"
     ]
    },
    {
     "name": "stderr",
     "output_type": "stream",
     "text": [
      "100%|█████████████████████████████████████████| 487/487 [01:39<00:00,  4.87it/s]\n"
     ]
    },
    {
     "name": "stdout",
     "output_type": "stream",
     "text": [
      "friends_s04e20b\n"
     ]
    },
    {
     "name": "stderr",
     "output_type": "stream",
     "text": [
      "100%|█████████████████████████████████████████| 448/448 [01:31<00:00,  4.89it/s]\n"
     ]
    },
    {
     "name": "stdout",
     "output_type": "stream",
     "text": [
      "friends_s04e16a\n"
     ]
    },
    {
     "name": "stderr",
     "output_type": "stream",
     "text": [
      "100%|█████████████████████████████████████████| 487/487 [01:39<00:00,  4.88it/s]\n"
     ]
    },
    {
     "name": "stdout",
     "output_type": "stream",
     "text": [
      "friends_s04e01a\n"
     ]
    },
    {
     "name": "stderr",
     "output_type": "stream",
     "text": [
      "100%|█████████████████████████████████████████| 468/468 [01:34<00:00,  4.93it/s]\n"
     ]
    },
    {
     "name": "stdout",
     "output_type": "stream",
     "text": [
      "friends_s04e17a\n"
     ]
    },
    {
     "name": "stderr",
     "output_type": "stream",
     "text": [
      "100%|█████████████████████████████████████████| 478/478 [01:37<00:00,  4.90it/s]\n"
     ]
    },
    {
     "name": "stdout",
     "output_type": "stream",
     "text": [
      "friends_s04e21b\n"
     ]
    },
    {
     "name": "stderr",
     "output_type": "stream",
     "text": [
      "100%|█████████████████████████████████████████| 448/448 [01:31<00:00,  4.90it/s]\n"
     ]
    },
    {
     "name": "stdout",
     "output_type": "stream",
     "text": [
      "friends_s04e01b\n"
     ]
    },
    {
     "name": "stderr",
     "output_type": "stream",
     "text": [
      "100%|█████████████████████████████████████████| 468/468 [01:35<00:00,  4.93it/s]\n"
     ]
    },
    {
     "name": "stdout",
     "output_type": "stream",
     "text": [
      "friends_s04e17b\n"
     ]
    },
    {
     "name": "stderr",
     "output_type": "stream",
     "text": [
      "100%|█████████████████████████████████████████| 478/478 [01:38<00:00,  4.87it/s]\n"
     ]
    },
    {
     "name": "stdout",
     "output_type": "stream",
     "text": [
      "friends_s04e21a\n"
     ]
    },
    {
     "name": "stderr",
     "output_type": "stream",
     "text": [
      "100%|█████████████████████████████████████████| 448/448 [01:31<00:00,  4.90it/s]\n"
     ]
    },
    {
     "name": "stdout",
     "output_type": "stream",
     "text": [
      "friends_s04e02b\n"
     ]
    },
    {
     "name": "stderr",
     "output_type": "stream",
     "text": [
      "100%|█████████████████████████████████████████| 478/478 [01:37<00:00,  4.90it/s]\n"
     ]
    },
    {
     "name": "stdout",
     "output_type": "stream",
     "text": [
      "friends_s04e23d\n"
     ]
    },
    {
     "name": "stderr",
     "output_type": "stream",
     "text": [
      "100%|█████████████████████████████████████████| 504/504 [01:43<00:00,  4.85it/s]\n"
     ]
    },
    {
     "name": "stdout",
     "output_type": "stream",
     "text": [
      "friends_s04e18a\n"
     ]
    },
    {
     "name": "stderr",
     "output_type": "stream",
     "text": [
      "100%|█████████████████████████████████████████| 450/450 [01:32<00:00,  4.88it/s]\n"
     ]
    },
    {
     "name": "stdout",
     "output_type": "stream",
     "text": [
      "friends_s04e14b\n"
     ]
    },
    {
     "name": "stderr",
     "output_type": "stream",
     "text": [
      "100%|█████████████████████████████████████████| 447/447 [01:31<00:00,  4.91it/s]\n"
     ]
    },
    {
     "name": "stdout",
     "output_type": "stream",
     "text": [
      "friends_s04e22a\n"
     ]
    },
    {
     "name": "stderr",
     "output_type": "stream",
     "text": [
      "100%|█████████████████████████████████████████| 459/459 [01:34<00:00,  4.87it/s]\n"
     ]
    },
    {
     "name": "stdout",
     "output_type": "stream",
     "text": [
      "friends_s04e02a\n"
     ]
    },
    {
     "name": "stderr",
     "output_type": "stream",
     "text": [
      "100%|█████████████████████████████████████████| 478/478 [01:37<00:00,  4.89it/s]\n"
     ]
    },
    {
     "name": "stdout",
     "output_type": "stream",
     "text": [
      "friends_s04e18b\n"
     ]
    },
    {
     "name": "stderr",
     "output_type": "stream",
     "text": [
      "100%|█████████████████████████████████████████| 450/450 [01:31<00:00,  4.89it/s]\n"
     ]
    },
    {
     "name": "stdout",
     "output_type": "stream",
     "text": [
      "friends_s04e14a\n"
     ]
    },
    {
     "name": "stderr",
     "output_type": "stream",
     "text": [
      "100%|█████████████████████████████████████████| 447/447 [01:32<00:00,  4.84it/s]\n"
     ]
    },
    {
     "name": "stdout",
     "output_type": "stream",
     "text": [
      "friends_s04e22b\n"
     ]
    },
    {
     "name": "stderr",
     "output_type": "stream",
     "text": [
      "100%|█████████████████████████████████████████| 459/459 [01:33<00:00,  4.90it/s]\n"
     ]
    },
    {
     "name": "stdout",
     "output_type": "stream",
     "text": [
      "friends_s04e23b\n"
     ]
    },
    {
     "name": "stderr",
     "output_type": "stream",
     "text": [
      "100%|█████████████████████████████████████████| 504/504 [01:44<00:00,  4.82it/s]\n"
     ]
    },
    {
     "name": "stdout",
     "output_type": "stream",
     "text": [
      "friends_s04e15a\n"
     ]
    },
    {
     "name": "stderr",
     "output_type": "stream",
     "text": [
      "100%|█████████████████████████████████████████| 444/444 [01:31<00:00,  4.87it/s]\n"
     ]
    },
    {
     "name": "stdout",
     "output_type": "stream",
     "text": [
      "friends_s04e19b\n"
     ]
    },
    {
     "name": "stderr",
     "output_type": "stream",
     "text": [
      "100%|█████████████████████████████████████████| 438/438 [01:29<00:00,  4.88it/s]\n"
     ]
    },
    {
     "name": "stdout",
     "output_type": "stream",
     "text": [
      "friends_s04e23c\n"
     ]
    },
    {
     "name": "stderr",
     "output_type": "stream",
     "text": [
      "100%|█████████████████████████████████████████| 504/504 [01:44<00:00,  4.81it/s]\n"
     ]
    },
    {
     "name": "stdout",
     "output_type": "stream",
     "text": [
      "friends_s04e03a\n"
     ]
    },
    {
     "name": "stderr",
     "output_type": "stream",
     "text": [
      "100%|█████████████████████████████████████████| 445/445 [01:31<00:00,  4.88it/s]\n"
     ]
    },
    {
     "name": "stdout",
     "output_type": "stream",
     "text": [
      "friends_s04e23a\n"
     ]
    },
    {
     "name": "stderr",
     "output_type": "stream",
     "text": [
      "100%|█████████████████████████████████████████| 504/504 [01:43<00:00,  4.86it/s]\n"
     ]
    },
    {
     "name": "stdout",
     "output_type": "stream",
     "text": [
      "friends_s04e15b\n"
     ]
    },
    {
     "name": "stderr",
     "output_type": "stream",
     "text": [
      "100%|█████████████████████████████████████████| 444/444 [01:31<00:00,  4.87it/s]\n"
     ]
    },
    {
     "name": "stdout",
     "output_type": "stream",
     "text": [
      "friends_s04e19a\n"
     ]
    },
    {
     "name": "stderr",
     "output_type": "stream",
     "text": [
      "100%|█████████████████████████████████████████| 438/438 [01:29<00:00,  4.88it/s]\n"
     ]
    },
    {
     "name": "stdout",
     "output_type": "stream",
     "text": [
      "friends_s04e03b\n"
     ]
    },
    {
     "name": "stderr",
     "output_type": "stream",
     "text": [
      "100%|█████████████████████████████████████████| 445/445 [01:30<00:00,  4.90it/s]\n"
     ]
    },
    {
     "name": "stdout",
     "output_type": "stream",
     "text": [
      "friends_s04e08b\n"
     ]
    },
    {
     "name": "stderr",
     "output_type": "stream",
     "text": [
      "100%|█████████████████████████████████████████| 503/503 [01:43<00:00,  4.84it/s]\n"
     ]
    },
    {
     "name": "stdout",
     "output_type": "stream",
     "text": [
      "friends_s04e04a\n"
     ]
    },
    {
     "name": "stderr",
     "output_type": "stream",
     "text": [
      "100%|█████████████████████████████████████████| 453/453 [01:32<00:00,  4.89it/s]\n"
     ]
    },
    {
     "name": "stdout",
     "output_type": "stream",
     "text": [
      "friends_s04e12a\n"
     ]
    },
    {
     "name": "stderr",
     "output_type": "stream",
     "text": [
      "100%|█████████████████████████████████████████| 466/466 [01:35<00:00,  4.89it/s]\n"
     ]
    },
    {
     "name": "stdout",
     "output_type": "stream",
     "text": [
      "friends_s04e08a\n"
     ]
    },
    {
     "name": "stderr",
     "output_type": "stream",
     "text": [
      "100%|█████████████████████████████████████████| 503/503 [01:44<00:00,  4.82it/s]\n"
     ]
    },
    {
     "name": "stdout",
     "output_type": "stream",
     "text": [
      "friends_s04e04b\n"
     ]
    },
    {
     "name": "stderr",
     "output_type": "stream",
     "text": [
      "100%|█████████████████████████████████████████| 453/453 [01:33<00:00,  4.86it/s]\n"
     ]
    },
    {
     "name": "stdout",
     "output_type": "stream",
     "text": [
      "friends_s04e12b\n"
     ]
    },
    {
     "name": "stderr",
     "output_type": "stream",
     "text": [
      "100%|█████████████████████████████████████████| 466/466 [01:36<00:00,  4.84it/s]\n"
     ]
    },
    {
     "name": "stdout",
     "output_type": "stream",
     "text": [
      "friends_s04e13b\n"
     ]
    },
    {
     "name": "stderr",
     "output_type": "stream",
     "text": [
      "100%|████████████████████████████████████████▉| 448/449 [01:32<00:00,  4.90it/s]/Users/schmaelz/miniconda3/lib/python3.10/site-packages/librosa/core/spectrum.py:266: UserWarning: n_fft=4800 is too large for input signal of length=4176\n",
      "  warnings.warn(\n",
      "100%|█████████████████████████████████████████| 449/449 [01:32<00:00,  4.85it/s]\n"
     ]
    },
    {
     "name": "stdout",
     "output_type": "stream",
     "text": [
      "friends_s04e05b\n"
     ]
    },
    {
     "name": "stderr",
     "output_type": "stream",
     "text": [
      "100%|█████████████████████████████████████████| 471/471 [01:37<00:00,  4.81it/s]\n"
     ]
    },
    {
     "name": "stdout",
     "output_type": "stream",
     "text": [
      "friends_s04e09a\n"
     ]
    },
    {
     "name": "stderr",
     "output_type": "stream",
     "text": [
      "100%|█████████████████████████████████████████| 441/441 [01:30<00:00,  4.86it/s]\n"
     ]
    },
    {
     "name": "stdout",
     "output_type": "stream",
     "text": [
      "friends_s04e13a\n"
     ]
    },
    {
     "name": "stderr",
     "output_type": "stream",
     "text": [
      "100%|█████████████████████████████████████████| 449/449 [01:32<00:00,  4.84it/s]\n"
     ]
    },
    {
     "name": "stdout",
     "output_type": "stream",
     "text": [
      "friends_s04e05a\n"
     ]
    },
    {
     "name": "stderr",
     "output_type": "stream",
     "text": [
      "100%|█████████████████████████████████████████| 471/471 [01:37<00:00,  4.83it/s]\n"
     ]
    },
    {
     "name": "stdout",
     "output_type": "stream",
     "text": [
      "friends_s04e09b\n"
     ]
    },
    {
     "name": "stderr",
     "output_type": "stream",
     "text": [
      "100%|█████████████████████████████████████████| 441/441 [01:30<00:00,  4.90it/s]\n"
     ]
    },
    {
     "name": "stdout",
     "output_type": "stream",
     "text": [
      "friends_s05e07a\n"
     ]
    },
    {
     "name": "stderr",
     "output_type": "stream",
     "text": [
      "100%|█████████████████████████████████████████| 459/459 [01:33<00:00,  4.89it/s]\n"
     ]
    },
    {
     "name": "stdout",
     "output_type": "stream",
     "text": [
      "friends_s05e11a\n"
     ]
    },
    {
     "name": "stderr",
     "output_type": "stream",
     "text": [
      "100%|█████████████████████████████████████████| 477/477 [01:38<00:00,  4.84it/s]\n"
     ]
    },
    {
     "name": "stdout",
     "output_type": "stream",
     "text": [
      "friends_s05e07b\n"
     ]
    },
    {
     "name": "stderr",
     "output_type": "stream",
     "text": [
      "100%|█████████████████████████████████████████| 493/493 [01:42<00:00,  4.83it/s]\n"
     ]
    },
    {
     "name": "stdout",
     "output_type": "stream",
     "text": [
      "friends_s05e11b\n"
     ]
    },
    {
     "name": "stderr",
     "output_type": "stream",
     "text": [
      "100%|█████████████████████████████████████████| 511/511 [01:46<00:00,  4.82it/s]\n"
     ]
    },
    {
     "name": "stdout",
     "output_type": "stream",
     "text": [
      "friends_s05e10b\n"
     ]
    },
    {
     "name": "stderr",
     "output_type": "stream",
     "text": [
      "100%|█████████████████████████████████████████| 484/484 [01:39<00:00,  4.87it/s]\n"
     ]
    },
    {
     "name": "stdout",
     "output_type": "stream",
     "text": [
      "friends_s05e06b\n"
     ]
    },
    {
     "name": "stderr",
     "output_type": "stream",
     "text": [
      "100%|█████████████████████████████████████████| 493/493 [01:41<00:00,  4.86it/s]\n"
     ]
    },
    {
     "name": "stdout",
     "output_type": "stream",
     "text": [
      "friends_s05e10a\n"
     ]
    },
    {
     "name": "stderr",
     "output_type": "stream",
     "text": [
      "100%|█████████████████████████████████████████| 450/450 [01:32<00:00,  4.84it/s]\n"
     ]
    },
    {
     "name": "stdout",
     "output_type": "stream",
     "text": [
      "friends_s05e06a\n"
     ]
    },
    {
     "name": "stderr",
     "output_type": "stream",
     "text": [
      "100%|█████████████████████████████████████████| 459/459 [01:34<00:00,  4.88it/s]\n"
     ]
    },
    {
     "name": "stdout",
     "output_type": "stream",
     "text": [
      "friends_s05e01b\n"
     ]
    },
    {
     "name": "stderr",
     "output_type": "stream",
     "text": [
      "100%|█████████████████████████████████████████| 475/475 [01:37<00:00,  4.85it/s]\n"
     ]
    },
    {
     "name": "stdout",
     "output_type": "stream",
     "text": [
      "friends_s05e17b\n"
     ]
    },
    {
     "name": "stderr",
     "output_type": "stream",
     "text": [
      "100%|█████████████████████████████████████████| 487/487 [01:40<00:00,  4.85it/s]\n"
     ]
    },
    {
     "name": "stdout",
     "output_type": "stream",
     "text": [
      "friends_s05e21a\n"
     ]
    },
    {
     "name": "stderr",
     "output_type": "stream",
     "text": [
      "100%|█████████████████████████████████████████| 444/444 [01:31<00:00,  4.83it/s]\n"
     ]
    },
    {
     "name": "stdout",
     "output_type": "stream",
     "text": [
      "friends_s05e01a\n"
     ]
    },
    {
     "name": "stderr",
     "output_type": "stream",
     "text": [
      "100%|█████████████████████████████████████████| 439/439 [01:30<00:00,  4.85it/s]\n"
     ]
    },
    {
     "name": "stdout",
     "output_type": "stream",
     "text": [
      "friends_s05e17a\n"
     ]
    },
    {
     "name": "stderr",
     "output_type": "stream",
     "text": [
      "100%|████████████████████████████████████████▉| 452/453 [01:33<00:00,  5.26it/s]/Users/schmaelz/miniconda3/lib/python3.10/site-packages/librosa/core/spectrum.py:266: UserWarning: n_fft=4800 is too large for input signal of length=2640\n",
      "  warnings.warn(\n",
      "100%|█████████████████████████████████████████| 453/453 [01:34<00:00,  4.82it/s]\n"
     ]
    },
    {
     "name": "stdout",
     "output_type": "stream",
     "text": [
      "friends_s05e21b\n"
     ]
    },
    {
     "name": "stderr",
     "output_type": "stream",
     "text": [
      "100%|█████████████████████████████████████████| 479/479 [01:42<00:00,  4.69it/s]\n"
     ]
    },
    {
     "name": "stdout",
     "output_type": "stream",
     "text": [
      "friends_s05e20b\n"
     ]
    },
    {
     "name": "stderr",
     "output_type": "stream",
     "text": [
      "100%|█████████████████████████████████████████| 490/490 [01:41<00:00,  4.82it/s]\n"
     ]
    },
    {
     "name": "stdout",
     "output_type": "stream",
     "text": [
      "friends_s05e16a\n"
     ]
    },
    {
     "name": "stderr",
     "output_type": "stream",
     "text": [
      "100%|█████████████████████████████████████████| 485/485 [01:40<00:00,  4.84it/s]\n"
     ]
    },
    {
     "name": "stdout",
     "output_type": "stream",
     "text": [
      "friends_s05e20a\n"
     ]
    },
    {
     "name": "stderr",
     "output_type": "stream",
     "text": [
      "100%|█████████████████████████████████████████| 456/456 [01:34<00:00,  4.81it/s]\n"
     ]
    },
    {
     "name": "stdout",
     "output_type": "stream",
     "text": [
      "friends_s05e16b\n"
     ]
    },
    {
     "name": "stderr",
     "output_type": "stream",
     "text": [
      "100%|█████████████████████████████████████████| 519/519 [01:48<00:00,  4.76it/s]\n"
     ]
    },
    {
     "name": "stdout",
     "output_type": "stream",
     "text": [
      "friends_s05e23a\n"
     ]
    },
    {
     "name": "stderr",
     "output_type": "stream",
     "text": [
      "100%|█████████████████████████████████████████| 454/454 [01:34<00:00,  4.81it/s]\n"
     ]
    },
    {
     "name": "stdout",
     "output_type": "stream",
     "text": [
      "friends_s05e15b\n"
     ]
    },
    {
     "name": "stderr",
     "output_type": "stream",
     "text": [
      "100%|█████████████████████████████████████████| 477/477 [01:38<00:00,  4.85it/s]\n"
     ]
    },
    {
     "name": "stdout",
     "output_type": "stream",
     "text": [
      "friends_s05e19a\n"
     ]
    },
    {
     "name": "stderr",
     "output_type": "stream",
     "text": [
      "100%|█████████████████████████████████████████| 447/447 [01:31<00:00,  4.86it/s]\n"
     ]
    },
    {
     "name": "stdout",
     "output_type": "stream",
     "text": [
      "friends_s05e03b\n"
     ]
    },
    {
     "name": "stderr",
     "output_type": "stream",
     "text": [
      "100%|█████████████████████████████████████████| 474/474 [01:38<00:00,  4.81it/s]\n"
     ]
    },
    {
     "name": "stdout",
     "output_type": "stream",
     "text": [
      "friends_s05e23b\n"
     ]
    },
    {
     "name": "stderr",
     "output_type": "stream",
     "text": [
      "100%|█████████████████████████████████████████| 458/458 [01:34<00:00,  4.85it/s]\n"
     ]
    },
    {
     "name": "stdout",
     "output_type": "stream",
     "text": [
      "friends_s05e15a\n"
     ]
    },
    {
     "name": "stderr",
     "output_type": "stream",
     "text": [
      "100%|█████████████████████████████████████████| 443/443 [01:31<00:00,  4.85it/s]\n"
     ]
    },
    {
     "name": "stdout",
     "output_type": "stream",
     "text": [
      "friends_s05e19b\n"
     ]
    },
    {
     "name": "stderr",
     "output_type": "stream",
     "text": [
      "100%|█████████████████████████████████████████| 481/481 [01:39<00:00,  4.81it/s]\n"
     ]
    },
    {
     "name": "stdout",
     "output_type": "stream",
     "text": [
      "friends_s05e03a\n"
     ]
    },
    {
     "name": "stderr",
     "output_type": "stream",
     "text": [
      "100%|█████████████████████████████████████████| 444/444 [01:32<00:00,  4.79it/s]\n"
     ]
    },
    {
     "name": "stdout",
     "output_type": "stream",
     "text": [
      "friends_s05e23c\n"
     ]
    },
    {
     "name": "stderr",
     "output_type": "stream",
     "text": [
      "100%|█████████████████████████████████████████| 458/458 [01:34<00:00,  4.84it/s]\n"
     ]
    },
    {
     "name": "stdout",
     "output_type": "stream",
     "text": [
      "friends_s05e02a\n"
     ]
    },
    {
     "name": "stderr",
     "output_type": "stream",
     "text": [
      "100%|█████████████████████████████████████████| 496/496 [01:42<00:00,  4.82it/s]\n"
     ]
    },
    {
     "name": "stdout",
     "output_type": "stream",
     "text": [
      "friends_s05e18b\n"
     ]
    },
    {
     "name": "stderr",
     "output_type": "stream",
     "text": [
      "100%|█████████████████████████████████████████| 535/535 [01:50<00:00,  4.83it/s]\n"
     ]
    },
    {
     "name": "stdout",
     "output_type": "stream",
     "text": [
      "friends_s05e14a\n"
     ]
    },
    {
     "name": "stderr",
     "output_type": "stream",
     "text": [
      "100%|█████████████████████████████████████████| 486/486 [01:41<00:00,  4.79it/s]\n"
     ]
    },
    {
     "name": "stdout",
     "output_type": "stream",
     "text": [
      "friends_s05e22b\n"
     ]
    },
    {
     "name": "stderr",
     "output_type": "stream",
     "text": [
      "100%|█████████████████████████████████████████| 484/484 [01:40<00:00,  4.83it/s]\n"
     ]
    },
    {
     "name": "stdout",
     "output_type": "stream",
     "text": [
      "friends_s05e23d\n"
     ]
    },
    {
     "name": "stderr",
     "output_type": "stream",
     "text": [
      "100%|████████████████████████████████████████▉| 488/489 [01:41<00:00,  5.15it/s]/Users/schmaelz/miniconda3/lib/python3.10/site-packages/librosa/core/spectrum.py:266: UserWarning: n_fft=4800 is too large for input signal of length=336\n",
      "  warnings.warn(\n",
      "100%|█████████████████████████████████████████| 489/489 [01:41<00:00,  4.83it/s]\n"
     ]
    },
    {
     "name": "stdout",
     "output_type": "stream",
     "text": [
      "friends_s05e02b\n"
     ]
    },
    {
     "name": "stderr",
     "output_type": "stream",
     "text": [
      "100%|█████████████████████████████████████████| 531/531 [01:49<00:00,  4.85it/s]\n"
     ]
    },
    {
     "name": "stdout",
     "output_type": "stream",
     "text": [
      "friends_s05e18a\n"
     ]
    },
    {
     "name": "stderr",
     "output_type": "stream",
     "text": [
      "100%|█████████████████████████████████████████| 501/501 [01:43<00:00,  4.82it/s]\n"
     ]
    },
    {
     "name": "stdout",
     "output_type": "stream",
     "text": [
      "friends_s05e14b\n"
     ]
    },
    {
     "name": "stderr",
     "output_type": "stream",
     "text": [
      "100%|█████████████████████████████████████████| 520/520 [01:49<00:00,  4.77it/s]\n"
     ]
    },
    {
     "name": "stdout",
     "output_type": "stream",
     "text": [
      "friends_s05e22a\n"
     ]
    },
    {
     "name": "stderr",
     "output_type": "stream",
     "text": [
      "100%|█████████████████████████████████████████| 450/450 [01:33<00:00,  4.83it/s]\n"
     ]
    },
    {
     "name": "stdout",
     "output_type": "stream",
     "text": [
      "friends_s05e13a\n"
     ]
    },
    {
     "name": "stderr",
     "output_type": "stream",
     "text": [
      "100%|█████████████████████████████████████████| 460/460 [01:35<00:00,  4.81it/s]\n"
     ]
    },
    {
     "name": "stdout",
     "output_type": "stream",
     "text": [
      "friends_s05e05a\n"
     ]
    },
    {
     "name": "stderr",
     "output_type": "stream",
     "text": [
      "100%|█████████████████████████████████████████| 487/487 [01:40<00:00,  4.84it/s]\n"
     ]
    },
    {
     "name": "stdout",
     "output_type": "stream",
     "text": [
      "friends_s05e09b\n"
     ]
    },
    {
     "name": "stderr",
     "output_type": "stream",
     "text": [
      "100%|█████████████████████████████████████████| 490/490 [01:41<00:00,  4.84it/s]\n"
     ]
    },
    {
     "name": "stdout",
     "output_type": "stream",
     "text": [
      "friends_s05e13b\n"
     ]
    },
    {
     "name": "stderr",
     "output_type": "stream",
     "text": [
      "100%|█████████████████████████████████████████| 494/494 [01:42<00:00,  4.82it/s]\n"
     ]
    },
    {
     "name": "stdout",
     "output_type": "stream",
     "text": [
      "friends_s05e05b\n"
     ]
    },
    {
     "name": "stderr",
     "output_type": "stream",
     "text": [
      "100%|█████████████████████████████████████████| 521/521 [01:48<00:00,  4.81it/s]\n"
     ]
    },
    {
     "name": "stdout",
     "output_type": "stream",
     "text": [
      "friends_s05e09a\n"
     ]
    },
    {
     "name": "stderr",
     "output_type": "stream",
     "text": [
      "100%|█████████████████████████████████████████| 456/456 [01:34<00:00,  4.83it/s]\n"
     ]
    },
    {
     "name": "stdout",
     "output_type": "stream",
     "text": [
      "friends_s05e08a\n"
     ]
    },
    {
     "name": "stderr",
     "output_type": "stream",
     "text": [
      "100%|█████████████████████████████████████████| 446/446 [01:33<00:00,  4.77it/s]\n"
     ]
    },
    {
     "name": "stdout",
     "output_type": "stream",
     "text": [
      "friends_s05e04b\n"
     ]
    },
    {
     "name": "stderr",
     "output_type": "stream",
     "text": [
      "100%|█████████████████████████████████████████| 524/524 [01:49<00:00,  4.80it/s]\n"
     ]
    },
    {
     "name": "stdout",
     "output_type": "stream",
     "text": [
      "friends_s05e12b\n"
     ]
    },
    {
     "name": "stderr",
     "output_type": "stream",
     "text": [
      "100%|█████████████████████████████████████████| 480/480 [01:39<00:00,  4.83it/s]\n"
     ]
    },
    {
     "name": "stdout",
     "output_type": "stream",
     "text": [
      "friends_s05e08b\n"
     ]
    },
    {
     "name": "stderr",
     "output_type": "stream",
     "text": [
      "100%|████████████████████████████████████████▉| 480/481 [01:39<00:00,  5.02it/s]/Users/schmaelz/miniconda3/lib/python3.10/site-packages/librosa/core/spectrum.py:266: UserWarning: n_fft=4800 is too large for input signal of length=2256\n",
      "  warnings.warn(\n",
      "100%|█████████████████████████████████████████| 481/481 [01:40<00:00,  4.80it/s]\n"
     ]
    },
    {
     "name": "stdout",
     "output_type": "stream",
     "text": [
      "friends_s05e04a\n"
     ]
    },
    {
     "name": "stderr",
     "output_type": "stream",
     "text": [
      "100%|█████████████████████████████████████████| 489/489 [01:41<00:00,  4.81it/s]\n"
     ]
    },
    {
     "name": "stdout",
     "output_type": "stream",
     "text": [
      "friends_s05e12a\n"
     ]
    },
    {
     "name": "stderr",
     "output_type": "stream",
     "text": [
      "100%|█████████████████████████████████████████| 446/446 [01:32<00:00,  4.82it/s]\n"
     ]
    },
    {
     "name": "stdout",
     "output_type": "stream",
     "text": [
      "friends_s06e17a\n"
     ]
    },
    {
     "name": "stderr",
     "output_type": "stream",
     "text": [
      "100%|█████████████████████████████████████████| 428/428 [01:28<00:00,  4.84it/s]\n"
     ]
    },
    {
     "name": "stdout",
     "output_type": "stream",
     "text": [
      "friends_s06e01a\n"
     ]
    },
    {
     "name": "stderr",
     "output_type": "stream",
     "text": [
      "100%|█████████████████████████████████████████| 466/466 [01:37<00:00,  4.77it/s]\n"
     ]
    },
    {
     "name": "stdout",
     "output_type": "stream",
     "text": [
      "friends_s06e21b\n"
     ]
    },
    {
     "name": "stderr",
     "output_type": "stream",
     "text": [
      "100%|█████████████████████████████████████████| 494/494 [01:42<00:00,  4.82it/s]\n"
     ]
    },
    {
     "name": "stdout",
     "output_type": "stream",
     "text": [
      "friends_s06e17b\n"
     ]
    },
    {
     "name": "stderr",
     "output_type": "stream",
     "text": [
      "100%|█████████████████████████████████████████| 462/462 [01:35<00:00,  4.81it/s]\n"
     ]
    },
    {
     "name": "stdout",
     "output_type": "stream",
     "text": [
      "friends_s06e01b\n"
     ]
    },
    {
     "name": "stderr",
     "output_type": "stream",
     "text": [
      "100%|█████████████████████████████████████████| 500/500 [01:51<00:00,  4.50it/s]\n"
     ]
    },
    {
     "name": "stdout",
     "output_type": "stream",
     "text": [
      "friends_s06e21a\n"
     ]
    },
    {
     "name": "stderr",
     "output_type": "stream",
     "text": [
      "100%|█████████████████████████████████████████| 460/460 [01:41<00:00,  4.55it/s]\n"
     ]
    },
    {
     "name": "stdout",
     "output_type": "stream",
     "text": [
      "friends_s06e20a\n"
     ]
    },
    {
     "name": "stderr",
     "output_type": "stream",
     "text": [
      "100%|█████████████████████████████████████████| 431/431 [01:34<00:00,  4.55it/s]\n"
     ]
    },
    {
     "name": "stdout",
     "output_type": "stream",
     "text": [
      "friends_s06e20b\n"
     ]
    },
    {
     "name": "stderr",
     "output_type": "stream",
     "text": [
      "100%|█████████████████████████████████████████| 465/465 [01:42<00:00,  4.55it/s]\n"
     ]
    },
    {
     "name": "stdout",
     "output_type": "stream",
     "text": [
      "friends_s06e11b\n"
     ]
    },
    {
     "name": "stderr",
     "output_type": "stream",
     "text": [
      "100%|█████████████████████████████████████████| 485/485 [01:46<00:00,  4.55it/s]\n"
     ]
    },
    {
     "name": "stdout",
     "output_type": "stream",
     "text": [
      "friends_s06e07b\n"
     ]
    },
    {
     "name": "stderr",
     "output_type": "stream",
     "text": [
      "100%|█████████████████████████████████████████| 479/479 [01:45<00:00,  4.56it/s]\n"
     ]
    },
    {
     "name": "stdout",
     "output_type": "stream",
     "text": [
      "friends_s06e11a\n"
     ]
    },
    {
     "name": "stderr",
     "output_type": "stream",
     "text": [
      "100%|█████████████████████████████████████████| 451/451 [01:39<00:00,  4.54it/s]\n"
     ]
    },
    {
     "name": "stdout",
     "output_type": "stream",
     "text": [
      "friends_s06e07a\n"
     ]
    },
    {
     "name": "stderr",
     "output_type": "stream",
     "text": [
      "100%|█████████████████████████████████████████| 445/445 [01:38<00:00,  4.54it/s]\n"
     ]
    },
    {
     "name": "stdout",
     "output_type": "stream",
     "text": [
      "friends_s06e06a\n"
     ]
    },
    {
     "name": "stderr",
     "output_type": "stream",
     "text": [
      "100%|█████████████████████████████████████████| 444/444 [01:37<00:00,  4.55it/s]\n"
     ]
    },
    {
     "name": "stdout",
     "output_type": "stream",
     "text": [
      "friends_s06e10a\n"
     ]
    },
    {
     "name": "stderr",
     "output_type": "stream",
     "text": [
      "100%|█████████████████████████████████████████| 466/466 [01:37<00:00,  4.79it/s]\n"
     ]
    },
    {
     "name": "stdout",
     "output_type": "stream",
     "text": [
      "friends_s06e06b\n"
     ]
    },
    {
     "name": "stderr",
     "output_type": "stream",
     "text": [
      "100%|█████████████████████████████████████████| 478/478 [01:39<00:00,  4.81it/s]\n"
     ]
    },
    {
     "name": "stdout",
     "output_type": "stream",
     "text": [
      "friends_s06e10b\n"
     ]
    },
    {
     "name": "stderr",
     "output_type": "stream",
     "text": [
      "100%|█████████████████████████████████████████| 500/500 [01:44<00:00,  4.79it/s]\n"
     ]
    },
    {
     "name": "stdout",
     "output_type": "stream",
     "text": [
      "friends_s06e24d\n"
     ]
    },
    {
     "name": "stderr",
     "output_type": "stream",
     "text": [
      "100%|█████████████████████████████████████████| 491/491 [01:42<00:00,  4.81it/s]\n"
     ]
    },
    {
     "name": "stdout",
     "output_type": "stream",
     "text": [
      "friends_s06e09a\n"
     ]
    },
    {
     "name": "stderr",
     "output_type": "stream",
     "text": [
      "100%|█████████████████████████████████████████| 504/504 [01:45<00:00,  4.77it/s]\n"
     ]
    },
    {
     "name": "stdout",
     "output_type": "stream",
     "text": [
      "friends_s06e05b\n"
     ]
    },
    {
     "name": "stderr",
     "output_type": "stream",
     "text": [
      "100%|█████████████████████████████████████████| 486/486 [01:40<00:00,  4.82it/s]\n"
     ]
    },
    {
     "name": "stdout",
     "output_type": "stream",
     "text": [
      "friends_s06e13b\n"
     ]
    },
    {
     "name": "stderr",
     "output_type": "stream",
     "text": [
      "100%|█████████████████████████████████████████| 504/504 [01:44<00:00,  4.81it/s]\n"
     ]
    },
    {
     "name": "stdout",
     "output_type": "stream",
     "text": [
      "friends_s06e09b\n"
     ]
    },
    {
     "name": "stderr",
     "output_type": "stream",
     "text": [
      "100%|█████████████████████████████████████████| 538/538 [01:52<00:00,  4.78it/s]\n"
     ]
    },
    {
     "name": "stdout",
     "output_type": "stream",
     "text": [
      "friends_s06e05a\n"
     ]
    },
    {
     "name": "stderr",
     "output_type": "stream",
     "text": [
      "100%|█████████████████████████████████████████| 452/452 [01:33<00:00,  4.81it/s]\n"
     ]
    },
    {
     "name": "stdout",
     "output_type": "stream",
     "text": [
      "friends_s06e13a\n"
     ]
    },
    {
     "name": "stderr",
     "output_type": "stream",
     "text": [
      "100%|█████████████████████████████████████████| 470/470 [01:38<00:00,  4.78it/s]\n"
     ]
    },
    {
     "name": "stdout",
     "output_type": "stream",
     "text": [
      "friends_s06e12a\n"
     ]
    },
    {
     "name": "stderr",
     "output_type": "stream",
     "text": [
      "100%|█████████████████████████████████████████| 436/436 [01:32<00:00,  4.72it/s]\n"
     ]
    },
    {
     "name": "stdout",
     "output_type": "stream",
     "text": [
      "friends_s06e04a\n"
     ]
    },
    {
     "name": "stderr",
     "output_type": "stream",
     "text": [
      "100%|█████████████████████████████████████████| 440/440 [01:31<00:00,  4.79it/s]\n"
     ]
    },
    {
     "name": "stdout",
     "output_type": "stream",
     "text": [
      "friends_s06e08b\n"
     ]
    },
    {
     "name": "stderr",
     "output_type": "stream",
     "text": [
      "100%|█████████████████████████████████████████| 473/473 [01:38<00:00,  4.82it/s]\n"
     ]
    },
    {
     "name": "stdout",
     "output_type": "stream",
     "text": [
      "friends_s06e24c\n"
     ]
    },
    {
     "name": "stderr",
     "output_type": "stream",
     "text": [
      "100%|█████████████████████████████████████████| 461/461 [01:36<00:00,  4.80it/s]\n"
     ]
    },
    {
     "name": "stdout",
     "output_type": "stream",
     "text": [
      "friends_s06e24b\n"
     ]
    },
    {
     "name": "stderr",
     "output_type": "stream",
     "text": [
      "100%|█████████████████████████████████████████| 461/461 [01:35<00:00,  4.83it/s]\n"
     ]
    },
    {
     "name": "stdout",
     "output_type": "stream",
     "text": [
      "friends_s06e12b\n"
     ]
    },
    {
     "name": "stderr",
     "output_type": "stream",
     "text": [
      "100%|█████████████████████████████████████████| 470/470 [01:37<00:00,  4.82it/s]\n"
     ]
    },
    {
     "name": "stdout",
     "output_type": "stream",
     "text": [
      "friends_s06e04b\n"
     ]
    },
    {
     "name": "stderr",
     "output_type": "stream",
     "text": [
      "100%|█████████████████████████████████████████| 474/474 [01:38<00:00,  4.80it/s]\n"
     ]
    },
    {
     "name": "stdout",
     "output_type": "stream",
     "text": [
      "friends_s06e08a\n"
     ]
    },
    {
     "name": "stderr",
     "output_type": "stream",
     "text": [
      "100%|█████████████████████████████████████████| 439/439 [01:31<00:00,  4.81it/s]\n"
     ]
    },
    {
     "name": "stdout",
     "output_type": "stream",
     "text": [
      "friends_s06e24a\n"
     ]
    },
    {
     "name": "stderr",
     "output_type": "stream",
     "text": [
      "100%|█████████████████████████████████████████| 457/457 [01:35<00:00,  4.80it/s]\n"
     ]
    },
    {
     "name": "stdout",
     "output_type": "stream",
     "text": [
      "friends_s06e23b\n"
     ]
    },
    {
     "name": "stderr",
     "output_type": "stream",
     "text": [
      "100%|█████████████████████████████████████████| 521/521 [01:48<00:00,  4.81it/s]\n"
     ]
    },
    {
     "name": "stdout",
     "output_type": "stream",
     "text": [
      "friends_s06e03a\n"
     ]
    },
    {
     "name": "stderr",
     "output_type": "stream",
     "text": [
      "100%|█████████████████████████████████████████| 439/439 [01:31<00:00,  4.81it/s]\n"
     ]
    },
    {
     "name": "stdout",
     "output_type": "stream",
     "text": [
      "friends_s06e19b\n"
     ]
    },
    {
     "name": "stderr",
     "output_type": "stream",
     "text": [
      "100%|█████████████████████████████████████████| 468/468 [01:37<00:00,  4.81it/s]\n"
     ]
    },
    {
     "name": "stdout",
     "output_type": "stream",
     "text": [
      "friends_s06e15a\n"
     ]
    },
    {
     "name": "stderr",
     "output_type": "stream",
     "text": [
      "100%|█████████████████████████████████████████| 456/456 [01:34<00:00,  4.81it/s]\n"
     ]
    },
    {
     "name": "stdout",
     "output_type": "stream",
     "text": [
      "friends_s06e15c\n"
     ]
    },
    {
     "name": "stderr",
     "output_type": "stream",
     "text": [
      "100%|█████████████████████████████████████████| 460/460 [01:35<00:00,  4.82it/s]\n"
     ]
    },
    {
     "name": "stdout",
     "output_type": "stream",
     "text": [
      "friends_s06e23a\n"
     ]
    },
    {
     "name": "stderr",
     "output_type": "stream",
     "text": [
      "100%|████████████████████████████████████████▉| 486/487 [01:42<00:00,  5.04it/s]/Users/schmaelz/miniconda3/lib/python3.10/site-packages/librosa/core/spectrum.py:266: UserWarning: n_fft=4800 is too large for input signal of length=1680\n",
      "  warnings.warn(\n",
      "100%|█████████████████████████████████████████| 487/487 [01:42<00:00,  4.75it/s]\n"
     ]
    },
    {
     "name": "stdout",
     "output_type": "stream",
     "text": [
      "friends_s06e03b\n"
     ]
    },
    {
     "name": "stderr",
     "output_type": "stream",
     "text": [
      "100%|█████████████████████████████████████████| 473/473 [01:38<00:00,  4.80it/s]\n"
     ]
    },
    {
     "name": "stdout",
     "output_type": "stream",
     "text": [
      "friends_s06e19a\n"
     ]
    },
    {
     "name": "stderr",
     "output_type": "stream",
     "text": [
      "100%|█████████████████████████████████████████| 434/434 [01:30<00:00,  4.81it/s]\n"
     ]
    },
    {
     "name": "stdout",
     "output_type": "stream",
     "text": [
      "friends_s06e15b\n"
     ]
    },
    {
     "name": "stderr",
     "output_type": "stream",
     "text": [
      "100%|█████████████████████████████████████████| 460/460 [01:36<00:00,  4.75it/s]\n"
     ]
    },
    {
     "name": "stdout",
     "output_type": "stream",
     "text": [
      "friends_s06e14b\n"
     ]
    },
    {
     "name": "stderr",
     "output_type": "stream",
     "text": [
      "100%|█████████████████████████████████████████| 495/495 [01:43<00:00,  4.80it/s]\n"
     ]
    },
    {
     "name": "stdout",
     "output_type": "stream",
     "text": [
      "friends_s06e18a\n"
     ]
    },
    {
     "name": "stderr",
     "output_type": "stream",
     "text": [
      "100%|█████████████████████████████████████████| 436/436 [01:29<00:00,  4.85it/s]\n"
     ]
    },
    {
     "name": "stdout",
     "output_type": "stream",
     "text": [
      "friends_s06e02b\n"
     ]
    },
    {
     "name": "stderr",
     "output_type": "stream",
     "text": [
      "100%|█████████████████████████████████████████| 487/487 [01:42<00:00,  4.75it/s]\n"
     ]
    },
    {
     "name": "stdout",
     "output_type": "stream",
     "text": [
      "friends_s06e22a\n"
     ]
    },
    {
     "name": "stderr",
     "output_type": "stream",
     "text": [
      "100%|█████████████████████████████████████████| 452/452 [01:33<00:00,  4.82it/s]\n"
     ]
    },
    {
     "name": "stdout",
     "output_type": "stream",
     "text": [
      "friends_s06e14a\n"
     ]
    },
    {
     "name": "stderr",
     "output_type": "stream",
     "text": [
      "100%|█████████████████████████████████████████| 461/461 [01:35<00:00,  4.81it/s]\n"
     ]
    },
    {
     "name": "stdout",
     "output_type": "stream",
     "text": [
      "friends_s06e18b\n"
     ]
    },
    {
     "name": "stderr",
     "output_type": "stream",
     "text": [
      "100%|█████████████████████████████████████████| 470/470 [01:37<00:00,  4.82it/s]\n"
     ]
    },
    {
     "name": "stdout",
     "output_type": "stream",
     "text": [
      "friends_s06e02a\n"
     ]
    },
    {
     "name": "stderr",
     "output_type": "stream",
     "text": [
      "100%|█████████████████████████████████████████| 453/453 [01:34<00:00,  4.78it/s]\n"
     ]
    },
    {
     "name": "stdout",
     "output_type": "stream",
     "text": [
      "friends_s06e22b\n"
     ]
    },
    {
     "name": "stderr",
     "output_type": "stream",
     "text": [
      "100%|█████████████████████████████████████████| 486/486 [01:41<00:00,  4.77it/s]\n"
     ]
    },
    {
     "name": "stdout",
     "output_type": "stream",
     "text": [
      "friends_s06e15d\n"
     ]
    },
    {
     "name": "stderr",
     "output_type": "stream",
     "text": [
      "100%|█████████████████████████████████████████| 490/490 [01:42<00:00,  4.79it/s]\n"
     ]
    }
   ],
   "source": [
    "# print result\n",
    "for f in mp3_files:\n",
    "    print(f[38:53])\n",
    "    out_name = '../data/02_laughter/laughter_annotations/' + f[38:53] + '.csv'\n",
    "\n",
    "    if check_file_exists(out_name):\n",
    "        print(f\"The file '{out_name}' exists. Skipping. \")\n",
    "    else:\n",
    "\n",
    "        df = chop_and_execute(f, segment_duration=1.49, my_classification_model = laughter_classifier)\n",
    "        df.to_csv(out_name)\n",
    "    \n"
   ]
  },
  {
   "cell_type": "code",
   "execution_count": null,
   "id": "39027f71-ad13-488f-9271-8798f83cd8c5",
   "metadata": {},
   "outputs": [],
   "source": []
  }
 ],
 "metadata": {
  "kernelspec": {
   "display_name": "Python 3 (ipykernel)",
   "language": "python",
   "name": "python3"
  },
  "language_info": {
   "codemirror_mode": {
    "name": "ipython",
    "version": 3
   },
   "file_extension": ".py",
   "mimetype": "text/x-python",
   "name": "python",
   "nbconvert_exporter": "python",
   "pygments_lexer": "ipython3",
   "version": "3.10.13"
  }
 },
 "nbformat": 4,
 "nbformat_minor": 5
}
