{
 "cells": [
  {
   "cell_type": "markdown",
   "id": "b1be13ed-c57e-4c98-8f86-56cfe7159873",
   "metadata": {},
   "source": [
    "### Copy all files"
   ]
  },
  {
   "cell_type": "code",
   "execution_count": null,
   "id": "616ed77b-4911-4d06-99b8-6c3f8fbc5824",
   "metadata": {},
   "outputs": [],
   "source": [
    "import os\n",
    "import shutil\n",
    "from pathlib import Path\n",
    "from tqdm import tqdm\n",
    "import os\n",
    "from pathlib import Path\n",
    "import subprocess\n",
    "import os\n",
    "\n",
    "import os\n",
    "import subprocess\n",
    "from pathlib import Path\n",
    "\n",
    "def copy_original_mkv_files(source_folder, target_folder):\n",
    "    \"\"\"\n",
    "    Lists all MKV symlinks in a source folder, resolves them to their original\n",
    "    MKV files, and copies those original files to a target folder, retaining\n",
    "    the folder substructure.\n",
    "\n",
    "    Args:\n",
    "        source_folder (str): Path to the source folder containing MKV symlinks.\n",
    "        target_folder (str): Path to the target folder where original MKV files\n",
    "                             will be copied.\n",
    "    \"\"\"\n",
    "\n",
    "    source_path = Path(source_folder)\n",
    "    target_path = Path(target_folder)\n",
    "\n",
    "    if not source_path.exists():\n",
    "        print(f\"Error: Source folder '{source_folder}' does not exist.\")\n",
    "        return\n",
    "\n",
    "    target_path.mkdir(parents=True, exist_ok=True)  # Create target folder if needed.\n",
    "\n",
    "    mkv_symlinks = list(source_path.rglob(\"*.mkv\"))  # Find all MKV files recursively.\n",
    "\n",
    "    if not mkv_symlinks:\n",
    "        print(\"No MKV symlinks found in the source folder.\")\n",
    "        return\n",
    "\n",
    "    for symlink in tqdm(mkv_symlinks, desc=\"Copying original MKV files\"):\n",
    "        try:\n",
    "            real_mkv_file = Path(os.path.realpath(symlink))  # Resolve symlink to original file.\n",
    "\n",
    "            # Calculate the relative path from the source folder to the symlink.\n",
    "            relative_path = symlink.relative_to(source_path)\n",
    "\n",
    "            # Construct the corresponding path in the target folder.\n",
    "            target_file = target_path / relative_path\n",
    "\n",
    "            # Create the necessary subdirectories in the target folder.\n",
    "            target_file.parent.mkdir(parents=True, exist_ok=True)\n",
    "\n",
    "            shutil.copy2(real_mkv_file, target_file)  # copy2 preserves metadata\n",
    "\n",
    "            print(f\"Copied '{real_mkv_file}' to '{target_file}'\")\n",
    "\n",
    "        except FileNotFoundError:\n",
    "            print(f\"Error: Original MKV file not found for symlink '{symlink}'.\")\n",
    "        except Exception as e:\n",
    "            print(f\"An unexpected error occurred: {e}\")\n",
    "\n"
   ]
  },
  {
   "cell_type": "code",
   "execution_count": 2,
   "id": "5f2509c0-41d9-408a-bf4d-aac64989ac2b",
   "metadata": {},
   "outputs": [
    {
     "name": "stderr",
     "output_type": "stream",
     "text": [
      "Copying original MKV files:   2%|▎               | 1/48 [00:01<00:50,  1.08s/it]"
     ]
    },
    {
     "name": "stdout",
     "output_type": "stream",
     "text": [
      "Copied '/Volumes/T7 Shield/algonauts_2025.competitors/stimuli/movies/friends/.git/annex/objects/XQ/XQ/MD5E-s462955033--c4e4d749df6be77a50b0cf9a3ad689d7.mkv/MD5E-s462955033--c4e4d749df6be77a50b0cf9a3ad689d7.mkv' to '/Volumes/T7 Shield/friends/stimuli/s1/friends_s01e13a.mkv'\n"
     ]
    },
    {
     "name": "stderr",
     "output_type": "stream",
     "text": [
      "Copying original MKV files:   4%|▋               | 2/48 [00:02<00:47,  1.04s/it]"
     ]
    },
    {
     "name": "stdout",
     "output_type": "stream",
     "text": [
      "Copied '/Volumes/T7 Shield/algonauts_2025.competitors/stimuli/movies/friends/.git/annex/objects/VX/77/MD5E-s461387732--b18700efea6a22ba46f4f670d8375d9f.mkv/MD5E-s461387732--b18700efea6a22ba46f4f670d8375d9f.mkv' to '/Volumes/T7 Shield/friends/stimuli/s1/friends_s01e09b.mkv'\n"
     ]
    },
    {
     "name": "stderr",
     "output_type": "stream",
     "text": [
      "Copying original MKV files:   6%|█               | 3/48 [00:03<00:47,  1.06s/it]"
     ]
    },
    {
     "name": "stdout",
     "output_type": "stream",
     "text": [
      "Copied '/Volumes/T7 Shield/algonauts_2025.competitors/stimuli/movies/friends/.git/annex/objects/4K/8J/MD5E-s464480792--c3651bfa52dec9a278ea6a5a75cdf7fe.mkv/MD5E-s464480792--c3651bfa52dec9a278ea6a5a75cdf7fe.mkv' to '/Volumes/T7 Shield/friends/stimuli/s1/friends_s01e05a.mkv'\n"
     ]
    },
    {
     "name": "stderr",
     "output_type": "stream",
     "text": [
      "Copying original MKV files:   8%|█▎              | 4/48 [00:04<00:47,  1.08s/it]"
     ]
    },
    {
     "name": "stdout",
     "output_type": "stream",
     "text": [
      "Copied '/Volumes/T7 Shield/algonauts_2025.competitors/stimuli/movies/friends/.git/annex/objects/wm/Kf/MD5E-s462680450--487f4a0fb800bbca0f9cd822bfda3c69.mkv/MD5E-s462680450--487f4a0fb800bbca0f9cd822bfda3c69.mkv' to '/Volumes/T7 Shield/friends/stimuli/s1/friends_s01e13b.mkv'\n"
     ]
    },
    {
     "name": "stderr",
     "output_type": "stream",
     "text": [
      "Copying original MKV files:  10%|█▋              | 5/48 [00:05<00:45,  1.05s/it]"
     ]
    },
    {
     "name": "stdout",
     "output_type": "stream",
     "text": [
      "Copied '/Volumes/T7 Shield/algonauts_2025.competitors/stimuli/movies/friends/.git/annex/objects/Gq/Pz/MD5E-s457965500--958237f03a994cb277579e78e5fa86e4.mkv/MD5E-s457965500--958237f03a994cb277579e78e5fa86e4.mkv' to '/Volumes/T7 Shield/friends/stimuli/s1/friends_s01e09a.mkv'\n"
     ]
    },
    {
     "name": "stderr",
     "output_type": "stream",
     "text": [
      "Copying original MKV files:  12%|██              | 6/48 [00:06<00:43,  1.04s/it]"
     ]
    },
    {
     "name": "stdout",
     "output_type": "stream",
     "text": [
      "Copied '/Volumes/T7 Shield/algonauts_2025.competitors/stimuli/movies/friends/.git/annex/objects/zx/9Q/MD5E-s461859986--9947e047d34ce05ccb948f3706f0a9e2.mkv/MD5E-s461859986--9947e047d34ce05ccb948f3706f0a9e2.mkv' to '/Volumes/T7 Shield/friends/stimuli/s1/friends_s01e05b.mkv'\n"
     ]
    },
    {
     "name": "stderr",
     "output_type": "stream",
     "text": [
      "Copying original MKV files:  15%|██▎             | 7/48 [00:07<00:44,  1.09s/it]"
     ]
    },
    {
     "name": "stdout",
     "output_type": "stream",
     "text": [
      "Copied '/Volumes/T7 Shield/algonauts_2025.competitors/stimuli/movies/friends/.git/annex/objects/gk/pg/MD5E-s508115223--619f8ac1c55941af054ce91e503a0eb8.mkv/MD5E-s508115223--619f8ac1c55941af054ce91e503a0eb8.mkv' to '/Volumes/T7 Shield/friends/stimuli/s1/friends_s01e24a.mkv'\n"
     ]
    },
    {
     "name": "stderr",
     "output_type": "stream",
     "text": [
      "Copying original MKV files:  17%|██▋             | 8/48 [00:08<00:44,  1.11s/it]"
     ]
    },
    {
     "name": "stdout",
     "output_type": "stream",
     "text": [
      "Copied '/Volumes/T7 Shield/algonauts_2025.competitors/stimuli/movies/friends/.git/annex/objects/5Q/Wm/MD5E-s495700582--05547091d2a0edee895d1a29abfff772.mkv/MD5E-s495700582--05547091d2a0edee895d1a29abfff772.mkv' to '/Volumes/T7 Shield/friends/stimuli/s1/friends_s01e04b.mkv'\n"
     ]
    },
    {
     "name": "stderr",
     "output_type": "stream",
     "text": [
      "Copying original MKV files:  19%|███             | 9/48 [00:09<00:42,  1.09s/it]"
     ]
    },
    {
     "name": "stdout",
     "output_type": "stream",
     "text": [
      "Copied '/Volumes/T7 Shield/algonauts_2025.competitors/stimuli/movies/friends/.git/annex/objects/vP/7G/MD5E-s466419101--f06ba92637ace58ddfcd963b9113de3d.mkv/MD5E-s466419101--f06ba92637ace58ddfcd963b9113de3d.mkv' to '/Volumes/T7 Shield/friends/stimuli/s1/friends_s01e08a.mkv'\n"
     ]
    },
    {
     "name": "stderr",
     "output_type": "stream",
     "text": [
      "Copying original MKV files:  21%|███▏           | 10/48 [00:10<00:40,  1.08s/it]"
     ]
    },
    {
     "name": "stdout",
     "output_type": "stream",
     "text": [
      "Copied '/Volumes/T7 Shield/algonauts_2025.competitors/stimuli/movies/friends/.git/annex/objects/Mg/jk/MD5E-s464104403--440cb1fb83e19b9e0f9255c9439e3176.mkv/MD5E-s464104403--440cb1fb83e19b9e0f9255c9439e3176.mkv' to '/Volumes/T7 Shield/friends/stimuli/s1/friends_s01e12b.mkv'\n"
     ]
    },
    {
     "name": "stderr",
     "output_type": "stream",
     "text": [
      "Copying original MKV files:  23%|███▍           | 11/48 [00:11<00:40,  1.09s/it]"
     ]
    },
    {
     "name": "stdout",
     "output_type": "stream",
     "text": [
      "Copied '/Volumes/T7 Shield/algonauts_2025.competitors/stimuli/movies/friends/.git/annex/objects/Wq/jX/MD5E-s512492623--59ac6f915bb85d73b409458030bd6cc4.mkv/MD5E-s512492623--59ac6f915bb85d73b409458030bd6cc4.mkv' to '/Volumes/T7 Shield/friends/stimuli/s1/friends_s01e24b.mkv'\n"
     ]
    },
    {
     "name": "stderr",
     "output_type": "stream",
     "text": [
      "Copying original MKV files:  25%|███▊           | 12/48 [00:12<00:39,  1.10s/it]"
     ]
    },
    {
     "name": "stdout",
     "output_type": "stream",
     "text": [
      "Copied '/Volumes/T7 Shield/algonauts_2025.competitors/stimuli/movies/friends/.git/annex/objects/69/q5/MD5E-s494806123--a82e142fd03e3cb18688445bd6f535e5.mkv/MD5E-s494806123--a82e142fd03e3cb18688445bd6f535e5.mkv' to '/Volumes/T7 Shield/friends/stimuli/s1/friends_s01e04a.mkv'\n"
     ]
    },
    {
     "name": "stderr",
     "output_type": "stream",
     "text": [
      "Copying original MKV files:  27%|████           | 13/48 [00:14<00:37,  1.08s/it]"
     ]
    },
    {
     "name": "stdout",
     "output_type": "stream",
     "text": [
      "Copied '/Volumes/T7 Shield/algonauts_2025.competitors/stimuli/movies/friends/.git/annex/objects/5q/GQ/MD5E-s468752384--e977ae5a7f7860d582430ff2e5355359.mkv/MD5E-s468752384--e977ae5a7f7860d582430ff2e5355359.mkv' to '/Volumes/T7 Shield/friends/stimuli/s1/friends_s01e08b.mkv'\n"
     ]
    },
    {
     "name": "stderr",
     "output_type": "stream",
     "text": [
      "Copying original MKV files:  29%|████▍          | 14/48 [00:15<00:35,  1.05s/it]"
     ]
    },
    {
     "name": "stdout",
     "output_type": "stream",
     "text": [
      "Copied '/Volumes/T7 Shield/algonauts_2025.competitors/stimuli/movies/friends/.git/annex/objects/KZ/kV/MD5E-s468580961--c714abec3c13a2cbb0db845cb97bcbaf.mkv/MD5E-s468580961--c714abec3c13a2cbb0db845cb97bcbaf.mkv' to '/Volumes/T7 Shield/friends/stimuli/s1/friends_s01e12a.mkv'\n"
     ]
    },
    {
     "name": "stderr",
     "output_type": "stream",
     "text": [
      "Copying original MKV files:  31%|████▋          | 15/48 [00:16<00:34,  1.05s/it]"
     ]
    },
    {
     "name": "stdout",
     "output_type": "stream",
     "text": [
      "Copied '/Volumes/T7 Shield/algonauts_2025.competitors/stimuli/movies/friends/.git/annex/objects/k3/2W/MD5E-s455533788--5fa0bb6b0912f1af856cfb8493ac2704.mkv/MD5E-s455533788--5fa0bb6b0912f1af856cfb8493ac2704.mkv' to '/Volumes/T7 Shield/friends/stimuli/s1/friends_s01e19a.mkv'\n"
     ]
    },
    {
     "name": "stderr",
     "output_type": "stream",
     "text": [
      "Copying original MKV files:  33%|█████          | 16/48 [00:17<00:33,  1.06s/it]"
     ]
    },
    {
     "name": "stdout",
     "output_type": "stream",
     "text": [
      "Copied '/Volumes/T7 Shield/algonauts_2025.competitors/stimuli/movies/friends/.git/annex/objects/FJ/2F/MD5E-s469755974--96e9649e49cd4afcdfab0430e1621cd8.mkv/MD5E-s469755974--96e9649e49cd4afcdfab0430e1621cd8.mkv' to '/Volumes/T7 Shield/friends/stimuli/s1/friends_s01e15b.mkv'\n"
     ]
    },
    {
     "name": "stderr",
     "output_type": "stream",
     "text": [
      "Copying original MKV files:  35%|█████▎         | 17/48 [00:18<00:32,  1.05s/it]"
     ]
    },
    {
     "name": "stdout",
     "output_type": "stream",
     "text": [
      "Copied '/Volumes/T7 Shield/algonauts_2025.competitors/stimuli/movies/friends/.git/annex/objects/29/79/MD5E-s465365165--2d2aadde1d2784565a61022eddfc30c2.mkv/MD5E-s465365165--2d2aadde1d2784565a61022eddfc30c2.mkv' to '/Volumes/T7 Shield/friends/stimuli/s1/friends_s01e03b.mkv'\n"
     ]
    },
    {
     "name": "stderr",
     "output_type": "stream",
     "text": [
      "Copying original MKV files:  38%|█████▋         | 18/48 [00:19<00:31,  1.04s/it]"
     ]
    },
    {
     "name": "stdout",
     "output_type": "stream",
     "text": [
      "Copied '/Volumes/T7 Shield/algonauts_2025.competitors/stimuli/movies/friends/.git/annex/objects/02/V2/MD5E-s452290192--2f62bbffddf8ebc8016b40521583fe04.mkv/MD5E-s452290192--2f62bbffddf8ebc8016b40521583fe04.mkv' to '/Volumes/T7 Shield/friends/stimuli/s1/friends_s01e23a.mkv'\n"
     ]
    },
    {
     "name": "stderr",
     "output_type": "stream",
     "text": [
      "Copying original MKV files:  40%|█████▉         | 19/48 [00:20<00:29,  1.03s/it]"
     ]
    },
    {
     "name": "stdout",
     "output_type": "stream",
     "text": [
      "Copied '/Volumes/T7 Shield/algonauts_2025.competitors/stimuli/movies/friends/.git/annex/objects/34/Vm/MD5E-s455089086--adaf758fa2c8c8ae458eb79cc519deaf.mkv/MD5E-s455089086--adaf758fa2c8c8ae458eb79cc519deaf.mkv' to '/Volumes/T7 Shield/friends/stimuli/s1/friends_s01e19b.mkv'\n"
     ]
    },
    {
     "name": "stderr",
     "output_type": "stream",
     "text": [
      "Copying original MKV files:  42%|██████▎        | 20/48 [00:21<00:29,  1.06s/it]"
     ]
    },
    {
     "name": "stdout",
     "output_type": "stream",
     "text": [
      "Copied '/Volumes/T7 Shield/algonauts_2025.competitors/stimuli/movies/friends/.git/annex/objects/Xf/FJ/MD5E-s465901041--c15126e148a3076fdd0f5fca13751b66.mkv/MD5E-s465901041--c15126e148a3076fdd0f5fca13751b66.mkv' to '/Volumes/T7 Shield/friends/stimuli/s1/friends_s01e15a.mkv'\n"
     ]
    },
    {
     "name": "stderr",
     "output_type": "stream",
     "text": [
      "Copying original MKV files:  44%|██████▌        | 21/48 [00:22<00:29,  1.11s/it]"
     ]
    },
    {
     "name": "stdout",
     "output_type": "stream",
     "text": [
      "Copied '/Volumes/T7 Shield/algonauts_2025.competitors/stimuli/movies/friends/.git/annex/objects/Vj/M2/MD5E-s465540728--fcce209068d5bc320a5132f8d3f7d426.mkv/MD5E-s465540728--fcce209068d5bc320a5132f8d3f7d426.mkv' to '/Volumes/T7 Shield/friends/stimuli/s1/friends_s01e03a.mkv'\n"
     ]
    },
    {
     "name": "stderr",
     "output_type": "stream",
     "text": [
      "Copying original MKV files:  46%|██████▉        | 22/48 [00:23<00:28,  1.08s/it]"
     ]
    },
    {
     "name": "stdout",
     "output_type": "stream",
     "text": [
      "Copied '/Volumes/T7 Shield/algonauts_2025.competitors/stimuli/movies/friends/.git/annex/objects/z4/g9/MD5E-s451421489--cd9e98f628c2c62fed1e8b3bf703e723.mkv/MD5E-s451421489--cd9e98f628c2c62fed1e8b3bf703e723.mkv' to '/Volumes/T7 Shield/friends/stimuli/s1/friends_s01e23b.mkv'\n"
     ]
    },
    {
     "name": "stderr",
     "output_type": "stream",
     "text": [
      "Copying original MKV files:  48%|███████▏       | 23/48 [00:24<00:26,  1.08s/it]"
     ]
    },
    {
     "name": "stdout",
     "output_type": "stream",
     "text": [
      "Copied '/Volumes/T7 Shield/algonauts_2025.competitors/stimuli/movies/friends/.git/annex/objects/1V/6z/MD5E-s464186212--2d096b4e2ba4d9bcc6caf82a1cccec2a.mkv/MD5E-s464186212--2d096b4e2ba4d9bcc6caf82a1cccec2a.mkv' to '/Volumes/T7 Shield/friends/stimuli/s1/friends_s01e22b.mkv'\n"
     ]
    },
    {
     "name": "stderr",
     "output_type": "stream",
     "text": [
      "Copying original MKV files:  50%|███████▌       | 24/48 [00:25<00:25,  1.08s/it]"
     ]
    },
    {
     "name": "stdout",
     "output_type": "stream",
     "text": [
      "Copied '/Volumes/T7 Shield/algonauts_2025.competitors/stimuli/movies/friends/.git/annex/objects/Qk/J1/MD5E-s472389245--0aa3d45233dad20b4f1975d34ee1befd.mkv/MD5E-s472389245--0aa3d45233dad20b4f1975d34ee1befd.mkv' to '/Volumes/T7 Shield/friends/stimuli/s1/friends_s01e02a.mkv'\n"
     ]
    },
    {
     "name": "stderr",
     "output_type": "stream",
     "text": [
      "Copying original MKV files:  52%|███████▊       | 25/48 [00:26<00:24,  1.08s/it]"
     ]
    },
    {
     "name": "stdout",
     "output_type": "stream",
     "text": [
      "Copied '/Volumes/T7 Shield/algonauts_2025.competitors/stimuli/movies/friends/.git/annex/objects/8k/j9/MD5E-s480377991--914b5e5928ad38ac801f7543d574fca7.mkv/MD5E-s480377991--914b5e5928ad38ac801f7543d574fca7.mkv' to '/Volumes/T7 Shield/friends/stimuli/s1/friends_s01e14a.mkv'\n"
     ]
    },
    {
     "name": "stderr",
     "output_type": "stream",
     "text": [
      "Copying original MKV files:  54%|████████▏      | 26/48 [00:27<00:23,  1.09s/it]"
     ]
    },
    {
     "name": "stdout",
     "output_type": "stream",
     "text": [
      "Copied '/Volumes/T7 Shield/algonauts_2025.competitors/stimuli/movies/friends/.git/annex/objects/x1/9p/MD5E-s494662306--34e1a9e662f9cc9872b76b3f20acc958.mkv/MD5E-s494662306--34e1a9e662f9cc9872b76b3f20acc958.mkv' to '/Volumes/T7 Shield/friends/stimuli/s1/friends_s01e18b.mkv'\n"
     ]
    },
    {
     "name": "stderr",
     "output_type": "stream",
     "text": [
      "Copying original MKV files:  56%|████████▍      | 27/48 [00:28<00:22,  1.09s/it]"
     ]
    },
    {
     "name": "stdout",
     "output_type": "stream",
     "text": [
      "Copied '/Volumes/T7 Shield/algonauts_2025.competitors/stimuli/movies/friends/.git/annex/objects/qf/wP/MD5E-s463493316--7eca85dee765b39e330305ea0fa8177c.mkv/MD5E-s463493316--7eca85dee765b39e330305ea0fa8177c.mkv' to '/Volumes/T7 Shield/friends/stimuli/s1/friends_s01e22a.mkv'\n"
     ]
    },
    {
     "name": "stderr",
     "output_type": "stream",
     "text": [
      "Copying original MKV files:  58%|████████▊      | 28/48 [00:29<00:21,  1.07s/it]"
     ]
    },
    {
     "name": "stdout",
     "output_type": "stream",
     "text": [
      "Copied '/Volumes/T7 Shield/algonauts_2025.competitors/stimuli/movies/friends/.git/annex/objects/J5/0J/MD5E-s474944109--fbd5723acf3d71b7821c23a996b35600.mkv/MD5E-s474944109--fbd5723acf3d71b7821c23a996b35600.mkv' to '/Volumes/T7 Shield/friends/stimuli/s1/friends_s01e02b.mkv'\n"
     ]
    },
    {
     "name": "stderr",
     "output_type": "stream",
     "text": [
      "Copying original MKV files:  60%|█████████      | 29/48 [00:31<00:20,  1.08s/it]"
     ]
    },
    {
     "name": "stdout",
     "output_type": "stream",
     "text": [
      "Copied '/Volumes/T7 Shield/algonauts_2025.competitors/stimuli/movies/friends/.git/annex/objects/FK/K8/MD5E-s487920739--9d1c20f628e86fcf50f45974754e9ffb.mkv/MD5E-s487920739--9d1c20f628e86fcf50f45974754e9ffb.mkv' to '/Volumes/T7 Shield/friends/stimuli/s1/friends_s01e14b.mkv'\n"
     ]
    },
    {
     "name": "stderr",
     "output_type": "stream",
     "text": [
      "Copying original MKV files:  62%|█████████▍     | 30/48 [00:32<00:19,  1.10s/it]"
     ]
    },
    {
     "name": "stdout",
     "output_type": "stream",
     "text": [
      "Copied '/Volumes/T7 Shield/algonauts_2025.competitors/stimuli/movies/friends/.git/annex/objects/Vw/vF/MD5E-s488000014--622d30f59e0039a9c9318958981b9016.mkv/MD5E-s488000014--622d30f59e0039a9c9318958981b9016.mkv' to '/Volumes/T7 Shield/friends/stimuli/s1/friends_s01e18a.mkv'\n"
     ]
    },
    {
     "name": "stderr",
     "output_type": "stream",
     "text": [
      "Copying original MKV files:  65%|█████████▋     | 31/48 [00:33<00:18,  1.08s/it]"
     ]
    },
    {
     "name": "stdout",
     "output_type": "stream",
     "text": [
      "Copied '/Volumes/T7 Shield/algonauts_2025.competitors/stimuli/movies/friends/.git/annex/objects/wg/j1/MD5E-s468251276--f1a2f8afd9db4386a7736e8ee2908c3d.mkv/MD5E-s468251276--f1a2f8afd9db4386a7736e8ee2908c3d.mkv' to '/Volumes/T7 Shield/friends/stimuli/s1/friends_s01e21a.mkv'\n"
     ]
    },
    {
     "name": "stderr",
     "output_type": "stream",
     "text": [
      "Copying original MKV files:  67%|██████████     | 32/48 [00:34<00:18,  1.13s/it]"
     ]
    },
    {
     "name": "stdout",
     "output_type": "stream",
     "text": [
      "Copied '/Volumes/T7 Shield/algonauts_2025.competitors/stimuli/movies/friends/.git/annex/objects/2Q/0V/MD5E-s581587224--92f15f8864f7a3bbd529e0a7202ca6b2.mkv/MD5E-s581587224--92f15f8864f7a3bbd529e0a7202ca6b2.mkv' to '/Volumes/T7 Shield/friends/stimuli/s1/friends_s01e01b.mkv'\n"
     ]
    },
    {
     "name": "stderr",
     "output_type": "stream",
     "text": [
      "Copying original MKV files:  69%|██████████▎    | 33/48 [00:35<00:16,  1.10s/it]"
     ]
    },
    {
     "name": "stdout",
     "output_type": "stream",
     "text": [
      "Copied '/Volumes/T7 Shield/algonauts_2025.competitors/stimuli/movies/friends/.git/annex/objects/7V/Wq/MD5E-s475175524--36f1c8fd1ab7be515e56aaf43a7a34d5.mkv/MD5E-s475175524--36f1c8fd1ab7be515e56aaf43a7a34d5.mkv' to '/Volumes/T7 Shield/friends/stimuli/s1/friends_s01e17b.mkv'\n"
     ]
    },
    {
     "name": "stderr",
     "output_type": "stream",
     "text": [
      "Copying original MKV files:  71%|██████████▋    | 34/48 [00:36<00:15,  1.08s/it]"
     ]
    },
    {
     "name": "stdout",
     "output_type": "stream",
     "text": [
      "Copied '/Volumes/T7 Shield/algonauts_2025.competitors/stimuli/movies/friends/.git/annex/objects/3Z/fK/MD5E-s465936682--6db218910a872af5ead65d2e8a0f2c5f.mkv/MD5E-s465936682--6db218910a872af5ead65d2e8a0f2c5f.mkv' to '/Volumes/T7 Shield/friends/stimuli/s1/friends_s01e21b.mkv'\n"
     ]
    },
    {
     "name": "stderr",
     "output_type": "stream",
     "text": [
      "Copying original MKV files:  73%|██████████▉    | 35/48 [00:37<00:14,  1.14s/it]"
     ]
    },
    {
     "name": "stdout",
     "output_type": "stream",
     "text": [
      "Copied '/Volumes/T7 Shield/algonauts_2025.competitors/stimuli/movies/friends/.git/annex/objects/6x/Kz/MD5E-s580265877--34fe32cba2761d7a3bd121008daffe26.mkv/MD5E-s580265877--34fe32cba2761d7a3bd121008daffe26.mkv' to '/Volumes/T7 Shield/friends/stimuli/s1/friends_s01e01a.mkv'\n"
     ]
    },
    {
     "name": "stderr",
     "output_type": "stream",
     "text": [
      "Copying original MKV files:  75%|███████████▎   | 36/48 [00:38<00:13,  1.11s/it]"
     ]
    },
    {
     "name": "stdout",
     "output_type": "stream",
     "text": [
      "Copied '/Volumes/T7 Shield/algonauts_2025.competitors/stimuli/movies/friends/.git/annex/objects/w2/0M/MD5E-s474645087--fba6ce6d3b3bae250ceb42d968409c2e.mkv/MD5E-s474645087--fba6ce6d3b3bae250ceb42d968409c2e.mkv' to '/Volumes/T7 Shield/friends/stimuli/s1/friends_s01e17a.mkv'\n"
     ]
    },
    {
     "name": "stderr",
     "output_type": "stream",
     "text": [
      "Copying original MKV files:  77%|███████████▌   | 37/48 [00:39<00:11,  1.08s/it]"
     ]
    },
    {
     "name": "stdout",
     "output_type": "stream",
     "text": [
      "Copied '/Volumes/T7 Shield/algonauts_2025.competitors/stimuli/movies/friends/.git/annex/objects/j5/m5/MD5E-s473795434--6bfc01789e27d823a9456a1e491a09a4.mkv/MD5E-s473795434--6bfc01789e27d823a9456a1e491a09a4.mkv' to '/Volumes/T7 Shield/friends/stimuli/s1/friends_s01e16a.mkv'\n"
     ]
    },
    {
     "name": "stderr",
     "output_type": "stream",
     "text": [
      "Copying original MKV files:  79%|███████████▉   | 38/48 [00:40<00:10,  1.05s/it]"
     ]
    },
    {
     "name": "stdout",
     "output_type": "stream",
     "text": [
      "Copied '/Volumes/T7 Shield/algonauts_2025.competitors/stimuli/movies/friends/.git/annex/objects/42/G1/MD5E-s452873635--2a1e11b0566b29cbfdd31bf58974b0bc.mkv/MD5E-s452873635--2a1e11b0566b29cbfdd31bf58974b0bc.mkv' to '/Volumes/T7 Shield/friends/stimuli/s1/friends_s01e20b.mkv'\n"
     ]
    },
    {
     "name": "stderr",
     "output_type": "stream",
     "text": [
      "Copying original MKV files:  81%|████████████▏  | 39/48 [00:41<00:09,  1.07s/it]"
     ]
    },
    {
     "name": "stdout",
     "output_type": "stream",
     "text": [
      "Copied '/Volumes/T7 Shield/algonauts_2025.competitors/stimuli/movies/friends/.git/annex/objects/pF/mg/MD5E-s474209146--aafa795c201cf62cc6e8cee7f111271b.mkv/MD5E-s474209146--aafa795c201cf62cc6e8cee7f111271b.mkv' to '/Volumes/T7 Shield/friends/stimuli/s1/friends_s01e16b.mkv'\n"
     ]
    },
    {
     "name": "stderr",
     "output_type": "stream",
     "text": [
      "Copying original MKV files:  83%|████████████▌  | 40/48 [00:42<00:08,  1.04s/it]"
     ]
    },
    {
     "name": "stdout",
     "output_type": "stream",
     "text": [
      "Copied '/Volumes/T7 Shield/algonauts_2025.competitors/stimuli/movies/friends/.git/annex/objects/J1/Jg/MD5E-s454499113--6249b931cd9fdbbe7e3db7c4bc136658.mkv/MD5E-s454499113--6249b931cd9fdbbe7e3db7c4bc136658.mkv' to '/Volumes/T7 Shield/friends/stimuli/s1/friends_s01e20a.mkv'\n"
     ]
    },
    {
     "name": "stderr",
     "output_type": "stream",
     "text": [
      "Copying original MKV files:  85%|████████████▊  | 41/48 [00:43<00:07,  1.04s/it]"
     ]
    },
    {
     "name": "stdout",
     "output_type": "stream",
     "text": [
      "Copied '/Volumes/T7 Shield/algonauts_2025.competitors/stimuli/movies/friends/.git/annex/objects/2K/xQ/MD5E-s486137344--db91b8ece2a41a849f3237480e2b2134.mkv/MD5E-s486137344--db91b8ece2a41a849f3237480e2b2134.mkv' to '/Volumes/T7 Shield/friends/stimuli/s1/friends_s01e07a.mkv'\n"
     ]
    },
    {
     "name": "stderr",
     "output_type": "stream",
     "text": [
      "Copying original MKV files:  88%|█████████████▏ | 42/48 [00:45<00:06,  1.03s/it]"
     ]
    },
    {
     "name": "stdout",
     "output_type": "stream",
     "text": [
      "Copied '/Volumes/T7 Shield/algonauts_2025.competitors/stimuli/movies/friends/.git/annex/objects/qm/Wj/MD5E-s467466113--41c45abe5226ff2fce79a9facd1d366c.mkv/MD5E-s467466113--41c45abe5226ff2fce79a9facd1d366c.mkv' to '/Volumes/T7 Shield/friends/stimuli/s1/friends_s01e11a.mkv'\n"
     ]
    },
    {
     "name": "stderr",
     "output_type": "stream",
     "text": [
      "Copying original MKV files:  90%|█████████████▍ | 43/48 [00:46<00:05,  1.05s/it]"
     ]
    },
    {
     "name": "stdout",
     "output_type": "stream",
     "text": [
      "Copied '/Volumes/T7 Shield/algonauts_2025.competitors/stimuli/movies/friends/.git/annex/objects/54/Qq/MD5E-s481662865--80dbe7877c1b423cfa79e70ba48bda17.mkv/MD5E-s481662865--80dbe7877c1b423cfa79e70ba48bda17.mkv' to '/Volumes/T7 Shield/friends/stimuli/s1/friends_s01e07b.mkv'\n"
     ]
    },
    {
     "name": "stderr",
     "output_type": "stream",
     "text": [
      "Copying original MKV files:  92%|█████████████▊ | 44/48 [00:47<00:04,  1.04s/it]"
     ]
    },
    {
     "name": "stdout",
     "output_type": "stream",
     "text": [
      "Copied '/Volumes/T7 Shield/algonauts_2025.competitors/stimuli/movies/friends/.git/annex/objects/JP/pG/MD5E-s467051242--7be06e28b8f3b88b4f265e13becba6f1.mkv/MD5E-s467051242--7be06e28b8f3b88b4f265e13becba6f1.mkv' to '/Volumes/T7 Shield/friends/stimuli/s1/friends_s01e11b.mkv'\n"
     ]
    },
    {
     "name": "stderr",
     "output_type": "stream",
     "text": [
      "Copying original MKV files:  94%|██████████████ | 45/48 [00:48<00:03,  1.04s/it]"
     ]
    },
    {
     "name": "stdout",
     "output_type": "stream",
     "text": [
      "Copied '/Volumes/T7 Shield/algonauts_2025.competitors/stimuli/movies/friends/.git/annex/objects/Q9/95/MD5E-s486239613--46c7667e7d7cac8cc7cbb815e452b3f7.mkv/MD5E-s486239613--46c7667e7d7cac8cc7cbb815e452b3f7.mkv' to '/Volumes/T7 Shield/friends/stimuli/s1/friends_s01e10b.mkv'\n"
     ]
    },
    {
     "name": "stderr",
     "output_type": "stream",
     "text": [
      "Copying original MKV files:  96%|██████████████▍| 46/48 [00:49<00:02,  1.04s/it]"
     ]
    },
    {
     "name": "stdout",
     "output_type": "stream",
     "text": [
      "Copied '/Volumes/T7 Shield/algonauts_2025.competitors/stimuli/movies/friends/.git/annex/objects/F3/6Z/MD5E-s480547208--09aed917a76a4fd0254882b37e6b5c21.mkv/MD5E-s480547208--09aed917a76a4fd0254882b37e6b5c21.mkv' to '/Volumes/T7 Shield/friends/stimuli/s1/friends_s01e06b.mkv'\n"
     ]
    },
    {
     "name": "stderr",
     "output_type": "stream",
     "text": [
      "Copying original MKV files:  98%|██████████████▋| 47/48 [00:50<00:01,  1.04s/it]"
     ]
    },
    {
     "name": "stdout",
     "output_type": "stream",
     "text": [
      "Copied '/Volumes/T7 Shield/algonauts_2025.competitors/stimuli/movies/friends/.git/annex/objects/8k/vq/MD5E-s485484064--2e1e61c8b6f13dee0a521b29b5a350c6.mkv/MD5E-s485484064--2e1e61c8b6f13dee0a521b29b5a350c6.mkv' to '/Volumes/T7 Shield/friends/stimuli/s1/friends_s01e10a.mkv'\n"
     ]
    },
    {
     "name": "stderr",
     "output_type": "stream",
     "text": [
      "Copying original MKV files: 100%|███████████████| 48/48 [00:51<00:00,  1.07s/it]"
     ]
    },
    {
     "name": "stdout",
     "output_type": "stream",
     "text": [
      "Copied '/Volumes/T7 Shield/algonauts_2025.competitors/stimuli/movies/friends/.git/annex/objects/xj/8Q/MD5E-s478668316--c0c4c79012b453583dcf3f33b8c5cd21.mkv/MD5E-s478668316--c0c4c79012b453583dcf3f33b8c5cd21.mkv' to '/Volumes/T7 Shield/friends/stimuli/s1/friends_s01e06a.mkv'\n"
     ]
    },
    {
     "name": "stderr",
     "output_type": "stream",
     "text": [
      "\n"
     ]
    }
   ],
   "source": [
    "# Example Usage:\n",
    "source_folder = \"/Volumes/T7 Shield/algonauts_2025.competitors/stimuli/movies/friends/s1\" #replace with your source folder\n",
    "target_folder = \"/Volumes/T7 Shield/friends/stimuli/s1\" #replace with your target folder\n",
    "copy_original_mkv_files(source_folder, target_folder)"
   ]
  },
  {
   "cell_type": "code",
   "execution_count": 3,
   "id": "29c56456-0012-4c54-bc13-aa11070876db",
   "metadata": {},
   "outputs": [
    {
     "name": "stderr",
     "output_type": "stream",
     "text": [
      "Copying original MKV files:   2%|▎               | 1/48 [00:00<00:45,  1.02it/s]"
     ]
    },
    {
     "name": "stdout",
     "output_type": "stream",
     "text": [
      "Copied '/Volumes/T7 Shield/algonauts_2025.competitors/stimuli/movies/friends/.git/annex/objects/j4/JP/MD5E-s457732331--25c398a2e22f1d7e0520274a2a98776a.mkv/MD5E-s457732331--25c398a2e22f1d7e0520274a2a98776a.mkv' to '/Volumes/T7 Shield/friends/stimuli/s2/friends_s02e03a.mkv'\n"
     ]
    },
    {
     "name": "stderr",
     "output_type": "stream",
     "text": [
      "Copying original MKV files:   4%|▋               | 2/48 [00:01<00:44,  1.03it/s]"
     ]
    },
    {
     "name": "stdout",
     "output_type": "stream",
     "text": [
      "Copied '/Volumes/T7 Shield/algonauts_2025.competitors/stimuli/movies/friends/.git/annex/objects/7f/qg/MD5E-s456735733--f1951f274df7055d439769a2011f6653.mkv/MD5E-s456735733--f1951f274df7055d439769a2011f6653.mkv' to '/Volumes/T7 Shield/friends/stimuli/s2/friends_s02e15a.mkv'\n"
     ]
    },
    {
     "name": "stderr",
     "output_type": "stream",
     "text": [
      "Copying original MKV files:   6%|█               | 3/48 [00:02<00:44,  1.00it/s]"
     ]
    },
    {
     "name": "stdout",
     "output_type": "stream",
     "text": [
      "Copied '/Volumes/T7 Shield/algonauts_2025.competitors/stimuli/movies/friends/.git/annex/objects/Xq/v4/MD5E-s468029229--b1534ee70b3bef15842681c6a913c5c0.mkv/MD5E-s468029229--b1534ee70b3bef15842681c6a913c5c0.mkv' to '/Volumes/T7 Shield/friends/stimuli/s2/friends_s02e19b.mkv'\n"
     ]
    },
    {
     "name": "stderr",
     "output_type": "stream",
     "text": [
      "Copying original MKV files:   8%|█▎              | 4/48 [00:03<00:43,  1.00it/s]"
     ]
    },
    {
     "name": "stdout",
     "output_type": "stream",
     "text": [
      "Copied '/Volumes/T7 Shield/algonauts_2025.competitors/stimuli/movies/friends/.git/annex/objects/2x/xX/MD5E-s452864269--974bc62153d187c70afa111cbff96580.mkv/MD5E-s452864269--974bc62153d187c70afa111cbff96580.mkv' to '/Volumes/T7 Shield/friends/stimuli/s2/friends_s02e23b.mkv'\n"
     ]
    },
    {
     "name": "stderr",
     "output_type": "stream",
     "text": [
      "Copying original MKV files:  10%|█▋              | 5/48 [00:04<00:43,  1.00s/it]"
     ]
    },
    {
     "name": "stdout",
     "output_type": "stream",
     "text": [
      "Copied '/Volumes/T7 Shield/algonauts_2025.competitors/stimuli/movies/friends/.git/annex/objects/F7/zp/MD5E-s453151203--b46136437bdd97b83c5edbf018e017da.mkv/MD5E-s453151203--b46136437bdd97b83c5edbf018e017da.mkv' to '/Volumes/T7 Shield/friends/stimuli/s2/friends_s02e03b.mkv'\n"
     ]
    },
    {
     "name": "stderr",
     "output_type": "stream",
     "text": [
      "Copying original MKV files:  12%|██              | 6/48 [00:05<00:41,  1.01it/s]"
     ]
    },
    {
     "name": "stdout",
     "output_type": "stream",
     "text": [
      "Copied '/Volumes/T7 Shield/algonauts_2025.competitors/stimuli/movies/friends/.git/annex/objects/zM/8K/MD5E-s456711990--0ac04a6a3623c37dbcf8549d02f38541.mkv/MD5E-s456711990--0ac04a6a3623c37dbcf8549d02f38541.mkv' to '/Volumes/T7 Shield/friends/stimuli/s2/friends_s02e15b.mkv'\n"
     ]
    },
    {
     "name": "stderr",
     "output_type": "stream",
     "text": [
      "Copying original MKV files:  15%|██▎             | 7/48 [00:06<00:40,  1.01it/s]"
     ]
    },
    {
     "name": "stdout",
     "output_type": "stream",
     "text": [
      "Copied '/Volumes/T7 Shield/algonauts_2025.competitors/stimuli/movies/friends/.git/annex/objects/75/7x/MD5E-s469403777--7f4c59806209a0ee6b3d495217c94a85.mkv/MD5E-s469403777--7f4c59806209a0ee6b3d495217c94a85.mkv' to '/Volumes/T7 Shield/friends/stimuli/s2/friends_s02e19a.mkv'\n"
     ]
    },
    {
     "name": "stderr",
     "output_type": "stream",
     "text": [
      "Copying original MKV files:  17%|██▋             | 8/48 [00:07<00:39,  1.01it/s]"
     ]
    },
    {
     "name": "stdout",
     "output_type": "stream",
     "text": [
      "Copied '/Volumes/T7 Shield/algonauts_2025.competitors/stimuli/movies/friends/.git/annex/objects/VP/Z6/MD5E-s447979110--1ca40f2681bd39042315409bf494520c.mkv/MD5E-s447979110--1ca40f2681bd39042315409bf494520c.mkv' to '/Volumes/T7 Shield/friends/stimuli/s2/friends_s02e23a.mkv'\n"
     ]
    },
    {
     "name": "stderr",
     "output_type": "stream",
     "text": [
      "Copying original MKV files:  19%|███             | 9/48 [00:08<00:38,  1.00it/s]"
     ]
    },
    {
     "name": "stdout",
     "output_type": "stream",
     "text": [
      "Copied '/Volumes/T7 Shield/algonauts_2025.competitors/stimuli/movies/friends/.git/annex/objects/79/JW/MD5E-s449623050--63bf72500b39a91fb53aeb8c3a9b5035.mkv/MD5E-s449623050--63bf72500b39a91fb53aeb8c3a9b5035.mkv' to '/Volumes/T7 Shield/friends/stimuli/s2/friends_s02e22a.mkv'\n"
     ]
    },
    {
     "name": "stderr",
     "output_type": "stream",
     "text": [
      "Copying original MKV files:  21%|███▏           | 10/48 [00:09<00:37,  1.01it/s]"
     ]
    },
    {
     "name": "stdout",
     "output_type": "stream",
     "text": [
      "Copied '/Volumes/T7 Shield/algonauts_2025.competitors/stimuli/movies/friends/.git/annex/objects/ZQ/q4/MD5E-s449881081--1da2aecf728d25acd3720a28ca3f32c2.mkv/MD5E-s449881081--1da2aecf728d25acd3720a28ca3f32c2.mkv' to '/Volumes/T7 Shield/friends/stimuli/s2/friends_s02e18a.mkv'\n"
     ]
    },
    {
     "name": "stderr",
     "output_type": "stream",
     "text": [
      "Copying original MKV files:  23%|███▍           | 11/48 [00:10<00:36,  1.01it/s]"
     ]
    },
    {
     "name": "stdout",
     "output_type": "stream",
     "text": [
      "Copied '/Volumes/T7 Shield/algonauts_2025.competitors/stimuli/movies/friends/.git/annex/objects/Fj/x7/MD5E-s466140903--1b35b2054f56f1de65dd7ab529491d83.mkv/MD5E-s466140903--1b35b2054f56f1de65dd7ab529491d83.mkv' to '/Volumes/T7 Shield/friends/stimuli/s2/friends_s02e14b.mkv'\n"
     ]
    },
    {
     "name": "stderr",
     "output_type": "stream",
     "text": [
      "Copying original MKV files:  25%|███▊           | 12/48 [00:11<00:35,  1.02it/s]"
     ]
    },
    {
     "name": "stdout",
     "output_type": "stream",
     "text": [
      "Copied '/Volumes/T7 Shield/algonauts_2025.competitors/stimuli/movies/friends/.git/annex/objects/Kg/7f/MD5E-s441471209--786347ed5ba381a565725076c318392e.mkv/MD5E-s441471209--786347ed5ba381a565725076c318392e.mkv' to '/Volumes/T7 Shield/friends/stimuli/s2/friends_s02e02b.mkv'\n"
     ]
    },
    {
     "name": "stderr",
     "output_type": "stream",
     "text": [
      "Copying original MKV files:  27%|████           | 13/48 [00:12<00:34,  1.03it/s]"
     ]
    },
    {
     "name": "stdout",
     "output_type": "stream",
     "text": [
      "Copied '/Volumes/T7 Shield/algonauts_2025.competitors/stimuli/movies/friends/.git/annex/objects/4X/0F/MD5E-s444493858--018483be3248b8e754efd302b23eeff5.mkv/MD5E-s444493858--018483be3248b8e754efd302b23eeff5.mkv' to '/Volumes/T7 Shield/friends/stimuli/s2/friends_s02e22b.mkv'\n"
     ]
    },
    {
     "name": "stderr",
     "output_type": "stream",
     "text": [
      "Copying original MKV files:  29%|████▍          | 14/48 [00:13<00:33,  1.00it/s]"
     ]
    },
    {
     "name": "stdout",
     "output_type": "stream",
     "text": [
      "Copied '/Volumes/T7 Shield/algonauts_2025.competitors/stimuli/movies/friends/.git/annex/objects/KP/v3/MD5E-s455504374--c798050401e2bb4599bd0fd0a036a09d.mkv/MD5E-s455504374--c798050401e2bb4599bd0fd0a036a09d.mkv' to '/Volumes/T7 Shield/friends/stimuli/s2/friends_s02e18b.mkv'\n"
     ]
    },
    {
     "name": "stderr",
     "output_type": "stream",
     "text": [
      "Copying original MKV files:  31%|████▋          | 15/48 [00:14<00:32,  1.00it/s]"
     ]
    },
    {
     "name": "stdout",
     "output_type": "stream",
     "text": [
      "Copied '/Volumes/T7 Shield/algonauts_2025.competitors/stimuli/movies/friends/.git/annex/objects/vV/3p/MD5E-s466521123--633c8678cab5463990f294a70316e826.mkv/MD5E-s466521123--633c8678cab5463990f294a70316e826.mkv' to '/Volumes/T7 Shield/friends/stimuli/s2/friends_s02e14a.mkv'\n"
     ]
    },
    {
     "name": "stderr",
     "output_type": "stream",
     "text": [
      "Copying original MKV files:  33%|█████          | 16/48 [00:15<00:31,  1.02it/s]"
     ]
    },
    {
     "name": "stdout",
     "output_type": "stream",
     "text": [
      "Copied '/Volumes/T7 Shield/algonauts_2025.competitors/stimuli/movies/friends/.git/annex/objects/9j/3J/MD5E-s443623119--cffd255a1b556d13632bf65c56ec97f3.mkv/MD5E-s443623119--cffd255a1b556d13632bf65c56ec97f3.mkv' to '/Volumes/T7 Shield/friends/stimuli/s2/friends_s02e02a.mkv'\n"
     ]
    },
    {
     "name": "stderr",
     "output_type": "stream",
     "text": [
      "Copying original MKV files:  35%|█████▎         | 17/48 [00:16<00:30,  1.03it/s]"
     ]
    },
    {
     "name": "stdout",
     "output_type": "stream",
     "text": [
      "Copied '/Volumes/T7 Shield/algonauts_2025.competitors/stimuli/movies/friends/.git/annex/objects/3f/5v/MD5E-s447754794--da940573d3c25eec036236c2d3c1b37a.mkv/MD5E-s447754794--da940573d3c25eec036236c2d3c1b37a.mkv' to '/Volumes/T7 Shield/friends/stimuli/s2/friends_s02e05b.mkv'\n"
     ]
    },
    {
     "name": "stderr",
     "output_type": "stream",
     "text": [
      "Copying original MKV files:  38%|█████▋         | 18/48 [00:17<00:29,  1.03it/s]"
     ]
    },
    {
     "name": "stdout",
     "output_type": "stream",
     "text": [
      "Copied '/Volumes/T7 Shield/algonauts_2025.competitors/stimuli/movies/friends/.git/annex/objects/8j/0m/MD5E-s444789856--a017b6327bc218597fb8e280799eb59a.mkv/MD5E-s444789856--a017b6327bc218597fb8e280799eb59a.mkv' to '/Volumes/T7 Shield/friends/stimuli/s2/friends_s02e09a.mkv'\n"
     ]
    },
    {
     "name": "stderr",
     "output_type": "stream",
     "text": [
      "Copying original MKV files:  40%|█████▉         | 19/48 [00:18<00:29,  1.01s/it]"
     ]
    },
    {
     "name": "stdout",
     "output_type": "stream",
     "text": [
      "Copied '/Volumes/T7 Shield/algonauts_2025.competitors/stimuli/movies/friends/.git/annex/objects/z5/6p/MD5E-s484166774--21a1a93745dd42dbbed3e26ad51db7df.mkv/MD5E-s484166774--21a1a93745dd42dbbed3e26ad51db7df.mkv' to '/Volumes/T7 Shield/friends/stimuli/s2/friends_s02e13b.mkv'\n"
     ]
    },
    {
     "name": "stderr",
     "output_type": "stream",
     "text": [
      "Copying original MKV files:  42%|██████▎        | 20/48 [00:19<00:27,  1.01it/s]"
     ]
    },
    {
     "name": "stdout",
     "output_type": "stream",
     "text": [
      "Copied '/Volumes/T7 Shield/algonauts_2025.competitors/stimuli/movies/friends/.git/annex/objects/6g/wf/MD5E-s442540898--0ef3f9370f99a65ab5ce26048cb8d375.mkv/MD5E-s442540898--0ef3f9370f99a65ab5ce26048cb8d375.mkv' to '/Volumes/T7 Shield/friends/stimuli/s2/friends_s02e05a.mkv'\n"
     ]
    },
    {
     "name": "stderr",
     "output_type": "stream",
     "text": [
      "Copying original MKV files:  44%|██████▌        | 21/48 [00:20<00:26,  1.02it/s]"
     ]
    },
    {
     "name": "stdout",
     "output_type": "stream",
     "text": [
      "Copied '/Volumes/T7 Shield/algonauts_2025.competitors/stimuli/movies/friends/.git/annex/objects/XP/7z/MD5E-s445330229--73e676188b950380a375095c91b5a52e.mkv/MD5E-s445330229--73e676188b950380a375095c91b5a52e.mkv' to '/Volumes/T7 Shield/friends/stimuli/s2/friends_s02e09b.mkv'\n"
     ]
    },
    {
     "name": "stderr",
     "output_type": "stream",
     "text": [
      "Copying original MKV files:  46%|██████▉        | 22/48 [00:21<00:26,  1.00s/it]"
     ]
    },
    {
     "name": "stdout",
     "output_type": "stream",
     "text": [
      "Copied '/Volumes/T7 Shield/algonauts_2025.competitors/stimuli/movies/friends/.git/annex/objects/VZ/p2/MD5E-s480233958--98cce137b79fb66a5d166a4f76c0fb2a.mkv/MD5E-s480233958--98cce137b79fb66a5d166a4f76c0fb2a.mkv' to '/Volumes/T7 Shield/friends/stimuli/s2/friends_s02e13a.mkv'\n"
     ]
    },
    {
     "name": "stderr",
     "output_type": "stream",
     "text": [
      "Copying original MKV files:  48%|███████▏       | 23/48 [00:22<00:25,  1.00s/it]"
     ]
    },
    {
     "name": "stdout",
     "output_type": "stream",
     "text": [
      "Copied '/Volumes/T7 Shield/algonauts_2025.competitors/stimuli/movies/friends/.git/annex/objects/5K/qJ/MD5E-s458814503--88c2f39cd8a92822bdf8dbc93373eb9e.mkv/MD5E-s458814503--88c2f39cd8a92822bdf8dbc93373eb9e.mkv' to '/Volumes/T7 Shield/friends/stimuli/s2/friends_s02e24b.mkv'\n"
     ]
    },
    {
     "name": "stderr",
     "output_type": "stream",
     "text": [
      "Copying original MKV files:  50%|███████▌       | 24/48 [00:23<00:24,  1.03s/it]"
     ]
    },
    {
     "name": "stdout",
     "output_type": "stream",
     "text": [
      "Copied '/Volumes/T7 Shield/algonauts_2025.competitors/stimuli/movies/friends/.git/annex/objects/pf/q8/MD5E-s480445647--22e3710f5111c47a2647e972f8e3d9c4.mkv/MD5E-s480445647--22e3710f5111c47a2647e972f8e3d9c4.mkv' to '/Volumes/T7 Shield/friends/stimuli/s2/friends_s02e12a.mkv'\n"
     ]
    },
    {
     "name": "stderr",
     "output_type": "stream",
     "text": [
      "Copying original MKV files:  52%|███████▊       | 25/48 [00:24<00:23,  1.01s/it]"
     ]
    },
    {
     "name": "stdout",
     "output_type": "stream",
     "text": [
      "Copied '/Volumes/T7 Shield/algonauts_2025.competitors/stimuli/movies/friends/.git/annex/objects/0q/G5/MD5E-s449247707--37e37478623889a0c25bcfc46182b9e5.mkv/MD5E-s449247707--37e37478623889a0c25bcfc46182b9e5.mkv' to '/Volumes/T7 Shield/friends/stimuli/s2/friends_s02e08b.mkv'\n"
     ]
    },
    {
     "name": "stderr",
     "output_type": "stream",
     "text": [
      "Copying original MKV files:  54%|████████▏      | 26/48 [00:25<00:21,  1.01it/s]"
     ]
    },
    {
     "name": "stdout",
     "output_type": "stream",
     "text": [
      "Copied '/Volumes/T7 Shield/algonauts_2025.competitors/stimuli/movies/friends/.git/annex/objects/xM/xX/MD5E-s446936437--ed4832304296d76a01b1a7bded50ff76.mkv/MD5E-s446936437--ed4832304296d76a01b1a7bded50ff76.mkv' to '/Volumes/T7 Shield/friends/stimuli/s2/friends_s02e04a.mkv'\n"
     ]
    },
    {
     "name": "stderr",
     "output_type": "stream",
     "text": [
      "Copying original MKV files:  56%|████████▍      | 27/48 [00:26<00:20,  1.01it/s]"
     ]
    },
    {
     "name": "stdout",
     "output_type": "stream",
     "text": [
      "Copied '/Volumes/T7 Shield/algonauts_2025.competitors/stimuli/movies/friends/.git/annex/objects/M9/vM/MD5E-s461895094--fe43528c3a118ba99ed91b7c14387e3b.mkv/MD5E-s461895094--fe43528c3a118ba99ed91b7c14387e3b.mkv' to '/Volumes/T7 Shield/friends/stimuli/s2/friends_s02e24a.mkv'\n"
     ]
    },
    {
     "name": "stderr",
     "output_type": "stream",
     "text": [
      "Copying original MKV files:  58%|████████▊      | 28/48 [00:27<00:20,  1.02s/it]"
     ]
    },
    {
     "name": "stdout",
     "output_type": "stream",
     "text": [
      "Copied '/Volumes/T7 Shield/algonauts_2025.competitors/stimuli/movies/friends/.git/annex/objects/4x/w1/MD5E-s481320565--023ef6bfff3add35c2d4809b0a5c83cf.mkv/MD5E-s481320565--023ef6bfff3add35c2d4809b0a5c83cf.mkv' to '/Volumes/T7 Shield/friends/stimuli/s2/friends_s02e12b.mkv'\n"
     ]
    },
    {
     "name": "stderr",
     "output_type": "stream",
     "text": [
      "Copying original MKV files:  60%|█████████      | 29/48 [00:28<00:19,  1.00s/it]"
     ]
    },
    {
     "name": "stdout",
     "output_type": "stream",
     "text": [
      "Copied '/Volumes/T7 Shield/algonauts_2025.competitors/stimuli/movies/friends/.git/annex/objects/g4/X3/MD5E-s450133719--7a2a90989cc4f652a6d96aa5eecc45c9.mkv/MD5E-s450133719--7a2a90989cc4f652a6d96aa5eecc45c9.mkv' to '/Volumes/T7 Shield/friends/stimuli/s2/friends_s02e08a.mkv'\n"
     ]
    },
    {
     "name": "stderr",
     "output_type": "stream",
     "text": [
      "Copying original MKV files:  62%|█████████▍     | 30/48 [00:29<00:17,  1.01it/s]"
     ]
    },
    {
     "name": "stdout",
     "output_type": "stream",
     "text": [
      "Copied '/Volumes/T7 Shield/algonauts_2025.competitors/stimuli/movies/friends/.git/annex/objects/WV/pp/MD5E-s452047003--c1df031beacc72260ca3f8ec4fb27b35.mkv/MD5E-s452047003--c1df031beacc72260ca3f8ec4fb27b35.mkv' to '/Volumes/T7 Shield/friends/stimuli/s2/friends_s02e04b.mkv'\n"
     ]
    },
    {
     "name": "stderr",
     "output_type": "stream",
     "text": [
      "Copying original MKV files:  65%|█████████▋     | 31/48 [00:30<00:16,  1.00it/s]"
     ]
    },
    {
     "name": "stdout",
     "output_type": "stream",
     "text": [
      "Copied '/Volumes/T7 Shield/algonauts_2025.competitors/stimuli/movies/friends/.git/annex/objects/qx/zZ/MD5E-s479831538--21b36cbe35c4ac3a0d7e967fbaae2798.mkv/MD5E-s479831538--21b36cbe35c4ac3a0d7e967fbaae2798.mkv' to '/Volumes/T7 Shield/friends/stimuli/s2/friends_s02e11b.mkv'\n"
     ]
    },
    {
     "name": "stderr",
     "output_type": "stream",
     "text": [
      "Copying original MKV files:  67%|██████████     | 32/48 [00:31<00:16,  1.02s/it]"
     ]
    },
    {
     "name": "stdout",
     "output_type": "stream",
     "text": [
      "Copied '/Volumes/T7 Shield/algonauts_2025.competitors/stimuli/movies/friends/.git/annex/objects/fg/wv/MD5E-s486631604--1b6e2dc219b2f996663315ff6a112f79.mkv/MD5E-s486631604--1b6e2dc219b2f996663315ff6a112f79.mkv' to '/Volumes/T7 Shield/friends/stimuli/s2/friends_s02e07b.mkv'\n"
     ]
    },
    {
     "name": "stderr",
     "output_type": "stream",
     "text": [
      "Copying original MKV files:  69%|██████████▎    | 33/48 [00:32<00:15,  1.05s/it]"
     ]
    },
    {
     "name": "stdout",
     "output_type": "stream",
     "text": [
      "Copied '/Volumes/T7 Shield/algonauts_2025.competitors/stimuli/movies/friends/.git/annex/objects/Pz/89/MD5E-s478153088--5bb83da69dc5dd3bc5086d771c325044.mkv/MD5E-s478153088--5bb83da69dc5dd3bc5086d771c325044.mkv' to '/Volumes/T7 Shield/friends/stimuli/s2/friends_s02e11a.mkv'\n"
     ]
    },
    {
     "name": "stderr",
     "output_type": "stream",
     "text": [
      "Copying original MKV files:  71%|██████████▋    | 34/48 [00:34<00:14,  1.05s/it]"
     ]
    },
    {
     "name": "stdout",
     "output_type": "stream",
     "text": [
      "Copied '/Volumes/T7 Shield/algonauts_2025.competitors/stimuli/movies/friends/.git/annex/objects/qF/V7/MD5E-s489228063--46db8a63729e1b9f013c22263ae95b54.mkv/MD5E-s489228063--46db8a63729e1b9f013c22263ae95b54.mkv' to '/Volumes/T7 Shield/friends/stimuli/s2/friends_s02e07a.mkv'\n"
     ]
    },
    {
     "name": "stderr",
     "output_type": "stream",
     "text": [
      "Copying original MKV files:  73%|██████████▉    | 35/48 [00:35<00:13,  1.05s/it]"
     ]
    },
    {
     "name": "stdout",
     "output_type": "stream",
     "text": [
      "Copied '/Volumes/T7 Shield/algonauts_2025.competitors/stimuli/movies/friends/.git/annex/objects/9w/4P/MD5E-s492685750--3cb3201816d4302154feafad96d7c6d0.mkv/MD5E-s492685750--3cb3201816d4302154feafad96d7c6d0.mkv' to '/Volumes/T7 Shield/friends/stimuli/s2/friends_s02e06a.mkv'\n"
     ]
    },
    {
     "name": "stderr",
     "output_type": "stream",
     "text": [
      "Copying original MKV files:  75%|███████████▎   | 36/48 [00:36<00:12,  1.04s/it]"
     ]
    },
    {
     "name": "stdout",
     "output_type": "stream",
     "text": [
      "Copied '/Volumes/T7 Shield/algonauts_2025.competitors/stimuli/movies/friends/.git/annex/objects/zq/vV/MD5E-s470006191--839a99021154d28dfb415522d37fb079.mkv/MD5E-s470006191--839a99021154d28dfb415522d37fb079.mkv' to '/Volumes/T7 Shield/friends/stimuli/s2/friends_s02e10a.mkv'\n"
     ]
    },
    {
     "name": "stderr",
     "output_type": "stream",
     "text": [
      "Copying original MKV files:  77%|███████████▌   | 37/48 [00:37<00:11,  1.06s/it]"
     ]
    },
    {
     "name": "stdout",
     "output_type": "stream",
     "text": [
      "Copied '/Volumes/T7 Shield/algonauts_2025.competitors/stimuli/movies/friends/.git/annex/objects/f5/8v/MD5E-s493737123--f5e24c908e874a2fa7edaf116718268c.mkv/MD5E-s493737123--f5e24c908e874a2fa7edaf116718268c.mkv' to '/Volumes/T7 Shield/friends/stimuli/s2/friends_s02e06b.mkv'\n"
     ]
    },
    {
     "name": "stderr",
     "output_type": "stream",
     "text": [
      "Copying original MKV files:  79%|███████████▉   | 38/48 [00:38<00:10,  1.05s/it]"
     ]
    },
    {
     "name": "stdout",
     "output_type": "stream",
     "text": [
      "Copied '/Volumes/T7 Shield/algonauts_2025.competitors/stimuli/movies/friends/.git/annex/objects/gj/W2/MD5E-s474244755--c4e1ddf7699e5aa806c98f9f0a23f262.mkv/MD5E-s474244755--c4e1ddf7699e5aa806c98f9f0a23f262.mkv' to '/Volumes/T7 Shield/friends/stimuli/s2/friends_s02e10b.mkv'\n"
     ]
    },
    {
     "name": "stderr",
     "output_type": "stream",
     "text": [
      "Copying original MKV files:  81%|████████████▏  | 39/48 [00:39<00:09,  1.04s/it]"
     ]
    },
    {
     "name": "stdout",
     "output_type": "stream",
     "text": [
      "Copied '/Volumes/T7 Shield/algonauts_2025.competitors/stimuli/movies/friends/.git/annex/objects/Q9/J8/MD5E-s468677928--d6920e56aa79826ecf0293498f7eb4e0.mkv/MD5E-s468677928--d6920e56aa79826ecf0293498f7eb4e0.mkv' to '/Volumes/T7 Shield/friends/stimuli/s2/friends_s02e21b.mkv'\n"
     ]
    },
    {
     "name": "stderr",
     "output_type": "stream",
     "text": [
      "Copying original MKV files:  83%|████████████▌  | 40/48 [00:40<00:08,  1.04s/it]"
     ]
    },
    {
     "name": "stdout",
     "output_type": "stream",
     "text": [
      "Copied '/Volumes/T7 Shield/algonauts_2025.competitors/stimuli/movies/friends/.git/annex/objects/f3/JZ/MD5E-s482751329--a71f063cf47e3d0d9e135cea81214c75.mkv/MD5E-s482751329--a71f063cf47e3d0d9e135cea81214c75.mkv' to '/Volumes/T7 Shield/friends/stimuli/s2/friends_s02e17a.mkv'\n"
     ]
    },
    {
     "name": "stderr",
     "output_type": "stream",
     "text": [
      "Copying original MKV files:  85%|████████████▊  | 41/48 [00:41<00:07,  1.03s/it]"
     ]
    },
    {
     "name": "stdout",
     "output_type": "stream",
     "text": [
      "Copied '/Volumes/T7 Shield/algonauts_2025.competitors/stimuli/movies/friends/.git/annex/objects/GK/F9/MD5E-s469754518--a808521446ed08ef0506f1cffe666b1e.mkv/MD5E-s469754518--a808521446ed08ef0506f1cffe666b1e.mkv' to '/Volumes/T7 Shield/friends/stimuli/s2/friends_s02e01a.mkv'\n"
     ]
    },
    {
     "name": "stderr",
     "output_type": "stream",
     "text": [
      "Copying original MKV files:  88%|█████████████▏ | 42/48 [00:42<00:06,  1.04s/it]"
     ]
    },
    {
     "name": "stdout",
     "output_type": "stream",
     "text": [
      "Copied '/Volumes/T7 Shield/algonauts_2025.competitors/stimuli/movies/friends/.git/annex/objects/P7/m2/MD5E-s462064658--cd69ad53d58a45292d7bfed506a60e35.mkv/MD5E-s462064658--cd69ad53d58a45292d7bfed506a60e35.mkv' to '/Volumes/T7 Shield/friends/stimuli/s2/friends_s02e21a.mkv'\n"
     ]
    },
    {
     "name": "stderr",
     "output_type": "stream",
     "text": [
      "Copying original MKV files:  90%|█████████████▍ | 43/48 [00:43<00:05,  1.04s/it]"
     ]
    },
    {
     "name": "stdout",
     "output_type": "stream",
     "text": [
      "Copied '/Volumes/T7 Shield/algonauts_2025.competitors/stimuli/movies/friends/.git/annex/objects/gV/kJ/MD5E-s480734902--1222da3ae14cb7d419fbc2bdb89bac34.mkv/MD5E-s480734902--1222da3ae14cb7d419fbc2bdb89bac34.mkv' to '/Volumes/T7 Shield/friends/stimuli/s2/friends_s02e17b.mkv'\n"
     ]
    },
    {
     "name": "stderr",
     "output_type": "stream",
     "text": [
      "Copying original MKV files:  92%|█████████████▊ | 44/48 [00:44<00:04,  1.03s/it]"
     ]
    },
    {
     "name": "stdout",
     "output_type": "stream",
     "text": [
      "Copied '/Volumes/T7 Shield/algonauts_2025.competitors/stimuli/movies/friends/.git/annex/objects/X9/JZ/MD5E-s467124460--3e453193c48d7db60069344b1629b0d2.mkv/MD5E-s467124460--3e453193c48d7db60069344b1629b0d2.mkv' to '/Volumes/T7 Shield/friends/stimuli/s2/friends_s02e01b.mkv'\n"
     ]
    },
    {
     "name": "stderr",
     "output_type": "stream",
     "text": [
      "Copying original MKV files:  94%|██████████████ | 45/48 [00:45<00:03,  1.03s/it]"
     ]
    },
    {
     "name": "stdout",
     "output_type": "stream",
     "text": [
      "Copied '/Volumes/T7 Shield/algonauts_2025.competitors/stimuli/movies/friends/.git/annex/objects/Pw/F0/MD5E-s474070213--a153f81b8362ba531fa0656879c26f7a.mkv/MD5E-s474070213--a153f81b8362ba531fa0656879c26f7a.mkv' to '/Volumes/T7 Shield/friends/stimuli/s2/friends_s02e16b.mkv'\n"
     ]
    },
    {
     "name": "stderr",
     "output_type": "stream",
     "text": [
      "Copying original MKV files:  96%|██████████████▍| 46/48 [00:46<00:02,  1.01s/it]"
     ]
    },
    {
     "name": "stdout",
     "output_type": "stream",
     "text": [
      "Copied '/Volumes/T7 Shield/algonauts_2025.competitors/stimuli/movies/friends/.git/annex/objects/mM/9F/MD5E-s440333262--9bfaa81f07b08b3b690cb3540108b029.mkv/MD5E-s440333262--9bfaa81f07b08b3b690cb3540108b029.mkv' to '/Volumes/T7 Shield/friends/stimuli/s2/friends_s02e20a.mkv'\n"
     ]
    },
    {
     "name": "stderr",
     "output_type": "stream",
     "text": [
      "Copying original MKV files:  98%|██████████████▋| 47/48 [00:47<00:01,  1.02s/it]"
     ]
    },
    {
     "name": "stdout",
     "output_type": "stream",
     "text": [
      "Copied '/Volumes/T7 Shield/algonauts_2025.competitors/stimuli/movies/friends/.git/annex/objects/ZZ/4G/MD5E-s471139608--c7df165a5f93645f96dee024ea523633.mkv/MD5E-s471139608--c7df165a5f93645f96dee024ea523633.mkv' to '/Volumes/T7 Shield/friends/stimuli/s2/friends_s02e16a.mkv'\n"
     ]
    },
    {
     "name": "stderr",
     "output_type": "stream",
     "text": [
      "Copying original MKV files: 100%|███████████████| 48/48 [00:48<00:00,  1.01s/it]"
     ]
    },
    {
     "name": "stdout",
     "output_type": "stream",
     "text": [
      "Copied '/Volumes/T7 Shield/algonauts_2025.competitors/stimuli/movies/friends/.git/annex/objects/g0/xF/MD5E-s439526609--5a045f5265740cdeac293f69a36b2186.mkv/MD5E-s439526609--5a045f5265740cdeac293f69a36b2186.mkv' to '/Volumes/T7 Shield/friends/stimuli/s2/friends_s02e20b.mkv'\n"
     ]
    },
    {
     "name": "stderr",
     "output_type": "stream",
     "text": [
      "\n"
     ]
    }
   ],
   "source": [
    "source_folder = \"/Volumes/T7 Shield/algonauts_2025.competitors/stimuli/movies/friends/s2\" #replace with your source folder\n",
    "target_folder = \"/Volumes/T7 Shield/friends/stimuli/s2\" #replace with your target folder\n",
    "copy_original_mkv_files(source_folder, target_folder)"
   ]
  },
  {
   "cell_type": "code",
   "execution_count": 4,
   "id": "a83b0f11-de2d-43bf-bacf-143c025c5bda",
   "metadata": {},
   "outputs": [
    {
     "name": "stderr",
     "output_type": "stream",
     "text": [
      "Copying original MKV files:   2%|▎               | 1/50 [00:00<00:47,  1.03it/s]"
     ]
    },
    {
     "name": "stdout",
     "output_type": "stream",
     "text": [
      "Copied '/Volumes/T7 Shield/algonauts_2025.competitors/stimuli/movies/friends/.git/annex/objects/V3/VX/MD5E-s457431005--27b24a4812e438d6126c7b1869b2b73e.mkv/MD5E-s457431005--27b24a4812e438d6126c7b1869b2b73e.mkv' to '/Volumes/T7 Shield/friends/stimuli/s3/friends_s03e22b.mkv'\n"
     ]
    },
    {
     "name": "stderr",
     "output_type": "stream",
     "text": [
      "Copying original MKV files:   4%|▋               | 2/50 [00:01<00:47,  1.01it/s]"
     ]
    },
    {
     "name": "stdout",
     "output_type": "stream",
     "text": [
      "Copied '/Volumes/T7 Shield/algonauts_2025.competitors/stimuli/movies/friends/.git/annex/objects/vx/mX/MD5E-s460470800--e6475b74dfafb2bb30f8936071243b7c.mkv/MD5E-s460470800--e6475b74dfafb2bb30f8936071243b7c.mkv' to '/Volumes/T7 Shield/friends/stimuli/s3/friends_s03e18b.mkv'\n"
     ]
    },
    {
     "name": "stderr",
     "output_type": "stream",
     "text": [
      "Copying original MKV files:   6%|▉               | 3/50 [00:02<00:46,  1.00it/s]"
     ]
    },
    {
     "name": "stdout",
     "output_type": "stream",
     "text": [
      "Copied '/Volumes/T7 Shield/algonauts_2025.competitors/stimuli/movies/friends/.git/annex/objects/MP/VV/MD5E-s450192515--c5a766d6f49129e5c0497119ea91aed0.mkv/MD5E-s450192515--c5a766d6f49129e5c0497119ea91aed0.mkv' to '/Volumes/T7 Shield/friends/stimuli/s3/friends_s03e14a.mkv'\n"
     ]
    },
    {
     "name": "stderr",
     "output_type": "stream",
     "text": [
      "Copying original MKV files:   8%|█▎              | 4/50 [00:03<00:46,  1.01s/it]"
     ]
    },
    {
     "name": "stdout",
     "output_type": "stream",
     "text": [
      "Copied '/Volumes/T7 Shield/algonauts_2025.competitors/stimuli/movies/friends/.git/annex/objects/Z1/ZP/MD5E-s467908196--40dbf46c9b4ac1f7308df09304f2cf9a.mkv/MD5E-s467908196--40dbf46c9b4ac1f7308df09304f2cf9a.mkv' to '/Volumes/T7 Shield/friends/stimuli/s3/friends_s03e02a.mkv'\n"
     ]
    },
    {
     "name": "stderr",
     "output_type": "stream",
     "text": [
      "Copying original MKV files:  10%|█▌              | 5/50 [00:04<00:44,  1.01it/s]"
     ]
    },
    {
     "name": "stdout",
     "output_type": "stream",
     "text": [
      "Copied '/Volumes/T7 Shield/algonauts_2025.competitors/stimuli/movies/friends/.git/annex/objects/Z4/W3/MD5E-s453161712--27c88e1d30b13c14e20ee2d2b6cd8d93.mkv/MD5E-s453161712--27c88e1d30b13c14e20ee2d2b6cd8d93.mkv' to '/Volumes/T7 Shield/friends/stimuli/s3/friends_s03e22a.mkv'\n"
     ]
    },
    {
     "name": "stderr",
     "output_type": "stream",
     "text": [
      "Copying original MKV files:  12%|█▉              | 6/50 [00:05<00:43,  1.01it/s]"
     ]
    },
    {
     "name": "stdout",
     "output_type": "stream",
     "text": [
      "Copied '/Volumes/T7 Shield/algonauts_2025.competitors/stimuli/movies/friends/.git/annex/objects/4J/0m/MD5E-s463197245--5d2337902cb0a8da06c17a7f7cb3a223.mkv/MD5E-s463197245--5d2337902cb0a8da06c17a7f7cb3a223.mkv' to '/Volumes/T7 Shield/friends/stimuli/s3/friends_s03e18a.mkv'\n"
     ]
    },
    {
     "name": "stderr",
     "output_type": "stream",
     "text": [
      "Copying original MKV files:  14%|██▏             | 7/50 [00:06<00:42,  1.01it/s]"
     ]
    },
    {
     "name": "stdout",
     "output_type": "stream",
     "text": [
      "Copied '/Volumes/T7 Shield/algonauts_2025.competitors/stimuli/movies/friends/.git/annex/objects/Wp/p7/MD5E-s451763555--490515e7a61ec088f634641ad1b98599.mkv/MD5E-s451763555--490515e7a61ec088f634641ad1b98599.mkv' to '/Volumes/T7 Shield/friends/stimuli/s3/friends_s03e14b.mkv'\n"
     ]
    },
    {
     "name": "stderr",
     "output_type": "stream",
     "text": [
      "Copying original MKV files:  16%|██▌             | 8/50 [00:08<00:42,  1.02s/it]"
     ]
    },
    {
     "name": "stdout",
     "output_type": "stream",
     "text": [
      "Copied '/Volumes/T7 Shield/algonauts_2025.competitors/stimuli/movies/friends/.git/annex/objects/vv/WX/MD5E-s465570800--5a58f4760f645adbba7602b44aeb0864.mkv/MD5E-s465570800--5a58f4760f645adbba7602b44aeb0864.mkv' to '/Volumes/T7 Shield/friends/stimuli/s3/friends_s03e02b.mkv'\n"
     ]
    },
    {
     "name": "stderr",
     "output_type": "stream",
     "text": [
      "Copying original MKV files:  18%|██▉             | 9/50 [00:08<00:40,  1.01it/s]"
     ]
    },
    {
     "name": "stdout",
     "output_type": "stream",
     "text": [
      "Copied '/Volumes/T7 Shield/algonauts_2025.competitors/stimuli/movies/friends/.git/annex/objects/mJ/Kz/MD5E-s444411927--0d1e068965367d6ea91ed44f09eed89c.mkv/MD5E-s444411927--0d1e068965367d6ea91ed44f09eed89c.mkv' to '/Volumes/T7 Shield/friends/stimuli/s3/friends_s03e03b.mkv'\n"
     ]
    },
    {
     "name": "stderr",
     "output_type": "stream",
     "text": [
      "Copying original MKV files:  20%|███            | 10/50 [00:09<00:39,  1.01it/s]"
     ]
    },
    {
     "name": "stdout",
     "output_type": "stream",
     "text": [
      "Copied '/Volumes/T7 Shield/algonauts_2025.competitors/stimuli/movies/friends/.git/annex/objects/j6/g1/MD5E-s451873761--a89ff6e5db82801adb09e994bd09eab1.mkv/MD5E-s451873761--a89ff6e5db82801adb09e994bd09eab1.mkv' to '/Volumes/T7 Shield/friends/stimuli/s3/friends_s03e15b.mkv'\n"
     ]
    },
    {
     "name": "stderr",
     "output_type": "stream",
     "text": [
      "Copying original MKV files:  22%|███▎           | 11/50 [00:10<00:38,  1.01it/s]"
     ]
    },
    {
     "name": "stdout",
     "output_type": "stream",
     "text": [
      "Copied '/Volumes/T7 Shield/algonauts_2025.competitors/stimuli/movies/friends/.git/annex/objects/p3/6q/MD5E-s459136160--08fb62fcb15190e31d43508fa7e40f10.mkv/MD5E-s459136160--08fb62fcb15190e31d43508fa7e40f10.mkv' to '/Volumes/T7 Shield/friends/stimuli/s3/friends_s03e19a.mkv'\n"
     ]
    },
    {
     "name": "stderr",
     "output_type": "stream",
     "text": [
      "Copying original MKV files:  24%|███▌           | 12/50 [00:11<00:37,  1.01it/s]"
     ]
    },
    {
     "name": "stdout",
     "output_type": "stream",
     "text": [
      "Copied '/Volumes/T7 Shield/algonauts_2025.competitors/stimuli/movies/friends/.git/annex/objects/2z/2P/MD5E-s458953352--4ce96af4b3c73f73805503ce9d639eb6.mkv/MD5E-s458953352--4ce96af4b3c73f73805503ce9d639eb6.mkv' to '/Volumes/T7 Shield/friends/stimuli/s3/friends_s03e23a.mkv'\n"
     ]
    },
    {
     "name": "stderr",
     "output_type": "stream",
     "text": [
      "Copying original MKV files:  26%|███▉           | 13/50 [00:12<00:36,  1.01it/s]"
     ]
    },
    {
     "name": "stdout",
     "output_type": "stream",
     "text": [
      "Copied '/Volumes/T7 Shield/algonauts_2025.competitors/stimuli/movies/friends/.git/annex/objects/gp/36/MD5E-s440213945--463f6ae870160ff1b0cd26214f34ab4e.mkv/MD5E-s440213945--463f6ae870160ff1b0cd26214f34ab4e.mkv' to '/Volumes/T7 Shield/friends/stimuli/s3/friends_s03e03a.mkv'\n"
     ]
    },
    {
     "name": "stderr",
     "output_type": "stream",
     "text": [
      "Copying original MKV files:  28%|████▏          | 14/50 [00:13<00:35,  1.02it/s]"
     ]
    },
    {
     "name": "stdout",
     "output_type": "stream",
     "text": [
      "Copied '/Volumes/T7 Shield/algonauts_2025.competitors/stimuli/movies/friends/.git/annex/objects/9j/17/MD5E-s450691285--57478032f93b17d866a678263f0bf9f8.mkv/MD5E-s450691285--57478032f93b17d866a678263f0bf9f8.mkv' to '/Volumes/T7 Shield/friends/stimuli/s3/friends_s03e15a.mkv'\n"
     ]
    },
    {
     "name": "stderr",
     "output_type": "stream",
     "text": [
      "Copying original MKV files:  30%|████▌          | 15/50 [00:14<00:34,  1.02it/s]"
     ]
    },
    {
     "name": "stdout",
     "output_type": "stream",
     "text": [
      "Copied '/Volumes/T7 Shield/algonauts_2025.competitors/stimuli/movies/friends/.git/annex/objects/5W/0z/MD5E-s459109229--a499d99a603980b333ea220da920ce95.mkv/MD5E-s459109229--a499d99a603980b333ea220da920ce95.mkv' to '/Volumes/T7 Shield/friends/stimuli/s3/friends_s03e19b.mkv'\n"
     ]
    },
    {
     "name": "stderr",
     "output_type": "stream",
     "text": [
      "Copying original MKV files:  32%|████▊          | 16/50 [00:15<00:33,  1.01it/s]"
     ]
    },
    {
     "name": "stdout",
     "output_type": "stream",
     "text": [
      "Copied '/Volumes/T7 Shield/algonauts_2025.competitors/stimuli/movies/friends/.git/annex/objects/Fm/Xx/MD5E-s462669299--5116b01a49c158c1f8c5d71c296406f7.mkv/MD5E-s462669299--5116b01a49c158c1f8c5d71c296406f7.mkv' to '/Volumes/T7 Shield/friends/stimuli/s3/friends_s03e23b.mkv'\n"
     ]
    },
    {
     "name": "stderr",
     "output_type": "stream",
     "text": [
      "Copying original MKV files:  34%|█████          | 17/50 [00:16<00:32,  1.01it/s]"
     ]
    },
    {
     "name": "stdout",
     "output_type": "stream",
     "text": [
      "Copied '/Volumes/T7 Shield/algonauts_2025.competitors/stimuli/movies/friends/.git/annex/objects/zw/27/MD5E-s450693697--0cb4ef836916f293653ce1024dcf2f68.mkv/MD5E-s450693697--0cb4ef836916f293653ce1024dcf2f68.mkv' to '/Volumes/T7 Shield/friends/stimuli/s3/friends_s03e24a.mkv'\n"
     ]
    },
    {
     "name": "stderr",
     "output_type": "stream",
     "text": [
      "Copying original MKV files:  36%|█████▍         | 18/50 [00:17<00:32,  1.01s/it]"
     ]
    },
    {
     "name": "stdout",
     "output_type": "stream",
     "text": [
      "Copied '/Volumes/T7 Shield/algonauts_2025.competitors/stimuli/movies/friends/.git/annex/objects/K8/40/MD5E-s462940861--2b737503fcb8f2b27a4b5970bc352e9e.mkv/MD5E-s462940861--2b737503fcb8f2b27a4b5970bc352e9e.mkv' to '/Volumes/T7 Shield/friends/stimuli/s3/friends_s03e12b.mkv'\n"
     ]
    },
    {
     "name": "stderr",
     "output_type": "stream",
     "text": [
      "Copying original MKV files:  38%|█████▋         | 19/50 [00:18<00:30,  1.01it/s]"
     ]
    },
    {
     "name": "stdout",
     "output_type": "stream",
     "text": [
      "Copied '/Volumes/T7 Shield/algonauts_2025.competitors/stimuli/movies/friends/.git/annex/objects/gQ/00/MD5E-s451249029--8f4e81a14a6cda757567725fc04c09a7.mkv/MD5E-s451249029--8f4e81a14a6cda757567725fc04c09a7.mkv' to '/Volumes/T7 Shield/friends/stimuli/s3/friends_s03e08a.mkv'\n"
     ]
    },
    {
     "name": "stderr",
     "output_type": "stream",
     "text": [
      "Copying original MKV files:  40%|██████         | 20/50 [00:19<00:29,  1.00it/s]"
     ]
    },
    {
     "name": "stdout",
     "output_type": "stream",
     "text": [
      "Copied '/Volumes/T7 Shield/algonauts_2025.competitors/stimuli/movies/friends/.git/annex/objects/6G/93/MD5E-s477018081--72394f8c18c216b805fd8999135c6ac8.mkv/MD5E-s477018081--72394f8c18c216b805fd8999135c6ac8.mkv' to '/Volumes/T7 Shield/friends/stimuli/s3/friends_s03e04b.mkv'\n"
     ]
    },
    {
     "name": "stderr",
     "output_type": "stream",
     "text": [
      "Copying original MKV files:  42%|██████▎        | 21/50 [00:20<00:28,  1.01it/s]"
     ]
    },
    {
     "name": "stdout",
     "output_type": "stream",
     "text": [
      "Copied '/Volumes/T7 Shield/algonauts_2025.competitors/stimuli/movies/friends/.git/annex/objects/Qm/vm/MD5E-s447040952--c76b5a50a10f257698243f9a504fbcad.mkv/MD5E-s447040952--c76b5a50a10f257698243f9a504fbcad.mkv' to '/Volumes/T7 Shield/friends/stimuli/s3/friends_s03e24b.mkv'\n"
     ]
    },
    {
     "name": "stderr",
     "output_type": "stream",
     "text": [
      "Copying original MKV files:  44%|██████▌        | 22/50 [00:21<00:28,  1.00s/it]"
     ]
    },
    {
     "name": "stdout",
     "output_type": "stream",
     "text": [
      "Copied '/Volumes/T7 Shield/algonauts_2025.competitors/stimuli/movies/friends/.git/annex/objects/fK/81/MD5E-s461588143--2a13db6001ee054e35d9ca2aadf66f98.mkv/MD5E-s461588143--2a13db6001ee054e35d9ca2aadf66f98.mkv' to '/Volumes/T7 Shield/friends/stimuli/s3/friends_s03e12a.mkv'\n"
     ]
    },
    {
     "name": "stderr",
     "output_type": "stream",
     "text": [
      "Copying original MKV files:  46%|██████▉        | 23/50 [00:22<00:27,  1.00s/it]"
     ]
    },
    {
     "name": "stdout",
     "output_type": "stream",
     "text": [
      "Copied '/Volumes/T7 Shield/algonauts_2025.competitors/stimuli/movies/friends/.git/annex/objects/G8/0F/MD5E-s451907498--c64f59747043f81bc3885156c19c9663.mkv/MD5E-s451907498--c64f59747043f81bc3885156c19c9663.mkv' to '/Volumes/T7 Shield/friends/stimuli/s3/friends_s03e08b.mkv'\n"
     ]
    },
    {
     "name": "stderr",
     "output_type": "stream",
     "text": [
      "Copying original MKV files:  48%|███████▏       | 24/50 [00:23<00:25,  1.00it/s]"
     ]
    },
    {
     "name": "stdout",
     "output_type": "stream",
     "text": [
      "Copied '/Volumes/T7 Shield/algonauts_2025.competitors/stimuli/movies/friends/.git/annex/objects/Mx/Mg/MD5E-s462461348--d0e9646ffd4b86ef4608b671c0d120de.mkv/MD5E-s462461348--d0e9646ffd4b86ef4608b671c0d120de.mkv' to '/Volumes/T7 Shield/friends/stimuli/s3/friends_s03e04a.mkv'\n"
     ]
    },
    {
     "name": "stderr",
     "output_type": "stream",
     "text": [
      "Copying original MKV files:  50%|███████▌       | 25/50 [00:24<00:25,  1.00s/it]"
     ]
    },
    {
     "name": "stdout",
     "output_type": "stream",
     "text": [
      "Copied '/Volumes/T7 Shield/algonauts_2025.competitors/stimuli/movies/friends/.git/annex/objects/5v/mW/MD5E-s476305816--25e563ca9e3c0c70ebadcdffb5b65774.mkv/MD5E-s476305816--25e563ca9e3c0c70ebadcdffb5b65774.mkv' to '/Volumes/T7 Shield/friends/stimuli/s3/friends_s03e05a.mkv'\n"
     ]
    },
    {
     "name": "stderr",
     "output_type": "stream",
     "text": [
      "Copying original MKV files:  52%|███████▊       | 26/50 [00:25<00:24,  1.01s/it]"
     ]
    },
    {
     "name": "stdout",
     "output_type": "stream",
     "text": [
      "Copied '/Volumes/T7 Shield/algonauts_2025.competitors/stimuli/movies/friends/.git/annex/objects/Q4/vW/MD5E-s476200092--42eb9aa6464ad1d8169717cc6a1d9b88.mkv/MD5E-s476200092--42eb9aa6464ad1d8169717cc6a1d9b88.mkv' to '/Volumes/T7 Shield/friends/stimuli/s3/friends_s03e09b.mkv'\n"
     ]
    },
    {
     "name": "stderr",
     "output_type": "stream",
     "text": [
      "Copying original MKV files:  54%|████████       | 27/50 [00:27<00:23,  1.03s/it]"
     ]
    },
    {
     "name": "stdout",
     "output_type": "stream",
     "text": [
      "Copied '/Volumes/T7 Shield/algonauts_2025.competitors/stimuli/movies/friends/.git/annex/objects/P4/8f/MD5E-s468570778--bb3bc84ceb1cf2af26dae3ebc19f4887.mkv/MD5E-s468570778--bb3bc84ceb1cf2af26dae3ebc19f4887.mkv' to '/Volumes/T7 Shield/friends/stimuli/s3/friends_s03e13a.mkv'\n"
     ]
    },
    {
     "name": "stderr",
     "output_type": "stream",
     "text": [
      "Copying original MKV files:  56%|████████▍      | 28/50 [00:27<00:22,  1.02s/it]"
     ]
    },
    {
     "name": "stdout",
     "output_type": "stream",
     "text": [
      "Copied '/Volumes/T7 Shield/algonauts_2025.competitors/stimuli/movies/friends/.git/annex/objects/mW/j3/MD5E-s468055504--ececf7798d09fe2808fa008e1111a1c4.mkv/MD5E-s468055504--ececf7798d09fe2808fa008e1111a1c4.mkv' to '/Volumes/T7 Shield/friends/stimuli/s3/friends_s03e25b.mkv'\n"
     ]
    },
    {
     "name": "stderr",
     "output_type": "stream",
     "text": [
      "Copying original MKV files:  58%|████████▋      | 29/50 [00:29<00:21,  1.02s/it]"
     ]
    },
    {
     "name": "stdout",
     "output_type": "stream",
     "text": [
      "Copied '/Volumes/T7 Shield/algonauts_2025.competitors/stimuli/movies/friends/.git/annex/objects/k7/57/MD5E-s478259211--0587b2420b6052d1051a3bd11f4de04e.mkv/MD5E-s478259211--0587b2420b6052d1051a3bd11f4de04e.mkv' to '/Volumes/T7 Shield/friends/stimuli/s3/friends_s03e05b.mkv'\n"
     ]
    },
    {
     "name": "stderr",
     "output_type": "stream",
     "text": [
      "Copying original MKV files:  60%|█████████      | 30/50 [00:30<00:20,  1.03s/it]"
     ]
    },
    {
     "name": "stdout",
     "output_type": "stream",
     "text": [
      "Copied '/Volumes/T7 Shield/algonauts_2025.competitors/stimuli/movies/friends/.git/annex/objects/Fz/1q/MD5E-s483319789--a41c6cf0febbb8f3e8ec91548df99032.mkv/MD5E-s483319789--a41c6cf0febbb8f3e8ec91548df99032.mkv' to '/Volumes/T7 Shield/friends/stimuli/s3/friends_s03e09a.mkv'\n"
     ]
    },
    {
     "name": "stderr",
     "output_type": "stream",
     "text": [
      "Copying original MKV files:  62%|█████████▎     | 31/50 [00:31<00:19,  1.02s/it]"
     ]
    },
    {
     "name": "stdout",
     "output_type": "stream",
     "text": [
      "Copied '/Volumes/T7 Shield/algonauts_2025.competitors/stimuli/movies/friends/.git/annex/objects/2W/JV/MD5E-s464577401--51979d2607a87df03e1de231640d10a7.mkv/MD5E-s464577401--51979d2607a87df03e1de231640d10a7.mkv' to '/Volumes/T7 Shield/friends/stimuli/s3/friends_s03e13b.mkv'\n"
     ]
    },
    {
     "name": "stderr",
     "output_type": "stream",
     "text": [
      "Copying original MKV files:  64%|█████████▌     | 32/50 [00:32<00:18,  1.03s/it]"
     ]
    },
    {
     "name": "stdout",
     "output_type": "stream",
     "text": [
      "Copied '/Volumes/T7 Shield/algonauts_2025.competitors/stimuli/movies/friends/.git/annex/objects/w3/50/MD5E-s472088220--f3622f55883170d09d0120d09eb3696d.mkv/MD5E-s472088220--f3622f55883170d09d0120d09eb3696d.mkv' to '/Volumes/T7 Shield/friends/stimuli/s3/friends_s03e25a.mkv'\n"
     ]
    },
    {
     "name": "stderr",
     "output_type": "stream",
     "text": [
      "Copying original MKV files:  66%|█████████▉     | 33/50 [00:33<00:17,  1.02s/it]"
     ]
    },
    {
     "name": "stdout",
     "output_type": "stream",
     "text": [
      "Copied '/Volumes/T7 Shield/algonauts_2025.competitors/stimuli/movies/friends/.git/annex/objects/9j/24/MD5E-s456431399--b207c4f704ccf9161d43c89866189b3e.mkv/MD5E-s456431399--b207c4f704ccf9161d43c89866189b3e.mkv' to '/Volumes/T7 Shield/friends/stimuli/s3/friends_s03e06b.mkv'\n"
     ]
    },
    {
     "name": "stderr",
     "output_type": "stream",
     "text": [
      "Copying original MKV files:  68%|██████████▏    | 34/50 [00:34<00:15,  1.00it/s]"
     ]
    },
    {
     "name": "stdout",
     "output_type": "stream",
     "text": [
      "Copied '/Volumes/T7 Shield/algonauts_2025.competitors/stimuli/movies/friends/.git/annex/objects/zw/f6/MD5E-s445148926--9f546316c60c25a7c29ca87e94023449.mkv/MD5E-s445148926--9f546316c60c25a7c29ca87e94023449.mkv' to '/Volumes/T7 Shield/friends/stimuli/s3/friends_s03e10b.mkv'\n"
     ]
    },
    {
     "name": "stderr",
     "output_type": "stream",
     "text": [
      "Copying original MKV files:  70%|██████████▌    | 35/50 [00:35<00:14,  1.00it/s]"
     ]
    },
    {
     "name": "stdout",
     "output_type": "stream",
     "text": [
      "Copied '/Volumes/T7 Shield/algonauts_2025.competitors/stimuli/movies/friends/.git/annex/objects/P7/4f/MD5E-s458294421--215d36aa70ef6ac8220f4e9ce588a28c.mkv/MD5E-s458294421--215d36aa70ef6ac8220f4e9ce588a28c.mkv' to '/Volumes/T7 Shield/friends/stimuli/s3/friends_s03e06a.mkv'\n"
     ]
    },
    {
     "name": "stderr",
     "output_type": "stream",
     "text": [
      "Copying original MKV files:  72%|██████████▊    | 36/50 [00:36<00:13,  1.01it/s]"
     ]
    },
    {
     "name": "stdout",
     "output_type": "stream",
     "text": [
      "Copied '/Volumes/T7 Shield/algonauts_2025.competitors/stimuli/movies/friends/.git/annex/objects/wm/Fv/MD5E-s444005287--34b8d343201de115a0a31d50a1c28fc9.mkv/MD5E-s444005287--34b8d343201de115a0a31d50a1c28fc9.mkv' to '/Volumes/T7 Shield/friends/stimuli/s3/friends_s03e10a.mkv'\n"
     ]
    },
    {
     "name": "stderr",
     "output_type": "stream",
     "text": [
      "Copying original MKV files:  74%|███████████    | 37/50 [00:37<00:12,  1.01it/s]"
     ]
    },
    {
     "name": "stdout",
     "output_type": "stream",
     "text": [
      "Copied '/Volumes/T7 Shield/algonauts_2025.competitors/stimuli/movies/friends/.git/annex/objects/Vq/WZ/MD5E-s449678796--c0fc972ccb8f4f8d5e39449301c72d50.mkv/MD5E-s449678796--c0fc972ccb8f4f8d5e39449301c72d50.mkv' to '/Volumes/T7 Shield/friends/stimuli/s3/friends_s03e11a.mkv'\n"
     ]
    },
    {
     "name": "stderr",
     "output_type": "stream",
     "text": [
      "Copying original MKV files:  76%|███████████▍   | 38/50 [00:38<00:11,  1.01it/s]"
     ]
    },
    {
     "name": "stdout",
     "output_type": "stream",
     "text": [
      "Copied '/Volumes/T7 Shield/algonauts_2025.competitors/stimuli/movies/friends/.git/annex/objects/xf/K8/MD5E-s458188078--4fe94c70a5726a41e3fdad1827f81fac.mkv/MD5E-s458188078--4fe94c70a5726a41e3fdad1827f81fac.mkv' to '/Volumes/T7 Shield/friends/stimuli/s3/friends_s03e07a.mkv'\n"
     ]
    },
    {
     "name": "stderr",
     "output_type": "stream",
     "text": [
      "Copying original MKV files:  78%|███████████▋   | 39/50 [00:38<00:10,  1.02it/s]"
     ]
    },
    {
     "name": "stdout",
     "output_type": "stream",
     "text": [
      "Copied '/Volumes/T7 Shield/algonauts_2025.competitors/stimuli/movies/friends/.git/annex/objects/0k/X7/MD5E-s447998650--f80535896f83aed6a353ad96fff8b104.mkv/MD5E-s447998650--f80535896f83aed6a353ad96fff8b104.mkv' to '/Volumes/T7 Shield/friends/stimuli/s3/friends_s03e11b.mkv'\n"
     ]
    },
    {
     "name": "stderr",
     "output_type": "stream",
     "text": [
      "Copying original MKV files:  80%|████████████   | 40/50 [00:39<00:09,  1.02it/s]"
     ]
    },
    {
     "name": "stdout",
     "output_type": "stream",
     "text": [
      "Copied '/Volumes/T7 Shield/algonauts_2025.competitors/stimuli/movies/friends/.git/annex/objects/F8/11/MD5E-s459810974--0a0c45f3363fe9850cfd558cfb868125.mkv/MD5E-s459810974--0a0c45f3363fe9850cfd558cfb868125.mkv' to '/Volumes/T7 Shield/friends/stimuli/s3/friends_s03e07b.mkv'\n"
     ]
    },
    {
     "name": "stderr",
     "output_type": "stream",
     "text": [
      "Copying original MKV files:  82%|████████████▎  | 41/50 [00:41<00:09,  1.00s/it]"
     ]
    },
    {
     "name": "stdout",
     "output_type": "stream",
     "text": [
      "Copied '/Volumes/T7 Shield/algonauts_2025.competitors/stimuli/movies/friends/.git/annex/objects/kM/XM/MD5E-s459627198--b9bbd602974ea700d53f31fb04a1bcf6.mkv/MD5E-s459627198--b9bbd602974ea700d53f31fb04a1bcf6.mkv' to '/Volumes/T7 Shield/friends/stimuli/s3/friends_s03e16a.mkv'\n"
     ]
    },
    {
     "name": "stderr",
     "output_type": "stream",
     "text": [
      "Copying original MKV files:  84%|████████████▌  | 42/50 [00:41<00:07,  1.01it/s]"
     ]
    },
    {
     "name": "stdout",
     "output_type": "stream",
     "text": [
      "Copied '/Volumes/T7 Shield/algonauts_2025.competitors/stimuli/movies/friends/.git/annex/objects/Xj/xQ/MD5E-s453207880--1f9e0786a1c02456c8d1872ddf906663.mkv/MD5E-s453207880--1f9e0786a1c02456c8d1872ddf906663.mkv' to '/Volumes/T7 Shield/friends/stimuli/s3/friends_s03e20b.mkv'\n"
     ]
    },
    {
     "name": "stderr",
     "output_type": "stream",
     "text": [
      "Copying original MKV files:  86%|████████████▉  | 43/50 [00:42<00:06,  1.01it/s]"
     ]
    },
    {
     "name": "stdout",
     "output_type": "stream",
     "text": [
      "Copied '/Volumes/T7 Shield/algonauts_2025.competitors/stimuli/movies/friends/.git/annex/objects/V7/j1/MD5E-s458229070--66978c01383eeec08a90cfd616644803.mkv/MD5E-s458229070--66978c01383eeec08a90cfd616644803.mkv' to '/Volumes/T7 Shield/friends/stimuli/s3/friends_s03e16b.mkv'\n"
     ]
    },
    {
     "name": "stderr",
     "output_type": "stream",
     "text": [
      "Copying original MKV files:  88%|█████████████▏ | 44/50 [00:43<00:05,  1.01it/s]"
     ]
    },
    {
     "name": "stdout",
     "output_type": "stream",
     "text": [
      "Copied '/Volumes/T7 Shield/algonauts_2025.competitors/stimuli/movies/friends/.git/annex/objects/k0/qV/MD5E-s455922948--49adedb4f487233d8295d14f0e11f9e9.mkv/MD5E-s455922948--49adedb4f487233d8295d14f0e11f9e9.mkv' to '/Volumes/T7 Shield/friends/stimuli/s3/friends_s03e20a.mkv'\n"
     ]
    },
    {
     "name": "stderr",
     "output_type": "stream",
     "text": [
      "Copying original MKV files:  90%|█████████████▌ | 45/50 [00:44<00:04,  1.02it/s]"
     ]
    },
    {
     "name": "stdout",
     "output_type": "stream",
     "text": [
      "Copied '/Volumes/T7 Shield/algonauts_2025.competitors/stimuli/movies/friends/.git/annex/objects/16/1z/MD5E-s454387724--47c8db8555b906bc6d6b7fd16fc798be.mkv/MD5E-s454387724--47c8db8555b906bc6d6b7fd16fc798be.mkv' to '/Volumes/T7 Shield/friends/stimuli/s3/friends_s03e21a.mkv'\n"
     ]
    },
    {
     "name": "stderr",
     "output_type": "stream",
     "text": [
      "Copying original MKV files:  92%|█████████████▊ | 46/50 [00:45<00:03,  1.01it/s]"
     ]
    },
    {
     "name": "stdout",
     "output_type": "stream",
     "text": [
      "Copied '/Volumes/T7 Shield/algonauts_2025.competitors/stimuli/movies/friends/.git/annex/objects/9p/w1/MD5E-s445135735--dfe44ec71269eff59ecc29a400ebbcb0.mkv/MD5E-s445135735--dfe44ec71269eff59ecc29a400ebbcb0.mkv' to '/Volumes/T7 Shield/friends/stimuli/s3/friends_s03e17b.mkv'\n"
     ]
    },
    {
     "name": "stderr",
     "output_type": "stream",
     "text": [
      "Copying original MKV files:  94%|██████████████ | 47/50 [00:46<00:03,  1.00s/it]"
     ]
    },
    {
     "name": "stdout",
     "output_type": "stream",
     "text": [
      "Copied '/Volumes/T7 Shield/algonauts_2025.competitors/stimuli/movies/friends/.git/annex/objects/Qg/kx/MD5E-s476843006--2fd461b36a163b77f1175e5691ee9035.mkv/MD5E-s476843006--2fd461b36a163b77f1175e5691ee9035.mkv' to '/Volumes/T7 Shield/friends/stimuli/s3/friends_s03e01b.mkv'\n"
     ]
    },
    {
     "name": "stderr",
     "output_type": "stream",
     "text": [
      "Copying original MKV files:  96%|██████████████▍| 48/50 [00:47<00:01,  1.01it/s]"
     ]
    },
    {
     "name": "stdout",
     "output_type": "stream",
     "text": [
      "Copied '/Volumes/T7 Shield/algonauts_2025.competitors/stimuli/movies/friends/.git/annex/objects/wG/Xf/MD5E-s448409317--9288ff9c87d3130ec3ebf5be88f10e28.mkv/MD5E-s448409317--9288ff9c87d3130ec3ebf5be88f10e28.mkv' to '/Volumes/T7 Shield/friends/stimuli/s3/friends_s03e21b.mkv'\n"
     ]
    },
    {
     "name": "stderr",
     "output_type": "stream",
     "text": [
      "Copying original MKV files:  98%|██████████████▋| 49/50 [00:48<00:00,  1.02it/s]"
     ]
    },
    {
     "name": "stdout",
     "output_type": "stream",
     "text": [
      "Copied '/Volumes/T7 Shield/algonauts_2025.competitors/stimuli/movies/friends/.git/annex/objects/01/G1/MD5E-s446519473--0d8be30a2d86258e9b06933751bb8446.mkv/MD5E-s446519473--0d8be30a2d86258e9b06933751bb8446.mkv' to '/Volumes/T7 Shield/friends/stimuli/s3/friends_s03e17a.mkv'\n"
     ]
    },
    {
     "name": "stderr",
     "output_type": "stream",
     "text": [
      "Copying original MKV files: 100%|███████████████| 50/50 [00:49<00:00,  1.00it/s]"
     ]
    },
    {
     "name": "stdout",
     "output_type": "stream",
     "text": [
      "Copied '/Volumes/T7 Shield/algonauts_2025.competitors/stimuli/movies/friends/.git/annex/objects/m1/Qg/MD5E-s484353723--6f100d83db32f40c3cd71588bd6a05bd.mkv/MD5E-s484353723--6f100d83db32f40c3cd71588bd6a05bd.mkv' to '/Volumes/T7 Shield/friends/stimuli/s3/friends_s03e01a.mkv'\n"
     ]
    },
    {
     "name": "stderr",
     "output_type": "stream",
     "text": [
      "\n"
     ]
    }
   ],
   "source": [
    "source_folder = \"/Volumes/T7 Shield/algonauts_2025.competitors/stimuli/movies/friends/s3\" #replace with your source folder\n",
    "target_folder = \"/Volumes/T7 Shield/friends/stimuli/s3\" #replace with your target folder\n",
    "copy_original_mkv_files(source_folder, target_folder)"
   ]
  },
  {
   "cell_type": "code",
   "execution_count": 5,
   "id": "ca23cbe2-d2b4-437b-ba02-ad3816abec5a",
   "metadata": {},
   "outputs": [
    {
     "name": "stderr",
     "output_type": "stream",
     "text": [
      "Copying original MKV files:   2%|▎               | 1/48 [00:00<00:17,  2.63it/s]"
     ]
    },
    {
     "name": "stdout",
     "output_type": "stream",
     "text": [
      "Copied '/Volumes/T7 Shield/algonauts_2025.competitors/stimuli/movies/friends/.git/annex/objects/Kz/W3/MD5E-s152061792--61d54933bca1540677c51d5d09f4e53d.mkv/MD5E-s152061792--61d54933bca1540677c51d5d09f4e53d.mkv' to '/Volumes/T7 Shield/friends/stimuli/s4/friends_s04e10a.mkv'\n"
     ]
    },
    {
     "name": "stderr",
     "output_type": "stream",
     "text": [
      "Copying original MKV files:   4%|▋               | 2/48 [00:00<00:16,  2.73it/s]"
     ]
    },
    {
     "name": "stdout",
     "output_type": "stream",
     "text": [
      "Copied '/Volumes/T7 Shield/algonauts_2025.competitors/stimuli/movies/friends/.git/annex/objects/31/V6/MD5E-s156530736--7fed3088142a6d2bb93fbf36b723936c.mkv/MD5E-s156530736--7fed3088142a6d2bb93fbf36b723936c.mkv' to '/Volumes/T7 Shield/friends/stimuli/s4/friends_s04e06a.mkv'\n"
     ]
    },
    {
     "name": "stderr",
     "output_type": "stream",
     "text": [
      "Copying original MKV files:   6%|█               | 3/48 [00:01<00:15,  2.82it/s]"
     ]
    },
    {
     "name": "stdout",
     "output_type": "stream",
     "text": [
      "Copied '/Volumes/T7 Shield/algonauts_2025.competitors/stimuli/movies/friends/.git/annex/objects/qK/Zw/MD5E-s153188654--b371dff59c53a34ed8a10467fd089f9c.mkv/MD5E-s153188654--b371dff59c53a34ed8a10467fd089f9c.mkv' to '/Volumes/T7 Shield/friends/stimuli/s4/friends_s04e10b.mkv'\n"
     ]
    },
    {
     "name": "stderr",
     "output_type": "stream",
     "text": [
      "Copying original MKV files:   8%|█▎              | 4/48 [00:01<00:15,  2.85it/s]"
     ]
    },
    {
     "name": "stdout",
     "output_type": "stream",
     "text": [
      "Copied '/Volumes/T7 Shield/algonauts_2025.competitors/stimuli/movies/friends/.git/annex/objects/9q/Zz/MD5E-s155349272--c710b5047919982deba38c56fa8be4d4.mkv/MD5E-s155349272--c710b5047919982deba38c56fa8be4d4.mkv' to '/Volumes/T7 Shield/friends/stimuli/s4/friends_s04e06b.mkv'\n"
     ]
    },
    {
     "name": "stderr",
     "output_type": "stream",
     "text": [
      "Copying original MKV files:  10%|█▋              | 5/48 [00:01<00:15,  2.80it/s]"
     ]
    },
    {
     "name": "stdout",
     "output_type": "stream",
     "text": [
      "Copied '/Volumes/T7 Shield/algonauts_2025.competitors/stimuli/movies/friends/.git/annex/objects/jK/9f/MD5E-s169267904--0a60d37e0f08e379f5ebc5a8b279f15b.mkv/MD5E-s169267904--0a60d37e0f08e379f5ebc5a8b279f15b.mkv' to '/Volumes/T7 Shield/friends/stimuli/s4/friends_s04e07b.mkv'\n"
     ]
    },
    {
     "name": "stderr",
     "output_type": "stream",
     "text": [
      "Copying original MKV files:  12%|██              | 6/48 [00:02<00:15,  2.79it/s]"
     ]
    },
    {
     "name": "stdout",
     "output_type": "stream",
     "text": [
      "Copied '/Volumes/T7 Shield/algonauts_2025.competitors/stimuli/movies/friends/.git/annex/objects/Vq/m1/MD5E-s164194016--8d5406e66ac0adf56af81a3735bc6e6c.mkv/MD5E-s164194016--8d5406e66ac0adf56af81a3735bc6e6c.mkv' to '/Volumes/T7 Shield/friends/stimuli/s4/friends_s04e11b.mkv'\n"
     ]
    },
    {
     "name": "stderr",
     "output_type": "stream",
     "text": [
      "Copying original MKV files:  15%|██▎             | 7/48 [00:02<00:14,  2.76it/s]"
     ]
    },
    {
     "name": "stdout",
     "output_type": "stream",
     "text": [
      "Copied '/Volumes/T7 Shield/algonauts_2025.competitors/stimuli/movies/friends/.git/annex/objects/ZG/W1/MD5E-s167970780--e03fa3ed6bb51a5767893f5a1b32aeef.mkv/MD5E-s167970780--e03fa3ed6bb51a5767893f5a1b32aeef.mkv' to '/Volumes/T7 Shield/friends/stimuli/s4/friends_s04e07a.mkv'\n"
     ]
    },
    {
     "name": "stderr",
     "output_type": "stream",
     "text": [
      "Copying original MKV files:  17%|██▋             | 8/48 [00:02<00:14,  2.77it/s]"
     ]
    },
    {
     "name": "stdout",
     "output_type": "stream",
     "text": [
      "Copied '/Volumes/T7 Shield/algonauts_2025.competitors/stimuli/movies/friends/.git/annex/objects/2z/WV/MD5E-s161517977--c93604644b65bc36de9a4d1c15a3f17e.mkv/MD5E-s161517977--c93604644b65bc36de9a4d1c15a3f17e.mkv' to '/Volumes/T7 Shield/friends/stimuli/s4/friends_s04e11a.mkv'\n"
     ]
    },
    {
     "name": "stderr",
     "output_type": "stream",
     "text": [
      "Copying original MKV files:  19%|███             | 9/48 [00:03<00:13,  2.84it/s]"
     ]
    },
    {
     "name": "stdout",
     "output_type": "stream",
     "text": [
      "Copied '/Volumes/T7 Shield/algonauts_2025.competitors/stimuli/movies/friends/.git/annex/objects/3J/64/MD5E-s151632077--05f420abcba5d6b4f7ab00bd6426fc48.mkv/MD5E-s151632077--05f420abcba5d6b4f7ab00bd6426fc48.mkv' to '/Volumes/T7 Shield/friends/stimuli/s4/friends_s04e20a.mkv'\n"
     ]
    },
    {
     "name": "stderr",
     "output_type": "stream",
     "text": [
      "Copying original MKV files:  21%|███▏           | 10/48 [00:03<00:13,  2.76it/s]"
     ]
    },
    {
     "name": "stdout",
     "output_type": "stream",
     "text": [
      "Copied '/Volumes/T7 Shield/algonauts_2025.competitors/stimuli/movies/friends/.git/annex/objects/jJ/p9/MD5E-s165242415--fb40ff4d7197fd36df195b8500d33384.mkv/MD5E-s165242415--fb40ff4d7197fd36df195b8500d33384.mkv' to '/Volumes/T7 Shield/friends/stimuli/s4/friends_s04e16b.mkv'\n"
     ]
    },
    {
     "name": "stderr",
     "output_type": "stream",
     "text": [
      "Copying original MKV files:  23%|███▍           | 11/48 [00:03<00:13,  2.83it/s]"
     ]
    },
    {
     "name": "stdout",
     "output_type": "stream",
     "text": [
      "Copied '/Volumes/T7 Shield/algonauts_2025.competitors/stimuli/movies/friends/.git/annex/objects/j0/QV/MD5E-s149634614--6fc15ccb82fd1b702cf238e03cdfe56e.mkv/MD5E-s149634614--6fc15ccb82fd1b702cf238e03cdfe56e.mkv' to '/Volumes/T7 Shield/friends/stimuli/s4/friends_s04e20b.mkv'\n"
     ]
    },
    {
     "name": "stderr",
     "output_type": "stream",
     "text": [
      "Copying original MKV files:  25%|███▊           | 12/48 [00:04<00:12,  2.80it/s]"
     ]
    },
    {
     "name": "stdout",
     "output_type": "stream",
     "text": [
      "Copied '/Volumes/T7 Shield/algonauts_2025.competitors/stimuli/movies/friends/.git/annex/objects/F4/qz/MD5E-s165033562--4a0b9f187d61d7e57ad3906a7f7d0cb0.mkv/MD5E-s165033562--4a0b9f187d61d7e57ad3906a7f7d0cb0.mkv' to '/Volumes/T7 Shield/friends/stimuli/s4/friends_s04e16a.mkv'\n"
     ]
    },
    {
     "name": "stderr",
     "output_type": "stream",
     "text": [
      "Copying original MKV files:  27%|████           | 13/48 [00:04<00:12,  2.76it/s]"
     ]
    },
    {
     "name": "stdout",
     "output_type": "stream",
     "text": [
      "Copied '/Volumes/T7 Shield/algonauts_2025.competitors/stimuli/movies/friends/.git/annex/objects/mg/9K/MD5E-s158617704--dea6189f23cbc5989b32d573ddb3dab4.mkv/MD5E-s158617704--dea6189f23cbc5989b32d573ddb3dab4.mkv' to '/Volumes/T7 Shield/friends/stimuli/s4/friends_s04e01a.mkv'\n"
     ]
    },
    {
     "name": "stderr",
     "output_type": "stream",
     "text": [
      "Copying original MKV files:  29%|████▍          | 14/48 [00:05<00:12,  2.73it/s]"
     ]
    },
    {
     "name": "stdout",
     "output_type": "stream",
     "text": [
      "Copied '/Volumes/T7 Shield/algonauts_2025.competitors/stimuli/movies/friends/.git/annex/objects/Gk/Z6/MD5E-s160965852--6c3ce0fd57cc54a35464a66d2b3ccf9d.mkv/MD5E-s160965852--6c3ce0fd57cc54a35464a66d2b3ccf9d.mkv' to '/Volumes/T7 Shield/friends/stimuli/s4/friends_s04e17a.mkv'\n"
     ]
    },
    {
     "name": "stderr",
     "output_type": "stream",
     "text": [
      "Copying original MKV files:  31%|████▋          | 15/48 [00:05<00:12,  2.75it/s]"
     ]
    },
    {
     "name": "stdout",
     "output_type": "stream",
     "text": [
      "Copied '/Volumes/T7 Shield/algonauts_2025.competitors/stimuli/movies/friends/.git/annex/objects/3V/vk/MD5E-s150899432--d5869e2d4605a0171919aab26c65451d.mkv/MD5E-s150899432--d5869e2d4605a0171919aab26c65451d.mkv' to '/Volumes/T7 Shield/friends/stimuli/s4/friends_s04e21b.mkv'\n"
     ]
    },
    {
     "name": "stderr",
     "output_type": "stream",
     "text": [
      "Copying original MKV files:  33%|█████          | 16/48 [00:05<00:11,  2.77it/s]"
     ]
    },
    {
     "name": "stdout",
     "output_type": "stream",
     "text": [
      "Copied '/Volumes/T7 Shield/algonauts_2025.competitors/stimuli/movies/friends/.git/annex/objects/gp/5k/MD5E-s159206125--2af4b130e38246279ff43401ddfa2e83.mkv/MD5E-s159206125--2af4b130e38246279ff43401ddfa2e83.mkv' to '/Volumes/T7 Shield/friends/stimuli/s4/friends_s04e01b.mkv'\n"
     ]
    },
    {
     "name": "stderr",
     "output_type": "stream",
     "text": [
      "Copying original MKV files:  35%|█████▎         | 17/48 [00:06<00:11,  2.78it/s]"
     ]
    },
    {
     "name": "stdout",
     "output_type": "stream",
     "text": [
      "Copied '/Volumes/T7 Shield/algonauts_2025.competitors/stimuli/movies/friends/.git/annex/objects/3K/0p/MD5E-s161967721--49646342a8e9895d86fe0fbc705d0b94.mkv/MD5E-s161967721--49646342a8e9895d86fe0fbc705d0b94.mkv' to '/Volumes/T7 Shield/friends/stimuli/s4/friends_s04e17b.mkv'\n"
     ]
    },
    {
     "name": "stderr",
     "output_type": "stream",
     "text": [
      "Copying original MKV files:  38%|█████▋         | 18/48 [00:06<00:10,  2.83it/s]"
     ]
    },
    {
     "name": "stdout",
     "output_type": "stream",
     "text": [
      "Copied '/Volumes/T7 Shield/algonauts_2025.competitors/stimuli/movies/friends/.git/annex/objects/85/f6/MD5E-s151050307--c0ed96b6248c7edbb141824c6227e826.mkv/MD5E-s151050307--c0ed96b6248c7edbb141824c6227e826.mkv' to '/Volumes/T7 Shield/friends/stimuli/s4/friends_s04e21a.mkv'\n"
     ]
    },
    {
     "name": "stderr",
     "output_type": "stream",
     "text": [
      "Copying original MKV files:  40%|█████▉         | 19/48 [00:06<00:10,  2.83it/s]"
     ]
    },
    {
     "name": "stdout",
     "output_type": "stream",
     "text": [
      "Copied '/Volumes/T7 Shield/algonauts_2025.competitors/stimuli/movies/friends/.git/annex/objects/G3/f3/MD5E-s161182572--a4ef41f25193fbd62911fbfcfb42f835.mkv/MD5E-s161182572--a4ef41f25193fbd62911fbfcfb42f835.mkv' to '/Volumes/T7 Shield/friends/stimuli/s4/friends_s04e02b.mkv'\n"
     ]
    },
    {
     "name": "stderr",
     "output_type": "stream",
     "text": [
      "Copying original MKV files:  42%|██████▎        | 20/48 [00:07<00:10,  2.77it/s]"
     ]
    },
    {
     "name": "stdout",
     "output_type": "stream",
     "text": [
      "Copied '/Volumes/T7 Shield/algonauts_2025.competitors/stimuli/movies/friends/.git/annex/objects/0M/Jv/MD5E-s168978409--378aa2c88c500aaf342f8a4893006a06.mkv/MD5E-s168978409--378aa2c88c500aaf342f8a4893006a06.mkv' to '/Volumes/T7 Shield/friends/stimuli/s4/friends_s04e23d.mkv'\n"
     ]
    },
    {
     "name": "stderr",
     "output_type": "stream",
     "text": [
      "Copying original MKV files:  44%|██████▌        | 21/48 [00:07<00:09,  2.83it/s]"
     ]
    },
    {
     "name": "stdout",
     "output_type": "stream",
     "text": [
      "Copied '/Volumes/T7 Shield/algonauts_2025.competitors/stimuli/movies/friends/.git/annex/objects/4p/xg/MD5E-s152428684--bfadb2c606834745592488da60d97a04.mkv/MD5E-s152428684--bfadb2c606834745592488da60d97a04.mkv' to '/Volumes/T7 Shield/friends/stimuli/s4/friends_s04e18a.mkv'\n"
     ]
    },
    {
     "name": "stderr",
     "output_type": "stream",
     "text": [
      "Copying original MKV files:  46%|██████▉        | 22/48 [00:07<00:09,  2.87it/s]"
     ]
    },
    {
     "name": "stdout",
     "output_type": "stream",
     "text": [
      "Copied '/Volumes/T7 Shield/algonauts_2025.competitors/stimuli/movies/friends/.git/annex/objects/K6/08/MD5E-s151709895--12ba5c193527c4836029c664af61978c.mkv/MD5E-s151709895--12ba5c193527c4836029c664af61978c.mkv' to '/Volumes/T7 Shield/friends/stimuli/s4/friends_s04e14b.mkv'\n"
     ]
    },
    {
     "name": "stderr",
     "output_type": "stream",
     "text": [
      "Copying original MKV files:  48%|███████▏       | 23/48 [00:08<00:08,  2.89it/s]"
     ]
    },
    {
     "name": "stdout",
     "output_type": "stream",
     "text": [
      "Copied '/Volumes/T7 Shield/algonauts_2025.competitors/stimuli/movies/friends/.git/annex/objects/2g/gK/MD5E-s155499294--885736b60216349072fd23c96840fae4.mkv/MD5E-s155499294--885736b60216349072fd23c96840fae4.mkv' to '/Volumes/T7 Shield/friends/stimuli/s4/friends_s04e22a.mkv'\n"
     ]
    },
    {
     "name": "stderr",
     "output_type": "stream",
     "text": [
      "Copying original MKV files:  50%|███████▌       | 24/48 [00:08<00:08,  2.79it/s]"
     ]
    },
    {
     "name": "stdout",
     "output_type": "stream",
     "text": [
      "Copied '/Volumes/T7 Shield/algonauts_2025.competitors/stimuli/movies/friends/.git/annex/objects/5x/zV/MD5E-s162269290--52fbd9b29e0dab7c84b37ec5a9833e06.mkv/MD5E-s162269290--52fbd9b29e0dab7c84b37ec5a9833e06.mkv' to '/Volumes/T7 Shield/friends/stimuli/s4/friends_s04e02a.mkv'\n"
     ]
    },
    {
     "name": "stderr",
     "output_type": "stream",
     "text": [
      "Copying original MKV files:  52%|███████▊       | 25/48 [00:08<00:08,  2.83it/s]"
     ]
    },
    {
     "name": "stdout",
     "output_type": "stream",
     "text": [
      "Copied '/Volumes/T7 Shield/algonauts_2025.competitors/stimuli/movies/friends/.git/annex/objects/11/qJ/MD5E-s151556756--26c424219bdbf1bfefdc52a8b17664f8.mkv/MD5E-s151556756--26c424219bdbf1bfefdc52a8b17664f8.mkv' to '/Volumes/T7 Shield/friends/stimuli/s4/friends_s04e18b.mkv'\n"
     ]
    },
    {
     "name": "stderr",
     "output_type": "stream",
     "text": [
      "Copying original MKV files:  54%|████████▏      | 26/48 [00:09<00:07,  2.88it/s]"
     ]
    },
    {
     "name": "stdout",
     "output_type": "stream",
     "text": [
      "Copied '/Volumes/T7 Shield/algonauts_2025.competitors/stimuli/movies/friends/.git/annex/objects/2X/69/MD5E-s150725166--bdd45fe968826767062ef44b654d5731.mkv/MD5E-s150725166--bdd45fe968826767062ef44b654d5731.mkv' to '/Volumes/T7 Shield/friends/stimuli/s4/friends_s04e14a.mkv'\n"
     ]
    },
    {
     "name": "stderr",
     "output_type": "stream",
     "text": [
      "Copying original MKV files:  56%|████████▍      | 27/48 [00:09<00:07,  2.82it/s]"
     ]
    },
    {
     "name": "stdout",
     "output_type": "stream",
     "text": [
      "Copied '/Volumes/T7 Shield/algonauts_2025.competitors/stimuli/movies/friends/.git/annex/objects/0g/vG/MD5E-s155828636--12d8b7a4c7fb8466cd943d29e300d0ce.mkv/MD5E-s155828636--12d8b7a4c7fb8466cd943d29e300d0ce.mkv' to '/Volumes/T7 Shield/friends/stimuli/s4/friends_s04e22b.mkv'\n"
     ]
    },
    {
     "name": "stderr",
     "output_type": "stream",
     "text": [
      "Copying original MKV files:  58%|████████▊      | 28/48 [00:10<00:07,  2.73it/s]"
     ]
    },
    {
     "name": "stdout",
     "output_type": "stream",
     "text": [
      "Copied '/Volumes/T7 Shield/algonauts_2025.competitors/stimuli/movies/friends/.git/annex/objects/F0/MM/MD5E-s170734570--a6cd98794e9c0882c5c6cd070e772ccf.mkv/MD5E-s170734570--a6cd98794e9c0882c5c6cd070e772ccf.mkv' to '/Volumes/T7 Shield/friends/stimuli/s4/friends_s04e23b.mkv'\n"
     ]
    },
    {
     "name": "stderr",
     "output_type": "stream",
     "text": [
      "Copying original MKV files:  60%|█████████      | 29/48 [00:10<00:06,  2.72it/s]"
     ]
    },
    {
     "name": "stdout",
     "output_type": "stream",
     "text": [
      "Copied '/Volumes/T7 Shield/algonauts_2025.competitors/stimuli/movies/friends/.git/annex/objects/xQ/xx/MD5E-s152190860--ad19d2269d53203a3f9c9dcddbb88263.mkv/MD5E-s152190860--ad19d2269d53203a3f9c9dcddbb88263.mkv' to '/Volumes/T7 Shield/friends/stimuli/s4/friends_s04e15a.mkv'\n"
     ]
    },
    {
     "name": "stderr",
     "output_type": "stream",
     "text": [
      "Copying original MKV files:  62%|█████████▍     | 30/48 [00:10<00:06,  2.81it/s]"
     ]
    },
    {
     "name": "stdout",
     "output_type": "stream",
     "text": [
      "Copied '/Volumes/T7 Shield/algonauts_2025.competitors/stimuli/movies/friends/.git/annex/objects/FG/Vg/MD5E-s147861517--17dccaa7966e5154086b76dd46702c02.mkv/MD5E-s147861517--17dccaa7966e5154086b76dd46702c02.mkv' to '/Volumes/T7 Shield/friends/stimuli/s4/friends_s04e19b.mkv'\n"
     ]
    },
    {
     "name": "stderr",
     "output_type": "stream",
     "text": [
      "Copying original MKV files:  65%|█████████▋     | 31/48 [00:11<00:06,  2.76it/s]"
     ]
    },
    {
     "name": "stdout",
     "output_type": "stream",
     "text": [
      "Copied '/Volumes/T7 Shield/algonauts_2025.competitors/stimuli/movies/friends/.git/annex/objects/88/fP/MD5E-s169044970--8a823b3dfa53f4612113faebb0bfe650.mkv/MD5E-s169044970--8a823b3dfa53f4612113faebb0bfe650.mkv' to '/Volumes/T7 Shield/friends/stimuli/s4/friends_s04e23c.mkv'\n"
     ]
    },
    {
     "name": "stderr",
     "output_type": "stream",
     "text": [
      "Copying original MKV files:  67%|██████████     | 32/48 [00:11<00:05,  2.78it/s]"
     ]
    },
    {
     "name": "stdout",
     "output_type": "stream",
     "text": [
      "Copied '/Volumes/T7 Shield/algonauts_2025.competitors/stimuli/movies/friends/.git/annex/objects/80/F9/MD5E-s148919593--21ba155ca52bba2f3966a327b7d58be1.mkv/MD5E-s148919593--21ba155ca52bba2f3966a327b7d58be1.mkv' to '/Volumes/T7 Shield/friends/stimuli/s4/friends_s04e03a.mkv'\n"
     ]
    },
    {
     "name": "stderr",
     "output_type": "stream",
     "text": [
      "Copying original MKV files:  69%|██████████▎    | 33/48 [00:11<00:05,  2.73it/s]"
     ]
    },
    {
     "name": "stdout",
     "output_type": "stream",
     "text": [
      "Copied '/Volumes/T7 Shield/algonauts_2025.competitors/stimuli/movies/friends/.git/annex/objects/Xp/MX/MD5E-s172616374--51dff8dd15955ee0b986e52a9b587393.mkv/MD5E-s172616374--51dff8dd15955ee0b986e52a9b587393.mkv' to '/Volumes/T7 Shield/friends/stimuli/s4/friends_s04e23a.mkv'\n"
     ]
    },
    {
     "name": "stderr",
     "output_type": "stream",
     "text": [
      "Copying original MKV files:  71%|██████████▋    | 34/48 [00:12<00:04,  2.80it/s]"
     ]
    },
    {
     "name": "stdout",
     "output_type": "stream",
     "text": [
      "Copied '/Volumes/T7 Shield/algonauts_2025.competitors/stimuli/movies/friends/.git/annex/objects/3p/3P/MD5E-s148569154--b5f1d7475d48cdd4839716d3d6acb1a9.mkv/MD5E-s148569154--b5f1d7475d48cdd4839716d3d6acb1a9.mkv' to '/Volumes/T7 Shield/friends/stimuli/s4/friends_s04e15b.mkv'\n"
     ]
    },
    {
     "name": "stderr",
     "output_type": "stream",
     "text": [
      "Copying original MKV files:  73%|██████████▉    | 35/48 [00:12<00:04,  2.86it/s]"
     ]
    },
    {
     "name": "stdout",
     "output_type": "stream",
     "text": [
      "Copied '/Volumes/T7 Shield/algonauts_2025.competitors/stimuli/movies/friends/.git/annex/objects/Qx/WF/MD5E-s148294470--f86afb784a3f4e2bce8868afa03361af.mkv/MD5E-s148294470--f86afb784a3f4e2bce8868afa03361af.mkv' to '/Volumes/T7 Shield/friends/stimuli/s4/friends_s04e19a.mkv'\n"
     ]
    },
    {
     "name": "stderr",
     "output_type": "stream",
     "text": [
      "Copying original MKV files:  75%|███████████▎   | 36/48 [00:12<00:04,  2.90it/s]"
     ]
    },
    {
     "name": "stdout",
     "output_type": "stream",
     "text": [
      "Copied '/Volumes/T7 Shield/algonauts_2025.competitors/stimuli/movies/friends/.git/annex/objects/G7/G6/MD5E-s150301883--899dab13e1095d321fd7b6934d3b5920.mkv/MD5E-s150301883--899dab13e1095d321fd7b6934d3b5920.mkv' to '/Volumes/T7 Shield/friends/stimuli/s4/friends_s04e03b.mkv'\n"
     ]
    },
    {
     "name": "stderr",
     "output_type": "stream",
     "text": [
      "Copying original MKV files:  77%|███████████▌   | 37/48 [00:13<00:03,  2.83it/s]"
     ]
    },
    {
     "name": "stdout",
     "output_type": "stream",
     "text": [
      "Copied '/Volumes/T7 Shield/algonauts_2025.competitors/stimuli/movies/friends/.git/annex/objects/27/9Z/MD5E-s167976714--6818becd9341206159fb56c44f2afa35.mkv/MD5E-s167976714--6818becd9341206159fb56c44f2afa35.mkv' to '/Volumes/T7 Shield/friends/stimuli/s4/friends_s04e08b.mkv'\n"
     ]
    },
    {
     "name": "stderr",
     "output_type": "stream",
     "text": [
      "Copying original MKV files:  79%|███████████▉   | 38/48 [00:13<00:03,  2.82it/s]"
     ]
    },
    {
     "name": "stdout",
     "output_type": "stream",
     "text": [
      "Copied '/Volumes/T7 Shield/algonauts_2025.competitors/stimuli/movies/friends/.git/annex/objects/ZK/J1/MD5E-s152437676--9f246039c18b571e9bfd1a5314ab9192.mkv/MD5E-s152437676--9f246039c18b571e9bfd1a5314ab9192.mkv' to '/Volumes/T7 Shield/friends/stimuli/s4/friends_s04e04a.mkv'\n"
     ]
    },
    {
     "name": "stderr",
     "output_type": "stream",
     "text": [
      "Copying original MKV files:  81%|████████████▏  | 39/48 [00:13<00:03,  2.83it/s]"
     ]
    },
    {
     "name": "stdout",
     "output_type": "stream",
     "text": [
      "Copied '/Volumes/T7 Shield/algonauts_2025.competitors/stimuli/movies/friends/.git/annex/objects/G8/11/MD5E-s157147166--546ae83c5bf78105c1b0091f364443f3.mkv/MD5E-s157147166--546ae83c5bf78105c1b0091f364443f3.mkv' to '/Volumes/T7 Shield/friends/stimuli/s4/friends_s04e12a.mkv'\n"
     ]
    },
    {
     "name": "stderr",
     "output_type": "stream",
     "text": [
      "Copying original MKV files:  83%|████████████▌  | 40/48 [00:14<00:02,  2.79it/s]"
     ]
    },
    {
     "name": "stdout",
     "output_type": "stream",
     "text": [
      "Copied '/Volumes/T7 Shield/algonauts_2025.competitors/stimuli/movies/friends/.git/annex/objects/FQ/5j/MD5E-s169741120--a4e00291babe72a292d9d84efc49828c.mkv/MD5E-s169741120--a4e00291babe72a292d9d84efc49828c.mkv' to '/Volumes/T7 Shield/friends/stimuli/s4/friends_s04e08a.mkv'\n"
     ]
    },
    {
     "name": "stderr",
     "output_type": "stream",
     "text": [
      "Copying original MKV files:  85%|████████████▊  | 41/48 [00:14<00:02,  2.76it/s]"
     ]
    },
    {
     "name": "stdout",
     "output_type": "stream",
     "text": [
      "Copied '/Volumes/T7 Shield/algonauts_2025.competitors/stimuli/movies/friends/.git/annex/objects/xZ/vV/MD5E-s152858817--e397790eddf152277be263b1cb3f1070.mkv/MD5E-s152858817--e397790eddf152277be263b1cb3f1070.mkv' to '/Volumes/T7 Shield/friends/stimuli/s4/friends_s04e04b.mkv'\n"
     ]
    },
    {
     "name": "stderr",
     "output_type": "stream",
     "text": [
      "Copying original MKV files:  88%|█████████████▏ | 42/48 [00:15<00:02,  2.69it/s]"
     ]
    },
    {
     "name": "stdout",
     "output_type": "stream",
     "text": [
      "Copied '/Volumes/T7 Shield/algonauts_2025.competitors/stimuli/movies/friends/.git/annex/objects/61/Zm/MD5E-s156706803--c67c6358f1488c90dc937e94c3722a7d.mkv/MD5E-s156706803--c67c6358f1488c90dc937e94c3722a7d.mkv' to '/Volumes/T7 Shield/friends/stimuli/s4/friends_s04e12b.mkv'\n"
     ]
    },
    {
     "name": "stderr",
     "output_type": "stream",
     "text": [
      "Copying original MKV files:  90%|█████████████▍ | 43/48 [00:15<00:01,  2.76it/s]"
     ]
    },
    {
     "name": "stdout",
     "output_type": "stream",
     "text": [
      "Copied '/Volumes/T7 Shield/algonauts_2025.competitors/stimuli/movies/friends/.git/annex/objects/MW/Qw/MD5E-s151125868--0d7419be89f037578f5ff113562e02de.mkv/MD5E-s151125868--0d7419be89f037578f5ff113562e02de.mkv' to '/Volumes/T7 Shield/friends/stimuli/s4/friends_s04e13b.mkv'\n"
     ]
    },
    {
     "name": "stderr",
     "output_type": "stream",
     "text": [
      "Copying original MKV files:  92%|█████████████▊ | 44/48 [00:15<00:01,  2.80it/s]"
     ]
    },
    {
     "name": "stdout",
     "output_type": "stream",
     "text": [
      "Copied '/Volumes/T7 Shield/algonauts_2025.competitors/stimuli/movies/friends/.git/annex/objects/83/1W/MD5E-s158105230--75afc2fcc7edbae812e9a56f71e4e19f.mkv/MD5E-s158105230--75afc2fcc7edbae812e9a56f71e4e19f.mkv' to '/Volumes/T7 Shield/friends/stimuli/s4/friends_s04e05b.mkv'\n"
     ]
    },
    {
     "name": "stderr",
     "output_type": "stream",
     "text": [
      "Copying original MKV files:  94%|██████████████ | 45/48 [00:16<00:01,  2.86it/s]"
     ]
    },
    {
     "name": "stdout",
     "output_type": "stream",
     "text": [
      "Copied '/Volumes/T7 Shield/algonauts_2025.competitors/stimuli/movies/friends/.git/annex/objects/1w/4G/MD5E-s149183900--d33b14201dcfdd99e3853a8fdc2715f9.mkv/MD5E-s149183900--d33b14201dcfdd99e3853a8fdc2715f9.mkv' to '/Volumes/T7 Shield/friends/stimuli/s4/friends_s04e09a.mkv'\n"
     ]
    },
    {
     "name": "stderr",
     "output_type": "stream",
     "text": [
      "Copying original MKV files:  96%|██████████████▍| 46/48 [00:16<00:00,  2.90it/s]"
     ]
    },
    {
     "name": "stdout",
     "output_type": "stream",
     "text": [
      "Copied '/Volumes/T7 Shield/algonauts_2025.competitors/stimuli/movies/friends/.git/annex/objects/Mg/f8/MD5E-s151860643--14eba18944ce83effc0891e837708a2c.mkv/MD5E-s151860643--14eba18944ce83effc0891e837708a2c.mkv' to '/Volumes/T7 Shield/friends/stimuli/s4/friends_s04e13a.mkv'\n"
     ]
    },
    {
     "name": "stderr",
     "output_type": "stream",
     "text": [
      "Copying original MKV files:  98%|██████████████▋| 47/48 [00:16<00:00,  2.88it/s]"
     ]
    },
    {
     "name": "stdout",
     "output_type": "stream",
     "text": [
      "Copied '/Volumes/T7 Shield/algonauts_2025.competitors/stimuli/movies/friends/.git/annex/objects/FV/M4/MD5E-s158880261--fc3011d103415c599ef20d4889b9f5e9.mkv/MD5E-s158880261--fc3011d103415c599ef20d4889b9f5e9.mkv' to '/Volumes/T7 Shield/friends/stimuli/s4/friends_s04e05a.mkv'\n"
     ]
    },
    {
     "name": "stderr",
     "output_type": "stream",
     "text": [
      "Copying original MKV files: 100%|███████████████| 48/48 [00:17<00:00,  2.81it/s]"
     ]
    },
    {
     "name": "stdout",
     "output_type": "stream",
     "text": [
      "Copied '/Volumes/T7 Shield/algonauts_2025.competitors/stimuli/movies/friends/.git/annex/objects/V9/Vv/MD5E-s148025336--1f569b06ab2c6bf9979029e6c5ad4948.mkv/MD5E-s148025336--1f569b06ab2c6bf9979029e6c5ad4948.mkv' to '/Volumes/T7 Shield/friends/stimuli/s4/friends_s04e09b.mkv'\n"
     ]
    },
    {
     "name": "stderr",
     "output_type": "stream",
     "text": [
      "\n"
     ]
    }
   ],
   "source": [
    "source_folder = \"/Volumes/T7 Shield/algonauts_2025.competitors/stimuli/movies/friends/s4\" #replace with your source folder\n",
    "target_folder = \"/Volumes/T7 Shield/friends/stimuli/s4\" #replace with your target folder\n",
    "copy_original_mkv_files(source_folder, target_folder)"
   ]
  },
  {
   "cell_type": "code",
   "execution_count": 6,
   "id": "da6260d8-3573-433b-9857-b4903994569a",
   "metadata": {},
   "outputs": [
    {
     "name": "stderr",
     "output_type": "stream",
     "text": [
      "Copying original MKV files:   2%|▎               | 1/48 [00:00<00:15,  2.98it/s]"
     ]
    },
    {
     "name": "stdout",
     "output_type": "stream",
     "text": [
      "Copied '/Volumes/T7 Shield/algonauts_2025.competitors/stimuli/movies/friends/.git/annex/objects/4P/8Z/MD5E-s154001866--0123f08e2df4fe26ad313e98ebbd7b97.mkv/MD5E-s154001866--0123f08e2df4fe26ad313e98ebbd7b97.mkv' to '/Volumes/T7 Shield/friends/stimuli/s5/friends_s05e07a.mkv'\n"
     ]
    },
    {
     "name": "stderr",
     "output_type": "stream",
     "text": [
      "Copying original MKV files:   4%|▋               | 2/48 [00:00<00:15,  2.88it/s]"
     ]
    },
    {
     "name": "stdout",
     "output_type": "stream",
     "text": [
      "Copied '/Volumes/T7 Shield/algonauts_2025.competitors/stimuli/movies/friends/.git/annex/objects/9W/1g/MD5E-s159408840--520003dfc63c46f46b7543b9a2ba7860.mkv/MD5E-s159408840--520003dfc63c46f46b7543b9a2ba7860.mkv' to '/Volumes/T7 Shield/friends/stimuli/s5/friends_s05e11a.mkv'\n"
     ]
    },
    {
     "name": "stderr",
     "output_type": "stream",
     "text": [
      "Copying original MKV files:   6%|█               | 3/48 [00:01<00:15,  2.84it/s]"
     ]
    },
    {
     "name": "stdout",
     "output_type": "stream",
     "text": [
      "Copied '/Volumes/T7 Shield/algonauts_2025.competitors/stimuli/movies/friends/.git/annex/objects/3W/f4/MD5E-s165962625--bdc3f57bdb9a849c8240db490b28c0a0.mkv/MD5E-s165962625--bdc3f57bdb9a849c8240db490b28c0a0.mkv' to '/Volumes/T7 Shield/friends/stimuli/s5/friends_s05e07b.mkv'\n"
     ]
    },
    {
     "name": "stderr",
     "output_type": "stream",
     "text": [
      "Copying original MKV files:   8%|█▎              | 4/48 [00:01<00:16,  2.69it/s]"
     ]
    },
    {
     "name": "stdout",
     "output_type": "stream",
     "text": [
      "Copied '/Volumes/T7 Shield/algonauts_2025.competitors/stimuli/movies/friends/.git/annex/objects/Vm/MJ/MD5E-s173824306--a169501346d4d3b217c4490e1fe9e95f.mkv/MD5E-s173824306--a169501346d4d3b217c4490e1fe9e95f.mkv' to '/Volumes/T7 Shield/friends/stimuli/s5/friends_s05e11b.mkv'\n"
     ]
    },
    {
     "name": "stderr",
     "output_type": "stream",
     "text": [
      "Copying original MKV files:  10%|█▋              | 5/48 [00:01<00:15,  2.74it/s]"
     ]
    },
    {
     "name": "stdout",
     "output_type": "stream",
     "text": [
      "Copied '/Volumes/T7 Shield/algonauts_2025.competitors/stimuli/movies/friends/.git/annex/objects/0j/8J/MD5E-s162688366--1b71cec32278d322862c33ef607c31db.mkv/MD5E-s162688366--1b71cec32278d322862c33ef607c31db.mkv' to '/Volumes/T7 Shield/friends/stimuli/s5/friends_s05e10b.mkv'\n"
     ]
    },
    {
     "name": "stderr",
     "output_type": "stream",
     "text": [
      "Copying original MKV files:  12%|██              | 6/48 [00:02<00:15,  2.73it/s]"
     ]
    },
    {
     "name": "stdout",
     "output_type": "stream",
     "text": [
      "Copied '/Volumes/T7 Shield/algonauts_2025.competitors/stimuli/movies/friends/.git/annex/objects/5K/pK/MD5E-s168462639--2625881d0e905af476e6035a181da2d3.mkv/MD5E-s168462639--2625881d0e905af476e6035a181da2d3.mkv' to '/Volumes/T7 Shield/friends/stimuli/s5/friends_s05e06b.mkv'\n"
     ]
    },
    {
     "name": "stderr",
     "output_type": "stream",
     "text": [
      "Copying original MKV files:  15%|██▎             | 7/48 [00:02<00:15,  2.71it/s]"
     ]
    },
    {
     "name": "stdout",
     "output_type": "stream",
     "text": [
      "Copied '/Volumes/T7 Shield/algonauts_2025.competitors/stimuli/movies/friends/.git/annex/objects/4w/24/MD5E-s151230170--ae7724eb5ef2af65bf5814345444d984.mkv/MD5E-s151230170--ae7724eb5ef2af65bf5814345444d984.mkv' to '/Volumes/T7 Shield/friends/stimuli/s5/friends_s05e10a.mkv'\n"
     ]
    },
    {
     "name": "stderr",
     "output_type": "stream",
     "text": [
      "Copying original MKV files:  17%|██▋             | 8/48 [00:02<00:14,  2.72it/s]"
     ]
    },
    {
     "name": "stdout",
     "output_type": "stream",
     "text": [
      "Copied '/Volumes/T7 Shield/algonauts_2025.competitors/stimuli/movies/friends/.git/annex/objects/F4/KF/MD5E-s154636471--d24b4727b407875843915e084cbb438f.mkv/MD5E-s154636471--d24b4727b407875843915e084cbb438f.mkv' to '/Volumes/T7 Shield/friends/stimuli/s5/friends_s05e06a.mkv'\n"
     ]
    },
    {
     "name": "stderr",
     "output_type": "stream",
     "text": [
      "Copying original MKV files:  19%|███             | 9/48 [00:03<00:14,  2.75it/s]"
     ]
    },
    {
     "name": "stdout",
     "output_type": "stream",
     "text": [
      "Copied '/Volumes/T7 Shield/algonauts_2025.competitors/stimuli/movies/friends/.git/annex/objects/9W/PJ/MD5E-s159718815--05c80d38267f1d8f3b7e1564ec3e665f.mkv/MD5E-s159718815--05c80d38267f1d8f3b7e1564ec3e665f.mkv' to '/Volumes/T7 Shield/friends/stimuli/s5/friends_s05e01b.mkv'\n"
     ]
    },
    {
     "name": "stderr",
     "output_type": "stream",
     "text": [
      "Copying original MKV files:  21%|███▏           | 10/48 [00:03<00:13,  2.76it/s]"
     ]
    },
    {
     "name": "stdout",
     "output_type": "stream",
     "text": [
      "Copied '/Volumes/T7 Shield/algonauts_2025.competitors/stimuli/movies/friends/.git/annex/objects/7j/Q9/MD5E-s164710624--7599142c218db2e3aba2b44cedbcbfb7.mkv/MD5E-s164710624--7599142c218db2e3aba2b44cedbcbfb7.mkv' to '/Volumes/T7 Shield/friends/stimuli/s5/friends_s05e17b.mkv'\n"
     ]
    },
    {
     "name": "stderr",
     "output_type": "stream",
     "text": [
      "Copying original MKV files:  23%|███▍           | 11/48 [00:03<00:13,  2.83it/s]"
     ]
    },
    {
     "name": "stdout",
     "output_type": "stream",
     "text": [
      "Copied '/Volumes/T7 Shield/algonauts_2025.competitors/stimuli/movies/friends/.git/annex/objects/Zp/50/MD5E-s149751060--de15c17366093698eb971a2e28203370.mkv/MD5E-s149751060--de15c17366093698eb971a2e28203370.mkv' to '/Volumes/T7 Shield/friends/stimuli/s5/friends_s05e21a.mkv'\n"
     ]
    },
    {
     "name": "stderr",
     "output_type": "stream",
     "text": [
      "Copying original MKV files:  25%|███▊           | 12/48 [00:04<00:12,  2.91it/s]"
     ]
    },
    {
     "name": "stdout",
     "output_type": "stream",
     "text": [
      "Copied '/Volumes/T7 Shield/algonauts_2025.competitors/stimuli/movies/friends/.git/annex/objects/K4/kV/MD5E-s148128326--82973c41bc8a357d04d17686dbf48539.mkv/MD5E-s148128326--82973c41bc8a357d04d17686dbf48539.mkv' to '/Volumes/T7 Shield/friends/stimuli/s5/friends_s05e01a.mkv'\n"
     ]
    },
    {
     "name": "stderr",
     "output_type": "stream",
     "text": [
      "Copying original MKV files:  27%|████           | 13/48 [00:04<00:11,  2.93it/s]"
     ]
    },
    {
     "name": "stdout",
     "output_type": "stream",
     "text": [
      "Copied '/Volumes/T7 Shield/algonauts_2025.competitors/stimuli/movies/friends/.git/annex/objects/pQ/gJ/MD5E-s152035309--1e1c80bcb82d0e8ab3f9027e545e9c38.mkv/MD5E-s152035309--1e1c80bcb82d0e8ab3f9027e545e9c38.mkv' to '/Volumes/T7 Shield/friends/stimuli/s5/friends_s05e17a.mkv'\n"
     ]
    },
    {
     "name": "stderr",
     "output_type": "stream",
     "text": [
      "Copying original MKV files:  29%|████▍          | 14/48 [00:04<00:11,  2.89it/s]"
     ]
    },
    {
     "name": "stdout",
     "output_type": "stream",
     "text": [
      "Copied '/Volumes/T7 Shield/algonauts_2025.competitors/stimuli/movies/friends/.git/annex/objects/Mq/4k/MD5E-s161968664--f1bab2a275947d2793eeb43110088d52.mkv/MD5E-s161968664--f1bab2a275947d2793eeb43110088d52.mkv' to '/Volumes/T7 Shield/friends/stimuli/s5/friends_s05e21b.mkv'\n"
     ]
    },
    {
     "name": "stderr",
     "output_type": "stream",
     "text": [
      "Copying original MKV files:  31%|████▋          | 15/48 [00:05<00:11,  2.84it/s]"
     ]
    },
    {
     "name": "stdout",
     "output_type": "stream",
     "text": [
      "Copied '/Volumes/T7 Shield/algonauts_2025.competitors/stimuli/movies/friends/.git/annex/objects/qK/gZ/MD5E-s166652735--90f9f0fe52b8c8ee2edd3e49ff29e9d9.mkv/MD5E-s166652735--90f9f0fe52b8c8ee2edd3e49ff29e9d9.mkv' to '/Volumes/T7 Shield/friends/stimuli/s5/friends_s05e20b.mkv'\n"
     ]
    },
    {
     "name": "stderr",
     "output_type": "stream",
     "text": [
      "Copying original MKV files:  33%|█████          | 16/48 [00:05<00:11,  2.83it/s]"
     ]
    },
    {
     "name": "stdout",
     "output_type": "stream",
     "text": [
      "Copied '/Volumes/T7 Shield/algonauts_2025.competitors/stimuli/movies/friends/.git/annex/objects/vV/w9/MD5E-s163396809--315c41016d707be3de7b92b26e71c7c1.mkv/MD5E-s163396809--315c41016d707be3de7b92b26e71c7c1.mkv' to '/Volumes/T7 Shield/friends/stimuli/s5/friends_s05e16a.mkv'\n"
     ]
    },
    {
     "name": "stderr",
     "output_type": "stream",
     "text": [
      "Copying original MKV files:  35%|█████▎         | 17/48 [00:06<00:11,  2.80it/s]"
     ]
    },
    {
     "name": "stdout",
     "output_type": "stream",
     "text": [
      "Copied '/Volumes/T7 Shield/algonauts_2025.competitors/stimuli/movies/friends/.git/annex/objects/7Z/vk/MD5E-s151267633--560f340b885bfe5200a9ec3ae10d9fb8.mkv/MD5E-s151267633--560f340b885bfe5200a9ec3ae10d9fb8.mkv' to '/Volumes/T7 Shield/friends/stimuli/s5/friends_s05e20a.mkv'\n"
     ]
    },
    {
     "name": "stderr",
     "output_type": "stream",
     "text": [
      "Copying original MKV files:  38%|█████▋         | 18/48 [00:06<00:10,  2.75it/s]"
     ]
    },
    {
     "name": "stdout",
     "output_type": "stream",
     "text": [
      "Copied '/Volumes/T7 Shield/algonauts_2025.competitors/stimuli/movies/friends/.git/annex/objects/x8/Gw/MD5E-s174335807--e4a8e9d63a6c020de7bdf7c58ea666f6.mkv/MD5E-s174335807--e4a8e9d63a6c020de7bdf7c58ea666f6.mkv' to '/Volumes/T7 Shield/friends/stimuli/s5/friends_s05e16b.mkv'\n"
     ]
    },
    {
     "name": "stderr",
     "output_type": "stream",
     "text": [
      "Copying original MKV files:  40%|█████▉         | 19/48 [00:06<00:10,  2.79it/s]"
     ]
    },
    {
     "name": "stdout",
     "output_type": "stream",
     "text": [
      "Copied '/Volumes/T7 Shield/algonauts_2025.competitors/stimuli/movies/friends/.git/annex/objects/v2/W3/MD5E-s151953195--94b6aeafa8485c04b8c85ba8074b87c9.mkv/MD5E-s151953195--94b6aeafa8485c04b8c85ba8074b87c9.mkv' to '/Volumes/T7 Shield/friends/stimuli/s5/friends_s05e23a.mkv'\n"
     ]
    },
    {
     "name": "stderr",
     "output_type": "stream",
     "text": [
      "Copying original MKV files:  42%|██████▎        | 20/48 [00:07<00:10,  2.75it/s]"
     ]
    },
    {
     "name": "stdout",
     "output_type": "stream",
     "text": [
      "Copied '/Volumes/T7 Shield/algonauts_2025.competitors/stimuli/movies/friends/.git/annex/objects/J5/kq/MD5E-s160894312--9dac0ce39bc5300d2825b0da430f9ecd.mkv/MD5E-s160894312--9dac0ce39bc5300d2825b0da430f9ecd.mkv' to '/Volumes/T7 Shield/friends/stimuli/s5/friends_s05e15b.mkv'\n"
     ]
    },
    {
     "name": "stderr",
     "output_type": "stream",
     "text": [
      "Copying original MKV files:  44%|██████▌        | 21/48 [00:07<00:09,  2.78it/s]"
     ]
    },
    {
     "name": "stdout",
     "output_type": "stream",
     "text": [
      "Copied '/Volumes/T7 Shield/algonauts_2025.competitors/stimuli/movies/friends/.git/annex/objects/QZ/jV/MD5E-s149667690--bb362d4acbebcd42a1500c68d976361b.mkv/MD5E-s149667690--bb362d4acbebcd42a1500c68d976361b.mkv' to '/Volumes/T7 Shield/friends/stimuli/s5/friends_s05e19a.mkv'\n"
     ]
    },
    {
     "name": "stderr",
     "output_type": "stream",
     "text": [
      "Copying original MKV files:  46%|██████▉        | 22/48 [00:07<00:09,  2.74it/s]"
     ]
    },
    {
     "name": "stdout",
     "output_type": "stream",
     "text": [
      "Copied '/Volumes/T7 Shield/algonauts_2025.competitors/stimuli/movies/friends/.git/annex/objects/kp/Mq/MD5E-s159711442--f1befe1fadcaeab21a6b3d4950b97cd8.mkv/MD5E-s159711442--f1befe1fadcaeab21a6b3d4950b97cd8.mkv' to '/Volumes/T7 Shield/friends/stimuli/s5/friends_s05e03b.mkv'\n"
     ]
    },
    {
     "name": "stderr",
     "output_type": "stream",
     "text": [
      "Copying original MKV files:  48%|███████▏       | 23/48 [00:08<00:08,  2.80it/s]"
     ]
    },
    {
     "name": "stdout",
     "output_type": "stream",
     "text": [
      "Copied '/Volumes/T7 Shield/algonauts_2025.competitors/stimuli/movies/friends/.git/annex/objects/kk/wV/MD5E-s154765383--08a4d6714b868632bf8664ba46081390.mkv/MD5E-s154765383--08a4d6714b868632bf8664ba46081390.mkv' to '/Volumes/T7 Shield/friends/stimuli/s5/friends_s05e23b.mkv'\n"
     ]
    },
    {
     "name": "stderr",
     "output_type": "stream",
     "text": [
      "Copying original MKV files:  50%|███████▌       | 24/48 [00:08<00:08,  2.87it/s]"
     ]
    },
    {
     "name": "stdout",
     "output_type": "stream",
     "text": [
      "Copied '/Volumes/T7 Shield/algonauts_2025.competitors/stimuli/movies/friends/.git/annex/objects/33/9W/MD5E-s149061999--67bbf739cfbce35b0860ca1d1ebd5580.mkv/MD5E-s149061999--67bbf739cfbce35b0860ca1d1ebd5580.mkv' to '/Volumes/T7 Shield/friends/stimuli/s5/friends_s05e15a.mkv'\n"
     ]
    },
    {
     "name": "stderr",
     "output_type": "stream",
     "text": [
      "Copying original MKV files:  52%|███████▊       | 25/48 [00:08<00:08,  2.85it/s]"
     ]
    },
    {
     "name": "stdout",
     "output_type": "stream",
     "text": [
      "Copied '/Volumes/T7 Shield/algonauts_2025.competitors/stimuli/movies/friends/.git/annex/objects/xG/zJ/MD5E-s163671960--39855a919b2230d52c766d36427301af.mkv/MD5E-s163671960--39855a919b2230d52c766d36427301af.mkv' to '/Volumes/T7 Shield/friends/stimuli/s5/friends_s05e19b.mkv'\n"
     ]
    },
    {
     "name": "stderr",
     "output_type": "stream",
     "text": [
      "Copying original MKV files:  54%|████████▏      | 26/48 [00:09<00:07,  2.87it/s]"
     ]
    },
    {
     "name": "stdout",
     "output_type": "stream",
     "text": [
      "Copied '/Volumes/T7 Shield/algonauts_2025.competitors/stimuli/movies/friends/.git/annex/objects/P3/0K/MD5E-s149310736--a687362c2dc43d6ef9427c07e3c022cc.mkv/MD5E-s149310736--a687362c2dc43d6ef9427c07e3c022cc.mkv' to '/Volumes/T7 Shield/friends/stimuli/s5/friends_s05e03a.mkv'\n"
     ]
    },
    {
     "name": "stderr",
     "output_type": "stream",
     "text": [
      "Copying original MKV files:  56%|████████▍      | 27/48 [00:09<00:07,  2.90it/s]"
     ]
    },
    {
     "name": "stdout",
     "output_type": "stream",
     "text": [
      "Copied '/Volumes/T7 Shield/algonauts_2025.competitors/stimuli/movies/friends/.git/annex/objects/8p/kK/MD5E-s154256042--addc30368d26ff2bc6798afcba20d54f.mkv/MD5E-s154256042--addc30368d26ff2bc6798afcba20d54f.mkv' to '/Volumes/T7 Shield/friends/stimuli/s5/friends_s05e23c.mkv'\n"
     ]
    },
    {
     "name": "stderr",
     "output_type": "stream",
     "text": [
      "Copying original MKV files:  58%|████████▊      | 28/48 [00:09<00:07,  2.84it/s]"
     ]
    },
    {
     "name": "stdout",
     "output_type": "stream",
     "text": [
      "Copied '/Volumes/T7 Shield/algonauts_2025.competitors/stimuli/movies/friends/.git/annex/objects/ZW/fG/MD5E-s167019173--4e304a2bae777038987045c0a7ffceb1.mkv/MD5E-s167019173--4e304a2bae777038987045c0a7ffceb1.mkv' to '/Volumes/T7 Shield/friends/stimuli/s5/friends_s05e02a.mkv'\n"
     ]
    },
    {
     "name": "stderr",
     "output_type": "stream",
     "text": [
      "Copying original MKV files:  60%|█████████      | 29/48 [00:10<00:06,  2.75it/s]"
     ]
    },
    {
     "name": "stdout",
     "output_type": "stream",
     "text": [
      "Copied '/Volumes/T7 Shield/algonauts_2025.competitors/stimuli/movies/friends/.git/annex/objects/k5/Pf/MD5E-s181218775--18b12c7dc55c0e3a7b3917bb0bed8f6b.mkv/MD5E-s181218775--18b12c7dc55c0e3a7b3917bb0bed8f6b.mkv' to '/Volumes/T7 Shield/friends/stimuli/s5/friends_s05e18b.mkv'\n"
     ]
    },
    {
     "name": "stderr",
     "output_type": "stream",
     "text": [
      "Copying original MKV files:  62%|█████████▍     | 30/48 [00:10<00:06,  2.77it/s]"
     ]
    },
    {
     "name": "stdout",
     "output_type": "stream",
     "text": [
      "Copied '/Volumes/T7 Shield/algonauts_2025.competitors/stimuli/movies/friends/.git/annex/objects/18/gK/MD5E-s163545318--8a27729da0cb3306b7c73cba1e0dad2c.mkv/MD5E-s163545318--8a27729da0cb3306b7c73cba1e0dad2c.mkv' to '/Volumes/T7 Shield/friends/stimuli/s5/friends_s05e14a.mkv'\n"
     ]
    },
    {
     "name": "stderr",
     "output_type": "stream",
     "text": [
      "Copying original MKV files:  65%|█████████▋     | 31/48 [00:11<00:06,  2.72it/s]"
     ]
    },
    {
     "name": "stdout",
     "output_type": "stream",
     "text": [
      "Copied '/Volumes/T7 Shield/algonauts_2025.competitors/stimuli/movies/friends/.git/annex/objects/Jg/kM/MD5E-s164094151--8ec1e66f811800977c88b9bdcfaa3268.mkv/MD5E-s164094151--8ec1e66f811800977c88b9bdcfaa3268.mkv' to '/Volumes/T7 Shield/friends/stimuli/s5/friends_s05e22b.mkv'\n"
     ]
    },
    {
     "name": "stderr",
     "output_type": "stream",
     "text": [
      "Copying original MKV files:  67%|██████████     | 32/48 [00:11<00:05,  2.72it/s]"
     ]
    },
    {
     "name": "stdout",
     "output_type": "stream",
     "text": [
      "Copied '/Volumes/T7 Shield/algonauts_2025.competitors/stimuli/movies/friends/.git/annex/objects/fk/Vk/MD5E-s166912216--60f6484b355b4c966e1640a2beebb317.mkv/MD5E-s166912216--60f6484b355b4c966e1640a2beebb317.mkv' to '/Volumes/T7 Shield/friends/stimuli/s5/friends_s05e23d.mkv'\n"
     ]
    },
    {
     "name": "stderr",
     "output_type": "stream",
     "text": [
      "Copying original MKV files:  69%|██████████▎    | 33/48 [00:11<00:05,  2.67it/s]"
     ]
    },
    {
     "name": "stdout",
     "output_type": "stream",
     "text": [
      "Copied '/Volumes/T7 Shield/algonauts_2025.competitors/stimuli/movies/friends/.git/annex/objects/1Q/pm/MD5E-s180135670--f9abbcc4c04d3a6e9d48a860a7bf1f4d.mkv/MD5E-s180135670--f9abbcc4c04d3a6e9d48a860a7bf1f4d.mkv' to '/Volumes/T7 Shield/friends/stimuli/s5/friends_s05e02b.mkv'\n"
     ]
    },
    {
     "name": "stderr",
     "output_type": "stream",
     "text": [
      "Copying original MKV files:  71%|██████████▋    | 34/48 [00:12<00:05,  2.59it/s]"
     ]
    },
    {
     "name": "stdout",
     "output_type": "stream",
     "text": [
      "Copied '/Volumes/T7 Shield/algonauts_2025.competitors/stimuli/movies/friends/.git/annex/objects/Zw/mW/MD5E-s168905472--6eea1e1c65cb1d44ecf2b6df3c5a240f.mkv/MD5E-s168905472--6eea1e1c65cb1d44ecf2b6df3c5a240f.mkv' to '/Volumes/T7 Shield/friends/stimuli/s5/friends_s05e18a.mkv'\n"
     ]
    },
    {
     "name": "stderr",
     "output_type": "stream",
     "text": [
      "Copying original MKV files:  73%|██████████▉    | 35/48 [00:12<00:05,  2.55it/s]"
     ]
    },
    {
     "name": "stdout",
     "output_type": "stream",
     "text": [
      "Copied '/Volumes/T7 Shield/algonauts_2025.competitors/stimuli/movies/friends/.git/annex/objects/7X/2M/MD5E-s173341179--a73cca9c96ae5ac6d04b942779774378.mkv/MD5E-s173341179--a73cca9c96ae5ac6d04b942779774378.mkv' to '/Volumes/T7 Shield/friends/stimuli/s5/friends_s05e14b.mkv'\n"
     ]
    },
    {
     "name": "stderr",
     "output_type": "stream",
     "text": [
      "Copying original MKV files:  75%|███████████▎   | 36/48 [00:13<00:04,  2.68it/s]"
     ]
    },
    {
     "name": "stdout",
     "output_type": "stream",
     "text": [
      "Copied '/Volumes/T7 Shield/algonauts_2025.competitors/stimuli/movies/friends/.git/annex/objects/jm/jK/MD5E-s152639615--944f965394976e96b3bbd0723b022740.mkv/MD5E-s152639615--944f965394976e96b3bbd0723b022740.mkv' to '/Volumes/T7 Shield/friends/stimuli/s5/friends_s05e22a.mkv'\n"
     ]
    },
    {
     "name": "stderr",
     "output_type": "stream",
     "text": [
      "Copying original MKV files:  77%|███████████▌   | 37/48 [00:13<00:03,  2.76it/s]"
     ]
    },
    {
     "name": "stdout",
     "output_type": "stream",
     "text": [
      "Copied '/Volumes/T7 Shield/algonauts_2025.competitors/stimuli/movies/friends/.git/annex/objects/0z/GK/MD5E-s154897082--39002859509514e04dca0003ab278e3d.mkv/MD5E-s154897082--39002859509514e04dca0003ab278e3d.mkv' to '/Volumes/T7 Shield/friends/stimuli/s5/friends_s05e13a.mkv'\n"
     ]
    },
    {
     "name": "stderr",
     "output_type": "stream",
     "text": [
      "Copying original MKV files:  79%|███████████▉   | 38/48 [00:13<00:03,  2.77it/s]"
     ]
    },
    {
     "name": "stdout",
     "output_type": "stream",
     "text": [
      "Copied '/Volumes/T7 Shield/algonauts_2025.competitors/stimuli/movies/friends/.git/annex/objects/PP/m1/MD5E-s163869975--eb7169164ceb15330c35e653c137e620.mkv/MD5E-s163869975--eb7169164ceb15330c35e653c137e620.mkv' to '/Volumes/T7 Shield/friends/stimuli/s5/friends_s05e05a.mkv'\n"
     ]
    },
    {
     "name": "stderr",
     "output_type": "stream",
     "text": [
      "Copying original MKV files:  81%|████████████▏  | 39/48 [00:14<00:03,  2.77it/s]"
     ]
    },
    {
     "name": "stdout",
     "output_type": "stream",
     "text": [
      "Copied '/Volumes/T7 Shield/algonauts_2025.competitors/stimuli/movies/friends/.git/annex/objects/57/5k/MD5E-s166895891--e55c94bf9df94e18b48246d669af714a.mkv/MD5E-s166895891--e55c94bf9df94e18b48246d669af714a.mkv' to '/Volumes/T7 Shield/friends/stimuli/s5/friends_s05e09b.mkv'\n"
     ]
    },
    {
     "name": "stderr",
     "output_type": "stream",
     "text": [
      "Copying original MKV files:  83%|████████████▌  | 40/48 [00:14<00:02,  2.72it/s]"
     ]
    },
    {
     "name": "stdout",
     "output_type": "stream",
     "text": [
      "Copied '/Volumes/T7 Shield/algonauts_2025.competitors/stimuli/movies/friends/.git/annex/objects/z3/37/MD5E-s168291504--f65a35e6e1e3897910eb9f00bdd38667.mkv/MD5E-s168291504--f65a35e6e1e3897910eb9f00bdd38667.mkv' to '/Volumes/T7 Shield/friends/stimuli/s5/friends_s05e13b.mkv'\n"
     ]
    },
    {
     "name": "stderr",
     "output_type": "stream",
     "text": [
      "Copying original MKV files:  85%|████████████▊  | 41/48 [00:14<00:02,  2.66it/s]"
     ]
    },
    {
     "name": "stdout",
     "output_type": "stream",
     "text": [
      "Copied '/Volumes/T7 Shield/algonauts_2025.competitors/stimuli/movies/friends/.git/annex/objects/3W/M4/MD5E-s177447968--9cd6dd7a3dd458785573cfcccba72d4a.mkv/MD5E-s177447968--9cd6dd7a3dd458785573cfcccba72d4a.mkv' to '/Volumes/T7 Shield/friends/stimuli/s5/friends_s05e05b.mkv'\n"
     ]
    },
    {
     "name": "stderr",
     "output_type": "stream",
     "text": [
      "Copying original MKV files:  88%|█████████████▏ | 42/48 [00:15<00:02,  2.75it/s]"
     ]
    },
    {
     "name": "stdout",
     "output_type": "stream",
     "text": [
      "Copied '/Volumes/T7 Shield/algonauts_2025.competitors/stimuli/movies/friends/.git/annex/objects/k3/PQ/MD5E-s153165379--96fe89bb4aace0be95859db10bffdf3f.mkv/MD5E-s153165379--96fe89bb4aace0be95859db10bffdf3f.mkv' to '/Volumes/T7 Shield/friends/stimuli/s5/friends_s05e09a.mkv'\n"
     ]
    },
    {
     "name": "stderr",
     "output_type": "stream",
     "text": [
      "Copying original MKV files:  90%|█████████████▍ | 43/48 [00:15<00:01,  2.82it/s]"
     ]
    },
    {
     "name": "stdout",
     "output_type": "stream",
     "text": [
      "Copied '/Volumes/T7 Shield/algonauts_2025.competitors/stimuli/movies/friends/.git/annex/objects/v3/XQ/MD5E-s150696953--a24c589f86d6492320893d31cdbe9434.mkv/MD5E-s150696953--a24c589f86d6492320893d31cdbe9434.mkv' to '/Volumes/T7 Shield/friends/stimuli/s5/friends_s05e08a.mkv'\n"
     ]
    },
    {
     "name": "stderr",
     "output_type": "stream",
     "text": [
      "Copying original MKV files:  92%|█████████████▊ | 44/48 [00:15<00:01,  2.69it/s]"
     ]
    },
    {
     "name": "stdout",
     "output_type": "stream",
     "text": [
      "Copied '/Volumes/T7 Shield/algonauts_2025.competitors/stimuli/movies/friends/.git/annex/objects/X1/MP/MD5E-s177778737--f5ed070bd887c6504322bba553b382f2.mkv/MD5E-s177778737--f5ed070bd887c6504322bba553b382f2.mkv' to '/Volumes/T7 Shield/friends/stimuli/s5/friends_s05e04b.mkv'\n"
     ]
    },
    {
     "name": "stderr",
     "output_type": "stream",
     "text": [
      "Copying original MKV files:  94%|██████████████ | 45/48 [00:16<00:01,  2.72it/s]"
     ]
    },
    {
     "name": "stdout",
     "output_type": "stream",
     "text": [
      "Copied '/Volumes/T7 Shield/algonauts_2025.competitors/stimuli/movies/friends/.git/annex/objects/Mj/QF/MD5E-s161791227--58031e830dfd45bd025fee64ed86babb.mkv/MD5E-s161791227--58031e830dfd45bd025fee64ed86babb.mkv' to '/Volumes/T7 Shield/friends/stimuli/s5/friends_s05e12b.mkv'\n"
     ]
    },
    {
     "name": "stderr",
     "output_type": "stream",
     "text": [
      "Copying original MKV files:  96%|██████████████▍| 46/48 [00:16<00:00,  2.75it/s]"
     ]
    },
    {
     "name": "stdout",
     "output_type": "stream",
     "text": [
      "Copied '/Volumes/T7 Shield/algonauts_2025.competitors/stimuli/movies/friends/.git/annex/objects/Qj/0Q/MD5E-s161266439--9a5e600b2806f6532e834fdc18c8b245.mkv/MD5E-s161266439--9a5e600b2806f6532e834fdc18c8b245.mkv' to '/Volumes/T7 Shield/friends/stimuli/s5/friends_s05e08b.mkv'\n"
     ]
    },
    {
     "name": "stderr",
     "output_type": "stream",
     "text": [
      "Copying original MKV files:  98%|██████████████▋| 47/48 [00:17<00:00,  2.70it/s]"
     ]
    },
    {
     "name": "stdout",
     "output_type": "stream",
     "text": [
      "Copied '/Volumes/T7 Shield/algonauts_2025.competitors/stimuli/movies/friends/.git/annex/objects/v7/Xg/MD5E-s163658872--f00ea7ca8e89bf6224d9ad2ba9066883.mkv/MD5E-s163658872--f00ea7ca8e89bf6224d9ad2ba9066883.mkv' to '/Volumes/T7 Shield/friends/stimuli/s5/friends_s05e04a.mkv'\n"
     ]
    },
    {
     "name": "stderr",
     "output_type": "stream",
     "text": [
      "Copying original MKV files: 100%|███████████████| 48/48 [00:17<00:00,  2.76it/s]"
     ]
    },
    {
     "name": "stdout",
     "output_type": "stream",
     "text": [
      "Copied '/Volumes/T7 Shield/algonauts_2025.competitors/stimuli/movies/friends/.git/annex/objects/qZ/8F/MD5E-s149670519--d1c400a57c3281a0a98dfde633421fd5.mkv/MD5E-s149670519--d1c400a57c3281a0a98dfde633421fd5.mkv' to '/Volumes/T7 Shield/friends/stimuli/s5/friends_s05e12a.mkv'\n"
     ]
    },
    {
     "name": "stderr",
     "output_type": "stream",
     "text": [
      "\n"
     ]
    }
   ],
   "source": [
    "source_folder = \"/Volumes/T7 Shield/algonauts_2025.competitors/stimuli/movies/friends/s5\" #replace with your source folder\n",
    "target_folder = \"/Volumes/T7 Shield/friends/stimuli/s5\" #replace with your target folder\n",
    "copy_original_mkv_files(source_folder, target_folder)"
   ]
  },
  {
   "cell_type": "code",
   "execution_count": 7,
   "id": "774bf02b-d41f-49c1-b9cf-f3ba96861155",
   "metadata": {},
   "outputs": [
    {
     "name": "stderr",
     "output_type": "stream",
     "text": [
      "Copying original MKV files:   2%|▎               | 1/50 [00:00<00:15,  3.23it/s]"
     ]
    },
    {
     "name": "stdout",
     "output_type": "stream",
     "text": [
      "Copied '/Volumes/T7 Shield/algonauts_2025.competitors/stimuli/movies/friends/.git/annex/objects/4J/fm/MD5E-s143075230--db48ba89fc8ed86186f92a97a6ec12bb.mkv/MD5E-s143075230--db48ba89fc8ed86186f92a97a6ec12bb.mkv' to '/Volumes/T7 Shield/friends/stimuli/s6/friends_s06e17a.mkv'\n"
     ]
    },
    {
     "name": "stderr",
     "output_type": "stream",
     "text": [
      "Copying original MKV files:   4%|▋               | 2/50 [00:00<00:15,  3.03it/s]"
     ]
    },
    {
     "name": "stdout",
     "output_type": "stream",
     "text": [
      "Copied '/Volumes/T7 Shield/algonauts_2025.competitors/stimuli/movies/friends/.git/annex/objects/Q1/6W/MD5E-s156954467--e962434d16998f43062f0c134bd3bba0.mkv/MD5E-s156954467--e962434d16998f43062f0c134bd3bba0.mkv' to '/Volumes/T7 Shield/friends/stimuli/s6/friends_s06e01a.mkv'\n"
     ]
    },
    {
     "name": "stderr",
     "output_type": "stream",
     "text": [
      "Copying original MKV files:   6%|▉               | 3/50 [00:01<00:16,  2.89it/s]"
     ]
    },
    {
     "name": "stdout",
     "output_type": "stream",
     "text": [
      "Copied '/Volumes/T7 Shield/algonauts_2025.competitors/stimuli/movies/friends/.git/annex/objects/04/7X/MD5E-s168167102--ce0154ffceeeda0ecaeb088c86a4567b.mkv/MD5E-s168167102--ce0154ffceeeda0ecaeb088c86a4567b.mkv' to '/Volumes/T7 Shield/friends/stimuli/s6/friends_s06e21b.mkv'\n"
     ]
    },
    {
     "name": "stderr",
     "output_type": "stream",
     "text": [
      "Copying original MKV files:   8%|█▎              | 4/50 [00:01<00:15,  2.89it/s]"
     ]
    },
    {
     "name": "stdout",
     "output_type": "stream",
     "text": [
      "Copied '/Volumes/T7 Shield/algonauts_2025.competitors/stimuli/movies/friends/.git/annex/objects/k8/27/MD5E-s156550537--7991b5b04cdc02e7d8431d7ffdd81f6c.mkv/MD5E-s156550537--7991b5b04cdc02e7d8431d7ffdd81f6c.mkv' to '/Volumes/T7 Shield/friends/stimuli/s6/friends_s06e17b.mkv'\n"
     ]
    },
    {
     "name": "stderr",
     "output_type": "stream",
     "text": [
      "Copying original MKV files:  10%|█▌              | 5/50 [00:01<00:15,  2.83it/s]"
     ]
    },
    {
     "name": "stdout",
     "output_type": "stream",
     "text": [
      "Copied '/Volumes/T7 Shield/algonauts_2025.competitors/stimuli/movies/friends/.git/annex/objects/k8/jq/MD5E-s168324895--3df700a0d4c0b120ceb88891a17f1d1a.mkv/MD5E-s168324895--3df700a0d4c0b120ceb88891a17f1d1a.mkv' to '/Volumes/T7 Shield/friends/stimuli/s6/friends_s06e01b.mkv'\n"
     ]
    },
    {
     "name": "stderr",
     "output_type": "stream",
     "text": [
      "Copying original MKV files:  12%|█▉              | 6/50 [00:02<00:15,  2.87it/s]"
     ]
    },
    {
     "name": "stdout",
     "output_type": "stream",
     "text": [
      "Copied '/Volumes/T7 Shield/algonauts_2025.competitors/stimuli/movies/friends/.git/annex/objects/Gx/Zx/MD5E-s154674476--d3ae0eb66e468ce1dc5b9edc38677d2c.mkv/MD5E-s154674476--d3ae0eb66e468ce1dc5b9edc38677d2c.mkv' to '/Volumes/T7 Shield/friends/stimuli/s6/friends_s06e21a.mkv'\n"
     ]
    },
    {
     "name": "stderr",
     "output_type": "stream",
     "text": [
      "Copying original MKV files:  14%|██▏             | 7/50 [00:02<00:14,  2.95it/s]"
     ]
    },
    {
     "name": "stdout",
     "output_type": "stream",
     "text": [
      "Copied '/Volumes/T7 Shield/algonauts_2025.competitors/stimuli/movies/friends/.git/annex/objects/0M/Pf/MD5E-s145103838--92ed38eb26c7584d688191911b1fb161.mkv/MD5E-s145103838--92ed38eb26c7584d688191911b1fb161.mkv' to '/Volumes/T7 Shield/friends/stimuli/s6/friends_s06e20a.mkv'\n"
     ]
    },
    {
     "name": "stderr",
     "output_type": "stream",
     "text": [
      "Copying original MKV files:  16%|██▌             | 8/50 [00:02<00:14,  2.92it/s]"
     ]
    },
    {
     "name": "stdout",
     "output_type": "stream",
     "text": [
      "Copied '/Volumes/T7 Shield/algonauts_2025.competitors/stimuli/movies/friends/.git/annex/objects/fq/x7/MD5E-s158236314--a897d8ca4b1a7fea66e61235c4e7f58c.mkv/MD5E-s158236314--a897d8ca4b1a7fea66e61235c4e7f58c.mkv' to '/Volumes/T7 Shield/friends/stimuli/s6/friends_s06e20b.mkv'\n"
     ]
    },
    {
     "name": "stderr",
     "output_type": "stream",
     "text": [
      "Copying original MKV files:  18%|██▉             | 9/50 [00:03<00:14,  2.82it/s]"
     ]
    },
    {
     "name": "stdout",
     "output_type": "stream",
     "text": [
      "Copied '/Volumes/T7 Shield/algonauts_2025.competitors/stimuli/movies/friends/.git/annex/objects/kf/w0/MD5E-s162872057--1acb0680c95dc867954e8b9b335ae027.mkv/MD5E-s162872057--1acb0680c95dc867954e8b9b335ae027.mkv' to '/Volumes/T7 Shield/friends/stimuli/s6/friends_s06e11b.mkv'\n"
     ]
    },
    {
     "name": "stderr",
     "output_type": "stream",
     "text": [
      "Copying original MKV files:  20%|███            | 10/50 [00:03<00:14,  2.82it/s]"
     ]
    },
    {
     "name": "stdout",
     "output_type": "stream",
     "text": [
      "Copied '/Volumes/T7 Shield/algonauts_2025.competitors/stimuli/movies/friends/.git/annex/objects/p1/M6/MD5E-s161844969--b12e27f9bc7671859ae3d9dc787e0d4f.mkv/MD5E-s161844969--b12e27f9bc7671859ae3d9dc787e0d4f.mkv' to '/Volumes/T7 Shield/friends/stimuli/s6/friends_s06e07b.mkv'\n"
     ]
    },
    {
     "name": "stderr",
     "output_type": "stream",
     "text": [
      "Copying original MKV files:  22%|███▎           | 11/50 [00:03<00:13,  2.87it/s]"
     ]
    },
    {
     "name": "stdout",
     "output_type": "stream",
     "text": [
      "Copied '/Volumes/T7 Shield/algonauts_2025.competitors/stimuli/movies/friends/.git/annex/objects/m5/Gj/MD5E-s151553320--102562579f4aa37fdf2917cf95e6840f.mkv/MD5E-s151553320--102562579f4aa37fdf2917cf95e6840f.mkv' to '/Volumes/T7 Shield/friends/stimuli/s6/friends_s06e11a.mkv'\n"
     ]
    },
    {
     "name": "stderr",
     "output_type": "stream",
     "text": [
      "Copying original MKV files:  24%|███▌           | 12/50 [00:04<00:13,  2.92it/s]"
     ]
    },
    {
     "name": "stdout",
     "output_type": "stream",
     "text": [
      "Copied '/Volumes/T7 Shield/algonauts_2025.competitors/stimuli/movies/friends/.git/annex/objects/KP/Gj/MD5E-s149830915--f39f07d67416052cc5583a8596322101.mkv/MD5E-s149830915--f39f07d67416052cc5583a8596322101.mkv' to '/Volumes/T7 Shield/friends/stimuli/s6/friends_s06e07a.mkv'\n"
     ]
    },
    {
     "name": "stderr",
     "output_type": "stream",
     "text": [
      "Copying original MKV files:  26%|███▉           | 13/50 [00:04<00:12,  2.90it/s]"
     ]
    },
    {
     "name": "stdout",
     "output_type": "stream",
     "text": [
      "Copied '/Volumes/T7 Shield/algonauts_2025.competitors/stimuli/movies/friends/.git/annex/objects/69/QK/MD5E-s149466231--90ea0244733446943f262a6d3aafcc3a.mkv/MD5E-s149466231--90ea0244733446943f262a6d3aafcc3a.mkv' to '/Volumes/T7 Shield/friends/stimuli/s6/friends_s06e06a.mkv'\n"
     ]
    },
    {
     "name": "stderr",
     "output_type": "stream",
     "text": [
      "Copying original MKV files:  28%|████▏          | 14/50 [00:04<00:12,  2.78it/s]"
     ]
    },
    {
     "name": "stdout",
     "output_type": "stream",
     "text": [
      "Copied '/Volumes/T7 Shield/algonauts_2025.competitors/stimuli/movies/friends/.git/annex/objects/6P/pF/MD5E-s159903891--9c2970e2a66d935ab27a07e92af03281.mkv/MD5E-s159903891--9c2970e2a66d935ab27a07e92af03281.mkv' to '/Volumes/T7 Shield/friends/stimuli/s6/friends_s06e10a.mkv'\n"
     ]
    },
    {
     "name": "stderr",
     "output_type": "stream",
     "text": [
      "Copying original MKV files:  30%|████▌          | 15/50 [00:05<00:12,  2.81it/s]"
     ]
    },
    {
     "name": "stdout",
     "output_type": "stream",
     "text": [
      "Copied '/Volumes/T7 Shield/algonauts_2025.competitors/stimuli/movies/friends/.git/annex/objects/pf/Mg/MD5E-s161140034--6101f6958e08c340d3538cd5af4489ef.mkv/MD5E-s161140034--6101f6958e08c340d3538cd5af4489ef.mkv' to '/Volumes/T7 Shield/friends/stimuli/s6/friends_s06e06b.mkv'\n"
     ]
    },
    {
     "name": "stderr",
     "output_type": "stream",
     "text": [
      "Copying original MKV files:  32%|████▊          | 16/50 [00:05<00:12,  2.79it/s]"
     ]
    },
    {
     "name": "stdout",
     "output_type": "stream",
     "text": [
      "Copied '/Volumes/T7 Shield/algonauts_2025.competitors/stimuli/movies/friends/.git/annex/objects/7M/wW/MD5E-s167454454--29e08f96fcdcbc44d41ce47d6996a1d1.mkv/MD5E-s167454454--29e08f96fcdcbc44d41ce47d6996a1d1.mkv' to '/Volumes/T7 Shield/friends/stimuli/s6/friends_s06e10b.mkv'\n"
     ]
    },
    {
     "name": "stderr",
     "output_type": "stream",
     "text": [
      "Copying original MKV files:  34%|█████          | 17/50 [00:05<00:11,  2.78it/s]"
     ]
    },
    {
     "name": "stdout",
     "output_type": "stream",
     "text": [
      "Copied '/Volumes/T7 Shield/algonauts_2025.competitors/stimuli/movies/friends/.git/annex/objects/fv/PZ/MD5E-s164714519--ad46cfa9b75645fc351ff4a52a8239b2.mkv/MD5E-s164714519--ad46cfa9b75645fc351ff4a52a8239b2.mkv' to '/Volumes/T7 Shield/friends/stimuli/s6/friends_s06e24d.mkv'\n"
     ]
    },
    {
     "name": "stderr",
     "output_type": "stream",
     "text": [
      "Copying original MKV files:  36%|█████▍         | 18/50 [00:06<00:11,  2.76it/s]"
     ]
    },
    {
     "name": "stdout",
     "output_type": "stream",
     "text": [
      "Copied '/Volumes/T7 Shield/algonauts_2025.competitors/stimuli/movies/friends/.git/annex/objects/k5/jX/MD5E-s169520120--5f55fd8bd3e523acd2f88dc0b681cd7c.mkv/MD5E-s169520120--5f55fd8bd3e523acd2f88dc0b681cd7c.mkv' to '/Volumes/T7 Shield/friends/stimuli/s6/friends_s06e09a.mkv'\n"
     ]
    },
    {
     "name": "stderr",
     "output_type": "stream",
     "text": [
      "Copying original MKV files:  38%|█████▋         | 19/50 [00:06<00:11,  2.76it/s]"
     ]
    },
    {
     "name": "stdout",
     "output_type": "stream",
     "text": [
      "Copied '/Volumes/T7 Shield/algonauts_2025.competitors/stimuli/movies/friends/.git/annex/objects/QW/Zw/MD5E-s164454754--5d10333094d5b69636f7a5ab152009c8.mkv/MD5E-s164454754--5d10333094d5b69636f7a5ab152009c8.mkv' to '/Volumes/T7 Shield/friends/stimuli/s6/friends_s06e05b.mkv'\n"
     ]
    },
    {
     "name": "stderr",
     "output_type": "stream",
     "text": [
      "Copying original MKV files:  40%|██████         | 20/50 [00:07<00:10,  2.73it/s]"
     ]
    },
    {
     "name": "stdout",
     "output_type": "stream",
     "text": [
      "Copied '/Volumes/T7 Shield/algonauts_2025.competitors/stimuli/movies/friends/.git/annex/objects/79/2k/MD5E-s171201618--dd31525b60b45de1074950858503e8c5.mkv/MD5E-s171201618--dd31525b60b45de1074950858503e8c5.mkv' to '/Volumes/T7 Shield/friends/stimuli/s6/friends_s06e13b.mkv'\n"
     ]
    },
    {
     "name": "stderr",
     "output_type": "stream",
     "text": [
      "Copying original MKV files:  42%|██████▎        | 21/50 [00:07<00:10,  2.67it/s]"
     ]
    },
    {
     "name": "stdout",
     "output_type": "stream",
     "text": [
      "Copied '/Volumes/T7 Shield/algonauts_2025.competitors/stimuli/movies/friends/.git/annex/objects/Zq/Vz/MD5E-s181919495--370b5d5e22cdf0822a31f2dee4b98862.mkv/MD5E-s181919495--370b5d5e22cdf0822a31f2dee4b98862.mkv' to '/Volumes/T7 Shield/friends/stimuli/s6/friends_s06e09b.mkv'\n"
     ]
    },
    {
     "name": "stderr",
     "output_type": "stream",
     "text": [
      "Copying original MKV files:  44%|██████▌        | 22/50 [00:07<00:10,  2.76it/s]"
     ]
    },
    {
     "name": "stdout",
     "output_type": "stream",
     "text": [
      "Copied '/Volumes/T7 Shield/algonauts_2025.competitors/stimuli/movies/friends/.git/annex/objects/K2/xg/MD5E-s151542683--93f776b6f3205837937762edf8eb3dff.mkv/MD5E-s151542683--93f776b6f3205837937762edf8eb3dff.mkv' to '/Volumes/T7 Shield/friends/stimuli/s6/friends_s06e05a.mkv'\n"
     ]
    },
    {
     "name": "stderr",
     "output_type": "stream",
     "text": [
      "Copying original MKV files:  46%|██████▉        | 23/50 [00:08<00:09,  2.75it/s]"
     ]
    },
    {
     "name": "stdout",
     "output_type": "stream",
     "text": [
      "Copied '/Volumes/T7 Shield/algonauts_2025.competitors/stimuli/movies/friends/.git/annex/objects/f2/zw/MD5E-s157580244--ae5b54ba001b626eed86f316c6fd12bf.mkv/MD5E-s157580244--ae5b54ba001b626eed86f316c6fd12bf.mkv' to '/Volumes/T7 Shield/friends/stimuli/s6/friends_s06e13a.mkv'\n"
     ]
    },
    {
     "name": "stderr",
     "output_type": "stream",
     "text": [
      "Copying original MKV files:  48%|███████▏       | 24/50 [00:08<00:09,  2.85it/s]"
     ]
    },
    {
     "name": "stdout",
     "output_type": "stream",
     "text": [
      "Copied '/Volumes/T7 Shield/algonauts_2025.competitors/stimuli/movies/friends/.git/annex/objects/M8/0V/MD5E-s147707346--7e9b867a658afc9a35fb3b80f71c3143.mkv/MD5E-s147707346--7e9b867a658afc9a35fb3b80f71c3143.mkv' to '/Volumes/T7 Shield/friends/stimuli/s6/friends_s06e12a.mkv'\n"
     ]
    },
    {
     "name": "stderr",
     "output_type": "stream",
     "text": [
      "Copying original MKV files:  50%|███████▌       | 25/50 [00:08<00:08,  2.88it/s]"
     ]
    },
    {
     "name": "stdout",
     "output_type": "stream",
     "text": [
      "Copied '/Volumes/T7 Shield/algonauts_2025.competitors/stimuli/movies/friends/.git/annex/objects/MZ/fX/MD5E-s147985296--acde489cd198c0c70a56fe2496c1b446.mkv/MD5E-s147985296--acde489cd198c0c70a56fe2496c1b446.mkv' to '/Volumes/T7 Shield/friends/stimuli/s6/friends_s06e04a.mkv'\n"
     ]
    },
    {
     "name": "stderr",
     "output_type": "stream",
     "text": [
      "Copying original MKV files:  52%|███████▊       | 26/50 [00:09<00:08,  2.81it/s]"
     ]
    },
    {
     "name": "stdout",
     "output_type": "stream",
     "text": [
      "Copied '/Volumes/T7 Shield/algonauts_2025.competitors/stimuli/movies/friends/.git/annex/objects/MV/gf/MD5E-s160676774--1ab061c6170fd77efd574a45845cf77e.mkv/MD5E-s160676774--1ab061c6170fd77efd574a45845cf77e.mkv' to '/Volumes/T7 Shield/friends/stimuli/s6/friends_s06e08b.mkv'\n"
     ]
    },
    {
     "name": "stderr",
     "output_type": "stream",
     "text": [
      "Copying original MKV files:  54%|████████       | 27/50 [00:09<00:08,  2.78it/s]"
     ]
    },
    {
     "name": "stdout",
     "output_type": "stream",
     "text": [
      "Copied '/Volumes/T7 Shield/algonauts_2025.competitors/stimuli/movies/friends/.git/annex/objects/jp/FK/MD5E-s155433743--d48e4bef2b54026f3dcd54cfbc723776.mkv/MD5E-s155433743--d48e4bef2b54026f3dcd54cfbc723776.mkv' to '/Volumes/T7 Shield/friends/stimuli/s6/friends_s06e24c.mkv'\n"
     ]
    },
    {
     "name": "stderr",
     "output_type": "stream",
     "text": [
      "Copying original MKV files:  56%|████████▍      | 28/50 [00:09<00:07,  2.76it/s]"
     ]
    },
    {
     "name": "stdout",
     "output_type": "stream",
     "text": [
      "Copied '/Volumes/T7 Shield/algonauts_2025.competitors/stimuli/movies/friends/.git/annex/objects/k3/9Q/MD5E-s156149793--3dda7ba4e07f0fdc6cbeb1ce36ac36b8.mkv/MD5E-s156149793--3dda7ba4e07f0fdc6cbeb1ce36ac36b8.mkv' to '/Volumes/T7 Shield/friends/stimuli/s6/friends_s06e24b.mkv'\n"
     ]
    },
    {
     "name": "stderr",
     "output_type": "stream",
     "text": [
      "Copying original MKV files:  58%|████████▋      | 29/50 [00:10<00:07,  2.78it/s]"
     ]
    },
    {
     "name": "stdout",
     "output_type": "stream",
     "text": [
      "Copied '/Volumes/T7 Shield/algonauts_2025.competitors/stimuli/movies/friends/.git/annex/objects/J4/3v/MD5E-s159507887--c1db4942257d27c7a5de225995f398bd.mkv/MD5E-s159507887--c1db4942257d27c7a5de225995f398bd.mkv' to '/Volumes/T7 Shield/friends/stimuli/s6/friends_s06e12b.mkv'\n"
     ]
    },
    {
     "name": "stderr",
     "output_type": "stream",
     "text": [
      "Copying original MKV files:  60%|█████████      | 30/50 [00:10<00:07,  2.79it/s]"
     ]
    },
    {
     "name": "stdout",
     "output_type": "stream",
     "text": [
      "Copied '/Volumes/T7 Shield/algonauts_2025.competitors/stimuli/movies/friends/.git/annex/objects/Kx/Qf/MD5E-s160404811--2ee229ae1ee54c2dd71928c08b7f5cba.mkv/MD5E-s160404811--2ee229ae1ee54c2dd71928c08b7f5cba.mkv' to '/Volumes/T7 Shield/friends/stimuli/s6/friends_s06e04b.mkv'\n"
     ]
    },
    {
     "name": "stderr",
     "output_type": "stream",
     "text": [
      "Copying original MKV files:  62%|█████████▎     | 31/50 [00:10<00:06,  2.87it/s]"
     ]
    },
    {
     "name": "stdout",
     "output_type": "stream",
     "text": [
      "Copied '/Volumes/T7 Shield/algonauts_2025.competitors/stimuli/movies/friends/.git/annex/objects/P8/J4/MD5E-s148065104--0fd74467ed897f99cab31b10e207d8c1.mkv/MD5E-s148065104--0fd74467ed897f99cab31b10e207d8c1.mkv' to '/Volumes/T7 Shield/friends/stimuli/s6/friends_s06e08a.mkv'\n"
     ]
    },
    {
     "name": "stderr",
     "output_type": "stream",
     "text": [
      "Copying original MKV files:  64%|█████████▌     | 32/50 [00:11<00:06,  2.90it/s]"
     ]
    },
    {
     "name": "stdout",
     "output_type": "stream",
     "text": [
      "Copied '/Volumes/T7 Shield/algonauts_2025.competitors/stimuli/movies/friends/.git/annex/objects/4V/ZQ/MD5E-s153369147--e554fc482f8ffd26f5936c343d05613b.mkv/MD5E-s153369147--e554fc482f8ffd26f5936c343d05613b.mkv' to '/Volumes/T7 Shield/friends/stimuli/s6/friends_s06e24a.mkv'\n"
     ]
    },
    {
     "name": "stderr",
     "output_type": "stream",
     "text": [
      "Copying original MKV files:  66%|█████████▉     | 33/50 [00:11<00:06,  2.81it/s]"
     ]
    },
    {
     "name": "stdout",
     "output_type": "stream",
     "text": [
      "Copied '/Volumes/T7 Shield/algonauts_2025.competitors/stimuli/movies/friends/.git/annex/objects/4X/6F/MD5E-s175134488--faf34973e20671ca5e768c60d84ed7be.mkv/MD5E-s175134488--faf34973e20671ca5e768c60d84ed7be.mkv' to '/Volumes/T7 Shield/friends/stimuli/s6/friends_s06e23b.mkv'\n"
     ]
    },
    {
     "name": "stderr",
     "output_type": "stream",
     "text": [
      "Copying original MKV files:  68%|██████████▏    | 34/50 [00:12<00:05,  2.88it/s]"
     ]
    },
    {
     "name": "stdout",
     "output_type": "stream",
     "text": [
      "Copied '/Volumes/T7 Shield/algonauts_2025.competitors/stimuli/movies/friends/.git/annex/objects/Pq/1p/MD5E-s148282708--329851f9e4a6a685985aa6b2ed93bd12.mkv/MD5E-s148282708--329851f9e4a6a685985aa6b2ed93bd12.mkv' to '/Volumes/T7 Shield/friends/stimuli/s6/friends_s06e03a.mkv'\n"
     ]
    },
    {
     "name": "stderr",
     "output_type": "stream",
     "text": [
      "Copying original MKV files:  70%|██████████▌    | 35/50 [00:12<00:05,  2.87it/s]"
     ]
    },
    {
     "name": "stdout",
     "output_type": "stream",
     "text": [
      "Copied '/Volumes/T7 Shield/algonauts_2025.competitors/stimuli/movies/friends/.git/annex/objects/V7/v0/MD5E-s158842173--baaa60367d4b66c14b87cd7ce3b74ea4.mkv/MD5E-s158842173--baaa60367d4b66c14b87cd7ce3b74ea4.mkv' to '/Volumes/T7 Shield/friends/stimuli/s6/friends_s06e19b.mkv'\n"
     ]
    },
    {
     "name": "stderr",
     "output_type": "stream",
     "text": [
      "Copying original MKV files:  72%|██████████▊    | 36/50 [00:12<00:04,  2.90it/s]"
     ]
    },
    {
     "name": "stdout",
     "output_type": "stream",
     "text": [
      "Copied '/Volumes/T7 Shield/algonauts_2025.competitors/stimuli/movies/friends/.git/annex/objects/gJ/6m/MD5E-s153407794--ffa548ee0f32e64c468c0de973c1ab38.mkv/MD5E-s153407794--ffa548ee0f32e64c468c0de973c1ab38.mkv' to '/Volumes/T7 Shield/friends/stimuli/s6/friends_s06e15a.mkv'\n"
     ]
    },
    {
     "name": "stderr",
     "output_type": "stream",
     "text": [
      "Copying original MKV files:  74%|███████████    | 37/50 [00:13<00:04,  2.85it/s]"
     ]
    },
    {
     "name": "stdout",
     "output_type": "stream",
     "text": [
      "Copied '/Volumes/T7 Shield/algonauts_2025.competitors/stimuli/movies/friends/.git/annex/objects/xX/fv/MD5E-s153705770--2c5979de68102b396be1651e96928736.mkv/MD5E-s153705770--2c5979de68102b396be1651e96928736.mkv' to '/Volumes/T7 Shield/friends/stimuli/s6/friends_s06e15c.mkv'\n"
     ]
    },
    {
     "name": "stderr",
     "output_type": "stream",
     "text": [
      "Copying original MKV files:  76%|███████████▍   | 38/50 [00:13<00:04,  2.83it/s]"
     ]
    },
    {
     "name": "stdout",
     "output_type": "stream",
     "text": [
      "Copied '/Volumes/T7 Shield/algonauts_2025.competitors/stimuli/movies/friends/.git/annex/objects/f0/13/MD5E-s164871693--0b63208953d9b44271167d0998723e73.mkv/MD5E-s164871693--0b63208953d9b44271167d0998723e73.mkv' to '/Volumes/T7 Shield/friends/stimuli/s6/friends_s06e23a.mkv'\n"
     ]
    },
    {
     "name": "stderr",
     "output_type": "stream",
     "text": [
      "Copying original MKV files:  78%|███████████▋   | 39/50 [00:13<00:03,  2.84it/s]"
     ]
    },
    {
     "name": "stdout",
     "output_type": "stream",
     "text": [
      "Copied '/Volumes/T7 Shield/algonauts_2025.competitors/stimuli/movies/friends/.git/annex/objects/f1/z1/MD5E-s159720589--b85c59a0d2b749873681dd852c33efa1.mkv/MD5E-s159720589--b85c59a0d2b749873681dd852c33efa1.mkv' to '/Volumes/T7 Shield/friends/stimuli/s6/friends_s06e03b.mkv'\n"
     ]
    },
    {
     "name": "stderr",
     "output_type": "stream",
     "text": [
      "Copying original MKV files:  80%|████████████   | 40/50 [00:14<00:03,  2.85it/s]"
     ]
    },
    {
     "name": "stdout",
     "output_type": "stream",
     "text": [
      "Copied '/Volumes/T7 Shield/algonauts_2025.competitors/stimuli/movies/friends/.git/annex/objects/7G/pG/MD5E-s146048499--c37f74a7937443ab64fbb394e55d0b4c.mkv/MD5E-s146048499--c37f74a7937443ab64fbb394e55d0b4c.mkv' to '/Volumes/T7 Shield/friends/stimuli/s6/friends_s06e19a.mkv'\n"
     ]
    },
    {
     "name": "stderr",
     "output_type": "stream",
     "text": [
      "Copying original MKV files:  82%|████████████▎  | 41/50 [00:14<00:03,  2.75it/s]"
     ]
    },
    {
     "name": "stdout",
     "output_type": "stream",
     "text": [
      "Copied '/Volumes/T7 Shield/algonauts_2025.competitors/stimuli/movies/friends/.git/annex/objects/QV/Kv/MD5E-s154073080--a5d98007ac060fda1f446842b204549c.mkv/MD5E-s154073080--a5d98007ac060fda1f446842b204549c.mkv' to '/Volumes/T7 Shield/friends/stimuli/s6/friends_s06e15b.mkv'\n"
     ]
    },
    {
     "name": "stderr",
     "output_type": "stream",
     "text": [
      "Copying original MKV files:  84%|████████████▌  | 42/50 [00:14<00:02,  2.73it/s]"
     ]
    },
    {
     "name": "stdout",
     "output_type": "stream",
     "text": [
      "Copied '/Volumes/T7 Shield/algonauts_2025.competitors/stimuli/movies/friends/.git/annex/objects/mm/6G/MD5E-s168286440--7e26fbbef0223bf1b393029e45ff174e.mkv/MD5E-s168286440--7e26fbbef0223bf1b393029e45ff174e.mkv' to '/Volumes/T7 Shield/friends/stimuli/s6/friends_s06e14b.mkv'\n"
     ]
    },
    {
     "name": "stderr",
     "output_type": "stream",
     "text": [
      "Copying original MKV files:  86%|████████████▉  | 43/50 [00:15<00:02,  2.83it/s]"
     ]
    },
    {
     "name": "stdout",
     "output_type": "stream",
     "text": [
      "Copied '/Volumes/T7 Shield/algonauts_2025.competitors/stimuli/movies/friends/.git/annex/objects/Gf/j7/MD5E-s146409034--545914d30e76c7c189ad6297ce69936a.mkv/MD5E-s146409034--545914d30e76c7c189ad6297ce69936a.mkv' to '/Volumes/T7 Shield/friends/stimuli/s6/friends_s06e18a.mkv'\n"
     ]
    },
    {
     "name": "stderr",
     "output_type": "stream",
     "text": [
      "Copying original MKV files:  88%|█████████████▏ | 44/50 [00:15<00:02,  2.82it/s]"
     ]
    },
    {
     "name": "stdout",
     "output_type": "stream",
     "text": [
      "Copied '/Volumes/T7 Shield/algonauts_2025.competitors/stimuli/movies/friends/.git/annex/objects/WZ/pW/MD5E-s165019237--049361b08597a8621102bc7270041d50.mkv/MD5E-s165019237--049361b08597a8621102bc7270041d50.mkv' to '/Volumes/T7 Shield/friends/stimuli/s6/friends_s06e02b.mkv'\n"
     ]
    },
    {
     "name": "stderr",
     "output_type": "stream",
     "text": [
      "Copying original MKV files:  90%|█████████████▌ | 45/50 [00:15<00:01,  2.86it/s]"
     ]
    },
    {
     "name": "stdout",
     "output_type": "stream",
     "text": [
      "Copied '/Volumes/T7 Shield/algonauts_2025.competitors/stimuli/movies/friends/.git/annex/objects/mG/Pm/MD5E-s152392046--8222ee4b632e7c49f7bb3208791805ff.mkv/MD5E-s152392046--8222ee4b632e7c49f7bb3208791805ff.mkv' to '/Volumes/T7 Shield/friends/stimuli/s6/friends_s06e22a.mkv'\n"
     ]
    },
    {
     "name": "stderr",
     "output_type": "stream",
     "text": [
      "Copying original MKV files:  92%|█████████████▊ | 46/50 [00:16<00:01,  2.85it/s]"
     ]
    },
    {
     "name": "stdout",
     "output_type": "stream",
     "text": [
      "Copied '/Volumes/T7 Shield/algonauts_2025.competitors/stimuli/movies/friends/.git/annex/objects/pG/84/MD5E-s155016187--d519a84759bffb3f3480fdbe865872c9.mkv/MD5E-s155016187--d519a84759bffb3f3480fdbe865872c9.mkv' to '/Volumes/T7 Shield/friends/stimuli/s6/friends_s06e14a.mkv'\n"
     ]
    },
    {
     "name": "stderr",
     "output_type": "stream",
     "text": [
      "Copying original MKV files:  94%|██████████████ | 47/50 [00:16<00:01,  2.83it/s]"
     ]
    },
    {
     "name": "stdout",
     "output_type": "stream",
     "text": [
      "Copied '/Volumes/T7 Shield/algonauts_2025.competitors/stimuli/movies/friends/.git/annex/objects/7Q/58/MD5E-s159022579--1be6d33bf622fecd51d8fc3ee1bf5ba2.mkv/MD5E-s159022579--1be6d33bf622fecd51d8fc3ee1bf5ba2.mkv' to '/Volumes/T7 Shield/friends/stimuli/s6/friends_s06e18b.mkv'\n"
     ]
    },
    {
     "name": "stderr",
     "output_type": "stream",
     "text": [
      "Copying original MKV files:  96%|██████████████▍| 48/50 [00:16<00:00,  2.81it/s]"
     ]
    },
    {
     "name": "stdout",
     "output_type": "stream",
     "text": [
      "Copied '/Volumes/T7 Shield/algonauts_2025.competitors/stimuli/movies/friends/.git/annex/objects/qk/WM/MD5E-s152496464--96c026c4845287136c4d445fb4bd5831.mkv/MD5E-s152496464--96c026c4845287136c4d445fb4bd5831.mkv' to '/Volumes/T7 Shield/friends/stimuli/s6/friends_s06e02a.mkv'\n"
     ]
    },
    {
     "name": "stderr",
     "output_type": "stream",
     "text": [
      "Copying original MKV files:  98%|██████████████▋| 49/50 [00:17<00:00,  2.79it/s]"
     ]
    },
    {
     "name": "stdout",
     "output_type": "stream",
     "text": [
      "Copied '/Volumes/T7 Shield/algonauts_2025.competitors/stimuli/movies/friends/.git/annex/objects/FZ/4q/MD5E-s164064706--a8be89d8b757e207545bbd79ba5edc97.mkv/MD5E-s164064706--a8be89d8b757e207545bbd79ba5edc97.mkv' to '/Volumes/T7 Shield/friends/stimuli/s6/friends_s06e22b.mkv'\n"
     ]
    },
    {
     "name": "stderr",
     "output_type": "stream",
     "text": [
      "Copying original MKV files: 100%|███████████████| 50/50 [00:17<00:00,  2.82it/s]"
     ]
    },
    {
     "name": "stdout",
     "output_type": "stream",
     "text": [
      "Copied '/Volumes/T7 Shield/algonauts_2025.competitors/stimuli/movies/friends/.git/annex/objects/XJ/9M/MD5E-s165088533--42f81fa4dcb0287007aed848b96ee4fa.mkv/MD5E-s165088533--42f81fa4dcb0287007aed848b96ee4fa.mkv' to '/Volumes/T7 Shield/friends/stimuli/s6/friends_s06e15d.mkv'\n"
     ]
    },
    {
     "name": "stderr",
     "output_type": "stream",
     "text": [
      "\n"
     ]
    }
   ],
   "source": [
    "source_folder = \"/Volumes/T7 Shield/algonauts_2025.competitors/stimuli/movies/friends/s6\" #replace with your source folder\n",
    "target_folder = \"/Volumes/T7 Shield/friends/stimuli/s6\" #replace with your target folder\n",
    "copy_original_mkv_files(source_folder, target_folder)"
   ]
  },
  {
   "cell_type": "markdown",
   "id": "6736cc71-644a-4892-ab8f-d45cf03e925b",
   "metadata": {},
   "source": [
    "### Now convert to MP3"
   ]
  },
  {
   "cell_type": "code",
   "execution_count": 11,
   "id": "cb858b00-ddf7-4766-86c4-1c70017a139c",
   "metadata": {},
   "outputs": [],
   "source": [
    "\n",
    "\n",
    "def extract_audio_from_mkv(mkv_file, output_path=None):\n",
    "    \"\"\"\n",
    "    Extracts the audio track from an MKV video file and saves it as an MP3 file.\n",
    "\n",
    "    Args:\n",
    "        mkv_file (str): The path to the MKV video file.\n",
    "        output_path (str, optional): The path to save the extracted audio file.\n",
    "                                     If None, it will be saved in the same directory\n",
    "                                     as the MKV file with the same name but with a .mp3 extension.\n",
    "                                     Defaults to None.\n",
    "\n",
    "    Returns:\n",
    "        str: The path to the extracted audio file, or None on error.\n",
    "    \"\"\"\n",
    "\n",
    "    mkv_path = Path(mkv_file)\n",
    "\n",
    "    if not mkv_path.exists():\n",
    "        print(f\"Error: MKV file not found at {mkv_file}\")\n",
    "        return None\n",
    "\n",
    "    if output_path is None:\n",
    "        # Default output path: same directory, same name, .mp3 extension\n",
    "        output_path = str(mkv_path.with_suffix(\".mp3\"))\n",
    "\n",
    "    # Use ffmpeg to extract the audio\n",
    "    command = [\n",
    "        \"ffmpeg\",\n",
    "        \"-i\", str(mkv_path),\n",
    "        \"-vn\",  # Disable video recording\n",
    "        \"-acodec\", \"mp3\",  # Or use \"wav\", \"aac\", etc.\n",
    "        output_path,\n",
    "    ]\n",
    "\n",
    "    try:\n",
    "        # Run the command. Check=True raises an exception on error.\n",
    "        subprocess.run(command, check=True, capture_output=True)\n",
    "        print(f\"Audio extracted successfully to {output_path}\")\n",
    "        return output_path\n",
    "    except subprocess.CalledProcessError as e:\n",
    "        print(f\"Error extracting audio: {e}\")\n",
    "        print(f\"Command was: {' '.join(command)}\")\n",
    "        print(f\"FFmpeg output (stderr):\\n{e.stderr.decode()}\")\n",
    "        return None\n",
    "    except FileNotFoundError:\n",
    "        print(\"Error: ffmpeg not found. Please ensure ffmpeg is installed and in your system's PATH.\")\n",
    "        return None\n",
    "    except Exception as e:\n",
    "        print(f\"An unexpected error occurred: {e}\")\n",
    "        return None\n",
    "\n",
    "\n",
    "\n",
    "def find_mkv_files(folder_path):\n",
    "    \"\"\"\n",
    "    Finds all paths to MKV files in a folder and its subfolders.\n",
    "    Args: folder_path (str): Path to the folder to search.\n",
    "    Returns: list: A list of absolute paths to all MKV files found.\n",
    "    \"\"\"\n",
    "    mkv_files = []\n",
    "    folder = Path(folder_path)\n",
    "\n",
    "    if not folder.exists():\n",
    "        print(f\"Error: Folder '{folder_path}' does not exist.\")\n",
    "        return []\n",
    "\n",
    "    for file_path in folder.rglob(\"*.mkv\"): # rglob is recursive glob.\n",
    "        mkv_files.append(str(file_path.resolve())) #resolve to get absolute path.\n",
    "\n",
    "    return mkv_files\n"
   ]
  },
  {
   "cell_type": "code",
   "execution_count": 10,
   "id": "c1d9732e-c974-43f9-838d-fb083c24f5a5",
   "metadata": {},
   "outputs": [
    {
     "data": {
      "text/plain": [
       "['/Volumes/T7 Shield/friends/stimuli/s1/friends_s01e13a.mkv',\n",
       " '/Volumes/T7 Shield/friends/stimuli/s1/friends_s01e09b.mkv',\n",
       " '/Volumes/T7 Shield/friends/stimuli/s1/friends_s01e05a.mkv']"
      ]
     },
     "execution_count": 10,
     "metadata": {},
     "output_type": "execute_result"
    }
   ],
   "source": [
    "# Example usage:\n",
    "folder_to_search = \"/Volumes/T7 Shield/friends/stimuli\" #replace with your folder path.\n",
    "mkv_file_paths = find_mkv_files(folder_to_search)\n",
    "mkv_file_paths[:3]"
   ]
  },
  {
   "cell_type": "code",
   "execution_count": 12,
   "id": "0ec13921-92d5-4eb3-b802-d2c2389e7e02",
   "metadata": {},
   "outputs": [
    {
     "name": "stderr",
     "output_type": "stream",
     "text": [
      "  0%|▏                                          | 1/292 [00:06<32:03,  6.61s/it]"
     ]
    },
    {
     "name": "stdout",
     "output_type": "stream",
     "text": [
      "Audio extracted successfully to /Volumes/T7 Shield/friends/stimuli/s1/friends_s01e13a.mp3\n"
     ]
    },
    {
     "name": "stderr",
     "output_type": "stream",
     "text": [
      "  1%|▎                                          | 2/292 [00:13<31:39,  6.55s/it]"
     ]
    },
    {
     "name": "stdout",
     "output_type": "stream",
     "text": [
      "Audio extracted successfully to /Volumes/T7 Shield/friends/stimuli/s1/friends_s01e09b.mp3\n"
     ]
    },
    {
     "name": "stderr",
     "output_type": "stream",
     "text": [
      "  1%|▍                                          | 3/292 [00:19<31:14,  6.49s/it]"
     ]
    },
    {
     "name": "stdout",
     "output_type": "stream",
     "text": [
      "Audio extracted successfully to /Volumes/T7 Shield/friends/stimuli/s1/friends_s01e05a.mp3\n"
     ]
    },
    {
     "name": "stderr",
     "output_type": "stream",
     "text": [
      "  1%|▌                                          | 4/292 [00:25<30:50,  6.42s/it]"
     ]
    },
    {
     "name": "stdout",
     "output_type": "stream",
     "text": [
      "Audio extracted successfully to /Volumes/T7 Shield/friends/stimuli/s1/friends_s01e13b.mp3\n"
     ]
    },
    {
     "name": "stderr",
     "output_type": "stream",
     "text": [
      "  2%|▋                                          | 5/292 [00:32<30:33,  6.39s/it]"
     ]
    },
    {
     "name": "stdout",
     "output_type": "stream",
     "text": [
      "Audio extracted successfully to /Volumes/T7 Shield/friends/stimuli/s1/friends_s01e09a.mp3\n"
     ]
    },
    {
     "name": "stderr",
     "output_type": "stream",
     "text": [
      "  2%|▉                                          | 6/292 [00:38<30:55,  6.49s/it]"
     ]
    },
    {
     "name": "stdout",
     "output_type": "stream",
     "text": [
      "Audio extracted successfully to /Volumes/T7 Shield/friends/stimuli/s1/friends_s01e05b.mp3\n"
     ]
    },
    {
     "name": "stderr",
     "output_type": "stream",
     "text": [
      "  2%|█                                          | 7/292 [00:46<31:59,  6.73s/it]"
     ]
    },
    {
     "name": "stdout",
     "output_type": "stream",
     "text": [
      "Audio extracted successfully to /Volumes/T7 Shield/friends/stimuli/s1/friends_s01e24a.mp3\n"
     ]
    },
    {
     "name": "stderr",
     "output_type": "stream",
     "text": [
      "  3%|█▏                                         | 8/292 [00:53<32:17,  6.82s/it]"
     ]
    },
    {
     "name": "stdout",
     "output_type": "stream",
     "text": [
      "Audio extracted successfully to /Volumes/T7 Shield/friends/stimuli/s1/friends_s01e04b.mp3\n"
     ]
    },
    {
     "name": "stderr",
     "output_type": "stream",
     "text": [
      "  3%|█▎                                         | 9/292 [00:59<31:33,  6.69s/it]"
     ]
    },
    {
     "name": "stdout",
     "output_type": "stream",
     "text": [
      "Audio extracted successfully to /Volumes/T7 Shield/friends/stimuli/s1/friends_s01e08a.mp3\n"
     ]
    },
    {
     "name": "stderr",
     "output_type": "stream",
     "text": [
      "  3%|█▍                                        | 10/292 [01:05<30:32,  6.50s/it]"
     ]
    },
    {
     "name": "stdout",
     "output_type": "stream",
     "text": [
      "Audio extracted successfully to /Volumes/T7 Shield/friends/stimuli/s1/friends_s01e12b.mp3\n"
     ]
    },
    {
     "name": "stderr",
     "output_type": "stream",
     "text": [
      "  4%|█▌                                        | 11/292 [01:12<31:21,  6.69s/it]"
     ]
    },
    {
     "name": "stdout",
     "output_type": "stream",
     "text": [
      "Audio extracted successfully to /Volumes/T7 Shield/friends/stimuli/s1/friends_s01e24b.mp3\n"
     ]
    },
    {
     "name": "stderr",
     "output_type": "stream",
     "text": [
      "  4%|█▋                                        | 12/292 [01:19<31:51,  6.83s/it]"
     ]
    },
    {
     "name": "stdout",
     "output_type": "stream",
     "text": [
      "Audio extracted successfully to /Volumes/T7 Shield/friends/stimuli/s1/friends_s01e04a.mp3\n"
     ]
    },
    {
     "name": "stderr",
     "output_type": "stream",
     "text": [
      "  4%|█▊                                        | 13/292 [01:26<31:13,  6.72s/it]"
     ]
    },
    {
     "name": "stdout",
     "output_type": "stream",
     "text": [
      "Audio extracted successfully to /Volumes/T7 Shield/friends/stimuli/s1/friends_s01e08b.mp3\n"
     ]
    },
    {
     "name": "stderr",
     "output_type": "stream",
     "text": [
      "  5%|██                                        | 14/292 [01:32<30:46,  6.64s/it]"
     ]
    },
    {
     "name": "stdout",
     "output_type": "stream",
     "text": [
      "Audio extracted successfully to /Volumes/T7 Shield/friends/stimuli/s1/friends_s01e12a.mp3\n"
     ]
    },
    {
     "name": "stderr",
     "output_type": "stream",
     "text": [
      "  5%|██▏                                       | 15/292 [01:39<30:29,  6.60s/it]"
     ]
    },
    {
     "name": "stdout",
     "output_type": "stream",
     "text": [
      "Audio extracted successfully to /Volumes/T7 Shield/friends/stimuli/s1/friends_s01e19a.mp3\n"
     ]
    },
    {
     "name": "stderr",
     "output_type": "stream",
     "text": [
      "  5%|██▎                                       | 16/292 [01:45<30:21,  6.60s/it]"
     ]
    },
    {
     "name": "stdout",
     "output_type": "stream",
     "text": [
      "Audio extracted successfully to /Volumes/T7 Shield/friends/stimuli/s1/friends_s01e15b.mp3\n"
     ]
    },
    {
     "name": "stderr",
     "output_type": "stream",
     "text": [
      "  6%|██▍                                       | 17/292 [01:52<29:53,  6.52s/it]"
     ]
    },
    {
     "name": "stdout",
     "output_type": "stream",
     "text": [
      "Audio extracted successfully to /Volumes/T7 Shield/friends/stimuli/s1/friends_s01e03b.mp3\n"
     ]
    },
    {
     "name": "stderr",
     "output_type": "stream",
     "text": [
      "  6%|██▌                                       | 18/292 [01:58<29:29,  6.46s/it]"
     ]
    },
    {
     "name": "stdout",
     "output_type": "stream",
     "text": [
      "Audio extracted successfully to /Volumes/T7 Shield/friends/stimuli/s1/friends_s01e23a.mp3\n"
     ]
    },
    {
     "name": "stderr",
     "output_type": "stream",
     "text": [
      "  7%|██▋                                       | 19/292 [02:04<29:07,  6.40s/it]"
     ]
    },
    {
     "name": "stdout",
     "output_type": "stream",
     "text": [
      "Audio extracted successfully to /Volumes/T7 Shield/friends/stimuli/s1/friends_s01e19b.mp3\n"
     ]
    },
    {
     "name": "stderr",
     "output_type": "stream",
     "text": [
      "  7%|██▉                                       | 20/292 [02:11<29:05,  6.42s/it]"
     ]
    },
    {
     "name": "stdout",
     "output_type": "stream",
     "text": [
      "Audio extracted successfully to /Volumes/T7 Shield/friends/stimuli/s1/friends_s01e15a.mp3\n"
     ]
    },
    {
     "name": "stderr",
     "output_type": "stream",
     "text": [
      "  7%|███                                       | 21/292 [02:18<29:38,  6.56s/it]"
     ]
    },
    {
     "name": "stdout",
     "output_type": "stream",
     "text": [
      "Audio extracted successfully to /Volumes/T7 Shield/friends/stimuli/s1/friends_s01e03a.mp3\n"
     ]
    },
    {
     "name": "stderr",
     "output_type": "stream",
     "text": [
      "  8%|███▏                                      | 22/292 [02:24<28:59,  6.44s/it]"
     ]
    },
    {
     "name": "stdout",
     "output_type": "stream",
     "text": [
      "Audio extracted successfully to /Volumes/T7 Shield/friends/stimuli/s1/friends_s01e23b.mp3\n"
     ]
    },
    {
     "name": "stderr",
     "output_type": "stream",
     "text": [
      "  8%|███▎                                      | 23/292 [02:30<28:57,  6.46s/it]"
     ]
    },
    {
     "name": "stdout",
     "output_type": "stream",
     "text": [
      "Audio extracted successfully to /Volumes/T7 Shield/friends/stimuli/s1/friends_s01e22b.mp3\n"
     ]
    },
    {
     "name": "stderr",
     "output_type": "stream",
     "text": [
      "  8%|███▍                                      | 24/292 [02:37<29:15,  6.55s/it]"
     ]
    },
    {
     "name": "stdout",
     "output_type": "stream",
     "text": [
      "Audio extracted successfully to /Volumes/T7 Shield/friends/stimuli/s1/friends_s01e02a.mp3\n"
     ]
    },
    {
     "name": "stderr",
     "output_type": "stream",
     "text": [
      "  9%|███▌                                      | 25/292 [02:45<30:39,  6.89s/it]"
     ]
    },
    {
     "name": "stdout",
     "output_type": "stream",
     "text": [
      "Audio extracted successfully to /Volumes/T7 Shield/friends/stimuli/s1/friends_s01e14a.mp3\n"
     ]
    },
    {
     "name": "stderr",
     "output_type": "stream",
     "text": [
      "  9%|███▋                                      | 26/292 [02:52<30:25,  6.86s/it]"
     ]
    },
    {
     "name": "stdout",
     "output_type": "stream",
     "text": [
      "Audio extracted successfully to /Volumes/T7 Shield/friends/stimuli/s1/friends_s01e18b.mp3\n"
     ]
    },
    {
     "name": "stderr",
     "output_type": "stream",
     "text": [
      "  9%|███▉                                      | 27/292 [02:58<29:44,  6.73s/it]"
     ]
    },
    {
     "name": "stdout",
     "output_type": "stream",
     "text": [
      "Audio extracted successfully to /Volumes/T7 Shield/friends/stimuli/s1/friends_s01e22a.mp3\n"
     ]
    },
    {
     "name": "stderr",
     "output_type": "stream",
     "text": [
      " 10%|████                                      | 28/292 [03:05<29:36,  6.73s/it]"
     ]
    },
    {
     "name": "stdout",
     "output_type": "stream",
     "text": [
      "Audio extracted successfully to /Volumes/T7 Shield/friends/stimuli/s1/friends_s01e02b.mp3\n"
     ]
    },
    {
     "name": "stderr",
     "output_type": "stream",
     "text": [
      " 10%|████▏                                     | 29/292 [03:12<29:55,  6.83s/it]"
     ]
    },
    {
     "name": "stdout",
     "output_type": "stream",
     "text": [
      "Audio extracted successfully to /Volumes/T7 Shield/friends/stimuli/s1/friends_s01e14b.mp3\n"
     ]
    },
    {
     "name": "stderr",
     "output_type": "stream",
     "text": [
      " 10%|████▎                                     | 30/292 [03:19<29:55,  6.85s/it]"
     ]
    },
    {
     "name": "stdout",
     "output_type": "stream",
     "text": [
      "Audio extracted successfully to /Volumes/T7 Shield/friends/stimuli/s1/friends_s01e18a.mp3\n"
     ]
    },
    {
     "name": "stderr",
     "output_type": "stream",
     "text": [
      " 11%|████▍                                     | 31/292 [03:25<29:39,  6.82s/it]"
     ]
    },
    {
     "name": "stdout",
     "output_type": "stream",
     "text": [
      "Audio extracted successfully to /Volumes/T7 Shield/friends/stimuli/s1/friends_s01e21a.mp3\n"
     ]
    },
    {
     "name": "stderr",
     "output_type": "stream",
     "text": [
      " 11%|████▌                                     | 32/292 [03:33<30:54,  7.13s/it]"
     ]
    },
    {
     "name": "stdout",
     "output_type": "stream",
     "text": [
      "Audio extracted successfully to /Volumes/T7 Shield/friends/stimuli/s1/friends_s01e01b.mp3\n"
     ]
    },
    {
     "name": "stderr",
     "output_type": "stream",
     "text": [
      " 11%|████▋                                     | 33/292 [03:40<30:17,  7.02s/it]"
     ]
    },
    {
     "name": "stdout",
     "output_type": "stream",
     "text": [
      "Audio extracted successfully to /Volumes/T7 Shield/friends/stimuli/s1/friends_s01e17b.mp3\n"
     ]
    },
    {
     "name": "stderr",
     "output_type": "stream",
     "text": [
      " 12%|████▉                                     | 34/292 [03:47<29:44,  6.92s/it]"
     ]
    },
    {
     "name": "stdout",
     "output_type": "stream",
     "text": [
      "Audio extracted successfully to /Volumes/T7 Shield/friends/stimuli/s1/friends_s01e21b.mp3\n"
     ]
    },
    {
     "name": "stderr",
     "output_type": "stream",
     "text": [
      " 12%|█████                                     | 35/292 [03:55<30:55,  7.22s/it]"
     ]
    },
    {
     "name": "stdout",
     "output_type": "stream",
     "text": [
      "Audio extracted successfully to /Volumes/T7 Shield/friends/stimuli/s1/friends_s01e01a.mp3\n"
     ]
    },
    {
     "name": "stderr",
     "output_type": "stream",
     "text": [
      " 12%|█████▏                                    | 36/292 [04:01<30:06,  7.06s/it]"
     ]
    },
    {
     "name": "stdout",
     "output_type": "stream",
     "text": [
      "Audio extracted successfully to /Volumes/T7 Shield/friends/stimuli/s1/friends_s01e17a.mp3\n"
     ]
    },
    {
     "name": "stderr",
     "output_type": "stream",
     "text": [
      " 13%|█████▎                                    | 37/292 [04:08<29:14,  6.88s/it]"
     ]
    },
    {
     "name": "stdout",
     "output_type": "stream",
     "text": [
      "Audio extracted successfully to /Volumes/T7 Shield/friends/stimuli/s1/friends_s01e16a.mp3\n"
     ]
    },
    {
     "name": "stderr",
     "output_type": "stream",
     "text": [
      " 13%|█████▍                                    | 38/292 [04:14<28:32,  6.74s/it]"
     ]
    },
    {
     "name": "stdout",
     "output_type": "stream",
     "text": [
      "Audio extracted successfully to /Volumes/T7 Shield/friends/stimuli/s1/friends_s01e20b.mp3\n"
     ]
    },
    {
     "name": "stderr",
     "output_type": "stream",
     "text": [
      " 13%|█████▌                                    | 39/292 [04:21<28:09,  6.68s/it]"
     ]
    },
    {
     "name": "stdout",
     "output_type": "stream",
     "text": [
      "Audio extracted successfully to /Volumes/T7 Shield/friends/stimuli/s1/friends_s01e16b.mp3\n"
     ]
    },
    {
     "name": "stderr",
     "output_type": "stream",
     "text": [
      " 14%|█████▊                                    | 40/292 [04:27<28:00,  6.67s/it]"
     ]
    },
    {
     "name": "stdout",
     "output_type": "stream",
     "text": [
      "Audio extracted successfully to /Volumes/T7 Shield/friends/stimuli/s1/friends_s01e20a.mp3\n"
     ]
    },
    {
     "name": "stderr",
     "output_type": "stream",
     "text": [
      " 14%|█████▉                                    | 41/292 [04:34<28:26,  6.80s/it]"
     ]
    },
    {
     "name": "stdout",
     "output_type": "stream",
     "text": [
      "Audio extracted successfully to /Volumes/T7 Shield/friends/stimuli/s1/friends_s01e07a.mp3\n"
     ]
    },
    {
     "name": "stderr",
     "output_type": "stream",
     "text": [
      " 14%|██████                                    | 42/292 [04:41<28:04,  6.74s/it]"
     ]
    },
    {
     "name": "stdout",
     "output_type": "stream",
     "text": [
      "Audio extracted successfully to /Volumes/T7 Shield/friends/stimuli/s1/friends_s01e11a.mp3\n"
     ]
    },
    {
     "name": "stderr",
     "output_type": "stream",
     "text": [
      " 15%|██████▏                                   | 43/292 [04:48<28:25,  6.85s/it]"
     ]
    },
    {
     "name": "stdout",
     "output_type": "stream",
     "text": [
      "Audio extracted successfully to /Volumes/T7 Shield/friends/stimuli/s1/friends_s01e07b.mp3\n"
     ]
    },
    {
     "name": "stderr",
     "output_type": "stream",
     "text": [
      " 15%|██████▎                                   | 44/292 [04:55<27:44,  6.71s/it]"
     ]
    },
    {
     "name": "stdout",
     "output_type": "stream",
     "text": [
      "Audio extracted successfully to /Volumes/T7 Shield/friends/stimuli/s1/friends_s01e11b.mp3\n"
     ]
    },
    {
     "name": "stderr",
     "output_type": "stream",
     "text": [
      " 15%|██████▍                                   | 45/292 [05:01<27:33,  6.70s/it]"
     ]
    },
    {
     "name": "stdout",
     "output_type": "stream",
     "text": [
      "Audio extracted successfully to /Volumes/T7 Shield/friends/stimuli/s1/friends_s01e10b.mp3\n"
     ]
    },
    {
     "name": "stderr",
     "output_type": "stream",
     "text": [
      " 16%|██████▌                                   | 46/292 [05:08<27:51,  6.79s/it]"
     ]
    },
    {
     "name": "stdout",
     "output_type": "stream",
     "text": [
      "Audio extracted successfully to /Volumes/T7 Shield/friends/stimuli/s1/friends_s01e06b.mp3\n"
     ]
    },
    {
     "name": "stderr",
     "output_type": "stream",
     "text": [
      " 16%|██████▊                                   | 47/292 [05:15<27:44,  6.79s/it]"
     ]
    },
    {
     "name": "stdout",
     "output_type": "stream",
     "text": [
      "Audio extracted successfully to /Volumes/T7 Shield/friends/stimuli/s1/friends_s01e10a.mp3\n"
     ]
    },
    {
     "name": "stderr",
     "output_type": "stream",
     "text": [
      " 16%|██████▉                                   | 48/292 [05:22<27:22,  6.73s/it]"
     ]
    },
    {
     "name": "stdout",
     "output_type": "stream",
     "text": [
      "Audio extracted successfully to /Volumes/T7 Shield/friends/stimuli/s1/friends_s01e06a.mp3\n"
     ]
    },
    {
     "name": "stderr",
     "output_type": "stream",
     "text": [
      " 17%|███████                                   | 49/292 [05:28<26:50,  6.63s/it]"
     ]
    },
    {
     "name": "stdout",
     "output_type": "stream",
     "text": [
      "Audio extracted successfully to /Volumes/T7 Shield/friends/stimuli/s2/friends_s02e03a.mp3\n"
     ]
    },
    {
     "name": "stderr",
     "output_type": "stream",
     "text": [
      " 17%|███████▏                                  | 50/292 [05:35<26:59,  6.69s/it]"
     ]
    },
    {
     "name": "stdout",
     "output_type": "stream",
     "text": [
      "Audio extracted successfully to /Volumes/T7 Shield/friends/stimuli/s2/friends_s02e15a.mp3\n"
     ]
    },
    {
     "name": "stderr",
     "output_type": "stream",
     "text": [
      " 17%|███████▎                                  | 51/292 [05:42<26:56,  6.71s/it]"
     ]
    },
    {
     "name": "stdout",
     "output_type": "stream",
     "text": [
      "Audio extracted successfully to /Volumes/T7 Shield/friends/stimuli/s2/friends_s02e19b.mp3\n"
     ]
    },
    {
     "name": "stderr",
     "output_type": "stream",
     "text": [
      " 18%|███████▍                                  | 52/292 [05:48<26:25,  6.60s/it]"
     ]
    },
    {
     "name": "stdout",
     "output_type": "stream",
     "text": [
      "Audio extracted successfully to /Volumes/T7 Shield/friends/stimuli/s2/friends_s02e23b.mp3\n"
     ]
    },
    {
     "name": "stderr",
     "output_type": "stream",
     "text": [
      " 18%|███████▌                                  | 53/292 [05:54<26:11,  6.57s/it]"
     ]
    },
    {
     "name": "stdout",
     "output_type": "stream",
     "text": [
      "Audio extracted successfully to /Volumes/T7 Shield/friends/stimuli/s2/friends_s02e03b.mp3\n"
     ]
    },
    {
     "name": "stderr",
     "output_type": "stream",
     "text": [
      " 18%|███████▊                                  | 54/292 [06:01<26:19,  6.64s/it]"
     ]
    },
    {
     "name": "stdout",
     "output_type": "stream",
     "text": [
      "Audio extracted successfully to /Volumes/T7 Shield/friends/stimuli/s2/friends_s02e15b.mp3\n"
     ]
    },
    {
     "name": "stderr",
     "output_type": "stream",
     "text": [
      " 19%|███████▉                                  | 55/292 [06:08<26:11,  6.63s/it]"
     ]
    },
    {
     "name": "stdout",
     "output_type": "stream",
     "text": [
      "Audio extracted successfully to /Volumes/T7 Shield/friends/stimuli/s2/friends_s02e19a.mp3\n"
     ]
    },
    {
     "name": "stderr",
     "output_type": "stream",
     "text": [
      " 19%|████████                                  | 56/292 [06:14<25:37,  6.51s/it]"
     ]
    },
    {
     "name": "stdout",
     "output_type": "stream",
     "text": [
      "Audio extracted successfully to /Volumes/T7 Shield/friends/stimuli/s2/friends_s02e23a.mp3\n"
     ]
    },
    {
     "name": "stderr",
     "output_type": "stream",
     "text": [
      " 20%|████████▏                                 | 57/292 [06:20<25:04,  6.40s/it]"
     ]
    },
    {
     "name": "stdout",
     "output_type": "stream",
     "text": [
      "Audio extracted successfully to /Volumes/T7 Shield/friends/stimuli/s2/friends_s02e22a.mp3\n"
     ]
    },
    {
     "name": "stderr",
     "output_type": "stream",
     "text": [
      " 20%|████████▎                                 | 58/292 [06:26<24:43,  6.34s/it]"
     ]
    },
    {
     "name": "stdout",
     "output_type": "stream",
     "text": [
      "Audio extracted successfully to /Volumes/T7 Shield/friends/stimuli/s2/friends_s02e18a.mp3\n"
     ]
    },
    {
     "name": "stderr",
     "output_type": "stream",
     "text": [
      " 20%|████████▍                                 | 59/292 [06:33<25:14,  6.50s/it]"
     ]
    },
    {
     "name": "stdout",
     "output_type": "stream",
     "text": [
      "Audio extracted successfully to /Volumes/T7 Shield/friends/stimuli/s2/friends_s02e14b.mp3\n"
     ]
    },
    {
     "name": "stderr",
     "output_type": "stream",
     "text": [
      " 21%|████████▋                                 | 60/292 [06:40<25:01,  6.47s/it]"
     ]
    },
    {
     "name": "stdout",
     "output_type": "stream",
     "text": [
      "Audio extracted successfully to /Volumes/T7 Shield/friends/stimuli/s2/friends_s02e02b.mp3\n"
     ]
    },
    {
     "name": "stderr",
     "output_type": "stream",
     "text": [
      " 21%|████████▊                                 | 61/292 [06:46<24:36,  6.39s/it]"
     ]
    },
    {
     "name": "stdout",
     "output_type": "stream",
     "text": [
      "Audio extracted successfully to /Volumes/T7 Shield/friends/stimuli/s2/friends_s02e22b.mp3\n"
     ]
    },
    {
     "name": "stderr",
     "output_type": "stream",
     "text": [
      " 21%|████████▉                                 | 62/292 [06:52<24:22,  6.36s/it]"
     ]
    },
    {
     "name": "stdout",
     "output_type": "stream",
     "text": [
      "Audio extracted successfully to /Volumes/T7 Shield/friends/stimuli/s2/friends_s02e18b.mp3\n"
     ]
    },
    {
     "name": "stderr",
     "output_type": "stream",
     "text": [
      " 22%|█████████                                 | 63/292 [06:59<24:50,  6.51s/it]"
     ]
    },
    {
     "name": "stdout",
     "output_type": "stream",
     "text": [
      "Audio extracted successfully to /Volumes/T7 Shield/friends/stimuli/s2/friends_s02e14a.mp3\n"
     ]
    },
    {
     "name": "stderr",
     "output_type": "stream",
     "text": [
      " 22%|█████████▏                                | 64/292 [07:06<24:38,  6.48s/it]"
     ]
    },
    {
     "name": "stdout",
     "output_type": "stream",
     "text": [
      "Audio extracted successfully to /Volumes/T7 Shield/friends/stimuli/s2/friends_s02e02a.mp3\n"
     ]
    },
    {
     "name": "stderr",
     "output_type": "stream",
     "text": [
      " 22%|█████████▎                                | 65/292 [07:12<24:20,  6.43s/it]"
     ]
    },
    {
     "name": "stdout",
     "output_type": "stream",
     "text": [
      "Audio extracted successfully to /Volumes/T7 Shield/friends/stimuli/s2/friends_s02e05b.mp3\n"
     ]
    },
    {
     "name": "stderr",
     "output_type": "stream",
     "text": [
      " 23%|█████████▍                                | 66/292 [07:18<23:40,  6.29s/it]"
     ]
    },
    {
     "name": "stdout",
     "output_type": "stream",
     "text": [
      "Audio extracted successfully to /Volumes/T7 Shield/friends/stimuli/s2/friends_s02e09a.mp3\n"
     ]
    },
    {
     "name": "stderr",
     "output_type": "stream",
     "text": [
      " 23%|█████████▋                                | 67/292 [07:25<24:36,  6.56s/it]"
     ]
    },
    {
     "name": "stdout",
     "output_type": "stream",
     "text": [
      "Audio extracted successfully to /Volumes/T7 Shield/friends/stimuli/s2/friends_s02e13b.mp3\n"
     ]
    },
    {
     "name": "stderr",
     "output_type": "stream",
     "text": [
      " 23%|█████████▊                                | 68/292 [07:31<24:13,  6.49s/it]"
     ]
    },
    {
     "name": "stdout",
     "output_type": "stream",
     "text": [
      "Audio extracted successfully to /Volumes/T7 Shield/friends/stimuli/s2/friends_s02e05a.mp3\n"
     ]
    },
    {
     "name": "stderr",
     "output_type": "stream",
     "text": [
      " 24%|█████████▉                                | 69/292 [07:37<23:42,  6.38s/it]"
     ]
    },
    {
     "name": "stdout",
     "output_type": "stream",
     "text": [
      "Audio extracted successfully to /Volumes/T7 Shield/friends/stimuli/s2/friends_s02e09b.mp3\n"
     ]
    },
    {
     "name": "stderr",
     "output_type": "stream",
     "text": [
      " 24%|██████████                                | 70/292 [07:45<24:26,  6.61s/it]"
     ]
    },
    {
     "name": "stdout",
     "output_type": "stream",
     "text": [
      "Audio extracted successfully to /Volumes/T7 Shield/friends/stimuli/s2/friends_s02e13a.mp3\n"
     ]
    },
    {
     "name": "stderr",
     "output_type": "stream",
     "text": [
      " 24%|██████████▏                               | 71/292 [07:51<24:29,  6.65s/it]"
     ]
    },
    {
     "name": "stdout",
     "output_type": "stream",
     "text": [
      "Audio extracted successfully to /Volumes/T7 Shield/friends/stimuli/s2/friends_s02e24b.mp3\n"
     ]
    },
    {
     "name": "stderr",
     "output_type": "stream",
     "text": [
      " 25%|██████████▎                               | 72/292 [07:58<24:39,  6.72s/it]"
     ]
    },
    {
     "name": "stdout",
     "output_type": "stream",
     "text": [
      "Audio extracted successfully to /Volumes/T7 Shield/friends/stimuli/s2/friends_s02e12a.mp3\n"
     ]
    },
    {
     "name": "stderr",
     "output_type": "stream",
     "text": [
      " 25%|██████████▌                               | 73/292 [08:04<23:51,  6.54s/it]"
     ]
    },
    {
     "name": "stdout",
     "output_type": "stream",
     "text": [
      "Audio extracted successfully to /Volumes/T7 Shield/friends/stimuli/s2/friends_s02e08b.mp3\n"
     ]
    },
    {
     "name": "stderr",
     "output_type": "stream",
     "text": [
      " 25%|██████████▋                               | 74/292 [08:10<23:19,  6.42s/it]"
     ]
    },
    {
     "name": "stdout",
     "output_type": "stream",
     "text": [
      "Audio extracted successfully to /Volumes/T7 Shield/friends/stimuli/s2/friends_s02e04a.mp3\n"
     ]
    },
    {
     "name": "stderr",
     "output_type": "stream",
     "text": [
      " 26%|██████████▊                               | 75/292 [08:17<23:17,  6.44s/it]"
     ]
    },
    {
     "name": "stdout",
     "output_type": "stream",
     "text": [
      "Audio extracted successfully to /Volumes/T7 Shield/friends/stimuli/s2/friends_s02e24a.mp3\n"
     ]
    },
    {
     "name": "stderr",
     "output_type": "stream",
     "text": [
      " 26%|██████████▉                               | 76/292 [08:24<23:47,  6.61s/it]"
     ]
    },
    {
     "name": "stdout",
     "output_type": "stream",
     "text": [
      "Audio extracted successfully to /Volumes/T7 Shield/friends/stimuli/s2/friends_s02e12b.mp3\n"
     ]
    },
    {
     "name": "stderr",
     "output_type": "stream",
     "text": [
      " 26%|███████████                               | 77/292 [08:30<23:15,  6.49s/it]"
     ]
    },
    {
     "name": "stdout",
     "output_type": "stream",
     "text": [
      "Audio extracted successfully to /Volumes/T7 Shield/friends/stimuli/s2/friends_s02e08a.mp3\n"
     ]
    },
    {
     "name": "stderr",
     "output_type": "stream",
     "text": [
      " 27%|███████████▏                              | 78/292 [08:36<22:40,  6.36s/it]"
     ]
    },
    {
     "name": "stdout",
     "output_type": "stream",
     "text": [
      "Audio extracted successfully to /Volumes/T7 Shield/friends/stimuli/s2/friends_s02e04b.mp3\n"
     ]
    },
    {
     "name": "stderr",
     "output_type": "stream",
     "text": [
      " 27%|███████████▎                              | 79/292 [08:43<22:53,  6.45s/it]"
     ]
    },
    {
     "name": "stdout",
     "output_type": "stream",
     "text": [
      "Audio extracted successfully to /Volumes/T7 Shield/friends/stimuli/s2/friends_s02e11b.mp3\n"
     ]
    },
    {
     "name": "stderr",
     "output_type": "stream",
     "text": [
      " 27%|███████████▌                              | 80/292 [08:50<23:14,  6.58s/it]"
     ]
    },
    {
     "name": "stdout",
     "output_type": "stream",
     "text": [
      "Audio extracted successfully to /Volumes/T7 Shield/friends/stimuli/s2/friends_s02e07b.mp3\n"
     ]
    },
    {
     "name": "stderr",
     "output_type": "stream",
     "text": [
      " 28%|███████████▋                              | 81/292 [08:56<23:06,  6.57s/it]"
     ]
    },
    {
     "name": "stdout",
     "output_type": "stream",
     "text": [
      "Audio extracted successfully to /Volumes/T7 Shield/friends/stimuli/s2/friends_s02e11a.mp3\n"
     ]
    },
    {
     "name": "stderr",
     "output_type": "stream",
     "text": [
      " 28%|███████████▊                              | 82/292 [09:03<23:34,  6.73s/it]"
     ]
    },
    {
     "name": "stdout",
     "output_type": "stream",
     "text": [
      "Audio extracted successfully to /Volumes/T7 Shield/friends/stimuli/s2/friends_s02e07a.mp3\n"
     ]
    },
    {
     "name": "stderr",
     "output_type": "stream",
     "text": [
      " 28%|███████████▉                              | 83/292 [09:10<23:29,  6.74s/it]"
     ]
    },
    {
     "name": "stdout",
     "output_type": "stream",
     "text": [
      "Audio extracted successfully to /Volumes/T7 Shield/friends/stimuli/s2/friends_s02e06a.mp3\n"
     ]
    },
    {
     "name": "stderr",
     "output_type": "stream",
     "text": [
      " 29%|████████████                              | 84/292 [09:17<23:02,  6.65s/it]"
     ]
    },
    {
     "name": "stdout",
     "output_type": "stream",
     "text": [
      "Audio extracted successfully to /Volumes/T7 Shield/friends/stimuli/s2/friends_s02e10a.mp3\n"
     ]
    },
    {
     "name": "stderr",
     "output_type": "stream",
     "text": [
      " 29%|████████████▏                             | 85/292 [09:23<23:10,  6.71s/it]"
     ]
    },
    {
     "name": "stdout",
     "output_type": "stream",
     "text": [
      "Audio extracted successfully to /Volumes/T7 Shield/friends/stimuli/s2/friends_s02e06b.mp3\n"
     ]
    },
    {
     "name": "stderr",
     "output_type": "stream",
     "text": [
      " 29%|████████████▎                             | 86/292 [09:30<22:45,  6.63s/it]"
     ]
    },
    {
     "name": "stdout",
     "output_type": "stream",
     "text": [
      "Audio extracted successfully to /Volumes/T7 Shield/friends/stimuli/s2/friends_s02e10b.mp3\n"
     ]
    },
    {
     "name": "stderr",
     "output_type": "stream",
     "text": [
      " 30%|████████████▌                             | 87/292 [09:36<22:32,  6.60s/it]"
     ]
    },
    {
     "name": "stdout",
     "output_type": "stream",
     "text": [
      "Audio extracted successfully to /Volumes/T7 Shield/friends/stimuli/s2/friends_s02e21b.mp3\n"
     ]
    },
    {
     "name": "stderr",
     "output_type": "stream",
     "text": [
      " 30%|████████████▋                             | 88/292 [09:43<22:31,  6.63s/it]"
     ]
    },
    {
     "name": "stdout",
     "output_type": "stream",
     "text": [
      "Audio extracted successfully to /Volumes/T7 Shield/friends/stimuli/s2/friends_s02e17a.mp3\n"
     ]
    },
    {
     "name": "stderr",
     "output_type": "stream",
     "text": [
      " 30%|████████████▊                             | 89/292 [09:50<22:41,  6.71s/it]"
     ]
    },
    {
     "name": "stdout",
     "output_type": "stream",
     "text": [
      "Audio extracted successfully to /Volumes/T7 Shield/friends/stimuli/s2/friends_s02e01a.mp3\n"
     ]
    },
    {
     "name": "stderr",
     "output_type": "stream",
     "text": [
      " 31%|████████████▉                             | 90/292 [09:56<22:15,  6.61s/it]"
     ]
    },
    {
     "name": "stdout",
     "output_type": "stream",
     "text": [
      "Audio extracted successfully to /Volumes/T7 Shield/friends/stimuli/s2/friends_s02e21a.mp3\n"
     ]
    },
    {
     "name": "stderr",
     "output_type": "stream",
     "text": [
      " 31%|█████████████                             | 91/292 [10:03<22:15,  6.64s/it]"
     ]
    },
    {
     "name": "stdout",
     "output_type": "stream",
     "text": [
      "Audio extracted successfully to /Volumes/T7 Shield/friends/stimuli/s2/friends_s02e17b.mp3\n"
     ]
    },
    {
     "name": "stderr",
     "output_type": "stream",
     "text": [
      " 32%|█████████████▏                            | 92/292 [10:10<22:17,  6.69s/it]"
     ]
    },
    {
     "name": "stdout",
     "output_type": "stream",
     "text": [
      "Audio extracted successfully to /Volumes/T7 Shield/friends/stimuli/s2/friends_s02e01b.mp3\n"
     ]
    },
    {
     "name": "stderr",
     "output_type": "stream",
     "text": [
      " 32%|█████████████▍                            | 93/292 [10:16<22:02,  6.65s/it]"
     ]
    },
    {
     "name": "stdout",
     "output_type": "stream",
     "text": [
      "Audio extracted successfully to /Volumes/T7 Shield/friends/stimuli/s2/friends_s02e16b.mp3\n"
     ]
    },
    {
     "name": "stderr",
     "output_type": "stream",
     "text": [
      " 32%|█████████████▌                            | 94/292 [10:23<21:26,  6.50s/it]"
     ]
    },
    {
     "name": "stdout",
     "output_type": "stream",
     "text": [
      "Audio extracted successfully to /Volumes/T7 Shield/friends/stimuli/s2/friends_s02e20a.mp3\n"
     ]
    },
    {
     "name": "stderr",
     "output_type": "stream",
     "text": [
      " 33%|█████████████▋                            | 95/292 [10:29<21:21,  6.51s/it]"
     ]
    },
    {
     "name": "stdout",
     "output_type": "stream",
     "text": [
      "Audio extracted successfully to /Volumes/T7 Shield/friends/stimuli/s2/friends_s02e16a.mp3\n"
     ]
    },
    {
     "name": "stderr",
     "output_type": "stream",
     "text": [
      " 33%|█████████████▊                            | 96/292 [10:35<20:48,  6.37s/it]"
     ]
    },
    {
     "name": "stdout",
     "output_type": "stream",
     "text": [
      "Audio extracted successfully to /Volumes/T7 Shield/friends/stimuli/s2/friends_s02e20b.mp3\n"
     ]
    },
    {
     "name": "stderr",
     "output_type": "stream",
     "text": [
      " 33%|█████████████▉                            | 97/292 [10:41<20:34,  6.33s/it]"
     ]
    },
    {
     "name": "stdout",
     "output_type": "stream",
     "text": [
      "Audio extracted successfully to /Volumes/T7 Shield/friends/stimuli/s3/friends_s03e22b.mp3\n"
     ]
    },
    {
     "name": "stderr",
     "output_type": "stream",
     "text": [
      " 34%|██████████████                            | 98/292 [10:48<20:35,  6.37s/it]"
     ]
    },
    {
     "name": "stdout",
     "output_type": "stream",
     "text": [
      "Audio extracted successfully to /Volumes/T7 Shield/friends/stimuli/s3/friends_s03e18b.mp3\n"
     ]
    },
    {
     "name": "stderr",
     "output_type": "stream",
     "text": [
      " 34%|██████████████▏                           | 99/292 [10:54<20:23,  6.34s/it]"
     ]
    },
    {
     "name": "stdout",
     "output_type": "stream",
     "text": [
      "Audio extracted successfully to /Volumes/T7 Shield/friends/stimuli/s3/friends_s03e14a.mp3\n"
     ]
    },
    {
     "name": "stderr",
     "output_type": "stream",
     "text": [
      " 34%|██████████████                           | 100/292 [11:01<20:36,  6.44s/it]"
     ]
    },
    {
     "name": "stdout",
     "output_type": "stream",
     "text": [
      "Audio extracted successfully to /Volumes/T7 Shield/friends/stimuli/s3/friends_s03e02a.mp3\n"
     ]
    },
    {
     "name": "stderr",
     "output_type": "stream",
     "text": [
      " 35%|██████████████▏                          | 101/292 [11:07<20:17,  6.37s/it]"
     ]
    },
    {
     "name": "stdout",
     "output_type": "stream",
     "text": [
      "Audio extracted successfully to /Volumes/T7 Shield/friends/stimuli/s3/friends_s03e22a.mp3\n"
     ]
    },
    {
     "name": "stderr",
     "output_type": "stream",
     "text": [
      " 35%|██████████████▎                          | 102/292 [11:13<20:10,  6.37s/it]"
     ]
    },
    {
     "name": "stdout",
     "output_type": "stream",
     "text": [
      "Audio extracted successfully to /Volumes/T7 Shield/friends/stimuli/s3/friends_s03e18a.mp3\n"
     ]
    },
    {
     "name": "stderr",
     "output_type": "stream",
     "text": [
      " 35%|██████████████▍                          | 103/292 [11:20<19:55,  6.33s/it]"
     ]
    },
    {
     "name": "stdout",
     "output_type": "stream",
     "text": [
      "Audio extracted successfully to /Volumes/T7 Shield/friends/stimuli/s3/friends_s03e14b.mp3\n"
     ]
    },
    {
     "name": "stderr",
     "output_type": "stream",
     "text": [
      " 36%|██████████████▌                          | 104/292 [11:26<20:10,  6.44s/it]"
     ]
    },
    {
     "name": "stdout",
     "output_type": "stream",
     "text": [
      "Audio extracted successfully to /Volumes/T7 Shield/friends/stimuli/s3/friends_s03e02b.mp3\n"
     ]
    },
    {
     "name": "stderr",
     "output_type": "stream",
     "text": [
      " 36%|██████████████▋                          | 105/292 [11:33<20:06,  6.45s/it]"
     ]
    },
    {
     "name": "stdout",
     "output_type": "stream",
     "text": [
      "Audio extracted successfully to /Volumes/T7 Shield/friends/stimuli/s3/friends_s03e03b.mp3\n"
     ]
    },
    {
     "name": "stderr",
     "output_type": "stream",
     "text": [
      " 36%|██████████████▉                          | 106/292 [11:39<20:11,  6.52s/it]"
     ]
    },
    {
     "name": "stdout",
     "output_type": "stream",
     "text": [
      "Audio extracted successfully to /Volumes/T7 Shield/friends/stimuli/s3/friends_s03e15b.mp3\n"
     ]
    },
    {
     "name": "stderr",
     "output_type": "stream",
     "text": [
      " 37%|███████████████                          | 107/292 [11:46<19:59,  6.48s/it]"
     ]
    },
    {
     "name": "stdout",
     "output_type": "stream",
     "text": [
      "Audio extracted successfully to /Volumes/T7 Shield/friends/stimuli/s3/friends_s03e19a.mp3\n"
     ]
    },
    {
     "name": "stderr",
     "output_type": "stream",
     "text": [
      " 37%|███████████████▏                         | 108/292 [11:52<19:50,  6.47s/it]"
     ]
    },
    {
     "name": "stdout",
     "output_type": "stream",
     "text": [
      "Audio extracted successfully to /Volumes/T7 Shield/friends/stimuli/s3/friends_s03e23a.mp3\n"
     ]
    },
    {
     "name": "stderr",
     "output_type": "stream",
     "text": [
      " 37%|███████████████▎                         | 109/292 [11:59<19:36,  6.43s/it]"
     ]
    },
    {
     "name": "stdout",
     "output_type": "stream",
     "text": [
      "Audio extracted successfully to /Volumes/T7 Shield/friends/stimuli/s3/friends_s03e03a.mp3\n"
     ]
    },
    {
     "name": "stderr",
     "output_type": "stream",
     "text": [
      " 38%|███████████████▍                         | 110/292 [12:05<19:30,  6.43s/it]"
     ]
    },
    {
     "name": "stdout",
     "output_type": "stream",
     "text": [
      "Audio extracted successfully to /Volumes/T7 Shield/friends/stimuli/s3/friends_s03e15a.mp3\n"
     ]
    },
    {
     "name": "stderr",
     "output_type": "stream",
     "text": [
      " 38%|███████████████▌                         | 111/292 [12:12<19:22,  6.42s/it]"
     ]
    },
    {
     "name": "stdout",
     "output_type": "stream",
     "text": [
      "Audio extracted successfully to /Volumes/T7 Shield/friends/stimuli/s3/friends_s03e19b.mp3\n"
     ]
    },
    {
     "name": "stderr",
     "output_type": "stream",
     "text": [
      " 38%|███████████████▋                         | 112/292 [12:18<19:15,  6.42s/it]"
     ]
    },
    {
     "name": "stdout",
     "output_type": "stream",
     "text": [
      "Audio extracted successfully to /Volumes/T7 Shield/friends/stimuli/s3/friends_s03e23b.mp3\n"
     ]
    },
    {
     "name": "stderr",
     "output_type": "stream",
     "text": [
      " 39%|███████████████▊                         | 113/292 [12:24<19:07,  6.41s/it]"
     ]
    },
    {
     "name": "stdout",
     "output_type": "stream",
     "text": [
      "Audio extracted successfully to /Volumes/T7 Shield/friends/stimuli/s3/friends_s03e24a.mp3\n"
     ]
    },
    {
     "name": "stderr",
     "output_type": "stream",
     "text": [
      " 39%|████████████████                         | 114/292 [12:31<19:05,  6.43s/it]"
     ]
    },
    {
     "name": "stdout",
     "output_type": "stream",
     "text": [
      "Audio extracted successfully to /Volumes/T7 Shield/friends/stimuli/s3/friends_s03e12b.mp3\n"
     ]
    },
    {
     "name": "stderr",
     "output_type": "stream",
     "text": [
      " 39%|████████████████▏                        | 115/292 [12:37<19:01,  6.45s/it]"
     ]
    },
    {
     "name": "stdout",
     "output_type": "stream",
     "text": [
      "Audio extracted successfully to /Volumes/T7 Shield/friends/stimuli/s3/friends_s03e08a.mp3\n"
     ]
    },
    {
     "name": "stderr",
     "output_type": "stream",
     "text": [
      " 40%|████████████████▎                        | 116/292 [12:44<19:04,  6.50s/it]"
     ]
    },
    {
     "name": "stdout",
     "output_type": "stream",
     "text": [
      "Audio extracted successfully to /Volumes/T7 Shield/friends/stimuli/s3/friends_s03e04b.mp3\n"
     ]
    },
    {
     "name": "stderr",
     "output_type": "stream",
     "text": [
      " 40%|████████████████▍                        | 117/292 [12:50<18:44,  6.43s/it]"
     ]
    },
    {
     "name": "stdout",
     "output_type": "stream",
     "text": [
      "Audio extracted successfully to /Volumes/T7 Shield/friends/stimuli/s3/friends_s03e24b.mp3\n"
     ]
    },
    {
     "name": "stderr",
     "output_type": "stream",
     "text": [
      " 40%|████████████████▌                        | 118/292 [12:57<18:34,  6.41s/it]"
     ]
    },
    {
     "name": "stdout",
     "output_type": "stream",
     "text": [
      "Audio extracted successfully to /Volumes/T7 Shield/friends/stimuli/s3/friends_s03e12a.mp3\n"
     ]
    },
    {
     "name": "stderr",
     "output_type": "stream",
     "text": [
      " 41%|████████████████▋                        | 119/292 [13:03<18:25,  6.39s/it]"
     ]
    },
    {
     "name": "stdout",
     "output_type": "stream",
     "text": [
      "Audio extracted successfully to /Volumes/T7 Shield/friends/stimuli/s3/friends_s03e08b.mp3\n"
     ]
    },
    {
     "name": "stderr",
     "output_type": "stream",
     "text": [
      " 41%|████████████████▊                        | 120/292 [13:09<18:27,  6.44s/it]"
     ]
    },
    {
     "name": "stdout",
     "output_type": "stream",
     "text": [
      "Audio extracted successfully to /Volumes/T7 Shield/friends/stimuli/s3/friends_s03e04a.mp3\n"
     ]
    },
    {
     "name": "stderr",
     "output_type": "stream",
     "text": [
      " 41%|████████████████▉                        | 121/292 [13:16<18:43,  6.57s/it]"
     ]
    },
    {
     "name": "stdout",
     "output_type": "stream",
     "text": [
      "Audio extracted successfully to /Volumes/T7 Shield/friends/stimuli/s3/friends_s03e05a.mp3\n"
     ]
    },
    {
     "name": "stderr",
     "output_type": "stream",
     "text": [
      " 42%|█████████████████▏                       | 122/292 [13:24<19:38,  6.93s/it]"
     ]
    },
    {
     "name": "stdout",
     "output_type": "stream",
     "text": [
      "Audio extracted successfully to /Volumes/T7 Shield/friends/stimuli/s3/friends_s03e09b.mp3\n"
     ]
    },
    {
     "name": "stderr",
     "output_type": "stream",
     "text": [
      " 42%|█████████████████▎                       | 123/292 [13:31<19:11,  6.82s/it]"
     ]
    },
    {
     "name": "stdout",
     "output_type": "stream",
     "text": [
      "Audio extracted successfully to /Volumes/T7 Shield/friends/stimuli/s3/friends_s03e13a.mp3\n"
     ]
    },
    {
     "name": "stderr",
     "output_type": "stream",
     "text": [
      " 42%|█████████████████▍                       | 124/292 [13:37<18:51,  6.74s/it]"
     ]
    },
    {
     "name": "stdout",
     "output_type": "stream",
     "text": [
      "Audio extracted successfully to /Volumes/T7 Shield/friends/stimuli/s3/friends_s03e25b.mp3\n"
     ]
    },
    {
     "name": "stderr",
     "output_type": "stream",
     "text": [
      " 43%|█████████████████▌                       | 125/292 [13:44<18:50,  6.77s/it]"
     ]
    },
    {
     "name": "stdout",
     "output_type": "stream",
     "text": [
      "Audio extracted successfully to /Volumes/T7 Shield/friends/stimuli/s3/friends_s03e05b.mp3\n"
     ]
    },
    {
     "name": "stderr",
     "output_type": "stream",
     "text": [
      " 43%|█████████████████▋                       | 126/292 [13:52<19:30,  7.05s/it]"
     ]
    },
    {
     "name": "stdout",
     "output_type": "stream",
     "text": [
      "Audio extracted successfully to /Volumes/T7 Shield/friends/stimuli/s3/friends_s03e09a.mp3\n"
     ]
    },
    {
     "name": "stderr",
     "output_type": "stream",
     "text": [
      " 43%|█████████████████▊                       | 127/292 [13:58<18:57,  6.89s/it]"
     ]
    },
    {
     "name": "stdout",
     "output_type": "stream",
     "text": [
      "Audio extracted successfully to /Volumes/T7 Shield/friends/stimuli/s3/friends_s03e13b.mp3\n"
     ]
    },
    {
     "name": "stderr",
     "output_type": "stream",
     "text": [
      " 44%|█████████████████▉                       | 128/292 [14:05<18:28,  6.76s/it]"
     ]
    },
    {
     "name": "stdout",
     "output_type": "stream",
     "text": [
      "Audio extracted successfully to /Volumes/T7 Shield/friends/stimuli/s3/friends_s03e25a.mp3\n"
     ]
    },
    {
     "name": "stderr",
     "output_type": "stream",
     "text": [
      " 44%|██████████████████                       | 129/292 [14:11<18:03,  6.65s/it]"
     ]
    },
    {
     "name": "stdout",
     "output_type": "stream",
     "text": [
      "Audio extracted successfully to /Volumes/T7 Shield/friends/stimuli/s3/friends_s03e06b.mp3\n"
     ]
    },
    {
     "name": "stderr",
     "output_type": "stream",
     "text": [
      " 45%|██████████████████▎                      | 130/292 [14:17<17:41,  6.55s/it]"
     ]
    },
    {
     "name": "stdout",
     "output_type": "stream",
     "text": [
      "Audio extracted successfully to /Volumes/T7 Shield/friends/stimuli/s3/friends_s03e10b.mp3\n"
     ]
    },
    {
     "name": "stderr",
     "output_type": "stream",
     "text": [
      " 45%|██████████████████▍                      | 131/292 [14:24<17:35,  6.56s/it]"
     ]
    },
    {
     "name": "stdout",
     "output_type": "stream",
     "text": [
      "Audio extracted successfully to /Volumes/T7 Shield/friends/stimuli/s3/friends_s03e06a.mp3\n"
     ]
    },
    {
     "name": "stderr",
     "output_type": "stream",
     "text": [
      " 45%|██████████████████▌                      | 132/292 [14:30<17:11,  6.44s/it]"
     ]
    },
    {
     "name": "stdout",
     "output_type": "stream",
     "text": [
      "Audio extracted successfully to /Volumes/T7 Shield/friends/stimuli/s3/friends_s03e10a.mp3\n"
     ]
    },
    {
     "name": "stderr",
     "output_type": "stream",
     "text": [
      " 46%|██████████████████▋                      | 133/292 [14:37<17:04,  6.44s/it]"
     ]
    },
    {
     "name": "stdout",
     "output_type": "stream",
     "text": [
      "Audio extracted successfully to /Volumes/T7 Shield/friends/stimuli/s3/friends_s03e11a.mp3\n"
     ]
    },
    {
     "name": "stderr",
     "output_type": "stream",
     "text": [
      " 46%|██████████████████▊                      | 134/292 [14:43<16:59,  6.45s/it]"
     ]
    },
    {
     "name": "stdout",
     "output_type": "stream",
     "text": [
      "Audio extracted successfully to /Volumes/T7 Shield/friends/stimuli/s3/friends_s03e07a.mp3\n"
     ]
    },
    {
     "name": "stderr",
     "output_type": "stream",
     "text": [
      " 46%|██████████████████▉                      | 135/292 [14:49<16:44,  6.40s/it]"
     ]
    },
    {
     "name": "stdout",
     "output_type": "stream",
     "text": [
      "Audio extracted successfully to /Volumes/T7 Shield/friends/stimuli/s3/friends_s03e11b.mp3\n"
     ]
    },
    {
     "name": "stderr",
     "output_type": "stream",
     "text": [
      " 47%|███████████████████                      | 136/292 [14:56<16:45,  6.45s/it]"
     ]
    },
    {
     "name": "stdout",
     "output_type": "stream",
     "text": [
      "Audio extracted successfully to /Volumes/T7 Shield/friends/stimuli/s3/friends_s03e07b.mp3\n"
     ]
    },
    {
     "name": "stderr",
     "output_type": "stream",
     "text": [
      " 47%|███████████████████▏                     | 137/292 [15:02<16:39,  6.45s/it]"
     ]
    },
    {
     "name": "stdout",
     "output_type": "stream",
     "text": [
      "Audio extracted successfully to /Volumes/T7 Shield/friends/stimuli/s3/friends_s03e16a.mp3\n"
     ]
    },
    {
     "name": "stderr",
     "output_type": "stream",
     "text": [
      " 47%|███████████████████▍                     | 138/292 [15:09<16:22,  6.38s/it]"
     ]
    },
    {
     "name": "stdout",
     "output_type": "stream",
     "text": [
      "Audio extracted successfully to /Volumes/T7 Shield/friends/stimuli/s3/friends_s03e20b.mp3\n"
     ]
    },
    {
     "name": "stderr",
     "output_type": "stream",
     "text": [
      " 48%|███████████████████▌                     | 139/292 [15:15<16:14,  6.37s/it]"
     ]
    },
    {
     "name": "stdout",
     "output_type": "stream",
     "text": [
      "Audio extracted successfully to /Volumes/T7 Shield/friends/stimuli/s3/friends_s03e16b.mp3\n"
     ]
    },
    {
     "name": "stderr",
     "output_type": "stream",
     "text": [
      " 48%|███████████████████▋                     | 140/292 [15:21<16:04,  6.35s/it]"
     ]
    },
    {
     "name": "stdout",
     "output_type": "stream",
     "text": [
      "Audio extracted successfully to /Volumes/T7 Shield/friends/stimuli/s3/friends_s03e20a.mp3\n"
     ]
    },
    {
     "name": "stderr",
     "output_type": "stream",
     "text": [
      " 48%|███████████████████▊                     | 141/292 [15:27<15:55,  6.33s/it]"
     ]
    },
    {
     "name": "stdout",
     "output_type": "stream",
     "text": [
      "Audio extracted successfully to /Volumes/T7 Shield/friends/stimuli/s3/friends_s03e21a.mp3\n"
     ]
    },
    {
     "name": "stderr",
     "output_type": "stream",
     "text": [
      " 49%|███████████████████▉                     | 142/292 [15:34<15:35,  6.24s/it]"
     ]
    },
    {
     "name": "stdout",
     "output_type": "stream",
     "text": [
      "Audio extracted successfully to /Volumes/T7 Shield/friends/stimuli/s3/friends_s03e17b.mp3\n"
     ]
    },
    {
     "name": "stderr",
     "output_type": "stream",
     "text": [
      " 49%|████████████████████                     | 143/292 [15:40<15:46,  6.35s/it]"
     ]
    },
    {
     "name": "stdout",
     "output_type": "stream",
     "text": [
      "Audio extracted successfully to /Volumes/T7 Shield/friends/stimuli/s3/friends_s03e01b.mp3\n"
     ]
    },
    {
     "name": "stderr",
     "output_type": "stream",
     "text": [
      " 49%|████████████████████▏                    | 144/292 [15:46<15:34,  6.31s/it]"
     ]
    },
    {
     "name": "stdout",
     "output_type": "stream",
     "text": [
      "Audio extracted successfully to /Volumes/T7 Shield/friends/stimuli/s3/friends_s03e21b.mp3\n"
     ]
    },
    {
     "name": "stderr",
     "output_type": "stream",
     "text": [
      " 50%|████████████████████▎                    | 145/292 [15:53<15:23,  6.28s/it]"
     ]
    },
    {
     "name": "stdout",
     "output_type": "stream",
     "text": [
      "Audio extracted successfully to /Volumes/T7 Shield/friends/stimuli/s3/friends_s03e17a.mp3\n"
     ]
    },
    {
     "name": "stderr",
     "output_type": "stream",
     "text": [
      " 50%|████████████████████▌                    | 146/292 [15:59<15:40,  6.44s/it]"
     ]
    },
    {
     "name": "stdout",
     "output_type": "stream",
     "text": [
      "Audio extracted successfully to /Volumes/T7 Shield/friends/stimuli/s3/friends_s03e01a.mp3\n"
     ]
    },
    {
     "name": "stderr",
     "output_type": "stream",
     "text": [
      " 50%|████████████████████▋                    | 147/292 [16:05<15:16,  6.32s/it]"
     ]
    },
    {
     "name": "stdout",
     "output_type": "stream",
     "text": [
      "Audio extracted successfully to /Volumes/T7 Shield/friends/stimuli/s4/friends_s04e10a.mp3\n"
     ]
    },
    {
     "name": "stderr",
     "output_type": "stream",
     "text": [
      " 51%|████████████████████▊                    | 148/292 [16:12<15:08,  6.31s/it]"
     ]
    },
    {
     "name": "stdout",
     "output_type": "stream",
     "text": [
      "Audio extracted successfully to /Volumes/T7 Shield/friends/stimuli/s4/friends_s04e06a.mp3\n"
     ]
    },
    {
     "name": "stderr",
     "output_type": "stream",
     "text": [
      " 51%|████████████████████▉                    | 149/292 [16:18<14:50,  6.23s/it]"
     ]
    },
    {
     "name": "stdout",
     "output_type": "stream",
     "text": [
      "Audio extracted successfully to /Volumes/T7 Shield/friends/stimuli/s4/friends_s04e10b.mp3\n"
     ]
    },
    {
     "name": "stderr",
     "output_type": "stream",
     "text": [
      " 51%|█████████████████████                    | 150/292 [16:24<14:48,  6.26s/it]"
     ]
    },
    {
     "name": "stdout",
     "output_type": "stream",
     "text": [
      "Audio extracted successfully to /Volumes/T7 Shield/friends/stimuli/s4/friends_s04e06b.mp3\n"
     ]
    },
    {
     "name": "stderr",
     "output_type": "stream",
     "text": [
      " 52%|█████████████████████▏                   | 151/292 [16:31<14:57,  6.36s/it]"
     ]
    },
    {
     "name": "stdout",
     "output_type": "stream",
     "text": [
      "Audio extracted successfully to /Volumes/T7 Shield/friends/stimuli/s4/friends_s04e07b.mp3\n"
     ]
    },
    {
     "name": "stderr",
     "output_type": "stream",
     "text": [
      " 52%|█████████████████████▎                   | 152/292 [16:37<14:55,  6.40s/it]"
     ]
    },
    {
     "name": "stdout",
     "output_type": "stream",
     "text": [
      "Audio extracted successfully to /Volumes/T7 Shield/friends/stimuli/s4/friends_s04e11b.mp3\n"
     ]
    },
    {
     "name": "stderr",
     "output_type": "stream",
     "text": [
      " 52%|█████████████████████▍                   | 153/292 [16:44<15:01,  6.48s/it]"
     ]
    },
    {
     "name": "stdout",
     "output_type": "stream",
     "text": [
      "Audio extracted successfully to /Volumes/T7 Shield/friends/stimuli/s4/friends_s04e07a.mp3\n"
     ]
    },
    {
     "name": "stderr",
     "output_type": "stream",
     "text": [
      " 53%|█████████████████████▌                   | 154/292 [16:50<14:56,  6.50s/it]"
     ]
    },
    {
     "name": "stdout",
     "output_type": "stream",
     "text": [
      "Audio extracted successfully to /Volumes/T7 Shield/friends/stimuli/s4/friends_s04e11a.mp3\n"
     ]
    },
    {
     "name": "stderr",
     "output_type": "stream",
     "text": [
      " 53%|█████████████████████▊                   | 155/292 [16:56<14:30,  6.35s/it]"
     ]
    },
    {
     "name": "stdout",
     "output_type": "stream",
     "text": [
      "Audio extracted successfully to /Volumes/T7 Shield/friends/stimuli/s4/friends_s04e20a.mp3\n"
     ]
    },
    {
     "name": "stderr",
     "output_type": "stream",
     "text": [
      " 53%|█████████████████████▉                   | 156/292 [17:03<14:34,  6.43s/it]"
     ]
    },
    {
     "name": "stdout",
     "output_type": "stream",
     "text": [
      "Audio extracted successfully to /Volumes/T7 Shield/friends/stimuli/s4/friends_s04e16b.mp3\n"
     ]
    },
    {
     "name": "stderr",
     "output_type": "stream",
     "text": [
      " 54%|██████████████████████                   | 157/292 [17:09<14:13,  6.32s/it]"
     ]
    },
    {
     "name": "stdout",
     "output_type": "stream",
     "text": [
      "Audio extracted successfully to /Volumes/T7 Shield/friends/stimuli/s4/friends_s04e20b.mp3\n"
     ]
    },
    {
     "name": "stderr",
     "output_type": "stream",
     "text": [
      " 54%|██████████████████████▏                  | 158/292 [17:16<14:17,  6.40s/it]"
     ]
    },
    {
     "name": "stdout",
     "output_type": "stream",
     "text": [
      "Audio extracted successfully to /Volumes/T7 Shield/friends/stimuli/s4/friends_s04e16a.mp3\n"
     ]
    },
    {
     "name": "stderr",
     "output_type": "stream",
     "text": [
      " 54%|██████████████████████▎                  | 159/292 [17:22<14:00,  6.32s/it]"
     ]
    },
    {
     "name": "stdout",
     "output_type": "stream",
     "text": [
      "Audio extracted successfully to /Volumes/T7 Shield/friends/stimuli/s4/friends_s04e01a.mp3\n"
     ]
    },
    {
     "name": "stderr",
     "output_type": "stream",
     "text": [
      " 55%|██████████████████████▍                  | 160/292 [17:28<14:03,  6.39s/it]"
     ]
    },
    {
     "name": "stdout",
     "output_type": "stream",
     "text": [
      "Audio extracted successfully to /Volumes/T7 Shield/friends/stimuli/s4/friends_s04e17a.mp3\n"
     ]
    },
    {
     "name": "stderr",
     "output_type": "stream",
     "text": [
      " 55%|██████████████████████▌                  | 161/292 [17:34<13:43,  6.28s/it]"
     ]
    },
    {
     "name": "stdout",
     "output_type": "stream",
     "text": [
      "Audio extracted successfully to /Volumes/T7 Shield/friends/stimuli/s4/friends_s04e21b.mp3\n"
     ]
    },
    {
     "name": "stderr",
     "output_type": "stream",
     "text": [
      " 55%|██████████████████████▋                  | 162/292 [17:41<13:32,  6.25s/it]"
     ]
    },
    {
     "name": "stdout",
     "output_type": "stream",
     "text": [
      "Audio extracted successfully to /Volumes/T7 Shield/friends/stimuli/s4/friends_s04e01b.mp3\n"
     ]
    },
    {
     "name": "stderr",
     "output_type": "stream",
     "text": [
      " 56%|██████████████████████▉                  | 163/292 [17:47<13:33,  6.31s/it]"
     ]
    },
    {
     "name": "stdout",
     "output_type": "stream",
     "text": [
      "Audio extracted successfully to /Volumes/T7 Shield/friends/stimuli/s4/friends_s04e17b.mp3\n"
     ]
    },
    {
     "name": "stderr",
     "output_type": "stream",
     "text": [
      " 56%|███████████████████████                  | 164/292 [17:53<13:12,  6.19s/it]"
     ]
    },
    {
     "name": "stdout",
     "output_type": "stream",
     "text": [
      "Audio extracted successfully to /Volumes/T7 Shield/friends/stimuli/s4/friends_s04e21a.mp3\n"
     ]
    },
    {
     "name": "stderr",
     "output_type": "stream",
     "text": [
      " 57%|███████████████████████▏                 | 165/292 [17:59<13:18,  6.29s/it]"
     ]
    },
    {
     "name": "stdout",
     "output_type": "stream",
     "text": [
      "Audio extracted successfully to /Volumes/T7 Shield/friends/stimuli/s4/friends_s04e02b.mp3\n"
     ]
    },
    {
     "name": "stderr",
     "output_type": "stream",
     "text": [
      " 57%|███████████████████████▎                 | 166/292 [18:07<13:59,  6.66s/it]"
     ]
    },
    {
     "name": "stdout",
     "output_type": "stream",
     "text": [
      "Audio extracted successfully to /Volumes/T7 Shield/friends/stimuli/s4/friends_s04e23d.mp3\n"
     ]
    },
    {
     "name": "stderr",
     "output_type": "stream",
     "text": [
      " 57%|███████████████████████▍                 | 167/292 [18:13<13:30,  6.48s/it]"
     ]
    },
    {
     "name": "stdout",
     "output_type": "stream",
     "text": [
      "Audio extracted successfully to /Volumes/T7 Shield/friends/stimuli/s4/friends_s04e18a.mp3\n"
     ]
    },
    {
     "name": "stderr",
     "output_type": "stream",
     "text": [
      " 58%|███████████████████████▌                 | 168/292 [18:19<13:10,  6.38s/it]"
     ]
    },
    {
     "name": "stdout",
     "output_type": "stream",
     "text": [
      "Audio extracted successfully to /Volumes/T7 Shield/friends/stimuli/s4/friends_s04e14b.mp3\n"
     ]
    },
    {
     "name": "stderr",
     "output_type": "stream",
     "text": [
      " 58%|███████████████████████▋                 | 169/292 [18:25<12:58,  6.33s/it]"
     ]
    },
    {
     "name": "stdout",
     "output_type": "stream",
     "text": [
      "Audio extracted successfully to /Volumes/T7 Shield/friends/stimuli/s4/friends_s04e22a.mp3\n"
     ]
    },
    {
     "name": "stderr",
     "output_type": "stream",
     "text": [
      " 58%|███████████████████████▊                 | 170/292 [18:32<13:00,  6.40s/it]"
     ]
    },
    {
     "name": "stdout",
     "output_type": "stream",
     "text": [
      "Audio extracted successfully to /Volumes/T7 Shield/friends/stimuli/s4/friends_s04e02a.mp3\n"
     ]
    },
    {
     "name": "stderr",
     "output_type": "stream",
     "text": [
      " 59%|████████████████████████                 | 171/292 [18:38<12:41,  6.29s/it]"
     ]
    },
    {
     "name": "stdout",
     "output_type": "stream",
     "text": [
      "Audio extracted successfully to /Volumes/T7 Shield/friends/stimuli/s4/friends_s04e18b.mp3\n"
     ]
    },
    {
     "name": "stderr",
     "output_type": "stream",
     "text": [
      " 59%|████████████████████████▏                | 172/292 [18:44<12:25,  6.21s/it]"
     ]
    },
    {
     "name": "stdout",
     "output_type": "stream",
     "text": [
      "Audio extracted successfully to /Volumes/T7 Shield/friends/stimuli/s4/friends_s04e14a.mp3\n"
     ]
    },
    {
     "name": "stderr",
     "output_type": "stream",
     "text": [
      " 59%|████████████████████████▎                | 173/292 [18:50<12:18,  6.21s/it]"
     ]
    },
    {
     "name": "stdout",
     "output_type": "stream",
     "text": [
      "Audio extracted successfully to /Volumes/T7 Shield/friends/stimuli/s4/friends_s04e22b.mp3\n"
     ]
    },
    {
     "name": "stderr",
     "output_type": "stream",
     "text": [
      " 60%|████████████████████████▍                | 174/292 [18:57<12:47,  6.50s/it]"
     ]
    },
    {
     "name": "stdout",
     "output_type": "stream",
     "text": [
      "Audio extracted successfully to /Volumes/T7 Shield/friends/stimuli/s4/friends_s04e23b.mp3\n"
     ]
    },
    {
     "name": "stderr",
     "output_type": "stream",
     "text": [
      " 60%|████████████████████████▌                | 175/292 [19:03<12:22,  6.35s/it]"
     ]
    },
    {
     "name": "stdout",
     "output_type": "stream",
     "text": [
      "Audio extracted successfully to /Volumes/T7 Shield/friends/stimuli/s4/friends_s04e15a.mp3\n"
     ]
    },
    {
     "name": "stderr",
     "output_type": "stream",
     "text": [
      " 60%|████████████████████████▋                | 176/292 [19:10<12:09,  6.29s/it]"
     ]
    },
    {
     "name": "stdout",
     "output_type": "stream",
     "text": [
      "Audio extracted successfully to /Volumes/T7 Shield/friends/stimuli/s4/friends_s04e19b.mp3\n"
     ]
    },
    {
     "name": "stderr",
     "output_type": "stream",
     "text": [
      " 61%|████████████████████████▊                | 177/292 [19:17<12:45,  6.66s/it]"
     ]
    },
    {
     "name": "stdout",
     "output_type": "stream",
     "text": [
      "Audio extracted successfully to /Volumes/T7 Shield/friends/stimuli/s4/friends_s04e23c.mp3\n"
     ]
    },
    {
     "name": "stderr",
     "output_type": "stream",
     "text": [
      " 61%|████████████████████████▉                | 178/292 [19:23<12:14,  6.44s/it]"
     ]
    },
    {
     "name": "stdout",
     "output_type": "stream",
     "text": [
      "Audio extracted successfully to /Volumes/T7 Shield/friends/stimuli/s4/friends_s04e03a.mp3\n"
     ]
    },
    {
     "name": "stderr",
     "output_type": "stream",
     "text": [
      " 61%|█████████████████████████▏               | 179/292 [19:30<12:38,  6.71s/it]"
     ]
    },
    {
     "name": "stdout",
     "output_type": "stream",
     "text": [
      "Audio extracted successfully to /Volumes/T7 Shield/friends/stimuli/s4/friends_s04e23a.mp3\n"
     ]
    },
    {
     "name": "stderr",
     "output_type": "stream",
     "text": [
      " 62%|█████████████████████████▎               | 180/292 [19:36<12:10,  6.52s/it]"
     ]
    },
    {
     "name": "stdout",
     "output_type": "stream",
     "text": [
      "Audio extracted successfully to /Volumes/T7 Shield/friends/stimuli/s4/friends_s04e15b.mp3\n"
     ]
    },
    {
     "name": "stderr",
     "output_type": "stream",
     "text": [
      " 62%|█████████████████████████▍               | 181/292 [19:42<11:47,  6.37s/it]"
     ]
    },
    {
     "name": "stdout",
     "output_type": "stream",
     "text": [
      "Audio extracted successfully to /Volumes/T7 Shield/friends/stimuli/s4/friends_s04e19a.mp3\n"
     ]
    },
    {
     "name": "stderr",
     "output_type": "stream",
     "text": [
      " 62%|█████████████████████████▌               | 182/292 [19:48<11:30,  6.28s/it]"
     ]
    },
    {
     "name": "stdout",
     "output_type": "stream",
     "text": [
      "Audio extracted successfully to /Volumes/T7 Shield/friends/stimuli/s4/friends_s04e03b.mp3\n"
     ]
    },
    {
     "name": "stderr",
     "output_type": "stream",
     "text": [
      " 63%|█████████████████████████▋               | 183/292 [19:56<11:55,  6.57s/it]"
     ]
    },
    {
     "name": "stdout",
     "output_type": "stream",
     "text": [
      "Audio extracted successfully to /Volumes/T7 Shield/friends/stimuli/s4/friends_s04e08b.mp3\n"
     ]
    },
    {
     "name": "stderr",
     "output_type": "stream",
     "text": [
      " 63%|█████████████████████████▊               | 184/292 [20:02<11:36,  6.45s/it]"
     ]
    },
    {
     "name": "stdout",
     "output_type": "stream",
     "text": [
      "Audio extracted successfully to /Volumes/T7 Shield/friends/stimuli/s4/friends_s04e04a.mp3\n"
     ]
    },
    {
     "name": "stderr",
     "output_type": "stream",
     "text": [
      " 63%|█████████████████████████▉               | 185/292 [20:08<11:32,  6.47s/it]"
     ]
    },
    {
     "name": "stdout",
     "output_type": "stream",
     "text": [
      "Audio extracted successfully to /Volumes/T7 Shield/friends/stimuli/s4/friends_s04e12a.mp3\n"
     ]
    },
    {
     "name": "stderr",
     "output_type": "stream",
     "text": [
      " 64%|██████████████████████████               | 186/292 [20:16<11:47,  6.68s/it]"
     ]
    },
    {
     "name": "stdout",
     "output_type": "stream",
     "text": [
      "Audio extracted successfully to /Volumes/T7 Shield/friends/stimuli/s4/friends_s04e08a.mp3\n"
     ]
    },
    {
     "name": "stderr",
     "output_type": "stream",
     "text": [
      " 64%|██████████████████████████▎              | 187/292 [20:22<11:28,  6.55s/it]"
     ]
    },
    {
     "name": "stdout",
     "output_type": "stream",
     "text": [
      "Audio extracted successfully to /Volumes/T7 Shield/friends/stimuli/s4/friends_s04e04b.mp3\n"
     ]
    },
    {
     "name": "stderr",
     "output_type": "stream",
     "text": [
      " 64%|██████████████████████████▍              | 188/292 [20:29<11:26,  6.60s/it]"
     ]
    },
    {
     "name": "stdout",
     "output_type": "stream",
     "text": [
      "Audio extracted successfully to /Volumes/T7 Shield/friends/stimuli/s4/friends_s04e12b.mp3\n"
     ]
    },
    {
     "name": "stderr",
     "output_type": "stream",
     "text": [
      " 65%|██████████████████████████▌              | 189/292 [20:35<11:05,  6.46s/it]"
     ]
    },
    {
     "name": "stdout",
     "output_type": "stream",
     "text": [
      "Audio extracted successfully to /Volumes/T7 Shield/friends/stimuli/s4/friends_s04e13b.mp3\n"
     ]
    },
    {
     "name": "stderr",
     "output_type": "stream",
     "text": [
      " 65%|██████████████████████████▋              | 190/292 [20:41<11:03,  6.51s/it]"
     ]
    },
    {
     "name": "stdout",
     "output_type": "stream",
     "text": [
      "Audio extracted successfully to /Volumes/T7 Shield/friends/stimuli/s4/friends_s04e05b.mp3\n"
     ]
    },
    {
     "name": "stderr",
     "output_type": "stream",
     "text": [
      " 65%|██████████████████████████▊              | 191/292 [20:47<10:43,  6.37s/it]"
     ]
    },
    {
     "name": "stdout",
     "output_type": "stream",
     "text": [
      "Audio extracted successfully to /Volumes/T7 Shield/friends/stimuli/s4/friends_s04e09a.mp3\n"
     ]
    },
    {
     "name": "stderr",
     "output_type": "stream",
     "text": [
      " 66%|██████████████████████████▉              | 192/292 [20:54<10:31,  6.32s/it]"
     ]
    },
    {
     "name": "stdout",
     "output_type": "stream",
     "text": [
      "Audio extracted successfully to /Volumes/T7 Shield/friends/stimuli/s4/friends_s04e13a.mp3\n"
     ]
    },
    {
     "name": "stderr",
     "output_type": "stream",
     "text": [
      " 66%|███████████████████████████              | 193/292 [21:00<10:31,  6.38s/it]"
     ]
    },
    {
     "name": "stdout",
     "output_type": "stream",
     "text": [
      "Audio extracted successfully to /Volumes/T7 Shield/friends/stimuli/s4/friends_s04e05a.mp3\n"
     ]
    },
    {
     "name": "stderr",
     "output_type": "stream",
     "text": [
      " 66%|███████████████████████████▏             | 194/292 [21:06<10:13,  6.26s/it]"
     ]
    },
    {
     "name": "stdout",
     "output_type": "stream",
     "text": [
      "Audio extracted successfully to /Volumes/T7 Shield/friends/stimuli/s4/friends_s04e09b.mp3\n"
     ]
    },
    {
     "name": "stderr",
     "output_type": "stream",
     "text": [
      " 67%|███████████████████████████▍             | 195/292 [21:12<10:10,  6.29s/it]"
     ]
    },
    {
     "name": "stdout",
     "output_type": "stream",
     "text": [
      "Audio extracted successfully to /Volumes/T7 Shield/friends/stimuli/s5/friends_s05e07a.mp3\n"
     ]
    },
    {
     "name": "stderr",
     "output_type": "stream",
     "text": [
      " 67%|███████████████████████████▌             | 196/292 [21:19<10:26,  6.52s/it]"
     ]
    },
    {
     "name": "stdout",
     "output_type": "stream",
     "text": [
      "Audio extracted successfully to /Volumes/T7 Shield/friends/stimuli/s5/friends_s05e11a.mp3\n"
     ]
    },
    {
     "name": "stderr",
     "output_type": "stream",
     "text": [
      " 67%|███████████████████████████▋             | 197/292 [21:26<10:27,  6.60s/it]"
     ]
    },
    {
     "name": "stdout",
     "output_type": "stream",
     "text": [
      "Audio extracted successfully to /Volumes/T7 Shield/friends/stimuli/s5/friends_s05e07b.mp3\n"
     ]
    },
    {
     "name": "stderr",
     "output_type": "stream",
     "text": [
      " 68%|███████████████████████████▊             | 198/292 [21:34<10:47,  6.89s/it]"
     ]
    },
    {
     "name": "stdout",
     "output_type": "stream",
     "text": [
      "Audio extracted successfully to /Volumes/T7 Shield/friends/stimuli/s5/friends_s05e11b.mp3\n"
     ]
    },
    {
     "name": "stderr",
     "output_type": "stream",
     "text": [
      " 68%|███████████████████████████▉             | 199/292 [21:40<10:34,  6.82s/it]"
     ]
    },
    {
     "name": "stdout",
     "output_type": "stream",
     "text": [
      "Audio extracted successfully to /Volumes/T7 Shield/friends/stimuli/s5/friends_s05e10b.mp3\n"
     ]
    },
    {
     "name": "stderr",
     "output_type": "stream",
     "text": [
      " 68%|████████████████████████████             | 200/292 [21:47<10:20,  6.75s/it]"
     ]
    },
    {
     "name": "stdout",
     "output_type": "stream",
     "text": [
      "Audio extracted successfully to /Volumes/T7 Shield/friends/stimuli/s5/friends_s05e06b.mp3\n"
     ]
    },
    {
     "name": "stderr",
     "output_type": "stream",
     "text": [
      " 69%|████████████████████████████▏            | 201/292 [21:53<10:03,  6.63s/it]"
     ]
    },
    {
     "name": "stdout",
     "output_type": "stream",
     "text": [
      "Audio extracted successfully to /Volumes/T7 Shield/friends/stimuli/s5/friends_s05e10a.mp3\n"
     ]
    },
    {
     "name": "stderr",
     "output_type": "stream",
     "text": [
      " 69%|████████████████████████████▎            | 202/292 [22:00<09:52,  6.59s/it]"
     ]
    },
    {
     "name": "stdout",
     "output_type": "stream",
     "text": [
      "Audio extracted successfully to /Volumes/T7 Shield/friends/stimuli/s5/friends_s05e06a.mp3\n"
     ]
    },
    {
     "name": "stderr",
     "output_type": "stream",
     "text": [
      " 70%|████████████████████████████▌            | 203/292 [22:06<09:41,  6.53s/it]"
     ]
    },
    {
     "name": "stdout",
     "output_type": "stream",
     "text": [
      "Audio extracted successfully to /Volumes/T7 Shield/friends/stimuli/s5/friends_s05e01b.mp3\n"
     ]
    },
    {
     "name": "stderr",
     "output_type": "stream",
     "text": [
      " 70%|████████████████████████████▋            | 204/292 [22:13<09:42,  6.61s/it]"
     ]
    },
    {
     "name": "stdout",
     "output_type": "stream",
     "text": [
      "Audio extracted successfully to /Volumes/T7 Shield/friends/stimuli/s5/friends_s05e17b.mp3\n"
     ]
    },
    {
     "name": "stderr",
     "output_type": "stream",
     "text": [
      " 70%|████████████████████████████▊            | 205/292 [22:19<09:25,  6.50s/it]"
     ]
    },
    {
     "name": "stdout",
     "output_type": "stream",
     "text": [
      "Audio extracted successfully to /Volumes/T7 Shield/friends/stimuli/s5/friends_s05e21a.mp3\n"
     ]
    },
    {
     "name": "stderr",
     "output_type": "stream",
     "text": [
      " 71%|████████████████████████████▉            | 206/292 [22:25<09:05,  6.34s/it]"
     ]
    },
    {
     "name": "stdout",
     "output_type": "stream",
     "text": [
      "Audio extracted successfully to /Volumes/T7 Shield/friends/stimuli/s5/friends_s05e01a.mp3\n"
     ]
    },
    {
     "name": "stderr",
     "output_type": "stream",
     "text": [
      " 71%|█████████████████████████████            | 207/292 [22:32<09:03,  6.40s/it]"
     ]
    },
    {
     "name": "stdout",
     "output_type": "stream",
     "text": [
      "Audio extracted successfully to /Volumes/T7 Shield/friends/stimuli/s5/friends_s05e17a.mp3\n"
     ]
    },
    {
     "name": "stderr",
     "output_type": "stream",
     "text": [
      " 71%|█████████████████████████████▏           | 208/292 [22:38<09:01,  6.45s/it]"
     ]
    },
    {
     "name": "stdout",
     "output_type": "stream",
     "text": [
      "Audio extracted successfully to /Volumes/T7 Shield/friends/stimuli/s5/friends_s05e21b.mp3\n"
     ]
    },
    {
     "name": "stderr",
     "output_type": "stream",
     "text": [
      " 72%|█████████████████████████████▎           | 209/292 [22:45<09:01,  6.52s/it]"
     ]
    },
    {
     "name": "stdout",
     "output_type": "stream",
     "text": [
      "Audio extracted successfully to /Volumes/T7 Shield/friends/stimuli/s5/friends_s05e20b.mp3\n"
     ]
    },
    {
     "name": "stderr",
     "output_type": "stream",
     "text": [
      " 72%|█████████████████████████████▍           | 210/292 [22:52<08:59,  6.58s/it]"
     ]
    },
    {
     "name": "stdout",
     "output_type": "stream",
     "text": [
      "Audio extracted successfully to /Volumes/T7 Shield/friends/stimuli/s5/friends_s05e16a.mp3\n"
     ]
    },
    {
     "name": "stderr",
     "output_type": "stream",
     "text": [
      " 72%|█████████████████████████████▋           | 211/292 [22:58<08:45,  6.48s/it]"
     ]
    },
    {
     "name": "stdout",
     "output_type": "stream",
     "text": [
      "Audio extracted successfully to /Volumes/T7 Shield/friends/stimuli/s5/friends_s05e20a.mp3\n"
     ]
    },
    {
     "name": "stderr",
     "output_type": "stream",
     "text": [
      " 73%|█████████████████████████████▊           | 212/292 [23:05<08:54,  6.68s/it]"
     ]
    },
    {
     "name": "stdout",
     "output_type": "stream",
     "text": [
      "Audio extracted successfully to /Volumes/T7 Shield/friends/stimuli/s5/friends_s05e16b.mp3\n"
     ]
    },
    {
     "name": "stderr",
     "output_type": "stream",
     "text": [
      " 73%|█████████████████████████████▉           | 213/292 [23:12<08:38,  6.57s/it]"
     ]
    },
    {
     "name": "stdout",
     "output_type": "stream",
     "text": [
      "Audio extracted successfully to /Volumes/T7 Shield/friends/stimuli/s5/friends_s05e23a.mp3\n"
     ]
    },
    {
     "name": "stderr",
     "output_type": "stream",
     "text": [
      " 73%|██████████████████████████████           | 214/292 [23:18<08:27,  6.51s/it]"
     ]
    },
    {
     "name": "stdout",
     "output_type": "stream",
     "text": [
      "Audio extracted successfully to /Volumes/T7 Shield/friends/stimuli/s5/friends_s05e15b.mp3\n"
     ]
    },
    {
     "name": "stderr",
     "output_type": "stream",
     "text": [
      " 74%|██████████████████████████████▏          | 215/292 [23:24<08:12,  6.39s/it]"
     ]
    },
    {
     "name": "stdout",
     "output_type": "stream",
     "text": [
      "Audio extracted successfully to /Volumes/T7 Shield/friends/stimuli/s5/friends_s05e19a.mp3\n"
     ]
    },
    {
     "name": "stderr",
     "output_type": "stream",
     "text": [
      " 74%|██████████████████████████████▎          | 216/292 [23:31<08:21,  6.60s/it]"
     ]
    },
    {
     "name": "stdout",
     "output_type": "stream",
     "text": [
      "Audio extracted successfully to /Volumes/T7 Shield/friends/stimuli/s5/friends_s05e03b.mp3\n"
     ]
    },
    {
     "name": "stderr",
     "output_type": "stream",
     "text": [
      " 74%|██████████████████████████████▍          | 217/292 [23:37<08:06,  6.49s/it]"
     ]
    },
    {
     "name": "stdout",
     "output_type": "stream",
     "text": [
      "Audio extracted successfully to /Volumes/T7 Shield/friends/stimuli/s5/friends_s05e23b.mp3\n"
     ]
    },
    {
     "name": "stderr",
     "output_type": "stream",
     "text": [
      " 75%|██████████████████████████████▌          | 218/292 [23:43<07:47,  6.32s/it]"
     ]
    },
    {
     "name": "stdout",
     "output_type": "stream",
     "text": [
      "Audio extracted successfully to /Volumes/T7 Shield/friends/stimuli/s5/friends_s05e15a.mp3\n"
     ]
    },
    {
     "name": "stderr",
     "output_type": "stream",
     "text": [
      " 75%|██████████████████████████████▊          | 219/292 [23:50<07:46,  6.39s/it]"
     ]
    },
    {
     "name": "stdout",
     "output_type": "stream",
     "text": [
      "Audio extracted successfully to /Volumes/T7 Shield/friends/stimuli/s5/friends_s05e19b.mp3\n"
     ]
    },
    {
     "name": "stderr",
     "output_type": "stream",
     "text": [
      " 75%|██████████████████████████████▉          | 220/292 [23:56<07:43,  6.44s/it]"
     ]
    },
    {
     "name": "stdout",
     "output_type": "stream",
     "text": [
      "Audio extracted successfully to /Volumes/T7 Shield/friends/stimuli/s5/friends_s05e03a.mp3\n"
     ]
    },
    {
     "name": "stderr",
     "output_type": "stream",
     "text": [
      " 76%|███████████████████████████████          | 221/292 [24:03<07:37,  6.44s/it]"
     ]
    },
    {
     "name": "stdout",
     "output_type": "stream",
     "text": [
      "Audio extracted successfully to /Volumes/T7 Shield/friends/stimuli/s5/friends_s05e23c.mp3\n"
     ]
    },
    {
     "name": "stderr",
     "output_type": "stream",
     "text": [
      " 76%|███████████████████████████████▏         | 222/292 [24:10<07:37,  6.54s/it]"
     ]
    },
    {
     "name": "stdout",
     "output_type": "stream",
     "text": [
      "Audio extracted successfully to /Volumes/T7 Shield/friends/stimuli/s5/friends_s05e02a.mp3\n"
     ]
    },
    {
     "name": "stderr",
     "output_type": "stream",
     "text": [
      " 76%|███████████████████████████████▎         | 223/292 [24:17<07:44,  6.73s/it]"
     ]
    },
    {
     "name": "stdout",
     "output_type": "stream",
     "text": [
      "Audio extracted successfully to /Volumes/T7 Shield/friends/stimuli/s5/friends_s05e18b.mp3\n"
     ]
    },
    {
     "name": "stderr",
     "output_type": "stream",
     "text": [
      " 77%|███████████████████████████████▍         | 224/292 [24:24<07:45,  6.84s/it]"
     ]
    },
    {
     "name": "stdout",
     "output_type": "stream",
     "text": [
      "Audio extracted successfully to /Volumes/T7 Shield/friends/stimuli/s5/friends_s05e14a.mp3\n"
     ]
    },
    {
     "name": "stderr",
     "output_type": "stream",
     "text": [
      " 77%|███████████████████████████████▌         | 225/292 [24:30<07:33,  6.77s/it]"
     ]
    },
    {
     "name": "stdout",
     "output_type": "stream",
     "text": [
      "Audio extracted successfully to /Volumes/T7 Shield/friends/stimuli/s5/friends_s05e22b.mp3\n"
     ]
    },
    {
     "name": "stderr",
     "output_type": "stream",
     "text": [
      " 77%|███████████████████████████████▋         | 226/292 [24:37<07:26,  6.77s/it]"
     ]
    },
    {
     "name": "stdout",
     "output_type": "stream",
     "text": [
      "Audio extracted successfully to /Volumes/T7 Shield/friends/stimuli/s5/friends_s05e23d.mp3\n"
     ]
    },
    {
     "name": "stderr",
     "output_type": "stream",
     "text": [
      " 78%|███████████████████████████████▊         | 227/292 [24:44<07:23,  6.83s/it]"
     ]
    },
    {
     "name": "stdout",
     "output_type": "stream",
     "text": [
      "Audio extracted successfully to /Volumes/T7 Shield/friends/stimuli/s5/friends_s05e02b.mp3\n"
     ]
    },
    {
     "name": "stderr",
     "output_type": "stream",
     "text": [
      " 78%|████████████████████████████████         | 228/292 [24:51<07:18,  6.85s/it]"
     ]
    },
    {
     "name": "stdout",
     "output_type": "stream",
     "text": [
      "Audio extracted successfully to /Volumes/T7 Shield/friends/stimuli/s5/friends_s05e18a.mp3\n"
     ]
    },
    {
     "name": "stderr",
     "output_type": "stream",
     "text": [
      " 78%|████████████████████████████████▏        | 229/292 [24:59<07:22,  7.03s/it]"
     ]
    },
    {
     "name": "stdout",
     "output_type": "stream",
     "text": [
      "Audio extracted successfully to /Volumes/T7 Shield/friends/stimuli/s5/friends_s05e14b.mp3\n"
     ]
    },
    {
     "name": "stderr",
     "output_type": "stream",
     "text": [
      " 79%|████████████████████████████████▎        | 230/292 [25:05<07:01,  6.79s/it]"
     ]
    },
    {
     "name": "stdout",
     "output_type": "stream",
     "text": [
      "Audio extracted successfully to /Volumes/T7 Shield/friends/stimuli/s5/friends_s05e22a.mp3\n"
     ]
    },
    {
     "name": "stderr",
     "output_type": "stream",
     "text": [
      " 79%|████████████████████████████████▍        | 231/292 [25:11<06:47,  6.69s/it]"
     ]
    },
    {
     "name": "stdout",
     "output_type": "stream",
     "text": [
      "Audio extracted successfully to /Volumes/T7 Shield/friends/stimuli/s5/friends_s05e13a.mp3\n"
     ]
    },
    {
     "name": "stderr",
     "output_type": "stream",
     "text": [
      " 79%|████████████████████████████████▌        | 232/292 [25:18<06:42,  6.70s/it]"
     ]
    },
    {
     "name": "stdout",
     "output_type": "stream",
     "text": [
      "Audio extracted successfully to /Volumes/T7 Shield/friends/stimuli/s5/friends_s05e05a.mp3\n"
     ]
    },
    {
     "name": "stderr",
     "output_type": "stream",
     "text": [
      " 80%|████████████████████████████████▋        | 233/292 [25:25<06:35,  6.70s/it]"
     ]
    },
    {
     "name": "stdout",
     "output_type": "stream",
     "text": [
      "Audio extracted successfully to /Volumes/T7 Shield/friends/stimuli/s5/friends_s05e09b.mp3\n"
     ]
    },
    {
     "name": "stderr",
     "output_type": "stream",
     "text": [
      " 80%|████████████████████████████████▊        | 234/292 [25:31<06:26,  6.66s/it]"
     ]
    },
    {
     "name": "stdout",
     "output_type": "stream",
     "text": [
      "Audio extracted successfully to /Volumes/T7 Shield/friends/stimuli/s5/friends_s05e13b.mp3\n"
     ]
    },
    {
     "name": "stderr",
     "output_type": "stream",
     "text": [
      " 80%|████████████████████████████████▉        | 235/292 [25:38<06:25,  6.76s/it]"
     ]
    },
    {
     "name": "stdout",
     "output_type": "stream",
     "text": [
      "Audio extracted successfully to /Volumes/T7 Shield/friends/stimuli/s5/friends_s05e05b.mp3\n"
     ]
    },
    {
     "name": "stderr",
     "output_type": "stream",
     "text": [
      " 81%|█████████████████████████████████▏       | 236/292 [25:45<06:10,  6.62s/it]"
     ]
    },
    {
     "name": "stdout",
     "output_type": "stream",
     "text": [
      "Audio extracted successfully to /Volumes/T7 Shield/friends/stimuli/s5/friends_s05e09a.mp3\n"
     ]
    },
    {
     "name": "stderr",
     "output_type": "stream",
     "text": [
      " 81%|█████████████████████████████████▎       | 237/292 [25:51<06:05,  6.64s/it]"
     ]
    },
    {
     "name": "stdout",
     "output_type": "stream",
     "text": [
      "Audio extracted successfully to /Volumes/T7 Shield/friends/stimuli/s5/friends_s05e08a.mp3\n"
     ]
    },
    {
     "name": "stderr",
     "output_type": "stream",
     "text": [
      " 82%|█████████████████████████████████▍       | 238/292 [25:58<06:05,  6.78s/it]"
     ]
    },
    {
     "name": "stdout",
     "output_type": "stream",
     "text": [
      "Audio extracted successfully to /Volumes/T7 Shield/friends/stimuli/s5/friends_s05e04b.mp3\n"
     ]
    },
    {
     "name": "stderr",
     "output_type": "stream",
     "text": [
      " 82%|█████████████████████████████████▌       | 239/292 [26:05<05:54,  6.70s/it]"
     ]
    },
    {
     "name": "stdout",
     "output_type": "stream",
     "text": [
      "Audio extracted successfully to /Volumes/T7 Shield/friends/stimuli/s5/friends_s05e12b.mp3\n"
     ]
    },
    {
     "name": "stderr",
     "output_type": "stream",
     "text": [
      " 82%|█████████████████████████████████▋       | 240/292 [26:12<05:54,  6.82s/it]"
     ]
    },
    {
     "name": "stdout",
     "output_type": "stream",
     "text": [
      "Audio extracted successfully to /Volumes/T7 Shield/friends/stimuli/s5/friends_s05e08b.mp3\n"
     ]
    },
    {
     "name": "stderr",
     "output_type": "stream",
     "text": [
      " 83%|█████████████████████████████████▊       | 241/292 [26:19<05:45,  6.78s/it]"
     ]
    },
    {
     "name": "stdout",
     "output_type": "stream",
     "text": [
      "Audio extracted successfully to /Volumes/T7 Shield/friends/stimuli/s5/friends_s05e04a.mp3\n"
     ]
    },
    {
     "name": "stderr",
     "output_type": "stream",
     "text": [
      " 83%|█████████████████████████████████▉       | 242/292 [26:25<05:29,  6.59s/it]"
     ]
    },
    {
     "name": "stdout",
     "output_type": "stream",
     "text": [
      "Audio extracted successfully to /Volumes/T7 Shield/friends/stimuli/s5/friends_s05e12a.mp3\n"
     ]
    },
    {
     "name": "stderr",
     "output_type": "stream",
     "text": [
      " 83%|██████████████████████████████████       | 243/292 [26:31<05:13,  6.40s/it]"
     ]
    },
    {
     "name": "stdout",
     "output_type": "stream",
     "text": [
      "Audio extracted successfully to /Volumes/T7 Shield/friends/stimuli/s6/friends_s06e17a.mp3\n"
     ]
    },
    {
     "name": "stderr",
     "output_type": "stream",
     "text": [
      " 84%|██████████████████████████████████▎      | 244/292 [26:37<05:11,  6.49s/it]"
     ]
    },
    {
     "name": "stdout",
     "output_type": "stream",
     "text": [
      "Audio extracted successfully to /Volumes/T7 Shield/friends/stimuli/s6/friends_s06e01a.mp3\n"
     ]
    },
    {
     "name": "stderr",
     "output_type": "stream",
     "text": [
      " 84%|██████████████████████████████████▍      | 245/292 [26:44<05:11,  6.63s/it]"
     ]
    },
    {
     "name": "stdout",
     "output_type": "stream",
     "text": [
      "Audio extracted successfully to /Volumes/T7 Shield/friends/stimuli/s6/friends_s06e21b.mp3\n"
     ]
    },
    {
     "name": "stderr",
     "output_type": "stream",
     "text": [
      " 84%|██████████████████████████████████▌      | 246/292 [26:51<05:03,  6.60s/it]"
     ]
    },
    {
     "name": "stdout",
     "output_type": "stream",
     "text": [
      "Audio extracted successfully to /Volumes/T7 Shield/friends/stimuli/s6/friends_s06e17b.mp3\n"
     ]
    },
    {
     "name": "stderr",
     "output_type": "stream",
     "text": [
      " 85%|██████████████████████████████████▋      | 247/292 [26:58<05:02,  6.71s/it]"
     ]
    },
    {
     "name": "stdout",
     "output_type": "stream",
     "text": [
      "Audio extracted successfully to /Volumes/T7 Shield/friends/stimuli/s6/friends_s06e01b.mp3\n"
     ]
    },
    {
     "name": "stderr",
     "output_type": "stream",
     "text": [
      " 85%|██████████████████████████████████▊      | 248/292 [27:04<04:51,  6.62s/it]"
     ]
    },
    {
     "name": "stdout",
     "output_type": "stream",
     "text": [
      "Audio extracted successfully to /Volumes/T7 Shield/friends/stimuli/s6/friends_s06e21a.mp3\n"
     ]
    },
    {
     "name": "stderr",
     "output_type": "stream",
     "text": [
      " 85%|██████████████████████████████████▉      | 249/292 [27:10<04:37,  6.46s/it]"
     ]
    },
    {
     "name": "stdout",
     "output_type": "stream",
     "text": [
      "Audio extracted successfully to /Volumes/T7 Shield/friends/stimuli/s6/friends_s06e20a.mp3\n"
     ]
    },
    {
     "name": "stderr",
     "output_type": "stream",
     "text": [
      " 86%|███████████████████████████████████      | 250/292 [27:17<04:34,  6.53s/it]"
     ]
    },
    {
     "name": "stdout",
     "output_type": "stream",
     "text": [
      "Audio extracted successfully to /Volumes/T7 Shield/friends/stimuli/s6/friends_s06e20b.mp3\n"
     ]
    },
    {
     "name": "stderr",
     "output_type": "stream",
     "text": [
      " 86%|███████████████████████████████████▏     | 251/292 [27:24<04:31,  6.62s/it]"
     ]
    },
    {
     "name": "stdout",
     "output_type": "stream",
     "text": [
      "Audio extracted successfully to /Volumes/T7 Shield/friends/stimuli/s6/friends_s06e11b.mp3\n"
     ]
    },
    {
     "name": "stderr",
     "output_type": "stream",
     "text": [
      " 86%|███████████████████████████████████▍     | 252/292 [27:31<04:27,  6.68s/it]"
     ]
    },
    {
     "name": "stdout",
     "output_type": "stream",
     "text": [
      "Audio extracted successfully to /Volumes/T7 Shield/friends/stimuli/s6/friends_s06e07b.mp3\n"
     ]
    },
    {
     "name": "stderr",
     "output_type": "stream",
     "text": [
      " 87%|███████████████████████████████████▌     | 253/292 [27:37<04:17,  6.60s/it]"
     ]
    },
    {
     "name": "stdout",
     "output_type": "stream",
     "text": [
      "Audio extracted successfully to /Volumes/T7 Shield/friends/stimuli/s6/friends_s06e11a.mp3\n"
     ]
    },
    {
     "name": "stderr",
     "output_type": "stream",
     "text": [
      " 87%|███████████████████████████████████▋     | 254/292 [27:43<04:07,  6.51s/it]"
     ]
    },
    {
     "name": "stdout",
     "output_type": "stream",
     "text": [
      "Audio extracted successfully to /Volumes/T7 Shield/friends/stimuli/s6/friends_s06e07a.mp3\n"
     ]
    },
    {
     "name": "stderr",
     "output_type": "stream",
     "text": [
      " 87%|███████████████████████████████████▊     | 255/292 [27:50<03:59,  6.47s/it]"
     ]
    },
    {
     "name": "stdout",
     "output_type": "stream",
     "text": [
      "Audio extracted successfully to /Volumes/T7 Shield/friends/stimuli/s6/friends_s06e06a.mp3\n"
     ]
    },
    {
     "name": "stderr",
     "output_type": "stream",
     "text": [
      " 88%|███████████████████████████████████▉     | 256/292 [27:57<03:57,  6.60s/it]"
     ]
    },
    {
     "name": "stdout",
     "output_type": "stream",
     "text": [
      "Audio extracted successfully to /Volumes/T7 Shield/friends/stimuli/s6/friends_s06e10a.mp3\n"
     ]
    },
    {
     "name": "stderr",
     "output_type": "stream",
     "text": [
      " 88%|████████████████████████████████████     | 257/292 [28:03<03:51,  6.62s/it]"
     ]
    },
    {
     "name": "stdout",
     "output_type": "stream",
     "text": [
      "Audio extracted successfully to /Volumes/T7 Shield/friends/stimuli/s6/friends_s06e06b.mp3\n"
     ]
    },
    {
     "name": "stderr",
     "output_type": "stream",
     "text": [
      " 88%|████████████████████████████████████▏    | 258/292 [28:11<03:52,  6.85s/it]"
     ]
    },
    {
     "name": "stdout",
     "output_type": "stream",
     "text": [
      "Audio extracted successfully to /Volumes/T7 Shield/friends/stimuli/s6/friends_s06e10b.mp3\n"
     ]
    },
    {
     "name": "stderr",
     "output_type": "stream",
     "text": [
      " 89%|████████████████████████████████████▎    | 259/292 [28:18<03:48,  6.93s/it]"
     ]
    },
    {
     "name": "stdout",
     "output_type": "stream",
     "text": [
      "Audio extracted successfully to /Volumes/T7 Shield/friends/stimuli/s6/friends_s06e24d.mp3\n"
     ]
    },
    {
     "name": "stderr",
     "output_type": "stream",
     "text": [
      " 89%|████████████████████████████████████▌    | 260/292 [28:25<03:48,  7.15s/it]"
     ]
    },
    {
     "name": "stdout",
     "output_type": "stream",
     "text": [
      "Audio extracted successfully to /Volumes/T7 Shield/friends/stimuli/s6/friends_s06e09a.mp3\n"
     ]
    },
    {
     "name": "stderr",
     "output_type": "stream",
     "text": [
      " 89%|████████████████████████████████████▋    | 261/292 [28:32<03:38,  7.05s/it]"
     ]
    },
    {
     "name": "stdout",
     "output_type": "stream",
     "text": [
      "Audio extracted successfully to /Volumes/T7 Shield/friends/stimuli/s6/friends_s06e05b.mp3\n"
     ]
    },
    {
     "name": "stderr",
     "output_type": "stream",
     "text": [
      " 90%|████████████████████████████████████▊    | 262/292 [28:39<03:31,  7.06s/it]"
     ]
    },
    {
     "name": "stdout",
     "output_type": "stream",
     "text": [
      "Audio extracted successfully to /Volumes/T7 Shield/friends/stimuli/s6/friends_s06e13b.mp3\n"
     ]
    },
    {
     "name": "stderr",
     "output_type": "stream",
     "text": [
      " 90%|████████████████████████████████████▉    | 263/292 [28:48<03:35,  7.41s/it]"
     ]
    },
    {
     "name": "stdout",
     "output_type": "stream",
     "text": [
      "Audio extracted successfully to /Volumes/T7 Shield/friends/stimuli/s6/friends_s06e09b.mp3\n"
     ]
    },
    {
     "name": "stderr",
     "output_type": "stream",
     "text": [
      " 90%|█████████████████████████████████████    | 264/292 [28:54<03:18,  7.09s/it]"
     ]
    },
    {
     "name": "stdout",
     "output_type": "stream",
     "text": [
      "Audio extracted successfully to /Volumes/T7 Shield/friends/stimuli/s6/friends_s06e05a.mp3\n"
     ]
    },
    {
     "name": "stderr",
     "output_type": "stream",
     "text": [
      " 91%|█████████████████████████████████████▏   | 265/292 [29:01<03:10,  7.07s/it]"
     ]
    },
    {
     "name": "stdout",
     "output_type": "stream",
     "text": [
      "Audio extracted successfully to /Volumes/T7 Shield/friends/stimuli/s6/friends_s06e13a.mp3\n"
     ]
    },
    {
     "name": "stderr",
     "output_type": "stream",
     "text": [
      " 91%|█████████████████████████████████████▎   | 266/292 [29:07<02:57,  6.83s/it]"
     ]
    },
    {
     "name": "stdout",
     "output_type": "stream",
     "text": [
      "Audio extracted successfully to /Volumes/T7 Shield/friends/stimuli/s6/friends_s06e12a.mp3\n"
     ]
    },
    {
     "name": "stderr",
     "output_type": "stream",
     "text": [
      " 91%|█████████████████████████████████████▍   | 267/292 [29:14<02:46,  6.66s/it]"
     ]
    },
    {
     "name": "stdout",
     "output_type": "stream",
     "text": [
      "Audio extracted successfully to /Volumes/T7 Shield/friends/stimuli/s6/friends_s06e04a.mp3\n"
     ]
    },
    {
     "name": "stderr",
     "output_type": "stream",
     "text": [
      " 92%|█████████████████████████████████████▋   | 268/292 [29:20<02:39,  6.66s/it]"
     ]
    },
    {
     "name": "stdout",
     "output_type": "stream",
     "text": [
      "Audio extracted successfully to /Volumes/T7 Shield/friends/stimuli/s6/friends_s06e08b.mp3\n"
     ]
    },
    {
     "name": "stderr",
     "output_type": "stream",
     "text": [
      " 92%|█████████████████████████████████████▊   | 269/292 [29:27<02:34,  6.70s/it]"
     ]
    },
    {
     "name": "stdout",
     "output_type": "stream",
     "text": [
      "Audio extracted successfully to /Volumes/T7 Shield/friends/stimuli/s6/friends_s06e24c.mp3\n"
     ]
    },
    {
     "name": "stderr",
     "output_type": "stream",
     "text": [
      " 92%|█████████████████████████████████████▉   | 270/292 [29:34<02:28,  6.74s/it]"
     ]
    },
    {
     "name": "stdout",
     "output_type": "stream",
     "text": [
      "Audio extracted successfully to /Volumes/T7 Shield/friends/stimuli/s6/friends_s06e24b.mp3\n"
     ]
    },
    {
     "name": "stderr",
     "output_type": "stream",
     "text": [
      " 93%|██████████████████████████████████████   | 271/292 [29:40<02:20,  6.67s/it]"
     ]
    },
    {
     "name": "stdout",
     "output_type": "stream",
     "text": [
      "Audio extracted successfully to /Volumes/T7 Shield/friends/stimuli/s6/friends_s06e12b.mp3\n"
     ]
    },
    {
     "name": "stderr",
     "output_type": "stream",
     "text": [
      " 93%|██████████████████████████████████████▏  | 272/292 [29:47<02:13,  6.68s/it]"
     ]
    },
    {
     "name": "stdout",
     "output_type": "stream",
     "text": [
      "Audio extracted successfully to /Volumes/T7 Shield/friends/stimuli/s6/friends_s06e04b.mp3\n"
     ]
    },
    {
     "name": "stderr",
     "output_type": "stream",
     "text": [
      " 93%|██████████████████████████████████████▎  | 273/292 [29:53<02:04,  6.54s/it]"
     ]
    },
    {
     "name": "stdout",
     "output_type": "stream",
     "text": [
      "Audio extracted successfully to /Volumes/T7 Shield/friends/stimuli/s6/friends_s06e08a.mp3\n"
     ]
    },
    {
     "name": "stderr",
     "output_type": "stream",
     "text": [
      " 94%|██████████████████████████████████████▍  | 274/292 [30:00<01:59,  6.64s/it]"
     ]
    },
    {
     "name": "stdout",
     "output_type": "stream",
     "text": [
      "Audio extracted successfully to /Volumes/T7 Shield/friends/stimuli/s6/friends_s06e24a.mp3\n"
     ]
    },
    {
     "name": "stderr",
     "output_type": "stream",
     "text": [
      " 94%|██████████████████████████████████████▌  | 275/292 [30:07<01:55,  6.80s/it]"
     ]
    },
    {
     "name": "stdout",
     "output_type": "stream",
     "text": [
      "Audio extracted successfully to /Volumes/T7 Shield/friends/stimuli/s6/friends_s06e23b.mp3\n"
     ]
    },
    {
     "name": "stderr",
     "output_type": "stream",
     "text": [
      " 95%|██████████████████████████████████████▊  | 276/292 [30:13<01:45,  6.60s/it]"
     ]
    },
    {
     "name": "stdout",
     "output_type": "stream",
     "text": [
      "Audio extracted successfully to /Volumes/T7 Shield/friends/stimuli/s6/friends_s06e03a.mp3\n"
     ]
    },
    {
     "name": "stderr",
     "output_type": "stream",
     "text": [
      " 95%|██████████████████████████████████████▉  | 277/292 [30:20<01:37,  6.51s/it]"
     ]
    },
    {
     "name": "stdout",
     "output_type": "stream",
     "text": [
      "Audio extracted successfully to /Volumes/T7 Shield/friends/stimuli/s6/friends_s06e19b.mp3\n"
     ]
    },
    {
     "name": "stderr",
     "output_type": "stream",
     "text": [
      " 95%|███████████████████████████████████████  | 278/292 [30:26<01:32,  6.58s/it]"
     ]
    },
    {
     "name": "stdout",
     "output_type": "stream",
     "text": [
      "Audio extracted successfully to /Volumes/T7 Shield/friends/stimuli/s6/friends_s06e15a.mp3\n"
     ]
    },
    {
     "name": "stderr",
     "output_type": "stream",
     "text": [
      " 96%|███████████████████████████████████████▏ | 279/292 [30:33<01:25,  6.60s/it]"
     ]
    },
    {
     "name": "stdout",
     "output_type": "stream",
     "text": [
      "Audio extracted successfully to /Volumes/T7 Shield/friends/stimuli/s6/friends_s06e15c.mp3\n"
     ]
    },
    {
     "name": "stderr",
     "output_type": "stream",
     "text": [
      " 96%|███████████████████████████████████████▎ | 280/292 [30:40<01:19,  6.65s/it]"
     ]
    },
    {
     "name": "stdout",
     "output_type": "stream",
     "text": [
      "Audio extracted successfully to /Volumes/T7 Shield/friends/stimuli/s6/friends_s06e23a.mp3\n"
     ]
    },
    {
     "name": "stderr",
     "output_type": "stream",
     "text": [
      " 96%|███████████████████████████████████████▍ | 281/292 [30:46<01:12,  6.62s/it]"
     ]
    },
    {
     "name": "stdout",
     "output_type": "stream",
     "text": [
      "Audio extracted successfully to /Volumes/T7 Shield/friends/stimuli/s6/friends_s06e03b.mp3\n"
     ]
    },
    {
     "name": "stderr",
     "output_type": "stream",
     "text": [
      " 97%|███████████████████████████████████████▌ | 282/292 [30:52<01:04,  6.43s/it]"
     ]
    },
    {
     "name": "stdout",
     "output_type": "stream",
     "text": [
      "Audio extracted successfully to /Volumes/T7 Shield/friends/stimuli/s6/friends_s06e19a.mp3\n"
     ]
    },
    {
     "name": "stderr",
     "output_type": "stream",
     "text": [
      " 97%|███████████████████████████████████████▋ | 283/292 [30:59<00:58,  6.52s/it]"
     ]
    },
    {
     "name": "stdout",
     "output_type": "stream",
     "text": [
      "Audio extracted successfully to /Volumes/T7 Shield/friends/stimuli/s6/friends_s06e15b.mp3\n"
     ]
    },
    {
     "name": "stderr",
     "output_type": "stream",
     "text": [
      " 97%|███████████████████████████████████████▉ | 284/292 [31:06<00:52,  6.61s/it]"
     ]
    },
    {
     "name": "stdout",
     "output_type": "stream",
     "text": [
      "Audio extracted successfully to /Volumes/T7 Shield/friends/stimuli/s6/friends_s06e14b.mp3\n"
     ]
    },
    {
     "name": "stderr",
     "output_type": "stream",
     "text": [
      " 98%|████████████████████████████████████████ | 285/292 [31:12<00:44,  6.41s/it]"
     ]
    },
    {
     "name": "stdout",
     "output_type": "stream",
     "text": [
      "Audio extracted successfully to /Volumes/T7 Shield/friends/stimuli/s6/friends_s06e18a.mp3\n"
     ]
    },
    {
     "name": "stderr",
     "output_type": "stream",
     "text": [
      " 98%|████████████████████████████████████████▏| 286/292 [31:19<00:38,  6.49s/it]"
     ]
    },
    {
     "name": "stdout",
     "output_type": "stream",
     "text": [
      "Audio extracted successfully to /Volumes/T7 Shield/friends/stimuli/s6/friends_s06e02b.mp3\n"
     ]
    },
    {
     "name": "stderr",
     "output_type": "stream",
     "text": [
      " 98%|████████████████████████████████████████▎| 287/292 [31:25<00:32,  6.43s/it]"
     ]
    },
    {
     "name": "stdout",
     "output_type": "stream",
     "text": [
      "Audio extracted successfully to /Volumes/T7 Shield/friends/stimuli/s6/friends_s06e22a.mp3\n"
     ]
    },
    {
     "name": "stderr",
     "output_type": "stream",
     "text": [
      " 99%|████████████████████████████████████████▍| 288/292 [31:31<00:25,  6.43s/it]"
     ]
    },
    {
     "name": "stdout",
     "output_type": "stream",
     "text": [
      "Audio extracted successfully to /Volumes/T7 Shield/friends/stimuli/s6/friends_s06e14a.mp3\n"
     ]
    },
    {
     "name": "stderr",
     "output_type": "stream",
     "text": [
      " 99%|████████████████████████████████████████▌| 289/292 [31:38<00:19,  6.42s/it]"
     ]
    },
    {
     "name": "stdout",
     "output_type": "stream",
     "text": [
      "Audio extracted successfully to /Volumes/T7 Shield/friends/stimuli/s6/friends_s06e18b.mp3\n"
     ]
    },
    {
     "name": "stderr",
     "output_type": "stream",
     "text": [
      " 99%|████████████████████████████████████████▋| 290/292 [31:44<00:12,  6.37s/it]"
     ]
    },
    {
     "name": "stdout",
     "output_type": "stream",
     "text": [
      "Audio extracted successfully to /Volumes/T7 Shield/friends/stimuli/s6/friends_s06e02a.mp3\n"
     ]
    },
    {
     "name": "stderr",
     "output_type": "stream",
     "text": [
      "100%|████████████████████████████████████████▊| 291/292 [31:51<00:06,  6.50s/it]"
     ]
    },
    {
     "name": "stdout",
     "output_type": "stream",
     "text": [
      "Audio extracted successfully to /Volumes/T7 Shield/friends/stimuli/s6/friends_s06e22b.mp3\n"
     ]
    },
    {
     "name": "stderr",
     "output_type": "stream",
     "text": [
      "100%|█████████████████████████████████████████| 292/292 [31:58<00:00,  6.57s/it]"
     ]
    },
    {
     "name": "stdout",
     "output_type": "stream",
     "text": [
      "Audio extracted successfully to /Volumes/T7 Shield/friends/stimuli/s6/friends_s06e15d.mp3\n"
     ]
    },
    {
     "name": "stderr",
     "output_type": "stream",
     "text": [
      "\n"
     ]
    }
   ],
   "source": [
    "for curr_mkv_file in tqdm(mkv_file_paths):\n",
    "    extract_audio_from_mkv(curr_mkv_file)"
   ]
  },
  {
   "cell_type": "code",
   "execution_count": null,
   "id": "aa72fd59-8166-4124-87b4-b43ed41e8da6",
   "metadata": {},
   "outputs": [],
   "source": []
  }
 ],
 "metadata": {
  "kernelspec": {
   "display_name": "Python 3 (ipykernel)",
   "language": "python",
   "name": "python3"
  },
  "language_info": {
   "codemirror_mode": {
    "name": "ipython",
    "version": 3
   },
   "file_extension": ".py",
   "mimetype": "text/x-python",
   "name": "python",
   "nbconvert_exporter": "python",
   "pygments_lexer": "ipython3",
   "version": "3.10.13"
  }
 },
 "nbformat": 4,
 "nbformat_minor": 5
}
