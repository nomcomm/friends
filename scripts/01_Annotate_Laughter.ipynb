{
 "cells": [
  {
   "cell_type": "code",
   "execution_count": 1,
   "id": "23e0820b-b791-4833-afe2-3934c7c9ffd3",
   "metadata": {},
   "outputs": [],
   "source": [
    "import os\n",
    "import subprocess\n",
    "from pydub import AudioSegment\n",
    "import pandas as pd\n",
    "import base64\n",
    "from google import genai\n",
    "from google.genai import types\n",
    "from tqdm import tqdm\n",
    "from pathlib import Path"
   ]
  },
  {
   "cell_type": "code",
   "execution_count": 2,
   "id": "0b1cba1e-b32b-4556-8bc0-079bea6b1ec1",
   "metadata": {},
   "outputs": [],
   "source": [
    "\n",
    "\n",
    "def chop_and_execute(mp3_file, segment_duration=1.49, model = 'gemini-2.5-pro-preview-03-25', command=\"echo 'Processing temp.mp3'\"):\n",
    "    \"\"\"\n",
    "    Chops an MP3 file into segments and executes a command on each segment.\n",
    "\n",
    "    Args:\n",
    "        mp3_file (str): Path to the input MP3 file.\n",
    "        segment_duration (int): Duration of each segment in seconds.\n",
    "        command (str): Command to execute on each segment (e.g., \"python my_script.py\").\n",
    "    \"\"\"\n",
    "\n",
    "    try:\n",
    "        audio = AudioSegment.from_mp3(mp3_file)\n",
    "        total_duration_ms = len(audio)\n",
    "        segment_duration_ms = segment_duration * 1000\n",
    "\n",
    "        onsets           = []\n",
    "        offsets          = []\n",
    "        laughter_dummies = []\n",
    "\n",
    "        for start_ms in tqdm(range(0, int(total_duration_ms), int(segment_duration_ms))):\n",
    "            \n",
    "            end_ms = min(start_ms + segment_duration_ms, total_duration_ms)\n",
    "            segment = audio[start_ms:end_ms]\n",
    "\n",
    "            temp_file = \"/Users/schmaelz/Desktop/audio/temp\" + str(start_ms) + \".mp3\"\n",
    "            segment.export(temp_file, format=\"mp3\")\n",
    "\n",
    "            #print(f\"Processing segment {start_ms/1000}-{end_ms/1000}s\")\n",
    "            onsets.append(start_ms)\n",
    "            offsets.append(end_ms)\n",
    "            \n",
    "            yes_no_laughter = analyze_gemini(temp_file, model)\n",
    "            laughter_dummies.append(yes_no_laughter)\n",
    "            #os.remove(temp_file)\n",
    "            \n",
    "\n",
    "        df            = pd.DataFrame()\n",
    "        df['onsets']  = onsets\n",
    "        df['minutes_seconds'] = seconds_to_minutes_seconds(df['onsets'])\n",
    "        df['offsets'] = offsets\n",
    "        df['ls']      = laughter_dummies\n",
    "        df['ls_binary'] = [1 if item.lower() == 'yes' else 0 for item in laughter_dummies]\n",
    "        \n",
    "        \n",
    "    except FileNotFoundError:\n",
    "        print(f\"Error: MP3 file not found: {mp3_file}\")\n",
    "\n",
    "    return df\n",
    "        \n",
    "\n",
    "def analyze_gemini(audio_input_file_path, model):\n",
    "    \"\"\"\n",
    "    Analyzes audio using the Gemini API.\n",
    "\n",
    "    Args:\n",
    "        audio_input_file_path: Path to the audio file.\n",
    "\n",
    "    Returns:\n",
    "        The analysis result (yes/no) as a string, or None if an error occurs.\n",
    "    \"\"\"\n",
    "    try:\n",
    "        client = genai.Client(api_key=os.environ.get(\"GOOGLE_API_KEY\"))\n",
    "        #model = \"gemini-2.5-pro-preview-03-25\"\n",
    "        #model = my_model #\"gemini-2.0-flash\"\n",
    "        files = [client.files.upload(file=audio_input_file_path)]\n",
    "        contents = [\n",
    "            types.Content(\n",
    "                role=\"user\",\n",
    "                parts=[\n",
    "                    types.Part.from_uri(file_uri=files[0].uri, mime_type=files[0].mime_type),\n",
    "                    types.Part.from_text(\n",
    "                        text=\"\"\"Analyze whether this file contains clearly audible audience laughter as is typical of sitcoms. If you can identify such laughter, answer yes, otherwise answer no. Be conservative, only mark explicit cases where it is very clear that people are laughing. Only answer yes or no in lowercase letters, no other answer text or commentary. \"\"\"\n",
    "                    ),\n",
    "                ],\n",
    "            ),\n",
    "        ]\n",
    "\n",
    "        generate_content_config = types.GenerateContentConfig(response_mime_type=\"text/plain\")\n",
    "\n",
    "        for chunk in client.models.generate_content_stream(\n",
    "            model=model, contents=contents, config=generate_content_config,\n",
    "        ):\n",
    "            return chunk.text\n",
    "\n",
    "    except Exception as e:\n",
    "        print(f\"Error analyzing audio with Gemini: {e}\")\n",
    "        return 'Error'  # Indicate failure\n",
    "\n",
    "\n",
    "def seconds_to_minutes_seconds(seconds_series):\n",
    "    \"\"\"\n",
    "    Converts a pandas Series of seconds into a Series of [minutes:seconds] strings.\n",
    "    Args: seconds_series (pd.Series): A pandas Series containing seconds (numeric).\n",
    "    Returns:  pd.Series: A pandas Series of strings in the format [minutes:seconds].\n",
    "    \"\"\"\n",
    "    seconds_series = seconds_series//1000\n",
    "    minutes = seconds_series // 60\n",
    "    remaining_seconds = seconds_series % 60\n",
    "    return minutes.astype(str) + ':' + remaining_seconds.astype(str).str.zfill(2)\n",
    "\n",
    "\n",
    "def find_mp3_files(folder_path):\n",
    "    \"\"\"\n",
    "    Finds all paths to MP3 files in a folder and its subfolders.\n",
    "\n",
    "    Args:\n",
    "        folder_path (str): Path to the folder to search.\n",
    "\n",
    "    Returns:\n",
    "        list: A list of absolute paths to all MP3 files found.\n",
    "    \"\"\"\n",
    "    mp3_files = []\n",
    "    folder = Path(folder_path)\n",
    "\n",
    "    if not folder.exists():\n",
    "        print(f\"Error: Folder '{folder_path}' does not exist.\")\n",
    "        return []\n",
    "\n",
    "    for file_path in folder.rglob(\"*.mp3\"):\n",
    "        mp3_files.append(str(file_path.resolve()))\n",
    "\n",
    "    return mp3_files\n"
   ]
  },
  {
   "cell_type": "code",
   "execution_count": 3,
   "id": "4c52d631-4a39-41d8-81b0-e1cd282b3dd8",
   "metadata": {},
   "outputs": [
    {
     "name": "stdout",
     "output_type": "stream",
     "text": [
      "48\n"
     ]
    },
    {
     "data": {
      "text/plain": [
       "['/Volumes/T7 Shield/friends/stimuli/s1/friends_s01e01a.mp3',\n",
       " '/Volumes/T7 Shield/friends/stimuli/s1/friends_s01e01b.mp3',\n",
       " '/Volumes/T7 Shield/friends/stimuli/s1/friends_s01e02a.mp3']"
      ]
     },
     "execution_count": 3,
     "metadata": {},
     "output_type": "execute_result"
    }
   ],
   "source": [
    "folder_to_search = \"/Volumes/T7 Shield/friends/stimuli/s1\" #replace with your folder path.\n",
    "mp3_file_paths = find_mp3_files(folder_to_search)\n",
    "mp3_file_paths.sort()\n",
    "print(len(mp3_file_paths))\n",
    "mp3_file_paths[:3]"
   ]
  },
  {
   "cell_type": "code",
   "execution_count": 5,
   "id": "52ac2807-a3e4-4c34-bc4c-9b6e915f9128",
   "metadata": {},
   "outputs": [
    {
     "name": "stderr",
     "output_type": "stream",
     "text": [
      "  0%|                                                                                                                                       | 0/1 [00:00<?, ?it/s]"
     ]
    },
    {
     "name": "stdout",
     "output_type": "stream",
     "text": [
      "The file '/Volumes/T7 Shield/friends/stimuli/s1/friends_s01e01b_laughter_1.49sec_gemini-2.5-pro-preview-03-25.csv' does not exist.\n"
     ]
    },
    {
     "name": "stderr",
     "output_type": "stream",
     "text": [
      "\n",
      "  0%|                                                                                                                                     | 0/591 [00:00<?, ?it/s]\u001b[A\n",
      "  0%|▏                                                                                                                            | 1/591 [00:00<07:27,  1.32it/s]\u001b[A"
     ]
    },
    {
     "name": "stdout",
     "output_type": "stream",
     "text": [
      "Error analyzing audio with Gemini: 429 Too Many Requests. {'message': 'Response not read', 'status': 'Too Many Requests'}\n"
     ]
    },
    {
     "name": "stderr",
     "output_type": "stream",
     "text": [
      "\n",
      "  0%|▍                                                                                                                            | 2/591 [00:01<07:54,  1.24it/s]\u001b[A"
     ]
    },
    {
     "name": "stdout",
     "output_type": "stream",
     "text": [
      "Error analyzing audio with Gemini: 429 Too Many Requests. {'message': 'Response not read', 'status': 'Too Many Requests'}\n"
     ]
    },
    {
     "name": "stderr",
     "output_type": "stream",
     "text": [
      "\n",
      "  1%|▋                                                                                                                            | 3/591 [00:02<08:19,  1.18it/s]\u001b[A"
     ]
    },
    {
     "name": "stdout",
     "output_type": "stream",
     "text": [
      "Error analyzing audio with Gemini: 429 Too Many Requests. {'message': 'Response not read', 'status': 'Too Many Requests'}\n"
     ]
    },
    {
     "name": "stderr",
     "output_type": "stream",
     "text": [
      "\n",
      "  1%|▊                                                                                                                            | 4/591 [00:03<08:28,  1.15it/s]\u001b[A"
     ]
    },
    {
     "name": "stdout",
     "output_type": "stream",
     "text": [
      "Error analyzing audio with Gemini: 429 Too Many Requests. {'message': 'Response not read', 'status': 'Too Many Requests'}\n"
     ]
    },
    {
     "name": "stderr",
     "output_type": "stream",
     "text": [
      "\n",
      "  1%|█                                                                                                                            | 5/591 [00:04<09:30,  1.03it/s]\u001b[A"
     ]
    },
    {
     "name": "stdout",
     "output_type": "stream",
     "text": [
      "Error analyzing audio with Gemini: 429 Too Many Requests. {'message': 'Response not read', 'status': 'Too Many Requests'}\n"
     ]
    },
    {
     "name": "stderr",
     "output_type": "stream",
     "text": [
      "\n",
      "  1%|█▎                                                                                                                           | 6/591 [00:05<09:24,  1.04it/s]\u001b[A"
     ]
    },
    {
     "name": "stdout",
     "output_type": "stream",
     "text": [
      "Error analyzing audio with Gemini: 429 Too Many Requests. {'message': 'Response not read', 'status': 'Too Many Requests'}\n"
     ]
    },
    {
     "name": "stderr",
     "output_type": "stream",
     "text": [
      "\n",
      "  1%|█▍                                                                                                                           | 7/591 [00:06<09:09,  1.06it/s]\u001b[A"
     ]
    },
    {
     "name": "stdout",
     "output_type": "stream",
     "text": [
      "Error analyzing audio with Gemini: 429 Too Many Requests. {'message': 'Response not read', 'status': 'Too Many Requests'}\n"
     ]
    },
    {
     "name": "stderr",
     "output_type": "stream",
     "text": [
      "\n",
      "  1%|█▋                                                                                                                           | 8/591 [00:07<08:40,  1.12it/s]\u001b[A"
     ]
    },
    {
     "name": "stdout",
     "output_type": "stream",
     "text": [
      "Error analyzing audio with Gemini: 429 Too Many Requests. {'message': 'Response not read', 'status': 'Too Many Requests'}\n"
     ]
    },
    {
     "name": "stderr",
     "output_type": "stream",
     "text": [
      "\n",
      "  2%|█▉                                                                                                                           | 9/591 [00:08<08:27,  1.15it/s]\u001b[A"
     ]
    },
    {
     "name": "stdout",
     "output_type": "stream",
     "text": [
      "Error analyzing audio with Gemini: 429 Too Many Requests. {'message': 'Response not read', 'status': 'Too Many Requests'}\n"
     ]
    },
    {
     "name": "stderr",
     "output_type": "stream",
     "text": [
      "\n",
      "  2%|██                                                                                                                          | 10/591 [00:08<08:19,  1.16it/s]\u001b[A"
     ]
    },
    {
     "name": "stdout",
     "output_type": "stream",
     "text": [
      "Error analyzing audio with Gemini: 429 Too Many Requests. {'message': 'Response not read', 'status': 'Too Many Requests'}\n"
     ]
    },
    {
     "name": "stderr",
     "output_type": "stream",
     "text": [
      "\n",
      "  2%|██▎                                                                                                                         | 11/591 [00:09<08:19,  1.16it/s]\u001b[A"
     ]
    },
    {
     "name": "stdout",
     "output_type": "stream",
     "text": [
      "Error analyzing audio with Gemini: 429 Too Many Requests. {'message': 'Response not read', 'status': 'Too Many Requests'}\n"
     ]
    },
    {
     "name": "stderr",
     "output_type": "stream",
     "text": [
      "\n",
      "  2%|██▌                                                                                                                         | 12/591 [00:10<08:11,  1.18it/s]\u001b[A"
     ]
    },
    {
     "name": "stdout",
     "output_type": "stream",
     "text": [
      "Error analyzing audio with Gemini: 429 Too Many Requests. {'message': 'Response not read', 'status': 'Too Many Requests'}\n"
     ]
    },
    {
     "name": "stderr",
     "output_type": "stream",
     "text": [
      "\n",
      "  2%|██▋                                                                                                                         | 13/591 [00:11<08:09,  1.18it/s]\u001b[A"
     ]
    },
    {
     "name": "stdout",
     "output_type": "stream",
     "text": [
      "Error analyzing audio with Gemini: 429 Too Many Requests. {'message': 'Response not read', 'status': 'Too Many Requests'}\n"
     ]
    },
    {
     "name": "stderr",
     "output_type": "stream",
     "text": [
      "\n",
      "  2%|██▉                                                                                                                         | 14/591 [00:12<07:54,  1.22it/s]\u001b[A"
     ]
    },
    {
     "name": "stdout",
     "output_type": "stream",
     "text": [
      "Error analyzing audio with Gemini: 429 Too Many Requests. {'message': 'Response not read', 'status': 'Too Many Requests'}\n"
     ]
    },
    {
     "name": "stderr",
     "output_type": "stream",
     "text": [
      "\n",
      "  3%|███▏                                                                                                                        | 15/591 [00:13<08:22,  1.15it/s]\u001b[A"
     ]
    },
    {
     "name": "stdout",
     "output_type": "stream",
     "text": [
      "Error analyzing audio with Gemini: 429 Too Many Requests. {'message': 'Response not read', 'status': 'Too Many Requests'}\n"
     ]
    },
    {
     "name": "stderr",
     "output_type": "stream",
     "text": [
      "\n",
      "  3%|███▎                                                                                                                        | 16/591 [00:14<08:34,  1.12it/s]\u001b[A"
     ]
    },
    {
     "name": "stdout",
     "output_type": "stream",
     "text": [
      "Error analyzing audio with Gemini: 429 Too Many Requests. {'message': 'Response not read', 'status': 'Too Many Requests'}\n"
     ]
    },
    {
     "name": "stderr",
     "output_type": "stream",
     "text": [
      "\n",
      "  3%|███▌                                                                                                                        | 17/591 [00:14<08:37,  1.11it/s]\u001b[A"
     ]
    },
    {
     "name": "stdout",
     "output_type": "stream",
     "text": [
      "Error analyzing audio with Gemini: 429 Too Many Requests. {'message': 'Response not read', 'status': 'Too Many Requests'}\n"
     ]
    },
    {
     "name": "stderr",
     "output_type": "stream",
     "text": [
      "\n",
      "  3%|███▊                                                                                                                        | 18/591 [00:15<08:14,  1.16it/s]\u001b[A"
     ]
    },
    {
     "name": "stdout",
     "output_type": "stream",
     "text": [
      "Error analyzing audio with Gemini: 429 Too Many Requests. {'message': 'Response not read', 'status': 'Too Many Requests'}\n"
     ]
    },
    {
     "name": "stderr",
     "output_type": "stream",
     "text": [
      "\n",
      "  3%|███▉                                                                                                                        | 19/591 [00:16<07:48,  1.22it/s]\u001b[A"
     ]
    },
    {
     "name": "stdout",
     "output_type": "stream",
     "text": [
      "Error analyzing audio with Gemini: 429 Too Many Requests. {'message': 'Response not read', 'status': 'Too Many Requests'}\n"
     ]
    },
    {
     "name": "stderr",
     "output_type": "stream",
     "text": [
      "\n",
      "  3%|████▏                                                                                                                       | 20/591 [00:17<07:57,  1.19it/s]\u001b[A"
     ]
    },
    {
     "name": "stdout",
     "output_type": "stream",
     "text": [
      "Error analyzing audio with Gemini: 429 Too Many Requests. {'message': 'Response not read', 'status': 'Too Many Requests'}\n"
     ]
    },
    {
     "name": "stderr",
     "output_type": "stream",
     "text": [
      "\n",
      "  4%|████▍                                                                                                                       | 21/591 [00:18<08:31,  1.11it/s]\u001b[A"
     ]
    },
    {
     "name": "stdout",
     "output_type": "stream",
     "text": [
      "Error analyzing audio with Gemini: 429 Too Many Requests. {'message': 'Response not read', 'status': 'Too Many Requests'}\n"
     ]
    },
    {
     "name": "stderr",
     "output_type": "stream",
     "text": [
      "\n",
      "  4%|████▌                                                                                                                       | 22/591 [00:19<08:48,  1.08it/s]\u001b[A"
     ]
    },
    {
     "name": "stdout",
     "output_type": "stream",
     "text": [
      "Error analyzing audio with Gemini: 429 Too Many Requests. {'message': 'Response not read', 'status': 'Too Many Requests'}\n"
     ]
    },
    {
     "name": "stderr",
     "output_type": "stream",
     "text": [
      "\n",
      "  4%|████▊                                                                                                                       | 23/591 [00:20<09:06,  1.04it/s]\u001b[A"
     ]
    },
    {
     "name": "stdout",
     "output_type": "stream",
     "text": [
      "Error analyzing audio with Gemini: 429 Too Many Requests. {'message': 'Response not read', 'status': 'Too Many Requests'}\n"
     ]
    },
    {
     "name": "stderr",
     "output_type": "stream",
     "text": [
      "\n",
      "  4%|█████                                                                                                                       | 24/591 [00:21<09:33,  1.01s/it]\u001b[A"
     ]
    },
    {
     "name": "stdout",
     "output_type": "stream",
     "text": [
      "Error analyzing audio with Gemini: 429 Too Many Requests. {'message': 'Response not read', 'status': 'Too Many Requests'}\n"
     ]
    },
    {
     "name": "stderr",
     "output_type": "stream",
     "text": [
      "\n",
      "  4%|█████▏                                                                                                                      | 25/591 [00:22<09:34,  1.01s/it]\u001b[A"
     ]
    },
    {
     "name": "stdout",
     "output_type": "stream",
     "text": [
      "Error analyzing audio with Gemini: 429 Too Many Requests. {'message': 'Response not read', 'status': 'Too Many Requests'}\n"
     ]
    },
    {
     "name": "stderr",
     "output_type": "stream",
     "text": [
      "\n",
      "  4%|█████▍                                                                                                                      | 26/591 [00:23<08:49,  1.07it/s]\u001b[A"
     ]
    },
    {
     "name": "stdout",
     "output_type": "stream",
     "text": [
      "Error analyzing audio with Gemini: 429 Too Many Requests. {'message': 'Response not read', 'status': 'Too Many Requests'}\n"
     ]
    },
    {
     "name": "stderr",
     "output_type": "stream",
     "text": [
      "\n",
      "  5%|█████▋                                                                                                                      | 27/591 [00:24<08:40,  1.08it/s]\u001b[A"
     ]
    },
    {
     "name": "stdout",
     "output_type": "stream",
     "text": [
      "Error analyzing audio with Gemini: 429 Too Many Requests. {'message': 'Response not read', 'status': 'Too Many Requests'}\n"
     ]
    },
    {
     "name": "stderr",
     "output_type": "stream",
     "text": [
      "\n",
      "  5%|█████▊                                                                                                                      | 28/591 [00:25<09:28,  1.01s/it]\u001b[A"
     ]
    },
    {
     "name": "stdout",
     "output_type": "stream",
     "text": [
      "Error analyzing audio with Gemini: 429 Too Many Requests. {'message': 'Response not read', 'status': 'Too Many Requests'}\n"
     ]
    },
    {
     "name": "stderr",
     "output_type": "stream",
     "text": [
      "\n",
      "  5%|██████                                                                                                                      | 29/591 [00:26<09:14,  1.01it/s]\u001b[A"
     ]
    },
    {
     "name": "stdout",
     "output_type": "stream",
     "text": [
      "Error analyzing audio with Gemini: 429 Too Many Requests. {'message': 'Response not read', 'status': 'Too Many Requests'}\n"
     ]
    },
    {
     "name": "stderr",
     "output_type": "stream",
     "text": [
      "\n",
      "  5%|██████▎                                                                                                                     | 30/591 [00:27<09:18,  1.00it/s]\u001b[A"
     ]
    },
    {
     "name": "stdout",
     "output_type": "stream",
     "text": [
      "Error analyzing audio with Gemini: 429 Too Many Requests. {'message': 'Response not read', 'status': 'Too Many Requests'}\n"
     ]
    },
    {
     "name": "stderr",
     "output_type": "stream",
     "text": [
      "\n",
      "  5%|██████▌                                                                                                                     | 31/591 [00:28<09:01,  1.03it/s]\u001b[A"
     ]
    },
    {
     "name": "stdout",
     "output_type": "stream",
     "text": [
      "Error analyzing audio with Gemini: 429 Too Many Requests. {'message': 'Response not read', 'status': 'Too Many Requests'}\n"
     ]
    },
    {
     "name": "stderr",
     "output_type": "stream",
     "text": [
      "\n",
      "  5%|██████▋                                                                                                                     | 32/591 [00:29<08:57,  1.04it/s]\u001b[A"
     ]
    },
    {
     "name": "stdout",
     "output_type": "stream",
     "text": [
      "Error analyzing audio with Gemini: 429 Too Many Requests. {'message': 'Response not read', 'status': 'Too Many Requests'}\n"
     ]
    },
    {
     "name": "stderr",
     "output_type": "stream",
     "text": [
      "\n",
      "  6%|██████▉                                                                                                                     | 33/591 [00:30<08:31,  1.09it/s]\u001b[A"
     ]
    },
    {
     "name": "stdout",
     "output_type": "stream",
     "text": [
      "Error analyzing audio with Gemini: 429 Too Many Requests. {'message': 'Response not read', 'status': 'Too Many Requests'}\n"
     ]
    },
    {
     "name": "stderr",
     "output_type": "stream",
     "text": [
      "\n",
      "  6%|███████▏                                                                                                                    | 34/591 [00:30<08:11,  1.13it/s]\u001b[A"
     ]
    },
    {
     "name": "stdout",
     "output_type": "stream",
     "text": [
      "Error analyzing audio with Gemini: 429 Too Many Requests. {'message': 'Response not read', 'status': 'Too Many Requests'}\n"
     ]
    },
    {
     "name": "stderr",
     "output_type": "stream",
     "text": [
      "\n",
      "  6%|███████▎                                                                                                                    | 35/591 [00:31<08:53,  1.04it/s]\u001b[A"
     ]
    },
    {
     "name": "stdout",
     "output_type": "stream",
     "text": [
      "Error analyzing audio with Gemini: 429 Too Many Requests. {'message': 'Response not read', 'status': 'Too Many Requests'}\n"
     ]
    },
    {
     "name": "stderr",
     "output_type": "stream",
     "text": [
      "\n",
      "  6%|███████▌                                                                                                                    | 36/591 [00:32<08:43,  1.06it/s]\u001b[A"
     ]
    },
    {
     "name": "stdout",
     "output_type": "stream",
     "text": [
      "Error analyzing audio with Gemini: 429 Too Many Requests. {'message': 'Response not read', 'status': 'Too Many Requests'}\n"
     ]
    },
    {
     "name": "stderr",
     "output_type": "stream",
     "text": [
      "\n",
      "  6%|███████▊                                                                                                                    | 37/591 [00:33<08:17,  1.11it/s]\u001b[A"
     ]
    },
    {
     "name": "stdout",
     "output_type": "stream",
     "text": [
      "Error analyzing audio with Gemini: 429 Too Many Requests. {'message': 'Response not read', 'status': 'Too Many Requests'}\n"
     ]
    },
    {
     "name": "stderr",
     "output_type": "stream",
     "text": [
      "\n",
      "  6%|███████▉                                                                                                                    | 38/591 [00:34<08:25,  1.09it/s]\u001b[A"
     ]
    },
    {
     "name": "stdout",
     "output_type": "stream",
     "text": [
      "Error analyzing audio with Gemini: 429 Too Many Requests. {'message': 'Response not read', 'status': 'Too Many Requests'}\n"
     ]
    },
    {
     "name": "stderr",
     "output_type": "stream",
     "text": [
      "\n",
      "  7%|████████▏                                                                                                                   | 39/591 [00:35<08:28,  1.09it/s]\u001b[A"
     ]
    },
    {
     "name": "stdout",
     "output_type": "stream",
     "text": [
      "Error analyzing audio with Gemini: 429 Too Many Requests. {'message': 'Response not read', 'status': 'Too Many Requests'}\n"
     ]
    },
    {
     "name": "stderr",
     "output_type": "stream",
     "text": [
      "\n",
      "  7%|████████▍                                                                                                                   | 40/591 [00:36<08:44,  1.05it/s]\u001b[A"
     ]
    },
    {
     "name": "stdout",
     "output_type": "stream",
     "text": [
      "Error analyzing audio with Gemini: 429 Too Many Requests. {'message': 'Response not read', 'status': 'Too Many Requests'}\n"
     ]
    },
    {
     "name": "stderr",
     "output_type": "stream",
     "text": [
      "\n",
      "  7%|████████▌                                                                                                                   | 41/591 [00:37<08:23,  1.09it/s]\u001b[A"
     ]
    },
    {
     "name": "stdout",
     "output_type": "stream",
     "text": [
      "Error analyzing audio with Gemini: 429 Too Many Requests. {'message': 'Response not read', 'status': 'Too Many Requests'}\n"
     ]
    },
    {
     "name": "stderr",
     "output_type": "stream",
     "text": [
      "\n",
      "  7%|████████▊                                                                                                                   | 42/591 [00:38<08:15,  1.11it/s]\u001b[A"
     ]
    },
    {
     "name": "stdout",
     "output_type": "stream",
     "text": [
      "Error analyzing audio with Gemini: 429 Too Many Requests. {'message': 'Response not read', 'status': 'Too Many Requests'}\n"
     ]
    },
    {
     "name": "stderr",
     "output_type": "stream",
     "text": [
      "\n",
      "  7%|█████████                                                                                                                   | 43/591 [00:39<07:58,  1.14it/s]\u001b[A"
     ]
    },
    {
     "name": "stdout",
     "output_type": "stream",
     "text": [
      "Error analyzing audio with Gemini: 429 Too Many Requests. {'message': 'Response not read', 'status': 'Too Many Requests'}\n"
     ]
    },
    {
     "name": "stderr",
     "output_type": "stream",
     "text": [
      "\n",
      "  7%|█████████▏                                                                                                                  | 44/591 [00:39<07:46,  1.17it/s]\u001b[A"
     ]
    },
    {
     "name": "stdout",
     "output_type": "stream",
     "text": [
      "Error analyzing audio with Gemini: 429 Too Many Requests. {'message': 'Response not read', 'status': 'Too Many Requests'}\n"
     ]
    },
    {
     "name": "stderr",
     "output_type": "stream",
     "text": [
      "\n",
      "  8%|█████████▍                                                                                                                  | 45/591 [00:40<07:59,  1.14it/s]\u001b[A"
     ]
    },
    {
     "name": "stdout",
     "output_type": "stream",
     "text": [
      "Error analyzing audio with Gemini: 429 Too Many Requests. {'message': 'Response not read', 'status': 'Too Many Requests'}\n"
     ]
    },
    {
     "name": "stderr",
     "output_type": "stream",
     "text": [
      "\n",
      "  8%|█████████▋                                                                                                                  | 46/591 [00:41<07:56,  1.14it/s]\u001b[A"
     ]
    },
    {
     "name": "stdout",
     "output_type": "stream",
     "text": [
      "Error analyzing audio with Gemini: 429 Too Many Requests. {'message': 'Response not read', 'status': 'Too Many Requests'}\n"
     ]
    },
    {
     "name": "stderr",
     "output_type": "stream",
     "text": [
      "\n",
      "  8%|█████████▊                                                                                                                  | 47/591 [00:42<08:24,  1.08it/s]\u001b[A"
     ]
    },
    {
     "name": "stdout",
     "output_type": "stream",
     "text": [
      "Error analyzing audio with Gemini: 429 Too Many Requests. {'message': 'Response not read', 'status': 'Too Many Requests'}\n"
     ]
    },
    {
     "name": "stderr",
     "output_type": "stream",
     "text": [
      "\n",
      "  8%|██████████                                                                                                                  | 48/591 [00:43<08:25,  1.07it/s]\u001b[A"
     ]
    },
    {
     "name": "stdout",
     "output_type": "stream",
     "text": [
      "Error analyzing audio with Gemini: 429 Too Many Requests. {'message': 'Response not read', 'status': 'Too Many Requests'}\n"
     ]
    },
    {
     "name": "stderr",
     "output_type": "stream",
     "text": [
      "\n",
      "  8%|██████████▎                                                                                                                 | 49/591 [00:44<08:15,  1.09it/s]\u001b[A"
     ]
    },
    {
     "name": "stdout",
     "output_type": "stream",
     "text": [
      "Error analyzing audio with Gemini: 429 Too Many Requests. {'message': 'Response not read', 'status': 'Too Many Requests'}\n"
     ]
    },
    {
     "name": "stderr",
     "output_type": "stream",
     "text": [
      "\n",
      "  8%|██████████▍                                                                                                                 | 50/591 [00:45<07:55,  1.14it/s]\u001b[A"
     ]
    },
    {
     "name": "stdout",
     "output_type": "stream",
     "text": [
      "Error analyzing audio with Gemini: 429 Too Many Requests. {'message': 'Response not read', 'status': 'Too Many Requests'}\n"
     ]
    },
    {
     "name": "stderr",
     "output_type": "stream",
     "text": [
      "\n",
      "  9%|██████████▋                                                                                                                 | 51/591 [00:46<08:06,  1.11it/s]\u001b[A"
     ]
    },
    {
     "name": "stdout",
     "output_type": "stream",
     "text": [
      "Error analyzing audio with Gemini: 429 Too Many Requests. {'message': 'Response not read', 'status': 'Too Many Requests'}\n"
     ]
    },
    {
     "name": "stderr",
     "output_type": "stream",
     "text": [
      "\n",
      "  9%|██████████▉                                                                                                                 | 52/591 [00:47<07:52,  1.14it/s]\u001b[A"
     ]
    },
    {
     "name": "stdout",
     "output_type": "stream",
     "text": [
      "Error analyzing audio with Gemini: 429 Too Many Requests. {'message': 'Response not read', 'status': 'Too Many Requests'}\n"
     ]
    },
    {
     "name": "stderr",
     "output_type": "stream",
     "text": [
      "\n",
      "  9%|███████████                                                                                                                 | 53/591 [00:47<07:37,  1.18it/s]\u001b[A"
     ]
    },
    {
     "name": "stdout",
     "output_type": "stream",
     "text": [
      "Error analyzing audio with Gemini: 429 Too Many Requests. {'message': 'Response not read', 'status': 'Too Many Requests'}\n"
     ]
    },
    {
     "name": "stderr",
     "output_type": "stream",
     "text": [
      "\n",
      "  9%|███████████▎                                                                                                                | 54/591 [00:49<08:30,  1.05it/s]\u001b[A"
     ]
    },
    {
     "name": "stdout",
     "output_type": "stream",
     "text": [
      "Error analyzing audio with Gemini: 429 Too Many Requests. {'message': 'Response not read', 'status': 'Too Many Requests'}\n"
     ]
    },
    {
     "name": "stderr",
     "output_type": "stream",
     "text": [
      "\n",
      "  9%|███████████▌                                                                                                                | 55/591 [00:50<08:19,  1.07it/s]\u001b[A"
     ]
    },
    {
     "name": "stdout",
     "output_type": "stream",
     "text": [
      "Error analyzing audio with Gemini: 429 Too Many Requests. {'message': 'Response not read', 'status': 'Too Many Requests'}\n"
     ]
    },
    {
     "name": "stderr",
     "output_type": "stream",
     "text": [
      "\n",
      "  9%|███████████▋                                                                                                                | 56/591 [00:50<07:58,  1.12it/s]\u001b[A"
     ]
    },
    {
     "name": "stdout",
     "output_type": "stream",
     "text": [
      "Error analyzing audio with Gemini: 429 Too Many Requests. {'message': 'Response not read', 'status': 'Too Many Requests'}\n"
     ]
    },
    {
     "name": "stderr",
     "output_type": "stream",
     "text": [
      "\n",
      " 10%|███████████▉                                                                                                                | 57/591 [00:51<08:21,  1.07it/s]\u001b[A"
     ]
    },
    {
     "name": "stdout",
     "output_type": "stream",
     "text": [
      "Error analyzing audio with Gemini: 429 Too Many Requests. {'message': 'Response not read', 'status': 'Too Many Requests'}\n"
     ]
    },
    {
     "name": "stderr",
     "output_type": "stream",
     "text": [
      "\n",
      " 10%|████████████▏                                                                                                               | 58/591 [00:52<08:18,  1.07it/s]\u001b[A"
     ]
    },
    {
     "name": "stdout",
     "output_type": "stream",
     "text": [
      "Error analyzing audio with Gemini: 429 Too Many Requests. {'message': 'Response not read', 'status': 'Too Many Requests'}\n"
     ]
    },
    {
     "name": "stderr",
     "output_type": "stream",
     "text": [
      "\n",
      " 10%|████████████▍                                                                                                               | 59/591 [00:53<08:04,  1.10it/s]\u001b[A"
     ]
    },
    {
     "name": "stdout",
     "output_type": "stream",
     "text": [
      "Error analyzing audio with Gemini: 429 Too Many Requests. {'message': 'Response not read', 'status': 'Too Many Requests'}\n"
     ]
    },
    {
     "name": "stderr",
     "output_type": "stream",
     "text": [
      "\n",
      " 10%|████████████▌                                                                                                               | 60/591 [00:54<07:54,  1.12it/s]\u001b[A"
     ]
    },
    {
     "name": "stdout",
     "output_type": "stream",
     "text": [
      "Error analyzing audio with Gemini: 429 Too Many Requests. {'message': 'Response not read', 'status': 'Too Many Requests'}\n"
     ]
    },
    {
     "name": "stderr",
     "output_type": "stream",
     "text": [
      "\n",
      " 10%|████████████▊                                                                                                               | 61/591 [00:55<08:18,  1.06it/s]\u001b[A"
     ]
    },
    {
     "name": "stdout",
     "output_type": "stream",
     "text": [
      "Error analyzing audio with Gemini: 429 Too Many Requests. {'message': 'Response not read', 'status': 'Too Many Requests'}\n"
     ]
    },
    {
     "name": "stderr",
     "output_type": "stream",
     "text": [
      "\n",
      " 10%|█████████████                                                                                                               | 62/591 [00:56<07:54,  1.12it/s]\u001b[A"
     ]
    },
    {
     "name": "stdout",
     "output_type": "stream",
     "text": [
      "Error analyzing audio with Gemini: 429 Too Many Requests. {'message': 'Response not read', 'status': 'Too Many Requests'}\n"
     ]
    },
    {
     "name": "stderr",
     "output_type": "stream",
     "text": [
      "\n",
      " 11%|█████████████▏                                                                                                              | 63/591 [00:57<07:33,  1.17it/s]\u001b[A"
     ]
    },
    {
     "name": "stdout",
     "output_type": "stream",
     "text": [
      "Error analyzing audio with Gemini: 429 Too Many Requests. {'message': 'Response not read', 'status': 'Too Many Requests'}\n"
     ]
    },
    {
     "name": "stderr",
     "output_type": "stream",
     "text": [
      "\n",
      " 11%|█████████████▍                                                                                                              | 64/591 [00:58<07:39,  1.15it/s]\u001b[A"
     ]
    },
    {
     "name": "stdout",
     "output_type": "stream",
     "text": [
      "Error analyzing audio with Gemini: 429 Too Many Requests. {'message': 'Response not read', 'status': 'Too Many Requests'}\n"
     ]
    },
    {
     "name": "stderr",
     "output_type": "stream",
     "text": [
      "\n",
      " 11%|█████████████▋                                                                                                              | 65/591 [00:59<08:00,  1.10it/s]\u001b[A"
     ]
    },
    {
     "name": "stdout",
     "output_type": "stream",
     "text": [
      "Error analyzing audio with Gemini: 429 Too Many Requests. {'message': 'Response not read', 'status': 'Too Many Requests'}\n"
     ]
    },
    {
     "name": "stderr",
     "output_type": "stream",
     "text": [
      "\n",
      " 11%|█████████████▊                                                                                                              | 66/591 [01:00<08:19,  1.05it/s]\u001b[A"
     ]
    },
    {
     "name": "stdout",
     "output_type": "stream",
     "text": [
      "Error analyzing audio with Gemini: 429 Too Many Requests. {'message': 'Response not read', 'status': 'Too Many Requests'}\n"
     ]
    },
    {
     "name": "stderr",
     "output_type": "stream",
     "text": [
      "\n",
      " 11%|██████████████                                                                                                              | 67/591 [01:00<07:47,  1.12it/s]\u001b[A"
     ]
    },
    {
     "name": "stdout",
     "output_type": "stream",
     "text": [
      "Error analyzing audio with Gemini: 429 Too Many Requests. {'message': 'Response not read', 'status': 'Too Many Requests'}\n"
     ]
    },
    {
     "name": "stderr",
     "output_type": "stream",
     "text": [
      "\n",
      " 12%|██████████████▎                                                                                                             | 68/591 [01:01<07:58,  1.09it/s]\u001b[A"
     ]
    },
    {
     "name": "stdout",
     "output_type": "stream",
     "text": [
      "Error analyzing audio with Gemini: 429 Too Many Requests. {'message': 'Response not read', 'status': 'Too Many Requests'}\n"
     ]
    },
    {
     "name": "stderr",
     "output_type": "stream",
     "text": [
      "\n",
      " 12%|██████████████▍                                                                                                             | 69/591 [01:02<07:58,  1.09it/s]\u001b[A"
     ]
    },
    {
     "name": "stdout",
     "output_type": "stream",
     "text": [
      "Error analyzing audio with Gemini: 429 Too Many Requests. {'message': 'Response not read', 'status': 'Too Many Requests'}\n"
     ]
    },
    {
     "name": "stderr",
     "output_type": "stream",
     "text": [
      "\n",
      " 12%|██████████████▋                                                                                                             | 70/591 [01:03<07:59,  1.09it/s]\u001b[A"
     ]
    },
    {
     "name": "stdout",
     "output_type": "stream",
     "text": [
      "Error analyzing audio with Gemini: 429 Too Many Requests. {'message': 'Response not read', 'status': 'Too Many Requests'}\n"
     ]
    },
    {
     "name": "stderr",
     "output_type": "stream",
     "text": [
      "\n",
      " 12%|██████████████▉                                                                                                             | 71/591 [01:04<07:58,  1.09it/s]\u001b[A"
     ]
    },
    {
     "name": "stdout",
     "output_type": "stream",
     "text": [
      "Error analyzing audio with Gemini: 429 Too Many Requests. {'message': 'Response not read', 'status': 'Too Many Requests'}\n"
     ]
    },
    {
     "name": "stderr",
     "output_type": "stream",
     "text": [
      "\n",
      " 12%|███████████████                                                                                                             | 72/591 [01:05<08:29,  1.02it/s]\u001b[A"
     ]
    },
    {
     "name": "stdout",
     "output_type": "stream",
     "text": [
      "Error analyzing audio with Gemini: 429 Too Many Requests. {'message': 'Response not read', 'status': 'Too Many Requests'}\n"
     ]
    },
    {
     "name": "stderr",
     "output_type": "stream",
     "text": [
      "\n",
      " 12%|███████████████▎                                                                                                            | 73/591 [01:06<09:09,  1.06s/it]\u001b[A"
     ]
    },
    {
     "name": "stdout",
     "output_type": "stream",
     "text": [
      "Error analyzing audio with Gemini: 429 Too Many Requests. {'message': 'Response not read', 'status': 'Too Many Requests'}\n"
     ]
    },
    {
     "name": "stderr",
     "output_type": "stream",
     "text": [
      "\n",
      " 13%|███████████████▌                                                                                                            | 74/591 [01:07<08:19,  1.04it/s]\u001b[A"
     ]
    },
    {
     "name": "stdout",
     "output_type": "stream",
     "text": [
      "Error analyzing audio with Gemini: 429 Too Many Requests. {'message': 'Response not read', 'status': 'Too Many Requests'}\n"
     ]
    },
    {
     "name": "stderr",
     "output_type": "stream",
     "text": [
      "\n",
      " 13%|███████████████▋                                                                                                            | 75/591 [01:08<08:10,  1.05it/s]\u001b[A"
     ]
    },
    {
     "name": "stdout",
     "output_type": "stream",
     "text": [
      "Error analyzing audio with Gemini: 429 Too Many Requests. {'message': 'Response not read', 'status': 'Too Many Requests'}\n"
     ]
    },
    {
     "name": "stderr",
     "output_type": "stream",
     "text": [
      "\n",
      " 13%|███████████████▉                                                                                                            | 76/591 [01:09<08:02,  1.07it/s]\u001b[A"
     ]
    },
    {
     "name": "stdout",
     "output_type": "stream",
     "text": [
      "Error analyzing audio with Gemini: 429 Too Many Requests. {'message': 'Response not read', 'status': 'Too Many Requests'}\n"
     ]
    },
    {
     "name": "stderr",
     "output_type": "stream",
     "text": [
      "\n",
      " 13%|████████████████▏                                                                                                           | 77/591 [01:10<07:29,  1.14it/s]\u001b[A"
     ]
    },
    {
     "name": "stdout",
     "output_type": "stream",
     "text": [
      "Error analyzing audio with Gemini: 429 Too Many Requests. {'message': 'Response not read', 'status': 'Too Many Requests'}\n"
     ]
    },
    {
     "name": "stderr",
     "output_type": "stream",
     "text": [
      "\n",
      " 13%|████████████████▎                                                                                                           | 78/591 [01:11<07:47,  1.10it/s]\u001b[A"
     ]
    },
    {
     "name": "stdout",
     "output_type": "stream",
     "text": [
      "Error analyzing audio with Gemini: 429 Too Many Requests. {'message': 'Response not read', 'status': 'Too Many Requests'}\n"
     ]
    },
    {
     "name": "stderr",
     "output_type": "stream",
     "text": [
      "\n",
      " 13%|████████████████▌                                                                                                           | 79/591 [01:11<07:17,  1.17it/s]\u001b[A"
     ]
    },
    {
     "name": "stdout",
     "output_type": "stream",
     "text": [
      "Error analyzing audio with Gemini: 429 Too Many Requests. {'message': 'Response not read', 'status': 'Too Many Requests'}\n"
     ]
    },
    {
     "name": "stderr",
     "output_type": "stream",
     "text": [
      "\n",
      " 14%|████████████████▊                                                                                                           | 80/591 [01:12<07:10,  1.19it/s]\u001b[A"
     ]
    },
    {
     "name": "stdout",
     "output_type": "stream",
     "text": [
      "Error analyzing audio with Gemini: 429 Too Many Requests. {'message': 'Response not read', 'status': 'Too Many Requests'}\n"
     ]
    },
    {
     "name": "stderr",
     "output_type": "stream",
     "text": [
      "\n",
      " 14%|████████████████▉                                                                                                           | 81/591 [01:13<07:37,  1.12it/s]\u001b[A"
     ]
    },
    {
     "name": "stdout",
     "output_type": "stream",
     "text": [
      "Error analyzing audio with Gemini: 429 Too Many Requests. {'message': 'Response not read', 'status': 'Too Many Requests'}\n"
     ]
    },
    {
     "name": "stderr",
     "output_type": "stream",
     "text": [
      "\n",
      " 14%|█████████████████▏                                                                                                          | 82/591 [01:14<07:23,  1.15it/s]\u001b[A"
     ]
    },
    {
     "name": "stdout",
     "output_type": "stream",
     "text": [
      "Error analyzing audio with Gemini: 429 Too Many Requests. {'message': 'Response not read', 'status': 'Too Many Requests'}\n"
     ]
    },
    {
     "name": "stderr",
     "output_type": "stream",
     "text": [
      "\n",
      " 14%|█████████████████▍                                                                                                          | 83/591 [01:15<07:31,  1.12it/s]\u001b[A"
     ]
    },
    {
     "name": "stdout",
     "output_type": "stream",
     "text": [
      "Error analyzing audio with Gemini: 429 Too Many Requests. {'message': 'Response not read', 'status': 'Too Many Requests'}\n"
     ]
    },
    {
     "name": "stderr",
     "output_type": "stream",
     "text": [
      "\n",
      " 14%|█████████████████▌                                                                                                          | 84/591 [01:16<07:25,  1.14it/s]\u001b[A"
     ]
    },
    {
     "name": "stdout",
     "output_type": "stream",
     "text": [
      "Error analyzing audio with Gemini: 429 Too Many Requests. {'message': 'Response not read', 'status': 'Too Many Requests'}\n"
     ]
    },
    {
     "name": "stderr",
     "output_type": "stream",
     "text": [
      "\n",
      " 14%|█████████████████▊                                                                                                          | 85/591 [01:17<07:27,  1.13it/s]\u001b[A"
     ]
    },
    {
     "name": "stdout",
     "output_type": "stream",
     "text": [
      "Error analyzing audio with Gemini: 429 Too Many Requests. {'message': 'Response not read', 'status': 'Too Many Requests'}\n"
     ]
    },
    {
     "name": "stderr",
     "output_type": "stream",
     "text": [
      "\n",
      " 15%|██████████████████                                                                                                          | 86/591 [01:18<07:32,  1.12it/s]\u001b[A"
     ]
    },
    {
     "name": "stdout",
     "output_type": "stream",
     "text": [
      "Error analyzing audio with Gemini: 429 Too Many Requests. {'message': 'Response not read', 'status': 'Too Many Requests'}\n"
     ]
    },
    {
     "name": "stderr",
     "output_type": "stream",
     "text": [
      "\n",
      " 15%|██████████████████▎                                                                                                         | 87/591 [01:19<07:33,  1.11it/s]\u001b[A"
     ]
    },
    {
     "name": "stdout",
     "output_type": "stream",
     "text": [
      "Error analyzing audio with Gemini: 429 Too Many Requests. {'message': 'Response not read', 'status': 'Too Many Requests'}\n"
     ]
    },
    {
     "name": "stderr",
     "output_type": "stream",
     "text": [
      "\n",
      " 15%|██████████████████▍                                                                                                         | 88/591 [01:19<07:19,  1.14it/s]\u001b[A"
     ]
    },
    {
     "name": "stdout",
     "output_type": "stream",
     "text": [
      "Error analyzing audio with Gemini: 429 Too Many Requests. {'message': 'Response not read', 'status': 'Too Many Requests'}\n"
     ]
    },
    {
     "name": "stderr",
     "output_type": "stream",
     "text": [
      "\n",
      " 15%|██████████████████▋                                                                                                         | 89/591 [01:20<07:12,  1.16it/s]\u001b[A"
     ]
    },
    {
     "name": "stdout",
     "output_type": "stream",
     "text": [
      "Error analyzing audio with Gemini: 429 Too Many Requests. {'message': 'Response not read', 'status': 'Too Many Requests'}\n"
     ]
    },
    {
     "name": "stderr",
     "output_type": "stream",
     "text": [
      "\n",
      " 15%|██████████████████▉                                                                                                         | 90/591 [01:21<07:25,  1.13it/s]\u001b[A"
     ]
    },
    {
     "name": "stdout",
     "output_type": "stream",
     "text": [
      "Error analyzing audio with Gemini: 429 Too Many Requests. {'message': 'Response not read', 'status': 'Too Many Requests'}\n"
     ]
    },
    {
     "name": "stderr",
     "output_type": "stream",
     "text": [
      "\n",
      " 15%|███████████████████                                                                                                         | 91/591 [01:22<07:36,  1.10it/s]\u001b[A"
     ]
    },
    {
     "name": "stdout",
     "output_type": "stream",
     "text": [
      "Error analyzing audio with Gemini: 429 Too Many Requests. {'message': 'Response not read', 'status': 'Too Many Requests'}\n"
     ]
    },
    {
     "name": "stderr",
     "output_type": "stream",
     "text": [
      "\n",
      " 16%|███████████████████▎                                                                                                        | 92/591 [01:23<07:11,  1.16it/s]\u001b[A"
     ]
    },
    {
     "name": "stdout",
     "output_type": "stream",
     "text": [
      "Error analyzing audio with Gemini: 429 Too Many Requests. {'message': 'Response not read', 'status': 'Too Many Requests'}\n"
     ]
    },
    {
     "name": "stderr",
     "output_type": "stream",
     "text": [
      "\n",
      " 16%|███████████████████▌                                                                                                        | 93/591 [01:24<07:33,  1.10it/s]\u001b[A"
     ]
    },
    {
     "name": "stdout",
     "output_type": "stream",
     "text": [
      "Error analyzing audio with Gemini: 429 Too Many Requests. {'message': 'Response not read', 'status': 'Too Many Requests'}\n"
     ]
    },
    {
     "name": "stderr",
     "output_type": "stream",
     "text": [
      "\n",
      " 16%|███████████████████▋                                                                                                        | 94/591 [01:25<07:33,  1.10it/s]\u001b[A"
     ]
    },
    {
     "name": "stdout",
     "output_type": "stream",
     "text": [
      "Error analyzing audio with Gemini: 429 Too Many Requests. {'message': 'Response not read', 'status': 'Too Many Requests'}\n"
     ]
    },
    {
     "name": "stderr",
     "output_type": "stream",
     "text": [
      "\n",
      " 16%|███████████████████▉                                                                                                        | 95/591 [01:26<07:34,  1.09it/s]\u001b[A"
     ]
    },
    {
     "name": "stdout",
     "output_type": "stream",
     "text": [
      "Error analyzing audio with Gemini: 429 Too Many Requests. {'message': 'Response not read', 'status': 'Too Many Requests'}\n"
     ]
    },
    {
     "name": "stderr",
     "output_type": "stream",
     "text": [
      "\n",
      " 16%|████████████████████▏                                                                                                       | 96/591 [01:27<07:46,  1.06it/s]\u001b[A"
     ]
    },
    {
     "name": "stdout",
     "output_type": "stream",
     "text": [
      "Error analyzing audio with Gemini: 429 Too Many Requests. {'message': 'Response not read', 'status': 'Too Many Requests'}\n"
     ]
    },
    {
     "name": "stderr",
     "output_type": "stream",
     "text": [
      "\n",
      " 16%|████████████████████▎                                                                                                       | 97/591 [01:28<07:21,  1.12it/s]\u001b[A"
     ]
    },
    {
     "name": "stdout",
     "output_type": "stream",
     "text": [
      "Error analyzing audio with Gemini: 429 Too Many Requests. {'message': 'Response not read', 'status': 'Too Many Requests'}\n"
     ]
    },
    {
     "name": "stderr",
     "output_type": "stream",
     "text": [
      "\n",
      " 17%|████████████████████▌                                                                                                       | 98/591 [01:29<07:32,  1.09it/s]\u001b[A"
     ]
    },
    {
     "name": "stdout",
     "output_type": "stream",
     "text": [
      "Error analyzing audio with Gemini: 429 Too Many Requests. {'message': 'Response not read', 'status': 'Too Many Requests'}\n"
     ]
    },
    {
     "name": "stderr",
     "output_type": "stream",
     "text": [
      "\n",
      " 17%|████████████████████▊                                                                                                       | 99/591 [01:30<07:46,  1.05it/s]\u001b[A"
     ]
    },
    {
     "name": "stdout",
     "output_type": "stream",
     "text": [
      "Error analyzing audio with Gemini: 429 Too Many Requests. {'message': 'Response not read', 'status': 'Too Many Requests'}\n"
     ]
    },
    {
     "name": "stderr",
     "output_type": "stream",
     "text": [
      "\n",
      " 17%|████████████████████▊                                                                                                      | 100/591 [01:30<07:40,  1.07it/s]\u001b[A"
     ]
    },
    {
     "name": "stdout",
     "output_type": "stream",
     "text": [
      "Error analyzing audio with Gemini: 429 Too Many Requests. {'message': 'Response not read', 'status': 'Too Many Requests'}\n"
     ]
    },
    {
     "name": "stderr",
     "output_type": "stream",
     "text": [
      "\n",
      " 17%|█████████████████████                                                                                                      | 101/591 [01:31<07:26,  1.10it/s]\u001b[A"
     ]
    },
    {
     "name": "stdout",
     "output_type": "stream",
     "text": [
      "Error analyzing audio with Gemini: 429 Too Many Requests. {'message': 'Response not read', 'status': 'Too Many Requests'}\n"
     ]
    },
    {
     "name": "stderr",
     "output_type": "stream",
     "text": [
      "\n",
      " 17%|█████████████████████▏                                                                                                     | 102/591 [01:32<07:23,  1.10it/s]\u001b[A"
     ]
    },
    {
     "name": "stdout",
     "output_type": "stream",
     "text": [
      "Error analyzing audio with Gemini: 429 Too Many Requests. {'message': 'Response not read', 'status': 'Too Many Requests'}\n"
     ]
    },
    {
     "name": "stderr",
     "output_type": "stream",
     "text": [
      "\n",
      " 17%|█████████████████████▍                                                                                                     | 103/591 [01:33<07:26,  1.09it/s]\u001b[A"
     ]
    },
    {
     "name": "stdout",
     "output_type": "stream",
     "text": [
      "Error analyzing audio with Gemini: 429 Too Many Requests. {'message': 'Response not read', 'status': 'Too Many Requests'}\n"
     ]
    },
    {
     "name": "stderr",
     "output_type": "stream",
     "text": [
      "\n",
      " 18%|█████████████████████▋                                                                                                     | 104/591 [01:34<07:37,  1.07it/s]\u001b[A"
     ]
    },
    {
     "name": "stdout",
     "output_type": "stream",
     "text": [
      "Error analyzing audio with Gemini: 429 Too Many Requests. {'message': 'Response not read', 'status': 'Too Many Requests'}\n"
     ]
    },
    {
     "name": "stderr",
     "output_type": "stream",
     "text": [
      "\n",
      " 18%|█████████████████████▊                                                                                                     | 105/591 [01:35<08:07,  1.00s/it]\u001b[A"
     ]
    },
    {
     "name": "stdout",
     "output_type": "stream",
     "text": [
      "Error analyzing audio with Gemini: 429 Too Many Requests. {'message': 'Response not read', 'status': 'Too Many Requests'}\n"
     ]
    },
    {
     "name": "stderr",
     "output_type": "stream",
     "text": [
      "\n",
      " 18%|██████████████████████                                                                                                     | 106/591 [01:36<08:26,  1.04s/it]\u001b[A"
     ]
    },
    {
     "name": "stdout",
     "output_type": "stream",
     "text": [
      "Error analyzing audio with Gemini: 429 Too Many Requests. {'message': 'Response not read', 'status': 'Too Many Requests'}\n"
     ]
    },
    {
     "name": "stderr",
     "output_type": "stream",
     "text": [
      "\n",
      " 18%|██████████████████████▎                                                                                                    | 107/591 [01:37<07:56,  1.02it/s]\u001b[A"
     ]
    },
    {
     "name": "stdout",
     "output_type": "stream",
     "text": [
      "Error analyzing audio with Gemini: 429 Too Many Requests. {'message': 'Response not read', 'status': 'Too Many Requests'}\n"
     ]
    },
    {
     "name": "stderr",
     "output_type": "stream",
     "text": [
      "\n",
      " 18%|██████████████████████▍                                                                                                    | 108/591 [01:38<07:37,  1.06it/s]\u001b[A"
     ]
    },
    {
     "name": "stdout",
     "output_type": "stream",
     "text": [
      "Error analyzing audio with Gemini: 429 Too Many Requests. {'message': 'Response not read', 'status': 'Too Many Requests'}\n"
     ]
    },
    {
     "name": "stderr",
     "output_type": "stream",
     "text": [
      "\n",
      " 18%|██████████████████████▋                                                                                                    | 109/591 [01:39<07:32,  1.07it/s]\u001b[A"
     ]
    },
    {
     "name": "stdout",
     "output_type": "stream",
     "text": [
      "Error analyzing audio with Gemini: 429 Too Many Requests. {'message': 'Response not read', 'status': 'Too Many Requests'}\n"
     ]
    },
    {
     "name": "stderr",
     "output_type": "stream",
     "text": [
      "\n",
      " 19%|██████████████████████▉                                                                                                    | 110/591 [01:40<07:19,  1.09it/s]\u001b[A"
     ]
    },
    {
     "name": "stdout",
     "output_type": "stream",
     "text": [
      "Error analyzing audio with Gemini: 429 Too Many Requests. {'message': 'Response not read', 'status': 'Too Many Requests'}\n"
     ]
    },
    {
     "name": "stderr",
     "output_type": "stream",
     "text": [
      "\n",
      " 19%|███████████████████████                                                                                                    | 111/591 [01:41<07:21,  1.09it/s]\u001b[A"
     ]
    },
    {
     "name": "stdout",
     "output_type": "stream",
     "text": [
      "Error analyzing audio with Gemini: 429 Too Many Requests. {'message': 'Response not read', 'status': 'Too Many Requests'}\n"
     ]
    },
    {
     "name": "stderr",
     "output_type": "stream",
     "text": [
      "\n",
      " 19%|███████████████████████▎                                                                                                   | 112/591 [01:42<07:08,  1.12it/s]\u001b[A"
     ]
    },
    {
     "name": "stdout",
     "output_type": "stream",
     "text": [
      "Error analyzing audio with Gemini: 429 Too Many Requests. {'message': 'Response not read', 'status': 'Too Many Requests'}\n"
     ]
    },
    {
     "name": "stderr",
     "output_type": "stream",
     "text": [
      "\n",
      " 19%|███████████████████████▌                                                                                                   | 113/591 [01:42<06:50,  1.16it/s]\u001b[A"
     ]
    },
    {
     "name": "stdout",
     "output_type": "stream",
     "text": [
      "Error analyzing audio with Gemini: 429 Too Many Requests. {'message': 'Response not read', 'status': 'Too Many Requests'}\n"
     ]
    },
    {
     "name": "stderr",
     "output_type": "stream",
     "text": [
      "\n",
      " 19%|███████████████████████▋                                                                                                   | 114/591 [01:43<06:37,  1.20it/s]\u001b[A"
     ]
    },
    {
     "name": "stdout",
     "output_type": "stream",
     "text": [
      "Error analyzing audio with Gemini: 429 Too Many Requests. {'message': 'Response not read', 'status': 'Too Many Requests'}\n"
     ]
    },
    {
     "name": "stderr",
     "output_type": "stream",
     "text": [
      "\n",
      " 19%|███████████████████████▉                                                                                                   | 115/591 [01:44<07:10,  1.11it/s]\u001b[A"
     ]
    },
    {
     "name": "stdout",
     "output_type": "stream",
     "text": [
      "Error analyzing audio with Gemini: 429 Too Many Requests. {'message': 'Response not read', 'status': 'Too Many Requests'}\n"
     ]
    },
    {
     "name": "stderr",
     "output_type": "stream",
     "text": [
      "\n",
      " 20%|████████████████████████▏                                                                                                  | 116/591 [01:45<07:24,  1.07it/s]\u001b[A"
     ]
    },
    {
     "name": "stdout",
     "output_type": "stream",
     "text": [
      "Error analyzing audio with Gemini: 429 Too Many Requests. {'message': 'Response not read', 'status': 'Too Many Requests'}\n"
     ]
    },
    {
     "name": "stderr",
     "output_type": "stream",
     "text": [
      "\n",
      " 20%|████████████████████████▎                                                                                                  | 117/591 [01:46<07:38,  1.03it/s]\u001b[A"
     ]
    },
    {
     "name": "stdout",
     "output_type": "stream",
     "text": [
      "Error analyzing audio with Gemini: 429 Too Many Requests. {'message': 'Response not read', 'status': 'Too Many Requests'}\n"
     ]
    },
    {
     "name": "stderr",
     "output_type": "stream",
     "text": [
      "\n",
      " 20%|████████████████████████▌                                                                                                  | 118/591 [01:47<07:27,  1.06it/s]\u001b[A"
     ]
    },
    {
     "name": "stdout",
     "output_type": "stream",
     "text": [
      "Error analyzing audio with Gemini: 429 Too Many Requests. {'message': 'Response not read', 'status': 'Too Many Requests'}\n"
     ]
    },
    {
     "name": "stderr",
     "output_type": "stream",
     "text": [
      "\n",
      " 20%|████████████████████████▊                                                                                                  | 119/591 [01:48<07:05,  1.11it/s]\u001b[A"
     ]
    },
    {
     "name": "stdout",
     "output_type": "stream",
     "text": [
      "Error analyzing audio with Gemini: 429 Too Many Requests. {'message': 'Response not read', 'status': 'Too Many Requests'}\n"
     ]
    },
    {
     "name": "stderr",
     "output_type": "stream",
     "text": [
      "\n",
      " 20%|████████████████████████▉                                                                                                  | 120/591 [01:49<07:02,  1.11it/s]\u001b[A"
     ]
    },
    {
     "name": "stdout",
     "output_type": "stream",
     "text": [
      "Error analyzing audio with Gemini: 429 Too Many Requests. {'message': 'Response not read', 'status': 'Too Many Requests'}\n"
     ]
    },
    {
     "name": "stderr",
     "output_type": "stream",
     "text": [
      "\n",
      " 20%|█████████████████████████▏                                                                                                 | 121/591 [01:50<07:01,  1.12it/s]\u001b[A"
     ]
    },
    {
     "name": "stdout",
     "output_type": "stream",
     "text": [
      "Error analyzing audio with Gemini: 429 Too Many Requests. {'message': 'Response not read', 'status': 'Too Many Requests'}\n"
     ]
    },
    {
     "name": "stderr",
     "output_type": "stream",
     "text": [
      "\n",
      " 21%|█████████████████████████▍                                                                                                 | 122/591 [01:51<07:17,  1.07it/s]\u001b[A"
     ]
    },
    {
     "name": "stdout",
     "output_type": "stream",
     "text": [
      "Error analyzing audio with Gemini: 429 Too Many Requests. {'message': 'Response not read', 'status': 'Too Many Requests'}\n"
     ]
    },
    {
     "name": "stderr",
     "output_type": "stream",
     "text": [
      "\n",
      " 21%|█████████████████████████▌                                                                                                 | 123/591 [01:52<07:16,  1.07it/s]\u001b[A"
     ]
    },
    {
     "name": "stdout",
     "output_type": "stream",
     "text": [
      "Error analyzing audio with Gemini: 429 Too Many Requests. {'message': 'Response not read', 'status': 'Too Many Requests'}\n"
     ]
    },
    {
     "name": "stderr",
     "output_type": "stream",
     "text": [
      "\n",
      " 21%|█████████████████████████▊                                                                                                 | 124/591 [01:53<06:49,  1.14it/s]\u001b[A"
     ]
    },
    {
     "name": "stdout",
     "output_type": "stream",
     "text": [
      "Error analyzing audio with Gemini: 429 Too Many Requests. {'message': 'Response not read', 'status': 'Too Many Requests'}\n"
     ]
    },
    {
     "name": "stderr",
     "output_type": "stream",
     "text": [
      "\n",
      " 21%|██████████████████████████                                                                                                 | 125/591 [01:53<06:49,  1.14it/s]\u001b[A"
     ]
    },
    {
     "name": "stdout",
     "output_type": "stream",
     "text": [
      "Error analyzing audio with Gemini: 429 Too Many Requests. {'message': 'Response not read', 'status': 'Too Many Requests'}\n"
     ]
    },
    {
     "name": "stderr",
     "output_type": "stream",
     "text": [
      "\n",
      " 21%|██████████████████████████▏                                                                                                | 126/591 [01:54<06:54,  1.12it/s]\u001b[A"
     ]
    },
    {
     "name": "stdout",
     "output_type": "stream",
     "text": [
      "Error analyzing audio with Gemini: 429 Too Many Requests. {'message': 'Response not read', 'status': 'Too Many Requests'}\n"
     ]
    },
    {
     "name": "stderr",
     "output_type": "stream",
     "text": [
      "\n",
      " 21%|██████████████████████████▍                                                                                                | 127/591 [01:55<06:49,  1.13it/s]\u001b[A"
     ]
    },
    {
     "name": "stdout",
     "output_type": "stream",
     "text": [
      "Error analyzing audio with Gemini: 429 Too Many Requests. {'message': 'Response not read', 'status': 'Too Many Requests'}\n"
     ]
    },
    {
     "name": "stderr",
     "output_type": "stream",
     "text": [
      "\n",
      " 22%|██████████████████████████▋                                                                                                | 128/591 [01:56<07:04,  1.09it/s]\u001b[A"
     ]
    },
    {
     "name": "stdout",
     "output_type": "stream",
     "text": [
      "Error analyzing audio with Gemini: 429 Too Many Requests. {'message': 'Response not read', 'status': 'Too Many Requests'}\n"
     ]
    },
    {
     "name": "stderr",
     "output_type": "stream",
     "text": [
      "\n",
      " 22%|██████████████████████████▊                                                                                                | 129/591 [01:57<07:18,  1.05it/s]\u001b[A"
     ]
    },
    {
     "name": "stdout",
     "output_type": "stream",
     "text": [
      "Error analyzing audio with Gemini: 429 Too Many Requests. {'message': 'Response not read', 'status': 'Too Many Requests'}\n"
     ]
    },
    {
     "name": "stderr",
     "output_type": "stream",
     "text": [
      "\n",
      " 22%|███████████████████████████                                                                                                | 130/591 [01:58<07:25,  1.03it/s]\u001b[A"
     ]
    },
    {
     "name": "stdout",
     "output_type": "stream",
     "text": [
      "Error analyzing audio with Gemini: 429 Too Many Requests. {'message': 'Response not read', 'status': 'Too Many Requests'}\n"
     ]
    },
    {
     "name": "stderr",
     "output_type": "stream",
     "text": [
      "\n",
      " 22%|███████████████████████████▎                                                                                               | 131/591 [01:59<07:20,  1.04it/s]\u001b[A"
     ]
    },
    {
     "name": "stdout",
     "output_type": "stream",
     "text": [
      "Error analyzing audio with Gemini: 429 Too Many Requests. {'message': 'Response not read', 'status': 'Too Many Requests'}\n"
     ]
    },
    {
     "name": "stderr",
     "output_type": "stream",
     "text": [
      "\n",
      " 22%|███████████████████████████▍                                                                                               | 132/591 [02:00<06:58,  1.10it/s]\u001b[A"
     ]
    },
    {
     "name": "stdout",
     "output_type": "stream",
     "text": [
      "Error analyzing audio with Gemini: 429 Too Many Requests. {'message': 'Response not read', 'status': 'Too Many Requests'}\n"
     ]
    },
    {
     "name": "stderr",
     "output_type": "stream",
     "text": [
      "\n",
      " 23%|███████████████████████████▋                                                                                               | 133/591 [02:01<06:33,  1.17it/s]\u001b[A"
     ]
    },
    {
     "name": "stdout",
     "output_type": "stream",
     "text": [
      "Error analyzing audio with Gemini: 429 Too Many Requests. {'message': 'Response not read', 'status': 'Too Many Requests'}\n"
     ]
    },
    {
     "name": "stderr",
     "output_type": "stream",
     "text": [
      "\n",
      " 23%|███████████████████████████▉                                                                                               | 134/591 [02:02<06:42,  1.14it/s]\u001b[A"
     ]
    },
    {
     "name": "stdout",
     "output_type": "stream",
     "text": [
      "Error analyzing audio with Gemini: 429 Too Many Requests. {'message': 'Response not read', 'status': 'Too Many Requests'}\n"
     ]
    },
    {
     "name": "stderr",
     "output_type": "stream",
     "text": [
      "\n",
      " 23%|████████████████████████████                                                                                               | 135/591 [02:03<07:11,  1.06it/s]\u001b[A"
     ]
    },
    {
     "name": "stdout",
     "output_type": "stream",
     "text": [
      "Error analyzing audio with Gemini: 429 Too Many Requests. {'message': 'Response not read', 'status': 'Too Many Requests'}\n"
     ]
    },
    {
     "name": "stderr",
     "output_type": "stream",
     "text": [
      "\n",
      " 23%|████████████████████████████▎                                                                                              | 136/591 [02:03<06:39,  1.14it/s]\u001b[A"
     ]
    },
    {
     "name": "stdout",
     "output_type": "stream",
     "text": [
      "Error analyzing audio with Gemini: 429 Too Many Requests. {'message': 'Response not read', 'status': 'Too Many Requests'}\n"
     ]
    },
    {
     "name": "stderr",
     "output_type": "stream",
     "text": [
      "\n",
      " 23%|████████████████████████████▌                                                                                              | 137/591 [02:04<06:20,  1.19it/s]\u001b[A"
     ]
    },
    {
     "name": "stdout",
     "output_type": "stream",
     "text": [
      "Error analyzing audio with Gemini: 429 Too Many Requests. {'message': 'Response not read', 'status': 'Too Many Requests'}\n"
     ]
    },
    {
     "name": "stderr",
     "output_type": "stream",
     "text": [
      "\n",
      " 23%|████████████████████████████▋                                                                                              | 138/591 [02:05<06:32,  1.15it/s]\u001b[A"
     ]
    },
    {
     "name": "stdout",
     "output_type": "stream",
     "text": [
      "Error analyzing audio with Gemini: 429 Too Many Requests. {'message': 'Response not read', 'status': 'Too Many Requests'}\n"
     ]
    },
    {
     "name": "stderr",
     "output_type": "stream",
     "text": [
      "\n",
      " 24%|████████████████████████████▉                                                                                              | 139/591 [02:06<06:33,  1.15it/s]\u001b[A"
     ]
    },
    {
     "name": "stdout",
     "output_type": "stream",
     "text": [
      "Error analyzing audio with Gemini: 429 Too Many Requests. {'message': 'Response not read', 'status': 'Too Many Requests'}\n"
     ]
    },
    {
     "name": "stderr",
     "output_type": "stream",
     "text": [
      "\n",
      " 24%|█████████████████████████████▏                                                                                             | 140/591 [02:07<06:54,  1.09it/s]\u001b[A"
     ]
    },
    {
     "name": "stdout",
     "output_type": "stream",
     "text": [
      "Error analyzing audio with Gemini: 429 Too Many Requests. {'message': 'Response not read', 'status': 'Too Many Requests'}\n"
     ]
    },
    {
     "name": "stderr",
     "output_type": "stream",
     "text": [
      "\n",
      " 24%|█████████████████████████████▎                                                                                             | 141/591 [02:08<06:53,  1.09it/s]\u001b[A"
     ]
    },
    {
     "name": "stdout",
     "output_type": "stream",
     "text": [
      "Error analyzing audio with Gemini: 429 Too Many Requests. {'message': 'Response not read', 'status': 'Too Many Requests'}\n"
     ]
    },
    {
     "name": "stderr",
     "output_type": "stream",
     "text": [
      "\n",
      " 24%|█████████████████████████████▌                                                                                             | 142/591 [02:09<06:34,  1.14it/s]\u001b[A"
     ]
    },
    {
     "name": "stdout",
     "output_type": "stream",
     "text": [
      "Error analyzing audio with Gemini: 429 Too Many Requests. {'message': 'Response not read', 'status': 'Too Many Requests'}\n"
     ]
    },
    {
     "name": "stderr",
     "output_type": "stream",
     "text": [
      "\n",
      " 24%|█████████████████████████████▊                                                                                             | 143/591 [02:10<06:29,  1.15it/s]\u001b[A"
     ]
    },
    {
     "name": "stdout",
     "output_type": "stream",
     "text": [
      "Error analyzing audio with Gemini: 429 Too Many Requests. {'message': 'Response not read', 'status': 'Too Many Requests'}\n"
     ]
    },
    {
     "name": "stderr",
     "output_type": "stream",
     "text": [
      "\n",
      " 24%|█████████████████████████████▉                                                                                             | 144/591 [02:11<06:37,  1.13it/s]\u001b[A"
     ]
    },
    {
     "name": "stdout",
     "output_type": "stream",
     "text": [
      "Error analyzing audio with Gemini: 429 Too Many Requests. {'message': 'Response not read', 'status': 'Too Many Requests'}\n"
     ]
    },
    {
     "name": "stderr",
     "output_type": "stream",
     "text": [
      "\n",
      " 25%|██████████████████████████████▏                                                                                            | 145/591 [02:11<06:38,  1.12it/s]\u001b[A"
     ]
    },
    {
     "name": "stdout",
     "output_type": "stream",
     "text": [
      "Error analyzing audio with Gemini: 429 Too Many Requests. {'message': 'Response not read', 'status': 'Too Many Requests'}\n"
     ]
    },
    {
     "name": "stderr",
     "output_type": "stream",
     "text": [
      "\n",
      " 25%|██████████████████████████████▍                                                                                            | 146/591 [02:12<06:38,  1.12it/s]\u001b[A"
     ]
    },
    {
     "name": "stdout",
     "output_type": "stream",
     "text": [
      "Error analyzing audio with Gemini: 429 Too Many Requests. {'message': 'Response not read', 'status': 'Too Many Requests'}\n"
     ]
    },
    {
     "name": "stderr",
     "output_type": "stream",
     "text": [
      "\n",
      " 25%|██████████████████████████████▌                                                                                            | 147/591 [02:13<06:38,  1.11it/s]\u001b[A"
     ]
    },
    {
     "name": "stdout",
     "output_type": "stream",
     "text": [
      "Error analyzing audio with Gemini: 429 Too Many Requests. {'message': 'Response not read', 'status': 'Too Many Requests'}\n"
     ]
    },
    {
     "name": "stderr",
     "output_type": "stream",
     "text": [
      "\n",
      " 25%|██████████████████████████████▊                                                                                            | 148/591 [02:14<06:47,  1.09it/s]\u001b[A"
     ]
    },
    {
     "name": "stdout",
     "output_type": "stream",
     "text": [
      "Error analyzing audio with Gemini: 429 Too Many Requests. {'message': 'Response not read', 'status': 'Too Many Requests'}\n"
     ]
    },
    {
     "name": "stderr",
     "output_type": "stream",
     "text": [
      "\n",
      " 25%|███████████████████████████████                                                                                            | 149/591 [02:15<06:46,  1.09it/s]\u001b[A"
     ]
    },
    {
     "name": "stdout",
     "output_type": "stream",
     "text": [
      "Error analyzing audio with Gemini: 429 Too Many Requests. {'message': 'Response not read', 'status': 'Too Many Requests'}\n"
     ]
    },
    {
     "name": "stderr",
     "output_type": "stream",
     "text": [
      "\n",
      " 25%|███████████████████████████████▏                                                                                           | 150/591 [02:16<06:45,  1.09it/s]\u001b[A"
     ]
    },
    {
     "name": "stdout",
     "output_type": "stream",
     "text": [
      "Error analyzing audio with Gemini: 429 Too Many Requests. {'message': 'Response not read', 'status': 'Too Many Requests'}\n"
     ]
    },
    {
     "name": "stderr",
     "output_type": "stream",
     "text": [
      "\n",
      " 26%|███████████████████████████████▍                                                                                           | 151/591 [02:17<07:11,  1.02it/s]\u001b[A"
     ]
    },
    {
     "name": "stdout",
     "output_type": "stream",
     "text": [
      "Error analyzing audio with Gemini: 429 Too Many Requests. {'message': 'Response not read', 'status': 'Too Many Requests'}\n"
     ]
    },
    {
     "name": "stderr",
     "output_type": "stream",
     "text": [
      "\n",
      " 26%|███████████████████████████████▋                                                                                           | 152/591 [02:18<07:03,  1.04it/s]\u001b[A"
     ]
    },
    {
     "name": "stdout",
     "output_type": "stream",
     "text": [
      "Error analyzing audio with Gemini: 429 Too Many Requests. {'message': 'Response not read', 'status': 'Too Many Requests'}\n"
     ]
    },
    {
     "name": "stderr",
     "output_type": "stream",
     "text": [
      "\n",
      " 26%|███████████████████████████████▊                                                                                           | 153/591 [02:19<06:55,  1.05it/s]\u001b[A"
     ]
    },
    {
     "name": "stdout",
     "output_type": "stream",
     "text": [
      "Error analyzing audio with Gemini: 429 Too Many Requests. {'message': 'Response not read', 'status': 'Too Many Requests'}\n"
     ]
    },
    {
     "name": "stderr",
     "output_type": "stream",
     "text": [
      "\n",
      " 26%|████████████████████████████████                                                                                           | 154/591 [02:20<06:38,  1.10it/s]\u001b[A"
     ]
    },
    {
     "name": "stdout",
     "output_type": "stream",
     "text": [
      "Error analyzing audio with Gemini: 429 Too Many Requests. {'message': 'Response not read', 'status': 'Too Many Requests'}\n"
     ]
    },
    {
     "name": "stderr",
     "output_type": "stream",
     "text": [
      "\n",
      " 26%|████████████████████████████████▎                                                                                          | 155/591 [02:21<06:40,  1.09it/s]\u001b[A"
     ]
    },
    {
     "name": "stdout",
     "output_type": "stream",
     "text": [
      "Error analyzing audio with Gemini: 429 Too Many Requests. {'message': 'Response not read', 'status': 'Too Many Requests'}\n"
     ]
    },
    {
     "name": "stderr",
     "output_type": "stream",
     "text": [
      "\n",
      " 26%|████████████████████████████████▍                                                                                          | 156/591 [02:22<06:27,  1.12it/s]\u001b[A"
     ]
    },
    {
     "name": "stdout",
     "output_type": "stream",
     "text": [
      "Error analyzing audio with Gemini: 429 Too Many Requests. {'message': 'Response not read', 'status': 'Too Many Requests'}\n"
     ]
    },
    {
     "name": "stderr",
     "output_type": "stream",
     "text": [
      "\n",
      " 27%|████████████████████████████████▋                                                                                          | 157/591 [02:23<06:34,  1.10it/s]\u001b[A"
     ]
    },
    {
     "name": "stdout",
     "output_type": "stream",
     "text": [
      "Error analyzing audio with Gemini: 429 Too Many Requests. {'message': 'Response not read', 'status': 'Too Many Requests'}\n"
     ]
    },
    {
     "name": "stderr",
     "output_type": "stream",
     "text": [
      "\n",
      " 27%|████████████████████████████████▉                                                                                          | 158/591 [02:23<06:05,  1.18it/s]\u001b[A"
     ]
    },
    {
     "name": "stdout",
     "output_type": "stream",
     "text": [
      "Error analyzing audio with Gemini: 429 Too Many Requests. {'message': 'Response not read', 'status': 'Too Many Requests'}\n"
     ]
    },
    {
     "name": "stderr",
     "output_type": "stream",
     "text": [
      "\n",
      " 27%|█████████████████████████████████                                                                                          | 159/591 [02:24<05:53,  1.22it/s]\u001b[A"
     ]
    },
    {
     "name": "stdout",
     "output_type": "stream",
     "text": [
      "Error analyzing audio with Gemini: 429 Too Many Requests. {'message': 'Response not read', 'status': 'Too Many Requests'}\n"
     ]
    },
    {
     "name": "stderr",
     "output_type": "stream",
     "text": [
      "\n",
      " 27%|█████████████████████████████████▎                                                                                         | 160/591 [02:25<05:58,  1.20it/s]\u001b[A"
     ]
    },
    {
     "name": "stdout",
     "output_type": "stream",
     "text": [
      "Error analyzing audio with Gemini: 429 Too Many Requests. {'message': 'Response not read', 'status': 'Too Many Requests'}\n"
     ]
    },
    {
     "name": "stderr",
     "output_type": "stream",
     "text": [
      "\n",
      " 27%|█████████████████████████████████▌                                                                                         | 161/591 [02:26<06:15,  1.15it/s]\u001b[A"
     ]
    },
    {
     "name": "stdout",
     "output_type": "stream",
     "text": [
      "Error analyzing audio with Gemini: 429 Too Many Requests. {'message': 'Response not read', 'status': 'Too Many Requests'}\n"
     ]
    },
    {
     "name": "stderr",
     "output_type": "stream",
     "text": [
      "\n",
      " 27%|█████████████████████████████████▋                                                                                         | 162/591 [02:27<06:16,  1.14it/s]\u001b[A"
     ]
    },
    {
     "name": "stdout",
     "output_type": "stream",
     "text": [
      "Error analyzing audio with Gemini: 429 Too Many Requests. {'message': 'Response not read', 'status': 'Too Many Requests'}\n"
     ]
    },
    {
     "name": "stderr",
     "output_type": "stream",
     "text": [
      "\n",
      " 28%|█████████████████████████████████▉                                                                                         | 163/591 [02:28<06:18,  1.13it/s]\u001b[A"
     ]
    },
    {
     "name": "stdout",
     "output_type": "stream",
     "text": [
      "Error analyzing audio with Gemini: 429 Too Many Requests. {'message': 'Response not read', 'status': 'Too Many Requests'}\n"
     ]
    },
    {
     "name": "stderr",
     "output_type": "stream",
     "text": [
      "\n",
      " 28%|██████████████████████████████████▏                                                                                        | 164/591 [02:28<06:07,  1.16it/s]\u001b[A"
     ]
    },
    {
     "name": "stdout",
     "output_type": "stream",
     "text": [
      "Error analyzing audio with Gemini: 429 Too Many Requests. {'message': 'Response not read', 'status': 'Too Many Requests'}\n"
     ]
    },
    {
     "name": "stderr",
     "output_type": "stream",
     "text": [
      "\n",
      " 28%|██████████████████████████████████▎                                                                                        | 165/591 [02:29<06:24,  1.11it/s]\u001b[A"
     ]
    },
    {
     "name": "stdout",
     "output_type": "stream",
     "text": [
      "Error analyzing audio with Gemini: 429 Too Many Requests. {'message': 'Response not read', 'status': 'Too Many Requests'}\n"
     ]
    },
    {
     "name": "stderr",
     "output_type": "stream",
     "text": [
      "\n",
      " 28%|██████████████████████████████████▌                                                                                        | 166/591 [02:30<06:38,  1.07it/s]\u001b[A"
     ]
    },
    {
     "name": "stdout",
     "output_type": "stream",
     "text": [
      "Error analyzing audio with Gemini: 429 Too Many Requests. {'message': 'Response not read', 'status': 'Too Many Requests'}\n"
     ]
    },
    {
     "name": "stderr",
     "output_type": "stream",
     "text": [
      "\n",
      " 28%|██████████████████████████████████▊                                                                                        | 167/591 [02:31<06:14,  1.13it/s]\u001b[A"
     ]
    },
    {
     "name": "stdout",
     "output_type": "stream",
     "text": [
      "Error analyzing audio with Gemini: 429 Too Many Requests. {'message': 'Response not read', 'status': 'Too Many Requests'}\n"
     ]
    },
    {
     "name": "stderr",
     "output_type": "stream",
     "text": [
      "\n",
      " 28%|██████████████████████████████████▉                                                                                        | 168/591 [02:32<05:55,  1.19it/s]\u001b[A"
     ]
    },
    {
     "name": "stdout",
     "output_type": "stream",
     "text": [
      "Error analyzing audio with Gemini: 429 Too Many Requests. {'message': 'Response not read', 'status': 'Too Many Requests'}\n"
     ]
    },
    {
     "name": "stderr",
     "output_type": "stream",
     "text": [
      "\n",
      " 29%|███████████████████████████████████▏                                                                                       | 169/591 [02:33<05:50,  1.21it/s]\u001b[A"
     ]
    },
    {
     "name": "stdout",
     "output_type": "stream",
     "text": [
      "Error analyzing audio with Gemini: 429 Too Many Requests. {'message': 'Response not read', 'status': 'Too Many Requests'}\n"
     ]
    },
    {
     "name": "stderr",
     "output_type": "stream",
     "text": [
      "\n",
      " 29%|███████████████████████████████████▍                                                                                       | 170/591 [02:33<05:36,  1.25it/s]\u001b[A"
     ]
    },
    {
     "name": "stdout",
     "output_type": "stream",
     "text": [
      "Error analyzing audio with Gemini: 429 Too Many Requests. {'message': 'Response not read', 'status': 'Too Many Requests'}\n"
     ]
    },
    {
     "name": "stderr",
     "output_type": "stream",
     "text": [
      "\n",
      " 29%|███████████████████████████████████▌                                                                                       | 171/591 [02:34<05:41,  1.23it/s]\u001b[A"
     ]
    },
    {
     "name": "stdout",
     "output_type": "stream",
     "text": [
      "Error analyzing audio with Gemini: 429 Too Many Requests. {'message': 'Response not read', 'status': 'Too Many Requests'}\n"
     ]
    },
    {
     "name": "stderr",
     "output_type": "stream",
     "text": [
      "\n",
      " 29%|███████████████████████████████████▊                                                                                       | 172/591 [02:35<06:00,  1.16it/s]\u001b[A"
     ]
    },
    {
     "name": "stdout",
     "output_type": "stream",
     "text": [
      "Error analyzing audio with Gemini: 429 Too Many Requests. {'message': 'Response not read', 'status': 'Too Many Requests'}\n"
     ]
    },
    {
     "name": "stderr",
     "output_type": "stream",
     "text": [
      "\n",
      " 29%|████████████████████████████████████                                                                                       | 173/591 [02:36<06:33,  1.06it/s]\u001b[A"
     ]
    },
    {
     "name": "stdout",
     "output_type": "stream",
     "text": [
      "Error analyzing audio with Gemini: 429 Too Many Requests. {'message': 'Response not read', 'status': 'Too Many Requests'}\n"
     ]
    },
    {
     "name": "stderr",
     "output_type": "stream",
     "text": [
      "\n",
      " 29%|████████████████████████████████████▏                                                                                      | 174/591 [02:37<06:46,  1.03it/s]\u001b[A"
     ]
    },
    {
     "name": "stdout",
     "output_type": "stream",
     "text": [
      "Error analyzing audio with Gemini: 429 Too Many Requests. {'message': 'Response not read', 'status': 'Too Many Requests'}\n"
     ]
    },
    {
     "name": "stderr",
     "output_type": "stream",
     "text": [
      "\n",
      " 30%|████████████████████████████████████▍                                                                                      | 175/591 [02:38<06:48,  1.02it/s]\u001b[A"
     ]
    },
    {
     "name": "stdout",
     "output_type": "stream",
     "text": [
      "Error analyzing audio with Gemini: 429 Too Many Requests. {'message': 'Response not read', 'status': 'Too Many Requests'}\n"
     ]
    },
    {
     "name": "stderr",
     "output_type": "stream",
     "text": [
      "\n",
      " 30%|████████████████████████████████████▋                                                                                      | 176/591 [02:39<06:28,  1.07it/s]\u001b[A"
     ]
    },
    {
     "name": "stdout",
     "output_type": "stream",
     "text": [
      "Error analyzing audio with Gemini: 429 Too Many Requests. {'message': 'Response not read', 'status': 'Too Many Requests'}\n"
     ]
    },
    {
     "name": "stderr",
     "output_type": "stream",
     "text": [
      "\n",
      " 30%|████████████████████████████████████▊                                                                                      | 177/591 [02:40<06:12,  1.11it/s]\u001b[A"
     ]
    },
    {
     "name": "stdout",
     "output_type": "stream",
     "text": [
      "Error analyzing audio with Gemini: 429 Too Many Requests. {'message': 'Response not read', 'status': 'Too Many Requests'}\n"
     ]
    },
    {
     "name": "stderr",
     "output_type": "stream",
     "text": [
      "\n",
      " 30%|█████████████████████████████████████                                                                                      | 178/591 [02:41<06:27,  1.07it/s]\u001b[A"
     ]
    },
    {
     "name": "stdout",
     "output_type": "stream",
     "text": [
      "Error analyzing audio with Gemini: 429 Too Many Requests. {'message': 'Response not read', 'status': 'Too Many Requests'}\n"
     ]
    },
    {
     "name": "stderr",
     "output_type": "stream",
     "text": [
      "\n",
      " 30%|█████████████████████████████████████▎                                                                                     | 179/591 [02:42<06:35,  1.04it/s]\u001b[A"
     ]
    },
    {
     "name": "stdout",
     "output_type": "stream",
     "text": [
      "Error analyzing audio with Gemini: 429 Too Many Requests. {'message': 'Response not read', 'status': 'Too Many Requests'}\n"
     ]
    },
    {
     "name": "stderr",
     "output_type": "stream",
     "text": [
      "\n",
      " 30%|█████████████████████████████████████▍                                                                                     | 180/591 [02:43<06:42,  1.02it/s]\u001b[A"
     ]
    },
    {
     "name": "stdout",
     "output_type": "stream",
     "text": [
      "Error analyzing audio with Gemini: 429 Too Many Requests. {'message': 'Response not read', 'status': 'Too Many Requests'}\n"
     ]
    },
    {
     "name": "stderr",
     "output_type": "stream",
     "text": [
      "\n",
      " 31%|█████████████████████████████████████▋                                                                                     | 181/591 [02:44<06:36,  1.03it/s]\u001b[A"
     ]
    },
    {
     "name": "stdout",
     "output_type": "stream",
     "text": [
      "Error analyzing audio with Gemini: 429 Too Many Requests. {'message': 'Response not read', 'status': 'Too Many Requests'}\n"
     ]
    },
    {
     "name": "stderr",
     "output_type": "stream",
     "text": [
      "\n",
      " 31%|█████████████████████████████████████▉                                                                                     | 182/591 [02:45<06:27,  1.06it/s]\u001b[A"
     ]
    },
    {
     "name": "stdout",
     "output_type": "stream",
     "text": [
      "Error analyzing audio with Gemini: 429 Too Many Requests. {'message': 'Response not read', 'status': 'Too Many Requests'}\n"
     ]
    },
    {
     "name": "stderr",
     "output_type": "stream",
     "text": [
      "\n",
      " 31%|██████████████████████████████████████                                                                                     | 183/591 [02:46<06:22,  1.07it/s]\u001b[A"
     ]
    },
    {
     "name": "stdout",
     "output_type": "stream",
     "text": [
      "Error analyzing audio with Gemini: 429 Too Many Requests. {'message': 'Response not read', 'status': 'Too Many Requests'}\n"
     ]
    },
    {
     "name": "stderr",
     "output_type": "stream",
     "text": [
      "\n",
      " 31%|██████████████████████████████████████▎                                                                                    | 184/591 [02:47<06:21,  1.07it/s]\u001b[A"
     ]
    },
    {
     "name": "stdout",
     "output_type": "stream",
     "text": [
      "Error analyzing audio with Gemini: 429 Too Many Requests. {'message': 'Response not read', 'status': 'Too Many Requests'}\n"
     ]
    },
    {
     "name": "stderr",
     "output_type": "stream",
     "text": [
      "\n",
      " 31%|██████████████████████████████████████▌                                                                                    | 185/591 [02:48<06:07,  1.11it/s]\u001b[A"
     ]
    },
    {
     "name": "stdout",
     "output_type": "stream",
     "text": [
      "Error analyzing audio with Gemini: 429 Too Many Requests. {'message': 'Response not read', 'status': 'Too Many Requests'}\n"
     ]
    },
    {
     "name": "stderr",
     "output_type": "stream",
     "text": [
      "\n",
      " 31%|██████████████████████████████████████▋                                                                                    | 186/591 [02:48<05:49,  1.16it/s]\u001b[A"
     ]
    },
    {
     "name": "stdout",
     "output_type": "stream",
     "text": [
      "Error analyzing audio with Gemini: 429 Too Many Requests. {'message': 'Response not read', 'status': 'Too Many Requests'}\n"
     ]
    },
    {
     "name": "stderr",
     "output_type": "stream",
     "text": [
      "\n",
      " 32%|██████████████████████████████████████▉                                                                                    | 187/591 [02:50<06:12,  1.08it/s]\u001b[A"
     ]
    },
    {
     "name": "stdout",
     "output_type": "stream",
     "text": [
      "Error analyzing audio with Gemini: 429 Too Many Requests. {'message': 'Response not read', 'status': 'Too Many Requests'}\n"
     ]
    },
    {
     "name": "stderr",
     "output_type": "stream",
     "text": [
      "\n",
      " 32%|███████████████████████████████████████▏                                                                                   | 188/591 [02:50<05:47,  1.16it/s]\u001b[A"
     ]
    },
    {
     "name": "stdout",
     "output_type": "stream",
     "text": [
      "Error analyzing audio with Gemini: 429 Too Many Requests. {'message': 'Response not read', 'status': 'Too Many Requests'}\n"
     ]
    },
    {
     "name": "stderr",
     "output_type": "stream",
     "text": [
      "\n",
      " 32%|███████████████████████████████████████▎                                                                                   | 189/591 [02:51<05:58,  1.12it/s]\u001b[A"
     ]
    },
    {
     "name": "stdout",
     "output_type": "stream",
     "text": [
      "Error analyzing audio with Gemini: 429 Too Many Requests. {'message': 'Response not read', 'status': 'Too Many Requests'}\n"
     ]
    },
    {
     "name": "stderr",
     "output_type": "stream",
     "text": [
      "\n",
      " 32%|███████████████████████████████████████▌                                                                                   | 190/591 [02:52<06:12,  1.08it/s]\u001b[A"
     ]
    },
    {
     "name": "stdout",
     "output_type": "stream",
     "text": [
      "Error analyzing audio with Gemini: 429 Too Many Requests. {'message': 'Response not read', 'status': 'Too Many Requests'}\n"
     ]
    },
    {
     "name": "stderr",
     "output_type": "stream",
     "text": [
      "\n",
      " 32%|███████████████████████████████████████▊                                                                                   | 191/591 [02:53<06:05,  1.10it/s]\u001b[A"
     ]
    },
    {
     "name": "stdout",
     "output_type": "stream",
     "text": [
      "Error analyzing audio with Gemini: 429 Too Many Requests. {'message': 'Response not read', 'status': 'Too Many Requests'}\n"
     ]
    },
    {
     "name": "stderr",
     "output_type": "stream",
     "text": [
      "\n",
      " 32%|███████████████████████████████████████▉                                                                                   | 192/591 [02:54<06:02,  1.10it/s]\u001b[A"
     ]
    },
    {
     "name": "stdout",
     "output_type": "stream",
     "text": [
      "Error analyzing audio with Gemini: 429 Too Many Requests. {'message': 'Response not read', 'status': 'Too Many Requests'}\n"
     ]
    },
    {
     "name": "stderr",
     "output_type": "stream",
     "text": [
      "\n",
      " 33%|████████████████████████████████████████▏                                                                                  | 193/591 [02:55<06:11,  1.07it/s]\u001b[A"
     ]
    },
    {
     "name": "stdout",
     "output_type": "stream",
     "text": [
      "Error analyzing audio with Gemini: 429 Too Many Requests. {'message': 'Response not read', 'status': 'Too Many Requests'}\n"
     ]
    },
    {
     "name": "stderr",
     "output_type": "stream",
     "text": [
      "\n",
      " 33%|████████████████████████████████████████▍                                                                                  | 194/591 [02:56<05:48,  1.14it/s]\u001b[A"
     ]
    },
    {
     "name": "stdout",
     "output_type": "stream",
     "text": [
      "Error analyzing audio with Gemini: 429 Too Many Requests. {'message': 'Response not read', 'status': 'Too Many Requests'}\n"
     ]
    },
    {
     "name": "stderr",
     "output_type": "stream",
     "text": [
      "\n",
      " 33%|████████████████████████████████████████▌                                                                                  | 195/591 [02:57<05:39,  1.17it/s]\u001b[A"
     ]
    },
    {
     "name": "stdout",
     "output_type": "stream",
     "text": [
      "Error analyzing audio with Gemini: 429 Too Many Requests. {'message': 'Response not read', 'status': 'Too Many Requests'}\n"
     ]
    },
    {
     "name": "stderr",
     "output_type": "stream",
     "text": [
      "\n",
      " 33%|████████████████████████████████████████▊                                                                                  | 196/591 [02:58<06:01,  1.09it/s]\u001b[A"
     ]
    },
    {
     "name": "stdout",
     "output_type": "stream",
     "text": [
      "Error analyzing audio with Gemini: 429 Too Many Requests. {'message': 'Response not read', 'status': 'Too Many Requests'}\n"
     ]
    },
    {
     "name": "stderr",
     "output_type": "stream",
     "text": [
      "\n",
      " 33%|█████████████████████████████████████████                                                                                  | 197/591 [02:58<05:56,  1.11it/s]\u001b[A"
     ]
    },
    {
     "name": "stdout",
     "output_type": "stream",
     "text": [
      "Error analyzing audio with Gemini: 429 Too Many Requests. {'message': 'Response not read', 'status': 'Too Many Requests'}\n"
     ]
    },
    {
     "name": "stderr",
     "output_type": "stream",
     "text": [
      "\n",
      " 34%|█████████████████████████████████████████▏                                                                                 | 198/591 [02:59<05:38,  1.16it/s]\u001b[A"
     ]
    },
    {
     "name": "stdout",
     "output_type": "stream",
     "text": [
      "Error analyzing audio with Gemini: 429 Too Many Requests. {'message': 'Response not read', 'status': 'Too Many Requests'}\n"
     ]
    },
    {
     "name": "stderr",
     "output_type": "stream",
     "text": [
      "\n",
      " 34%|█████████████████████████████████████████▍                                                                                 | 199/591 [03:00<05:30,  1.19it/s]\u001b[A"
     ]
    },
    {
     "name": "stdout",
     "output_type": "stream",
     "text": [
      "Error analyzing audio with Gemini: 429 Too Many Requests. {'message': 'Response not read', 'status': 'Too Many Requests'}\n"
     ]
    },
    {
     "name": "stderr",
     "output_type": "stream",
     "text": [
      "\n",
      " 34%|█████████████████████████████████████████▌                                                                                 | 200/591 [03:01<05:31,  1.18it/s]\u001b[A"
     ]
    },
    {
     "name": "stdout",
     "output_type": "stream",
     "text": [
      "Error analyzing audio with Gemini: 429 Too Many Requests. {'message': 'Response not read', 'status': 'Too Many Requests'}\n"
     ]
    },
    {
     "name": "stderr",
     "output_type": "stream",
     "text": [
      "\n",
      " 34%|█████████████████████████████████████████▊                                                                                 | 201/591 [03:02<05:20,  1.22it/s]\u001b[A"
     ]
    },
    {
     "name": "stdout",
     "output_type": "stream",
     "text": [
      "Error analyzing audio with Gemini: 429 Too Many Requests. {'message': 'Response not read', 'status': 'Too Many Requests'}\n"
     ]
    },
    {
     "name": "stderr",
     "output_type": "stream",
     "text": [
      "\n",
      " 34%|██████████████████████████████████████████                                                                                 | 202/591 [03:02<05:07,  1.27it/s]\u001b[A"
     ]
    },
    {
     "name": "stdout",
     "output_type": "stream",
     "text": [
      "Error analyzing audio with Gemini: 429 Too Many Requests. {'message': 'Response not read', 'status': 'Too Many Requests'}\n"
     ]
    },
    {
     "name": "stderr",
     "output_type": "stream",
     "text": [
      "\n",
      " 34%|██████████████████████████████████████████▏                                                                                | 203/591 [03:03<05:03,  1.28it/s]\u001b[A"
     ]
    },
    {
     "name": "stdout",
     "output_type": "stream",
     "text": [
      "Error analyzing audio with Gemini: 429 Too Many Requests. {'message': 'Response not read', 'status': 'Too Many Requests'}\n"
     ]
    },
    {
     "name": "stderr",
     "output_type": "stream",
     "text": [
      "\n",
      " 35%|██████████████████████████████████████████▍                                                                                | 204/591 [03:04<05:00,  1.29it/s]\u001b[A"
     ]
    },
    {
     "name": "stdout",
     "output_type": "stream",
     "text": [
      "Error analyzing audio with Gemini: 429 Too Many Requests. {'message': 'Response not read', 'status': 'Too Many Requests'}\n"
     ]
    },
    {
     "name": "stderr",
     "output_type": "stream",
     "text": [
      "\n",
      " 35%|██████████████████████████████████████████▋                                                                                | 205/591 [03:05<04:55,  1.31it/s]\u001b[A"
     ]
    },
    {
     "name": "stdout",
     "output_type": "stream",
     "text": [
      "Error analyzing audio with Gemini: 429 Too Many Requests. {'message': 'Response not read', 'status': 'Too Many Requests'}\n"
     ]
    },
    {
     "name": "stderr",
     "output_type": "stream",
     "text": [
      "\n",
      " 35%|██████████████████████████████████████████▊                                                                                | 206/591 [03:05<04:50,  1.33it/s]\u001b[A"
     ]
    },
    {
     "name": "stdout",
     "output_type": "stream",
     "text": [
      "Error analyzing audio with Gemini: 429 Too Many Requests. {'message': 'Response not read', 'status': 'Too Many Requests'}\n"
     ]
    },
    {
     "name": "stderr",
     "output_type": "stream",
     "text": [
      "\n",
      " 35%|███████████████████████████████████████████                                                                                | 207/591 [03:06<05:08,  1.24it/s]\u001b[A"
     ]
    },
    {
     "name": "stdout",
     "output_type": "stream",
     "text": [
      "Error analyzing audio with Gemini: 429 Too Many Requests. {'message': 'Response not read', 'status': 'Too Many Requests'}\n"
     ]
    },
    {
     "name": "stderr",
     "output_type": "stream",
     "text": [
      "\n",
      " 35%|███████████████████████████████████████████▎                                                                               | 208/591 [03:07<05:06,  1.25it/s]\u001b[A"
     ]
    },
    {
     "name": "stdout",
     "output_type": "stream",
     "text": [
      "Error analyzing audio with Gemini: 429 Too Many Requests. {'message': 'Response not read', 'status': 'Too Many Requests'}\n"
     ]
    },
    {
     "name": "stderr",
     "output_type": "stream",
     "text": [
      "\n",
      " 35%|███████████████████████████████████████████▍                                                                               | 209/591 [03:08<05:15,  1.21it/s]\u001b[A"
     ]
    },
    {
     "name": "stdout",
     "output_type": "stream",
     "text": [
      "Error analyzing audio with Gemini: 429 Too Many Requests. {'message': 'Response not read', 'status': 'Too Many Requests'}\n"
     ]
    },
    {
     "name": "stderr",
     "output_type": "stream",
     "text": [
      "\n",
      " 36%|███████████████████████████████████████████▋                                                                               | 210/591 [03:09<05:08,  1.24it/s]\u001b[A"
     ]
    },
    {
     "name": "stdout",
     "output_type": "stream",
     "text": [
      "Error analyzing audio with Gemini: 429 Too Many Requests. {'message': 'Response not read', 'status': 'Too Many Requests'}\n"
     ]
    },
    {
     "name": "stderr",
     "output_type": "stream",
     "text": [
      "\n",
      " 36%|███████████████████████████████████████████▉                                                                               | 211/591 [03:10<05:18,  1.19it/s]\u001b[A"
     ]
    },
    {
     "name": "stdout",
     "output_type": "stream",
     "text": [
      "Error analyzing audio with Gemini: 429 Too Many Requests. {'message': 'Response not read', 'status': 'Too Many Requests'}\n"
     ]
    },
    {
     "name": "stderr",
     "output_type": "stream",
     "text": [
      "\n",
      " 36%|████████████████████████████████████████████                                                                               | 212/591 [03:11<05:35,  1.13it/s]\u001b[A"
     ]
    },
    {
     "name": "stdout",
     "output_type": "stream",
     "text": [
      "Error analyzing audio with Gemini: 429 Too Many Requests. {'message': 'Response not read', 'status': 'Too Many Requests'}\n"
     ]
    },
    {
     "name": "stderr",
     "output_type": "stream",
     "text": [
      "\n",
      " 36%|████████████████████████████████████████████▎                                                                              | 213/591 [03:12<05:50,  1.08it/s]\u001b[A"
     ]
    },
    {
     "name": "stdout",
     "output_type": "stream",
     "text": [
      "Error analyzing audio with Gemini: 429 Too Many Requests. {'message': 'Response not read', 'status': 'Too Many Requests'}\n"
     ]
    },
    {
     "name": "stderr",
     "output_type": "stream",
     "text": [
      "\n",
      " 36%|████████████████████████████████████████████▌                                                                              | 214/591 [03:13<06:12,  1.01it/s]\u001b[A"
     ]
    },
    {
     "name": "stdout",
     "output_type": "stream",
     "text": [
      "Error analyzing audio with Gemini: 429 Too Many Requests. {'message': 'Response not read', 'status': 'Too Many Requests'}\n"
     ]
    },
    {
     "name": "stderr",
     "output_type": "stream",
     "text": [
      "\n",
      " 36%|████████████████████████████████████████████▋                                                                              | 215/591 [03:14<06:10,  1.01it/s]\u001b[A"
     ]
    },
    {
     "name": "stdout",
     "output_type": "stream",
     "text": [
      "Error analyzing audio with Gemini: 429 Too Many Requests. {'message': 'Response not read', 'status': 'Too Many Requests'}\n"
     ]
    },
    {
     "name": "stderr",
     "output_type": "stream",
     "text": [
      "\n",
      " 37%|████████████████████████████████████████████▉                                                                              | 216/591 [03:14<05:37,  1.11it/s]\u001b[A"
     ]
    },
    {
     "name": "stdout",
     "output_type": "stream",
     "text": [
      "Error analyzing audio with Gemini: 429 Too Many Requests. {'message': 'Response not read', 'status': 'Too Many Requests'}\n"
     ]
    },
    {
     "name": "stderr",
     "output_type": "stream",
     "text": [
      "\n",
      " 37%|█████████████████████████████████████████████▏                                                                             | 217/591 [03:15<05:15,  1.18it/s]\u001b[A"
     ]
    },
    {
     "name": "stdout",
     "output_type": "stream",
     "text": [
      "Error analyzing audio with Gemini: 429 Too Many Requests. {'message': 'Response not read', 'status': 'Too Many Requests'}\n"
     ]
    },
    {
     "name": "stderr",
     "output_type": "stream",
     "text": [
      "\n",
      " 37%|█████████████████████████████████████████████▎                                                                             | 218/591 [03:16<05:13,  1.19it/s]\u001b[A"
     ]
    },
    {
     "name": "stdout",
     "output_type": "stream",
     "text": [
      "Error analyzing audio with Gemini: 429 Too Many Requests. {'message': 'Response not read', 'status': 'Too Many Requests'}\n"
     ]
    },
    {
     "name": "stderr",
     "output_type": "stream",
     "text": [
      "\n",
      " 37%|█████████████████████████████████████████████▌                                                                             | 219/591 [03:17<05:23,  1.15it/s]\u001b[A"
     ]
    },
    {
     "name": "stdout",
     "output_type": "stream",
     "text": [
      "Error analyzing audio with Gemini: 429 Too Many Requests. {'message': 'Response not read', 'status': 'Too Many Requests'}\n"
     ]
    },
    {
     "name": "stderr",
     "output_type": "stream",
     "text": [
      "\n",
      " 37%|█████████████████████████████████████████████▊                                                                             | 220/591 [03:18<05:06,  1.21it/s]\u001b[A"
     ]
    },
    {
     "name": "stdout",
     "output_type": "stream",
     "text": [
      "Error analyzing audio with Gemini: 429 Too Many Requests. {'message': 'Response not read', 'status': 'Too Many Requests'}\n"
     ]
    },
    {
     "name": "stderr",
     "output_type": "stream",
     "text": [
      "\n",
      " 37%|█████████████████████████████████████████████▉                                                                             | 221/591 [03:19<05:26,  1.13it/s]\u001b[A"
     ]
    },
    {
     "name": "stdout",
     "output_type": "stream",
     "text": [
      "Error analyzing audio with Gemini: 429 Too Many Requests. {'message': 'Response not read', 'status': 'Too Many Requests'}\n"
     ]
    },
    {
     "name": "stderr",
     "output_type": "stream",
     "text": [
      "\n",
      " 38%|██████████████████████████████████████████████▏                                                                            | 222/591 [03:19<05:14,  1.17it/s]\u001b[A"
     ]
    },
    {
     "name": "stdout",
     "output_type": "stream",
     "text": [
      "Error analyzing audio with Gemini: 429 Too Many Requests. {'message': 'Response not read', 'status': 'Too Many Requests'}\n"
     ]
    },
    {
     "name": "stderr",
     "output_type": "stream",
     "text": [
      "\n",
      " 38%|██████████████████████████████████████████████▍                                                                            | 223/591 [03:20<05:01,  1.22it/s]\u001b[A"
     ]
    },
    {
     "name": "stdout",
     "output_type": "stream",
     "text": [
      "Error analyzing audio with Gemini: 429 Too Many Requests. {'message': 'Response not read', 'status': 'Too Many Requests'}\n"
     ]
    },
    {
     "name": "stderr",
     "output_type": "stream",
     "text": [
      "\n",
      " 38%|██████████████████████████████████████████████▌                                                                            | 224/591 [03:21<05:00,  1.22it/s]\u001b[A"
     ]
    },
    {
     "name": "stdout",
     "output_type": "stream",
     "text": [
      "Error analyzing audio with Gemini: 429 Too Many Requests. {'message': 'Response not read', 'status': 'Too Many Requests'}\n"
     ]
    },
    {
     "name": "stderr",
     "output_type": "stream",
     "text": [
      "\n",
      " 38%|██████████████████████████████████████████████▊                                                                            | 225/591 [03:22<05:26,  1.12it/s]\u001b[A"
     ]
    },
    {
     "name": "stdout",
     "output_type": "stream",
     "text": [
      "Error analyzing audio with Gemini: 429 Too Many Requests. {'message': 'Response not read', 'status': 'Too Many Requests'}\n"
     ]
    },
    {
     "name": "stderr",
     "output_type": "stream",
     "text": [
      "\n",
      " 38%|███████████████████████████████████████████████                                                                            | 226/591 [03:23<05:28,  1.11it/s]\u001b[A"
     ]
    },
    {
     "name": "stdout",
     "output_type": "stream",
     "text": [
      "Error analyzing audio with Gemini: 429 Too Many Requests. {'message': 'Response not read', 'status': 'Too Many Requests'}\n"
     ]
    },
    {
     "name": "stderr",
     "output_type": "stream",
     "text": [
      "\n",
      " 38%|███████████████████████████████████████████████▏                                                                           | 227/591 [03:24<05:35,  1.09it/s]\u001b[A"
     ]
    },
    {
     "name": "stdout",
     "output_type": "stream",
     "text": [
      "Error analyzing audio with Gemini: 429 Too Many Requests. {'message': 'Response not read', 'status': 'Too Many Requests'}\n"
     ]
    },
    {
     "name": "stderr",
     "output_type": "stream",
     "text": [
      "\n",
      " 39%|███████████████████████████████████████████████▍                                                                           | 228/591 [03:25<05:15,  1.15it/s]\u001b[A"
     ]
    },
    {
     "name": "stdout",
     "output_type": "stream",
     "text": [
      "Error analyzing audio with Gemini: 429 Too Many Requests. {'message': 'Response not read', 'status': 'Too Many Requests'}\n"
     ]
    },
    {
     "name": "stderr",
     "output_type": "stream",
     "text": [
      "\n",
      " 39%|███████████████████████████████████████████████▋                                                                           | 229/591 [03:26<05:07,  1.18it/s]\u001b[A"
     ]
    },
    {
     "name": "stdout",
     "output_type": "stream",
     "text": [
      "Error analyzing audio with Gemini: 429 Too Many Requests. {'message': 'Response not read', 'status': 'Too Many Requests'}\n"
     ]
    },
    {
     "name": "stderr",
     "output_type": "stream",
     "text": [
      "\n",
      " 39%|███████████████████████████████████████████████▊                                                                           | 230/591 [03:26<04:56,  1.22it/s]\u001b[A"
     ]
    },
    {
     "name": "stdout",
     "output_type": "stream",
     "text": [
      "Error analyzing audio with Gemini: 429 Too Many Requests. {'message': 'Response not read', 'status': 'Too Many Requests'}\n"
     ]
    },
    {
     "name": "stderr",
     "output_type": "stream",
     "text": [
      "\n",
      " 39%|████████████████████████████████████████████████                                                                           | 231/591 [03:27<05:01,  1.19it/s]\u001b[A"
     ]
    },
    {
     "name": "stdout",
     "output_type": "stream",
     "text": [
      "Error analyzing audio with Gemini: 429 Too Many Requests. {'message': 'Response not read', 'status': 'Too Many Requests'}\n"
     ]
    },
    {
     "name": "stderr",
     "output_type": "stream",
     "text": [
      "\n",
      " 39%|████████████████████████████████████████████████▎                                                                          | 232/591 [03:28<04:54,  1.22it/s]\u001b[A"
     ]
    },
    {
     "name": "stdout",
     "output_type": "stream",
     "text": [
      "Error analyzing audio with Gemini: 429 Too Many Requests. {'message': 'Response not read', 'status': 'Too Many Requests'}\n"
     ]
    },
    {
     "name": "stderr",
     "output_type": "stream",
     "text": [
      "\n",
      " 39%|████████████████████████████████████████████████▍                                                                          | 233/591 [03:29<04:55,  1.21it/s]\u001b[A"
     ]
    },
    {
     "name": "stdout",
     "output_type": "stream",
     "text": [
      "Error analyzing audio with Gemini: 429 Too Many Requests. {'message': 'Response not read', 'status': 'Too Many Requests'}\n"
     ]
    },
    {
     "name": "stderr",
     "output_type": "stream",
     "text": [
      "\n",
      " 40%|████████████████████████████████████████████████▋                                                                          | 234/591 [03:30<05:24,  1.10it/s]\u001b[A"
     ]
    },
    {
     "name": "stdout",
     "output_type": "stream",
     "text": [
      "Error analyzing audio with Gemini: 429 Too Many Requests. {'message': 'Response not read', 'status': 'Too Many Requests'}\n"
     ]
    },
    {
     "name": "stderr",
     "output_type": "stream",
     "text": [
      "\n",
      " 40%|████████████████████████████████████████████████▉                                                                          | 235/591 [03:31<05:23,  1.10it/s]\u001b[A"
     ]
    },
    {
     "name": "stdout",
     "output_type": "stream",
     "text": [
      "Error analyzing audio with Gemini: 429 Too Many Requests. {'message': 'Response not read', 'status': 'Too Many Requests'}\n"
     ]
    },
    {
     "name": "stderr",
     "output_type": "stream",
     "text": [
      "\n",
      " 40%|█████████████████████████████████████████████████                                                                          | 236/591 [03:32<05:23,  1.10it/s]\u001b[A"
     ]
    },
    {
     "name": "stdout",
     "output_type": "stream",
     "text": [
      "Error analyzing audio with Gemini: 429 Too Many Requests. {'message': 'Response not read', 'status': 'Too Many Requests'}\n"
     ]
    },
    {
     "name": "stderr",
     "output_type": "stream",
     "text": [
      "\n",
      " 40%|█████████████████████████████████████████████████▎                                                                         | 237/591 [03:33<05:41,  1.04it/s]\u001b[A"
     ]
    },
    {
     "name": "stdout",
     "output_type": "stream",
     "text": [
      "Error analyzing audio with Gemini: 429 Too Many Requests. {'message': 'Response not read', 'status': 'Too Many Requests'}\n"
     ]
    },
    {
     "name": "stderr",
     "output_type": "stream",
     "text": [
      "\n",
      " 40%|█████████████████████████████████████████████████▌                                                                         | 238/591 [03:34<05:34,  1.05it/s]\u001b[A"
     ]
    },
    {
     "name": "stdout",
     "output_type": "stream",
     "text": [
      "Error analyzing audio with Gemini: 429 Too Many Requests. {'message': 'Response not read', 'status': 'Too Many Requests'}\n"
     ]
    },
    {
     "name": "stderr",
     "output_type": "stream",
     "text": [
      "\n",
      " 40%|█████████████████████████████████████████████████▋                                                                         | 239/591 [03:35<05:34,  1.05it/s]\u001b[A"
     ]
    },
    {
     "name": "stdout",
     "output_type": "stream",
     "text": [
      "Error analyzing audio with Gemini: 429 Too Many Requests. {'message': 'Response not read', 'status': 'Too Many Requests'}\n"
     ]
    },
    {
     "name": "stderr",
     "output_type": "stream",
     "text": [
      "\n",
      " 41%|█████████████████████████████████████████████████▉                                                                         | 240/591 [03:36<05:41,  1.03it/s]\u001b[A"
     ]
    },
    {
     "name": "stdout",
     "output_type": "stream",
     "text": [
      "Error analyzing audio with Gemini: 429 Too Many Requests. {'message': 'Response not read', 'status': 'Too Many Requests'}\n"
     ]
    },
    {
     "name": "stderr",
     "output_type": "stream",
     "text": [
      "\n",
      " 41%|██████████████████████████████████████████████████▏                                                                        | 241/591 [03:37<05:23,  1.08it/s]\u001b[A"
     ]
    },
    {
     "name": "stdout",
     "output_type": "stream",
     "text": [
      "Error analyzing audio with Gemini: 429 Too Many Requests. {'message': 'Response not read', 'status': 'Too Many Requests'}\n"
     ]
    },
    {
     "name": "stderr",
     "output_type": "stream",
     "text": [
      "\n",
      " 41%|██████████████████████████████████████████████████▎                                                                        | 242/591 [03:37<05:12,  1.12it/s]\u001b[A"
     ]
    },
    {
     "name": "stdout",
     "output_type": "stream",
     "text": [
      "Error analyzing audio with Gemini: 429 Too Many Requests. {'message': 'Response not read', 'status': 'Too Many Requests'}\n"
     ]
    },
    {
     "name": "stderr",
     "output_type": "stream",
     "text": [
      "\n",
      " 41%|██████████████████████████████████████████████████▌                                                                        | 243/591 [03:38<05:28,  1.06it/s]\u001b[A"
     ]
    },
    {
     "name": "stdout",
     "output_type": "stream",
     "text": [
      "Error analyzing audio with Gemini: 429 Too Many Requests. {'message': 'Response not read', 'status': 'Too Many Requests'}\n"
     ]
    },
    {
     "name": "stderr",
     "output_type": "stream",
     "text": [
      "\n",
      " 41%|██████████████████████████████████████████████████▊                                                                        | 244/591 [03:39<05:12,  1.11it/s]\u001b[A"
     ]
    },
    {
     "name": "stdout",
     "output_type": "stream",
     "text": [
      "Error analyzing audio with Gemini: 429 Too Many Requests. {'message': 'Response not read', 'status': 'Too Many Requests'}\n"
     ]
    },
    {
     "name": "stderr",
     "output_type": "stream",
     "text": [
      "\n",
      " 41%|██████████████████████████████████████████████████▉                                                                        | 245/591 [03:40<04:50,  1.19it/s]\u001b[A"
     ]
    },
    {
     "name": "stdout",
     "output_type": "stream",
     "text": [
      "Error analyzing audio with Gemini: 429 Too Many Requests. {'message': 'Response not read', 'status': 'Too Many Requests'}\n"
     ]
    },
    {
     "name": "stderr",
     "output_type": "stream",
     "text": [
      "\n",
      " 42%|███████████████████████████████████████████████████▏                                                                       | 246/591 [03:41<04:48,  1.20it/s]\u001b[A"
     ]
    },
    {
     "name": "stdout",
     "output_type": "stream",
     "text": [
      "Error analyzing audio with Gemini: 429 Too Many Requests. {'message': 'Response not read', 'status': 'Too Many Requests'}\n"
     ]
    },
    {
     "name": "stderr",
     "output_type": "stream",
     "text": [
      "\n",
      " 42%|███████████████████████████████████████████████████▍                                                                       | 247/591 [03:42<04:58,  1.15it/s]\u001b[A"
     ]
    },
    {
     "name": "stdout",
     "output_type": "stream",
     "text": [
      "Error analyzing audio with Gemini: 429 Too Many Requests. {'message': 'Response not read', 'status': 'Too Many Requests'}\n"
     ]
    },
    {
     "name": "stderr",
     "output_type": "stream",
     "text": [
      "\n",
      " 42%|███████████████████████████████████████████████████▌                                                                       | 248/591 [03:43<05:01,  1.14it/s]\u001b[A"
     ]
    },
    {
     "name": "stdout",
     "output_type": "stream",
     "text": [
      "Error analyzing audio with Gemini: 429 Too Many Requests. {'message': 'Response not read', 'status': 'Too Many Requests'}\n"
     ]
    },
    {
     "name": "stderr",
     "output_type": "stream",
     "text": [
      "\n",
      " 42%|███████████████████████████████████████████████████▊                                                                       | 249/591 [03:43<04:59,  1.14it/s]\u001b[A"
     ]
    },
    {
     "name": "stdout",
     "output_type": "stream",
     "text": [
      "Error analyzing audio with Gemini: 429 Too Many Requests. {'message': 'Response not read', 'status': 'Too Many Requests'}\n"
     ]
    },
    {
     "name": "stderr",
     "output_type": "stream",
     "text": [
      "\n",
      " 42%|████████████████████████████████████████████████████                                                                       | 250/591 [03:44<04:51,  1.17it/s]\u001b[A"
     ]
    },
    {
     "name": "stdout",
     "output_type": "stream",
     "text": [
      "Error analyzing audio with Gemini: 429 Too Many Requests. {'message': 'Response not read', 'status': 'Too Many Requests'}\n"
     ]
    },
    {
     "name": "stderr",
     "output_type": "stream",
     "text": [
      "\n",
      " 42%|████████████████████████████████████████████████████▏                                                                      | 251/591 [03:45<05:03,  1.12it/s]\u001b[A"
     ]
    },
    {
     "name": "stdout",
     "output_type": "stream",
     "text": [
      "Error analyzing audio with Gemini: 429 Too Many Requests. {'message': 'Response not read', 'status': 'Too Many Requests'}\n"
     ]
    },
    {
     "name": "stderr",
     "output_type": "stream",
     "text": [
      "\n",
      " 43%|████████████████████████████████████████████████████▍                                                                      | 252/591 [03:46<04:45,  1.19it/s]\u001b[A"
     ]
    },
    {
     "name": "stdout",
     "output_type": "stream",
     "text": [
      "Error analyzing audio with Gemini: 429 Too Many Requests. {'message': 'Response not read', 'status': 'Too Many Requests'}\n"
     ]
    },
    {
     "name": "stderr",
     "output_type": "stream",
     "text": [
      "\n",
      " 43%|████████████████████████████████████████████████████▋                                                                      | 253/591 [03:47<04:45,  1.18it/s]\u001b[A"
     ]
    },
    {
     "name": "stdout",
     "output_type": "stream",
     "text": [
      "Error analyzing audio with Gemini: 429 Too Many Requests. {'message': 'Response not read', 'status': 'Too Many Requests'}\n"
     ]
    },
    {
     "name": "stderr",
     "output_type": "stream",
     "text": [
      "\n",
      " 43%|████████████████████████████████████████████████████▊                                                                      | 254/591 [03:48<04:46,  1.18it/s]\u001b[A"
     ]
    },
    {
     "name": "stdout",
     "output_type": "stream",
     "text": [
      "Error analyzing audio with Gemini: 429 Too Many Requests. {'message': 'Response not read', 'status': 'Too Many Requests'}\n"
     ]
    },
    {
     "name": "stderr",
     "output_type": "stream",
     "text": [
      "\n",
      " 43%|█████████████████████████████████████████████████████                                                                      | 255/591 [03:48<04:41,  1.20it/s]\u001b[A"
     ]
    },
    {
     "name": "stdout",
     "output_type": "stream",
     "text": [
      "Error analyzing audio with Gemini: 429 Too Many Requests. {'message': 'Response not read', 'status': 'Too Many Requests'}\n"
     ]
    },
    {
     "name": "stderr",
     "output_type": "stream",
     "text": [
      "\n",
      " 43%|█████████████████████████████████████████████████████▎                                                                     | 256/591 [03:50<05:15,  1.06it/s]\u001b[A"
     ]
    },
    {
     "name": "stdout",
     "output_type": "stream",
     "text": [
      "Error analyzing audio with Gemini: 429 Too Many Requests. {'message': 'Response not read', 'status': 'Too Many Requests'}\n"
     ]
    },
    {
     "name": "stderr",
     "output_type": "stream",
     "text": [
      "\n",
      " 43%|█████████████████████████████████████████████████████▍                                                                     | 257/591 [03:51<05:21,  1.04it/s]\u001b[A"
     ]
    },
    {
     "name": "stdout",
     "output_type": "stream",
     "text": [
      "Error analyzing audio with Gemini: 429 Too Many Requests. {'message': 'Response not read', 'status': 'Too Many Requests'}\n"
     ]
    },
    {
     "name": "stderr",
     "output_type": "stream",
     "text": [
      "\n",
      " 44%|█████████████████████████████████████████████████████▋                                                                     | 258/591 [03:51<05:05,  1.09it/s]\u001b[A"
     ]
    },
    {
     "name": "stdout",
     "output_type": "stream",
     "text": [
      "Error analyzing audio with Gemini: 429 Too Many Requests. {'message': 'Response not read', 'status': 'Too Many Requests'}\n"
     ]
    },
    {
     "name": "stderr",
     "output_type": "stream",
     "text": [
      "\n",
      " 44%|█████████████████████████████████████████████████████▉                                                                     | 259/591 [03:52<05:05,  1.09it/s]\u001b[A"
     ]
    },
    {
     "name": "stdout",
     "output_type": "stream",
     "text": [
      "Error analyzing audio with Gemini: 429 Too Many Requests. {'message': 'Response not read', 'status': 'Too Many Requests'}\n"
     ]
    },
    {
     "name": "stderr",
     "output_type": "stream",
     "text": [
      "\n",
      " 44%|██████████████████████████████████████████████████████                                                                     | 260/591 [03:53<05:08,  1.07it/s]\u001b[A"
     ]
    },
    {
     "name": "stdout",
     "output_type": "stream",
     "text": [
      "Error analyzing audio with Gemini: 429 Too Many Requests. {'message': 'Response not read', 'status': 'Too Many Requests'}\n"
     ]
    },
    {
     "name": "stderr",
     "output_type": "stream",
     "text": [
      "\n",
      " 44%|██████████████████████████████████████████████████████▎                                                                    | 261/591 [03:54<05:02,  1.09it/s]\u001b[A"
     ]
    },
    {
     "name": "stdout",
     "output_type": "stream",
     "text": [
      "Error analyzing audio with Gemini: 429 Too Many Requests. {'message': 'Response not read', 'status': 'Too Many Requests'}\n"
     ]
    },
    {
     "name": "stderr",
     "output_type": "stream",
     "text": [
      "\n",
      " 44%|██████████████████████████████████████████████████████▌                                                                    | 262/591 [03:55<04:57,  1.10it/s]\u001b[A"
     ]
    },
    {
     "name": "stdout",
     "output_type": "stream",
     "text": [
      "Error analyzing audio with Gemini: 429 Too Many Requests. {'message': 'Response not read', 'status': 'Too Many Requests'}\n"
     ]
    },
    {
     "name": "stderr",
     "output_type": "stream",
     "text": [
      "\n",
      " 45%|██████████████████████████████████████████████████████▋                                                                    | 263/591 [03:56<04:45,  1.15it/s]\u001b[A"
     ]
    },
    {
     "name": "stdout",
     "output_type": "stream",
     "text": [
      "Error analyzing audio with Gemini: 429 Too Many Requests. {'message': 'Response not read', 'status': 'Too Many Requests'}\n"
     ]
    },
    {
     "name": "stderr",
     "output_type": "stream",
     "text": [
      "\n",
      " 45%|██████████████████████████████████████████████████████▉                                                                    | 264/591 [03:57<04:36,  1.18it/s]\u001b[A"
     ]
    },
    {
     "name": "stdout",
     "output_type": "stream",
     "text": [
      "Error analyzing audio with Gemini: 429 Too Many Requests. {'message': 'Response not read', 'status': 'Too Many Requests'}\n"
     ]
    },
    {
     "name": "stderr",
     "output_type": "stream",
     "text": [
      "\n",
      " 45%|███████████████████████████████████████████████████████▏                                                                   | 265/591 [03:58<04:58,  1.09it/s]\u001b[A"
     ]
    },
    {
     "name": "stdout",
     "output_type": "stream",
     "text": [
      "Error analyzing audio with Gemini: 429 Too Many Requests. {'message': 'Response not read', 'status': 'Too Many Requests'}\n"
     ]
    },
    {
     "name": "stderr",
     "output_type": "stream",
     "text": [
      "\n",
      " 45%|███████████████████████████████████████████████████████▎                                                                   | 266/591 [03:59<04:41,  1.15it/s]\u001b[A"
     ]
    },
    {
     "name": "stdout",
     "output_type": "stream",
     "text": [
      "Error analyzing audio with Gemini: 429 Too Many Requests. {'message': 'Response not read', 'status': 'Too Many Requests'}\n"
     ]
    },
    {
     "name": "stderr",
     "output_type": "stream",
     "text": [
      "\n",
      " 45%|███████████████████████████████████████████████████████▌                                                                   | 267/591 [03:59<04:37,  1.17it/s]\u001b[A"
     ]
    },
    {
     "name": "stdout",
     "output_type": "stream",
     "text": [
      "Error analyzing audio with Gemini: 429 Too Many Requests. {'message': 'Response not read', 'status': 'Too Many Requests'}\n"
     ]
    },
    {
     "name": "stderr",
     "output_type": "stream",
     "text": [
      "\n",
      " 45%|███████████████████████████████████████████████████████▊                                                                   | 268/591 [04:00<04:32,  1.18it/s]\u001b[A"
     ]
    },
    {
     "name": "stdout",
     "output_type": "stream",
     "text": [
      "Error analyzing audio with Gemini: 429 Too Many Requests. {'message': 'Response not read', 'status': 'Too Many Requests'}\n"
     ]
    },
    {
     "name": "stderr",
     "output_type": "stream",
     "text": [
      "\n",
      " 46%|███████████████████████████████████████████████████████▉                                                                   | 269/591 [04:01<04:50,  1.11it/s]\u001b[A"
     ]
    },
    {
     "name": "stdout",
     "output_type": "stream",
     "text": [
      "Error analyzing audio with Gemini: 429 Too Many Requests. {'message': 'Response not read', 'status': 'Too Many Requests'}\n"
     ]
    },
    {
     "name": "stderr",
     "output_type": "stream",
     "text": [
      "\n",
      " 46%|████████████████████████████████████████████████████████▏                                                                  | 270/591 [04:02<04:42,  1.14it/s]\u001b[A"
     ]
    },
    {
     "name": "stdout",
     "output_type": "stream",
     "text": [
      "Error analyzing audio with Gemini: 429 Too Many Requests. {'message': 'Response not read', 'status': 'Too Many Requests'}\n"
     ]
    },
    {
     "name": "stderr",
     "output_type": "stream",
     "text": [
      "\n",
      " 46%|████████████████████████████████████████████████████████▍                                                                  | 271/591 [04:03<04:30,  1.18it/s]\u001b[A"
     ]
    },
    {
     "name": "stdout",
     "output_type": "stream",
     "text": [
      "Error analyzing audio with Gemini: 429 Too Many Requests. {'message': 'Response not read', 'status': 'Too Many Requests'}\n"
     ]
    },
    {
     "name": "stderr",
     "output_type": "stream",
     "text": [
      "\n",
      " 46%|████████████████████████████████████████████████████████▌                                                                  | 272/591 [04:04<04:29,  1.18it/s]\u001b[A"
     ]
    },
    {
     "name": "stdout",
     "output_type": "stream",
     "text": [
      "Error analyzing audio with Gemini: 429 Too Many Requests. {'message': 'Response not read', 'status': 'Too Many Requests'}\n"
     ]
    },
    {
     "name": "stderr",
     "output_type": "stream",
     "text": [
      "\n",
      " 46%|████████████████████████████████████████████████████████▊                                                                  | 273/591 [04:04<04:24,  1.20it/s]\u001b[A"
     ]
    },
    {
     "name": "stdout",
     "output_type": "stream",
     "text": [
      "Error analyzing audio with Gemini: 429 Too Many Requests. {'message': 'Response not read', 'status': 'Too Many Requests'}\n"
     ]
    },
    {
     "name": "stderr",
     "output_type": "stream",
     "text": [
      "\n",
      " 46%|█████████████████████████████████████████████████████████                                                                  | 274/591 [04:05<04:19,  1.22it/s]\u001b[A"
     ]
    },
    {
     "name": "stdout",
     "output_type": "stream",
     "text": [
      "Error analyzing audio with Gemini: 429 Too Many Requests. {'message': 'Response not read', 'status': 'Too Many Requests'}\n"
     ]
    },
    {
     "name": "stderr",
     "output_type": "stream",
     "text": [
      "\n",
      " 47%|█████████████████████████████████████████████████████████▏                                                                 | 275/591 [04:06<04:25,  1.19it/s]\u001b[A"
     ]
    },
    {
     "name": "stdout",
     "output_type": "stream",
     "text": [
      "Error analyzing audio with Gemini: 429 Too Many Requests. {'message': 'Response not read', 'status': 'Too Many Requests'}\n"
     ]
    },
    {
     "name": "stderr",
     "output_type": "stream",
     "text": [
      "\n",
      " 47%|█████████████████████████████████████████████████████████▍                                                                 | 276/591 [04:07<04:31,  1.16it/s]\u001b[A"
     ]
    },
    {
     "name": "stdout",
     "output_type": "stream",
     "text": [
      "Error analyzing audio with Gemini: 429 Too Many Requests. {'message': 'Response not read', 'status': 'Too Many Requests'}\n"
     ]
    },
    {
     "name": "stderr",
     "output_type": "stream",
     "text": [
      "\n",
      " 47%|█████████████████████████████████████████████████████████▋                                                                 | 277/591 [04:08<04:27,  1.17it/s]\u001b[A"
     ]
    },
    {
     "name": "stdout",
     "output_type": "stream",
     "text": [
      "Error analyzing audio with Gemini: 429 Too Many Requests. {'message': 'Response not read', 'status': 'Too Many Requests'}\n"
     ]
    },
    {
     "name": "stderr",
     "output_type": "stream",
     "text": [
      "\n",
      " 47%|█████████████████████████████████████████████████████████▊                                                                 | 278/591 [04:09<04:46,  1.09it/s]\u001b[A"
     ]
    },
    {
     "name": "stdout",
     "output_type": "stream",
     "text": [
      "Error analyzing audio with Gemini: 429 Too Many Requests. {'message': 'Response not read', 'status': 'Too Many Requests'}\n"
     ]
    },
    {
     "name": "stderr",
     "output_type": "stream",
     "text": [
      "\n",
      " 47%|██████████████████████████████████████████████████████████                                                                 | 279/591 [04:10<04:44,  1.10it/s]\u001b[A"
     ]
    },
    {
     "name": "stdout",
     "output_type": "stream",
     "text": [
      "Error analyzing audio with Gemini: 429 Too Many Requests. {'message': 'Response not read', 'status': 'Too Many Requests'}\n"
     ]
    },
    {
     "name": "stderr",
     "output_type": "stream",
     "text": [
      "\n",
      " 47%|██████████████████████████████████████████████████████████▎                                                                | 280/591 [04:11<04:24,  1.18it/s]\u001b[A"
     ]
    },
    {
     "name": "stdout",
     "output_type": "stream",
     "text": [
      "Error analyzing audio with Gemini: 429 Too Many Requests. {'message': 'Response not read', 'status': 'Too Many Requests'}\n"
     ]
    },
    {
     "name": "stderr",
     "output_type": "stream",
     "text": [
      "\n",
      " 48%|██████████████████████████████████████████████████████████▍                                                                | 281/591 [04:11<04:17,  1.20it/s]\u001b[A"
     ]
    },
    {
     "name": "stdout",
     "output_type": "stream",
     "text": [
      "Error analyzing audio with Gemini: 429 Too Many Requests. {'message': 'Response not read', 'status': 'Too Many Requests'}\n"
     ]
    },
    {
     "name": "stderr",
     "output_type": "stream",
     "text": [
      "\n",
      " 48%|██████████████████████████████████████████████████████████▋                                                                | 282/591 [04:12<04:33,  1.13it/s]\u001b[A"
     ]
    },
    {
     "name": "stdout",
     "output_type": "stream",
     "text": [
      "Error analyzing audio with Gemini: 429 Too Many Requests. {'message': 'Response not read', 'status': 'Too Many Requests'}\n"
     ]
    },
    {
     "name": "stderr",
     "output_type": "stream",
     "text": [
      "\n",
      " 48%|██████████████████████████████████████████████████████████▉                                                                | 283/591 [04:13<04:19,  1.19it/s]\u001b[A"
     ]
    },
    {
     "name": "stdout",
     "output_type": "stream",
     "text": [
      "Error analyzing audio with Gemini: 429 Too Many Requests. {'message': 'Response not read', 'status': 'Too Many Requests'}\n"
     ]
    },
    {
     "name": "stderr",
     "output_type": "stream",
     "text": [
      "\n",
      " 48%|███████████████████████████████████████████████████████████                                                                | 284/591 [04:14<04:17,  1.19it/s]\u001b[A"
     ]
    },
    {
     "name": "stdout",
     "output_type": "stream",
     "text": [
      "Error analyzing audio with Gemini: 429 Too Many Requests. {'message': 'Response not read', 'status': 'Too Many Requests'}\n"
     ]
    },
    {
     "name": "stderr",
     "output_type": "stream",
     "text": [
      "\n",
      " 48%|███████████████████████████████████████████████████████████▎                                                               | 285/591 [04:15<04:24,  1.16it/s]\u001b[A"
     ]
    },
    {
     "name": "stdout",
     "output_type": "stream",
     "text": [
      "Error analyzing audio with Gemini: 429 Too Many Requests. {'message': 'Response not read', 'status': 'Too Many Requests'}\n"
     ]
    },
    {
     "name": "stderr",
     "output_type": "stream",
     "text": [
      "\n",
      " 48%|███████████████████████████████████████████████████████████▌                                                               | 286/591 [04:16<04:37,  1.10it/s]\u001b[A"
     ]
    },
    {
     "name": "stdout",
     "output_type": "stream",
     "text": [
      "Error analyzing audio with Gemini: 429 Too Many Requests. {'message': 'Response not read', 'status': 'Too Many Requests'}\n"
     ]
    },
    {
     "name": "stderr",
     "output_type": "stream",
     "text": [
      "\n",
      " 49%|███████████████████████████████████████████████████████████▋                                                               | 287/591 [04:17<04:31,  1.12it/s]\u001b[A"
     ]
    },
    {
     "name": "stdout",
     "output_type": "stream",
     "text": [
      "Error analyzing audio with Gemini: 429 Too Many Requests. {'message': 'Response not read', 'status': 'Too Many Requests'}\n"
     ]
    },
    {
     "name": "stderr",
     "output_type": "stream",
     "text": [
      "\n",
      " 49%|███████████████████████████████████████████████████████████▉                                                               | 288/591 [04:18<04:38,  1.09it/s]\u001b[A"
     ]
    },
    {
     "name": "stdout",
     "output_type": "stream",
     "text": [
      "Error analyzing audio with Gemini: 429 Too Many Requests. {'message': 'Response not read', 'status': 'Too Many Requests'}\n"
     ]
    },
    {
     "name": "stderr",
     "output_type": "stream",
     "text": [
      "\n",
      " 49%|████████████████████████████████████████████████████████████▏                                                              | 289/591 [04:18<04:24,  1.14it/s]\u001b[A"
     ]
    },
    {
     "name": "stdout",
     "output_type": "stream",
     "text": [
      "Error analyzing audio with Gemini: 429 Too Many Requests. {'message': 'Response not read', 'status': 'Too Many Requests'}\n"
     ]
    },
    {
     "name": "stderr",
     "output_type": "stream",
     "text": [
      "\n",
      " 49%|████████████████████████████████████████████████████████████▎                                                              | 290/591 [04:19<04:16,  1.17it/s]\u001b[A"
     ]
    },
    {
     "name": "stdout",
     "output_type": "stream",
     "text": [
      "Error analyzing audio with Gemini: 429 Too Many Requests. {'message': 'Response not read', 'status': 'Too Many Requests'}\n"
     ]
    },
    {
     "name": "stderr",
     "output_type": "stream",
     "text": [
      "\n",
      " 49%|████████████████████████████████████████████████████████████▌                                                              | 291/591 [04:20<04:31,  1.10it/s]\u001b[A"
     ]
    },
    {
     "name": "stdout",
     "output_type": "stream",
     "text": [
      "Error analyzing audio with Gemini: 429 Too Many Requests. {'message': 'Response not read', 'status': 'Too Many Requests'}\n"
     ]
    },
    {
     "name": "stderr",
     "output_type": "stream",
     "text": [
      "\n",
      " 49%|████████████████████████████████████████████████████████████▊                                                              | 292/591 [04:21<04:29,  1.11it/s]\u001b[A"
     ]
    },
    {
     "name": "stdout",
     "output_type": "stream",
     "text": [
      "Error analyzing audio with Gemini: 429 Too Many Requests. {'message': 'Response not read', 'status': 'Too Many Requests'}\n"
     ]
    },
    {
     "name": "stderr",
     "output_type": "stream",
     "text": [
      "\n",
      " 50%|████████████████████████████████████████████████████████████▉                                                              | 293/591 [04:22<04:30,  1.10it/s]\u001b[A"
     ]
    },
    {
     "name": "stdout",
     "output_type": "stream",
     "text": [
      "Error analyzing audio with Gemini: 429 Too Many Requests. {'message': 'Response not read', 'status': 'Too Many Requests'}\n"
     ]
    },
    {
     "name": "stderr",
     "output_type": "stream",
     "text": [
      "\n",
      " 50%|█████████████████████████████████████████████████████████████▏                                                             | 294/591 [04:23<04:32,  1.09it/s]\u001b[A"
     ]
    },
    {
     "name": "stdout",
     "output_type": "stream",
     "text": [
      "Error analyzing audio with Gemini: 429 Too Many Requests. {'message': 'Response not read', 'status': 'Too Many Requests'}\n"
     ]
    },
    {
     "name": "stderr",
     "output_type": "stream",
     "text": [
      "\n",
      " 50%|█████████████████████████████████████████████████████████████▍                                                             | 295/591 [04:24<04:27,  1.11it/s]\u001b[A"
     ]
    },
    {
     "name": "stdout",
     "output_type": "stream",
     "text": [
      "Error analyzing audio with Gemini: 429 Too Many Requests. {'message': 'Response not read', 'status': 'Too Many Requests'}\n"
     ]
    },
    {
     "name": "stderr",
     "output_type": "stream",
     "text": [
      "\n",
      " 50%|█████████████████████████████████████████████████████████████▌                                                             | 296/591 [04:25<04:17,  1.15it/s]\u001b[A"
     ]
    },
    {
     "name": "stdout",
     "output_type": "stream",
     "text": [
      "Error analyzing audio with Gemini: 429 Too Many Requests. {'message': 'Response not read', 'status': 'Too Many Requests'}\n"
     ]
    },
    {
     "name": "stderr",
     "output_type": "stream",
     "text": [
      "\n",
      " 50%|█████████████████████████████████████████████████████████████▊                                                             | 297/591 [04:26<04:23,  1.11it/s]\u001b[A"
     ]
    },
    {
     "name": "stdout",
     "output_type": "stream",
     "text": [
      "Error analyzing audio with Gemini: 429 Too Many Requests. {'message': 'Response not read', 'status': 'Too Many Requests'}\n"
     ]
    },
    {
     "name": "stderr",
     "output_type": "stream",
     "text": [
      "\n",
      " 50%|██████████████████████████████████████████████████████████████                                                             | 298/591 [04:26<04:15,  1.15it/s]\u001b[A"
     ]
    },
    {
     "name": "stdout",
     "output_type": "stream",
     "text": [
      "Error analyzing audio with Gemini: 429 Too Many Requests. {'message': 'Response not read', 'status': 'Too Many Requests'}\n"
     ]
    },
    {
     "name": "stderr",
     "output_type": "stream",
     "text": [
      "\n",
      " 51%|██████████████████████████████████████████████████████████████▏                                                            | 299/591 [04:27<04:12,  1.16it/s]\u001b[A"
     ]
    },
    {
     "name": "stdout",
     "output_type": "stream",
     "text": [
      "Error analyzing audio with Gemini: 429 Too Many Requests. {'message': 'Response not read', 'status': 'Too Many Requests'}\n"
     ]
    },
    {
     "name": "stderr",
     "output_type": "stream",
     "text": [
      "\n",
      " 51%|██████████████████████████████████████████████████████████████▍                                                            | 300/591 [04:28<04:16,  1.13it/s]\u001b[A"
     ]
    },
    {
     "name": "stdout",
     "output_type": "stream",
     "text": [
      "Error analyzing audio with Gemini: 429 Too Many Requests. {'message': 'Response not read', 'status': 'Too Many Requests'}\n"
     ]
    },
    {
     "name": "stderr",
     "output_type": "stream",
     "text": [
      "\n",
      " 51%|██████████████████████████████████████████████████████████████▋                                                            | 301/591 [04:29<04:10,  1.16it/s]\u001b[A"
     ]
    },
    {
     "name": "stdout",
     "output_type": "stream",
     "text": [
      "Error analyzing audio with Gemini: 429 Too Many Requests. {'message': 'Response not read', 'status': 'Too Many Requests'}\n"
     ]
    },
    {
     "name": "stderr",
     "output_type": "stream",
     "text": [
      "\n",
      " 51%|██████████████████████████████████████████████████████████████▊                                                            | 302/591 [04:30<04:40,  1.03it/s]\u001b[A"
     ]
    },
    {
     "name": "stdout",
     "output_type": "stream",
     "text": [
      "Error analyzing audio with Gemini: 429 Too Many Requests. {'message': 'Response not read', 'status': 'Too Many Requests'}\n"
     ]
    },
    {
     "name": "stderr",
     "output_type": "stream",
     "text": [
      "\n",
      " 51%|███████████████████████████████████████████████████████████████                                                            | 303/591 [04:31<04:24,  1.09it/s]\u001b[A"
     ]
    },
    {
     "name": "stdout",
     "output_type": "stream",
     "text": [
      "Error analyzing audio with Gemini: 429 Too Many Requests. {'message': 'Response not read', 'status': 'Too Many Requests'}\n"
     ]
    },
    {
     "name": "stderr",
     "output_type": "stream",
     "text": [
      "\n",
      " 51%|███████████████████████████████████████████████████████████████▎                                                           | 304/591 [04:32<04:26,  1.08it/s]\u001b[A"
     ]
    },
    {
     "name": "stdout",
     "output_type": "stream",
     "text": [
      "Error analyzing audio with Gemini: 429 Too Many Requests. {'message': 'Response not read', 'status': 'Too Many Requests'}\n"
     ]
    },
    {
     "name": "stderr",
     "output_type": "stream",
     "text": [
      "\n",
      " 52%|███████████████████████████████████████████████████████████████▍                                                           | 305/591 [04:33<04:18,  1.11it/s]\u001b[A"
     ]
    },
    {
     "name": "stdout",
     "output_type": "stream",
     "text": [
      "Error analyzing audio with Gemini: 429 Too Many Requests. {'message': 'Response not read', 'status': 'Too Many Requests'}\n"
     ]
    },
    {
     "name": "stderr",
     "output_type": "stream",
     "text": [
      "\n",
      " 52%|███████████████████████████████████████████████████████████████▋                                                           | 306/591 [04:34<04:24,  1.08it/s]\u001b[A"
     ]
    },
    {
     "name": "stdout",
     "output_type": "stream",
     "text": [
      "Error analyzing audio with Gemini: 429 Too Many Requests. {'message': 'Response not read', 'status': 'Too Many Requests'}\n"
     ]
    },
    {
     "name": "stderr",
     "output_type": "stream",
     "text": [
      "\n",
      " 52%|███████████████████████████████████████████████████████████████▉                                                           | 307/591 [04:35<04:22,  1.08it/s]\u001b[A"
     ]
    },
    {
     "name": "stdout",
     "output_type": "stream",
     "text": [
      "Error analyzing audio with Gemini: 429 Too Many Requests. {'message': 'Response not read', 'status': 'Too Many Requests'}\n"
     ]
    },
    {
     "name": "stderr",
     "output_type": "stream",
     "text": [
      "\n",
      " 52%|████████████████████████████████████████████████████████████████                                                           | 308/591 [04:36<04:29,  1.05it/s]\u001b[A"
     ]
    },
    {
     "name": "stdout",
     "output_type": "stream",
     "text": [
      "Error analyzing audio with Gemini: 429 Too Many Requests. {'message': 'Response not read', 'status': 'Too Many Requests'}\n"
     ]
    },
    {
     "name": "stderr",
     "output_type": "stream",
     "text": [
      "\n",
      " 52%|████████████████████████████████████████████████████████████████▎                                                          | 309/591 [04:37<04:23,  1.07it/s]\u001b[A"
     ]
    },
    {
     "name": "stdout",
     "output_type": "stream",
     "text": [
      "Error analyzing audio with Gemini: 429 Too Many Requests. {'message': 'Response not read', 'status': 'Too Many Requests'}\n"
     ]
    },
    {
     "name": "stderr",
     "output_type": "stream",
     "text": [
      "\n",
      " 52%|████████████████████████████████████████████████████████████████▌                                                          | 310/591 [04:38<04:19,  1.08it/s]\u001b[A"
     ]
    },
    {
     "name": "stdout",
     "output_type": "stream",
     "text": [
      "Error analyzing audio with Gemini: 429 Too Many Requests. {'message': 'Response not read', 'status': 'Too Many Requests'}\n"
     ]
    },
    {
     "name": "stderr",
     "output_type": "stream",
     "text": [
      "\n",
      " 53%|████████████████████████████████████████████████████████████████▋                                                          | 311/591 [04:38<03:57,  1.18it/s]\u001b[A"
     ]
    },
    {
     "name": "stdout",
     "output_type": "stream",
     "text": [
      "Error analyzing audio with Gemini: 429 Too Many Requests. {'message': 'Response not read', 'status': 'Too Many Requests'}\n"
     ]
    },
    {
     "name": "stderr",
     "output_type": "stream",
     "text": [
      "\n",
      " 53%|████████████████████████████████████████████████████████████████▉                                                          | 312/591 [04:39<04:02,  1.15it/s]\u001b[A"
     ]
    },
    {
     "name": "stdout",
     "output_type": "stream",
     "text": [
      "Error analyzing audio with Gemini: 429 Too Many Requests. {'message': 'Response not read', 'status': 'Too Many Requests'}\n"
     ]
    },
    {
     "name": "stderr",
     "output_type": "stream",
     "text": [
      "\n",
      " 53%|█████████████████████████████████████████████████████████████████▏                                                         | 313/591 [04:40<04:12,  1.10it/s]\u001b[A"
     ]
    },
    {
     "name": "stdout",
     "output_type": "stream",
     "text": [
      "Error analyzing audio with Gemini: 429 Too Many Requests. {'message': 'Response not read', 'status': 'Too Many Requests'}\n"
     ]
    },
    {
     "name": "stderr",
     "output_type": "stream",
     "text": [
      "\n",
      " 53%|█████████████████████████████████████████████████████████████████▎                                                         | 314/591 [04:41<04:15,  1.09it/s]\u001b[A"
     ]
    },
    {
     "name": "stdout",
     "output_type": "stream",
     "text": [
      "Error analyzing audio with Gemini: 429 Too Many Requests. {'message': 'Response not read', 'status': 'Too Many Requests'}\n"
     ]
    },
    {
     "name": "stderr",
     "output_type": "stream",
     "text": [
      "\n",
      " 53%|█████████████████████████████████████████████████████████████████▌                                                         | 315/591 [04:42<04:15,  1.08it/s]\u001b[A"
     ]
    },
    {
     "name": "stdout",
     "output_type": "stream",
     "text": [
      "Error analyzing audio with Gemini: 429 Too Many Requests. {'message': 'Response not read', 'status': 'Too Many Requests'}\n"
     ]
    },
    {
     "name": "stderr",
     "output_type": "stream",
     "text": [
      "\n",
      " 53%|█████████████████████████████████████████████████████████████████▊                                                         | 316/591 [04:43<04:18,  1.06it/s]\u001b[A"
     ]
    },
    {
     "name": "stdout",
     "output_type": "stream",
     "text": [
      "Error analyzing audio with Gemini: 429 Too Many Requests. {'message': 'Response not read', 'status': 'Too Many Requests'}\n"
     ]
    },
    {
     "name": "stderr",
     "output_type": "stream",
     "text": [
      "\n",
      " 54%|█████████████████████████████████████████████████████████████████▉                                                         | 317/591 [04:44<04:00,  1.14it/s]\u001b[A"
     ]
    },
    {
     "name": "stdout",
     "output_type": "stream",
     "text": [
      "Error analyzing audio with Gemini: 429 Too Many Requests. {'message': 'Response not read', 'status': 'Too Many Requests'}\n"
     ]
    },
    {
     "name": "stderr",
     "output_type": "stream",
     "text": [
      "\n",
      " 54%|██████████████████████████████████████████████████████████████████▏                                                        | 318/591 [04:45<03:53,  1.17it/s]\u001b[A"
     ]
    },
    {
     "name": "stdout",
     "output_type": "stream",
     "text": [
      "Error analyzing audio with Gemini: 429 Too Many Requests. {'message': 'Response not read', 'status': 'Too Many Requests'}\n"
     ]
    },
    {
     "name": "stderr",
     "output_type": "stream",
     "text": [
      "\n",
      " 54%|██████████████████████████████████████████████████████████████████▍                                                        | 319/591 [04:46<04:02,  1.12it/s]\u001b[A"
     ]
    },
    {
     "name": "stdout",
     "output_type": "stream",
     "text": [
      "Error analyzing audio with Gemini: 429 Too Many Requests. {'message': 'Response not read', 'status': 'Too Many Requests'}\n"
     ]
    },
    {
     "name": "stderr",
     "output_type": "stream",
     "text": [
      "\n",
      " 54%|██████████████████████████████████████████████████████████████████▌                                                        | 320/591 [04:46<04:02,  1.12it/s]\u001b[A"
     ]
    },
    {
     "name": "stdout",
     "output_type": "stream",
     "text": [
      "Error analyzing audio with Gemini: 429 Too Many Requests. {'message': 'Response not read', 'status': 'Too Many Requests'}\n"
     ]
    },
    {
     "name": "stderr",
     "output_type": "stream",
     "text": [
      "\n",
      " 54%|██████████████████████████████████████████████████████████████████▊                                                        | 321/591 [04:47<03:55,  1.15it/s]\u001b[A"
     ]
    },
    {
     "name": "stdout",
     "output_type": "stream",
     "text": [
      "Error analyzing audio with Gemini: 429 Too Many Requests. {'message': 'Response not read', 'status': 'Too Many Requests'}\n"
     ]
    },
    {
     "name": "stderr",
     "output_type": "stream",
     "text": [
      "\n",
      " 54%|███████████████████████████████████████████████████████████████████                                                        | 322/591 [04:48<03:40,  1.22it/s]\u001b[A"
     ]
    },
    {
     "name": "stdout",
     "output_type": "stream",
     "text": [
      "Error analyzing audio with Gemini: 429 Too Many Requests. {'message': 'Response not read', 'status': 'Too Many Requests'}\n"
     ]
    },
    {
     "name": "stderr",
     "output_type": "stream",
     "text": [
      "\n",
      " 55%|███████████████████████████████████████████████████████████████████▏                                                       | 323/591 [04:49<03:49,  1.17it/s]\u001b[A"
     ]
    },
    {
     "name": "stdout",
     "output_type": "stream",
     "text": [
      "Error analyzing audio with Gemini: 429 Too Many Requests. {'message': 'Response not read', 'status': 'Too Many Requests'}\n"
     ]
    },
    {
     "name": "stderr",
     "output_type": "stream",
     "text": [
      "\n",
      " 55%|███████████████████████████████████████████████████████████████████▍                                                       | 324/591 [04:50<04:00,  1.11it/s]\u001b[A"
     ]
    },
    {
     "name": "stdout",
     "output_type": "stream",
     "text": [
      "Error analyzing audio with Gemini: 429 Too Many Requests. {'message': 'Response not read', 'status': 'Too Many Requests'}\n"
     ]
    },
    {
     "name": "stderr",
     "output_type": "stream",
     "text": [
      "\n",
      " 55%|███████████████████████████████████████████████████████████████████▋                                                       | 325/591 [04:51<04:04,  1.09it/s]\u001b[A"
     ]
    },
    {
     "name": "stdout",
     "output_type": "stream",
     "text": [
      "Error analyzing audio with Gemini: 429 Too Many Requests. {'message': 'Response not read', 'status': 'Too Many Requests'}\n"
     ]
    },
    {
     "name": "stderr",
     "output_type": "stream",
     "text": [
      "\n",
      " 55%|███████████████████████████████████████████████████████████████████▊                                                       | 326/591 [04:52<04:02,  1.09it/s]\u001b[A"
     ]
    },
    {
     "name": "stdout",
     "output_type": "stream",
     "text": [
      "Error analyzing audio with Gemini: 429 Too Many Requests. {'message': 'Response not read', 'status': 'Too Many Requests'}\n"
     ]
    },
    {
     "name": "stderr",
     "output_type": "stream",
     "text": [
      "\n",
      " 55%|████████████████████████████████████████████████████████████████████                                                       | 327/591 [04:53<04:05,  1.07it/s]\u001b[A"
     ]
    },
    {
     "name": "stdout",
     "output_type": "stream",
     "text": [
      "Error analyzing audio with Gemini: 429 Too Many Requests. {'message': 'Response not read', 'status': 'Too Many Requests'}\n"
     ]
    },
    {
     "name": "stderr",
     "output_type": "stream",
     "text": [
      "\n",
      " 55%|████████████████████████████████████████████████████████████████████▎                                                      | 328/591 [04:54<04:08,  1.06it/s]\u001b[A"
     ]
    },
    {
     "name": "stdout",
     "output_type": "stream",
     "text": [
      "Error analyzing audio with Gemini: 429 Too Many Requests. {'message': 'Response not read', 'status': 'Too Many Requests'}\n"
     ]
    },
    {
     "name": "stderr",
     "output_type": "stream",
     "text": [
      "\n",
      " 56%|████████████████████████████████████████████████████████████████████▍                                                      | 329/591 [04:55<03:58,  1.10it/s]\u001b[A"
     ]
    },
    {
     "name": "stdout",
     "output_type": "stream",
     "text": [
      "Error analyzing audio with Gemini: 429 Too Many Requests. {'message': 'Response not read', 'status': 'Too Many Requests'}\n"
     ]
    },
    {
     "name": "stderr",
     "output_type": "stream",
     "text": [
      "\n",
      " 56%|████████████████████████████████████████████████████████████████████▋                                                      | 330/591 [04:56<04:00,  1.09it/s]\u001b[A"
     ]
    },
    {
     "name": "stdout",
     "output_type": "stream",
     "text": [
      "Error analyzing audio with Gemini: 429 Too Many Requests. {'message': 'Response not read', 'status': 'Too Many Requests'}\n"
     ]
    },
    {
     "name": "stderr",
     "output_type": "stream",
     "text": [
      "\n",
      " 56%|████████████████████████████████████████████████████████████████████▉                                                      | 331/591 [04:56<04:02,  1.07it/s]\u001b[A"
     ]
    },
    {
     "name": "stdout",
     "output_type": "stream",
     "text": [
      "Error analyzing audio with Gemini: 429 Too Many Requests. {'message': 'Response not read', 'status': 'Too Many Requests'}\n"
     ]
    },
    {
     "name": "stderr",
     "output_type": "stream",
     "text": [
      "\n",
      " 56%|█████████████████████████████████████████████████████████████████████                                                      | 332/591 [04:57<04:03,  1.06it/s]\u001b[A"
     ]
    },
    {
     "name": "stdout",
     "output_type": "stream",
     "text": [
      "Error analyzing audio with Gemini: 429 Too Many Requests. {'message': 'Response not read', 'status': 'Too Many Requests'}\n"
     ]
    },
    {
     "name": "stderr",
     "output_type": "stream",
     "text": [
      "\n",
      " 56%|█████████████████████████████████████████████████████████████████████▎                                                     | 333/591 [04:58<03:57,  1.09it/s]\u001b[A"
     ]
    },
    {
     "name": "stdout",
     "output_type": "stream",
     "text": [
      "Error analyzing audio with Gemini: 429 Too Many Requests. {'message': 'Response not read', 'status': 'Too Many Requests'}\n"
     ]
    },
    {
     "name": "stderr",
     "output_type": "stream",
     "text": [
      "\n",
      " 57%|█████████████████████████████████████████████████████████████████████▌                                                     | 334/591 [04:59<03:59,  1.07it/s]\u001b[A"
     ]
    },
    {
     "name": "stdout",
     "output_type": "stream",
     "text": [
      "Error analyzing audio with Gemini: 429 Too Many Requests. {'message': 'Response not read', 'status': 'Too Many Requests'}\n"
     ]
    },
    {
     "name": "stderr",
     "output_type": "stream",
     "text": [
      "\n",
      " 57%|█████████████████████████████████████████████████████████████████████▋                                                     | 335/591 [05:00<03:49,  1.12it/s]\u001b[A"
     ]
    },
    {
     "name": "stdout",
     "output_type": "stream",
     "text": [
      "Error analyzing audio with Gemini: 429 Too Many Requests. {'message': 'Response not read', 'status': 'Too Many Requests'}\n"
     ]
    },
    {
     "name": "stderr",
     "output_type": "stream",
     "text": [
      "\n",
      " 57%|█████████████████████████████████████████████████████████████████████▉                                                     | 336/591 [05:01<03:54,  1.09it/s]\u001b[A"
     ]
    },
    {
     "name": "stdout",
     "output_type": "stream",
     "text": [
      "Error analyzing audio with Gemini: 429 Too Many Requests. {'message': 'Response not read', 'status': 'Too Many Requests'}\n"
     ]
    },
    {
     "name": "stderr",
     "output_type": "stream",
     "text": [
      "\n",
      " 57%|██████████████████████████████████████████████████████████████████████▏                                                    | 337/591 [05:02<03:41,  1.15it/s]\u001b[A"
     ]
    },
    {
     "name": "stdout",
     "output_type": "stream",
     "text": [
      "Error analyzing audio with Gemini: 429 Too Many Requests. {'message': 'Response not read', 'status': 'Too Many Requests'}\n"
     ]
    },
    {
     "name": "stderr",
     "output_type": "stream",
     "text": [
      "\n",
      " 57%|██████████████████████████████████████████████████████████████████████▎                                                    | 338/591 [05:03<03:53,  1.08it/s]\u001b[A"
     ]
    },
    {
     "name": "stdout",
     "output_type": "stream",
     "text": [
      "Error analyzing audio with Gemini: 429 Too Many Requests. {'message': 'Response not read', 'status': 'Too Many Requests'}\n"
     ]
    },
    {
     "name": "stderr",
     "output_type": "stream",
     "text": [
      "\n",
      " 57%|██████████████████████████████████████████████████████████████████████▌                                                    | 339/591 [05:04<03:53,  1.08it/s]\u001b[A"
     ]
    },
    {
     "name": "stdout",
     "output_type": "stream",
     "text": [
      "Error analyzing audio with Gemini: 429 Too Many Requests. {'message': 'Response not read', 'status': 'Too Many Requests'}\n"
     ]
    },
    {
     "name": "stderr",
     "output_type": "stream",
     "text": [
      "\n",
      " 58%|██████████████████████████████████████████████████████████████████████▊                                                    | 340/591 [05:05<04:06,  1.02it/s]\u001b[A"
     ]
    },
    {
     "name": "stdout",
     "output_type": "stream",
     "text": [
      "Error analyzing audio with Gemini: 429 Too Many Requests. {'message': 'Response not read', 'status': 'Too Many Requests'}\n"
     ]
    },
    {
     "name": "stderr",
     "output_type": "stream",
     "text": [
      "\n",
      " 58%|██████████████████████████████████████████████████████████████████████▉                                                    | 341/591 [05:06<04:05,  1.02it/s]\u001b[A"
     ]
    },
    {
     "name": "stdout",
     "output_type": "stream",
     "text": [
      "Error analyzing audio with Gemini: 429 Too Many Requests. {'message': 'Response not read', 'status': 'Too Many Requests'}\n"
     ]
    },
    {
     "name": "stderr",
     "output_type": "stream",
     "text": [
      "\n",
      " 58%|███████████████████████████████████████████████████████████████████████▏                                                   | 342/591 [05:07<04:08,  1.00it/s]\u001b[A"
     ]
    },
    {
     "name": "stdout",
     "output_type": "stream",
     "text": [
      "Error analyzing audio with Gemini: 429 Too Many Requests. {'message': 'Response not read', 'status': 'Too Many Requests'}\n"
     ]
    },
    {
     "name": "stderr",
     "output_type": "stream",
     "text": [
      "\n",
      " 58%|███████████████████████████████████████████████████████████████████████▍                                                   | 343/591 [05:08<04:04,  1.01it/s]\u001b[A"
     ]
    },
    {
     "name": "stdout",
     "output_type": "stream",
     "text": [
      "Error analyzing audio with Gemini: 429 Too Many Requests. {'message': 'Response not read', 'status': 'Too Many Requests'}\n"
     ]
    },
    {
     "name": "stderr",
     "output_type": "stream",
     "text": [
      "\n",
      " 58%|███████████████████████████████████████████████████████████████████████▌                                                   | 344/591 [05:09<03:58,  1.04it/s]\u001b[A"
     ]
    },
    {
     "name": "stdout",
     "output_type": "stream",
     "text": [
      "Error analyzing audio with Gemini: 429 Too Many Requests. {'message': 'Response not read', 'status': 'Too Many Requests'}\n"
     ]
    },
    {
     "name": "stderr",
     "output_type": "stream",
     "text": [
      "\n",
      " 58%|███████████████████████████████████████████████████████████████████████▊                                                   | 345/591 [05:10<03:50,  1.07it/s]\u001b[A"
     ]
    },
    {
     "name": "stdout",
     "output_type": "stream",
     "text": [
      "Error analyzing audio with Gemini: 429 Too Many Requests. {'message': 'Response not read', 'status': 'Too Many Requests'}\n"
     ]
    },
    {
     "name": "stderr",
     "output_type": "stream",
     "text": [
      "\n",
      " 59%|████████████████████████████████████████████████████████████████████████                                                   | 346/591 [05:11<03:44,  1.09it/s]\u001b[A"
     ]
    },
    {
     "name": "stdout",
     "output_type": "stream",
     "text": [
      "Error analyzing audio with Gemini: 429 Too Many Requests. {'message': 'Response not read', 'status': 'Too Many Requests'}\n"
     ]
    },
    {
     "name": "stderr",
     "output_type": "stream",
     "text": [
      "\n",
      " 59%|████████████████████████████████████████████████████████████████████████▏                                                  | 347/591 [05:12<03:51,  1.06it/s]\u001b[A"
     ]
    },
    {
     "name": "stdout",
     "output_type": "stream",
     "text": [
      "Error analyzing audio with Gemini: 429 Too Many Requests. {'message': 'Response not read', 'status': 'Too Many Requests'}\n"
     ]
    },
    {
     "name": "stderr",
     "output_type": "stream",
     "text": [
      "\n",
      " 59%|████████████████████████████████████████████████████████████████████████▍                                                  | 348/591 [05:12<03:45,  1.08it/s]\u001b[A"
     ]
    },
    {
     "name": "stdout",
     "output_type": "stream",
     "text": [
      "Error analyzing audio with Gemini: 429 Too Many Requests. {'message': 'Response not read', 'status': 'Too Many Requests'}\n"
     ]
    },
    {
     "name": "stderr",
     "output_type": "stream",
     "text": [
      "\n",
      " 59%|████████████████████████████████████████████████████████████████████████▋                                                  | 349/591 [05:14<03:54,  1.03it/s]\u001b[A"
     ]
    },
    {
     "name": "stdout",
     "output_type": "stream",
     "text": [
      "Error analyzing audio with Gemini: 429 Too Many Requests. {'message': 'Response not read', 'status': 'Too Many Requests'}\n"
     ]
    },
    {
     "name": "stderr",
     "output_type": "stream",
     "text": [
      "\n",
      " 59%|████████████████████████████████████████████████████████████████████████▊                                                  | 350/591 [05:15<03:58,  1.01it/s]\u001b[A"
     ]
    },
    {
     "name": "stdout",
     "output_type": "stream",
     "text": [
      "Error analyzing audio with Gemini: 429 Too Many Requests. {'message': 'Response not read', 'status': 'Too Many Requests'}\n"
     ]
    },
    {
     "name": "stderr",
     "output_type": "stream",
     "text": [
      "\n",
      " 59%|█████████████████████████████████████████████████████████████████████████                                                  | 351/591 [05:15<03:40,  1.09it/s]\u001b[A"
     ]
    },
    {
     "name": "stdout",
     "output_type": "stream",
     "text": [
      "Error analyzing audio with Gemini: 429 Too Many Requests. {'message': 'Response not read', 'status': 'Too Many Requests'}\n"
     ]
    },
    {
     "name": "stderr",
     "output_type": "stream",
     "text": [
      "\n",
      " 60%|█████████████████████████████████████████████████████████████████████████▎                                                 | 352/591 [05:16<03:43,  1.07it/s]\u001b[A"
     ]
    },
    {
     "name": "stdout",
     "output_type": "stream",
     "text": [
      "Error analyzing audio with Gemini: 429 Too Many Requests. {'message': 'Response not read', 'status': 'Too Many Requests'}\n"
     ]
    },
    {
     "name": "stderr",
     "output_type": "stream",
     "text": [
      "\n",
      " 60%|█████████████████████████████████████████████████████████████████████████▍                                                 | 353/591 [05:17<03:45,  1.06it/s]\u001b[A"
     ]
    },
    {
     "name": "stdout",
     "output_type": "stream",
     "text": [
      "Error analyzing audio with Gemini: 429 Too Many Requests. {'message': 'Response not read', 'status': 'Too Many Requests'}\n"
     ]
    },
    {
     "name": "stderr",
     "output_type": "stream",
     "text": [
      "\n",
      " 60%|█████████████████████████████████████████████████████████████████████████▋                                                 | 354/591 [05:18<03:27,  1.14it/s]\u001b[A"
     ]
    },
    {
     "name": "stdout",
     "output_type": "stream",
     "text": [
      "Error analyzing audio with Gemini: 429 Too Many Requests. {'message': 'Response not read', 'status': 'Too Many Requests'}\n"
     ]
    },
    {
     "name": "stderr",
     "output_type": "stream",
     "text": [
      "\n",
      " 60%|█████████████████████████████████████████████████████████████████████████▉                                                 | 355/591 [05:19<03:21,  1.17it/s]\u001b[A"
     ]
    },
    {
     "name": "stdout",
     "output_type": "stream",
     "text": [
      "Error analyzing audio with Gemini: 429 Too Many Requests. {'message': 'Response not read', 'status': 'Too Many Requests'}\n"
     ]
    },
    {
     "name": "stderr",
     "output_type": "stream",
     "text": [
      "\n",
      " 60%|██████████████████████████████████████████████████████████████████████████                                                 | 356/591 [05:20<03:13,  1.21it/s]\u001b[A"
     ]
    },
    {
     "name": "stdout",
     "output_type": "stream",
     "text": [
      "Error analyzing audio with Gemini: 429 Too Many Requests. {'message': 'Response not read', 'status': 'Too Many Requests'}\n"
     ]
    },
    {
     "name": "stderr",
     "output_type": "stream",
     "text": [
      "\n",
      " 60%|██████████████████████████████████████████████████████████████████████████▎                                                | 357/591 [05:20<03:03,  1.27it/s]\u001b[A"
     ]
    },
    {
     "name": "stdout",
     "output_type": "stream",
     "text": [
      "Error analyzing audio with Gemini: 429 Too Many Requests. {'message': 'Response not read', 'status': 'Too Many Requests'}\n"
     ]
    },
    {
     "name": "stderr",
     "output_type": "stream",
     "text": [
      "\n",
      " 61%|██████████████████████████████████████████████████████████████████████████▌                                                | 358/591 [05:21<03:23,  1.14it/s]\u001b[A"
     ]
    },
    {
     "name": "stdout",
     "output_type": "stream",
     "text": [
      "Error analyzing audio with Gemini: 429 Too Many Requests. {'message': 'Response not read', 'status': 'Too Many Requests'}\n"
     ]
    },
    {
     "name": "stderr",
     "output_type": "stream",
     "text": [
      "\n",
      " 61%|██████████████████████████████████████████████████████████████████████████▋                                                | 359/591 [05:22<03:40,  1.05it/s]\u001b[A"
     ]
    },
    {
     "name": "stdout",
     "output_type": "stream",
     "text": [
      "Error analyzing audio with Gemini: 429 Too Many Requests. {'message': 'Response not read', 'status': 'Too Many Requests'}\n"
     ]
    },
    {
     "name": "stderr",
     "output_type": "stream",
     "text": [
      "\n",
      " 61%|██████████████████████████████████████████████████████████████████████████▉                                                | 360/591 [05:23<03:36,  1.07it/s]\u001b[A"
     ]
    },
    {
     "name": "stdout",
     "output_type": "stream",
     "text": [
      "Error analyzing audio with Gemini: 429 Too Many Requests. {'message': 'Response not read', 'status': 'Too Many Requests'}\n"
     ]
    },
    {
     "name": "stderr",
     "output_type": "stream",
     "text": [
      "\n",
      " 61%|███████████████████████████████████████████████████████████████████████████▏                                               | 361/591 [05:24<03:35,  1.07it/s]\u001b[A"
     ]
    },
    {
     "name": "stdout",
     "output_type": "stream",
     "text": [
      "Error analyzing audio with Gemini: 429 Too Many Requests. {'message': 'Response not read', 'status': 'Too Many Requests'}\n"
     ]
    },
    {
     "name": "stderr",
     "output_type": "stream",
     "text": [
      "\n",
      " 61%|███████████████████████████████████████████████████████████████████████████▎                                               | 362/591 [05:25<03:40,  1.04it/s]\u001b[A"
     ]
    },
    {
     "name": "stdout",
     "output_type": "stream",
     "text": [
      "Error analyzing audio with Gemini: 429 Too Many Requests. {'message': 'Response not read', 'status': 'Too Many Requests'}\n"
     ]
    },
    {
     "name": "stderr",
     "output_type": "stream",
     "text": [
      "\n",
      " 61%|███████████████████████████████████████████████████████████████████████████▌                                               | 363/591 [05:26<03:44,  1.02it/s]\u001b[A"
     ]
    },
    {
     "name": "stdout",
     "output_type": "stream",
     "text": [
      "Error analyzing audio with Gemini: 429 Too Many Requests. {'message': 'Response not read', 'status': 'Too Many Requests'}\n"
     ]
    },
    {
     "name": "stderr",
     "output_type": "stream",
     "text": [
      "\n",
      " 62%|███████████████████████████████████████████████████████████████████████████▊                                               | 364/591 [05:27<03:44,  1.01it/s]\u001b[A"
     ]
    },
    {
     "name": "stdout",
     "output_type": "stream",
     "text": [
      "Error analyzing audio with Gemini: 429 Too Many Requests. {'message': 'Response not read', 'status': 'Too Many Requests'}\n"
     ]
    },
    {
     "name": "stderr",
     "output_type": "stream",
     "text": [
      "\n",
      " 62%|███████████████████████████████████████████████████████████████████████████▉                                               | 365/591 [05:28<03:23,  1.11it/s]\u001b[A"
     ]
    },
    {
     "name": "stdout",
     "output_type": "stream",
     "text": [
      "Error analyzing audio with Gemini: 429 Too Many Requests. {'message': 'Response not read', 'status': 'Too Many Requests'}\n"
     ]
    },
    {
     "name": "stderr",
     "output_type": "stream",
     "text": [
      "\n",
      " 62%|████████████████████████████████████████████████████████████████████████████▏                                              | 366/591 [05:29<03:19,  1.13it/s]\u001b[A"
     ]
    },
    {
     "name": "stdout",
     "output_type": "stream",
     "text": [
      "Error analyzing audio with Gemini: 429 Too Many Requests. {'message': 'Response not read', 'status': 'Too Many Requests'}\n"
     ]
    },
    {
     "name": "stderr",
     "output_type": "stream",
     "text": [
      "\n",
      " 62%|████████████████████████████████████████████████████████████████████████████▍                                              | 367/591 [05:30<03:19,  1.12it/s]\u001b[A"
     ]
    },
    {
     "name": "stdout",
     "output_type": "stream",
     "text": [
      "Error analyzing audio with Gemini: 429 Too Many Requests. {'message': 'Response not read', 'status': 'Too Many Requests'}\n"
     ]
    },
    {
     "name": "stderr",
     "output_type": "stream",
     "text": [
      "\n",
      " 62%|████████████████████████████████████████████████████████████████████████████▌                                              | 368/591 [05:31<03:28,  1.07it/s]\u001b[A"
     ]
    },
    {
     "name": "stdout",
     "output_type": "stream",
     "text": [
      "Error analyzing audio with Gemini: 429 Too Many Requests. {'message': 'Response not read', 'status': 'Too Many Requests'}\n"
     ]
    },
    {
     "name": "stderr",
     "output_type": "stream",
     "text": [
      "\n",
      " 62%|████████████████████████████████████████████████████████████████████████████▊                                              | 369/591 [05:32<03:30,  1.05it/s]\u001b[A"
     ]
    },
    {
     "name": "stdout",
     "output_type": "stream",
     "text": [
      "Error analyzing audio with Gemini: 429 Too Many Requests. {'message': 'Response not read', 'status': 'Too Many Requests'}\n"
     ]
    },
    {
     "name": "stderr",
     "output_type": "stream",
     "text": [
      "\n",
      " 63%|█████████████████████████████████████████████████████████████████████████████                                              | 370/591 [05:33<03:31,  1.04it/s]\u001b[A"
     ]
    },
    {
     "name": "stdout",
     "output_type": "stream",
     "text": [
      "Error analyzing audio with Gemini: 429 Too Many Requests. {'message': 'Response not read', 'status': 'Too Many Requests'}\n"
     ]
    },
    {
     "name": "stderr",
     "output_type": "stream",
     "text": [
      "\n",
      " 63%|█████████████████████████████████████████████████████████████████████████████▏                                             | 371/591 [05:34<03:29,  1.05it/s]\u001b[A"
     ]
    },
    {
     "name": "stdout",
     "output_type": "stream",
     "text": [
      "Error analyzing audio with Gemini: 429 Too Many Requests. {'message': 'Response not read', 'status': 'Too Many Requests'}\n"
     ]
    },
    {
     "name": "stderr",
     "output_type": "stream",
     "text": [
      "\n",
      " 63%|█████████████████████████████████████████████████████████████████████████████▍                                             | 372/591 [05:34<03:16,  1.11it/s]\u001b[A"
     ]
    },
    {
     "name": "stdout",
     "output_type": "stream",
     "text": [
      "Error analyzing audio with Gemini: 429 Too Many Requests. {'message': 'Response not read', 'status': 'Too Many Requests'}\n"
     ]
    },
    {
     "name": "stderr",
     "output_type": "stream",
     "text": [
      "\n",
      " 63%|█████████████████████████████████████████████████████████████████████████████▋                                             | 373/591 [05:36<03:25,  1.06it/s]\u001b[A"
     ]
    },
    {
     "name": "stdout",
     "output_type": "stream",
     "text": [
      "Error analyzing audio with Gemini: 429 Too Many Requests. {'message': 'Response not read', 'status': 'Too Many Requests'}\n"
     ]
    },
    {
     "name": "stderr",
     "output_type": "stream",
     "text": [
      "\n",
      " 63%|█████████████████████████████████████████████████████████████████████████████▊                                             | 374/591 [05:37<03:27,  1.04it/s]\u001b[A"
     ]
    },
    {
     "name": "stdout",
     "output_type": "stream",
     "text": [
      "Error analyzing audio with Gemini: 429 Too Many Requests. {'message': 'Response not read', 'status': 'Too Many Requests'}\n"
     ]
    },
    {
     "name": "stderr",
     "output_type": "stream",
     "text": [
      "\n",
      " 63%|██████████████████████████████████████████████████████████████████████████████                                             | 375/591 [05:38<03:29,  1.03it/s]\u001b[A"
     ]
    },
    {
     "name": "stdout",
     "output_type": "stream",
     "text": [
      "Error analyzing audio with Gemini: 429 Too Many Requests. {'message': 'Response not read', 'status': 'Too Many Requests'}\n"
     ]
    },
    {
     "name": "stderr",
     "output_type": "stream",
     "text": [
      "\n",
      " 64%|██████████████████████████████████████████████████████████████████████████████▎                                            | 376/591 [05:38<03:21,  1.07it/s]\u001b[A"
     ]
    },
    {
     "name": "stdout",
     "output_type": "stream",
     "text": [
      "Error analyzing audio with Gemini: 429 Too Many Requests. {'message': 'Response not read', 'status': 'Too Many Requests'}\n"
     ]
    },
    {
     "name": "stderr",
     "output_type": "stream",
     "text": [
      "\n",
      " 64%|██████████████████████████████████████████████████████████████████████████████▍                                            | 377/591 [05:39<03:23,  1.05it/s]\u001b[A"
     ]
    },
    {
     "name": "stdout",
     "output_type": "stream",
     "text": [
      "Error analyzing audio with Gemini: 429 Too Many Requests. {'message': 'Response not read', 'status': 'Too Many Requests'}\n"
     ]
    },
    {
     "name": "stderr",
     "output_type": "stream",
     "text": [
      "\n",
      " 64%|██████████████████████████████████████████████████████████████████████████████▋                                            | 378/591 [05:40<03:11,  1.11it/s]\u001b[A"
     ]
    },
    {
     "name": "stdout",
     "output_type": "stream",
     "text": [
      "Error analyzing audio with Gemini: 429 Too Many Requests. {'message': 'Response not read', 'status': 'Too Many Requests'}\n"
     ]
    },
    {
     "name": "stderr",
     "output_type": "stream",
     "text": [
      "\n",
      " 64%|██████████████████████████████████████████████████████████████████████████████▉                                            | 379/591 [05:41<03:01,  1.17it/s]\u001b[A"
     ]
    },
    {
     "name": "stdout",
     "output_type": "stream",
     "text": [
      "Error analyzing audio with Gemini: 429 Too Many Requests. {'message': 'Response not read', 'status': 'Too Many Requests'}\n"
     ]
    },
    {
     "name": "stderr",
     "output_type": "stream",
     "text": [
      "\n",
      " 64%|███████████████████████████████████████████████████████████████████████████████                                            | 380/591 [05:42<02:59,  1.17it/s]\u001b[A"
     ]
    },
    {
     "name": "stdout",
     "output_type": "stream",
     "text": [
      "Error analyzing audio with Gemini: 429 Too Many Requests. {'message': 'Response not read', 'status': 'Too Many Requests'}\n"
     ]
    },
    {
     "name": "stderr",
     "output_type": "stream",
     "text": [
      "\n",
      " 64%|███████████████████████████████████████████████████████████████████████████████▎                                           | 381/591 [05:43<03:00,  1.16it/s]\u001b[A"
     ]
    },
    {
     "name": "stdout",
     "output_type": "stream",
     "text": [
      "Error analyzing audio with Gemini: 429 Too Many Requests. {'message': 'Response not read', 'status': 'Too Many Requests'}\n"
     ]
    },
    {
     "name": "stderr",
     "output_type": "stream",
     "text": [
      "\n",
      " 65%|███████████████████████████████████████████████████████████████████████████████▌                                           | 382/591 [05:44<03:01,  1.15it/s]\u001b[A"
     ]
    },
    {
     "name": "stdout",
     "output_type": "stream",
     "text": [
      "Error analyzing audio with Gemini: 429 Too Many Requests. {'message': 'Response not read', 'status': 'Too Many Requests'}\n"
     ]
    },
    {
     "name": "stderr",
     "output_type": "stream",
     "text": [
      "\n",
      " 65%|███████████████████████████████████████████████████████████████████████████████▋                                           | 383/591 [05:44<03:00,  1.15it/s]\u001b[A"
     ]
    },
    {
     "name": "stdout",
     "output_type": "stream",
     "text": [
      "Error analyzing audio with Gemini: 429 Too Many Requests. {'message': 'Response not read', 'status': 'Too Many Requests'}\n"
     ]
    },
    {
     "name": "stderr",
     "output_type": "stream",
     "text": [
      "\n",
      " 65%|███████████████████████████████████████████████████████████████████████████████▉                                           | 384/591 [05:45<03:04,  1.12it/s]\u001b[A"
     ]
    },
    {
     "name": "stdout",
     "output_type": "stream",
     "text": [
      "Error analyzing audio with Gemini: 429 Too Many Requests. {'message': 'Response not read', 'status': 'Too Many Requests'}\n"
     ]
    },
    {
     "name": "stderr",
     "output_type": "stream",
     "text": [
      "\n",
      " 65%|████████████████████████████████████████████████████████████████████████████████▏                                          | 385/591 [05:46<03:02,  1.13it/s]\u001b[A"
     ]
    },
    {
     "name": "stdout",
     "output_type": "stream",
     "text": [
      "Error analyzing audio with Gemini: 429 Too Many Requests. {'message': 'Response not read', 'status': 'Too Many Requests'}\n"
     ]
    },
    {
     "name": "stderr",
     "output_type": "stream",
     "text": [
      "\n",
      " 65%|████████████████████████████████████████████████████████████████████████████████▎                                          | 386/591 [05:47<03:08,  1.09it/s]\u001b[A"
     ]
    },
    {
     "name": "stdout",
     "output_type": "stream",
     "text": [
      "Error analyzing audio with Gemini: 429 Too Many Requests. {'message': 'Response not read', 'status': 'Too Many Requests'}\n"
     ]
    },
    {
     "name": "stderr",
     "output_type": "stream",
     "text": [
      "\n",
      " 65%|████████████████████████████████████████████████████████████████████████████████▌                                          | 387/591 [05:48<03:09,  1.08it/s]\u001b[A"
     ]
    },
    {
     "name": "stdout",
     "output_type": "stream",
     "text": [
      "Error analyzing audio with Gemini: 429 Too Many Requests. {'message': 'Response not read', 'status': 'Too Many Requests'}\n"
     ]
    },
    {
     "name": "stderr",
     "output_type": "stream",
     "text": [
      "\n",
      " 66%|████████████████████████████████████████████████████████████████████████████████▊                                          | 388/591 [05:49<03:00,  1.12it/s]\u001b[A"
     ]
    },
    {
     "name": "stdout",
     "output_type": "stream",
     "text": [
      "Error analyzing audio with Gemini: 429 Too Many Requests. {'message': 'Response not read', 'status': 'Too Many Requests'}\n"
     ]
    },
    {
     "name": "stderr",
     "output_type": "stream",
     "text": [
      "\n",
      " 66%|████████████████████████████████████████████████████████████████████████████████▉                                          | 389/591 [05:50<02:57,  1.14it/s]\u001b[A"
     ]
    },
    {
     "name": "stdout",
     "output_type": "stream",
     "text": [
      "Error analyzing audio with Gemini: 429 Too Many Requests. {'message': 'Response not read', 'status': 'Too Many Requests'}\n"
     ]
    },
    {
     "name": "stderr",
     "output_type": "stream",
     "text": [
      "\n",
      " 66%|█████████████████████████████████████████████████████████████████████████████████▏                                         | 390/591 [05:51<03:03,  1.09it/s]\u001b[A"
     ]
    },
    {
     "name": "stdout",
     "output_type": "stream",
     "text": [
      "Error analyzing audio with Gemini: 429 Too Many Requests. {'message': 'Response not read', 'status': 'Too Many Requests'}\n"
     ]
    },
    {
     "name": "stderr",
     "output_type": "stream",
     "text": [
      "\n",
      " 66%|█████████████████████████████████████████████████████████████████████████████████▍                                         | 391/591 [05:52<02:57,  1.12it/s]\u001b[A"
     ]
    },
    {
     "name": "stdout",
     "output_type": "stream",
     "text": [
      "Error analyzing audio with Gemini: 429 Too Many Requests. {'message': 'Response not read', 'status': 'Too Many Requests'}\n"
     ]
    },
    {
     "name": "stderr",
     "output_type": "stream",
     "text": [
      "\n",
      " 66%|█████████████████████████████████████████████████████████████████████████████████▌                                         | 392/591 [05:53<03:03,  1.08it/s]\u001b[A"
     ]
    },
    {
     "name": "stdout",
     "output_type": "stream",
     "text": [
      "Error analyzing audio with Gemini: 429 Too Many Requests. {'message': 'Response not read', 'status': 'Too Many Requests'}\n"
     ]
    },
    {
     "name": "stderr",
     "output_type": "stream",
     "text": [
      "\n",
      " 66%|█████████████████████████████████████████████████████████████████████████████████▊                                         | 393/591 [05:54<03:08,  1.05it/s]\u001b[A"
     ]
    },
    {
     "name": "stdout",
     "output_type": "stream",
     "text": [
      "Error analyzing audio with Gemini: 429 Too Many Requests. {'message': 'Response not read', 'status': 'Too Many Requests'}\n"
     ]
    },
    {
     "name": "stderr",
     "output_type": "stream",
     "text": [
      "\n",
      " 67%|██████████████████████████████████████████████████████████████████████████████████                                         | 394/591 [05:54<03:01,  1.09it/s]\u001b[A"
     ]
    },
    {
     "name": "stdout",
     "output_type": "stream",
     "text": [
      "Error analyzing audio with Gemini: 429 Too Many Requests. {'message': 'Response not read', 'status': 'Too Many Requests'}\n"
     ]
    },
    {
     "name": "stderr",
     "output_type": "stream",
     "text": [
      "\n",
      " 67%|██████████████████████████████████████████████████████████████████████████████████▏                                        | 395/591 [05:55<02:59,  1.09it/s]\u001b[A"
     ]
    },
    {
     "name": "stdout",
     "output_type": "stream",
     "text": [
      "Error analyzing audio with Gemini: 429 Too Many Requests. {'message': 'Response not read', 'status': 'Too Many Requests'}\n"
     ]
    },
    {
     "name": "stderr",
     "output_type": "stream",
     "text": [
      "\n",
      " 67%|██████████████████████████████████████████████████████████████████████████████████▍                                        | 396/591 [05:56<02:57,  1.10it/s]\u001b[A"
     ]
    },
    {
     "name": "stdout",
     "output_type": "stream",
     "text": [
      "Error analyzing audio with Gemini: 429 Too Many Requests. {'message': 'Response not read', 'status': 'Too Many Requests'}\n"
     ]
    },
    {
     "name": "stderr",
     "output_type": "stream",
     "text": [
      "\n",
      " 67%|██████████████████████████████████████████████████████████████████████████████████▌                                        | 397/591 [05:57<02:50,  1.14it/s]\u001b[A"
     ]
    },
    {
     "name": "stdout",
     "output_type": "stream",
     "text": [
      "Error analyzing audio with Gemini: 429 Too Many Requests. {'message': 'Response not read', 'status': 'Too Many Requests'}\n"
     ]
    },
    {
     "name": "stderr",
     "output_type": "stream",
     "text": [
      "\n",
      " 67%|██████████████████████████████████████████████████████████████████████████████████▊                                        | 398/591 [05:58<02:44,  1.18it/s]\u001b[A"
     ]
    },
    {
     "name": "stdout",
     "output_type": "stream",
     "text": [
      "Error analyzing audio with Gemini: 429 Too Many Requests. {'message': 'Response not read', 'status': 'Too Many Requests'}\n"
     ]
    },
    {
     "name": "stderr",
     "output_type": "stream",
     "text": [
      "\n",
      " 68%|███████████████████████████████████████████████████████████████████████████████████                                        | 399/591 [05:59<02:38,  1.21it/s]\u001b[A"
     ]
    },
    {
     "name": "stdout",
     "output_type": "stream",
     "text": [
      "Error analyzing audio with Gemini: 429 Too Many Requests. {'message': 'Response not read', 'status': 'Too Many Requests'}\n"
     ]
    },
    {
     "name": "stderr",
     "output_type": "stream",
     "text": [
      "\n",
      " 68%|███████████████████████████████████████████████████████████████████████████████████▏                                       | 400/591 [06:00<02:49,  1.12it/s]\u001b[A"
     ]
    },
    {
     "name": "stdout",
     "output_type": "stream",
     "text": [
      "Error analyzing audio with Gemini: 429 Too Many Requests. {'message': 'Response not read', 'status': 'Too Many Requests'}\n"
     ]
    },
    {
     "name": "stderr",
     "output_type": "stream",
     "text": [
      "\n",
      " 68%|███████████████████████████████████████████████████████████████████████████████████▍                                       | 401/591 [06:01<02:44,  1.15it/s]\u001b[A"
     ]
    },
    {
     "name": "stdout",
     "output_type": "stream",
     "text": [
      "Error analyzing audio with Gemini: 429 Too Many Requests. {'message': 'Response not read', 'status': 'Too Many Requests'}\n"
     ]
    },
    {
     "name": "stderr",
     "output_type": "stream",
     "text": [
      "\n",
      " 68%|███████████████████████████████████████████████████████████████████████████████████▋                                       | 402/591 [06:01<02:47,  1.13it/s]\u001b[A"
     ]
    },
    {
     "name": "stdout",
     "output_type": "stream",
     "text": [
      "Error analyzing audio with Gemini: 429 Too Many Requests. {'message': 'Response not read', 'status': 'Too Many Requests'}\n"
     ]
    },
    {
     "name": "stderr",
     "output_type": "stream",
     "text": [
      "\n",
      " 68%|███████████████████████████████████████████████████████████████████████████████████▊                                       | 403/591 [06:02<02:51,  1.10it/s]\u001b[A"
     ]
    },
    {
     "name": "stdout",
     "output_type": "stream",
     "text": [
      "Error analyzing audio with Gemini: 429 Too Many Requests. {'message': 'Response not read', 'status': 'Too Many Requests'}\n"
     ]
    },
    {
     "name": "stderr",
     "output_type": "stream",
     "text": [
      "\n",
      " 68%|████████████████████████████████████████████████████████████████████████████████████                                       | 404/591 [06:03<02:39,  1.17it/s]\u001b[A"
     ]
    },
    {
     "name": "stdout",
     "output_type": "stream",
     "text": [
      "Error analyzing audio with Gemini: 429 Too Many Requests. {'message': 'Response not read', 'status': 'Too Many Requests'}\n"
     ]
    },
    {
     "name": "stderr",
     "output_type": "stream",
     "text": [
      "\n",
      " 69%|████████████████████████████████████████████████████████████████████████████████████▎                                      | 405/591 [06:04<02:52,  1.08it/s]\u001b[A"
     ]
    },
    {
     "name": "stdout",
     "output_type": "stream",
     "text": [
      "Error analyzing audio with Gemini: 429 Too Many Requests. {'message': 'Response not read', 'status': 'Too Many Requests'}\n"
     ]
    },
    {
     "name": "stderr",
     "output_type": "stream",
     "text": [
      "\n",
      " 69%|████████████████████████████████████████████████████████████████████████████████████▍                                      | 406/591 [06:05<02:45,  1.12it/s]\u001b[A"
     ]
    },
    {
     "name": "stdout",
     "output_type": "stream",
     "text": [
      "Error analyzing audio with Gemini: 429 Too Many Requests. {'message': 'Response not read', 'status': 'Too Many Requests'}\n"
     ]
    },
    {
     "name": "stderr",
     "output_type": "stream",
     "text": [
      "\n",
      " 69%|████████████████████████████████████████████████████████████████████████████████████▋                                      | 407/591 [06:06<02:51,  1.07it/s]\u001b[A"
     ]
    },
    {
     "name": "stdout",
     "output_type": "stream",
     "text": [
      "Error analyzing audio with Gemini: 429 Too Many Requests. {'message': 'Response not read', 'status': 'Too Many Requests'}\n"
     ]
    },
    {
     "name": "stderr",
     "output_type": "stream",
     "text": [
      "\n",
      " 69%|████████████████████████████████████████████████████████████████████████████████████▉                                      | 408/591 [06:07<02:54,  1.05it/s]\u001b[A"
     ]
    },
    {
     "name": "stdout",
     "output_type": "stream",
     "text": [
      "Error analyzing audio with Gemini: 429 Too Many Requests. {'message': 'Response not read', 'status': 'Too Many Requests'}\n"
     ]
    },
    {
     "name": "stderr",
     "output_type": "stream",
     "text": [
      "\n",
      " 69%|█████████████████████████████████████████████████████████████████████████████████████                                      | 409/591 [06:08<02:45,  1.10it/s]\u001b[A"
     ]
    },
    {
     "name": "stdout",
     "output_type": "stream",
     "text": [
      "Error analyzing audio with Gemini: 429 Too Many Requests. {'message': 'Response not read', 'status': 'Too Many Requests'}\n"
     ]
    },
    {
     "name": "stderr",
     "output_type": "stream",
     "text": [
      "\n",
      " 69%|█████████████████████████████████████████████████████████████████████████████████████▎                                     | 410/591 [06:09<02:41,  1.12it/s]\u001b[A"
     ]
    },
    {
     "name": "stdout",
     "output_type": "stream",
     "text": [
      "Error analyzing audio with Gemini: 429 Too Many Requests. {'message': 'Response not read', 'status': 'Too Many Requests'}\n"
     ]
    },
    {
     "name": "stderr",
     "output_type": "stream",
     "text": [
      "\n",
      " 70%|█████████████████████████████████████████████████████████████████████████████████████▌                                     | 411/591 [06:10<02:40,  1.12it/s]\u001b[A"
     ]
    },
    {
     "name": "stdout",
     "output_type": "stream",
     "text": [
      "Error analyzing audio with Gemini: 429 Too Many Requests. {'message': 'Response not read', 'status': 'Too Many Requests'}\n"
     ]
    },
    {
     "name": "stderr",
     "output_type": "stream",
     "text": [
      "\n",
      " 70%|█████████████████████████████████████████████████████████████████████████████████████▋                                     | 412/591 [06:11<02:47,  1.07it/s]\u001b[A"
     ]
    },
    {
     "name": "stdout",
     "output_type": "stream",
     "text": [
      "Error analyzing audio with Gemini: 429 Too Many Requests. {'message': 'Response not read', 'status': 'Too Many Requests'}\n"
     ]
    },
    {
     "name": "stderr",
     "output_type": "stream",
     "text": [
      "\n",
      " 70%|█████████████████████████████████████████████████████████████████████████████████████▉                                     | 413/591 [06:12<02:42,  1.10it/s]\u001b[A"
     ]
    },
    {
     "name": "stdout",
     "output_type": "stream",
     "text": [
      "Error analyzing audio with Gemini: 429 Too Many Requests. {'message': 'Response not read', 'status': 'Too Many Requests'}\n"
     ]
    },
    {
     "name": "stderr",
     "output_type": "stream",
     "text": [
      "\n",
      " 70%|██████████████████████████████████████████████████████████████████████████████████████▏                                    | 414/591 [06:12<02:35,  1.14it/s]\u001b[A"
     ]
    },
    {
     "name": "stdout",
     "output_type": "stream",
     "text": [
      "Error analyzing audio with Gemini: 429 Too Many Requests. {'message': 'Response not read', 'status': 'Too Many Requests'}\n"
     ]
    },
    {
     "name": "stderr",
     "output_type": "stream",
     "text": [
      "\n",
      " 70%|██████████████████████████████████████████████████████████████████████████████████████▎                                    | 415/591 [06:13<02:40,  1.09it/s]\u001b[A"
     ]
    },
    {
     "name": "stdout",
     "output_type": "stream",
     "text": [
      "Error analyzing audio with Gemini: 429 Too Many Requests. {'message': 'Response not read', 'status': 'Too Many Requests'}\n"
     ]
    },
    {
     "name": "stderr",
     "output_type": "stream",
     "text": [
      "\n",
      " 70%|██████████████████████████████████████████████████████████████████████████████████████▌                                    | 416/591 [06:14<02:34,  1.13it/s]\u001b[A"
     ]
    },
    {
     "name": "stdout",
     "output_type": "stream",
     "text": [
      "Error analyzing audio with Gemini: 429 Too Many Requests. {'message': 'Response not read', 'status': 'Too Many Requests'}\n"
     ]
    },
    {
     "name": "stderr",
     "output_type": "stream",
     "text": [
      "\n",
      " 71%|██████████████████████████████████████████████████████████████████████████████████████▊                                    | 417/591 [06:15<02:36,  1.11it/s]\u001b[A"
     ]
    },
    {
     "name": "stdout",
     "output_type": "stream",
     "text": [
      "Error analyzing audio with Gemini: 429 Too Many Requests. {'message': 'Response not read', 'status': 'Too Many Requests'}\n"
     ]
    },
    {
     "name": "stderr",
     "output_type": "stream",
     "text": [
      "\n",
      " 71%|██████████████████████████████████████████████████████████████████████████████████████▉                                    | 418/591 [06:16<02:35,  1.11it/s]\u001b[A"
     ]
    },
    {
     "name": "stdout",
     "output_type": "stream",
     "text": [
      "Error analyzing audio with Gemini: 429 Too Many Requests. {'message': 'Response not read', 'status': 'Too Many Requests'}\n"
     ]
    },
    {
     "name": "stderr",
     "output_type": "stream",
     "text": [
      "\n",
      " 71%|███████████████████████████████████████████████████████████████████████████████████████▏                                   | 419/591 [06:17<02:31,  1.14it/s]\u001b[A"
     ]
    },
    {
     "name": "stdout",
     "output_type": "stream",
     "text": [
      "Error analyzing audio with Gemini: 429 Too Many Requests. {'message': 'Response not read', 'status': 'Too Many Requests'}\n"
     ]
    },
    {
     "name": "stderr",
     "output_type": "stream",
     "text": [
      "\n",
      " 71%|███████████████████████████████████████████████████████████████████████████████████████▍                                   | 420/591 [06:18<02:35,  1.10it/s]\u001b[A"
     ]
    },
    {
     "name": "stdout",
     "output_type": "stream",
     "text": [
      "Error analyzing audio with Gemini: 429 Too Many Requests. {'message': 'Response not read', 'status': 'Too Many Requests'}\n"
     ]
    },
    {
     "name": "stderr",
     "output_type": "stream",
     "text": [
      "\n",
      " 71%|███████████████████████████████████████████████████████████████████████████████████████▌                                   | 421/591 [06:19<02:32,  1.12it/s]\u001b[A"
     ]
    },
    {
     "name": "stdout",
     "output_type": "stream",
     "text": [
      "Error analyzing audio with Gemini: 429 Too Many Requests. {'message': 'Response not read', 'status': 'Too Many Requests'}\n"
     ]
    },
    {
     "name": "stderr",
     "output_type": "stream",
     "text": [
      "\n",
      " 71%|███████████████████████████████████████████████████████████████████████████████████████▊                                   | 422/591 [06:20<02:36,  1.08it/s]\u001b[A"
     ]
    },
    {
     "name": "stdout",
     "output_type": "stream",
     "text": [
      "Error analyzing audio with Gemini: 429 Too Many Requests. {'message': 'Response not read', 'status': 'Too Many Requests'}\n"
     ]
    },
    {
     "name": "stderr",
     "output_type": "stream",
     "text": [
      "\n",
      " 72%|████████████████████████████████████████████████████████████████████████████████████████                                   | 423/591 [06:20<02:26,  1.15it/s]\u001b[A"
     ]
    },
    {
     "name": "stdout",
     "output_type": "stream",
     "text": [
      "Error analyzing audio with Gemini: 429 Too Many Requests. {'message': 'Response not read', 'status': 'Too Many Requests'}\n"
     ]
    },
    {
     "name": "stderr",
     "output_type": "stream",
     "text": [
      "\n",
      " 72%|████████████████████████████████████████████████████████████████████████████████████████▏                                  | 424/591 [06:21<02:36,  1.06it/s]\u001b[A"
     ]
    },
    {
     "name": "stdout",
     "output_type": "stream",
     "text": [
      "Error analyzing audio with Gemini: 429 Too Many Requests. {'message': 'Response not read', 'status': 'Too Many Requests'}\n"
     ]
    },
    {
     "name": "stderr",
     "output_type": "stream",
     "text": [
      "\n",
      " 72%|████████████████████████████████████████████████████████████████████████████████████████▍                                  | 425/591 [06:22<02:35,  1.07it/s]\u001b[A"
     ]
    },
    {
     "name": "stdout",
     "output_type": "stream",
     "text": [
      "Error analyzing audio with Gemini: 429 Too Many Requests. {'message': 'Response not read', 'status': 'Too Many Requests'}\n"
     ]
    },
    {
     "name": "stderr",
     "output_type": "stream",
     "text": [
      "\n",
      " 72%|████████████████████████████████████████████████████████████████████████████████████████▋                                  | 426/591 [06:23<02:35,  1.06it/s]\u001b[A"
     ]
    },
    {
     "name": "stdout",
     "output_type": "stream",
     "text": [
      "Error analyzing audio with Gemini: 429 Too Many Requests. {'message': 'Response not read', 'status': 'Too Many Requests'}\n"
     ]
    },
    {
     "name": "stderr",
     "output_type": "stream",
     "text": [
      "\n",
      " 72%|████████████████████████████████████████████████████████████████████████████████████████▊                                  | 427/591 [06:24<02:25,  1.13it/s]\u001b[A"
     ]
    },
    {
     "name": "stdout",
     "output_type": "stream",
     "text": [
      "Error analyzing audio with Gemini: 429 Too Many Requests. {'message': 'Response not read', 'status': 'Too Many Requests'}\n"
     ]
    },
    {
     "name": "stderr",
     "output_type": "stream",
     "text": [
      "\n",
      " 72%|█████████████████████████████████████████████████████████████████████████████████████████                                  | 428/591 [06:25<02:20,  1.16it/s]\u001b[A"
     ]
    },
    {
     "name": "stdout",
     "output_type": "stream",
     "text": [
      "Error analyzing audio with Gemini: 429 Too Many Requests. {'message': 'Response not read', 'status': 'Too Many Requests'}\n"
     ]
    },
    {
     "name": "stderr",
     "output_type": "stream",
     "text": [
      "\n",
      " 73%|█████████████████████████████████████████████████████████████████████████████████████████▎                                 | 429/591 [06:26<02:29,  1.08it/s]\u001b[A"
     ]
    },
    {
     "name": "stdout",
     "output_type": "stream",
     "text": [
      "Error analyzing audio with Gemini: 429 Too Many Requests. {'message': 'Response not read', 'status': 'Too Many Requests'}\n"
     ]
    },
    {
     "name": "stderr",
     "output_type": "stream",
     "text": [
      "\n",
      " 73%|█████████████████████████████████████████████████████████████████████████████████████████▍                                 | 430/591 [06:27<02:27,  1.09it/s]\u001b[A"
     ]
    },
    {
     "name": "stdout",
     "output_type": "stream",
     "text": [
      "Error analyzing audio with Gemini: 429 Too Many Requests. {'message': 'Response not read', 'status': 'Too Many Requests'}\n"
     ]
    },
    {
     "name": "stderr",
     "output_type": "stream",
     "text": [
      "\n",
      " 73%|█████████████████████████████████████████████████████████████████████████████████████████▋                                 | 431/591 [06:28<02:26,  1.09it/s]\u001b[A"
     ]
    },
    {
     "name": "stdout",
     "output_type": "stream",
     "text": [
      "Error analyzing audio with Gemini: 429 Too Many Requests. {'message': 'Response not read', 'status': 'Too Many Requests'}\n"
     ]
    },
    {
     "name": "stderr",
     "output_type": "stream",
     "text": [
      "\n",
      " 73%|█████████████████████████████████████████████████████████████████████████████████████████▉                                 | 432/591 [06:29<02:34,  1.03it/s]\u001b[A"
     ]
    },
    {
     "name": "stdout",
     "output_type": "stream",
     "text": [
      "Error analyzing audio with Gemini: 429 Too Many Requests. {'message': 'Response not read', 'status': 'Too Many Requests'}\n"
     ]
    },
    {
     "name": "stderr",
     "output_type": "stream",
     "text": [
      "\n",
      " 73%|██████████████████████████████████████████████████████████████████████████████████████████                                 | 433/591 [06:30<02:28,  1.06it/s]\u001b[A"
     ]
    },
    {
     "name": "stdout",
     "output_type": "stream",
     "text": [
      "Error analyzing audio with Gemini: 429 Too Many Requests. {'message': 'Response not read', 'status': 'Too Many Requests'}\n"
     ]
    },
    {
     "name": "stderr",
     "output_type": "stream",
     "text": [
      "\n",
      " 73%|██████████████████████████████████████████████████████████████████████████████████████████▎                                | 434/591 [06:31<02:26,  1.07it/s]\u001b[A"
     ]
    },
    {
     "name": "stdout",
     "output_type": "stream",
     "text": [
      "Error analyzing audio with Gemini: 429 Too Many Requests. {'message': 'Response not read', 'status': 'Too Many Requests'}\n"
     ]
    },
    {
     "name": "stderr",
     "output_type": "stream",
     "text": [
      "\n",
      " 74%|██████████████████████████████████████████████████████████████████████████████████████████▌                                | 435/591 [06:32<02:29,  1.04it/s]\u001b[A"
     ]
    },
    {
     "name": "stdout",
     "output_type": "stream",
     "text": [
      "Error analyzing audio with Gemini: 429 Too Many Requests. {'message': 'Response not read', 'status': 'Too Many Requests'}\n"
     ]
    },
    {
     "name": "stderr",
     "output_type": "stream",
     "text": [
      "\n",
      " 74%|██████████████████████████████████████████████████████████████████████████████████████████▋                                | 436/591 [06:33<02:24,  1.07it/s]\u001b[A"
     ]
    },
    {
     "name": "stdout",
     "output_type": "stream",
     "text": [
      "Error analyzing audio with Gemini: 429 Too Many Requests. {'message': 'Response not read', 'status': 'Too Many Requests'}\n"
     ]
    },
    {
     "name": "stderr",
     "output_type": "stream",
     "text": [
      "\n",
      " 74%|██████████████████████████████████████████████████████████████████████████████████████████▉                                | 437/591 [06:34<02:32,  1.01it/s]\u001b[A"
     ]
    },
    {
     "name": "stdout",
     "output_type": "stream",
     "text": [
      "Error analyzing audio with Gemini: 429 Too Many Requests. {'message': 'Response not read', 'status': 'Too Many Requests'}\n"
     ]
    },
    {
     "name": "stderr",
     "output_type": "stream",
     "text": [
      "\n",
      " 74%|███████████████████████████████████████████████████████████████████████████████████████████▏                               | 438/591 [06:35<02:28,  1.03it/s]\u001b[A"
     ]
    },
    {
     "name": "stdout",
     "output_type": "stream",
     "text": [
      "Error analyzing audio with Gemini: 429 Too Many Requests. {'message': 'Response not read', 'status': 'Too Many Requests'}\n"
     ]
    },
    {
     "name": "stderr",
     "output_type": "stream",
     "text": [
      "\n",
      " 74%|███████████████████████████████████████████████████████████████████████████████████████████▎                               | 439/591 [06:36<02:33,  1.01s/it]\u001b[A"
     ]
    },
    {
     "name": "stdout",
     "output_type": "stream",
     "text": [
      "Error analyzing audio with Gemini: 429 Too Many Requests. {'message': 'Response not read', 'status': 'Too Many Requests'}\n"
     ]
    },
    {
     "name": "stderr",
     "output_type": "stream",
     "text": [
      "\n",
      " 74%|███████████████████████████████████████████████████████████████████████████████████████████▌                               | 440/591 [06:37<02:23,  1.05it/s]\u001b[A"
     ]
    },
    {
     "name": "stdout",
     "output_type": "stream",
     "text": [
      "Error analyzing audio with Gemini: 429 Too Many Requests. {'message': 'Response not read', 'status': 'Too Many Requests'}\n"
     ]
    },
    {
     "name": "stderr",
     "output_type": "stream",
     "text": [
      "\n",
      " 75%|███████████████████████████████████████████████████████████████████████████████████████████▊                               | 441/591 [06:37<02:22,  1.05it/s]\u001b[A"
     ]
    },
    {
     "name": "stdout",
     "output_type": "stream",
     "text": [
      "Error analyzing audio with Gemini: 429 Too Many Requests. {'message': 'Response not read', 'status': 'Too Many Requests'}\n"
     ]
    },
    {
     "name": "stderr",
     "output_type": "stream",
     "text": [
      "\n",
      " 75%|███████████████████████████████████████████████████████████████████████████████████████████▉                               | 442/591 [06:38<02:12,  1.13it/s]\u001b[A"
     ]
    },
    {
     "name": "stdout",
     "output_type": "stream",
     "text": [
      "Error analyzing audio with Gemini: 429 Too Many Requests. {'message': 'Response not read', 'status': 'Too Many Requests'}\n"
     ]
    },
    {
     "name": "stderr",
     "output_type": "stream",
     "text": [
      "\n",
      " 75%|████████████████████████████████████████████████████████████████████████████████████████████▏                              | 443/591 [06:39<02:08,  1.15it/s]\u001b[A"
     ]
    },
    {
     "name": "stdout",
     "output_type": "stream",
     "text": [
      "Error analyzing audio with Gemini: 429 Too Many Requests. {'message': 'Response not read', 'status': 'Too Many Requests'}\n"
     ]
    },
    {
     "name": "stderr",
     "output_type": "stream",
     "text": [
      "\n",
      " 75%|████████████████████████████████████████████████████████████████████████████████████████████▍                              | 444/591 [06:40<02:03,  1.19it/s]\u001b[A"
     ]
    },
    {
     "name": "stdout",
     "output_type": "stream",
     "text": [
      "Error analyzing audio with Gemini: 429 Too Many Requests. {'message': 'Response not read', 'status': 'Too Many Requests'}\n"
     ]
    },
    {
     "name": "stderr",
     "output_type": "stream",
     "text": [
      "\n",
      " 75%|████████████████████████████████████████████████████████████████████████████████████████████▌                              | 445/591 [06:41<02:02,  1.19it/s]\u001b[A"
     ]
    },
    {
     "name": "stdout",
     "output_type": "stream",
     "text": [
      "Error analyzing audio with Gemini: 429 Too Many Requests. {'message': 'Response not read', 'status': 'Too Many Requests'}\n"
     ]
    },
    {
     "name": "stderr",
     "output_type": "stream",
     "text": [
      "\n",
      " 75%|████████████████████████████████████████████████████████████████████████████████████████████▊                              | 446/591 [06:42<02:09,  1.12it/s]\u001b[A"
     ]
    },
    {
     "name": "stdout",
     "output_type": "stream",
     "text": [
      "Error analyzing audio with Gemini: 429 Too Many Requests. {'message': 'Response not read', 'status': 'Too Many Requests'}\n"
     ]
    },
    {
     "name": "stderr",
     "output_type": "stream",
     "text": [
      "\n",
      " 76%|█████████████████████████████████████████████████████████████████████████████████████████████                              | 447/591 [06:43<02:09,  1.11it/s]\u001b[A"
     ]
    },
    {
     "name": "stdout",
     "output_type": "stream",
     "text": [
      "Error analyzing audio with Gemini: 429 Too Many Requests. {'message': 'Response not read', 'status': 'Too Many Requests'}\n"
     ]
    },
    {
     "name": "stderr",
     "output_type": "stream",
     "text": [
      "\n",
      " 76%|█████████████████████████████████████████████████████████████████████████████████████████████▏                             | 448/591 [06:43<02:04,  1.15it/s]\u001b[A"
     ]
    },
    {
     "name": "stdout",
     "output_type": "stream",
     "text": [
      "Error analyzing audio with Gemini: 429 Too Many Requests. {'message': 'Response not read', 'status': 'Too Many Requests'}\n"
     ]
    },
    {
     "name": "stderr",
     "output_type": "stream",
     "text": [
      "\n",
      " 76%|█████████████████████████████████████████████████████████████████████████████████████████████▍                             | 449/591 [06:44<02:05,  1.13it/s]\u001b[A"
     ]
    },
    {
     "name": "stdout",
     "output_type": "stream",
     "text": [
      "Error analyzing audio with Gemini: 429 Too Many Requests. {'message': 'Response not read', 'status': 'Too Many Requests'}\n"
     ]
    },
    {
     "name": "stderr",
     "output_type": "stream",
     "text": [
      "\n",
      " 76%|█████████████████████████████████████████████████████████████████████████████████████████████▋                             | 450/591 [06:45<02:03,  1.14it/s]\u001b[A"
     ]
    },
    {
     "name": "stdout",
     "output_type": "stream",
     "text": [
      "Error analyzing audio with Gemini: 429 Too Many Requests. {'message': 'Response not read', 'status': 'Too Many Requests'}\n"
     ]
    },
    {
     "name": "stderr",
     "output_type": "stream",
     "text": [
      "\n",
      " 76%|█████████████████████████████████████████████████████████████████████████████████████████████▊                             | 451/591 [06:46<02:08,  1.09it/s]\u001b[A"
     ]
    },
    {
     "name": "stdout",
     "output_type": "stream",
     "text": [
      "Error analyzing audio with Gemini: 429 Too Many Requests. {'message': 'Response not read', 'status': 'Too Many Requests'}\n"
     ]
    },
    {
     "name": "stderr",
     "output_type": "stream",
     "text": [
      "\n",
      " 76%|██████████████████████████████████████████████████████████████████████████████████████████████                             | 452/591 [06:47<02:01,  1.15it/s]\u001b[A"
     ]
    },
    {
     "name": "stdout",
     "output_type": "stream",
     "text": [
      "Error analyzing audio with Gemini: 429 Too Many Requests. {'message': 'Response not read', 'status': 'Too Many Requests'}\n"
     ]
    },
    {
     "name": "stderr",
     "output_type": "stream",
     "text": [
      "\n",
      " 77%|██████████████████████████████████████████████████████████████████████████████████████████████▎                            | 453/591 [06:48<01:58,  1.16it/s]\u001b[A"
     ]
    },
    {
     "name": "stdout",
     "output_type": "stream",
     "text": [
      "Error analyzing audio with Gemini: 429 Too Many Requests. {'message': 'Response not read', 'status': 'Too Many Requests'}\n"
     ]
    },
    {
     "name": "stderr",
     "output_type": "stream",
     "text": [
      "\n",
      " 77%|██████████████████████████████████████████████████████████████████████████████████████████████▍                            | 454/591 [06:49<01:54,  1.19it/s]\u001b[A"
     ]
    },
    {
     "name": "stdout",
     "output_type": "stream",
     "text": [
      "Error analyzing audio with Gemini: 429 Too Many Requests. {'message': 'Response not read', 'status': 'Too Many Requests'}\n"
     ]
    },
    {
     "name": "stderr",
     "output_type": "stream",
     "text": [
      "\n",
      " 77%|██████████████████████████████████████████████████████████████████████████████████████████████▋                            | 455/591 [06:49<01:51,  1.22it/s]\u001b[A"
     ]
    },
    {
     "name": "stdout",
     "output_type": "stream",
     "text": [
      "Error analyzing audio with Gemini: 429 Too Many Requests. {'message': 'Response not read', 'status': 'Too Many Requests'}\n"
     ]
    },
    {
     "name": "stderr",
     "output_type": "stream",
     "text": [
      "\n",
      " 77%|██████████████████████████████████████████████████████████████████████████████████████████████▉                            | 456/591 [06:50<01:59,  1.13it/s]\u001b[A"
     ]
    },
    {
     "name": "stdout",
     "output_type": "stream",
     "text": [
      "Error analyzing audio with Gemini: 429 Too Many Requests. {'message': 'Response not read', 'status': 'Too Many Requests'}\n"
     ]
    },
    {
     "name": "stderr",
     "output_type": "stream",
     "text": [
      "\n",
      " 77%|███████████████████████████████████████████████████████████████████████████████████████████████                            | 457/591 [06:51<02:04,  1.08it/s]\u001b[A"
     ]
    },
    {
     "name": "stdout",
     "output_type": "stream",
     "text": [
      "Error analyzing audio with Gemini: 429 Too Many Requests. {'message': 'Response not read', 'status': 'Too Many Requests'}\n"
     ]
    },
    {
     "name": "stderr",
     "output_type": "stream",
     "text": [
      "\n",
      " 77%|███████████████████████████████████████████████████████████████████████████████████████████████▎                           | 458/591 [06:52<01:55,  1.16it/s]\u001b[A"
     ]
    },
    {
     "name": "stdout",
     "output_type": "stream",
     "text": [
      "Error analyzing audio with Gemini: 429 Too Many Requests. {'message': 'Response not read', 'status': 'Too Many Requests'}\n"
     ]
    },
    {
     "name": "stderr",
     "output_type": "stream",
     "text": [
      "\n",
      " 78%|███████████████████████████████████████████████████████████████████████████████████████████████▌                           | 459/591 [06:53<01:54,  1.15it/s]\u001b[A"
     ]
    },
    {
     "name": "stdout",
     "output_type": "stream",
     "text": [
      "Error analyzing audio with Gemini: 429 Too Many Requests. {'message': 'Response not read', 'status': 'Too Many Requests'}\n"
     ]
    },
    {
     "name": "stderr",
     "output_type": "stream",
     "text": [
      "\n",
      " 78%|███████████████████████████████████████████████████████████████████████████████████████████████▋                           | 460/591 [06:54<01:54,  1.15it/s]\u001b[A"
     ]
    },
    {
     "name": "stdout",
     "output_type": "stream",
     "text": [
      "Error analyzing audio with Gemini: 429 Too Many Requests. {'message': 'Response not read', 'status': 'Too Many Requests'}\n"
     ]
    },
    {
     "name": "stderr",
     "output_type": "stream",
     "text": [
      "\n",
      " 78%|███████████████████████████████████████████████████████████████████████████████████████████████▉                           | 461/591 [06:55<01:53,  1.14it/s]\u001b[A"
     ]
    },
    {
     "name": "stdout",
     "output_type": "stream",
     "text": [
      "Error analyzing audio with Gemini: 429 Too Many Requests. {'message': 'Response not read', 'status': 'Too Many Requests'}\n"
     ]
    },
    {
     "name": "stderr",
     "output_type": "stream",
     "text": [
      "\n",
      " 78%|████████████████████████████████████████████████████████████████████████████████████████████████▏                          | 462/591 [06:56<01:55,  1.12it/s]\u001b[A"
     ]
    },
    {
     "name": "stdout",
     "output_type": "stream",
     "text": [
      "Error analyzing audio with Gemini: 429 Too Many Requests. {'message': 'Response not read', 'status': 'Too Many Requests'}\n"
     ]
    },
    {
     "name": "stderr",
     "output_type": "stream",
     "text": [
      "\n",
      " 78%|████████████████████████████████████████████████████████████████████████████████████████████████▎                          | 463/591 [06:57<01:55,  1.11it/s]\u001b[A"
     ]
    },
    {
     "name": "stdout",
     "output_type": "stream",
     "text": [
      "Error analyzing audio with Gemini: 429 Too Many Requests. {'message': 'Response not read', 'status': 'Too Many Requests'}\n"
     ]
    },
    {
     "name": "stderr",
     "output_type": "stream",
     "text": [
      "\n",
      " 79%|████████████████████████████████████████████████████████████████████████████████████████████████▌                          | 464/591 [06:58<02:03,  1.03it/s]\u001b[A"
     ]
    },
    {
     "name": "stdout",
     "output_type": "stream",
     "text": [
      "Error analyzing audio with Gemini: 429 Too Many Requests. {'message': 'Response not read', 'status': 'Too Many Requests'}\n"
     ]
    },
    {
     "name": "stderr",
     "output_type": "stream",
     "text": [
      "\n",
      " 79%|████████████████████████████████████████████████████████████████████████████████████████████████▊                          | 465/591 [06:59<02:00,  1.05it/s]\u001b[A"
     ]
    },
    {
     "name": "stdout",
     "output_type": "stream",
     "text": [
      "Error analyzing audio with Gemini: 429 Too Many Requests. {'message': 'Response not read', 'status': 'Too Many Requests'}\n"
     ]
    },
    {
     "name": "stderr",
     "output_type": "stream",
     "text": [
      "\n",
      " 79%|████████████████████████████████████████████████████████████████████████████████████████████████▉                          | 466/591 [07:00<02:01,  1.03it/s]\u001b[A"
     ]
    },
    {
     "name": "stdout",
     "output_type": "stream",
     "text": [
      "Error analyzing audio with Gemini: 429 Too Many Requests. {'message': 'Response not read', 'status': 'Too Many Requests'}\n"
     ]
    },
    {
     "name": "stderr",
     "output_type": "stream",
     "text": [
      "\n",
      " 79%|█████████████████████████████████████████████████████████████████████████████████████████████████▏                         | 467/591 [07:01<01:57,  1.06it/s]\u001b[A"
     ]
    },
    {
     "name": "stdout",
     "output_type": "stream",
     "text": [
      "Error analyzing audio with Gemini: 429 Too Many Requests. {'message': 'Response not read', 'status': 'Too Many Requests'}\n"
     ]
    },
    {
     "name": "stderr",
     "output_type": "stream",
     "text": [
      "\n",
      " 79%|█████████████████████████████████████████████████████████████████████████████████████████████████▍                         | 468/591 [07:01<01:49,  1.12it/s]\u001b[A"
     ]
    },
    {
     "name": "stdout",
     "output_type": "stream",
     "text": [
      "Error analyzing audio with Gemini: 429 Too Many Requests. {'message': 'Response not read', 'status': 'Too Many Requests'}\n"
     ]
    },
    {
     "name": "stderr",
     "output_type": "stream",
     "text": [
      "\n",
      " 79%|█████████████████████████████████████████████████████████████████████████████████████████████████▌                         | 469/591 [07:02<01:46,  1.15it/s]\u001b[A"
     ]
    },
    {
     "name": "stdout",
     "output_type": "stream",
     "text": [
      "Error analyzing audio with Gemini: 429 Too Many Requests. {'message': 'Response not read', 'status': 'Too Many Requests'}\n"
     ]
    },
    {
     "name": "stderr",
     "output_type": "stream",
     "text": [
      "\n",
      " 80%|█████████████████████████████████████████████████████████████████████████████████████████████████▊                         | 470/591 [07:03<01:39,  1.22it/s]\u001b[A"
     ]
    },
    {
     "name": "stdout",
     "output_type": "stream",
     "text": [
      "Error analyzing audio with Gemini: 429 Too Many Requests. {'message': 'Response not read', 'status': 'Too Many Requests'}\n"
     ]
    },
    {
     "name": "stderr",
     "output_type": "stream",
     "text": [
      "\n",
      " 80%|██████████████████████████████████████████████████████████████████████████████████████████████████                         | 471/591 [07:04<01:41,  1.18it/s]\u001b[A"
     ]
    },
    {
     "name": "stdout",
     "output_type": "stream",
     "text": [
      "Error analyzing audio with Gemini: 429 Too Many Requests. {'message': 'Response not read', 'status': 'Too Many Requests'}\n"
     ]
    },
    {
     "name": "stderr",
     "output_type": "stream",
     "text": [
      "\n",
      " 80%|██████████████████████████████████████████████████████████████████████████████████████████████████▏                        | 472/591 [07:05<01:42,  1.16it/s]\u001b[A"
     ]
    },
    {
     "name": "stdout",
     "output_type": "stream",
     "text": [
      "Error analyzing audio with Gemini: 429 Too Many Requests. {'message': 'Response not read', 'status': 'Too Many Requests'}\n"
     ]
    },
    {
     "name": "stderr",
     "output_type": "stream",
     "text": [
      "\n",
      " 80%|██████████████████████████████████████████████████████████████████████████████████████████████████▍                        | 473/591 [07:05<01:40,  1.18it/s]\u001b[A"
     ]
    },
    {
     "name": "stdout",
     "output_type": "stream",
     "text": [
      "Error analyzing audio with Gemini: 429 Too Many Requests. {'message': 'Response not read', 'status': 'Too Many Requests'}\n"
     ]
    },
    {
     "name": "stderr",
     "output_type": "stream",
     "text": [
      "\n",
      " 80%|██████████████████████████████████████████████████████████████████████████████████████████████████▋                        | 474/591 [07:06<01:35,  1.22it/s]\u001b[A"
     ]
    },
    {
     "name": "stdout",
     "output_type": "stream",
     "text": [
      "Error analyzing audio with Gemini: 429 Too Many Requests. {'message': 'Response not read', 'status': 'Too Many Requests'}\n"
     ]
    },
    {
     "name": "stderr",
     "output_type": "stream",
     "text": [
      "\n",
      " 80%|██████████████████████████████████████████████████████████████████████████████████████████████████▊                        | 475/591 [07:07<01:42,  1.13it/s]\u001b[A"
     ]
    },
    {
     "name": "stdout",
     "output_type": "stream",
     "text": [
      "Error analyzing audio with Gemini: 429 Too Many Requests. {'message': 'Response not read', 'status': 'Too Many Requests'}\n"
     ]
    },
    {
     "name": "stderr",
     "output_type": "stream",
     "text": [
      "\n",
      " 81%|███████████████████████████████████████████████████████████████████████████████████████████████████                        | 476/591 [07:08<01:43,  1.12it/s]\u001b[A"
     ]
    },
    {
     "name": "stdout",
     "output_type": "stream",
     "text": [
      "Error analyzing audio with Gemini: 429 Too Many Requests. {'message': 'Response not read', 'status': 'Too Many Requests'}\n"
     ]
    },
    {
     "name": "stderr",
     "output_type": "stream",
     "text": [
      "\n",
      " 81%|███████████████████████████████████████████████████████████████████████████████████████████████████▎                       | 477/591 [07:09<01:36,  1.18it/s]\u001b[A"
     ]
    },
    {
     "name": "stdout",
     "output_type": "stream",
     "text": [
      "Error analyzing audio with Gemini: 429 Too Many Requests. {'message': 'Response not read', 'status': 'Too Many Requests'}\n"
     ]
    },
    {
     "name": "stderr",
     "output_type": "stream",
     "text": [
      "\n",
      " 81%|███████████████████████████████████████████████████████████████████████████████████████████████████▍                       | 478/591 [07:10<01:34,  1.20it/s]\u001b[A"
     ]
    },
    {
     "name": "stdout",
     "output_type": "stream",
     "text": [
      "Error analyzing audio with Gemini: 429 Too Many Requests. {'message': 'Response not read', 'status': 'Too Many Requests'}\n"
     ]
    },
    {
     "name": "stderr",
     "output_type": "stream",
     "text": [
      "\n",
      " 81%|███████████████████████████████████████████████████████████████████████████████████████████████████▋                       | 479/591 [07:11<01:33,  1.20it/s]\u001b[A"
     ]
    },
    {
     "name": "stdout",
     "output_type": "stream",
     "text": [
      "Error analyzing audio with Gemini: 429 Too Many Requests. {'message': 'Response not read', 'status': 'Too Many Requests'}\n"
     ]
    },
    {
     "name": "stderr",
     "output_type": "stream",
     "text": [
      "\n",
      " 81%|███████████████████████████████████████████████████████████████████████████████████████████████████▉                       | 480/591 [07:11<01:33,  1.18it/s]\u001b[A"
     ]
    },
    {
     "name": "stdout",
     "output_type": "stream",
     "text": [
      "Error analyzing audio with Gemini: 429 Too Many Requests. {'message': 'Response not read', 'status': 'Too Many Requests'}\n"
     ]
    },
    {
     "name": "stderr",
     "output_type": "stream",
     "text": [
      "\n",
      " 81%|████████████████████████████████████████████████████████████████████████████████████████████████████                       | 481/591 [07:12<01:35,  1.15it/s]\u001b[A"
     ]
    },
    {
     "name": "stdout",
     "output_type": "stream",
     "text": [
      "Error analyzing audio with Gemini: 429 Too Many Requests. {'message': 'Response not read', 'status': 'Too Many Requests'}\n"
     ]
    },
    {
     "name": "stderr",
     "output_type": "stream",
     "text": [
      "\n",
      " 82%|████████████████████████████████████████████████████████████████████████████████████████████████████▎                      | 482/591 [07:13<01:40,  1.08it/s]\u001b[A"
     ]
    },
    {
     "name": "stdout",
     "output_type": "stream",
     "text": [
      "Error analyzing audio with Gemini: 429 Too Many Requests. {'message': 'Response not read', 'status': 'Too Many Requests'}\n"
     ]
    },
    {
     "name": "stderr",
     "output_type": "stream",
     "text": [
      "\n",
      " 82%|████████████████████████████████████████████████████████████████████████████████████████████████████▌                      | 483/591 [07:14<01:42,  1.05it/s]\u001b[A"
     ]
    },
    {
     "name": "stdout",
     "output_type": "stream",
     "text": [
      "Error analyzing audio with Gemini: 429 Too Many Requests. {'message': 'Response not read', 'status': 'Too Many Requests'}\n"
     ]
    },
    {
     "name": "stderr",
     "output_type": "stream",
     "text": [
      "\n",
      " 82%|████████████████████████████████████████████████████████████████████████████████████████████████████▋                      | 484/591 [07:15<01:44,  1.03it/s]\u001b[A"
     ]
    },
    {
     "name": "stdout",
     "output_type": "stream",
     "text": [
      "Error analyzing audio with Gemini: 429 Too Many Requests. {'message': 'Response not read', 'status': 'Too Many Requests'}\n"
     ]
    },
    {
     "name": "stderr",
     "output_type": "stream",
     "text": [
      "\n",
      " 82%|████████████████████████████████████████████████████████████████████████████████████████████████████▉                      | 485/591 [07:17<01:48,  1.02s/it]\u001b[A"
     ]
    },
    {
     "name": "stdout",
     "output_type": "stream",
     "text": [
      "Error analyzing audio with Gemini: 429 Too Many Requests. {'message': 'Response not read', 'status': 'Too Many Requests'}\n"
     ]
    },
    {
     "name": "stderr",
     "output_type": "stream",
     "text": [
      "\n",
      " 82%|█████████████████████████████████████████████████████████████████████████████████████████████████████▏                     | 486/591 [07:18<01:47,  1.02s/it]\u001b[A"
     ]
    },
    {
     "name": "stdout",
     "output_type": "stream",
     "text": [
      "Error analyzing audio with Gemini: 429 Too Many Requests. {'message': 'Response not read', 'status': 'Too Many Requests'}\n"
     ]
    },
    {
     "name": "stderr",
     "output_type": "stream",
     "text": [
      "\n",
      " 82%|█████████████████████████████████████████████████████████████████████████████████████████████████████▎                     | 487/591 [07:18<01:37,  1.06it/s]\u001b[A"
     ]
    },
    {
     "name": "stdout",
     "output_type": "stream",
     "text": [
      "Error analyzing audio with Gemini: 429 Too Many Requests. {'message': 'Response not read', 'status': 'Too Many Requests'}\n"
     ]
    },
    {
     "name": "stderr",
     "output_type": "stream",
     "text": [
      "\n",
      " 83%|█████████████████████████████████████████████████████████████████████████████████████████████████████▌                     | 488/591 [07:19<01:38,  1.05it/s]\u001b[A"
     ]
    },
    {
     "name": "stdout",
     "output_type": "stream",
     "text": [
      "Error analyzing audio with Gemini: 429 Too Many Requests. {'message': 'Response not read', 'status': 'Too Many Requests'}\n"
     ]
    },
    {
     "name": "stderr",
     "output_type": "stream",
     "text": [
      "\n",
      " 83%|█████████████████████████████████████████████████████████████████████████████████████████████████████▊                     | 489/591 [07:20<01:39,  1.02it/s]\u001b[A"
     ]
    },
    {
     "name": "stdout",
     "output_type": "stream",
     "text": [
      "Error analyzing audio with Gemini: 429 Too Many Requests. {'message': 'Response not read', 'status': 'Too Many Requests'}\n"
     ]
    },
    {
     "name": "stderr",
     "output_type": "stream",
     "text": [
      "\n",
      " 83%|█████████████████████████████████████████████████████████████████████████████████████████████████████▉                     | 490/591 [07:21<01:39,  1.01it/s]\u001b[A"
     ]
    },
    {
     "name": "stdout",
     "output_type": "stream",
     "text": [
      "Error analyzing audio with Gemini: 429 Too Many Requests. {'message': 'Response not read', 'status': 'Too Many Requests'}\n"
     ]
    },
    {
     "name": "stderr",
     "output_type": "stream",
     "text": [
      "\n",
      " 83%|██████████████████████████████████████████████████████████████████████████████████████████████████████▏                    | 491/591 [07:22<01:34,  1.06it/s]\u001b[A"
     ]
    },
    {
     "name": "stdout",
     "output_type": "stream",
     "text": [
      "Error analyzing audio with Gemini: 429 Too Many Requests. {'message': 'Response not read', 'status': 'Too Many Requests'}\n"
     ]
    },
    {
     "name": "stderr",
     "output_type": "stream",
     "text": [
      "\n",
      " 83%|██████████████████████████████████████████████████████████████████████████████████████████████████████▍                    | 492/591 [07:23<01:30,  1.10it/s]\u001b[A"
     ]
    },
    {
     "name": "stdout",
     "output_type": "stream",
     "text": [
      "Error analyzing audio with Gemini: 429 Too Many Requests. {'message': 'Response not read', 'status': 'Too Many Requests'}\n"
     ]
    },
    {
     "name": "stderr",
     "output_type": "stream",
     "text": [
      "\n",
      " 83%|██████████████████████████████████████████████████████████████████████████████████████████████████████▌                    | 493/591 [07:24<01:34,  1.04it/s]\u001b[A"
     ]
    },
    {
     "name": "stdout",
     "output_type": "stream",
     "text": [
      "Error analyzing audio with Gemini: 429 Too Many Requests. {'message': 'Response not read', 'status': 'Too Many Requests'}\n"
     ]
    },
    {
     "name": "stderr",
     "output_type": "stream",
     "text": [
      "\n",
      " 84%|██████████████████████████████████████████████████████████████████████████████████████████████████████▊                    | 494/591 [07:25<01:27,  1.11it/s]\u001b[A"
     ]
    },
    {
     "name": "stdout",
     "output_type": "stream",
     "text": [
      "Error analyzing audio with Gemini: 429 Too Many Requests. {'message': 'Response not read', 'status': 'Too Many Requests'}\n"
     ]
    },
    {
     "name": "stderr",
     "output_type": "stream",
     "text": [
      "\n",
      " 84%|███████████████████████████████████████████████████████████████████████████████████████████████████████                    | 495/591 [07:26<01:29,  1.08it/s]\u001b[A"
     ]
    },
    {
     "name": "stdout",
     "output_type": "stream",
     "text": [
      "Error analyzing audio with Gemini: 429 Too Many Requests. {'message': 'Response not read', 'status': 'Too Many Requests'}\n"
     ]
    },
    {
     "name": "stderr",
     "output_type": "stream",
     "text": [
      "\n",
      " 84%|███████████████████████████████████████████████████████████████████████████████████████████████████████▏                   | 496/591 [07:27<01:28,  1.07it/s]\u001b[A"
     ]
    },
    {
     "name": "stdout",
     "output_type": "stream",
     "text": [
      "Error analyzing audio with Gemini: 429 Too Many Requests. {'message': 'Response not read', 'status': 'Too Many Requests'}\n"
     ]
    },
    {
     "name": "stderr",
     "output_type": "stream",
     "text": [
      "\n",
      " 84%|███████████████████████████████████████████████████████████████████████████████████████████████████████▍                   | 497/591 [07:28<01:22,  1.14it/s]\u001b[A"
     ]
    },
    {
     "name": "stdout",
     "output_type": "stream",
     "text": [
      "Error analyzing audio with Gemini: 429 Too Many Requests. {'message': 'Response not read', 'status': 'Too Many Requests'}\n"
     ]
    },
    {
     "name": "stderr",
     "output_type": "stream",
     "text": [
      "\n",
      " 84%|███████████████████████████████████████████████████████████████████████████████████████████████████████▋                   | 498/591 [07:29<01:24,  1.10it/s]\u001b[A"
     ]
    },
    {
     "name": "stdout",
     "output_type": "stream",
     "text": [
      "Error analyzing audio with Gemini: 429 Too Many Requests. {'message': 'Response not read', 'status': 'Too Many Requests'}\n"
     ]
    },
    {
     "name": "stderr",
     "output_type": "stream",
     "text": [
      "\n",
      " 84%|███████████████████████████████████████████████████████████████████████████████████████████████████████▊                   | 499/591 [07:30<01:27,  1.06it/s]\u001b[A"
     ]
    },
    {
     "name": "stdout",
     "output_type": "stream",
     "text": [
      "Error analyzing audio with Gemini: 429 Too Many Requests. {'message': 'Response not read', 'status': 'Too Many Requests'}\n"
     ]
    },
    {
     "name": "stderr",
     "output_type": "stream",
     "text": [
      "\n",
      " 85%|████████████████████████████████████████████████████████████████████████████████████████████████████████                   | 500/591 [07:30<01:19,  1.15it/s]\u001b[A"
     ]
    },
    {
     "name": "stdout",
     "output_type": "stream",
     "text": [
      "Error analyzing audio with Gemini: 429 Too Many Requests. {'message': 'Response not read', 'status': 'Too Many Requests'}\n"
     ]
    },
    {
     "name": "stderr",
     "output_type": "stream",
     "text": [
      "\n",
      " 85%|████████████████████████████████████████████████████████████████████████████████████████████████████████▎                  | 501/591 [07:31<01:20,  1.11it/s]\u001b[A"
     ]
    },
    {
     "name": "stdout",
     "output_type": "stream",
     "text": [
      "Error analyzing audio with Gemini: 429 Too Many Requests. {'message': 'Response not read', 'status': 'Too Many Requests'}\n"
     ]
    },
    {
     "name": "stderr",
     "output_type": "stream",
     "text": [
      "\n",
      " 85%|████████████████████████████████████████████████████████████████████████████████████████████████████████▍                  | 502/591 [07:32<01:21,  1.09it/s]\u001b[A"
     ]
    },
    {
     "name": "stdout",
     "output_type": "stream",
     "text": [
      "Error analyzing audio with Gemini: 429 Too Many Requests. {'message': 'Response not read', 'status': 'Too Many Requests'}\n"
     ]
    },
    {
     "name": "stderr",
     "output_type": "stream",
     "text": [
      "\n",
      " 85%|████████████████████████████████████████████████████████████████████████████████████████████████████████▋                  | 503/591 [07:33<01:22,  1.07it/s]\u001b[A"
     ]
    },
    {
     "name": "stdout",
     "output_type": "stream",
     "text": [
      "Error analyzing audio with Gemini: 429 Too Many Requests. {'message': 'Response not read', 'status': 'Too Many Requests'}\n"
     ]
    },
    {
     "name": "stderr",
     "output_type": "stream",
     "text": [
      "\n",
      " 85%|████████████████████████████████████████████████████████████████████████████████████████████████████████▉                  | 504/591 [07:34<01:20,  1.08it/s]\u001b[A"
     ]
    },
    {
     "name": "stdout",
     "output_type": "stream",
     "text": [
      "Error analyzing audio with Gemini: 429 Too Many Requests. {'message': 'Response not read', 'status': 'Too Many Requests'}\n"
     ]
    },
    {
     "name": "stderr",
     "output_type": "stream",
     "text": [
      "\n",
      " 85%|█████████████████████████████████████████████████████████████████████████████████████████████████████████                  | 505/591 [07:35<01:15,  1.14it/s]\u001b[A"
     ]
    },
    {
     "name": "stdout",
     "output_type": "stream",
     "text": [
      "Error analyzing audio with Gemini: 429 Too Many Requests. {'message': 'Response not read', 'status': 'Too Many Requests'}\n"
     ]
    },
    {
     "name": "stderr",
     "output_type": "stream",
     "text": [
      "\n",
      " 86%|█████████████████████████████████████████████████████████████████████████████████████████████████████████▎                 | 506/591 [07:36<01:15,  1.12it/s]\u001b[A"
     ]
    },
    {
     "name": "stdout",
     "output_type": "stream",
     "text": [
      "Error analyzing audio with Gemini: 429 Too Many Requests. {'message': 'Response not read', 'status': 'Too Many Requests'}\n"
     ]
    },
    {
     "name": "stderr",
     "output_type": "stream",
     "text": [
      "\n",
      " 86%|█████████████████████████████████████████████████████████████████████████████████████████████████████████▌                 | 507/591 [07:37<01:12,  1.17it/s]\u001b[A"
     ]
    },
    {
     "name": "stdout",
     "output_type": "stream",
     "text": [
      "Error analyzing audio with Gemini: 429 Too Many Requests. {'message': 'Response not read', 'status': 'Too Many Requests'}\n"
     ]
    },
    {
     "name": "stderr",
     "output_type": "stream",
     "text": [
      "\n",
      " 86%|█████████████████████████████████████████████████████████████████████████████████████████████████████████▋                 | 508/591 [07:38<01:13,  1.14it/s]\u001b[A"
     ]
    },
    {
     "name": "stdout",
     "output_type": "stream",
     "text": [
      "Error analyzing audio with Gemini: 429 Too Many Requests. {'message': 'Response not read', 'status': 'Too Many Requests'}\n"
     ]
    },
    {
     "name": "stderr",
     "output_type": "stream",
     "text": [
      "\n",
      " 86%|█████████████████████████████████████████████████████████████████████████████████████████████████████████▉                 | 509/591 [07:38<01:09,  1.19it/s]\u001b[A"
     ]
    },
    {
     "name": "stdout",
     "output_type": "stream",
     "text": [
      "Error analyzing audio with Gemini: 429 Too Many Requests. {'message': 'Response not read', 'status': 'Too Many Requests'}\n"
     ]
    },
    {
     "name": "stderr",
     "output_type": "stream",
     "text": [
      "\n",
      " 86%|██████████████████████████████████████████████████████████████████████████████████████████████████████████▏                | 510/591 [07:39<01:12,  1.12it/s]\u001b[A"
     ]
    },
    {
     "name": "stdout",
     "output_type": "stream",
     "text": [
      "Error analyzing audio with Gemini: 429 Too Many Requests. {'message': 'Response not read', 'status': 'Too Many Requests'}\n"
     ]
    },
    {
     "name": "stderr",
     "output_type": "stream",
     "text": [
      "\n",
      " 86%|██████████████████████████████████████████████████████████████████████████████████████████████████████████▎                | 511/591 [07:40<01:13,  1.09it/s]\u001b[A"
     ]
    },
    {
     "name": "stdout",
     "output_type": "stream",
     "text": [
      "Error analyzing audio with Gemini: 429 Too Many Requests. {'message': 'Response not read', 'status': 'Too Many Requests'}\n"
     ]
    },
    {
     "name": "stderr",
     "output_type": "stream",
     "text": [
      "\n",
      " 87%|██████████████████████████████████████████████████████████████████████████████████████████████████████████▌                | 512/591 [07:41<01:15,  1.05it/s]\u001b[A"
     ]
    },
    {
     "name": "stdout",
     "output_type": "stream",
     "text": [
      "Error analyzing audio with Gemini: 429 Too Many Requests. {'message': 'Response not read', 'status': 'Too Many Requests'}\n"
     ]
    },
    {
     "name": "stderr",
     "output_type": "stream",
     "text": [
      "\n",
      " 87%|██████████████████████████████████████████████████████████████████████████████████████████████████████████▊                | 513/591 [07:42<01:12,  1.08it/s]\u001b[A"
     ]
    },
    {
     "name": "stdout",
     "output_type": "stream",
     "text": [
      "Error analyzing audio with Gemini: 429 Too Many Requests. {'message': 'Response not read', 'status': 'Too Many Requests'}\n"
     ]
    },
    {
     "name": "stderr",
     "output_type": "stream",
     "text": [
      "\n",
      " 87%|██████████████████████████████████████████████████████████████████████████████████████████████████████████▉                | 514/591 [07:43<01:12,  1.06it/s]\u001b[A"
     ]
    },
    {
     "name": "stdout",
     "output_type": "stream",
     "text": [
      "Error analyzing audio with Gemini: 429 Too Many Requests. {'message': 'Response not read', 'status': 'Too Many Requests'}\n"
     ]
    },
    {
     "name": "stderr",
     "output_type": "stream",
     "text": [
      "\n",
      " 87%|███████████████████████████████████████████████████████████████████████████████████████████████████████████▏               | 515/591 [07:44<01:09,  1.10it/s]\u001b[A"
     ]
    },
    {
     "name": "stdout",
     "output_type": "stream",
     "text": [
      "Error analyzing audio with Gemini: 429 Too Many Requests. {'message': 'Response not read', 'status': 'Too Many Requests'}\n"
     ]
    },
    {
     "name": "stderr",
     "output_type": "stream",
     "text": [
      "\n",
      " 87%|███████████████████████████████████████████████████████████████████████████████████████████████████████████▍               | 516/591 [07:45<01:03,  1.18it/s]\u001b[A"
     ]
    },
    {
     "name": "stdout",
     "output_type": "stream",
     "text": [
      "Error analyzing audio with Gemini: 429 Too Many Requests. {'message': 'Response not read', 'status': 'Too Many Requests'}\n"
     ]
    },
    {
     "name": "stderr",
     "output_type": "stream",
     "text": [
      "\n",
      " 87%|███████████████████████████████████████████████████████████████████████████████████████████████████████████▌               | 517/591 [07:46<01:09,  1.07it/s]\u001b[A"
     ]
    },
    {
     "name": "stdout",
     "output_type": "stream",
     "text": [
      "Error analyzing audio with Gemini: 429 Too Many Requests. {'message': 'Response not read', 'status': 'Too Many Requests'}\n"
     ]
    },
    {
     "name": "stderr",
     "output_type": "stream",
     "text": [
      "\n",
      " 88%|███████████████████████████████████████████████████████████████████████████████████████████████████████████▊               | 518/591 [07:47<01:07,  1.09it/s]\u001b[A"
     ]
    },
    {
     "name": "stdout",
     "output_type": "stream",
     "text": [
      "Error analyzing audio with Gemini: 429 Too Many Requests. {'message': 'Response not read', 'status': 'Too Many Requests'}\n"
     ]
    },
    {
     "name": "stderr",
     "output_type": "stream",
     "text": [
      "\n",
      " 88%|████████████████████████████████████████████████████████████████████████████████████████████████████████████               | 519/591 [07:48<01:05,  1.10it/s]\u001b[A"
     ]
    },
    {
     "name": "stdout",
     "output_type": "stream",
     "text": [
      "Error analyzing audio with Gemini: 429 Too Many Requests. {'message': 'Response not read', 'status': 'Too Many Requests'}\n"
     ]
    },
    {
     "name": "stderr",
     "output_type": "stream",
     "text": [
      "\n",
      " 88%|████████████████████████████████████████████████████████████████████████████████████████████████████████████▏              | 520/591 [07:48<01:04,  1.10it/s]\u001b[A"
     ]
    },
    {
     "name": "stdout",
     "output_type": "stream",
     "text": [
      "Error analyzing audio with Gemini: 429 Too Many Requests. {'message': 'Response not read', 'status': 'Too Many Requests'}\n"
     ]
    },
    {
     "name": "stderr",
     "output_type": "stream",
     "text": [
      "\n",
      " 88%|████████████████████████████████████████████████████████████████████████████████████████████████████████████▍              | 521/591 [07:49<01:05,  1.08it/s]\u001b[A"
     ]
    },
    {
     "name": "stdout",
     "output_type": "stream",
     "text": [
      "Error analyzing audio with Gemini: 429 Too Many Requests. {'message': 'Response not read', 'status': 'Too Many Requests'}\n"
     ]
    },
    {
     "name": "stderr",
     "output_type": "stream",
     "text": [
      "\n",
      " 88%|████████████████████████████████████████████████████████████████████████████████████████████████████████████▋              | 522/591 [07:50<01:04,  1.08it/s]\u001b[A"
     ]
    },
    {
     "name": "stdout",
     "output_type": "stream",
     "text": [
      "Error analyzing audio with Gemini: 429 Too Many Requests. {'message': 'Response not read', 'status': 'Too Many Requests'}\n"
     ]
    },
    {
     "name": "stderr",
     "output_type": "stream",
     "text": [
      "\n",
      " 88%|████████████████████████████████████████████████████████████████████████████████████████████████████████████▊              | 523/591 [07:51<01:00,  1.13it/s]\u001b[A"
     ]
    },
    {
     "name": "stdout",
     "output_type": "stream",
     "text": [
      "Error analyzing audio with Gemini: 429 Too Many Requests. {'message': 'Response not read', 'status': 'Too Many Requests'}\n"
     ]
    },
    {
     "name": "stderr",
     "output_type": "stream",
     "text": [
      "\n",
      " 89%|█████████████████████████████████████████████████████████████████████████████████████████████████████████████              | 524/591 [07:52<00:59,  1.12it/s]\u001b[A"
     ]
    },
    {
     "name": "stdout",
     "output_type": "stream",
     "text": [
      "Error analyzing audio with Gemini: 429 Too Many Requests. {'message': 'Response not read', 'status': 'Too Many Requests'}\n"
     ]
    },
    {
     "name": "stderr",
     "output_type": "stream",
     "text": [
      "\n",
      " 89%|█████████████████████████████████████████████████████████████████████████████████████████████████████████████▎             | 525/591 [07:53<00:57,  1.14it/s]\u001b[A"
     ]
    },
    {
     "name": "stdout",
     "output_type": "stream",
     "text": [
      "Error analyzing audio with Gemini: 429 Too Many Requests. {'message': 'Response not read', 'status': 'Too Many Requests'}\n"
     ]
    },
    {
     "name": "stderr",
     "output_type": "stream",
     "text": [
      "\n",
      " 89%|█████████████████████████████████████████████████████████████████████████████████████████████████████████████▍             | 526/591 [07:54<00:55,  1.17it/s]\u001b[A"
     ]
    },
    {
     "name": "stdout",
     "output_type": "stream",
     "text": [
      "Error analyzing audio with Gemini: 429 Too Many Requests. {'message': 'Response not read', 'status': 'Too Many Requests'}\n"
     ]
    },
    {
     "name": "stderr",
     "output_type": "stream",
     "text": [
      "\n",
      " 89%|█████████████████████████████████████████████████████████████████████████████████████████████████████████████▋             | 527/591 [07:54<00:52,  1.22it/s]\u001b[A"
     ]
    },
    {
     "name": "stdout",
     "output_type": "stream",
     "text": [
      "Error analyzing audio with Gemini: 429 Too Many Requests. {'message': 'Response not read', 'status': 'Too Many Requests'}\n"
     ]
    },
    {
     "name": "stderr",
     "output_type": "stream",
     "text": [
      "\n",
      " 89%|█████████████████████████████████████████████████████████████████████████████████████████████████████████████▉             | 528/591 [07:55<00:50,  1.24it/s]\u001b[A"
     ]
    },
    {
     "name": "stdout",
     "output_type": "stream",
     "text": [
      "Error analyzing audio with Gemini: 429 Too Many Requests. {'message': 'Response not read', 'status': 'Too Many Requests'}\n"
     ]
    },
    {
     "name": "stderr",
     "output_type": "stream",
     "text": [
      "\n",
      " 90%|██████████████████████████████████████████████████████████████████████████████████████████████████████████████             | 529/591 [07:56<00:51,  1.21it/s]\u001b[A"
     ]
    },
    {
     "name": "stdout",
     "output_type": "stream",
     "text": [
      "Error analyzing audio with Gemini: 429 Too Many Requests. {'message': 'Response not read', 'status': 'Too Many Requests'}\n"
     ]
    },
    {
     "name": "stderr",
     "output_type": "stream",
     "text": [
      "\n",
      " 90%|██████████████████████████████████████████████████████████████████████████████████████████████████████████████▎            | 530/591 [07:57<00:50,  1.21it/s]\u001b[A"
     ]
    },
    {
     "name": "stdout",
     "output_type": "stream",
     "text": [
      "Error analyzing audio with Gemini: 429 Too Many Requests. {'message': 'Response not read', 'status': 'Too Many Requests'}\n"
     ]
    },
    {
     "name": "stderr",
     "output_type": "stream",
     "text": [
      "\n",
      " 90%|██████████████████████████████████████████████████████████████████████████████████████████████████████████████▌            | 531/591 [07:58<00:54,  1.09it/s]\u001b[A"
     ]
    },
    {
     "name": "stdout",
     "output_type": "stream",
     "text": [
      "Error analyzing audio with Gemini: 429 Too Many Requests. {'message': 'Response not read', 'status': 'Too Many Requests'}\n"
     ]
    },
    {
     "name": "stderr",
     "output_type": "stream",
     "text": [
      "\n",
      " 90%|██████████████████████████████████████████████████████████████████████████████████████████████████████████████▋            | 532/591 [07:59<00:54,  1.09it/s]\u001b[A"
     ]
    },
    {
     "name": "stdout",
     "output_type": "stream",
     "text": [
      "Error analyzing audio with Gemini: 429 Too Many Requests. {'message': 'Response not read', 'status': 'Too Many Requests'}\n"
     ]
    },
    {
     "name": "stderr",
     "output_type": "stream",
     "text": [
      "\n",
      " 90%|██████████████████████████████████████████████████████████████████████████████████████████████████████████████▉            | 533/591 [08:00<00:53,  1.09it/s]\u001b[A"
     ]
    },
    {
     "name": "stdout",
     "output_type": "stream",
     "text": [
      "Error analyzing audio with Gemini: 429 Too Many Requests. {'message': 'Response not read', 'status': 'Too Many Requests'}\n"
     ]
    },
    {
     "name": "stderr",
     "output_type": "stream",
     "text": [
      "\n",
      " 90%|███████████████████████████████████████████████████████████████████████████████████████████████████████████████▏           | 534/591 [08:01<00:50,  1.14it/s]\u001b[A"
     ]
    },
    {
     "name": "stdout",
     "output_type": "stream",
     "text": [
      "Error analyzing audio with Gemini: 429 Too Many Requests. {'message': 'Response not read', 'status': 'Too Many Requests'}\n"
     ]
    },
    {
     "name": "stderr",
     "output_type": "stream",
     "text": [
      "\n",
      " 91%|███████████████████████████████████████████████████████████████████████████████████████████████████████████████▎           | 535/591 [08:02<00:48,  1.15it/s]\u001b[A"
     ]
    },
    {
     "name": "stdout",
     "output_type": "stream",
     "text": [
      "Error analyzing audio with Gemini: 429 Too Many Requests. {'message': 'Response not read', 'status': 'Too Many Requests'}\n"
     ]
    },
    {
     "name": "stderr",
     "output_type": "stream",
     "text": [
      "\n",
      " 91%|███████████████████████████████████████████████████████████████████████████████████████████████████████████████▌           | 536/591 [08:03<00:50,  1.09it/s]\u001b[A"
     ]
    },
    {
     "name": "stdout",
     "output_type": "stream",
     "text": [
      "Error analyzing audio with Gemini: 429 Too Many Requests. {'message': 'Response not read', 'status': 'Too Many Requests'}\n"
     ]
    },
    {
     "name": "stderr",
     "output_type": "stream",
     "text": [
      "\n",
      " 91%|███████████████████████████████████████████████████████████████████████████████████████████████████████████████▊           | 537/591 [08:03<00:48,  1.10it/s]\u001b[A"
     ]
    },
    {
     "name": "stdout",
     "output_type": "stream",
     "text": [
      "Error analyzing audio with Gemini: 429 Too Many Requests. {'message': 'Response not read', 'status': 'Too Many Requests'}\n"
     ]
    },
    {
     "name": "stderr",
     "output_type": "stream",
     "text": [
      "\n",
      " 91%|███████████████████████████████████████████████████████████████████████████████████████████████████████████████▉           | 538/591 [08:04<00:47,  1.12it/s]\u001b[A"
     ]
    },
    {
     "name": "stdout",
     "output_type": "stream",
     "text": [
      "Error analyzing audio with Gemini: 429 Too Many Requests. {'message': 'Response not read', 'status': 'Too Many Requests'}\n"
     ]
    },
    {
     "name": "stderr",
     "output_type": "stream",
     "text": [
      "\n",
      " 91%|████████████████████████████████████████████████████████████████████████████████████████████████████████████████▏          | 539/591 [08:05<00:46,  1.11it/s]\u001b[A"
     ]
    },
    {
     "name": "stdout",
     "output_type": "stream",
     "text": [
      "Error analyzing audio with Gemini: 429 Too Many Requests. {'message': 'Response not read', 'status': 'Too Many Requests'}\n"
     ]
    },
    {
     "name": "stderr",
     "output_type": "stream",
     "text": [
      "\n",
      " 91%|████████████████████████████████████████████████████████████████████████████████████████████████████████████████▍          | 540/591 [08:06<00:46,  1.10it/s]\u001b[A"
     ]
    },
    {
     "name": "stdout",
     "output_type": "stream",
     "text": [
      "Error analyzing audio with Gemini: 429 Too Many Requests. {'message': 'Response not read', 'status': 'Too Many Requests'}\n"
     ]
    },
    {
     "name": "stderr",
     "output_type": "stream",
     "text": [
      "\n",
      " 92%|████████████████████████████████████████████████████████████████████████████████████████████████████████████████▌          | 541/591 [08:07<00:48,  1.03it/s]\u001b[A"
     ]
    },
    {
     "name": "stdout",
     "output_type": "stream",
     "text": [
      "Error analyzing audio with Gemini: 429 Too Many Requests. {'message': 'Response not read', 'status': 'Too Many Requests'}\n"
     ]
    },
    {
     "name": "stderr",
     "output_type": "stream",
     "text": [
      "\n",
      " 92%|████████████████████████████████████████████████████████████████████████████████████████████████████████████████▊          | 542/591 [08:08<00:44,  1.09it/s]\u001b[A"
     ]
    },
    {
     "name": "stdout",
     "output_type": "stream",
     "text": [
      "Error analyzing audio with Gemini: 429 Too Many Requests. {'message': 'Response not read', 'status': 'Too Many Requests'}\n"
     ]
    },
    {
     "name": "stderr",
     "output_type": "stream",
     "text": [
      "\n",
      " 92%|█████████████████████████████████████████████████████████████████████████████████████████████████████████████████          | 543/591 [08:09<00:42,  1.14it/s]\u001b[A"
     ]
    },
    {
     "name": "stdout",
     "output_type": "stream",
     "text": [
      "Error analyzing audio with Gemini: 429 Too Many Requests. {'message': 'Response not read', 'status': 'Too Many Requests'}\n"
     ]
    },
    {
     "name": "stderr",
     "output_type": "stream",
     "text": [
      "\n",
      " 92%|█████████████████████████████████████████████████████████████████████████████████████████████████████████████████▏         | 544/591 [08:10<00:39,  1.18it/s]\u001b[A"
     ]
    },
    {
     "name": "stdout",
     "output_type": "stream",
     "text": [
      "Error analyzing audio with Gemini: 429 Too Many Requests. {'message': 'Response not read', 'status': 'Too Many Requests'}\n"
     ]
    },
    {
     "name": "stderr",
     "output_type": "stream",
     "text": [
      "\n",
      " 92%|█████████████████████████████████████████████████████████████████████████████████████████████████████████████████▍         | 545/591 [08:11<00:40,  1.14it/s]\u001b[A"
     ]
    },
    {
     "name": "stdout",
     "output_type": "stream",
     "text": [
      "Error analyzing audio with Gemini: 429 Too Many Requests. {'message': 'Response not read', 'status': 'Too Many Requests'}\n"
     ]
    },
    {
     "name": "stderr",
     "output_type": "stream",
     "text": [
      "\n",
      " 92%|█████████████████████████████████████████████████████████████████████████████████████████████████████████████████▋         | 546/591 [08:12<00:41,  1.09it/s]\u001b[A"
     ]
    },
    {
     "name": "stdout",
     "output_type": "stream",
     "text": [
      "Error analyzing audio with Gemini: 429 Too Many Requests. {'message': 'Response not read', 'status': 'Too Many Requests'}\n"
     ]
    },
    {
     "name": "stderr",
     "output_type": "stream",
     "text": [
      "\n",
      " 93%|█████████████████████████████████████████████████████████████████████████████████████████████████████████████████▊         | 547/591 [08:13<00:40,  1.08it/s]\u001b[A"
     ]
    },
    {
     "name": "stdout",
     "output_type": "stream",
     "text": [
      "Error analyzing audio with Gemini: 429 Too Many Requests. {'message': 'Response not read', 'status': 'Too Many Requests'}\n"
     ]
    },
    {
     "name": "stderr",
     "output_type": "stream",
     "text": [
      "\n",
      " 93%|██████████████████████████████████████████████████████████████████████████████████████████████████████████████████         | 548/591 [08:13<00:37,  1.14it/s]\u001b[A"
     ]
    },
    {
     "name": "stdout",
     "output_type": "stream",
     "text": [
      "Error analyzing audio with Gemini: 429 Too Many Requests. {'message': 'Response not read', 'status': 'Too Many Requests'}\n"
     ]
    },
    {
     "name": "stderr",
     "output_type": "stream",
     "text": [
      "\n",
      " 93%|██████████████████████████████████████████████████████████████████████████████████████████████████████████████████▎        | 549/591 [08:14<00:38,  1.09it/s]\u001b[A"
     ]
    },
    {
     "name": "stdout",
     "output_type": "stream",
     "text": [
      "Error analyzing audio with Gemini: 429 Too Many Requests. {'message': 'Response not read', 'status': 'Too Many Requests'}\n"
     ]
    },
    {
     "name": "stderr",
     "output_type": "stream",
     "text": [
      "\n",
      " 93%|██████████████████████████████████████████████████████████████████████████████████████████████████████████████████▍        | 550/591 [08:15<00:39,  1.04it/s]\u001b[A"
     ]
    },
    {
     "name": "stdout",
     "output_type": "stream",
     "text": [
      "Error analyzing audio with Gemini: 429 Too Many Requests. {'message': 'Response not read', 'status': 'Too Many Requests'}\n"
     ]
    },
    {
     "name": "stderr",
     "output_type": "stream",
     "text": [
      "\n",
      " 93%|██████████████████████████████████████████████████████████████████████████████████████████████████████████████████▋        | 551/591 [08:16<00:39,  1.02it/s]\u001b[A"
     ]
    },
    {
     "name": "stdout",
     "output_type": "stream",
     "text": [
      "Error analyzing audio with Gemini: 429 Too Many Requests. {'message': 'Response not read', 'status': 'Too Many Requests'}\n"
     ]
    },
    {
     "name": "stderr",
     "output_type": "stream",
     "text": [
      "\n",
      " 93%|██████████████████████████████████████████████████████████████████████████████████████████████████████████████████▉        | 552/591 [08:17<00:38,  1.00it/s]\u001b[A"
     ]
    },
    {
     "name": "stdout",
     "output_type": "stream",
     "text": [
      "Error analyzing audio with Gemini: 429 Too Many Requests. {'message': 'Response not read', 'status': 'Too Many Requests'}\n"
     ]
    },
    {
     "name": "stderr",
     "output_type": "stream",
     "text": [
      "\n",
      " 94%|███████████████████████████████████████████████████████████████████████████████████████████████████████████████████        | 553/591 [08:18<00:35,  1.06it/s]\u001b[A"
     ]
    },
    {
     "name": "stdout",
     "output_type": "stream",
     "text": [
      "Error analyzing audio with Gemini: 429 Too Many Requests. {'message': 'Response not read', 'status': 'Too Many Requests'}\n"
     ]
    },
    {
     "name": "stderr",
     "output_type": "stream",
     "text": [
      "\n",
      " 94%|███████████████████████████████████████████████████████████████████████████████████████████████████████████████████▎       | 554/591 [08:19<00:34,  1.08it/s]\u001b[A"
     ]
    },
    {
     "name": "stdout",
     "output_type": "stream",
     "text": [
      "Error analyzing audio with Gemini: 429 Too Many Requests. {'message': 'Response not read', 'status': 'Too Many Requests'}\n"
     ]
    },
    {
     "name": "stderr",
     "output_type": "stream",
     "text": [
      "\n",
      " 94%|███████████████████████████████████████████████████████████████████████████████████████████████████████████████████▌       | 555/591 [08:20<00:33,  1.07it/s]\u001b[A"
     ]
    },
    {
     "name": "stdout",
     "output_type": "stream",
     "text": [
      "Error analyzing audio with Gemini: 429 Too Many Requests. {'message': 'Response not read', 'status': 'Too Many Requests'}\n"
     ]
    },
    {
     "name": "stderr",
     "output_type": "stream",
     "text": [
      "\n",
      " 94%|███████████████████████████████████████████████████████████████████████████████████████████████████████████████████▋       | 556/591 [08:21<00:32,  1.07it/s]\u001b[A"
     ]
    },
    {
     "name": "stdout",
     "output_type": "stream",
     "text": [
      "Error analyzing audio with Gemini: 429 Too Many Requests. {'message': 'Response not read', 'status': 'Too Many Requests'}\n"
     ]
    },
    {
     "name": "stderr",
     "output_type": "stream",
     "text": [
      "\n",
      " 94%|███████████████████████████████████████████████████████████████████████████████████████████████████████████████████▉       | 557/591 [08:22<00:31,  1.07it/s]\u001b[A"
     ]
    },
    {
     "name": "stdout",
     "output_type": "stream",
     "text": [
      "Error analyzing audio with Gemini: 429 Too Many Requests. {'message': 'Response not read', 'status': 'Too Many Requests'}\n"
     ]
    },
    {
     "name": "stderr",
     "output_type": "stream",
     "text": [
      "\n",
      " 94%|████████████████████████████████████████████████████████████████████████████████████████████████████████████████████▏      | 558/591 [08:23<00:28,  1.15it/s]\u001b[A"
     ]
    },
    {
     "name": "stdout",
     "output_type": "stream",
     "text": [
      "Error analyzing audio with Gemini: 429 Too Many Requests. {'message': 'Response not read', 'status': 'Too Many Requests'}\n"
     ]
    },
    {
     "name": "stderr",
     "output_type": "stream",
     "text": [
      "\n",
      " 95%|████████████████████████████████████████████████████████████████████████████████████████████████████████████████████▎      | 559/591 [08:24<00:27,  1.17it/s]\u001b[A"
     ]
    },
    {
     "name": "stdout",
     "output_type": "stream",
     "text": [
      "Error analyzing audio with Gemini: 429 Too Many Requests. {'message': 'Response not read', 'status': 'Too Many Requests'}\n"
     ]
    },
    {
     "name": "stderr",
     "output_type": "stream",
     "text": [
      "\n",
      " 95%|████████████████████████████████████████████████████████████████████████████████████████████████████████████████████▌      | 560/591 [08:24<00:26,  1.15it/s]\u001b[A"
     ]
    },
    {
     "name": "stdout",
     "output_type": "stream",
     "text": [
      "Error analyzing audio with Gemini: 429 Too Many Requests. {'message': 'Response not read', 'status': 'Too Many Requests'}\n"
     ]
    },
    {
     "name": "stderr",
     "output_type": "stream",
     "text": [
      "\n",
      " 95%|████████████████████████████████████████████████████████████████████████████████████████████████████████████████████▊      | 561/591 [08:25<00:25,  1.17it/s]\u001b[A"
     ]
    },
    {
     "name": "stdout",
     "output_type": "stream",
     "text": [
      "Error analyzing audio with Gemini: 429 Too Many Requests. {'message': 'Response not read', 'status': 'Too Many Requests'}\n"
     ]
    },
    {
     "name": "stderr",
     "output_type": "stream",
     "text": [
      "\n",
      " 95%|████████████████████████████████████████████████████████████████████████████████████████████████████████████████████▉      | 562/591 [08:26<00:25,  1.15it/s]\u001b[A"
     ]
    },
    {
     "name": "stdout",
     "output_type": "stream",
     "text": [
      "Error analyzing audio with Gemini: 429 Too Many Requests. {'message': 'Response not read', 'status': 'Too Many Requests'}\n"
     ]
    },
    {
     "name": "stderr",
     "output_type": "stream",
     "text": [
      "\n",
      " 95%|█████████████████████████████████████████████████████████████████████████████████████████████████████████████████████▏     | 563/591 [08:27<00:25,  1.10it/s]\u001b[A"
     ]
    },
    {
     "name": "stdout",
     "output_type": "stream",
     "text": [
      "Error analyzing audio with Gemini: 429 Too Many Requests. {'message': 'Response not read', 'status': 'Too Many Requests'}\n"
     ]
    },
    {
     "name": "stderr",
     "output_type": "stream",
     "text": [
      "\n",
      " 95%|█████████████████████████████████████████████████████████████████████████████████████████████████████████████████████▍     | 564/591 [08:28<00:24,  1.08it/s]\u001b[A"
     ]
    },
    {
     "name": "stdout",
     "output_type": "stream",
     "text": [
      "Error analyzing audio with Gemini: 429 Too Many Requests. {'message': 'Response not read', 'status': 'Too Many Requests'}\n"
     ]
    },
    {
     "name": "stderr",
     "output_type": "stream",
     "text": [
      "\n",
      " 96%|█████████████████████████████████████████████████████████████████████████████████████████████████████████████████████▌     | 565/591 [08:29<00:22,  1.13it/s]\u001b[A"
     ]
    },
    {
     "name": "stdout",
     "output_type": "stream",
     "text": [
      "Error analyzing audio with Gemini: 429 Too Many Requests. {'message': 'Response not read', 'status': 'Too Many Requests'}\n"
     ]
    },
    {
     "name": "stderr",
     "output_type": "stream",
     "text": [
      "\n",
      " 96%|█████████████████████████████████████████████████████████████████████████████████████████████████████████████████████▊     | 566/591 [08:30<00:20,  1.20it/s]\u001b[A"
     ]
    },
    {
     "name": "stdout",
     "output_type": "stream",
     "text": [
      "Error analyzing audio with Gemini: 429 Too Many Requests. {'message': 'Response not read', 'status': 'Too Many Requests'}\n"
     ]
    },
    {
     "name": "stderr",
     "output_type": "stream",
     "text": [
      "\n",
      " 96%|██████████████████████████████████████████████████████████████████████████████████████████████████████████████████████     | 567/591 [08:30<00:20,  1.17it/s]\u001b[A"
     ]
    },
    {
     "name": "stdout",
     "output_type": "stream",
     "text": [
      "Error analyzing audio with Gemini: 429 Too Many Requests. {'message': 'Response not read', 'status': 'Too Many Requests'}\n"
     ]
    },
    {
     "name": "stderr",
     "output_type": "stream",
     "text": [
      "\n",
      " 96%|██████████████████████████████████████████████████████████████████████████████████████████████████████████████████████▏    | 568/591 [08:31<00:19,  1.18it/s]\u001b[A"
     ]
    },
    {
     "name": "stdout",
     "output_type": "stream",
     "text": [
      "Error analyzing audio with Gemini: 429 Too Many Requests. {'message': 'Response not read', 'status': 'Too Many Requests'}\n"
     ]
    },
    {
     "name": "stderr",
     "output_type": "stream",
     "text": [
      "\n",
      " 96%|██████████████████████████████████████████████████████████████████████████████████████████████████████████████████████▍    | 569/591 [08:32<00:18,  1.18it/s]\u001b[A"
     ]
    },
    {
     "name": "stdout",
     "output_type": "stream",
     "text": [
      "Error analyzing audio with Gemini: 429 Too Many Requests. {'message': 'Response not read', 'status': 'Too Many Requests'}\n"
     ]
    },
    {
     "name": "stderr",
     "output_type": "stream",
     "text": [
      "\n",
      " 96%|██████████████████████████████████████████████████████████████████████████████████████████████████████████████████████▋    | 570/591 [08:33<00:16,  1.24it/s]\u001b[A"
     ]
    },
    {
     "name": "stdout",
     "output_type": "stream",
     "text": [
      "Error analyzing audio with Gemini: 429 Too Many Requests. {'message': 'Response not read', 'status': 'Too Many Requests'}\n"
     ]
    },
    {
     "name": "stderr",
     "output_type": "stream",
     "text": [
      "\n",
      " 97%|██████████████████████████████████████████████████████████████████████████████████████████████████████████████████████▊    | 571/591 [08:34<00:17,  1.17it/s]\u001b[A"
     ]
    },
    {
     "name": "stdout",
     "output_type": "stream",
     "text": [
      "Error analyzing audio with Gemini: 429 Too Many Requests. {'message': 'Response not read', 'status': 'Too Many Requests'}\n"
     ]
    },
    {
     "name": "stderr",
     "output_type": "stream",
     "text": [
      "\n",
      " 97%|███████████████████████████████████████████████████████████████████████████████████████████████████████████████████████    | 572/591 [08:35<00:16,  1.18it/s]\u001b[A"
     ]
    },
    {
     "name": "stdout",
     "output_type": "stream",
     "text": [
      "Error analyzing audio with Gemini: 429 Too Many Requests. {'message': 'Response not read', 'status': 'Too Many Requests'}\n"
     ]
    },
    {
     "name": "stderr",
     "output_type": "stream",
     "text": [
      "\n",
      " 97%|███████████████████████████████████████████████████████████████████████████████████████████████████████████████████████▎   | 573/591 [08:36<00:15,  1.17it/s]\u001b[A"
     ]
    },
    {
     "name": "stdout",
     "output_type": "stream",
     "text": [
      "Error analyzing audio with Gemini: 429 Too Many Requests. {'message': 'Response not read', 'status': 'Too Many Requests'}\n"
     ]
    },
    {
     "name": "stderr",
     "output_type": "stream",
     "text": [
      "\n",
      " 97%|███████████████████████████████████████████████████████████████████████████████████████████████████████████████████████▍   | 574/591 [08:36<00:14,  1.13it/s]\u001b[A"
     ]
    },
    {
     "name": "stdout",
     "output_type": "stream",
     "text": [
      "Error analyzing audio with Gemini: 429 Too Many Requests. {'message': 'Response not read', 'status': 'Too Many Requests'}\n"
     ]
    },
    {
     "name": "stderr",
     "output_type": "stream",
     "text": [
      "\n",
      " 97%|███████████████████████████████████████████████████████████████████████████████████████████████████████████████████████▋   | 575/591 [08:37<00:14,  1.10it/s]\u001b[A"
     ]
    },
    {
     "name": "stdout",
     "output_type": "stream",
     "text": [
      "Error analyzing audio with Gemini: 429 Too Many Requests. {'message': 'Response not read', 'status': 'Too Many Requests'}\n"
     ]
    },
    {
     "name": "stderr",
     "output_type": "stream",
     "text": [
      "\n",
      " 97%|███████████████████████████████████████████████████████████████████████████████████████████████████████████████████████▉   | 576/591 [08:38<00:13,  1.08it/s]\u001b[A"
     ]
    },
    {
     "name": "stdout",
     "output_type": "stream",
     "text": [
      "Error analyzing audio with Gemini: 429 Too Many Requests. {'message': 'Response not read', 'status': 'Too Many Requests'}\n"
     ]
    },
    {
     "name": "stderr",
     "output_type": "stream",
     "text": [
      "\n",
      " 98%|████████████████████████████████████████████████████████████████████████████████████████████████████████████████████████   | 577/591 [08:39<00:12,  1.13it/s]\u001b[A"
     ]
    },
    {
     "name": "stdout",
     "output_type": "stream",
     "text": [
      "Error analyzing audio with Gemini: 429 Too Many Requests. {'message': 'Response not read', 'status': 'Too Many Requests'}\n"
     ]
    },
    {
     "name": "stderr",
     "output_type": "stream",
     "text": [
      "\n",
      " 98%|████████████████████████████████████████████████████████████████████████████████████████████████████████████████████████▎  | 578/591 [08:40<00:12,  1.07it/s]\u001b[A"
     ]
    },
    {
     "name": "stdout",
     "output_type": "stream",
     "text": [
      "Error analyzing audio with Gemini: 429 Too Many Requests. {'message': 'Response not read', 'status': 'Too Many Requests'}\n"
     ]
    },
    {
     "name": "stderr",
     "output_type": "stream",
     "text": [
      "\n",
      " 98%|████████████████████████████████████████████████████████████████████████████████████████████████████████████████████████▌  | 579/591 [08:41<00:11,  1.04it/s]\u001b[A"
     ]
    },
    {
     "name": "stdout",
     "output_type": "stream",
     "text": [
      "Error analyzing audio with Gemini: 429 Too Many Requests. {'message': 'Response not read', 'status': 'Too Many Requests'}\n"
     ]
    },
    {
     "name": "stderr",
     "output_type": "stream",
     "text": [
      "\n",
      " 98%|████████████████████████████████████████████████████████████████████████████████████████████████████████████████████████▋  | 580/591 [08:42<00:09,  1.11it/s]\u001b[A"
     ]
    },
    {
     "name": "stdout",
     "output_type": "stream",
     "text": [
      "Error analyzing audio with Gemini: 429 Too Many Requests. {'message': 'Response not read', 'status': 'Too Many Requests'}\n"
     ]
    },
    {
     "name": "stderr",
     "output_type": "stream",
     "text": [
      "\n",
      " 98%|████████████████████████████████████████████████████████████████████████████████████████████████████████████████████████▉  | 581/591 [08:43<00:08,  1.12it/s]\u001b[A"
     ]
    },
    {
     "name": "stdout",
     "output_type": "stream",
     "text": [
      "Error analyzing audio with Gemini: 429 Too Many Requests. {'message': 'Response not read', 'status': 'Too Many Requests'}\n"
     ]
    },
    {
     "name": "stderr",
     "output_type": "stream",
     "text": [
      "\n",
      " 98%|█████████████████████████████████████████████████████████████████████████████████████████████████████████████████████████▏ | 582/591 [08:44<00:07,  1.18it/s]\u001b[A"
     ]
    },
    {
     "name": "stdout",
     "output_type": "stream",
     "text": [
      "Error analyzing audio with Gemini: 429 Too Many Requests. {'message': 'Response not read', 'status': 'Too Many Requests'}\n"
     ]
    },
    {
     "name": "stderr",
     "output_type": "stream",
     "text": [
      "\n",
      " 99%|█████████████████████████████████████████████████████████████████████████████████████████████████████████████████████████▎ | 583/591 [08:44<00:06,  1.21it/s]\u001b[A"
     ]
    },
    {
     "name": "stdout",
     "output_type": "stream",
     "text": [
      "Error analyzing audio with Gemini: 429 Too Many Requests. {'message': 'Response not read', 'status': 'Too Many Requests'}\n"
     ]
    },
    {
     "name": "stderr",
     "output_type": "stream",
     "text": [
      "\n",
      " 99%|█████████████████████████████████████████████████████████████████████████████████████████████████████████████████████████▌ | 584/591 [08:45<00:06,  1.16it/s]\u001b[A"
     ]
    },
    {
     "name": "stdout",
     "output_type": "stream",
     "text": [
      "Error analyzing audio with Gemini: 429 Too Many Requests. {'message': 'Response not read', 'status': 'Too Many Requests'}\n"
     ]
    },
    {
     "name": "stderr",
     "output_type": "stream",
     "text": [
      "\n",
      " 99%|█████████████████████████████████████████████████████████████████████████████████████████████████████████████████████████▊ | 585/591 [08:47<00:05,  1.06it/s]\u001b[A"
     ]
    },
    {
     "name": "stdout",
     "output_type": "stream",
     "text": [
      "Error analyzing audio with Gemini: 429 Too Many Requests. {'message': 'Response not read', 'status': 'Too Many Requests'}\n"
     ]
    },
    {
     "name": "stderr",
     "output_type": "stream",
     "text": [
      "\n",
      " 99%|█████████████████████████████████████████████████████████████████████████████████████████████████████████████████████████▉ | 586/591 [08:47<00:04,  1.12it/s]\u001b[A"
     ]
    },
    {
     "name": "stdout",
     "output_type": "stream",
     "text": [
      "Error analyzing audio with Gemini: 429 Too Many Requests. {'message': 'Response not read', 'status': 'Too Many Requests'}\n"
     ]
    },
    {
     "name": "stderr",
     "output_type": "stream",
     "text": [
      "\n",
      " 99%|██████████████████████████████████████████████████████████████████████████████████████████████████████████████████████████▏| 587/591 [08:48<00:03,  1.10it/s]\u001b[A"
     ]
    },
    {
     "name": "stdout",
     "output_type": "stream",
     "text": [
      "Error analyzing audio with Gemini: 429 Too Many Requests. {'message': 'Response not read', 'status': 'Too Many Requests'}\n"
     ]
    },
    {
     "name": "stderr",
     "output_type": "stream",
     "text": [
      "\n",
      " 99%|██████████████████████████████████████████████████████████████████████████████████████████████████████████████████████████▍| 588/591 [08:49<00:02,  1.13it/s]\u001b[A"
     ]
    },
    {
     "name": "stdout",
     "output_type": "stream",
     "text": [
      "Error analyzing audio with Gemini: 429 Too Many Requests. {'message': 'Response not read', 'status': 'Too Many Requests'}\n"
     ]
    },
    {
     "name": "stderr",
     "output_type": "stream",
     "text": [
      "\n",
      "100%|██████████████████████████████████████████████████████████████████████████████████████████████████████████████████████████▌| 589/591 [08:50<00:01,  1.16it/s]\u001b[A"
     ]
    },
    {
     "name": "stdout",
     "output_type": "stream",
     "text": [
      "Error analyzing audio with Gemini: 429 Too Many Requests. {'message': 'Response not read', 'status': 'Too Many Requests'}\n"
     ]
    },
    {
     "name": "stderr",
     "output_type": "stream",
     "text": [
      "\n",
      "100%|██████████████████████████████████████████████████████████████████████████████████████████████████████████████████████████▊| 590/591 [08:51<00:00,  1.22it/s]\u001b[A"
     ]
    },
    {
     "name": "stdout",
     "output_type": "stream",
     "text": [
      "Error analyzing audio with Gemini: 429 Too Many Requests. {'message': 'Response not read', 'status': 'Too Many Requests'}\n"
     ]
    },
    {
     "name": "stderr",
     "output_type": "stream",
     "text": [
      "\n",
      "100%|███████████████████████████████████████████████████████████████████████████████████████████████████████████████████████████| 591/591 [08:52<00:00,  1.11it/s]\u001b[A\n",
      "100%|██████████████████████████████████████████████████████████████████████████████████████████████████████████████████████████████| 1/1 [08:53<00:00, 533.40s/it]"
     ]
    },
    {
     "name": "stdout",
     "output_type": "stream",
     "text": [
      "Error analyzing audio with Gemini: 429 Too Many Requests. {'message': 'Response not read', 'status': 'Too Many Requests'}\n"
     ]
    },
    {
     "name": "stderr",
     "output_type": "stream",
     "text": [
      "\n"
     ]
    }
   ],
   "source": [
    "for current_file in tqdm(mp3_file_paths[1:2]):\n",
    "\n",
    "    current_model = 'gemini-2.5-pro-preview-03-25'\n",
    "    current_outname = current_file[:-4] + '_laughter_1.49sec_' + current_model + '.csv'\n",
    "\n",
    "    #if os.path.isfile(current_outname):\n",
    "    #    # File exists\n",
    "    #    print(f\"The file '{current_outname}' exists. Skipping\")\n",
    "    #else:\n",
    "        # File does not exist\n",
    "    print(f\"The file '{current_outname}' does not exist.\")\n",
    "    df2 = chop_and_execute(current_file, segment_duration=1.49, model = current_model) \n",
    "    df2.to_csv(current_outname)\n",
    "        #break\n"
   ]
  },
  {
   "cell_type": "code",
   "execution_count": 14,
   "id": "5eaa17c5-f1c4-4785-9dbe-678ed1333f39",
   "metadata": {},
   "outputs": [
    {
     "name": "stdout",
     "output_type": "stream",
     "text": [
      "48\n"
     ]
    },
    {
     "data": {
      "text/plain": [
       "['/Volumes/T7 Shield/friends/stimuli/s2/friends_s02e01a.mp3',\n",
       " '/Volumes/T7 Shield/friends/stimuli/s2/friends_s02e01b.mp3',\n",
       " '/Volumes/T7 Shield/friends/stimuli/s2/friends_s02e02a.mp3']"
      ]
     },
     "execution_count": 14,
     "metadata": {},
     "output_type": "execute_result"
    }
   ],
   "source": [
    "folder_to_search = \"/Volumes/T7 Shield/friends/stimuli/s2\" #replace with your folder path.\n",
    "mp3_file_paths = find_mp3_files(folder_to_search)\n",
    "mp3_file_paths.sort()\n",
    "print(len(mp3_file_paths))\n",
    "mp3_file_paths[:3]"
   ]
  },
  {
   "cell_type": "code",
   "execution_count": 25,
   "id": "f1935db0-8c6e-4b7c-9171-88617aafc33d",
   "metadata": {},
   "outputs": [],
   "source": [
    "mp3_file_paths = ['/Volumes/T7 Shield/friends/stimuli/s2/friends_s02e17a.mp3']"
   ]
  },
  {
   "cell_type": "code",
   "execution_count": 26,
   "id": "e01ff8e1-f85f-4987-8955-f052d62ee46e",
   "metadata": {},
   "outputs": [
    {
     "name": "stderr",
     "output_type": "stream",
     "text": [
      "  0%|                                                     | 0/1 [00:00<?, ?it/s]"
     ]
    },
    {
     "name": "stdout",
     "output_type": "stream",
     "text": [
      "The file '/Volumes/T7 Shield/friends/stimuli/s2/friends_s02e17a_laughter_1.49sec_gemini-2.0-flash.csv' does not exist.\n"
     ]
    },
    {
     "name": "stderr",
     "output_type": "stream",
     "text": [
      "\n",
      "  0%|                                                   | 0/489 [00:00<?, ?it/s]\u001b[A\n",
      "  0%|                                           | 1/489 [00:01<11:52,  1.46s/it]\u001b[A\n",
      "  0%|▏                                          | 2/489 [00:03<13:11,  1.63s/it]\u001b[A\n",
      "  1%|▎                                          | 3/489 [00:04<12:04,  1.49s/it]\u001b[A\n",
      "  1%|▎                                          | 4/489 [00:06<12:10,  1.51s/it]\u001b[A\n",
      "  1%|▍                                          | 5/489 [00:07<12:51,  1.59s/it]\u001b[A\n",
      "  1%|▌                                          | 6/489 [00:09<13:13,  1.64s/it]\u001b[A\n",
      "  1%|▌                                          | 7/489 [00:11<13:13,  1.65s/it]\u001b[A\n",
      "  2%|▋                                          | 8/489 [00:12<12:52,  1.61s/it]\u001b[A\n",
      "  2%|▊                                          | 9/489 [00:14<13:11,  1.65s/it]\u001b[A\n",
      "  2%|▊                                         | 10/489 [00:16<12:59,  1.63s/it]\u001b[A\n",
      "  2%|▉                                         | 11/489 [00:17<12:08,  1.52s/it]\u001b[A\n",
      "  2%|█                                         | 12/489 [00:18<12:17,  1.55s/it]\u001b[A\n",
      "  3%|█                                         | 13/489 [00:20<12:06,  1.53s/it]\u001b[A\n",
      "  3%|█▏                                        | 14/489 [00:21<11:40,  1.48s/it]\u001b[A\n",
      "  3%|█▎                                        | 15/489 [00:23<11:52,  1.50s/it]\u001b[A\n",
      "  3%|█▎                                        | 16/489 [00:24<11:42,  1.48s/it]\u001b[A\n",
      "  3%|█▍                                        | 17/489 [00:26<11:53,  1.51s/it]\u001b[A\n",
      "  4%|█▌                                        | 18/489 [00:28<12:53,  1.64s/it]\u001b[A\n",
      "  4%|█▋                                        | 19/489 [00:29<12:57,  1.65s/it]\u001b[A\n",
      "  4%|█▋                                        | 20/489 [00:31<12:30,  1.60s/it]\u001b[A\n",
      "  4%|█▊                                        | 21/489 [00:32<12:13,  1.57s/it]\u001b[A\n",
      "  4%|█▉                                        | 22/489 [00:34<12:01,  1.55s/it]\u001b[A\n",
      "  5%|█▉                                        | 23/489 [00:35<11:59,  1.55s/it]\u001b[A\n",
      "  5%|██                                        | 24/489 [00:37<12:30,  1.61s/it]\u001b[A\n",
      "  5%|██▏                                       | 25/489 [00:39<12:16,  1.59s/it]\u001b[A\n",
      "  5%|██▏                                       | 26/489 [00:41<12:44,  1.65s/it]\u001b[A\n",
      "  6%|██▎                                       | 27/489 [00:42<12:05,  1.57s/it]\u001b[A\n",
      "  6%|██▍                                       | 28/489 [00:43<11:40,  1.52s/it]\u001b[A\n",
      "  6%|██▍                                       | 29/489 [00:45<11:32,  1.51s/it]\u001b[A\n",
      "  6%|██▌                                       | 30/489 [00:46<11:13,  1.47s/it]\u001b[A\n",
      "  6%|██▋                                       | 31/489 [00:48<11:15,  1.48s/it]\u001b[A\n",
      "  7%|██▋                                       | 32/489 [00:49<11:27,  1.50s/it]\u001b[A\n",
      "  7%|██▊                                       | 33/489 [00:51<11:45,  1.55s/it]\u001b[A\n",
      "  7%|██▉                                       | 34/489 [00:55<18:18,  2.41s/it]\u001b[A\n",
      "  7%|███                                       | 35/489 [00:57<17:08,  2.26s/it]\u001b[A\n",
      "  7%|███                                       | 36/489 [00:59<15:25,  2.04s/it]\u001b[A\n",
      "  8%|███▏                                      | 37/489 [01:00<13:54,  1.85s/it]\u001b[A\n",
      "  8%|███▎                                      | 38/489 [01:02<13:13,  1.76s/it]\u001b[A\n",
      "  8%|███▎                                      | 39/489 [01:03<12:27,  1.66s/it]\u001b[A\n",
      "  8%|███▍                                      | 40/489 [01:05<12:45,  1.71s/it]\u001b[A\n",
      "  8%|███▌                                      | 41/489 [01:06<12:07,  1.62s/it]\u001b[A\n",
      "  9%|███▌                                      | 42/489 [01:08<11:45,  1.58s/it]\u001b[A\n",
      "  9%|███▋                                      | 43/489 [01:09<11:17,  1.52s/it]\u001b[A\n",
      "  9%|███▊                                      | 44/489 [01:11<11:09,  1.50s/it]\u001b[A\n",
      "  9%|███▊                                      | 45/489 [01:12<11:10,  1.51s/it]\u001b[A\n",
      "  9%|███▉                                      | 46/489 [01:14<10:56,  1.48s/it]\u001b[A\n",
      " 10%|████                                      | 47/489 [01:16<11:39,  1.58s/it]\u001b[A\n",
      " 10%|████                                      | 48/489 [01:17<11:12,  1.53s/it]\u001b[A\n",
      " 10%|████▏                                     | 49/489 [01:19<11:32,  1.57s/it]\u001b[A\n",
      " 10%|████▎                                     | 50/489 [01:21<12:18,  1.68s/it]\u001b[A\n",
      " 10%|████▍                                     | 51/489 [01:22<12:17,  1.68s/it]\u001b[A\n",
      " 11%|████▍                                     | 52/489 [01:24<12:16,  1.69s/it]\u001b[A\n",
      " 11%|████▌                                     | 53/489 [01:25<11:55,  1.64s/it]\u001b[A\n",
      " 11%|████▋                                     | 54/489 [01:27<11:53,  1.64s/it]\u001b[A\n",
      " 11%|████▋                                     | 55/489 [01:29<11:42,  1.62s/it]\u001b[A\n",
      " 11%|████▊                                     | 56/489 [01:30<11:26,  1.59s/it]\u001b[A\n",
      " 12%|████▉                                     | 57/489 [01:32<11:57,  1.66s/it]\u001b[A\n",
      " 12%|████▉                                     | 58/489 [01:33<11:26,  1.59s/it]\u001b[A\n",
      " 12%|█████                                     | 59/489 [01:36<13:30,  1.89s/it]\u001b[A\n",
      " 12%|█████▏                                    | 60/489 [01:38<12:57,  1.81s/it]\u001b[A\n",
      " 12%|█████▏                                    | 61/489 [01:39<12:18,  1.73s/it]\u001b[A\n",
      " 13%|█████▎                                    | 62/489 [01:41<13:07,  1.84s/it]\u001b[A\n",
      " 13%|█████▍                                    | 63/489 [01:43<12:34,  1.77s/it]\u001b[A\n",
      " 13%|█████▍                                    | 64/489 [01:45<12:27,  1.76s/it]\u001b[A\n",
      " 13%|█████▌                                    | 65/489 [01:46<11:24,  1.62s/it]\u001b[A\n",
      " 13%|█████▋                                    | 66/489 [01:47<11:17,  1.60s/it]\u001b[A\n",
      " 14%|█████▊                                    | 67/489 [01:49<11:21,  1.62s/it]\u001b[A\n",
      " 14%|█████▊                                    | 68/489 [01:51<11:21,  1.62s/it]\u001b[A\n",
      " 14%|█████▉                                    | 69/489 [01:52<11:36,  1.66s/it]\u001b[A\n",
      " 14%|██████                                    | 70/489 [01:54<11:38,  1.67s/it]\u001b[A\n",
      " 15%|██████                                    | 71/489 [01:56<11:16,  1.62s/it]\u001b[A\n",
      " 15%|██████▏                                   | 72/489 [01:57<11:13,  1.61s/it]\u001b[A\n",
      " 15%|██████▎                                   | 73/489 [01:59<11:14,  1.62s/it]\u001b[A\n",
      " 15%|██████▎                                   | 74/489 [02:01<11:14,  1.63s/it]\u001b[A\n",
      " 15%|██████▍                                   | 75/489 [02:02<11:28,  1.66s/it]\u001b[A\n",
      " 16%|██████▌                                   | 76/489 [02:04<11:23,  1.65s/it]\u001b[A\n",
      " 16%|██████▌                                   | 77/489 [02:06<11:19,  1.65s/it]\u001b[A\n",
      " 16%|██████▋                                   | 78/489 [02:07<11:34,  1.69s/it]\u001b[A\n",
      " 16%|██████▊                                   | 79/489 [02:09<11:09,  1.63s/it]\u001b[A\n",
      " 16%|██████▊                                   | 80/489 [02:11<11:31,  1.69s/it]\u001b[A\n",
      " 17%|██████▉                                   | 81/489 [02:12<11:24,  1.68s/it]\u001b[A\n",
      " 17%|███████                                   | 82/489 [02:14<10:41,  1.58s/it]\u001b[A\n",
      " 17%|███████▏                                  | 83/489 [02:15<10:47,  1.59s/it]\u001b[A\n",
      " 17%|███████▏                                  | 84/489 [02:17<11:02,  1.64s/it]\u001b[A\n",
      " 17%|███████▎                                  | 85/489 [02:19<10:50,  1.61s/it]\u001b[A\n",
      " 18%|███████▍                                  | 86/489 [02:20<10:51,  1.62s/it]\u001b[A\n",
      " 18%|███████▍                                  | 87/489 [02:22<11:17,  1.68s/it]\u001b[A\n",
      " 18%|███████▌                                  | 88/489 [02:24<11:12,  1.68s/it]\u001b[A\n",
      " 18%|███████▋                                  | 89/489 [02:25<11:10,  1.68s/it]\u001b[A\n",
      " 18%|███████▋                                  | 90/489 [02:27<11:45,  1.77s/it]\u001b[A\n",
      " 19%|███████▊                                  | 91/489 [02:29<11:11,  1.69s/it]\u001b[A\n",
      " 19%|███████▉                                  | 92/489 [02:30<10:40,  1.61s/it]\u001b[A\n",
      " 19%|███████▉                                  | 93/489 [02:32<10:26,  1.58s/it]\u001b[A\n",
      " 19%|████████                                  | 94/489 [02:34<10:39,  1.62s/it]\u001b[A\n",
      " 19%|████████▏                                 | 95/489 [02:35<10:23,  1.58s/it]\u001b[A\n",
      " 20%|████████▏                                 | 96/489 [02:37<10:33,  1.61s/it]\u001b[A\n",
      " 20%|████████▎                                 | 97/489 [02:38<10:25,  1.60s/it]\u001b[A\n",
      " 20%|████████▍                                 | 98/489 [02:40<09:45,  1.50s/it]\u001b[A\n",
      " 20%|████████▌                                 | 99/489 [02:41<09:49,  1.51s/it]\u001b[A\n",
      " 20%|████████▍                                | 100/489 [02:43<09:41,  1.50s/it]\u001b[A\n",
      " 21%|████████▍                                | 101/489 [02:44<09:58,  1.54s/it]\u001b[A\n",
      " 21%|████████▌                                | 102/489 [02:46<10:30,  1.63s/it]\u001b[A\n",
      " 21%|████████▋                                | 103/489 [02:48<10:29,  1.63s/it]\u001b[A\n",
      " 21%|████████▋                                | 104/489 [02:49<10:29,  1.63s/it]\u001b[A\n",
      " 21%|████████▊                                | 105/489 [02:51<10:27,  1.63s/it]\u001b[A\n",
      " 22%|████████▉                                | 106/489 [02:52<09:54,  1.55s/it]\u001b[A\n",
      " 22%|████████▉                                | 107/489 [02:54<10:46,  1.69s/it]\u001b[A\n",
      " 22%|█████████                                | 108/489 [02:56<10:15,  1.61s/it]\u001b[A\n",
      " 22%|█████████▏                               | 109/489 [02:58<10:28,  1.65s/it]\u001b[A\n",
      " 22%|█████████▏                               | 110/489 [02:59<10:25,  1.65s/it]\u001b[A\n",
      " 23%|█████████▎                               | 111/489 [03:00<09:47,  1.55s/it]\u001b[A\n",
      " 23%|█████████▍                               | 112/489 [03:02<10:06,  1.61s/it]\u001b[A\n",
      " 23%|█████████▍                               | 113/489 [03:04<10:08,  1.62s/it]\u001b[A\n",
      " 23%|█████████▌                               | 114/489 [03:05<10:09,  1.62s/it]\u001b[A\n",
      " 24%|█████████▋                               | 115/489 [03:07<09:57,  1.60s/it]\u001b[A\n",
      " 24%|█████████▋                               | 116/489 [03:08<09:40,  1.56s/it]\u001b[A\n",
      " 24%|█████████▊                               | 117/489 [03:10<09:42,  1.56s/it]\u001b[A\n",
      " 24%|█████████▉                               | 118/489 [03:12<09:48,  1.59s/it]\u001b[A\n",
      " 24%|█████████▉                               | 119/489 [03:13<09:47,  1.59s/it]\u001b[A\n",
      " 25%|██████████                               | 120/489 [03:15<09:51,  1.60s/it]\u001b[A\n",
      " 25%|██████████▏                              | 121/489 [03:17<10:14,  1.67s/it]\u001b[A\n",
      " 25%|██████████▏                              | 122/489 [03:19<10:21,  1.69s/it]\u001b[A\n",
      " 25%|██████████▎                              | 123/489 [03:20<10:00,  1.64s/it]\u001b[A\n",
      " 25%|██████████▍                              | 124/489 [03:22<09:55,  1.63s/it]\u001b[A\n",
      " 26%|██████████▍                              | 125/489 [03:24<10:26,  1.72s/it]\u001b[A\n",
      " 26%|██████████▌                              | 126/489 [03:25<10:21,  1.71s/it]\u001b[A\n",
      " 26%|██████████▋                              | 127/489 [03:27<09:52,  1.64s/it]\u001b[A\n",
      " 26%|██████████▋                              | 128/489 [03:28<09:36,  1.60s/it]\u001b[A\n",
      " 26%|██████████▊                              | 129/489 [03:30<09:39,  1.61s/it]\u001b[A\n",
      " 27%|██████████▉                              | 130/489 [03:31<09:39,  1.62s/it]\u001b[A\n",
      " 27%|██████████▉                              | 131/489 [03:33<09:53,  1.66s/it]\u001b[A\n",
      " 27%|███████████                              | 132/489 [03:35<10:22,  1.74s/it]\u001b[A\n",
      " 27%|███████████▏                             | 133/489 [03:37<10:08,  1.71s/it]\u001b[A\n",
      " 27%|███████████▏                             | 134/489 [03:38<09:48,  1.66s/it]\u001b[A\n",
      " 28%|███████████▎                             | 135/489 [03:40<09:24,  1.59s/it]\u001b[A\n",
      " 28%|███████████▍                             | 136/489 [03:41<09:04,  1.54s/it]\u001b[A\n",
      " 28%|███████████▍                             | 137/489 [03:43<09:14,  1.58s/it]\u001b[A\n",
      " 28%|███████████▌                             | 138/489 [03:45<09:18,  1.59s/it]\u001b[A\n",
      " 28%|███████████▋                             | 139/489 [03:46<09:18,  1.60s/it]\u001b[A\n",
      " 29%|███████████▋                             | 140/489 [03:48<09:07,  1.57s/it]\u001b[A\n",
      " 29%|███████████▊                             | 141/489 [03:50<09:40,  1.67s/it]\u001b[A\n",
      " 29%|███████████▉                             | 142/489 [03:51<09:22,  1.62s/it]\u001b[A\n",
      " 29%|███████████▉                             | 143/489 [03:53<09:46,  1.69s/it]\u001b[A\n",
      " 29%|████████████                             | 144/489 [03:54<09:12,  1.60s/it]\u001b[A\n",
      " 30%|████████████▏                            | 145/489 [03:56<08:48,  1.54s/it]\u001b[A\n",
      " 30%|████████████▏                            | 146/489 [03:57<08:51,  1.55s/it]\u001b[A\n",
      " 30%|████████████▎                            | 147/489 [03:59<09:04,  1.59s/it]\u001b[A\n",
      " 30%|████████████▍                            | 148/489 [04:01<09:18,  1.64s/it]\u001b[A\n",
      " 30%|████████████▍                            | 149/489 [04:02<09:30,  1.68s/it]\u001b[A\n",
      " 31%|████████████▌                            | 150/489 [04:04<09:14,  1.64s/it]\u001b[A\n",
      " 31%|████████████▋                            | 151/489 [04:06<09:30,  1.69s/it]\u001b[A\n",
      " 31%|████████████▋                            | 152/489 [04:07<09:24,  1.67s/it]\u001b[A\n",
      " 31%|████████████▊                            | 153/489 [04:09<09:24,  1.68s/it]\u001b[A\n",
      " 31%|████████████▉                            | 154/489 [04:11<09:03,  1.62s/it]\u001b[A\n",
      " 32%|████████████▉                            | 155/489 [04:12<08:57,  1.61s/it]\u001b[A\n",
      " 32%|█████████████                            | 156/489 [04:14<09:14,  1.66s/it]\u001b[A\n",
      " 32%|█████████████▏                           | 157/489 [04:16<09:30,  1.72s/it]\u001b[A\n",
      " 32%|█████████████▏                           | 158/489 [04:17<09:20,  1.69s/it]\u001b[A\n",
      " 33%|█████████████▎                           | 159/489 [04:19<09:15,  1.68s/it]\u001b[A\n",
      " 33%|█████████████▍                           | 160/489 [04:21<09:08,  1.67s/it]\u001b[A\n",
      " 33%|█████████████▍                           | 161/489 [04:22<08:52,  1.62s/it]\u001b[A\n",
      " 33%|█████████████▌                           | 162/489 [04:24<09:02,  1.66s/it]\u001b[A\n",
      " 33%|█████████████▋                           | 163/489 [04:26<08:59,  1.65s/it]\u001b[A\n",
      " 34%|█████████████▊                           | 164/489 [04:27<09:06,  1.68s/it]\u001b[A\n",
      " 34%|█████████████▊                           | 165/489 [04:29<08:30,  1.58s/it]\u001b[A\n",
      " 34%|█████████████▉                           | 166/489 [04:30<08:21,  1.55s/it]\u001b[A\n",
      " 34%|██████████████                           | 167/489 [04:32<08:02,  1.50s/it]\u001b[A\n",
      " 34%|██████████████                           | 168/489 [04:33<08:16,  1.55s/it]\u001b[A\n",
      " 35%|██████████████▏                          | 169/489 [04:35<08:12,  1.54s/it]\u001b[A\n",
      " 35%|██████████████▎                          | 170/489 [04:36<07:59,  1.50s/it]\u001b[A\n",
      " 35%|██████████████▎                          | 171/489 [04:38<07:52,  1.49s/it]\u001b[A\n",
      " 35%|██████████████▍                          | 172/489 [04:39<07:58,  1.51s/it]\u001b[A\n",
      " 35%|██████████████▌                          | 173/489 [04:41<08:05,  1.54s/it]\u001b[A\n",
      " 36%|██████████████▌                          | 174/489 [04:44<10:19,  1.97s/it]\u001b[A\n",
      " 36%|██████████████▋                          | 175/489 [04:45<09:28,  1.81s/it]\u001b[A\n",
      " 36%|██████████████▊                          | 176/489 [04:47<09:04,  1.74s/it]\u001b[A\n",
      " 36%|██████████████▊                          | 177/489 [04:49<09:07,  1.75s/it]\u001b[A\n",
      " 36%|██████████████▉                          | 178/489 [04:50<08:45,  1.69s/it]\u001b[A\n",
      " 37%|███████████████                          | 179/489 [04:52<08:29,  1.64s/it]\u001b[A\n",
      " 37%|███████████████                          | 180/489 [04:54<08:48,  1.71s/it]\u001b[A\n",
      " 37%|███████████████▏                         | 181/489 [04:55<08:29,  1.65s/it]\u001b[A\n",
      " 37%|███████████████▎                         | 182/489 [04:57<08:26,  1.65s/it]\u001b[A\n",
      " 37%|███████████████▎                         | 183/489 [04:58<08:13,  1.61s/it]\u001b[A\n",
      " 38%|███████████████▍                         | 184/489 [05:00<08:23,  1.65s/it]\u001b[A\n",
      " 38%|███████████████▌                         | 185/489 [05:02<08:14,  1.63s/it]\u001b[A\n",
      " 38%|███████████████▌                         | 186/489 [05:03<07:51,  1.56s/it]\u001b[A\n",
      " 38%|███████████████▋                         | 187/489 [05:05<07:54,  1.57s/it]\u001b[A\n",
      " 38%|███████████████▊                         | 188/489 [05:06<08:02,  1.60s/it]\u001b[A\n",
      " 39%|███████████████▊                         | 189/489 [05:08<07:46,  1.56s/it]\u001b[A\n",
      " 39%|███████████████▉                         | 190/489 [05:09<08:00,  1.61s/it]\u001b[A\n",
      " 39%|████████████████                         | 191/489 [05:11<08:11,  1.65s/it]\u001b[A\n",
      " 39%|████████████████                         | 192/489 [05:13<07:50,  1.58s/it]\u001b[A\n",
      " 39%|████████████████▏                        | 193/489 [05:14<07:36,  1.54s/it]\u001b[A\n",
      " 40%|████████████████▎                        | 194/489 [05:15<07:26,  1.51s/it]\u001b[A\n",
      " 40%|████████████████▎                        | 195/489 [05:17<07:33,  1.54s/it]\u001b[A\n",
      " 40%|████████████████▍                        | 196/489 [05:19<07:40,  1.57s/it]\u001b[A\n",
      " 40%|████████████████▌                        | 197/489 [05:20<07:53,  1.62s/it]\u001b[A\n",
      " 40%|████████████████▌                        | 198/489 [05:22<08:02,  1.66s/it]\u001b[A\n",
      " 41%|████████████████▋                        | 199/489 [05:24<07:37,  1.58s/it]\u001b[A\n",
      " 41%|████████████████▊                        | 200/489 [05:25<07:37,  1.58s/it]\u001b[A\n",
      " 41%|████████████████▊                        | 201/489 [05:27<07:48,  1.63s/it]\u001b[A\n",
      " 41%|████████████████▉                        | 202/489 [05:29<07:47,  1.63s/it]\u001b[A\n",
      " 42%|█████████████████                        | 203/489 [05:30<07:50,  1.64s/it]\u001b[A\n",
      " 42%|█████████████████                        | 204/489 [05:32<07:53,  1.66s/it]\u001b[A\n",
      " 42%|█████████████████▏                       | 205/489 [05:33<07:37,  1.61s/it]\u001b[A\n",
      " 42%|█████████████████▎                       | 206/489 [05:35<07:33,  1.60s/it]\u001b[A\n",
      " 42%|█████████████████▎                       | 207/489 [05:37<08:01,  1.71s/it]\u001b[A\n",
      " 43%|█████████████████▍                       | 208/489 [05:38<07:35,  1.62s/it]\u001b[A\n",
      " 43%|█████████████████▌                       | 209/489 [05:40<07:34,  1.62s/it]\u001b[A\n",
      " 43%|█████████████████▌                       | 210/489 [05:42<07:32,  1.62s/it]\u001b[A\n",
      " 43%|█████████████████▋                       | 211/489 [05:43<07:20,  1.59s/it]\u001b[A\n",
      " 43%|█████████████████▊                       | 212/489 [05:44<06:48,  1.48s/it]\u001b[A\n",
      " 44%|█████████████████▊                       | 213/489 [05:46<07:06,  1.54s/it]\u001b[A\n",
      " 44%|█████████████████▉                       | 214/489 [05:47<06:48,  1.48s/it]\u001b[A\n",
      " 44%|██████████████████                       | 215/489 [05:50<08:22,  1.83s/it]\u001b[A\n",
      " 44%|██████████████████                       | 216/489 [05:52<08:19,  1.83s/it]\u001b[A\n",
      " 44%|██████████████████▏                      | 217/489 [05:54<08:55,  1.97s/it]\u001b[A\n",
      " 45%|██████████████████▎                      | 218/489 [05:56<08:34,  1.90s/it]\u001b[A\n",
      " 45%|██████████████████▎                      | 219/489 [05:58<09:21,  2.08s/it]\u001b[A\n",
      " 45%|██████████████████▍                      | 220/489 [06:01<10:37,  2.37s/it]\u001b[A\n",
      " 45%|██████████████████▌                      | 221/489 [06:04<10:16,  2.30s/it]\u001b[A\n",
      " 45%|██████████████████▌                      | 222/489 [06:06<10:59,  2.47s/it]\u001b[A\n",
      " 46%|██████████████████▋                      | 223/489 [06:10<11:45,  2.65s/it]\u001b[A\n",
      " 46%|██████████████████▊                      | 224/489 [06:12<11:59,  2.71s/it]\u001b[A\n",
      " 46%|██████████████████▊                      | 225/489 [06:16<13:45,  3.13s/it]\u001b[A\n",
      " 46%|██████████████████▉                      | 226/489 [06:19<12:17,  2.80s/it]\u001b[A\n",
      " 46%|███████████████████                      | 227/489 [06:20<11:04,  2.54s/it]\u001b[A\n",
      " 47%|███████████████████                      | 228/489 [06:22<10:02,  2.31s/it]\u001b[A\n",
      " 47%|███████████████████▏                     | 229/489 [06:24<08:58,  2.07s/it]\u001b[A\n",
      " 47%|███████████████████▎                     | 230/489 [06:25<08:18,  1.93s/it]\u001b[A\n",
      " 47%|███████████████████▎                     | 231/489 [06:27<07:47,  1.81s/it]\u001b[A\n",
      " 47%|███████████████████▍                     | 232/489 [06:29<07:43,  1.80s/it]\u001b[A\n",
      " 48%|███████████████████▌                     | 233/489 [06:30<07:21,  1.72s/it]\u001b[A\n",
      " 48%|███████████████████▌                     | 234/489 [06:32<07:15,  1.71s/it]\u001b[A\n",
      " 48%|███████████████████▋                     | 235/489 [06:33<06:55,  1.63s/it]\u001b[A\n",
      " 48%|███████████████████▊                     | 236/489 [06:35<06:48,  1.61s/it]\u001b[A\n",
      " 48%|███████████████████▊                     | 237/489 [06:36<06:46,  1.61s/it]\u001b[A\n",
      " 49%|███████████████████▉                     | 238/489 [06:38<06:39,  1.59s/it]\u001b[A\n",
      " 49%|████████████████████                     | 239/489 [06:40<06:40,  1.60s/it]\u001b[A\n",
      " 49%|████████████████████                     | 240/489 [06:41<06:32,  1.57s/it]\u001b[A\n",
      " 49%|████████████████████▏                    | 241/489 [06:43<06:29,  1.57s/it]\u001b[A\n",
      " 49%|████████████████████▎                    | 242/489 [06:44<06:27,  1.57s/it]\u001b[A\n",
      " 50%|████████████████████▎                    | 243/489 [06:46<06:35,  1.61s/it]\u001b[A\n",
      " 50%|████████████████████▍                    | 244/489 [06:48<06:29,  1.59s/it]\u001b[A\n",
      " 50%|████████████████████▌                    | 245/489 [06:49<06:42,  1.65s/it]\u001b[A\n",
      " 50%|████████████████████▋                    | 246/489 [06:51<06:30,  1.61s/it]\u001b[A\n",
      " 51%|████████████████████▋                    | 247/489 [06:52<06:12,  1.54s/it]\u001b[A\n",
      " 51%|████████████████████▊                    | 248/489 [06:54<06:25,  1.60s/it]\u001b[A\n",
      " 51%|████████████████████▉                    | 249/489 [06:56<06:28,  1.62s/it]\u001b[A\n",
      " 51%|████████████████████▉                    | 250/489 [06:57<06:14,  1.57s/it]\u001b[A\n",
      " 51%|█████████████████████                    | 251/489 [06:59<06:14,  1.58s/it]\u001b[A\n",
      " 52%|█████████████████████▏                   | 252/489 [07:00<06:10,  1.56s/it]\u001b[A\n",
      " 52%|█████████████████████▏                   | 253/489 [07:02<06:01,  1.53s/it]\u001b[A\n",
      " 52%|█████████████████████▎                   | 254/489 [07:03<05:48,  1.48s/it]\u001b[A\n",
      " 52%|█████████████████████▍                   | 255/489 [07:04<05:39,  1.45s/it]\u001b[A\n",
      " 52%|█████████████████████▍                   | 256/489 [07:06<05:44,  1.48s/it]\u001b[A\n",
      " 53%|█████████████████████▌                   | 257/489 [07:08<06:00,  1.55s/it]\u001b[A\n",
      " 53%|█████████████████████▋                   | 258/489 [07:09<05:50,  1.52s/it]\u001b[A\n",
      " 53%|█████████████████████▋                   | 259/489 [07:11<05:57,  1.55s/it]\u001b[A\n",
      " 53%|█████████████████████▊                   | 260/489 [07:12<05:54,  1.55s/it]\u001b[A\n",
      " 53%|█████████████████████▉                   | 261/489 [07:14<05:48,  1.53s/it]\u001b[A\n",
      " 54%|█████████████████████▉                   | 262/489 [07:16<06:19,  1.67s/it]\u001b[A\n",
      " 54%|██████████████████████                   | 263/489 [07:17<06:15,  1.66s/it]\u001b[A\n",
      " 54%|██████████████████████▏                  | 264/489 [07:19<06:05,  1.62s/it]\u001b[A\n",
      " 54%|██████████████████████▏                  | 265/489 [07:20<05:57,  1.60s/it]\u001b[A\n",
      " 54%|██████████████████████▎                  | 266/489 [07:22<05:52,  1.58s/it]\u001b[A\n",
      " 55%|██████████████████████▍                  | 267/489 [07:24<05:47,  1.57s/it]\u001b[A\n",
      " 55%|██████████████████████▍                  | 268/489 [07:25<05:43,  1.56s/it]\u001b[A\n",
      " 55%|██████████████████████▌                  | 269/489 [07:27<05:47,  1.58s/it]\u001b[A\n",
      " 55%|██████████████████████▋                  | 270/489 [07:28<05:44,  1.57s/it]\u001b[A\n",
      " 55%|██████████████████████▋                  | 271/489 [07:30<05:35,  1.54s/it]\u001b[A\n",
      " 56%|██████████████████████▊                  | 272/489 [07:31<05:28,  1.51s/it]\u001b[A\n",
      " 56%|██████████████████████▉                  | 273/489 [07:33<05:24,  1.50s/it]\u001b[A\n",
      " 56%|██████████████████████▉                  | 274/489 [07:34<05:20,  1.49s/it]\u001b[A\n",
      " 56%|███████████████████████                  | 275/489 [07:36<06:12,  1.74s/it]\u001b[A\n",
      " 56%|███████████████████████▏                 | 276/489 [07:38<05:51,  1.65s/it]\u001b[A\n",
      " 57%|███████████████████████▏                 | 277/489 [07:39<05:39,  1.60s/it]\u001b[A\n",
      " 57%|███████████████████████▎                 | 278/489 [07:41<05:23,  1.53s/it]\u001b[A\n",
      " 57%|███████████████████████▍                 | 279/489 [07:42<05:25,  1.55s/it]\u001b[A\n",
      " 57%|███████████████████████▍                 | 280/489 [07:44<05:06,  1.47s/it]\u001b[A\n",
      " 57%|███████████████████████▌                 | 281/489 [07:45<05:18,  1.53s/it]\u001b[A\n",
      " 58%|███████████████████████▋                 | 282/489 [07:47<05:23,  1.56s/it]\u001b[A\n",
      " 58%|███████████████████████▋                 | 283/489 [07:48<05:20,  1.56s/it]\u001b[A\n",
      " 58%|███████████████████████▊                 | 284/489 [07:50<05:16,  1.54s/it]\u001b[A\n",
      " 58%|███████████████████████▉                 | 285/489 [07:52<05:13,  1.54s/it]\u001b[A\n",
      " 58%|███████████████████████▉                 | 286/489 [07:54<05:42,  1.69s/it]\u001b[A\n",
      " 59%|████████████████████████                 | 287/489 [07:55<05:50,  1.74s/it]\u001b[A\n",
      " 59%|████████████████████████▏                | 288/489 [07:57<05:23,  1.61s/it]\u001b[A\n",
      " 59%|████████████████████████▏                | 289/489 [07:59<06:24,  1.92s/it]\u001b[A\n",
      " 59%|████████████████████████▎                | 290/489 [08:01<06:07,  1.85s/it]\u001b[A\n",
      " 60%|████████████████████████▍                | 291/489 [08:03<05:54,  1.79s/it]\u001b[A\n",
      " 60%|████████████████████████▍                | 292/489 [08:04<05:27,  1.66s/it]\u001b[A\n",
      " 60%|████████████████████████▌                | 293/489 [08:06<05:19,  1.63s/it]\u001b[A\n",
      " 60%|████████████████████████▋                | 294/489 [08:08<05:43,  1.76s/it]\u001b[A\n",
      " 60%|████████████████████████▋                | 295/489 [08:09<05:34,  1.73s/it]\u001b[A\n",
      " 61%|████████████████████████▊                | 296/489 [08:11<05:31,  1.72s/it]\u001b[A\n",
      " 61%|████████████████████████▉                | 297/489 [08:12<05:15,  1.64s/it]\u001b[A\n",
      " 61%|████████████████████████▉                | 298/489 [08:14<05:19,  1.67s/it]\u001b[A\n",
      " 61%|█████████████████████████                | 299/489 [08:16<05:17,  1.67s/it]\u001b[A\n",
      " 61%|█████████████████████████▏               | 300/489 [08:18<05:29,  1.74s/it]\u001b[A\n",
      " 62%|█████████████████████████▏               | 301/489 [08:20<05:27,  1.74s/it]\u001b[A\n",
      " 62%|█████████████████████████▎               | 302/489 [08:21<05:33,  1.79s/it]\u001b[A\n",
      " 62%|█████████████████████████▍               | 303/489 [08:23<05:32,  1.79s/it]\u001b[A\n",
      " 62%|█████████████████████████▍               | 304/489 [08:25<05:10,  1.68s/it]\u001b[A\n",
      " 62%|█████████████████████████▌               | 305/489 [08:26<05:02,  1.64s/it]\u001b[A\n",
      " 63%|█████████████████████████▋               | 306/489 [08:28<05:00,  1.64s/it]\u001b[A\n",
      " 63%|█████████████████████████▋               | 307/489 [08:29<04:52,  1.61s/it]\u001b[A\n",
      " 63%|█████████████████████████▊               | 308/489 [08:31<04:52,  1.62s/it]\u001b[A\n",
      " 63%|█████████████████████████▉               | 309/489 [08:33<04:52,  1.63s/it]\u001b[A\n",
      " 63%|█████████████████████████▉               | 310/489 [08:35<05:02,  1.69s/it]\u001b[A\n",
      " 64%|██████████████████████████               | 311/489 [08:36<05:14,  1.76s/it]\u001b[A\n",
      " 64%|██████████████████████████▏              | 312/489 [08:38<05:07,  1.74s/it]\u001b[A\n",
      " 64%|██████████████████████████▏              | 313/489 [08:40<05:14,  1.79s/it]\u001b[A\n",
      " 64%|██████████████████████████▎              | 314/489 [08:42<05:10,  1.77s/it]\u001b[A\n",
      " 64%|██████████████████████████▍              | 315/489 [08:43<04:59,  1.72s/it]\u001b[A\n",
      " 65%|██████████████████████████▍              | 316/489 [08:45<04:55,  1.71s/it]\u001b[A\n",
      " 65%|██████████████████████████▌              | 317/489 [08:46<04:40,  1.63s/it]\u001b[A\n",
      " 65%|██████████████████████████▋              | 318/489 [08:48<04:33,  1.60s/it]\u001b[A\n",
      " 65%|██████████████████████████▋              | 319/489 [08:50<04:39,  1.64s/it]\u001b[A\n",
      " 65%|██████████████████████████▊              | 320/489 [08:51<04:41,  1.67s/it]\u001b[A\n",
      " 66%|██████████████████████████▉              | 321/489 [08:53<04:39,  1.66s/it]\u001b[A\n",
      " 66%|██████████████████████████▉              | 322/489 [08:55<04:36,  1.66s/it]\u001b[A\n",
      " 66%|███████████████████████████              | 323/489 [08:56<04:23,  1.59s/it]\u001b[A\n",
      " 66%|███████████████████████████▏             | 324/489 [08:58<04:28,  1.63s/it]\u001b[A\n",
      " 66%|███████████████████████████▏             | 325/489 [09:00<04:38,  1.70s/it]\u001b[A\n",
      " 67%|███████████████████████████▎             | 326/489 [09:01<04:32,  1.67s/it]\u001b[A\n",
      " 67%|███████████████████████████▍             | 327/489 [09:03<04:30,  1.67s/it]\u001b[A\n",
      " 67%|███████████████████████████▌             | 328/489 [09:05<04:27,  1.66s/it]\u001b[A\n",
      " 67%|███████████████████████████▌             | 329/489 [09:06<04:29,  1.69s/it]\u001b[A\n",
      " 67%|███████████████████████████▋             | 330/489 [09:08<04:25,  1.67s/it]\u001b[A\n",
      " 68%|███████████████████████████▊             | 331/489 [09:10<04:22,  1.66s/it]\u001b[A\n",
      " 68%|███████████████████████████▊             | 332/489 [09:12<04:32,  1.74s/it]\u001b[A\n",
      " 68%|███████████████████████████▉             | 333/489 [09:13<04:18,  1.66s/it]\u001b[A\n",
      " 68%|████████████████████████████             | 334/489 [09:15<04:16,  1.65s/it]\u001b[A\n",
      " 69%|████████████████████████████             | 335/489 [09:16<04:18,  1.68s/it]\u001b[A\n",
      " 69%|████████████████████████████▏            | 336/489 [09:18<04:10,  1.64s/it]\u001b[A\n",
      " 69%|████████████████████████████▎            | 337/489 [09:20<04:03,  1.61s/it]\u001b[A\n",
      " 69%|████████████████████████████▎            | 338/489 [09:21<04:04,  1.62s/it]\u001b[A\n",
      " 69%|████████████████████████████▍            | 339/489 [09:23<03:58,  1.59s/it]\u001b[A\n",
      " 70%|████████████████████████████▌            | 340/489 [09:24<03:51,  1.55s/it]\u001b[A\n",
      " 70%|████████████████████████████▌            | 341/489 [09:26<03:41,  1.50s/it]\u001b[A\n",
      " 70%|████████████████████████████▋            | 342/489 [09:27<03:44,  1.53s/it]\u001b[A\n",
      " 70%|████████████████████████████▊            | 343/489 [09:29<03:45,  1.54s/it]\u001b[A\n",
      " 70%|████████████████████████████▊            | 344/489 [09:30<03:46,  1.56s/it]\u001b[A\n",
      " 71%|████████████████████████████▉            | 345/489 [09:32<03:54,  1.63s/it]\u001b[A\n",
      " 71%|█████████████████████████████            | 346/489 [09:34<03:49,  1.61s/it]\u001b[A\n",
      " 71%|█████████████████████████████            | 347/489 [09:36<03:59,  1.69s/it]\u001b[A\n",
      " 71%|█████████████████████████████▏           | 348/489 [09:37<03:57,  1.68s/it]\u001b[A\n",
      " 71%|█████████████████████████████▎           | 349/489 [09:39<03:53,  1.67s/it]\u001b[A\n",
      " 72%|█████████████████████████████▎           | 350/489 [09:40<03:42,  1.60s/it]\u001b[A\n",
      " 72%|█████████████████████████████▍           | 351/489 [09:42<03:48,  1.66s/it]\u001b[A\n",
      " 72%|█████████████████████████████▌           | 352/489 [09:44<03:37,  1.58s/it]\u001b[A\n",
      " 72%|█████████████████████████████▌           | 353/489 [09:45<03:35,  1.59s/it]\u001b[A\n",
      " 72%|█████████████████████████████▋           | 354/489 [09:47<03:35,  1.59s/it]\u001b[A\n",
      " 73%|█████████████████████████████▊           | 355/489 [09:48<03:30,  1.57s/it]\u001b[A\n",
      " 73%|█████████████████████████████▊           | 356/489 [09:50<03:31,  1.59s/it]\u001b[A\n",
      " 73%|█████████████████████████████▉           | 357/489 [09:51<03:19,  1.51s/it]\u001b[A\n",
      " 73%|██████████████████████████████           | 358/489 [09:53<03:30,  1.61s/it]\u001b[A\n",
      " 73%|██████████████████████████████           | 359/489 [09:54<03:22,  1.56s/it]\u001b[A\n",
      " 74%|██████████████████████████████▏          | 360/489 [09:56<03:23,  1.58s/it]\u001b[A\n",
      " 74%|██████████████████████████████▎          | 361/489 [09:58<03:17,  1.55s/it]\u001b[A\n",
      " 74%|██████████████████████████████▎          | 362/489 [09:59<03:10,  1.50s/it]\u001b[A\n",
      " 74%|██████████████████████████████▍          | 363/489 [10:01<03:30,  1.67s/it]\u001b[A\n",
      " 74%|██████████████████████████████▌          | 364/489 [10:03<03:24,  1.64s/it]\u001b[A\n",
      " 75%|██████████████████████████████▌          | 365/489 [10:04<03:31,  1.70s/it]\u001b[A\n",
      " 75%|██████████████████████████████▋          | 366/489 [10:06<03:16,  1.60s/it]\u001b[A\n",
      " 75%|██████████████████████████████▊          | 367/489 [10:07<03:13,  1.59s/it]\u001b[A\n",
      " 75%|██████████████████████████████▊          | 368/489 [10:09<03:07,  1.55s/it]\u001b[A\n",
      " 75%|██████████████████████████████▉          | 369/489 [10:10<03:08,  1.57s/it]\u001b[A\n",
      " 76%|███████████████████████████████          | 370/489 [10:12<02:57,  1.49s/it]\u001b[A\n",
      " 76%|███████████████████████████████          | 371/489 [10:13<02:58,  1.51s/it]\u001b[A\n",
      " 76%|███████████████████████████████▏         | 372/489 [10:15<03:01,  1.55s/it]\u001b[A\n",
      " 76%|███████████████████████████████▎         | 373/489 [10:17<03:05,  1.60s/it]\u001b[A\n",
      " 76%|███████████████████████████████▎         | 374/489 [10:18<03:06,  1.62s/it]\u001b[A\n",
      " 77%|███████████████████████████████▍         | 375/489 [10:20<03:01,  1.59s/it]\u001b[A\n",
      " 77%|███████████████████████████████▌         | 376/489 [10:22<03:12,  1.70s/it]\u001b[A\n",
      " 77%|███████████████████████████████▌         | 377/489 [10:23<03:01,  1.62s/it]\u001b[A\n",
      " 77%|███████████████████████████████▋         | 378/489 [10:25<02:57,  1.60s/it]\u001b[A\n",
      " 78%|███████████████████████████████▊         | 379/489 [10:26<02:53,  1.58s/it]\u001b[A\n",
      " 78%|███████████████████████████████▊         | 380/489 [10:28<02:41,  1.48s/it]\u001b[A\n",
      " 78%|███████████████████████████████▉         | 381/489 [10:29<02:43,  1.51s/it]\u001b[A\n",
      " 78%|████████████████████████████████         | 382/489 [10:31<02:40,  1.50s/it]\u001b[A\n",
      " 78%|████████████████████████████████         | 383/489 [10:32<02:35,  1.46s/it]\u001b[A\n",
      " 79%|████████████████████████████████▏        | 384/489 [10:34<02:40,  1.53s/it]\u001b[A\n",
      " 79%|████████████████████████████████▎        | 385/489 [10:36<02:48,  1.62s/it]\u001b[A\n",
      " 79%|████████████████████████████████▎        | 386/489 [10:37<02:39,  1.55s/it]\u001b[A\n",
      " 79%|████████████████████████████████▍        | 387/489 [10:38<02:36,  1.54s/it]\u001b[A\n",
      " 79%|████████████████████████████████▌        | 388/489 [10:40<02:34,  1.53s/it]\u001b[A\n",
      " 80%|████████████████████████████████▌        | 389/489 [10:41<02:30,  1.50s/it]\u001b[A\n",
      " 80%|████████████████████████████████▋        | 390/489 [10:43<02:26,  1.48s/it]\u001b[A\n",
      " 80%|████████████████████████████████▊        | 391/489 [10:44<02:26,  1.50s/it]\u001b[A\n",
      " 80%|████████████████████████████████▊        | 392/489 [10:46<02:29,  1.54s/it]\u001b[A\n",
      " 80%|████████████████████████████████▉        | 393/489 [10:48<02:27,  1.54s/it]\u001b[A\n",
      " 81%|█████████████████████████████████        | 394/489 [10:49<02:34,  1.63s/it]\u001b[A\n",
      " 81%|█████████████████████████████████        | 395/489 [10:51<02:28,  1.58s/it]\u001b[A\n",
      " 81%|█████████████████████████████████▏       | 396/489 [10:52<02:27,  1.59s/it]\u001b[A\n",
      " 81%|█████████████████████████████████▎       | 397/489 [10:54<02:24,  1.57s/it]\u001b[A\n",
      " 81%|█████████████████████████████████▎       | 398/489 [10:56<02:24,  1.59s/it]\u001b[A\n",
      " 82%|█████████████████████████████████▍       | 399/489 [10:57<02:30,  1.67s/it]\u001b[A\n",
      " 82%|█████████████████████████████████▌       | 400/489 [10:59<02:32,  1.72s/it]\u001b[A\n",
      " 82%|█████████████████████████████████▌       | 401/489 [11:01<02:31,  1.72s/it]\u001b[A\n",
      " 82%|█████████████████████████████████▋       | 402/489 [11:03<02:25,  1.67s/it]\u001b[A\n",
      " 82%|█████████████████████████████████▊       | 403/489 [11:04<02:15,  1.57s/it]\u001b[A\n",
      " 83%|█████████████████████████████████▊       | 404/489 [11:05<02:10,  1.53s/it]\u001b[A\n",
      " 83%|█████████████████████████████████▉       | 405/489 [11:07<02:10,  1.56s/it]\u001b[A\n",
      " 83%|██████████████████████████████████       | 406/489 [11:08<02:06,  1.52s/it]\u001b[A\n",
      " 83%|██████████████████████████████████       | 407/489 [11:10<02:08,  1.57s/it]\u001b[A\n",
      " 83%|██████████████████████████████████▏      | 408/489 [11:12<02:06,  1.56s/it]\u001b[A\n",
      " 84%|██████████████████████████████████▎      | 409/489 [11:13<02:03,  1.54s/it]\u001b[A\n",
      " 84%|██████████████████████████████████▍      | 410/489 [11:15<02:01,  1.54s/it]\u001b[A\n",
      " 84%|██████████████████████████████████▍      | 411/489 [11:16<01:57,  1.51s/it]\u001b[A\n",
      " 84%|██████████████████████████████████▌      | 412/489 [11:18<01:55,  1.50s/it]\u001b[A\n",
      " 84%|██████████████████████████████████▋      | 413/489 [11:20<02:09,  1.71s/it]\u001b[A\n",
      " 85%|██████████████████████████████████▋      | 414/489 [11:21<02:06,  1.69s/it]\u001b[A\n",
      " 85%|██████████████████████████████████▊      | 415/489 [11:24<02:17,  1.86s/it]\u001b[A\n",
      " 85%|██████████████████████████████████▉      | 416/489 [11:25<02:09,  1.78s/it]\u001b[A\n",
      " 85%|██████████████████████████████████▉      | 417/489 [11:27<02:04,  1.73s/it]\u001b[A\n",
      " 85%|███████████████████████████████████      | 418/489 [11:28<01:57,  1.66s/it]\u001b[A\n",
      " 86%|███████████████████████████████████▏     | 419/489 [11:30<01:54,  1.63s/it]\u001b[A\n",
      " 86%|███████████████████████████████████▏     | 420/489 [11:32<01:52,  1.63s/it]\u001b[A\n",
      " 86%|███████████████████████████████████▎     | 421/489 [11:33<01:46,  1.56s/it]\u001b[A\n",
      " 86%|███████████████████████████████████▍     | 422/489 [11:34<01:41,  1.52s/it]\u001b[A\n",
      " 87%|███████████████████████████████████▍     | 423/489 [11:36<01:43,  1.57s/it]\u001b[A\n",
      " 87%|███████████████████████████████████▌     | 424/489 [11:38<01:40,  1.54s/it]\u001b[A\n",
      " 87%|███████████████████████████████████▋     | 425/489 [11:39<01:37,  1.53s/it]\u001b[A\n",
      " 87%|███████████████████████████████████▋     | 426/489 [11:41<01:36,  1.53s/it]\u001b[A\n",
      " 87%|███████████████████████████████████▊     | 427/489 [11:42<01:34,  1.52s/it]\u001b[A\n",
      " 88%|███████████████████████████████████▉     | 428/489 [11:44<01:32,  1.52s/it]\u001b[A\n",
      " 88%|███████████████████████████████████▉     | 429/489 [11:45<01:30,  1.51s/it]\u001b[A\n",
      " 88%|████████████████████████████████████     | 430/489 [11:47<01:27,  1.49s/it]\u001b[A\n",
      " 88%|████████████████████████████████████▏    | 431/489 [11:48<01:27,  1.50s/it]\u001b[A\n",
      " 88%|████████████████████████████████████▏    | 432/489 [11:49<01:23,  1.46s/it]\u001b[A\n",
      " 89%|████████████████████████████████████▎    | 433/489 [11:51<01:20,  1.44s/it]\u001b[A\n",
      " 89%|████████████████████████████████████▍    | 434/489 [11:53<01:26,  1.57s/it]\u001b[A\n",
      " 89%|████████████████████████████████████▍    | 435/489 [11:54<01:23,  1.54s/it]\u001b[A\n",
      " 89%|████████████████████████████████████▌    | 436/489 [11:56<01:25,  1.61s/it]\u001b[A\n",
      " 89%|████████████████████████████████████▋    | 437/489 [11:58<01:24,  1.62s/it]\u001b[A\n",
      " 90%|████████████████████████████████████▋    | 438/489 [11:59<01:24,  1.66s/it]\u001b[A\n",
      " 90%|████████████████████████████████████▊    | 439/489 [12:01<01:19,  1.59s/it]\u001b[A\n",
      " 90%|████████████████████████████████████▉    | 440/489 [12:02<01:13,  1.50s/it]\u001b[A\n",
      " 90%|████████████████████████████████████▉    | 441/489 [12:04<01:20,  1.68s/it]\u001b[A\n",
      " 90%|█████████████████████████████████████    | 442/489 [12:06<01:21,  1.73s/it]\u001b[A\n",
      " 91%|█████████████████████████████████████▏   | 443/489 [12:07<01:16,  1.66s/it]\u001b[A\n",
      " 91%|█████████████████████████████████████▏   | 444/489 [12:09<01:14,  1.66s/it]\u001b[A\n",
      " 91%|█████████████████████████████████████▎   | 445/489 [12:11<01:10,  1.59s/it]\u001b[A\n",
      " 91%|█████████████████████████████████████▍   | 446/489 [12:12<01:09,  1.61s/it]\u001b[A\n",
      " 91%|█████████████████████████████████████▍   | 447/489 [12:14<01:15,  1.80s/it]\u001b[A\n",
      " 92%|█████████████████████████████████████▌   | 448/489 [12:16<01:09,  1.69s/it]\u001b[A\n",
      " 92%|█████████████████████████████████████▋   | 449/489 [12:18<01:07,  1.69s/it]\u001b[A\n",
      " 92%|█████████████████████████████████████▋   | 450/489 [12:19<01:05,  1.69s/it]\u001b[A\n",
      " 92%|█████████████████████████████████████▊   | 451/489 [12:21<01:00,  1.59s/it]\u001b[A\n",
      " 92%|█████████████████████████████████████▉   | 452/489 [12:22<00:57,  1.57s/it]\u001b[A\n",
      " 93%|█████████████████████████████████████▉   | 453/489 [12:24<00:56,  1.58s/it]\u001b[A\n",
      " 93%|██████████████████████████████████████   | 454/489 [12:25<00:54,  1.56s/it]\u001b[A\n",
      " 93%|██████████████████████████████████████▏  | 455/489 [12:27<00:54,  1.60s/it]\u001b[A\n",
      " 93%|██████████████████████████████████████▏  | 456/489 [12:29<00:53,  1.61s/it]\u001b[A\n",
      " 93%|██████████████████████████████████████▎  | 457/489 [12:31<00:56,  1.77s/it]\u001b[A\n",
      " 94%|██████████████████████████████████████▍  | 458/489 [12:32<00:52,  1.70s/it]\u001b[A\n",
      " 94%|██████████████████████████████████████▍  | 459/489 [12:35<00:56,  1.90s/it]\u001b[A\n",
      " 94%|██████████████████████████████████████▌  | 460/489 [12:36<00:51,  1.76s/it]\u001b[A\n",
      " 94%|██████████████████████████████████████▋  | 461/489 [12:38<00:48,  1.72s/it]\u001b[A\n",
      " 94%|██████████████████████████████████████▋  | 462/489 [12:40<00:47,  1.75s/it]\u001b[A\n",
      " 95%|██████████████████████████████████████▊  | 463/489 [12:41<00:44,  1.73s/it]\u001b[A\n",
      " 95%|██████████████████████████████████████▉  | 464/489 [12:43<00:44,  1.79s/it]\u001b[A\n",
      " 95%|██████████████████████████████████████▉  | 465/489 [12:45<00:40,  1.68s/it]\u001b[A\n",
      " 95%|███████████████████████████████████████  | 466/489 [12:46<00:37,  1.62s/it]\u001b[A\n",
      " 96%|███████████████████████████████████████▏ | 467/489 [12:48<00:35,  1.61s/it]\u001b[A\n",
      " 96%|███████████████████████████████████████▏ | 468/489 [12:50<00:36,  1.74s/it]\u001b[A\n",
      " 96%|███████████████████████████████████████▎ | 469/489 [12:52<00:35,  1.78s/it]\u001b[A\n",
      " 96%|███████████████████████████████████████▍ | 470/489 [12:53<00:33,  1.75s/it]\u001b[A\n",
      " 96%|███████████████████████████████████████▍ | 471/489 [12:55<00:30,  1.70s/it]\u001b[A\n",
      " 97%|███████████████████████████████████████▌ | 472/489 [12:56<00:27,  1.62s/it]\u001b[A\n",
      " 97%|███████████████████████████████████████▋ | 473/489 [12:58<00:25,  1.58s/it]\u001b[A\n",
      " 97%|███████████████████████████████████████▋ | 474/489 [12:59<00:22,  1.49s/it]\u001b[A\n",
      " 97%|███████████████████████████████████████▊ | 475/489 [13:01<00:21,  1.53s/it]\u001b[A\n",
      " 97%|███████████████████████████████████████▉ | 476/489 [13:02<00:19,  1.53s/it]\u001b[A\n",
      " 98%|███████████████████████████████████████▉ | 477/489 [13:04<00:18,  1.54s/it]\u001b[A\n",
      " 98%|████████████████████████████████████████ | 478/489 [13:05<00:17,  1.60s/it]\u001b[A\n",
      " 98%|████████████████████████████████████████▏| 479/489 [13:07<00:16,  1.60s/it]\u001b[A\n",
      " 98%|████████████████████████████████████████▏| 480/489 [13:09<00:14,  1.56s/it]\u001b[A\n",
      " 98%|████████████████████████████████████████▎| 481/489 [13:10<00:12,  1.61s/it]\u001b[A\n",
      " 99%|████████████████████████████████████████▍| 482/489 [13:13<00:13,  1.89s/it]\u001b[A\n",
      " 99%|████████████████████████████████████████▍| 483/489 [13:14<00:10,  1.79s/it]\u001b[A\n",
      " 99%|████████████████████████████████████████▌| 484/489 [13:16<00:08,  1.74s/it]\u001b[A\n",
      " 99%|████████████████████████████████████████▋| 485/489 [13:18<00:06,  1.72s/it]\u001b[A\n",
      " 99%|████████████████████████████████████████▋| 486/489 [13:19<00:04,  1.63s/it]\u001b[A\n",
      "100%|████████████████████████████████████████▊| 487/489 [13:20<00:03,  1.54s/it]\u001b[A\n",
      "100%|████████████████████████████████████████▉| 488/489 [13:22<00:01,  1.51s/it]\u001b[A\n",
      "100%|█████████████████████████████████████████| 489/489 [13:23<00:00,  1.64s/it]\u001b[A\n",
      "  0%|                                                     | 0/1 [13:25<?, ?it/s]\n"
     ]
    }
   ],
   "source": [
    "for current_file in tqdm(mp3_file_paths):\n",
    "    current_outname = current_file[:-4] + '_laughter_1.49sec_gemini-2.0-flash.csv'\n",
    "\n",
    "    if os.path.isfile(current_outname):\n",
    "        # File exists\n",
    "        print(f\"The file '{current_outname}' exists. Skipping\")\n",
    "    else:\n",
    "        # File does not exist\n",
    "        print(f\"The file '{current_outname}' does not exist.\")\n",
    "        df2 = chop_and_execute(current_file, segment_duration=1.49, model = 'gemini-2.0-flash') \n",
    "        df2.to_csv(current_outname)\n",
    "        break\n"
   ]
  },
  {
   "cell_type": "code",
   "execution_count": null,
   "id": "682e9f30-9ee7-424e-ba68-8eab2dd6354e",
   "metadata": {},
   "outputs": [],
   "source": []
  },
  {
   "cell_type": "code",
   "execution_count": null,
   "id": "4647b8b1-ffc5-4157-9be0-c4817c2d2d65",
   "metadata": {},
   "outputs": [],
   "source": []
  },
  {
   "cell_type": "code",
   "execution_count": null,
   "id": "c332805c-d981-4ca9-9e2a-cc6227a08ab2",
   "metadata": {},
   "outputs": [],
   "source": []
  },
  {
   "cell_type": "code",
   "execution_count": null,
   "id": "eb48bf56-aa53-4b4f-b434-877af6d17254",
   "metadata": {},
   "outputs": [],
   "source": []
  },
  {
   "cell_type": "code",
   "execution_count": null,
   "id": "8b077314-0a4e-40b8-8820-8d06c79679c6",
   "metadata": {},
   "outputs": [],
   "source": []
  },
  {
   "cell_type": "code",
   "execution_count": 98,
   "id": "59c29970-7b93-491d-a1bb-f2008293d044",
   "metadata": {},
   "outputs": [],
   "source": [
    "#mp3_file_path = \"/Users/schmaelz/Desktop/s01.mp3\"  #\n",
    "#\n",
    "#df = chop_and_execute(mp3_file_path, segment_duration=1.49) \n",
    "#df.to_csv('s01_e01_laughter_1.49sec.csv')\n",
    "\n",
    "\n",
    "\n",
    "#import numpy as np\n",
    "\n",
    "#d = np.load('/Users/schmaelz/Documents/01_GITHUB/nomcomm/GITHUB_PAPERS_WORKING/friends/data/00_raw_fmri/season01/task-s01e01a.npy')\n",
    "#d.shape"
   ]
  },
  {
   "cell_type": "code",
   "execution_count": null,
   "id": "b620bf82-13c9-4c32-905b-231ed07ecdcc",
   "metadata": {},
   "outputs": [],
   "source": []
  }
 ],
 "metadata": {
  "kernelspec": {
   "display_name": "Python 3 (ipykernel)",
   "language": "python",
   "name": "python3"
  },
  "language_info": {
   "codemirror_mode": {
    "name": "ipython",
    "version": 3
   },
   "file_extension": ".py",
   "mimetype": "text/x-python",
   "name": "python",
   "nbconvert_exporter": "python",
   "pygments_lexer": "ipython3",
   "version": "3.10.13"
  }
 },
 "nbformat": 4,
 "nbformat_minor": 5
}
